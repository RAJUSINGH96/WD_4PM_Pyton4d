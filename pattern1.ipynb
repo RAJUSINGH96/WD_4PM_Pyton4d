{
 "cells": [
  {
   "cell_type": "code",
   "execution_count": 1,
   "metadata": {},
   "outputs": [
    {
     "name": "stdout",
     "output_type": "stream",
     "text": [
      "1 \n",
      "2 2 \n",
      "3 3 3 \n",
      "4 4 4 4 \n",
      "5 5 5 5 5 \n"
     ]
    }
   ],
   "source": [
    "# 1\n",
    "# 22\n",
    "# 333\n",
    "# 4444\n",
    "# 55555\n",
    "for i in range(1,6):\n",
    "    for j in range(i):\n",
    "        print(i,end=\" \")\n",
    "    print()"
   ]
  },
  {
   "cell_type": "markdown",
   "metadata": {},
   "source": [
    "1\n",
    "3 3\n",
    "5 5 5\n",
    "7 7 7 7\n",
    "9 9 9 9 9 "
   ]
  },
  {
   "cell_type": "code",
   "execution_count": 1,
   "metadata": {},
   "outputs": [
    {
     "name": "stdout",
     "output_type": "stream",
     "text": [
      "1 \n",
      "3 3 \n",
      "5 5 5 \n",
      "7 7 7 7 \n",
      "9 9 9 9 9 \n"
     ]
    }
   ],
   "source": [
    "for i in range(1,10,2):\n",
    "    for j in range(0,i,2):\n",
    "        print(i,end=\" \")\n",
    "    print()\n"
   ]
  },
  {
   "cell_type": "markdown",
   "metadata": {},
   "source": [
    "1\n",
    "2 1\n",
    "3 2 1\n",
    "4 3 2 1\n",
    "5 4 3 2 1"
   ]
  },
  {
   "cell_type": "code",
   "execution_count": 12,
   "metadata": {},
   "outputs": [
    {
     "name": "stdout",
     "output_type": "stream",
     "text": [
      "1 \n",
      "2 1 \n",
      "3 2 1 \n",
      "4 3 2 1 \n",
      "5 4 3 2 1 \n"
     ]
    }
   ],
   "source": [
    "for i in range(1,6):\n",
    "    for j in range(i,0,-1):\n",
    "        print(j,end=\" \")\n",
    "    print()"
   ]
  },
  {
   "cell_type": "markdown",
   "metadata": {},
   "source": [
    "5 4 3 2 1\n",
    "4 3 2 1\n",
    "3 2 1\n",
    "2 1\n",
    "1"
   ]
  },
  {
   "cell_type": "code",
   "execution_count": 18,
   "metadata": {},
   "outputs": [
    {
     "name": "stdout",
     "output_type": "stream",
     "text": [
      "5 4 3 2 1 \n",
      "4 3 2 1 \n",
      "3 2 1 \n",
      "2 1 \n",
      "1 \n"
     ]
    }
   ],
   "source": [
    "for i in range(5,0,-1):\n",
    "    for j in range(i,0,-1):\n",
    "        print(j,end=\" \")\n",
    "    print()"
   ]
  },
  {
   "cell_type": "markdown",
   "metadata": {},
   "source": [
    "5 5 5 5 5\n",
    "4 4 4 4 \n",
    "3 3 3\n",
    "2 2\n",
    "1"
   ]
  },
  {
   "cell_type": "code",
   "execution_count": 4,
   "metadata": {},
   "outputs": [
    {
     "name": "stdout",
     "output_type": "stream",
     "text": [
      "5 5 5 5 5 \n",
      "4 4 4 4 \n",
      "3 3 3 \n",
      "2 2 \n",
      "1 \n"
     ]
    }
   ],
   "source": [
    "for i in range(5,0,-1):\n",
    "    for j in range(i,0,-1):\n",
    "        print(i,end=\" \")\n",
    "    print()"
   ]
  },
  {
   "cell_type": "code",
   "execution_count": 2,
   "metadata": {},
   "outputs": [
    {
     "name": "stdout",
     "output_type": "stream",
     "text": [
      "1 \n",
      "1 2 \n",
      "1 2 3 \n",
      "1 2 3 4 \n",
      "1 2 3 4 5 \n"
     ]
    }
   ],
   "source": [
    "# 1\n",
    "# 12\n",
    "# 123\n",
    "# 1234\n",
    "# 12345\n",
    "for i in range(1,6):\n",
    "    for j in range(i):\n",
    "        print(j+1,end=\" \")\n",
    "    print()"
   ]
  },
  {
   "cell_type": "code",
   "execution_count": 3,
   "metadata": {},
   "outputs": [
    {
     "name": "stdout",
     "output_type": "stream",
     "text": [
      "1 \n",
      "2 3 \n",
      "4 5 6 \n",
      "7 8 9 10 \n",
      "11 12 13 14 15 \n"
     ]
    }
   ],
   "source": [
    "# 1\n",
    "# 2 3\n",
    "# 4 5 6\n",
    "# 7 8 9 10\n",
    "# 11 12 13 14 15\n",
    "x=1\n",
    "y=2\n",
    "for i in range(5):\n",
    "    for j in range(1,y):\n",
    "        print(x,end=\" \")\n",
    "        x+=1\n",
    "    print()\n",
    "    y+=1"
   ]
  },
  {
   "cell_type": "code",
   "execution_count": 1,
   "metadata": {},
   "outputs": [
    {
     "name": "stdout",
     "output_type": "stream",
     "text": [
      "1 \n",
      "2 6 \n",
      "3 7 10 \n",
      "4 8 11 13 \n",
      "5 9 12 14 15 \n"
     ]
    }
   ],
   "source": [
    "# 1\n",
    "# 2 6\n",
    "# 3 7 10\n",
    "# 4 8 11 13\n",
    "# 5 9 12 14 15\n",
    "for i in range(5):\n",
    "    x=i+1\n",
    "    y=4\n",
    "    for j in range(i+1):\n",
    "        print(x,end=\" \")\n",
    "        x=x+y\n",
    "        y=y-1\n",
    "    print(\"\")"
   ]
  },
  {
   "cell_type": "code",
   "execution_count": 9,
   "metadata": {},
   "outputs": [
    {
     "name": "stdout",
     "output_type": "stream",
     "text": [
      "0 \n",
      "1 1 \n",
      "2 2 2 \n",
      "3 3 3 3 \n",
      "4 4 4 4 4 \n"
     ]
    }
   ],
   "source": [
    "for i in range(1,6):\n",
    "    for j in range(i):\n",
    "        print(i-1,end=\" \")\n",
    "    print()"
   ]
  },
  {
   "cell_type": "code",
   "execution_count": 11,
   "metadata": {},
   "outputs": [
    {
     "name": "stdout",
     "output_type": "stream",
     "text": [
      "1 \n",
      "2 2 \n",
      "3 3 3 \n",
      "4 4 4 4 \n",
      "5 5 5 5 5 \n"
     ]
    }
   ],
   "source": [
    "for i in range(1,6):\n",
    "    for j in range(i):\n",
    "        print(i,end=\" \")\n",
    "    print() "
   ]
  },
  {
   "cell_type": "code",
   "execution_count": 4,
   "metadata": {},
   "outputs": [
    {
     "name": "stdout",
     "output_type": "stream",
     "text": [
      "1\n",
      "21\n",
      "321\n",
      "4321\n",
      "54321\n"
     ]
    }
   ],
   "source": [
    "# 1\n",
    "# 21\n",
    "# 321\n",
    "# 4321\n",
    "# 54321\n",
    "for i in range(1,6):\n",
    "    for j in range(i,0,-1):\n",
    "        print(j,end=\"\")\n",
    "    print()"
   ]
  },
  {
   "cell_type": "code",
   "execution_count": 6,
   "metadata": {},
   "outputs": [
    {
     "name": "stdout",
     "output_type": "stream",
     "text": [
      "    1\n",
      "   12\n",
      "  123\n",
      " 1234\n",
      "12345\n"
     ]
    }
   ],
   "source": [
    "#     1\n",
    "#    12\n",
    "#   123\n",
    "#  1234\n",
    "# 12345\n",
    "for i in range(1,6):\n",
    "    for j in range(i,5):\n",
    "        print(\" \",end=\"\")\n",
    "    for k in range(i):\n",
    "        print(k+1,end=\"\")\n",
    "    print()"
   ]
  },
  {
   "cell_type": "code",
   "execution_count": 7,
   "metadata": {},
   "outputs": [
    {
     "name": "stdout",
     "output_type": "stream",
     "text": [
      "54321\n",
      "4321\n",
      "321\n",
      "21\n",
      "1\n"
     ]
    }
   ],
   "source": [
    "# 54321\n",
    "# 4321\n",
    "# 321\n",
    "# 21\n",
    "# 1\n",
    "for i in range(1,6):\n",
    "    for j in range(6-i,0,-1):\n",
    "        print(j,end=\"\")\n",
    "    print()"
   ]
  },
  {
   "cell_type": "code",
   "execution_count": 9,
   "metadata": {},
   "outputs": [
    {
     "name": "stdout",
     "output_type": "stream",
     "text": [
      " 12345\n",
      "  1234\n",
      "   123\n",
      "    12\n",
      "     1\n"
     ]
    }
   ],
   "source": [
    "# 12345\n",
    "#  1234\n",
    "#   123\n",
    "#    12\n",
    "#     1\n",
    "for i in range(1,6):\n",
    "    for k in range(i):\n",
    "        print(\" \",end=\"\")\n",
    "    for j in range(1,7-i):\n",
    "        print(j,end=\"\")\n",
    "    print()"
   ]
  },
  {
   "cell_type": "markdown",
   "metadata": {},
   "source": [
    "1\n",
    "32\n",
    "654\n",
    "10987"
   ]
  },
  {
   "cell_type": "code",
   "execution_count": null,
   "metadata": {},
   "outputs": [],
   "source": [
    "for i in range(1,5):\n",
    "    for j in range():"
   ]
  },
  {
   "cell_type": "code",
   "execution_count": 10,
   "metadata": {},
   "outputs": [
    {
     "name": "stdout",
     "output_type": "stream",
     "text": [
      "5\n",
      "45\n",
      "345\n",
      "2345\n",
      "12345\n"
     ]
    }
   ],
   "source": [
    "# 5\n",
    "# 45\n",
    "# 345\n",
    "# 2345\n",
    "# 12345\n",
    "for i in range(1,6):\n",
    "    for j in range(6-i,6):\n",
    "        print(j,end=\"\")\n",
    "    print()"
   ]
  },
  {
   "cell_type": "code",
   "execution_count": 11,
   "metadata": {},
   "outputs": [
    {
     "name": "stdout",
     "output_type": "stream",
     "text": [
      "12345\n",
      "2345\n",
      "345\n",
      "45\n",
      "5\n",
      "\n"
     ]
    }
   ],
   "source": [
    "# 12345\n",
    "# 2345\n",
    "# 345\n",
    "# 45\n",
    "# 5\n",
    "for i in range(0,6):\n",
    "    for j in range(i+1,6):\n",
    "        print(j,end=\"\")\n",
    "    print()"
   ]
  },
  {
   "cell_type": "code",
   "execution_count": 12,
   "metadata": {},
   "outputs": [
    {
     "name": "stdout",
     "output_type": "stream",
     "text": [
      "54321\n",
      " 5432\n",
      "  543\n",
      "   54\n",
      "    5\n",
      "     \n"
     ]
    }
   ],
   "source": [
    "# 54321\n",
    "#  5432\n",
    "#   543\n",
    "#    54\n",
    "#     5\n",
    "for i in range(0,6):\n",
    "    for k in range(i):\n",
    "        print(\" \",end=\"\")\n",
    "    for j in range(5,i,-1):\n",
    "        print(j,end=\"\")\n",
    "    print()"
   ]
  }
 ],
 "metadata": {
  "kernelspec": {
   "display_name": "Python 3",
   "language": "python",
   "name": "python3"
  },
  "language_info": {
   "codemirror_mode": {
    "name": "ipython",
    "version": 3
   },
   "file_extension": ".py",
   "mimetype": "text/x-python",
   "name": "python",
   "nbconvert_exporter": "python",
   "pygments_lexer": "ipython3",
   "version": "3.11.3"
  },
  "orig_nbformat": 4
 },
 "nbformat": 4,
 "nbformat_minor": 2
}
