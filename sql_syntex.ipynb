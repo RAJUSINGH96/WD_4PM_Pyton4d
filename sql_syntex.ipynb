{
 "cells": [
  {
   "cell_type": "markdown",
   "metadata": {},
   "source": []
  },
  {
   "cell_type": "markdown",
   "metadata": {},
   "source": [
    "### 4th highest number nikalne ka quary.\n",
    "ans..select * from emp where empsal=(select max(empsal) from emp where empsal<(select max(empsal) from emp where empsal<(select max(empsal) from emp where empsal<(select max(empsal) from emp) order by empsal desc)));"
   ]
  },
  {
   "cell_type": "markdown",
   "metadata": {},
   "source": [
    "### 3rd highest number niklne ka quary.\n",
    "ans. select * from emp where empsal=(select max(empsal) from emp where empsal<(select max(empsal) from emp where empsal<(select max(empsal) from emp) order by empsal desc));"
   ]
  },
  {
   "cell_type": "markdown",
   "metadata": {},
   "source": [
    "### 2nd highest number niklne ka quary.\n",
    "ans.select * from emp where empsal=(select max(empsal) from emp where empsal<(select max(empsal) from emp) order by empsal desc);"
   ]
  },
  {
   "cell_type": "markdown",
   "metadata": {},
   "source": [
    "### 1st highest number niklne ka quary.\n",
    "ans. select * from emp where empsal=(select max(empsal) from emp order by empsal desc);"
   ]
  },
  {
   "cell_type": "markdown",
   "metadata": {},
   "source": [
    "### koi do table add karne ka quary(join).\n",
    "ans.select * from pnb inner join sbi on pnb.pnb_adhar=sbi.sbi_adhar;"
   ]
  },
  {
   "cell_type": "markdown",
   "metadata": {},
   "source": [
    "### left join syntex;\n",
    "ans.  select * from pnb left join sbi on pnb.pnb_adhar=sbi.sbi_adhar;"
   ]
  },
  {
   "cell_type": "markdown",
   "metadata": {},
   "source": [
    "### right join\n",
    "ans.  select * from pnb right join sbi on pnb.pnb_adhar=sbi.sbi_adhar;"
   ]
  },
  {
   "cell_type": "markdown",
   "metadata": {},
   "source": [
    "### full join\n",
    "ans.  select * from pnb left join sbi on pnb.pnb_adhar=sbi.sbi_adhar union  select * from pnb right join sbi on pnb.pnb_adhar=sbi.sbi_adhar;"
   ]
  },
  {
   "cell_type": "markdown",
   "metadata": {},
   "source": [
    "### natural join\n",
    "ans. natural join ka use ham tab karte hai jab do table ke collumn name and data type dono same ho.\n",
    "syntex-->select * from pnb natural join sbi;\n",
    "  natural join jeetne bhi common collumn ha sab common collumn ki value same hai to use karte hai natural join ka. "
   ]
  },
  {
   "cell_type": "markdown",
   "metadata": {},
   "source": [
    "### cross join\n",
    "ans. cross join se table1 ka sara data table2 se compare hota hai.\n",
    "syntex--> select * from pnb cross join sbi; "
   ]
  },
  {
   "cell_type": "markdown",
   "metadata": {},
   "source": [
    "### self join\n",
    "ans. ek he table par jab join lagana ho tab ham self join lagate hai.\n",
    "syntex-->select * from emp as e1 inner join emp as e2 on e1.empsal=e2.empsal;\n",
    "      -->select * from emp as e1 inner join emp as e2 on e1.empsal=e2.empsal and e1.dept!=e2.dept;"
   ]
  },
  {
   "cell_type": "markdown",
   "metadata": {},
   "source": [
    "### index \n",
    "ans. index hame taab lagana chaheye jab hamara table ban gaya ho agar ham table me insert/delete/drop command use karna chate hai to index command nahi use karna chaheye.\n",
    "--> index hamara memory consumption ko badha deta hai.\n",
    "--> index select query with where ke execution ko badhane ke liye use karte hai. \n",
    "#### two type of index\n",
    "Non clusted index-->ham jo bhi index banate hai wo bydefault non cluster index ban jata hai.\n",
    "cluster index-->yah index my sql dwora banaya jata hai us table par banata hai jis pe par pahle se unique key or primary key laga hota hai.\n",
    "cluster index hamare memory consumption se bachata hai."
   ]
  },
  {
   "cell_type": "markdown",
   "metadata": {},
   "source": [
    "### koi do table me common table ko add karne ka quary.\n",
    "ans.  select pnb.pnb_adhar as adhar,pnb.pnb_acn,pnb.pnb_bal,sbi.sbi_acn,sbi.sbi_bal from pnb inner join sbi on pnb.pnb_adhar=sbi.sbi_adhar;"
   ]
  },
  {
   "cell_type": "markdown",
   "metadata": {},
   "source": [
    "### koi do table ke balance ko add karne ka quary.\n",
    "ans. select pnb.pnb_adhar as adhar,pnb.pnb_acn,pnb.pnb_bal,sbi.sbi_acn,sbi.sbi_bal,pnb.pnb_bal+sbi.sbi_bal as total from pnb inner join sbi on pnb.pnb_adhar=sbi.sbi_adhar;"
   ]
  },
  {
   "cell_type": "markdown",
   "metadata": {},
   "source": [
    "### How to define business(application) logic?\n",
    "### How to excute set of multiple sql queries at once?\n",
    "ans. PL/SQL \n",
    "   - user define(stored) functions\n",
    "   - stored procedures\n",
    "   - triggers\n",
    "   - loops\n",
    "   - if else condition\n",
    "   - exception handling\n",
    "      etc."
   ]
  },
  {
   "cell_type": "markdown",
   "metadata": {},
   "source": [
    "### ;-->this symbol is known as delimiter.\n",
    "### kya ham delimiter ko badal sakte hai.\n",
    "ans. ha   syntex->delimiter $ "
   ]
  },
  {
   "cell_type": "markdown",
   "metadata": {},
   "source": [
    "### sql me comment ham kase banate hai;\n",
    "ans. syntex-->select * from emp; -- it will fetch all cols & rows(end of query comment)\n",
    "     syntex-->select empsal,dept from /*khuchbhi*/ emp;(medial of query comment) yah comment * ke sath nahi chalta hai. "
   ]
  },
  {
   "cell_type": "markdown",
   "metadata": {},
   "source": [
    "### function\n",
    "  - it is a name block that contain set of stmts and these stmts can be executed at once whenever required.\n",
    "  - it returns a value(we can not skip return value and we can not return morethan 1 value.)"
   ]
  },
  {
   "cell_type": "code",
   "execution_count": null,
   "metadata": {},
   "outputs": [],
   "source": []
  }
 ],
 "metadata": {
  "language_info": {
   "name": "python"
  },
  "orig_nbformat": 4
 },
 "nbformat": 4,
 "nbformat_minor": 2
}
