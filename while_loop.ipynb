{
 "cells": [
  {
   "cell_type": "code",
   "execution_count": 1,
   "metadata": {},
   "outputs": [],
   "source": [
    "# loop:\n",
    "# for loop: when number of iteration is known use for loop.\n",
    "# while loop: when number of iteration is not known use while loop."
   ]
  },
  {
   "cell_type": "code",
   "execution_count": 2,
   "metadata": {},
   "outputs": [],
   "source": [
    "# iteration: any work do again and again."
   ]
  },
  {
   "cell_type": "code",
   "execution_count": 3,
   "metadata": {},
   "outputs": [],
   "source": [
    "# while loop:\n",
    "\n",
    "# syntex of while loop:\n",
    "\n",
    "# initializer\n",
    "# while condition:\n",
    "#      statement(s)\n",
    "#      increment/decrement(on initializer)"
   ]
  },
  {
   "cell_type": "code",
   "execution_count": 5,
   "metadata": {},
   "outputs": [
    {
     "name": "stdout",
     "output_type": "stream",
     "text": [
      "hello world\n",
      "hello world\n",
      "hello world\n",
      "hello world\n",
      "hello world\n",
      "hello world\n",
      "hello world\n",
      "hello world\n",
      "hello world\n"
     ]
    }
   ],
   "source": [
    "i=1\n",
    "while i<10:\n",
    "    print(\"hello world\")\n",
    "    i=i+1"
   ]
  },
  {
   "cell_type": "code",
   "execution_count": 6,
   "metadata": {},
   "outputs": [
    {
     "name": "stdout",
     "output_type": "stream",
     "text": [
      "1 hello world\n",
      "2 hello world\n",
      "3 hello world\n"
     ]
    }
   ],
   "source": [
    "print(1,\"hello world\")\n",
    "print(2,\"hello world\")\n",
    "print(3,\"hello world\")"
   ]
  },
  {
   "cell_type": "code",
   "execution_count": 8,
   "metadata": {},
   "outputs": [
    {
     "name": "stdout",
     "output_type": "stream",
     "text": [
      "1 hello world\n",
      "2 hello world\n",
      "3 hello world\n"
     ]
    }
   ],
   "source": [
    "print(10-9,\"hello world\")\n",
    "print(10-8,\"hello world\")\n",
    "print(10-7,\"hello world\")"
   ]
  },
  {
   "cell_type": "code",
   "execution_count": 12,
   "metadata": {},
   "outputs": [
    {
     "name": "stdout",
     "output_type": "stream",
     "text": [
      "1 hello world\n",
      "2 hello world\n",
      "3 hello world\n",
      "5 hello world\n",
      "6 hello world\n",
      "7 hello world\n",
      "8 hello world\n",
      "9 hello world\n"
     ]
    }
   ],
   "source": [
    "i=1\n",
    "while i<10:\n",
    "    if i==4:\n",
    "      i+=1\n",
    "      continue\n",
    "    print(i,\"hello world\")\n",
    "    i=i+1"
   ]
  },
  {
   "cell_type": "code",
   "execution_count": 15,
   "metadata": {},
   "outputs": [
    {
     "name": "stdout",
     "output_type": "stream",
     "text": [
      "1 hello world\n",
      "2 hello world\n",
      "3 hello world\n",
      "5 hello world\n",
      "6 hello world\n",
      "7 hello world\n",
      "8 hello world\n",
      "9 hello world\n"
     ]
    }
   ],
   "source": [
    "i=1\n",
    "while i<10:\n",
    "    if i!=4:\n",
    "     print(i,\"hello world\")\n",
    "    i=i+1"
   ]
  },
  {
   "cell_type": "code",
   "execution_count": 1,
   "metadata": {},
   "outputs": [
    {
     "name": "stdout",
     "output_type": "stream",
     "text": [
      "1 hello world\n",
      "2 hello world\n",
      "3 hello world\n"
     ]
    }
   ],
   "source": [
    "i=1\n",
    "while i<10:\n",
    "    if i==4:\n",
    "      i+=1\n",
    "      break\n",
    "    print(i,\"hello world\")\n",
    "    i=i+1"
   ]
  },
  {
   "cell_type": "code",
   "execution_count": 2,
   "metadata": {},
   "outputs": [
    {
     "name": "stdout",
     "output_type": "stream",
     "text": [
      "1 hello world\n",
      "2 hello world\n",
      "3 hello world\n",
      "4 hello world\n",
      "5 hello world\n",
      "6 hello world\n",
      "7 hello world\n",
      "8 hello world\n",
      "9 hello world\n",
      "bye\n"
     ]
    }
   ],
   "source": [
    "i=1\n",
    "while i<10:\n",
    "    print(i,\"hello world\")\n",
    "    i=i+1\n",
    "else:\n",
    "    print(\"bye\")"
   ]
  },
  {
   "cell_type": "code",
   "execution_count": 3,
   "metadata": {},
   "outputs": [
    {
     "name": "stdout",
     "output_type": "stream",
     "text": [
      "1 hello world\n",
      "2 hello world\n",
      "3 hello world\n",
      "4 hello world\n",
      "bye\n"
     ]
    }
   ],
   "source": [
    "user=int(input(\"how many times you want to run the loop\"))\n",
    "i=1\n",
    "while i<user:\n",
    "    print(i,\"hello world\")\n",
    "    i=i+1\n",
    "else:\n",
    "    print(\"bye\")"
   ]
  },
  {
   "cell_type": "code",
   "execution_count": 1,
   "metadata": {},
   "outputs": [
    {
     "name": "stdout",
     "output_type": "stream",
     "text": [
      "@@@@@\n",
      "@@@@\n"
     ]
    }
   ],
   "source": [
    "print(\"@\"*5)\n",
    "print(\"@\"*4)"
   ]
  },
  {
   "cell_type": "code",
   "execution_count": 6,
   "metadata": {},
   "outputs": [
    {
     "name": "stdout",
     "output_type": "stream",
     "text": [
      "@\n",
      "@@\n",
      "@@@\n",
      "@@@@\n",
      "@@@@@\n"
     ]
    }
   ],
   "source": [
    "i=1\n",
    "while i<6:\n",
    "   print(\"@\"*i)\n",
    "   i+=1"
   ]
  },
  {
   "cell_type": "code",
   "execution_count": 1,
   "metadata": {},
   "outputs": [
    {
     "name": "stdout",
     "output_type": "stream",
     "text": [
      "@@@@@\n",
      "@@@@\n",
      "@@@\n",
      "@@\n",
      "@\n"
     ]
    }
   ],
   "source": [
    "i=1\n",
    "while i<6:\n",
    "   print(\"@\"*(6-i))\n",
    "   i+=1"
   ]
  },
  {
   "cell_type": "code",
   "execution_count": 17,
   "metadata": {},
   "outputs": [
    {
     "name": "stdout",
     "output_type": "stream",
     "text": [
      "@@@@\n",
      "@@@\n",
      "@@\n",
      "@\n",
      "@@\n",
      "@@@\n",
      "@@@@\n"
     ]
    }
   ],
   "source": [
    "print(\"@\"*4)\n",
    "print(\"@\"*3)\n",
    "print(\"@\"*2)\n",
    "print(\"@\"*1)\n",
    "print(\"@\"*2)\n",
    "print(\"@\"*3)\n",
    "print(\"@\"*4)"
   ]
  },
  {
   "cell_type": "code",
   "execution_count": 6,
   "metadata": {},
   "outputs": [
    {
     "name": "stdout",
     "output_type": "stream",
     "text": [
      "@@@@\n",
      "@@@\n",
      "@@\n",
      "@\n"
     ]
    }
   ],
   "source": [
    "i=1\n",
    "while i<5:\n",
    "   print(\"@\"*(5-i))\n",
    "   i+=1"
   ]
  },
  {
   "cell_type": "code",
   "execution_count": 7,
   "metadata": {},
   "outputs": [
    {
     "name": "stdout",
     "output_type": "stream",
     "text": [
      "@@\n",
      "@@@\n",
      "@@@@\n"
     ]
    }
   ],
   "source": [
    "i=2\n",
    "while i<5:\n",
    "   print(\"@\"*i)\n",
    "   i+=1"
   ]
  },
  {
   "cell_type": "code",
   "execution_count": 8,
   "metadata": {},
   "outputs": [
    {
     "name": "stdout",
     "output_type": "stream",
     "text": [
      "@@@@\n",
      "@@@\n",
      "@@\n",
      "@\n",
      "@@\n",
      "@@@\n",
      "@@@@\n"
     ]
    }
   ],
   "source": [
    "i=1\n",
    "while i<5:\n",
    "   print(\"@\"*(5-i))\n",
    "   i+=1\n",
    "else:\n",
    "   i=2\n",
    "while i<5:\n",
    "   print(\"@\"*i)\n",
    "   i+=1"
   ]
  },
  {
   "cell_type": "code",
   "execution_count": 24,
   "metadata": {},
   "outputs": [
    {
     "name": "stdout",
     "output_type": "stream",
     "text": [
      "    @\n",
      "   @@\n",
      "  @@@\n",
      " @@@@\n",
      "@@@@@\n"
     ]
    }
   ],
   "source": [
    "print(\"    @\")\n",
    "print(\"   @@\")\n",
    "print(\"  @@@\")\n",
    "print(\" @@@@\")\n",
    "print(\"@@@@@\")"
   ]
  },
  {
   "cell_type": "code",
   "execution_count": 31,
   "metadata": {},
   "outputs": [
    {
     "name": "stdout",
     "output_type": "stream",
     "text": [
      "@\n",
      "@@\n",
      "@@@\n",
      "@@@@\n",
      "@@@@@\n"
     ]
    }
   ],
   "source": [
    "i=1\n",
    "while i<6:\n",
    "    print(\"@\"*i)\n",
    "    i+=1 "
   ]
  },
  {
   "cell_type": "code",
   "execution_count": null,
   "metadata": {},
   "outputs": [],
   "source": []
  },
  {
   "cell_type": "code",
   "execution_count": null,
   "metadata": {},
   "outputs": [],
   "source": []
  }
 ],
 "metadata": {
  "kernelspec": {
   "display_name": "Python 3",
   "language": "python",
   "name": "python3"
  },
  "language_info": {
   "codemirror_mode": {
    "name": "ipython",
    "version": 3
   },
   "file_extension": ".py",
   "mimetype": "text/x-python",
   "name": "python",
   "nbconvert_exporter": "python",
   "pygments_lexer": "ipython3",
   "version": "3.11.3"
  },
  "orig_nbformat": 4
 },
 "nbformat": 4,
 "nbformat_minor": 2
}
