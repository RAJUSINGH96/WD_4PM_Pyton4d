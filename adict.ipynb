{
 "cells": [
  {
   "cell_type": "code",
   "execution_count": 1,
   "metadata": {},
   "outputs": [
    {
     "name": "stdout",
     "output_type": "stream",
     "text": [
      "{101: 'Monu', 102: 'raju', 105: 'Monu'}\n"
     ]
    }
   ],
   "source": [
    "d={101:'Monu',102:'raju',105:'Monu'}\n",
    "print(d)"
   ]
  },
  {
   "cell_type": "code",
   "execution_count": 2,
   "metadata": {},
   "outputs": [
    {
     "name": "stdout",
     "output_type": "stream",
     "text": [
      "{101: 'chintu', 102: 'raju', 105: 'Monu'}\n"
     ]
    }
   ],
   "source": [
    "d={101:'Monu',102:'raju',105:'Monu',101:'chintu'}\n",
    "print(d)"
   ]
  },
  {
   "cell_type": "code",
   "execution_count": 3,
   "metadata": {},
   "outputs": [
    {
     "name": "stdout",
     "output_type": "stream",
     "text": [
      "{'csk': ('Dhoni', 'Raina', 'Jadeja'), 'MI': ['Rohit', 'Surya']}\n"
     ]
    }
   ],
   "source": [
    "IPL={'csk':('Dhoni','Raina','Jadeja'),'MI':['Rohit','Surya']}\n",
    "print(IPL)"
   ]
  },
  {
   "cell_type": "code",
   "execution_count": 4,
   "metadata": {},
   "outputs": [
    {
     "name": "stdout",
     "output_type": "stream",
     "text": [
      "{101: 'raju', 102: 'monu', 103: 'chintu', 100: 'sachin'}\n"
     ]
    }
   ],
   "source": [
    "d={101:'raju',102:'monu',103:'chintu'}\n",
    "d[100]='sachin'\n",
    "print(d)"
   ]
  },
  {
   "cell_type": "code",
   "execution_count": 5,
   "metadata": {},
   "outputs": [
    {
     "name": "stdout",
     "output_type": "stream",
     "text": [
      "{101: 'virat', 102: 'monu', 103: 'chintu'}\n"
     ]
    }
   ],
   "source": [
    "d={101:'raju',102:'monu',103:'chintu'}\n",
    "d[101]='virat'\n",
    "print(d)"
   ]
  },
  {
   "cell_type": "code",
   "execution_count": 6,
   "metadata": {},
   "outputs": [
    {
     "data": {
      "text/plain": [
       "{101: 'virat', 102: 'monu', 103: 'chintu'}"
      ]
     },
     "execution_count": 6,
     "metadata": {},
     "output_type": "execute_result"
    }
   ],
   "source": [
    "d"
   ]
  },
  {
   "cell_type": "code",
   "execution_count": 7,
   "metadata": {},
   "outputs": [
    {
     "name": "stdout",
     "output_type": "stream",
     "text": [
      "{102: 'raju', 103: 'chintu', 104: 'ram', 105: 'lucky'}\n",
      "{102: 'raju', 104: 'ram', 105: 'lucky'}\n",
      "chintu\n",
      "{102: 'raju', 104: 'ram'}\n",
      "(105, 'lucky')\n",
      "{}\n"
     ]
    }
   ],
   "source": [
    "d={101:'monu',102:'raju',103:'chintu',104:'ram',105:'lucky'}\n",
    "del d[101]\n",
    "print(d)\n",
    "v=d.pop(103)\n",
    "print(d)\n",
    "print(v)\n",
    "t=d.popitem()\n",
    "print(d)\n",
    "print(t)\n",
    "d.clear()\n",
    "print(d)"
   ]
  },
  {
   "cell_type": "code",
   "execution_count": 8,
   "metadata": {},
   "outputs": [
    {
     "name": "stdout",
     "output_type": "stream",
     "text": [
      "monu\n"
     ]
    }
   ],
   "source": [
    "d={101:'monu',102:'raju',103:'chintu',104:'ram',105:'lucky'}\n",
    "print(d[101])"
   ]
  },
  {
   "cell_type": "code",
   "execution_count": 9,
   "metadata": {},
   "outputs": [
    {
     "name": "stdout",
     "output_type": "stream",
     "text": [
      "monu\n",
      "None key not found\n"
     ]
    }
   ],
   "source": [
    "d={101:'monu',102:'raju',103:'chintu',104:'ram',105:'lucky'}\n",
    "print(d.get(101))\n",
    "print(d.get(1001),'key not found')"
   ]
  },
  {
   "cell_type": "code",
   "execution_count": 10,
   "metadata": {},
   "outputs": [
    {
     "name": "stdout",
     "output_type": "stream",
     "text": [
      "5\n",
      "101\n",
      "chintu\n",
      "105\n",
      "ram\n",
      "False\n",
      "True\n"
     ]
    }
   ],
   "source": [
    "d={101:'monu',102:'raju',103:'chintu',104:'ram',105:'lucky'}\n",
    "print(len(d))\n",
    "print(min(d))\n",
    "print(min(d.values()))\n",
    "print(max(d))\n",
    "print(max(d.values()))\n",
    "print('raju' in d)\n",
    "print('raju' in d.values())"
   ]
  },
  {
   "cell_type": "code",
   "execution_count": 12,
   "metadata": {},
   "outputs": [
    {
     "name": "stdout",
     "output_type": "stream",
     "text": [
      "101\n",
      "102\n",
      "103\n",
      "104\n",
      "105\n",
      "............\n",
      "101\n",
      "102\n",
      "103\n",
      "104\n",
      "105\n",
      "...........\n",
      "monu\n",
      "raju\n",
      "chintu\n",
      "ram\n",
      "lucky\n",
      "...........\n",
      "(101, 'monu')\n",
      "(102, 'raju')\n",
      "(103, 'chintu')\n",
      "(104, 'ram')\n",
      "(105, 'lucky')\n"
     ]
    }
   ],
   "source": [
    "d={101:'monu',102:'raju',103:'chintu',104:'ram',105:'lucky'}\n",
    "for i in d:\n",
    "    print(i)\n",
    "print('............')\n",
    "for i in d.keys():\n",
    "    print(i)\n",
    "print('...........')\n",
    "for i in d.values():\n",
    "    print(i)\n",
    "print('...........')\n",
    "for i in d.items():\n",
    "    print(i)"
   ]
  },
  {
   "cell_type": "code",
   "execution_count": 13,
   "metadata": {},
   "outputs": [
    {
     "name": "stdout",
     "output_type": "stream",
     "text": [
      "{'a': 'android'}\n"
     ]
    }
   ],
   "source": [
    "d={}\n",
    "k=input('enter key:')\n",
    "v=input('enter values:')\n",
    "d[k]=v\n",
    "print(d)"
   ]
  },
  {
   "cell_type": "code",
   "execution_count": 14,
   "metadata": {},
   "outputs": [
    {
     "name": "stdout",
     "output_type": "stream",
     "text": [
      "{'a': 'android', 'b': 'ball', 'c': 'cat'}\n"
     ]
    }
   ],
   "source": [
    "d={}\n",
    "for i in range(3):\n",
    "    k=input('enter key:')\n",
    "    v=input('enter values:')\n",
    "    d[k]=v\n",
    "print(d)"
   ]
  },
  {
   "cell_type": "code",
   "execution_count": 15,
   "metadata": {},
   "outputs": [
    {
     "name": "stdout",
     "output_type": "stream",
     "text": [
      "{1: 'monu', 2: 'raju', 3: 'chintu', 4: 'pintu', 5: 'bittu'}\n"
     ]
    }
   ],
   "source": [
    "r=(1,2,3,4,5)\n",
    "n=['monu','raju','chintu','pintu','bittu']\n",
    "d={}\n",
    "for i,j in zip(r,n):\n",
    "    d[i]=j\n",
    "print(d)"
   ]
  },
  {
   "cell_type": "code",
   "execution_count": 17,
   "metadata": {},
   "outputs": [
    {
     "name": "stdout",
     "output_type": "stream",
     "text": [
      "{1: 'apple', 3: 'banana', 2: 'orange'}\n",
      "{2: 'orange', 3: 'banana', 1: 'apple'}\n"
     ]
    }
   ],
   "source": [
    "d1={1:'apple',3:'mango'}\n",
    "d2={2:'orange',3:'banana'}\n",
    "d1.update(d2)\n",
    "print(d1)\n",
    "d2.update(d1)\n",
    "print(d2)"
   ]
  },
  {
   "cell_type": "code",
   "execution_count": 18,
   "metadata": {},
   "outputs": [
    {
     "name": "stdout",
     "output_type": "stream",
     "text": [
      "{'a': ['apple', 'android'], 'b': ('bat', 'ball')}\n",
      "{'a': ['apple', 'android', 'aditya'], 'b': ('bat', 'ball')}\n"
     ]
    }
   ],
   "source": [
    "d={'a':['apple','android'],'b':('bat','ball')}\n",
    "print(d)\n",
    "d['a'].append('aditya')\n",
    "print(d)"
   ]
  },
  {
   "cell_type": "code",
   "execution_count": 20,
   "metadata": {},
   "outputs": [
    {
     "name": "stdout",
     "output_type": "stream",
     "text": [
      "{'b': 'hi', 'c': 'hello'}\n",
      "hello\n"
     ]
    }
   ],
   "source": [
    "d={'a':{'b':'hi','c':'hello'},'b':'bye'}\n",
    "print(d['a'])\n",
    "print(d['a']['c'])"
   ]
  },
  {
   "cell_type": "code",
   "execution_count": 21,
   "metadata": {},
   "outputs": [
    {
     "name": "stdout",
     "output_type": "stream",
     "text": [
      "{}\n"
     ]
    }
   ],
   "source": [
    "d=dict()\n",
    "print(d)"
   ]
  },
  {
   "cell_type": "code",
   "execution_count": 22,
   "metadata": {},
   "outputs": [
    {
     "name": "stdout",
     "output_type": "stream",
     "text": [
      "{1: 'a', 2: 'b', 3: 'c'}\n"
     ]
    }
   ],
   "source": [
    "d=dict([(1,'a'),(2,'b'),(3,'c')])\n",
    "print(d)"
   ]
  },
  {
   "cell_type": "code",
   "execution_count": 29,
   "metadata": {},
   "outputs": [
    {
     "name": "stdout",
     "output_type": "stream",
     "text": [
      "{1: 1, 2: 4, 3: 9, 4: 16}\n"
     ]
    }
   ],
   "source": [
    "d={}\n",
    "for i in range(1,5):\n",
    "    d.update({i:i*i})\n",
    "print(d)"
   ]
  },
  {
   "cell_type": "code",
   "execution_count": 23,
   "metadata": {},
   "outputs": [
    {
     "name": "stdout",
     "output_type": "stream",
     "text": [
      "{1: 1, 2: 4, 3: 9, 4: 16}\n"
     ]
    }
   ],
   "source": [
    "# dictionary comprehension.\n",
    "d={i:i*i for i in range(1,5)}\n",
    "print(d)"
   ]
  },
  {
   "cell_type": "code",
   "execution_count": 26,
   "metadata": {},
   "outputs": [
    {
     "name": "stdout",
     "output_type": "stream",
     "text": [
      "{5: 256}\n"
     ]
    }
   ],
   "source": [
    "d={5:i**i for i in range(1,5)}\n",
    "print(d)"
   ]
  },
  {
   "cell_type": "code",
   "execution_count": 27,
   "metadata": {},
   "outputs": [
    {
     "name": "stdout",
     "output_type": "stream",
     "text": [
      "{'a': 'aa', 'b': 'bb', 'c': 'cc', 'd': 'dd'}\n"
     ]
    }
   ],
   "source": [
    "d={input('enter key:'):input('enter value:') for i in range(1,5)}\n",
    "print(d)"
   ]
  },
  {
   "cell_type": "code",
   "execution_count": 30,
   "metadata": {},
   "outputs": [
    {
     "name": "stdout",
     "output_type": "stream",
     "text": [
      "{'a': 'aa', 'b': 'bb', 'c': 'cc', 'd': 'dd'}\n"
     ]
    }
   ],
   "source": [
    "d={}\n",
    "for i in range(1,5):\n",
    "    k=input('enter key:')\n",
    "    v=input('enter value:')\n",
    "    d[k]=v\n",
    "print(d)"
   ]
  },
  {
   "cell_type": "code",
   "execution_count": null,
   "metadata": {},
   "outputs": [],
   "source": []
  }
 ],
 "metadata": {
  "kernelspec": {
   "display_name": "Python 3",
   "language": "python",
   "name": "python3"
  },
  "language_info": {
   "codemirror_mode": {
    "name": "ipython",
    "version": 3
   },
   "file_extension": ".py",
   "mimetype": "text/x-python",
   "name": "python",
   "nbconvert_exporter": "python",
   "pygments_lexer": "ipython3",
   "version": "3.11.3"
  },
  "orig_nbformat": 4
 },
 "nbformat": 4,
 "nbformat_minor": 2
}
