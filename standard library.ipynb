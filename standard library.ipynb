{
 "cells": [
  {
   "cell_type": "code",
   "execution_count": 1,
   "metadata": {},
   "outputs": [],
   "source": [
    "import random"
   ]
  },
  {
   "cell_type": "code",
   "execution_count": 4,
   "metadata": {},
   "outputs": [
    {
     "name": "stdout",
     "output_type": "stream",
     "text": [
      "81\n"
     ]
    }
   ],
   "source": [
    "n=random.randint(1,100)\n",
    "print(n)"
   ]
  },
  {
   "cell_type": "code",
   "execution_count": 5,
   "metadata": {},
   "outputs": [
    {
     "name": "stdout",
     "output_type": "stream",
     "text": [
      "81\n"
     ]
    }
   ],
   "source": [
    "print(n)"
   ]
  },
  {
   "cell_type": "code",
   "execution_count": 6,
   "metadata": {},
   "outputs": [
    {
     "name": "stdout",
     "output_type": "stream",
     "text": [
      "62\n"
     ]
    }
   ],
   "source": [
    "print(random.randint(1,100))"
   ]
  },
  {
   "cell_type": "code",
   "execution_count": 7,
   "metadata": {},
   "outputs": [
    {
     "name": "stdout",
     "output_type": "stream",
     "text": [
      "2865\n"
     ]
    }
   ],
   "source": [
    "print(random.randint(1000,9999))"
   ]
  },
  {
   "cell_type": "code",
   "execution_count": 8,
   "metadata": {},
   "outputs": [
    {
     "name": "stdout",
     "output_type": "stream",
     "text": [
      "0.5673424892110628\n"
     ]
    }
   ],
   "source": [
    "print(random.random())"
   ]
  },
  {
   "cell_type": "code",
   "execution_count": 5,
   "metadata": {},
   "outputs": [
    {
     "name": "stdout",
     "output_type": "stream",
     "text": [
      "0.9212646195904439\n"
     ]
    }
   ],
   "source": [
    "print(random.random())"
   ]
  },
  {
   "cell_type": "code",
   "execution_count": 9,
   "metadata": {},
   "outputs": [
    {
     "name": "stdout",
     "output_type": "stream",
     "text": [
      "2.4686992047680243\n"
     ]
    }
   ],
   "source": [
    "print(random.uniform(1,10))"
   ]
  },
  {
   "cell_type": "code",
   "execution_count": 3,
   "metadata": {},
   "outputs": [
    {
     "name": "stdout",
     "output_type": "stream",
     "text": [
      "37.22354489003595\n"
     ]
    }
   ],
   "source": [
    "import random\n",
    "print(random.uniform(10,100))"
   ]
  },
  {
   "cell_type": "code",
   "execution_count": 13,
   "metadata": {},
   "outputs": [
    {
     "name": "stdout",
     "output_type": "stream",
     "text": [
      "[10, 20, 30, 40, 50, 60]\n",
      "[50, 60, 40, 20, 10, 30]\n"
     ]
    }
   ],
   "source": [
    "x=[10,20,30,40,50,60]\n",
    "print(x)\n",
    "random.shuffle(x)\n",
    "print(x)"
   ]
  },
  {
   "cell_type": "code",
   "execution_count": 14,
   "metadata": {},
   "outputs": [
    {
     "name": "stdout",
     "output_type": "stream",
     "text": [
      "40\n",
      "[60, 50, 20]\n"
     ]
    }
   ],
   "source": [
    "print(random.choice(x))\n",
    "print(random.choices(x,k=3))"
   ]
  },
  {
   "cell_type": "code",
   "execution_count": 21,
   "metadata": {},
   "outputs": [
    {
     "name": "stdout",
     "output_type": "stream",
     "text": [
      "Help on method betavariate in module random:\n",
      "\n",
      "betavariate(alpha, beta) method of random.Random instance\n",
      "    Beta distribution.\n",
      "    \n",
      "    Conditions on the parameters are alpha > 0 and beta > 0.\n",
      "    Returned values range between 0 and 1.\n",
      "\n"
     ]
    }
   ],
   "source": [
    "help(random.betavariate)"
   ]
  },
  {
   "cell_type": "code",
   "execution_count": 23,
   "metadata": {},
   "outputs": [
    {
     "name": "stdout",
     "output_type": "stream",
     "text": [
      "Help on method expovariate in module random:\n",
      "\n",
      "expovariate(lambd) method of random.Random instance\n",
      "    Exponential distribution.\n",
      "    \n",
      "    lambd is 1.0 divided by the desired mean.  It should be\n",
      "    nonzero.  (The parameter would be called \"lambda\", but that is\n",
      "    a reserved word in Python.)  Returned values range from 0 to\n",
      "    positive infinity if lambd is positive, and from negative\n",
      "    infinity to 0 if lambd is negative.\n",
      "\n"
     ]
    }
   ],
   "source": [
    "help(random.expovariate)"
   ]
  },
  {
   "cell_type": "code",
   "execution_count": 25,
   "metadata": {},
   "outputs": [
    {
     "name": "stdout",
     "output_type": "stream",
     "text": [
      "76\n",
      "50\n"
     ]
    }
   ],
   "source": [
    "print(random.randint(1,100))\n",
    "random.seed(0)\n",
    "print(random.randint(1,100))"
   ]
  },
  {
   "cell_type": "code",
   "execution_count": 26,
   "metadata": {},
   "outputs": [
    {
     "name": "stdout",
     "output_type": "stream",
     "text": [
      "865\n",
      "865\n",
      "865\n",
      "865\n",
      "865\n"
     ]
    }
   ],
   "source": [
    "import random\n",
    "for i in range(5):\n",
    "\n",
    "\t# Any number can be used in place of '0'.\n",
    "\trandom.seed(0)\n",
    "\n",
    "\t# Generated random number will be between 1 to 1000.\n",
    "\tprint(random.randint(1, 1000))"
   ]
  },
  {
   "cell_type": "code",
   "execution_count": 27,
   "metadata": {},
   "outputs": [
    {
     "name": "stdout",
     "output_type": "stream",
     "text": [
      "244\n"
     ]
    }
   ],
   "source": [
    "# importing random module\n",
    "import random\n",
    "\n",
    "random.seed(3)\n",
    "\n",
    "# print a random number between 1 and 1000.\n",
    "print(random.randint(1, 1000))\n",
    "\n",
    "# # if you want to get the same random number again then,\n",
    "#random.seed(3)\n",
    "#print(random.randint(1, 1000))\n",
    "\n",
    "# # If seed function is not used\n",
    "\n",
    "# # Gives totally unpredictable responses.\n",
    "# print(random.randint(1, 1000))"
   ]
  },
  {
   "cell_type": "code",
   "execution_count": 28,
   "metadata": {},
   "outputs": [
    {
     "name": "stdout",
     "output_type": "stream",
     "text": [
      "244\n",
      "244\n"
     ]
    }
   ],
   "source": [
    "# importing random module\n",
    "import random\n",
    "\n",
    "random.seed(3)\n",
    "\n",
    "# print a random number between 1 and 1000.\n",
    "print(random.randint(1, 1000))\n",
    "\n",
    "# # if you want to get the same random number again then,\n",
    "random.seed(3)\n",
    "print(random.randint(1, 1000))"
   ]
  },
  {
   "cell_type": "code",
   "execution_count": 30,
   "metadata": {},
   "outputs": [
    {
     "name": "stdout",
     "output_type": "stream",
     "text": [
      "233\n",
      "233\n"
     ]
    }
   ],
   "source": [
    "# importing random module\n",
    "import random\n",
    "\n",
    "random.seed(8)\n",
    "\n",
    "# print a random number between 1 and 1000.\n",
    "print(random.randint(1, 1000))\n",
    "\n",
    "# # if you want to get the same random number again then,\n",
    "random.seed(8)\n",
    "print(random.randint(1, 1000))"
   ]
  },
  {
   "cell_type": "code",
   "execution_count": 31,
   "metadata": {},
   "outputs": [
    {
     "name": "stdout",
     "output_type": "stream",
     "text": [
      "244\n",
      "244\n",
      "607\n"
     ]
    }
   ],
   "source": [
    "# importing random module\n",
    "import random\n",
    "\n",
    "random.seed(3)\n",
    "\n",
    "# print a random number between 1 and 1000.\n",
    "print(random.randint(1, 1000))\n",
    "\n",
    "# # if you want to get the same random number again then,\n",
    "random.seed(3)\n",
    "print(random.randint(1, 1000))\n",
    "print(random.randint(1, 1000))"
   ]
  },
  {
   "cell_type": "code",
   "execution_count": 35,
   "metadata": {},
   "outputs": [
    {
     "name": "stdout",
     "output_type": "stream",
     "text": [
      "138\n",
      "138\n"
     ]
    }
   ],
   "source": [
    "random.seed(1)\n",
    "print(random.randint(1, 1000))\n",
    "random.seed(1)\n",
    "print(random.randint(1, 1000))"
   ]
  },
  {
   "cell_type": "code",
   "execution_count": null,
   "metadata": {},
   "outputs": [],
   "source": []
  }
 ],
 "metadata": {
  "kernelspec": {
   "display_name": "Python 3",
   "language": "python",
   "name": "python3"
  },
  "language_info": {
   "codemirror_mode": {
    "name": "ipython",
    "version": 3
   },
   "file_extension": ".py",
   "mimetype": "text/x-python",
   "name": "python",
   "nbconvert_exporter": "python",
   "pygments_lexer": "ipython3",
   "version": "3.11.3"
  },
  "orig_nbformat": 4
 },
 "nbformat": 4,
 "nbformat_minor": 2
}
