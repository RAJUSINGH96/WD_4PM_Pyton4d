{
 "cells": [
  {
   "cell_type": "markdown",
   "metadata": {},
   "source": [
    "**Advanced function**\n",
    "-Nested function\n",
    "-closure function\n",
    "-Decorator function\n",
    "-Generator function\n",
    "-Lambda function\n",
    "-Map function\n",
    "-Filter function\n",
    "etc."
   ]
  },
  {
   "cell_type": "code",
   "execution_count": 7,
   "metadata": {},
   "outputs": [],
   "source": [
    "def show():                     # top level/outer/enclosing function.\n",
    "    print(\"this is show\")\n",
    "    def disp():                 # nested/inner/local function.\n",
    "        print(\"this is disp\")\n",
    "    print(\"end of show\")"
   ]
  },
  {
   "cell_type": "code",
   "execution_count": 8,
   "metadata": {},
   "outputs": [
    {
     "name": "stdout",
     "output_type": "stream",
     "text": [
      "this is show\n",
      "end of show\n"
     ]
    }
   ],
   "source": [
    "def show():                     # top level/outer/enclosing function.\n",
    "    print(\"this is show\")\n",
    "    def disp():                 # nested/inner/local function.\n",
    "        print(\"this is disp\")\n",
    "    print(\"end of show\")\n",
    "show()"
   ]
  },
  {
   "cell_type": "code",
   "execution_count": 9,
   "metadata": {},
   "outputs": [
    {
     "name": "stdout",
     "output_type": "stream",
     "text": [
      "this is show\n",
      "end of show\n"
     ]
    },
    {
     "ename": "NameError",
     "evalue": "name 'x' is not defined",
     "output_type": "error",
     "traceback": [
      "\u001b[1;31m---------------------------------------------------------------------------\u001b[0m",
      "\u001b[1;31mNameError\u001b[0m                                 Traceback (most recent call last)",
      "Cell \u001b[1;32mIn[9], line 8\u001b[0m\n\u001b[0;32m      6\u001b[0m     \u001b[39mprint\u001b[39m(\u001b[39m\"\u001b[39m\u001b[39mend of show\u001b[39m\u001b[39m\"\u001b[39m)\n\u001b[0;32m      7\u001b[0m show()\n\u001b[1;32m----> 8\u001b[0m \u001b[39mprint\u001b[39m(x)\n\u001b[0;32m      9\u001b[0m \u001b[39m# disp()\u001b[39;00m\n",
      "\u001b[1;31mNameError\u001b[0m: name 'x' is not defined"
     ]
    }
   ],
   "source": [
    "def show():                     # top level/outer/enclosing function.\n",
    "    print(\"this is show\")\n",
    "    x=10\n",
    "    def disp():                 # nested/inner/local function.\n",
    "        print(\"this is disp\")\n",
    "    print(\"end of show\")\n",
    "show()\n",
    "print(x)\n",
    "# disp()"
   ]
  },
  {
   "cell_type": "code",
   "execution_count": 10,
   "metadata": {},
   "outputs": [
    {
     "name": "stdout",
     "output_type": "stream",
     "text": [
      "this is show\n",
      "end of show\n"
     ]
    },
    {
     "ename": "NameError",
     "evalue": "name 'disp' is not defined",
     "output_type": "error",
     "traceback": [
      "\u001b[1;31m---------------------------------------------------------------------------\u001b[0m",
      "\u001b[1;31mNameError\u001b[0m                                 Traceback (most recent call last)",
      "Cell \u001b[1;32mIn[10], line 10\u001b[0m\n\u001b[0;32m      8\u001b[0m show()\n\u001b[0;32m      9\u001b[0m \u001b[39m# print(x)\u001b[39;00m\n\u001b[1;32m---> 10\u001b[0m disp()\n",
      "\u001b[1;31mNameError\u001b[0m: name 'disp' is not defined"
     ]
    }
   ],
   "source": [
    "# A function is said to be nested if it is defined in the block of other function.\n",
    "def show():                     # top level/outer/enclosing function.\n",
    "    print(\"this is show\")\n",
    "    x=10\n",
    "    def disp():                 # nested/inner/local function.# nested function is the type of function which \n",
    "        print(\"this is disp\")                                   # is define in the block of another function.\n",
    "    print(\"end of show\")\n",
    "show()\n",
    "# print(x)\n",
    "disp()"
   ]
  },
  {
   "cell_type": "code",
   "execution_count": 11,
   "metadata": {},
   "outputs": [
    {
     "name": "stdout",
     "output_type": "stream",
     "text": [
      "this is show\n",
      "end of show\n"
     ]
    },
    {
     "ename": "NameError",
     "evalue": "name 'x' is not defined",
     "output_type": "error",
     "traceback": [
      "\u001b[1;31m---------------------------------------------------------------------------\u001b[0m",
      "\u001b[1;31mNameError\u001b[0m                                 Traceback (most recent call last)",
      "Cell \u001b[1;32mIn[11], line 7\u001b[0m\n\u001b[0;32m      4\u001b[0m     \u001b[39mprint\u001b[39m(\u001b[39m\"\u001b[39m\u001b[39mend of show\u001b[39m\u001b[39m\"\u001b[39m)\n\u001b[0;32m      6\u001b[0m show()\n\u001b[1;32m----> 7\u001b[0m \u001b[39mprint\u001b[39m(x)\n",
      "\u001b[1;31mNameError\u001b[0m: name 'x' is not defined"
     ]
    }
   ],
   "source": [
    "def show():\n",
    "    print(\"this is show\")\n",
    "    x=10\n",
    "    print(\"end of show\")\n",
    "\n",
    "show()\n",
    "print(x)"
   ]
  },
  {
   "cell_type": "code",
   "execution_count": 12,
   "metadata": {},
   "outputs": [
    {
     "name": "stdout",
     "output_type": "stream",
     "text": [
      "this is show\n",
      "end of show\n",
      "10\n"
     ]
    }
   ],
   "source": [
    "def show():\n",
    "    print(\"this is show\")\n",
    "    global x\n",
    "    x=10\n",
    "    print(\"end of show\")\n",
    "\n",
    "show()\n",
    "print(x)"
   ]
  },
  {
   "cell_type": "code",
   "execution_count": 13,
   "metadata": {},
   "outputs": [
    {
     "name": "stdout",
     "output_type": "stream",
     "text": [
      "this is show\n",
      "end of show\n",
      "10\n"
     ]
    }
   ],
   "source": [
    "def show():\n",
    "    print(\"this is show\")\n",
    "    x=10\n",
    "    print(\"end of show\")\n",
    "    return x\n",
    "\n",
    "x=show()\n",
    "print(x)"
   ]
  },
  {
   "cell_type": "code",
   "execution_count": 14,
   "metadata": {},
   "outputs": [
    {
     "name": "stdout",
     "output_type": "stream",
     "text": [
      "this is show\n",
      "end of show\n"
     ]
    }
   ],
   "source": [
    "def show():                     \n",
    "    print(\"this is show\")\n",
    "    def disp():                 \n",
    "        print(\"this is disp\")\n",
    "    print(\"end of show\")\n",
    "    return disp\n",
    "fun=show()"
   ]
  },
  {
   "cell_type": "code",
   "execution_count": 15,
   "metadata": {},
   "outputs": [
    {
     "ename": "NameError",
     "evalue": "name 'disp' is not defined",
     "output_type": "error",
     "traceback": [
      "\u001b[1;31m---------------------------------------------------------------------------\u001b[0m",
      "\u001b[1;31mNameError\u001b[0m                                 Traceback (most recent call last)",
      "Cell \u001b[1;32mIn[15], line 1\u001b[0m\n\u001b[1;32m----> 1\u001b[0m disp()\n",
      "\u001b[1;31mNameError\u001b[0m: name 'disp' is not defined"
     ]
    }
   ],
   "source": [
    "disp()"
   ]
  },
  {
   "cell_type": "code",
   "execution_count": 16,
   "metadata": {},
   "outputs": [
    {
     "name": "stdout",
     "output_type": "stream",
     "text": [
      "this is disp\n"
     ]
    }
   ],
   "source": [
    "fun()"
   ]
  },
  {
   "cell_type": "code",
   "execution_count": 17,
   "metadata": {},
   "outputs": [
    {
     "name": "stdout",
     "output_type": "stream",
     "text": [
      "this is show\n",
      "end of show\n"
     ]
    },
    {
     "ename": "TypeError",
     "evalue": "'int' object is not callable",
     "output_type": "error",
     "traceback": [
      "\u001b[1;31m---------------------------------------------------------------------------\u001b[0m",
      "\u001b[1;31mTypeError\u001b[0m                                 Traceback (most recent call last)",
      "Cell \u001b[1;32mIn[17], line 8\u001b[0m\n\u001b[0;32m      6\u001b[0m     \u001b[39mreturn\u001b[39;00m \u001b[39m10\u001b[39m\n\u001b[0;32m      7\u001b[0m fun\u001b[39m=\u001b[39mshow()\n\u001b[1;32m----> 8\u001b[0m fun()\n",
      "\u001b[1;31mTypeError\u001b[0m: 'int' object is not callable"
     ]
    }
   ],
   "source": [
    "def show():                     \n",
    "    print(\"this is show\")\n",
    "    def disp():                 \n",
    "        print(\"this is disp\")\n",
    "    print(\"end of show\")\n",
    "    return 10\n",
    "fun=show()\n",
    "fun()"
   ]
  },
  {
   "cell_type": "code",
   "execution_count": 18,
   "metadata": {},
   "outputs": [
    {
     "name": "stdout",
     "output_type": "stream",
     "text": [
      "this is show\n",
      "end of show\n",
      "10\n"
     ]
    }
   ],
   "source": [
    "def show():                     \n",
    "    print(\"this is show\")\n",
    "    x=10\n",
    "    def disp():                 \n",
    "        print(\"this is disp\")\n",
    "    print(\"end of show\")\n",
    "    return 10\n",
    "fun=show()\n",
    "print(fun) # if we print int or float then print its value."
   ]
  },
  {
   "cell_type": "code",
   "execution_count": 19,
   "metadata": {},
   "outputs": [
    {
     "name": "stdout",
     "output_type": "stream",
     "text": [
      "this is show\n",
      "end of show\n",
      "<function show.<locals>.disp at 0x000001D3E2071EE0>\n"
     ]
    }
   ],
   "source": [
    "def show():                     \n",
    "    print(\"this is show\")\n",
    "    x=10\n",
    "    def disp():                 \n",
    "        print(\"this is disp\")\n",
    "    print(\"end of show\")\n",
    "    return disp\n",
    "fun=show()\n",
    "print(fun)"
   ]
  },
  {
   "cell_type": "code",
   "execution_count": 20,
   "metadata": {},
   "outputs": [
    {
     "name": "stdout",
     "output_type": "stream",
     "text": [
      "<function show at 0x000001D3E29837E0>\n"
     ]
    }
   ],
   "source": [
    "print(show)# if we print any function then fun print its address."
   ]
  },
  {
   "cell_type": "code",
   "execution_count": 21,
   "metadata": {},
   "outputs": [
    {
     "name": "stdout",
     "output_type": "stream",
     "text": [
      "this is show\n",
      "end of show\n",
      "this is disp 10\n"
     ]
    }
   ],
   "source": [
    "def show():                     \n",
    "    print(\"this is show\")\n",
    "    x=10\n",
    "    def disp():                 \n",
    "        print(\"this is disp\",x)\n",
    "    print(\"end of show\")\n",
    "    return disp\n",
    "fun=show()\n",
    "fun()"
   ]
  },
  {
   "cell_type": "code",
   "execution_count": 22,
   "metadata": {},
   "outputs": [
    {
     "name": "stdout",
     "output_type": "stream",
     "text": [
      "this is show\n",
      "end of show\n",
      "10\n",
      "this is disp 20\n",
      "10\n"
     ]
    }
   ],
   "source": [
    "def show():                     \n",
    "    print(\"this is show\")\n",
    "    x=10\n",
    "    def disp():  \n",
    "        x=20               \n",
    "        print(\"this is disp\",x)\n",
    "    print(\"end of show\")\n",
    "    print(x)\n",
    "    disp()\n",
    "    print(x)\n",
    "    return disp\n",
    "fun=show()\n",
    "# fun()"
   ]
  },
  {
   "cell_type": "code",
   "execution_count": 23,
   "metadata": {},
   "outputs": [
    {
     "name": "stdout",
     "output_type": "stream",
     "text": [
      "this is show\n",
      "end of show\n",
      "10\n",
      "this is disp 20\n",
      "20\n"
     ]
    }
   ],
   "source": [
    "def show():                     # most asked by interviwer when he does not want to select someone. \n",
    "    print(\"this is show\")\n",
    "    x=10\n",
    "    def disp():  \n",
    "        nonlocal x\n",
    "        x=20               \n",
    "        print(\"this is disp\",x)\n",
    "    print(\"end of show\")\n",
    "    print(x)\n",
    "    disp()\n",
    "    print(x)\n",
    "    return disp\n",
    "fun=show()\n",
    "# fun()"
   ]
  },
  {
   "cell_type": "code",
   "execution_count": 24,
   "metadata": {},
   "outputs": [
    {
     "name": "stdout",
     "output_type": "stream",
     "text": [
      "this is show\n",
      "end of show\n",
      "this is disp 10\n"
     ]
    }
   ],
   "source": [
    "def show():                     \n",
    "    print(\"this is show\")\n",
    "    x=10\n",
    "    def disp():                 \n",
    "        print(\"this is disp\",x)\n",
    "    print(\"end of show\")\n",
    "    return disp\n",
    "fun=show()\n",
    "fun()"
   ]
  },
  {
   "cell_type": "code",
   "execution_count": 25,
   "metadata": {},
   "outputs": [
    {
     "name": "stdout",
     "output_type": "stream",
     "text": [
      "[10, 20, 30]\n",
      "[20, 30]\n"
     ]
    }
   ],
   "source": [
    "x=[10,20,30]\n",
    "print(x)\n",
    "del x[0]\n",
    "print(x)"
   ]
  },
  {
   "cell_type": "code",
   "execution_count": 26,
   "metadata": {},
   "outputs": [],
   "source": [
    "del x"
   ]
  },
  {
   "cell_type": "code",
   "execution_count": 27,
   "metadata": {},
   "outputs": [
    {
     "ename": "NameError",
     "evalue": "name 'x' is not defined",
     "output_type": "error",
     "traceback": [
      "\u001b[1;31m---------------------------------------------------------------------------\u001b[0m",
      "\u001b[1;31mNameError\u001b[0m                                 Traceback (most recent call last)",
      "Cell \u001b[1;32mIn[27], line 1\u001b[0m\n\u001b[1;32m----> 1\u001b[0m \u001b[39mprint\u001b[39m(x)\n",
      "\u001b[1;31mNameError\u001b[0m: name 'x' is not defined"
     ]
    }
   ],
   "source": [
    "print(x)"
   ]
  },
  {
   "cell_type": "code",
   "execution_count": 28,
   "metadata": {},
   "outputs": [
    {
     "ename": "SyntaxError",
     "evalue": "cannot delete literal (3129368736.py, line 1)",
     "output_type": "error",
     "traceback": [
      "\u001b[1;36m  Cell \u001b[1;32mIn[28], line 1\u001b[1;36m\u001b[0m\n\u001b[1;33m    del 10\u001b[0m\n\u001b[1;37m        ^\u001b[0m\n\u001b[1;31mSyntaxError\u001b[0m\u001b[1;31m:\u001b[0m cannot delete literal\n"
     ]
    }
   ],
   "source": [
    "del 10"
   ]
  },
  {
   "cell_type": "code",
   "execution_count": 29,
   "metadata": {},
   "outputs": [
    {
     "name": "stdout",
     "output_type": "stream",
     "text": [
      "this is show\n",
      "end of show\n",
      "this is disp 10\n"
     ]
    }
   ],
   "source": [
    "def show():                     \n",
    "    print(\"this is show\")\n",
    "    x=10\n",
    "    def disp():                 \n",
    "        print(\"this is disp\",x)\n",
    "    print(\"end of show\")\n",
    "    return disp\n",
    "fun=show()\n",
    "fun()\n",
    "del show"
   ]
  },
  {
   "cell_type": "code",
   "execution_count": 30,
   "metadata": {},
   "outputs": [
    {
     "ename": "NameError",
     "evalue": "name 'show' is not defined",
     "output_type": "error",
     "traceback": [
      "\u001b[1;31m---------------------------------------------------------------------------\u001b[0m",
      "\u001b[1;31mNameError\u001b[0m                                 Traceback (most recent call last)",
      "Cell \u001b[1;32mIn[30], line 1\u001b[0m\n\u001b[1;32m----> 1\u001b[0m show()\n",
      "\u001b[1;31mNameError\u001b[0m: name 'show' is not defined"
     ]
    }
   ],
   "source": [
    "show()"
   ]
  },
  {
   "cell_type": "code",
   "execution_count": 31,
   "metadata": {},
   "outputs": [
    {
     "name": "stdout",
     "output_type": "stream",
     "text": [
      "this is show\n",
      "end of show\n",
      "this is disp 10\n",
      "this is disp 10\n"
     ]
    }
   ],
   "source": [
    "def show():                     \n",
    "    print(\"this is show\")\n",
    "    x=10\n",
    "    def disp():                 # closure function\n",
    "        print(\"this is disp\",x)\n",
    "    print(\"end of show\")\n",
    "    return disp\n",
    "fun=show()\n",
    "fun()\n",
    "del show\n",
    "fun()"
   ]
  },
  {
   "cell_type": "code",
   "execution_count": 32,
   "metadata": {},
   "outputs": [],
   "source": [
    "x=print"
   ]
  },
  {
   "cell_type": "code",
   "execution_count": 33,
   "metadata": {},
   "outputs": [
    {
     "name": "stdout",
     "output_type": "stream",
     "text": [
      "hello\n"
     ]
    }
   ],
   "source": [
    "x(\"hello\")"
   ]
  },
  {
   "cell_type": "code",
   "execution_count": 34,
   "metadata": {},
   "outputs": [],
   "source": [
    "y=len"
   ]
  },
  {
   "cell_type": "code",
   "execution_count": 35,
   "metadata": {},
   "outputs": [],
   "source": [
    "s=\"india\""
   ]
  },
  {
   "cell_type": "code",
   "execution_count": 36,
   "metadata": {},
   "outputs": [
    {
     "data": {
      "text/plain": [
       "5"
      ]
     },
     "execution_count": 36,
     "metadata": {},
     "output_type": "execute_result"
    }
   ],
   "source": [
    "y(s)"
   ]
  },
  {
   "cell_type": "code",
   "execution_count": 37,
   "metadata": {},
   "outputs": [
    {
     "data": {
      "text/plain": [
       "5"
      ]
     },
     "execution_count": 37,
     "metadata": {},
     "output_type": "execute_result"
    }
   ],
   "source": [
    "len(s)"
   ]
  },
  {
   "cell_type": "code",
   "execution_count": 38,
   "metadata": {},
   "outputs": [
    {
     "name": "stdout",
     "output_type": "stream",
     "text": [
      "this is f1\n",
      "this is f2\n",
      "this is f3\n"
     ]
    }
   ],
   "source": [
    "# function chaining.\n",
    "def f1():\n",
    "    print(\"this is f1\")\n",
    "    return f2\n",
    "def f2():\n",
    "    print(\"this is f2\")\n",
    "    return f3\n",
    "def f3():\n",
    "    print(\"this is f3\")\n",
    "x=f1()\n",
    "y=x()\n",
    "y()"
   ]
  },
  {
   "cell_type": "code",
   "execution_count": 39,
   "metadata": {},
   "outputs": [
    {
     "name": "stdout",
     "output_type": "stream",
     "text": [
      "this is f1\n",
      "this is f2\n",
      "this is f3\n"
     ]
    }
   ],
   "source": [
    "def f1():\n",
    "    print(\"this is f1\")\n",
    "    return f2\n",
    "def f2():\n",
    "    print(\"this is f2\")\n",
    "    return f3\n",
    "def f3():\n",
    "    print(\"this is f3\")\n",
    "f1()()() # this is known as function chaining."
   ]
  },
  {
   "cell_type": "code",
   "execution_count": 40,
   "metadata": {},
   "outputs": [
    {
     "name": "stdout",
     "output_type": "stream",
     "text": [
      "this is f1\n",
      "this is f2\n",
      "this is f3\n",
      "10\n"
     ]
    }
   ],
   "source": [
    "def f1():   # high order fun\n",
    "    print(\"this is f1\")\n",
    "    return f2\n",
    "def f2():   # high order fun\n",
    "    print(\"this is f2\")\n",
    "    return f3\n",
    "def f3():\n",
    "    print(\"this is f3\")\n",
    "    return 10\n",
    "z=f1()()()\n",
    "print(z)"
   ]
  },
  {
   "cell_type": "code",
   "execution_count": 41,
   "metadata": {},
   "outputs": [
    {
     "name": "stdout",
     "output_type": "stream",
     "text": [
      "this is f1\n",
      "this is f2\n",
      "this is f3\n"
     ]
    },
    {
     "ename": "TypeError",
     "evalue": "'int' object is not callable",
     "output_type": "error",
     "traceback": [
      "\u001b[1;31m---------------------------------------------------------------------------\u001b[0m",
      "\u001b[1;31mTypeError\u001b[0m                                 Traceback (most recent call last)",
      "Cell \u001b[1;32mIn[41], line 11\u001b[0m\n\u001b[0;32m      9\u001b[0m     \u001b[39mreturn\u001b[39;00m \u001b[39m10\u001b[39m\n\u001b[0;32m     10\u001b[0m z\u001b[39m=\u001b[39mf1()()()\n\u001b[1;32m---> 11\u001b[0m z()\n",
      "\u001b[1;31mTypeError\u001b[0m: 'int' object is not callable"
     ]
    }
   ],
   "source": [
    "def f1():\n",
    "    print(\"this is f1\")\n",
    "    return f2\n",
    "def f2():\n",
    "    print(\"this is f2\")\n",
    "    return f3\n",
    "def f3():\n",
    "    print(\"this is f3\")\n",
    "    return 10\n",
    "z=f1()()()\n",
    "z()"
   ]
  },
  {
   "cell_type": "code",
   "execution_count": 42,
   "metadata": {},
   "outputs": [
    {
     "name": "stdout",
     "output_type": "stream",
     "text": [
      "this is show\n",
      "this is f1\n",
      "this is show\n",
      "this is f2\n",
      "this is show\n",
      "this is f3\n"
     ]
    }
   ],
   "source": [
    "# function as arguments\n",
    "def show(x):   # high order fun\n",
    "    print(\"this is show\")\n",
    "    x()\n",
    "show(f1)\n",
    "show(f2)\n",
    "show(f3)"
   ]
  },
  {
   "cell_type": "code",
   "execution_count": 43,
   "metadata": {},
   "outputs": [
    {
     "name": "stdout",
     "output_type": "stream",
     "text": [
      "this is show\n",
      "this is disp\n"
     ]
    }
   ],
   "source": [
    "def disp():  \n",
    "    print(\"this is disp\")\n",
    "show(disp)"
   ]
  },
  {
   "cell_type": "code",
   "execution_count": 44,
   "metadata": {},
   "outputs": [],
   "source": [
    "# High order function.\n",
    "# A fun is said to be high order if\n",
    "#   -it returns a fun\n",
    "#    or\n",
    "#   -it takes a fun as arg\n",
    "#    or\n",
    "#    both"
   ]
  },
  {
   "cell_type": "code",
   "execution_count": 45,
   "metadata": {},
   "outputs": [
    {
     "name": "stdout",
     "output_type": "stream",
     "text": [
      "[4, 5, 5, 6]\n"
     ]
    }
   ],
   "source": [
    "# how to find the length of sonu,virat,rohit,sachin.\n",
    "x=['sonu','virat','rohit','sachin']\n",
    "y=[]\n",
    "for i in x:\n",
    "    y.append(len(i))\n",
    "print(y)"
   ]
  },
  {
   "cell_type": "code",
   "execution_count": 46,
   "metadata": {},
   "outputs": [
    {
     "name": "stdout",
     "output_type": "stream",
     "text": [
      "<map object at 0x000001D3E2585CF0>\n",
      "[4, 5, 5, 6]\n"
     ]
    }
   ],
   "source": [
    "# map() fun\n",
    "x=['sonu','virat','rohit','sachin']\n",
    "m=map(len,x)\n",
    "print(m)\n",
    "print(list(m))"
   ]
  },
  {
   "cell_type": "code",
   "execution_count": 47,
   "metadata": {},
   "outputs": [
    {
     "name": "stdout",
     "output_type": "stream",
     "text": [
      "[4, 5, 5, 6]\n"
     ]
    }
   ],
   "source": [
    "x=['sonu','virat','rohit','sachin']\n",
    "y=list(map(len,x))\n",
    "print(y)"
   ]
  },
  {
   "cell_type": "code",
   "execution_count": 48,
   "metadata": {},
   "outputs": [
    {
     "name": "stdout",
     "output_type": "stream",
     "text": [
      "[4, 5, 5, 6]\n",
      "()\n"
     ]
    }
   ],
   "source": [
    "m=map(len,x)\n",
    "print(list(m))\n",
    "print(tuple(m))"
   ]
  },
  {
   "cell_type": "code",
   "execution_count": 49,
   "metadata": {},
   "outputs": [
    {
     "name": "stdout",
     "output_type": "stream",
     "text": [
      "(4, 5, 5, 6)\n",
      "[]\n"
     ]
    }
   ],
   "source": [
    "m=map(len,x)\n",
    "print(tuple(m))\n",
    "print(list(m))"
   ]
  },
  {
   "cell_type": "code",
   "execution_count": 50,
   "metadata": {},
   "outputs": [
    {
     "name": "stdout",
     "output_type": "stream",
     "text": [
      "['n', 'a', 'h', 'a']\n"
     ]
    }
   ],
   "source": [
    "x=['sonu','virat','rohit','sachin']\n",
    "print(list(map(min,x)))"
   ]
  },
  {
   "cell_type": "code",
   "execution_count": 51,
   "metadata": {},
   "outputs": [
    {
     "ename": "TypeError",
     "evalue": "'int' object is not iterable",
     "output_type": "error",
     "traceback": [
      "\u001b[1;31m---------------------------------------------------------------------------\u001b[0m",
      "\u001b[1;31mTypeError\u001b[0m                                 Traceback (most recent call last)",
      "Cell \u001b[1;32mIn[51], line 2\u001b[0m\n\u001b[0;32m      1\u001b[0m x\u001b[39m=\u001b[39m[\u001b[39m'\u001b[39m\u001b[39msonu\u001b[39m\u001b[39m'\u001b[39m,\u001b[39m'\u001b[39m\u001b[39mvirat\u001b[39m\u001b[39m'\u001b[39m,\u001b[39m'\u001b[39m\u001b[39mrohit\u001b[39m\u001b[39m'\u001b[39m,\u001b[39m'\u001b[39m\u001b[39msachin\u001b[39m\u001b[39m'\u001b[39m,\u001b[39m50\u001b[39m]\n\u001b[1;32m----> 2\u001b[0m \u001b[39mprint\u001b[39m(\u001b[39mlist\u001b[39;49m(\u001b[39mmap\u001b[39;49m(\u001b[39mmin\u001b[39;49m,x)))\n",
      "\u001b[1;31mTypeError\u001b[0m: 'int' object is not iterable"
     ]
    }
   ],
   "source": [
    "x=['sonu','virat','rohit','sachin',50]\n",
    "print(list(map(min,x)))"
   ]
  },
  {
   "cell_type": "code",
   "execution_count": 52,
   "metadata": {},
   "outputs": [
    {
     "ename": "NameError",
     "evalue": "name 'upper' is not defined",
     "output_type": "error",
     "traceback": [
      "\u001b[1;31m---------------------------------------------------------------------------\u001b[0m",
      "\u001b[1;31mNameError\u001b[0m                                 Traceback (most recent call last)",
      "Cell \u001b[1;32mIn[52], line 2\u001b[0m\n\u001b[0;32m      1\u001b[0m x\u001b[39m=\u001b[39m[\u001b[39m'\u001b[39m\u001b[39msonu\u001b[39m\u001b[39m'\u001b[39m,\u001b[39m'\u001b[39m\u001b[39mvirat\u001b[39m\u001b[39m'\u001b[39m,\u001b[39m'\u001b[39m\u001b[39mrohit\u001b[39m\u001b[39m'\u001b[39m,\u001b[39m'\u001b[39m\u001b[39msachin\u001b[39m\u001b[39m'\u001b[39m]\n\u001b[1;32m----> 2\u001b[0m \u001b[39mprint\u001b[39m(\u001b[39mlist\u001b[39m(\u001b[39mmap\u001b[39m(upper,x)))\n",
      "\u001b[1;31mNameError\u001b[0m: name 'upper' is not defined"
     ]
    }
   ],
   "source": [
    "x=['sonu','virat','rohit','sachin']\n",
    "print(list(map(upper,x)))"
   ]
  },
  {
   "cell_type": "code",
   "execution_count": 53,
   "metadata": {},
   "outputs": [
    {
     "name": "stdout",
     "output_type": "stream",
     "text": [
      "['SONU', 'VIRAT', 'ROHIT', 'SACHIN']\n"
     ]
    }
   ],
   "source": [
    "x=['sonu','virat','rohit','sachin']\n",
    "print(list(map(str.upper,x)))"
   ]
  },
  {
   "cell_type": "code",
   "execution_count": 54,
   "metadata": {},
   "outputs": [
    {
     "name": "stdout",
     "output_type": "stream",
     "text": [
      "[5, 30, 2, 60]\n"
     ]
    }
   ],
   "source": [
    "x=['5','30','2','60']\n",
    "Y=list(map(int,x))\n",
    "print(Y)"
   ]
  },
  {
   "cell_type": "code",
   "execution_count": 56,
   "metadata": {},
   "outputs": [
    {
     "name": "stdout",
     "output_type": "stream",
     "text": [
      "7,4,9\n"
     ]
    }
   ],
   "source": [
    "s=input(\"enter marks of 3 subjects separated by comma:\")\n",
    "print(s)"
   ]
  },
  {
   "cell_type": "code",
   "execution_count": null,
   "metadata": {},
   "outputs": [
    {
     "data": {
      "text/plain": [
       "'7,4,9'"
      ]
     },
     "execution_count": 3,
     "metadata": {},
     "output_type": "execute_result"
    }
   ],
   "source": [
    "s"
   ]
  },
  {
   "cell_type": "code",
   "execution_count": 57,
   "metadata": {},
   "outputs": [],
   "source": [
    "l=s.split(',')"
   ]
  },
  {
   "cell_type": "code",
   "execution_count": 58,
   "metadata": {},
   "outputs": [],
   "source": [
    "l2=list(map(int,l))"
   ]
  },
  {
   "cell_type": "code",
   "execution_count": 59,
   "metadata": {},
   "outputs": [
    {
     "data": {
      "text/plain": [
       "6.67"
      ]
     },
     "execution_count": 59,
     "metadata": {},
     "output_type": "execute_result"
    }
   ],
   "source": [
    "round(sum(l2)/len(l2),2)"
   ]
  },
  {
   "cell_type": "code",
   "execution_count": 60,
   "metadata": {},
   "outputs": [
    {
     "name": "stdout",
     "output_type": "stream",
     "text": [
      "78.67\n"
     ]
    }
   ],
   "source": [
    "x=input(\"enter marks of 3 subjects seperated by comma:\").split(\",\")\n",
    "y=list(map(int,x))\n",
    "print(round(sum(y)/len(y),2))"
   ]
  },
  {
   "cell_type": "code",
   "execution_count": 61,
   "metadata": {},
   "outputs": [
    {
     "data": {
      "text/plain": [
       "['78', '60', '98']"
      ]
     },
     "execution_count": 61,
     "metadata": {},
     "output_type": "execute_result"
    }
   ],
   "source": [
    "x"
   ]
  },
  {
   "cell_type": "code",
   "execution_count": 62,
   "metadata": {},
   "outputs": [
    {
     "name": "stdout",
     "output_type": "stream",
     "text": [
      "358\n"
     ]
    }
   ],
   "source": [
    "x=input(\"enter marks of 3 subjects seperated by comma:\").split(\",\")\n",
    "y=list(map(int,x))\n",
    "print(sum(y))"
   ]
  },
  {
   "cell_type": "code",
   "execution_count": 63,
   "metadata": {},
   "outputs": [
    {
     "data": {
      "text/plain": [
       "['2', '3', '56', '76', '39', '45', '92', '45']"
      ]
     },
     "execution_count": 63,
     "metadata": {},
     "output_type": "execute_result"
    }
   ],
   "source": [
    "x"
   ]
  },
  {
   "cell_type": "code",
   "execution_count": 64,
   "metadata": {},
   "outputs": [
    {
     "name": "stdout",
     "output_type": "stream",
     "text": [
      "[4.0, 5.0, 7.0, 10.0]\n"
     ]
    }
   ],
   "source": [
    "import math\n",
    "x=[16,25,49,100]\n",
    "print(list(map(math.sqrt,x)))"
   ]
  },
  {
   "cell_type": "markdown",
   "metadata": {},
   "source": [
    "**map(a.b,c)**\n",
    "-if a is module then b is function of a.\n",
    "-if a is datatype then b is method of a."
   ]
  },
  {
   "cell_type": "code",
   "execution_count": 65,
   "metadata": {},
   "outputs": [
    {
     "name": "stdout",
     "output_type": "stream",
     "text": [
      "this is sqr\n",
      "this is sqr\n",
      "this is sqr\n",
      "this is sqr\n",
      "[1, 4, 9, 16]\n"
     ]
    }
   ],
   "source": [
    "x=[1,2,3,4]\n",
    "def sqr(num):\n",
    "    print(\"this is sqr\")\n",
    "    return num**2\n",
    "print(list(map(sqr,x)))"
   ]
  },
  {
   "cell_type": "code",
   "execution_count": 66,
   "metadata": {},
   "outputs": [
    {
     "data": {
      "text/plain": [
       "[3, 5, 7, 9]"
      ]
     },
     "execution_count": 66,
     "metadata": {},
     "output_type": "execute_result"
    }
   ],
   "source": [
    "x=[1,2,3,4]\n",
    "y=[2,3,4,5]\n",
    "def sum(a,b):\n",
    "    return a+b\n",
    "list(map(sum,x,y))"
   ]
  },
  {
   "cell_type": "code",
   "execution_count": 67,
   "metadata": {},
   "outputs": [
    {
     "data": {
      "text/plain": [
       "[3, 5, 7, 9]"
      ]
     },
     "execution_count": 67,
     "metadata": {},
     "output_type": "execute_result"
    }
   ],
   "source": [
    "x=[1,2,3,4]\n",
    "y=[2,3,4,5,8]\n",
    "def sum(a,b):\n",
    "    return a+b\n",
    "list(map(sum,x,y))"
   ]
  },
  {
   "cell_type": "code",
   "execution_count": 68,
   "metadata": {},
   "outputs": [
    {
     "name": "stdout",
     "output_type": "stream",
     "text": [
      "[2, 4, 6, 8, 10]\n"
     ]
    }
   ],
   "source": [
    "# filter()\n",
    "def checkeven(num):\n",
    "    if (num%2==0):\n",
    "        return True\n",
    "    else:\n",
    "        return False\n",
    "    \n",
    "x=[1,2,3,4,5,6,7,8,9,10]\n",
    "print(list(filter(checkeven,x)))  # filter store only true result."
   ]
  },
  {
   "cell_type": "code",
   "execution_count": 69,
   "metadata": {},
   "outputs": [
    {
     "name": "stdout",
     "output_type": "stream",
     "text": [
      "[1, 3, 5, 7, 9]\n"
     ]
    }
   ],
   "source": [
    "# filter()\n",
    "def checkeven(num):\n",
    "    if (num%2==0):\n",
    "        return False\n",
    "    else:\n",
    "        return True\n",
    "    \n",
    "x=[1,2,3,4,5,6,7,8,9,10]\n",
    "print(list(filter(checkeven,x)))"
   ]
  },
  {
   "cell_type": "code",
   "execution_count": 70,
   "metadata": {},
   "outputs": [
    {
     "name": "stdout",
     "output_type": "stream",
     "text": [
      "[1, 2, 3, 4, 5, 6, 7, 8, 9, 10]\n"
     ]
    }
   ],
   "source": [
    "# filter()\n",
    "def checkeven(num):\n",
    "    if (num%2==0):\n",
    "        return True\n",
    "    else:\n",
    "        return True\n",
    "    \n",
    "x=[1,2,3,4,5,6,7,8,9,10]\n",
    "print(list(filter(checkeven,x)))"
   ]
  },
  {
   "cell_type": "code",
   "execution_count": 71,
   "metadata": {},
   "outputs": [
    {
     "name": "stdout",
     "output_type": "stream",
     "text": [
      "[]\n"
     ]
    }
   ],
   "source": [
    "# filter()\n",
    "def checkeven(num):\n",
    "    if (num%2==0):\n",
    "        return False\n",
    "    else:\n",
    "        return False\n",
    "    \n",
    "x=[1,2,3,4,5,6,7,8,9,10]\n",
    "print(list(filter(checkeven,x)))"
   ]
  },
  {
   "cell_type": "markdown",
   "metadata": {},
   "source": [
    "0/0.0/None/\"\"===>false\n",
    "other value===>true"
   ]
  },
  {
   "cell_type": "code",
   "execution_count": 72,
   "metadata": {},
   "outputs": [
    {
     "name": "stdout",
     "output_type": "stream",
     "text": [
      "[1, 2, 3, 4, 5, 6, 7, 8, 9, 10]\n"
     ]
    }
   ],
   "source": [
    "# filter()\n",
    "def checkeven(num):\n",
    "    if (num%2==0):\n",
    "        return 2023\n",
    "    else:\n",
    "        return \"19 abs\"\n",
    "    \n",
    "x=[1,2,3,4,5,6,7,8,9,10]\n",
    "print(list(filter(checkeven,x)))"
   ]
  },
  {
   "cell_type": "code",
   "execution_count": 73,
   "metadata": {},
   "outputs": [
    {
     "name": "stdout",
     "output_type": "stream",
     "text": [
      "[2, 4, 6, 8, 10]\n"
     ]
    }
   ],
   "source": [
    "# filter()\n",
    "def checkeven(num):\n",
    "    if (num%2==0):\n",
    "        return 2023\n",
    "    else:\n",
    "        return \"\"\n",
    "    \n",
    "x=[1,2,3,4,5,6,7,8,9,10]\n",
    "print(list(filter(checkeven,x)))"
   ]
  },
  {
   "cell_type": "markdown",
   "metadata": {},
   "source": [
    "**Generator function**\n",
    "-->it generates one value at a time, hence optimizing memory.\n",
    "-->it is useful when we want to process one value at time of a sequence.\n",
    "-->it is not used situations where we need to work on multiple values at a time like(searching,sorting,sum,avg,etc.)"
   ]
  },
  {
   "cell_type": "code",
   "execution_count": 74,
   "metadata": {},
   "outputs": [
    {
     "data": {
      "text/plain": [
       "<generator object mygen at 0x000001D3E2AD73D0>"
      ]
     },
     "execution_count": 74,
     "metadata": {},
     "output_type": "execute_result"
    }
   ],
   "source": [
    "# Generater function.\n",
    "# koi bhi function generater kahlata hai agar uske saat return ke badle yield lagta hai.\n",
    "def mygen():   # define logic of generator function.\n",
    "    yield 5\n",
    "    yield 6\n",
    "    yield 10\n",
    "gen=mygen()   # create and returns generator type.\n",
    "gen"
   ]
  },
  {
   "cell_type": "code",
   "execution_count": 75,
   "metadata": {},
   "outputs": [
    {
     "name": "stdout",
     "output_type": "stream",
     "text": [
      "5\n",
      "6\n",
      "10\n"
     ]
    }
   ],
   "source": [
    "def mygen():\n",
    "    yield 5\n",
    "    yield 6\n",
    "    yield 10\n",
    "gen=mygen()\n",
    "print(next(gen))\n",
    "print(next(gen))\n",
    "print(next(gen))"
   ]
  },
  {
   "cell_type": "code",
   "execution_count": 76,
   "metadata": {},
   "outputs": [
    {
     "name": "stdout",
     "output_type": "stream",
     "text": [
      "5\n",
      "6\n",
      "10\n"
     ]
    },
    {
     "ename": "StopIteration",
     "evalue": "",
     "output_type": "error",
     "traceback": [
      "\u001b[1;31m---------------------------------------------------------------------------\u001b[0m",
      "\u001b[1;31mStopIteration\u001b[0m                             Traceback (most recent call last)",
      "Cell \u001b[1;32mIn[76], line 9\u001b[0m\n\u001b[0;32m      7\u001b[0m \u001b[39mprint\u001b[39m(\u001b[39mnext\u001b[39m(gen))\n\u001b[0;32m      8\u001b[0m \u001b[39mprint\u001b[39m(\u001b[39mnext\u001b[39m(gen))\n\u001b[1;32m----> 9\u001b[0m \u001b[39mprint\u001b[39m(\u001b[39mnext\u001b[39;49m(gen))\n",
      "\u001b[1;31mStopIteration\u001b[0m: "
     ]
    }
   ],
   "source": [
    "def mygen():\n",
    "    yield 5\n",
    "    yield 6\n",
    "    yield 10\n",
    "gen=mygen()\n",
    "print(next(gen))\n",
    "print(next(gen))\n",
    "print(next(gen))\n",
    "print(next(gen))"
   ]
  },
  {
   "cell_type": "code",
   "execution_count": 77,
   "metadata": {},
   "outputs": [],
   "source": [
    "def mygen():\n",
    "    print('hi')\n",
    "    yield 5\n",
    "    print('hello')\n",
    "    yield 6\n",
    "    print('bye')\n",
    "    yield 10\n",
    "gen=mygen()"
   ]
  },
  {
   "cell_type": "code",
   "execution_count": 78,
   "metadata": {},
   "outputs": [
    {
     "name": "stdout",
     "output_type": "stream",
     "text": [
      "hi\n",
      "5\n"
     ]
    }
   ],
   "source": [
    "print(next(gen))"
   ]
  },
  {
   "cell_type": "code",
   "execution_count": 79,
   "metadata": {},
   "outputs": [
    {
     "name": "stdout",
     "output_type": "stream",
     "text": [
      "hello\n",
      "6\n"
     ]
    }
   ],
   "source": [
    "print(next(gen))"
   ]
  },
  {
   "cell_type": "code",
   "execution_count": 80,
   "metadata": {},
   "outputs": [
    {
     "name": "stdout",
     "output_type": "stream",
     "text": [
      "bye\n",
      "10\n"
     ]
    }
   ],
   "source": [
    "print(next(gen))"
   ]
  },
  {
   "cell_type": "code",
   "execution_count": 81,
   "metadata": {},
   "outputs": [
    {
     "name": "stdout",
     "output_type": "stream",
     "text": [
      "5\n",
      "6\n",
      "10\n"
     ]
    }
   ],
   "source": [
    "def mygen():\n",
    "    yield 5\n",
    "    yield 6\n",
    "    yield 10\n",
    "\n",
    "gen=mygen()\n",
    "for i in gen:   # generator is also iterable.\n",
    "    print(i)"
   ]
  },
  {
   "cell_type": "code",
   "execution_count": 82,
   "metadata": {},
   "outputs": [
    {
     "name": "stdout",
     "output_type": "stream",
     "text": [
      "5\n",
      "6\n",
      "10\n"
     ]
    }
   ],
   "source": [
    "for i in mygen():\n",
    "    print(i)"
   ]
  },
  {
   "cell_type": "code",
   "execution_count": 83,
   "metadata": {},
   "outputs": [
    {
     "name": "stdout",
     "output_type": "stream",
     "text": [
      "1\n",
      "2\n",
      "3\n",
      "4\n",
      "5\n",
      "6\n",
      "7\n",
      "8\n",
      "9\n",
      "10\n"
     ]
    }
   ],
   "source": [
    "def mygen():\n",
    "    start=1\n",
    "    while(start<=10):\n",
    "        yield start\n",
    "        start+=1\n",
    "for i in mygen():\n",
    "    print(i)"
   ]
  },
  {
   "cell_type": "code",
   "execution_count": 84,
   "metadata": {},
   "outputs": [
    {
     "name": "stdout",
     "output_type": "stream",
     "text": [
      "1\n",
      "3\n",
      "5\n",
      "7\n",
      "9\n"
     ]
    }
   ],
   "source": [
    "def mygen():\n",
    "    start=1\n",
    "    while(start<=10):\n",
    "        yield start\n",
    "        start+=2\n",
    "for i in mygen():\n",
    "    print(i)"
   ]
  },
  {
   "cell_type": "code",
   "execution_count": 88,
   "metadata": {},
   "outputs": [
    {
     "name": "stdout",
     "output_type": "stream",
     "text": [
      "1\n",
      "2\n",
      "3\n",
      "4\n",
      "5\n",
      "6\n",
      "7\n",
      "8\n",
      "9\n",
      "10\n"
     ]
    }
   ],
   "source": [
    "def mygen(start,stop):\n",
    "    while(start<=stop):\n",
    "        yield start\n",
    "        start+=1\n",
    "for i in mygen(1,10):\n",
    "    print(i)"
   ]
  },
  {
   "cell_type": "code",
   "execution_count": 89,
   "metadata": {},
   "outputs": [
    {
     "name": "stdout",
     "output_type": "stream",
     "text": [
      "10\n",
      "11\n",
      "12\n",
      "13\n",
      "14\n",
      "15\n",
      "16\n"
     ]
    }
   ],
   "source": [
    "for i in mygen(10,16):\n",
    "    print(i)"
   ]
  },
  {
   "cell_type": "code",
   "execution_count": 90,
   "metadata": {},
   "outputs": [
    {
     "name": "stdout",
     "output_type": "stream",
     "text": [
      "1\n",
      "3\n",
      "5\n",
      "7\n",
      "9\n"
     ]
    }
   ],
   "source": [
    "def mygen(start,stop):\n",
    "    while(start<=stop):\n",
    "        yield start\n",
    "        start+=2\n",
    "for i in mygen(1,10):\n",
    "    print(i)"
   ]
  },
  {
   "cell_type": "code",
   "execution_count": 91,
   "metadata": {},
   "outputs": [
    {
     "name": "stdout",
     "output_type": "stream",
     "text": [
      "1\n",
      "2\n",
      "3\n",
      "4\n",
      "5\n",
      "6\n",
      "7\n",
      "8\n",
      "9\n",
      "10\n"
     ]
    }
   ],
   "source": [
    "def mygen(start,stop,step):\n",
    "    while(start<=stop):\n",
    "        yield start\n",
    "        start+=step\n",
    "for i in mygen(1,10,1):\n",
    "    print(i)"
   ]
  },
  {
   "cell_type": "code",
   "execution_count": 92,
   "metadata": {},
   "outputs": [
    {
     "name": "stdout",
     "output_type": "stream",
     "text": [
      "1\n",
      "3\n",
      "5\n",
      "7\n",
      "9\n"
     ]
    }
   ],
   "source": [
    "def mygen(start,stop,step):\n",
    "    while(start<=stop):\n",
    "        yield start\n",
    "        start+=step\n",
    "for i in mygen(1,10,2):\n",
    "    print(i)"
   ]
  },
  {
   "cell_type": "code",
   "execution_count": 93,
   "metadata": {},
   "outputs": [
    {
     "name": "stdout",
     "output_type": "stream",
     "text": [
      "1\n",
      "1.5\n",
      "2.0\n",
      "2.5\n",
      "3.0\n",
      "3.5\n",
      "4.0\n",
      "4.5\n",
      "5.0\n",
      "5.5\n",
      "6.0\n",
      "6.5\n",
      "7.0\n",
      "7.5\n",
      "8.0\n",
      "8.5\n",
      "9.0\n",
      "9.5\n",
      "10.0\n"
     ]
    }
   ],
   "source": [
    "def mygen(start,stop,step):\n",
    "    while(start<=stop):\n",
    "        yield start\n",
    "        start+=step\n",
    "for i in mygen(1,10,.5):\n",
    "    print(i)"
   ]
  },
  {
   "cell_type": "code",
   "execution_count": 1,
   "metadata": {},
   "outputs": [
    {
     "name": "stdout",
     "output_type": "stream",
     "text": [
      "1\n",
      "4\n",
      "7\n",
      "10\n"
     ]
    }
   ],
   "source": [
    "def mygen(start,stop,step):\n",
    "    while(start<=stop):\n",
    "        yield start\n",
    "        start+=step\n",
    "for i in mygen(1,10,3):\n",
    "    print(i)"
   ]
  },
  {
   "cell_type": "markdown",
   "metadata": {},
   "source": [
    "**Decorator function**\n",
    "--> it is a function that extends functionality of other function without modifying it's internal code.\n",
    "-->according to concept it is just a design to define a function.\n",
    "    -takes arg as fun\n",
    "    -define a nested fun\n",
    "    -call arg fun\n",
    "    -add new code\n",
    "    -returns nested function"
   ]
  },
  {
   "cell_type": "code",
   "execution_count": 2,
   "metadata": {},
   "outputs": [
    {
     "name": "stdout",
     "output_type": "stream",
     "text": [
      "this is login\n"
     ]
    }
   ],
   "source": [
    "def login():\n",
    "    print(\"this is login\")\n",
    "\n",
    "login()"
   ]
  },
  {
   "cell_type": "code",
   "execution_count": 5,
   "metadata": {},
   "outputs": [
    {
     "name": "stdout",
     "output_type": "stream",
     "text": [
      "this is login\n",
      "Fri Aug 18 18:38:38 2023\n"
     ]
    }
   ],
   "source": [
    "def login():\n",
    "    print(\"this is login\")\n",
    "    import time\n",
    "    print(time.ctime())\n",
    "login()\n"
   ]
  },
  {
   "cell_type": "code",
   "execution_count": 3,
   "metadata": {},
   "outputs": [
    {
     "name": "stdout",
     "output_type": "stream",
     "text": [
      "this is login\n",
      "Fri Aug 18 18:35:06 2023\n"
     ]
    }
   ],
   "source": [
    "#decorator function\n",
    "def datedecorator(fun):\n",
    "    def adddate():\n",
    "        fun()\n",
    "        import time\n",
    "        print(time.ctime())\n",
    "    return adddate\n",
    "\n",
    "login1=datedecorator(login)\n",
    "login1()"
   ]
  },
  {
   "cell_type": "code",
   "execution_count": 4,
   "metadata": {},
   "outputs": [
    {
     "name": "stdout",
     "output_type": "stream",
     "text": [
      "this is login\n",
      "Fri Aug 18 18:36:09 2023\n"
     ]
    }
   ],
   "source": [
    "login=datedecorator(login)\n",
    "login()"
   ]
  },
  {
   "cell_type": "code",
   "execution_count": 9,
   "metadata": {},
   "outputs": [
    {
     "name": "stdout",
     "output_type": "stream",
     "text": [
      "Fri Aug 18 18:58:36 2023\n",
      "this is login\n",
      "Fri Aug 18 18:58:36 2023\n"
     ]
    }
   ],
   "source": [
    "#decorator function\n",
    "def datedecorator(fun):\n",
    "    def adddate():\n",
    "        import time\n",
    "        print(time.ctime())\n",
    "        fun()    \n",
    "    return adddate\n",
    "\n",
    "login1=datedecorator(login)\n",
    "login1()"
   ]
  },
  {
   "cell_type": "code",
   "execution_count": 6,
   "metadata": {},
   "outputs": [
    {
     "name": "stdout",
     "output_type": "stream",
     "text": [
      "this is register\n"
     ]
    }
   ],
   "source": [
    "def regsister():\n",
    "    print(\"this is register\")\n",
    "regsister()"
   ]
  },
  {
   "cell_type": "code",
   "execution_count": 7,
   "metadata": {},
   "outputs": [
    {
     "name": "stdout",
     "output_type": "stream",
     "text": [
      "this is register\n",
      "Fri Aug 18 18:42:52 2023\n"
     ]
    }
   ],
   "source": [
    "regsister=datedecorator(regsister)\n",
    "regsister()"
   ]
  },
  {
   "cell_type": "code",
   "execution_count": 8,
   "metadata": {},
   "outputs": [
    {
     "name": "stdout",
     "output_type": "stream",
     "text": [
      "this is upload\n",
      "Fri Aug 18 18:46:57 2023\n"
     ]
    }
   ],
   "source": [
    "@datedecorator    # no need to call decorator function.\n",
    "def upload():\n",
    "    print(\"this is upload\")\n",
    "upload()"
   ]
  },
  {
   "cell_type": "markdown",
   "metadata": {},
   "source": [
    "**Type of function defination**\n",
    "    1.def keyword(named function)\n",
    "    2.lambda keyword(anonymous function)"
   ]
  },
  {
   "cell_type": "markdown",
   "metadata": {},
   "source": [
    "-Def keyword\n",
    "  -syntax:\n",
    "         def funname(params):\n",
    "         ...\n",
    "         ...\n",
    "         returns stmt\n",
    "-lambda keyword\n",
    "  -syntex:\n",
    "  -lambda params: expression\n",
    "  -generally used in high order function to pass a fun as arg."
   ]
  },
  {
   "cell_type": "code",
   "execution_count": 10,
   "metadata": {},
   "outputs": [
    {
     "data": {
      "text/plain": [
       "[1, 4, 9, 16]"
      ]
     },
     "execution_count": 10,
     "metadata": {},
     "output_type": "execute_result"
    }
   ],
   "source": [
    "def sqr(num):\n",
    "    return num**2\n",
    "x=[1,2,3,4]\n",
    "list(list(map(sqr,x)))"
   ]
  },
  {
   "cell_type": "code",
   "execution_count": 11,
   "metadata": {},
   "outputs": [
    {
     "name": "stdout",
     "output_type": "stream",
     "text": [
      "25\n"
     ]
    }
   ],
   "source": [
    "print(sqr(5))"
   ]
  },
  {
   "cell_type": "code",
   "execution_count": 13,
   "metadata": {},
   "outputs": [
    {
     "name": "stdout",
     "output_type": "stream",
     "text": [
      "[1, 4, 9, 16]\n",
      "[1, 8, 27, 64]\n"
     ]
    }
   ],
   "source": [
    "x=[1,2,3,4]\n",
    "print(list(map(lambda num:num**2,x)))\n",
    "print(list(map(lambda num:num**3,x)))"
   ]
  },
  {
   "cell_type": "code",
   "execution_count": 14,
   "metadata": {},
   "outputs": [
    {
     "name": "stdout",
     "output_type": "stream",
     "text": [
      "[3, 3, 7, 9]\n"
     ]
    }
   ],
   "source": [
    "x=[1,2,3,4]\n",
    "y=[2,1,4,5]\n",
    "print(list(map(lambda a,b:a+b,x,y)))"
   ]
  },
  {
   "cell_type": "code",
   "execution_count": 17,
   "metadata": {},
   "outputs": [
    {
     "name": "stdout",
     "output_type": "stream",
     "text": [
      "[2, 4]\n"
     ]
    }
   ],
   "source": [
    "x=[1,2,3,4]\n",
    "print(list(filter(lambda num:num%2==0,x)))"
   ]
  },
  {
   "cell_type": "code",
   "execution_count": 18,
   "metadata": {},
   "outputs": [
    {
     "name": "stdout",
     "output_type": "stream",
     "text": [
      "this is show\n"
     ]
    }
   ],
   "source": [
    "def show():\n",
    "    print(\"this is show\")\n",
    "    return lambda:\"hello\"\n",
    "x=show()"
   ]
  },
  {
   "cell_type": "code",
   "execution_count": 19,
   "metadata": {},
   "outputs": [
    {
     "name": "stdout",
     "output_type": "stream",
     "text": [
      "<function show.<locals>.<lambda> at 0x000001A6D7C36AC0>\n"
     ]
    }
   ],
   "source": [
    "print(x)"
   ]
  },
  {
   "cell_type": "code",
   "execution_count": 20,
   "metadata": {},
   "outputs": [
    {
     "data": {
      "text/plain": [
       "'hello'"
      ]
     },
     "execution_count": 20,
     "metadata": {},
     "output_type": "execute_result"
    }
   ],
   "source": [
    "x()"
   ]
  },
  {
   "cell_type": "code",
   "execution_count": 21,
   "metadata": {},
   "outputs": [
    {
     "name": "stdout",
     "output_type": "stream",
     "text": [
      "[2, 4, 6, 8, 9]\n"
     ]
    }
   ],
   "source": [
    "x=[4,9,2,8,6]\n",
    "print(sorted(x))"
   ]
  },
  {
   "cell_type": "code",
   "execution_count": 22,
   "metadata": {},
   "outputs": [
    {
     "name": "stdout",
     "output_type": "stream",
     "text": [
      "[('ajay', 10), ('monu', 9), ('sonu', 7), ('vijay', 6)]\n"
     ]
    }
   ],
   "source": [
    "x=[('sonu',7),('monu',9),('ajay',10),('vijay',6)]\n",
    "print(sorted(x))"
   ]
  },
  {
   "cell_type": "code",
   "execution_count": 1,
   "metadata": {},
   "outputs": [
    {
     "name": "stdout",
     "output_type": "stream",
     "text": [
      "[1, 3, 4, 8, 10]\n"
     ]
    }
   ],
   "source": [
    "x=[4,1,8,10,3]\n",
    "print(sorted(x))"
   ]
  },
  {
   "cell_type": "code",
   "execution_count": 2,
   "metadata": {},
   "outputs": [
    {
     "name": "stdout",
     "output_type": "stream",
     "text": [
      "[('vijay', 6), ('sonu', 7), ('monu', 9), ('ajay', 10)]\n"
     ]
    }
   ],
   "source": [
    "x=[('sonu',7),('monu',9),('ajay',10),('vijay',6)]\n",
    "def markshort(tup):\n",
    "    return tup[1]\n",
    "print(sorted(x,key=markshort))"
   ]
  },
  {
   "cell_type": "code",
   "execution_count": 3,
   "metadata": {},
   "outputs": [
    {
     "name": "stdout",
     "output_type": "stream",
     "text": [
      "[('vijay', 6), ('sonu', 7), ('monu', 9), ('ajay', 10)]\n"
     ]
    }
   ],
   "source": [
    "print(sorted(x,key=lambda tup:tup[1]))"
   ]
  },
  {
   "cell_type": "code",
   "execution_count": 4,
   "metadata": {},
   "outputs": [
    {
     "name": "stdout",
     "output_type": "stream",
     "text": [
      "[('ajay', 10), ('monu', 9), ('sonu', 7), ('vijay', 6)]\n"
     ]
    }
   ],
   "source": [
    "print(sorted(x,key=lambda tup:tup[0]))"
   ]
  },
  {
   "cell_type": "code",
   "execution_count": 7,
   "metadata": {},
   "outputs": [
    {
     "name": "stdout",
     "output_type": "stream",
     "text": [
      "[('100', 'vijay', 6000), ('101', 'sonu', 12000), ('102', 'monu', 9000), ('205', 'ajay', 11000)]\n",
      "[('205', 'ajay', 11000), ('102', 'monu', 9000), ('101', 'sonu', 12000), ('100', 'vijay', 6000)]\n",
      "[('100', 'vijay', 6000), ('102', 'monu', 9000), ('205', 'ajay', 11000), ('101', 'sonu', 12000)]\n",
      "[('101', 'sonu', 12000), ('205', 'ajay', 11000), ('102', 'monu', 9000), ('100', 'vijay', 6000)]\n"
     ]
    }
   ],
   "source": [
    "x=[('101','sonu',12000),('102','monu',9000),('205','ajay',11000),('100','vijay',6000)]\n",
    "print(sorted(x,key=lambda tup:tup[0]))\n",
    "print(sorted(x,key=lambda tup:tup[1]))\n",
    "print(sorted(x,key=lambda tup:tup[2]))\n",
    "print(sorted(x,key=lambda tup:tup[2],reverse=True))"
   ]
  },
  {
   "cell_type": "code",
   "execution_count": 8,
   "metadata": {},
   "outputs": [],
   "source": [
    "f1=open(\"d:/msg.txt\",\"w\")\n",
    "print(\"hello\",file=f1,flush=True)\n",
    "f1.close()"
   ]
  },
  {
   "cell_type": "code",
   "execution_count": 9,
   "metadata": {},
   "outputs": [
    {
     "name": "stdout",
     "output_type": "stream",
     "text": [
      "hi\n"
     ]
    }
   ],
   "source": [
    "print(\"hi\")"
   ]
  },
  {
   "cell_type": "code",
   "execution_count": 10,
   "metadata": {},
   "outputs": [
    {
     "name": "stdout",
     "output_type": "stream",
     "text": [
      "hi"
     ]
    },
    {
     "data": {
      "text/plain": [
       "2"
      ]
     },
     "execution_count": 10,
     "metadata": {},
     "output_type": "execute_result"
    }
   ],
   "source": [
    "import sys\n",
    "sys.stdout.write(\"hi\")"
   ]
  },
  {
   "cell_type": "code",
   "execution_count": 11,
   "metadata": {},
   "outputs": [
    {
     "name": "stdout",
     "output_type": "stream",
     "text": [
      "hello"
     ]
    },
    {
     "data": {
      "text/plain": [
       "5"
      ]
     },
     "execution_count": 11,
     "metadata": {},
     "output_type": "execute_result"
    }
   ],
   "source": [
    "sys.stdout.write(\"hello\")"
   ]
  },
  {
   "cell_type": "code",
   "execution_count": 12,
   "metadata": {},
   "outputs": [
    {
     "name": "stdout",
     "output_type": "stream",
     "text": [
      "10\n"
     ]
    }
   ],
   "source": [
    "print(\"10\")"
   ]
  },
  {
   "cell_type": "code",
   "execution_count": 13,
   "metadata": {},
   "outputs": [
    {
     "name": "stdout",
     "output_type": "stream",
     "text": [
      "10\n"
     ]
    }
   ],
   "source": [
    "print(10)"
   ]
  },
  {
   "cell_type": "code",
   "execution_count": 14,
   "metadata": {},
   "outputs": [
    {
     "name": "stdout",
     "output_type": "stream",
     "text": [
      "hihello"
     ]
    },
    {
     "data": {
      "text/plain": [
       "5"
      ]
     },
     "execution_count": 14,
     "metadata": {},
     "output_type": "execute_result"
    }
   ],
   "source": [
    "sys.stdout.write(\"hi\")\n",
    "sys.stdout.write(\"hello\")"
   ]
  },
  {
   "cell_type": "code",
   "execution_count": 16,
   "metadata": {},
   "outputs": [
    {
     "name": "stderr",
     "output_type": "stream",
     "text": [
      "hi"
     ]
    },
    {
     "data": {
      "text/plain": [
       "2"
      ]
     },
     "execution_count": 16,
     "metadata": {},
     "output_type": "execute_result"
    }
   ],
   "source": [
    "sys.stderr.write(\"hi\")"
   ]
  },
  {
   "cell_type": "code",
   "execution_count": 17,
   "metadata": {},
   "outputs": [
    {
     "name": "stderr",
     "output_type": "stream",
     "text": [
      "hello:this is error"
     ]
    },
    {
     "data": {
      "text/plain": [
       "19"
      ]
     },
     "execution_count": 17,
     "metadata": {},
     "output_type": "execute_result"
    }
   ],
   "source": [
    "sys.stderr.write(\"hello:this is error\")"
   ]
  },
  {
   "cell_type": "code",
   "execution_count": null,
   "metadata": {},
   "outputs": [],
   "source": []
  }
 ],
 "metadata": {
  "kernelspec": {
   "display_name": "Python 3",
   "language": "python",
   "name": "python3"
  },
  "language_info": {
   "codemirror_mode": {
    "name": "ipython",
    "version": 3
   },
   "file_extension": ".py",
   "mimetype": "text/x-python",
   "name": "python",
   "nbconvert_exporter": "python",
   "pygments_lexer": "ipython3",
   "version": "3.11.3"
  },
  "orig_nbformat": 4
 },
 "nbformat": 4,
 "nbformat_minor": 2
}
