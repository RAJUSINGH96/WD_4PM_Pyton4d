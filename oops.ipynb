{
 "cells": [
  {
   "cell_type": "markdown",
   "metadata": {},
   "source": [
    "**oops-object oriented programming structure(oops)**\n",
    "  - it is a technique that simplify automation of real world application.\n",
    "  - there are following concepts in oops:\n",
    "       - object\n",
    "       - class\n",
    "       - inheritance\n",
    "       - polymorphism\n",
    "       - encapsulation\n",
    "       - abstraction\n",
    "       - etc.\n",
    "- There are following languages that implement above concepts.\n",
    "  - simula  (This programming language use first time oops.)\n",
    "  - smalltalk\n",
    "  - c++\n",
    "  - python\n",
    "  - java\n",
    "  - c#\n",
    "  - kotlin\n",
    "  - etc.\n",
    "\n",
    "### object\n",
    " - any real world entity(physical/logical) having properties(data members) and behaviours(operations).\n",
    " - expample:\n",
    "     - bank account as objects:\n",
    "         - properties--> acn,bank,type,etc.\n",
    "         - behaviours-->checkbal,deposit,withdraw,etc.\n",
    "\n",
    "     - human as object:\n",
    "         - properties-->name,dob,gender,etc.\n",
    "         - behaviours-->thinking,eating,sleeping,etc.\n",
    "- **in memory**, object is represented by dynamic memory allocation(i.e. size of object is not standard)\n",
    "- **in coding**, object is an instance(object/existance) of a class(drawing/blueprint...).\n",
    "### class \n",
    "  - A class is a buleprint/drawing/design/template for creating similar instances.\n",
    "  - A class represents a datatype."
   ]
  },
  {
   "cell_type": "code",
   "execution_count": 1,
   "metadata": {},
   "outputs": [
    {
     "name": "stdout",
     "output_type": "stream",
     "text": [
      "<class 'int'>\n"
     ]
    }
   ],
   "source": [
    "x=10\n",
    "print(type(x))"
   ]
  },
  {
   "cell_type": "code",
   "execution_count": 2,
   "metadata": {},
   "outputs": [
    {
     "name": "stdout",
     "output_type": "stream",
     "text": [
      "<class 'tuple'>\n"
     ]
    }
   ],
   "source": [
    "x=()\n",
    "print(type(x))"
   ]
  },
  {
   "cell_type": "code",
   "execution_count": 3,
   "metadata": {},
   "outputs": [
    {
     "name": "stdout",
     "output_type": "stream",
     "text": [
      "<class 'list'>\n"
     ]
    }
   ],
   "source": [
    "x=[]\n",
    "print(type(x))"
   ]
  },
  {
   "cell_type": "code",
   "execution_count": 4,
   "metadata": {},
   "outputs": [
    {
     "name": "stdout",
     "output_type": "stream",
     "text": [
      "<class 'dict'>\n"
     ]
    }
   ],
   "source": [
    "x={}\n",
    "print(type(x))"
   ]
  },
  {
   "cell_type": "code",
   "execution_count": 6,
   "metadata": {},
   "outputs": [
    {
     "ename": "AttributeError",
     "evalue": "'tuple' object has no attribute 'append'",
     "output_type": "error",
     "traceback": [
      "\u001b[1;31m---------------------------------------------------------------------------\u001b[0m",
      "\u001b[1;31mAttributeError\u001b[0m                            Traceback (most recent call last)",
      "Cell \u001b[1;32mIn[6], line 2\u001b[0m\n\u001b[0;32m      1\u001b[0m x\u001b[39m=\u001b[39m()\n\u001b[1;32m----> 2\u001b[0m x\u001b[39m.\u001b[39;49mappend(\u001b[39m10\u001b[39m)\n",
      "\u001b[1;31mAttributeError\u001b[0m: 'tuple' object has no attribute 'append'"
     ]
    }
   ],
   "source": [
    "x=()\n",
    "x.append(10)"
   ]
  },
  {
   "cell_type": "code",
   "execution_count": 7,
   "metadata": {},
   "outputs": [
    {
     "name": "stdout",
     "output_type": "stream",
     "text": [
      "<class 'int'> 28\n"
     ]
    }
   ],
   "source": [
    "import sys \n",
    "x=10 \n",
    "print(type(x),sys.getsizeof(x)) "
   ]
  },
  {
   "cell_type": "code",
   "execution_count": 8,
   "metadata": {},
   "outputs": [
    {
     "name": "stdout",
     "output_type": "stream",
     "text": [
      "<class 'int'> 40\n"
     ]
    }
   ],
   "source": [
    "x=107236734623788756712954798765432 \n",
    "print(type(x),sys.getsizeof(x)) "
   ]
  },
  {
   "cell_type": "code",
   "execution_count": 9,
   "metadata": {},
   "outputs": [
    {
     "name": "stdout",
     "output_type": "stream",
     "text": [
      "<class 'list'> 56\n"
     ]
    }
   ],
   "source": [
    "x=[] \n",
    "print(type(x),sys.getsizeof(x)) "
   ]
  },
  {
   "cell_type": "code",
   "execution_count": null,
   "metadata": {},
   "outputs": [],
   "source": [
    "# syntax to create python class:\n",
    "class classname:\n",
    "    # statements\n",
    "\n",
    "# syntax to create python object\n",
    "\n",
    "# objname=classname()"
   ]
  },
  {
   "cell_type": "code",
   "execution_count": 1,
   "metadata": {},
   "outputs": [
    {
     "name": "stdout",
     "output_type": "stream",
     "text": [
      "<__main__.account object at 0x00000202B3C7D590>\n",
      "<__main__.account object at 0x00000202B3C7D390>\n",
      "<__main__.emp object at 0x00000202B3C7E2D0>\n"
     ]
    }
   ],
   "source": [
    "class account:\n",
    "    pass\n",
    "\n",
    "class emp:\n",
    "    pass\n",
    "\n",
    "a1=account()  # a1 is reference variable.\n",
    "a2=account()\n",
    "e1=emp()\n",
    "print(a1)\n",
    "print(a2)\n",
    "print(e1)"
   ]
  },
  {
   "cell_type": "code",
   "execution_count": null,
   "metadata": {},
   "outputs": [],
   "source": [
    "# general syntex to create object.\n",
    "# 1. standard syntex\n",
    "#      refvar=classname()\n",
    "# 2. using literal/value(int/float/bool/str/list/tuple/set/dict)"
   ]
  },
  {
   "cell_type": "code",
   "execution_count": 2,
   "metadata": {},
   "outputs": [
    {
     "name": "stdout",
     "output_type": "stream",
     "text": [
      "<class 'int'>\n"
     ]
    }
   ],
   "source": [
    "x=10\n",
    "print(type(x))"
   ]
  },
  {
   "cell_type": "code",
   "execution_count": 3,
   "metadata": {},
   "outputs": [
    {
     "name": "stdout",
     "output_type": "stream",
     "text": [
      "10\n"
     ]
    }
   ],
   "source": [
    "print(x)"
   ]
  },
  {
   "cell_type": "code",
   "execution_count": 4,
   "metadata": {},
   "outputs": [
    {
     "name": "stdout",
     "output_type": "stream",
     "text": [
      "hello\n",
      "hi\n"
     ]
    }
   ],
   "source": [
    "print(\"hello\")\n",
    "x=\"hi\"\n",
    "print(x)"
   ]
  },
  {
   "cell_type": "code",
   "execution_count": 5,
   "metadata": {},
   "outputs": [
    {
     "name": "stdout",
     "output_type": "stream",
     "text": [
      "<class 'list'>\n"
     ]
    }
   ],
   "source": [
    "x=[]\n",
    "print(type(x))"
   ]
  },
  {
   "cell_type": "code",
   "execution_count": 7,
   "metadata": {},
   "outputs": [
    {
     "name": "stdout",
     "output_type": "stream",
     "text": [
      "<class 'list'>\n"
     ]
    }
   ],
   "source": [
    "x=list()\n",
    "print(type(x))"
   ]
  },
  {
   "cell_type": "code",
   "execution_count": 9,
   "metadata": {},
   "outputs": [
    {
     "name": "stdout",
     "output_type": "stream",
     "text": [
      "this is deposit fun\n"
     ]
    },
    {
     "ename": "TypeError",
     "evalue": "account.deposit() takes 0 positional arguments but 1 was given",
     "output_type": "error",
     "traceback": [
      "\u001b[1;31m---------------------------------------------------------------------------\u001b[0m",
      "\u001b[1;31mTypeError\u001b[0m                                 Traceback (most recent call last)",
      "Cell \u001b[1;32mIn[9], line 9\u001b[0m\n\u001b[0;32m      7\u001b[0m a1\u001b[39m=\u001b[39maccount()\n\u001b[0;32m      8\u001b[0m a2\u001b[39m=\u001b[39maccount()\n\u001b[1;32m----> 9\u001b[0m a1\u001b[39m.\u001b[39;49mdeposit()\n",
      "\u001b[1;31mTypeError\u001b[0m: account.deposit() takes 0 positional arguments but 1 was given"
     ]
    }
   ],
   "source": [
    "def deposit():\n",
    "    print(\"this is deposit fun\")\n",
    "class account:\n",
    "    def deposit():   \n",
    "        print(\"this is deposit method\")\n",
    "deposit()\n",
    "a1=account()  # a1 ek reference variable hai jo hame object tak pahuchane ka kaam karta hai.(lekin ham a1 ko\n",
    "# object he bolenge)\n",
    "a2=account()\n",
    "a1.deposit() # by interpreter--->a1.deposite(a1)     "
   ]
  },
  {
   "cell_type": "code",
   "execution_count": 3,
   "metadata": {},
   "outputs": [
    {
     "name": "stdout",
     "output_type": "stream",
     "text": [
      "this is deposite fun\n",
      "None\n"
     ]
    }
   ],
   "source": [
    "def deposit():\n",
    "    print(\"this is deposite fun\")\n",
    "a1=deposit()\n",
    "print(a1)"
   ]
  },
  {
   "cell_type": "code",
   "execution_count": 10,
   "metadata": {},
   "outputs": [
    {
     "ename": "TypeError",
     "evalue": "show() takes 0 positional arguments but 1 was given",
     "output_type": "error",
     "traceback": [
      "\u001b[1;31m---------------------------------------------------------------------------\u001b[0m",
      "\u001b[1;31mTypeError\u001b[0m                                 Traceback (most recent call last)",
      "Cell \u001b[1;32mIn[10], line 3\u001b[0m\n\u001b[0;32m      1\u001b[0m \u001b[39mdef\u001b[39;00m \u001b[39mshow\u001b[39m():\n\u001b[0;32m      2\u001b[0m     \u001b[39mprint\u001b[39m(\u001b[39m\"\u001b[39m\u001b[39mthis is show\u001b[39m\u001b[39m\"\u001b[39m)\n\u001b[1;32m----> 3\u001b[0m show(\u001b[39m10\u001b[39;49m)\n",
      "\u001b[1;31mTypeError\u001b[0m: show() takes 0 positional arguments but 1 was given"
     ]
    }
   ],
   "source": [
    "def show():\n",
    "    print(\"this is show\")  \n",
    "show(10)"
   ]
  },
  {
   "cell_type": "code",
   "execution_count": 13,
   "metadata": {},
   "outputs": [
    {
     "name": "stdout",
     "output_type": "stream",
     "text": [
      "<__main__.account object at 0x00000202B3C7CC10>\n",
      "<__main__.account object at 0x00000202B42288D0>\n",
      "this is deposit method <__main__.account object at 0x00000202B3C7CC10>\n",
      "this is deposit method <__main__.account object at 0x00000202B42288D0>\n"
     ]
    }
   ],
   "source": [
    "class account:\n",
    "    def deposit(x):\n",
    "        print(\"this is deposit method\",x)\n",
    "a1=account()\n",
    "a2=account()\n",
    "print(a1)\n",
    "print(a2)\n",
    "a1.deposit() # by interpreter--->a1.deposite(a1)\n",
    "a2.deposit() # by interpreter--->a1.deposite(a2)"
   ]
  },
  {
   "cell_type": "code",
   "execution_count": 14,
   "metadata": {},
   "outputs": [
    {
     "name": "stdout",
     "output_type": "stream",
     "text": [
      "<__main__.account object at 0x00000202B4246D90>\n",
      "<__main__.account object at 0x00000202B3C7CC10>\n",
      "this is deposit method\n",
      "this is deposit method\n"
     ]
    }
   ],
   "source": [
    "class account:\n",
    "    def deposit(method khud aaega):\n",
    "        print(\"this is deposit method\")\n",
    "a1=account()\n",
    "a2=account()\n",
    "print(a1)\n",
    "print(a2)\n",
    "a1.deposit() # by interpreter--->a1.deposite(a1)\n",
    "a2.deposit() # by interpreter--->a1.deposite(a2)"
   ]
  },
  {
   "cell_type": "code",
   "execution_count": 16,
   "metadata": {},
   "outputs": [
    {
     "name": "stdout",
     "output_type": "stream",
     "text": [
      "this is deposit method\n",
      "this is deposit method\n"
     ]
    }
   ],
   "source": [
    "class account:\n",
    "    def deposit(self):\n",
    "        print(\"this is deposit method\")\n",
    "a1=account()\n",
    "a2=account()\n",
    "\n",
    "a1.deposit() # by interpreter--->a1.deposite(a1)\n",
    "a2.deposit() # by interpreter--->a1.deposite(a2)"
   ]
  },
  {
   "cell_type": "code",
   "execution_count": 1,
   "metadata": {},
   "outputs": [
    {
     "name": "stdout",
     "output_type": "stream",
     "text": [
      "this is deposit method\n",
      "this is deposit method\n"
     ]
    }
   ],
   "source": [
    "class account:\n",
    "    def deposit(self):\n",
    "        print(\"this is deposit method\")\n",
    "# a1=account()\n",
    "# a2=account()\n",
    "\n",
    "account().deposit() # by interpreter--->account.deposite(a1)\n",
    "account().deposit() # by interpreter--->account.deposite(a2)"
   ]
  },
  {
   "cell_type": "code",
   "execution_count": 18,
   "metadata": {},
   "outputs": [
    {
     "name": "stdout",
     "output_type": "stream",
     "text": [
      "this is deposit method 1000\n",
      "this is deposit method 500\n"
     ]
    }
   ],
   "source": [
    "class account:\n",
    "    def deposit(self,amt):\n",
    "        print(\"this is deposit method\",amt)\n",
    "a1=account()\n",
    "a2=account()\n",
    "\n",
    "a1.deposit(1000) # by interpreter--->a1.deposite(a1,1000)\n",
    "a2.deposit(500) # by interpreter--->a1.deposite(a2,500)"
   ]
  },
  {
   "cell_type": "code",
   "execution_count": 2,
   "metadata": {},
   "outputs": [
    {
     "name": "stdout",
     "output_type": "stream",
     "text": [
      "this is show\n"
     ]
    },
    {
     "ename": "AttributeError",
     "evalue": "'test' object has no attribute 'disp'",
     "output_type": "error",
     "traceback": [
      "\u001b[1;31m---------------------------------------------------------------------------\u001b[0m",
      "\u001b[1;31mAttributeError\u001b[0m                            Traceback (most recent call last)",
      "Cell \u001b[1;32mIn[2], line 11\u001b[0m\n\u001b[0;32m      9\u001b[0m t\u001b[39m=\u001b[39mtest()\n\u001b[0;32m     10\u001b[0m t\u001b[39m.\u001b[39mshow()\n\u001b[1;32m---> 11\u001b[0m t\u001b[39m.\u001b[39;49mdisp()\n",
      "\u001b[1;31mAttributeError\u001b[0m: 'test' object has no attribute 'disp'"
     ]
    }
   ],
   "source": [
    "class test:\n",
    "    def show(self):\n",
    "        print(\"this is show\")\n",
    "\n",
    "class other:\n",
    "    def disp(self):\n",
    "        print(\"this is disp\")\n",
    "\n",
    "t=test()\n",
    "t.show()\n",
    "t.disp()"
   ]
  },
  {
   "cell_type": "code",
   "execution_count": 21,
   "metadata": {},
   "outputs": [
    {
     "ename": "AttributeError",
     "evalue": "'tuple' object has no attribute 'append'",
     "output_type": "error",
     "traceback": [
      "\u001b[1;31m---------------------------------------------------------------------------\u001b[0m",
      "\u001b[1;31mAttributeError\u001b[0m                            Traceback (most recent call last)",
      "Cell \u001b[1;32mIn[21], line 2\u001b[0m\n\u001b[0;32m      1\u001b[0m x\u001b[39m=\u001b[39m()\n\u001b[1;32m----> 2\u001b[0m x\u001b[39m.\u001b[39;49mappend(\u001b[39m10\u001b[39m)\n",
      "\u001b[1;31mAttributeError\u001b[0m: 'tuple' object has no attribute 'append'"
     ]
    }
   ],
   "source": [
    "x=()\n",
    "x.append(10)"
   ]
  },
  {
   "cell_type": "code",
   "execution_count": 22,
   "metadata": {},
   "outputs": [
    {
     "name": "stdout",
     "output_type": "stream",
     "text": [
      "3\n"
     ]
    }
   ],
   "source": [
    "x=\"ababa\"\n",
    "print(x.count('a'))"
   ]
  },
  {
   "cell_type": "code",
   "execution_count": 23,
   "metadata": {},
   "outputs": [
    {
     "name": "stdout",
     "output_type": "stream",
     "text": [
      "5\n"
     ]
    }
   ],
   "source": [
    "x=[10,20,10,10,20,10,30,10]\n",
    "print(x.count(10))"
   ]
  },
  {
   "cell_type": "code",
   "execution_count": 29,
   "metadata": {},
   "outputs": [
    {
     "name": "stdout",
     "output_type": "stream",
     "text": [
      "None\n",
      "[20, 10, 10, 20, 10, 30, 10]\n"
     ]
    }
   ],
   "source": [
    "x=[10,20,10,10,20,10,30,10]\n",
    "print(x.remove(10))\n",
    "print(x)"
   ]
  },
  {
   "cell_type": "code",
   "execution_count": 31,
   "metadata": {},
   "outputs": [
    {
     "name": "stdout",
     "output_type": "stream",
     "text": [
      "{20, 30}\n"
     ]
    }
   ],
   "source": [
    "x={10,20,10,10,20,10,30,10}\n",
    "x.remove(10)\n",
    "print(x)"
   ]
  },
  {
   "cell_type": "code",
   "execution_count": 1,
   "metadata": {},
   "outputs": [
    {
     "name": "stdout",
     "output_type": "stream",
     "text": [
      "this is show\n",
      "this is show\n",
      "this is show\n"
     ]
    }
   ],
   "source": [
    "class test:\n",
    "    def show(self):\n",
    "        print(\"this is show\")\n",
    "t1=test()\n",
    "t1.show()\n",
    "\n",
    "t2=test()\n",
    "t2.show()\n",
    "\n",
    "t3=test()\n",
    "t3.show()"
   ]
  },
  {
   "cell_type": "code",
   "execution_count": 2,
   "metadata": {},
   "outputs": [
    {
     "name": "stdout",
     "output_type": "stream",
     "text": [
      "this is show\n",
      "this is show\n",
      "this is show\n"
     ]
    }
   ],
   "source": [
    "class test:\n",
    "    def show(self):\n",
    "        print(\"this is show\")\n",
    "t1=test()\n",
    "t1.show()\n",
    "t1.show()\n",
    "t1.show()"
   ]
  },
  {
   "cell_type": "code",
   "execution_count": 4,
   "metadata": {},
   "outputs": [
    {
     "name": "stdout",
     "output_type": "stream",
     "text": [
      "this is deposit\n",
      "this is deposit\n",
      "this is deposit\n",
      "this is deposit\n"
     ]
    }
   ],
   "source": [
    "class account:\n",
    "    def deposit(self):\n",
    "        print(\"this is deposit\")\n",
    "\n",
    "a1=account()\n",
    "a2=account()\n",
    "a1.deposit()\n",
    "a2.deposit()\n",
    "a1.deposit()\n",
    "a3=account()\n",
    "a3.deposit()"
   ]
  },
  {
   "cell_type": "code",
   "execution_count": 5,
   "metadata": {},
   "outputs": [
    {
     "name": "stdout",
     "output_type": "stream",
     "text": [
      "[]\n"
     ]
    }
   ],
   "source": [
    "x=list()\n",
    "print(x)"
   ]
  },
  {
   "cell_type": "code",
   "execution_count": 6,
   "metadata": {},
   "outputs": [
    {
     "name": "stdout",
     "output_type": "stream",
     "text": [
      "Tue Aug 22 19:33:29 2023\n"
     ]
    }
   ],
   "source": [
    "import time\n",
    "print(time.ctime())"
   ]
  },
  {
   "cell_type": "code",
   "execution_count": 7,
   "metadata": {},
   "outputs": [
    {
     "name": "stdout",
     "output_type": "stream",
     "text": [
      "2023-08-22 00:00:00\n"
     ]
    }
   ],
   "source": [
    "import datetime\n",
    "print(datetime.datetime(2023,8,22))"
   ]
  },
  {
   "cell_type": "code",
   "execution_count": 12,
   "metadata": {},
   "outputs": [
    {
     "name": "stdout",
     "output_type": "stream",
     "text": [
      "101 2000\n",
      "102 5000\n",
      "2200\n",
      "5000\n"
     ]
    }
   ],
   "source": [
    "# how to add data members(properties) to object.\n",
    "class account:\n",
    "    pass\n",
    "\n",
    "a1=account()\n",
    "a1.acn=101    # acn is data member\n",
    "a1.bal=2000\n",
    "a2=account()\n",
    "a2.acn=102\n",
    "a2.bal=5000\n",
    "\n",
    "print(a1.acn,a1.bal)\n",
    "print(a2.acn,a2.bal)\n",
    "\n",
    "# a1.bal=4000  update\n",
    "a1.bal=a1.bal+200\n",
    "print(a1.bal)\n",
    "print(a2.bal)"
   ]
  },
  {
   "cell_type": "code",
   "execution_count": 14,
   "metadata": {},
   "outputs": [
    {
     "name": "stdout",
     "output_type": "stream",
     "text": [
      "101 2000\n",
      "101 2000\n"
     ]
    }
   ],
   "source": [
    "# how to add data members(properties) to object.\n",
    "# Object Initialization-->by constructor.\n",
    "class account:\n",
    "    def __init__(self):\n",
    "        self.acn=101\n",
    "        self.bal=2000\n",
    "\n",
    "a1=account()\n",
    "a2=account()\n",
    "print(a1.acn,a1.bal)\n",
    "print(a2.acn,a2.bal)\n"
   ]
  },
  {
   "cell_type": "code",
   "execution_count": 15,
   "metadata": {},
   "outputs": [
    {
     "name": "stdout",
     "output_type": "stream",
     "text": [
      "101 2000\n",
      "201 5000\n"
     ]
    }
   ],
   "source": [
    "class account:\n",
    "    def __init__(self,a,b):\n",
    "        self.acn=a\n",
    "        self.bal=b\n",
    "\n",
    "a1=account(101,2000)\n",
    "a2=account(201,5000)\n",
    "print(a1.acn,a1.bal)\n",
    "print(a2.acn,a2.bal)"
   ]
  },
  {
   "cell_type": "code",
   "execution_count": 16,
   "metadata": {},
   "outputs": [
    {
     "ename": "TypeError",
     "evalue": "account.__init__() missing 2 required positional arguments: 'e' and 'm'",
     "output_type": "error",
     "traceback": [
      "\u001b[1;31m---------------------------------------------------------------------------\u001b[0m",
      "\u001b[1;31mTypeError\u001b[0m                                 Traceback (most recent call last)",
      "Cell \u001b[1;32mIn[16], line 8\u001b[0m\n\u001b[0;32m      6\u001b[0m         \u001b[39mself\u001b[39m\u001b[39m.\u001b[39mmob\u001b[39m=\u001b[39mm\n\u001b[0;32m      7\u001b[0m a1\u001b[39m=\u001b[39maccount(\u001b[39m101\u001b[39m,\u001b[39m2000\u001b[39m,\u001b[39m\"\u001b[39m\u001b[39mabc@abc.com\u001b[39m\u001b[39m\"\u001b[39m,\u001b[39m9608528563\u001b[39m)\n\u001b[1;32m----> 8\u001b[0m a2\u001b[39m=\u001b[39maccount(\u001b[39m201\u001b[39;49m,\u001b[39m5000\u001b[39;49m)\n\u001b[0;32m      9\u001b[0m \u001b[39mprint\u001b[39m(a1\u001b[39m.\u001b[39macn,a1\u001b[39m.\u001b[39mbal)\n\u001b[0;32m     10\u001b[0m \u001b[39mprint\u001b[39m(a2\u001b[39m.\u001b[39macn,a2\u001b[39m.\u001b[39mbal)\n",
      "\u001b[1;31mTypeError\u001b[0m: account.__init__() missing 2 required positional arguments: 'e' and 'm'"
     ]
    }
   ],
   "source": [
    "class account:\n",
    "    def __init__(self,a,b,e,m):\n",
    "        self.acn=a\n",
    "        self.bal=b\n",
    "        self.email=e\n",
    "        self.mob=m\n",
    "a1=account(101,2000,\"abc@abc.com\",9608528563)\n",
    "a2=account(201,5000)\n",
    "print(a1.acn,a1.bal)\n",
    "print(a2.acn,a2.bal)"
   ]
  },
  {
   "cell_type": "code",
   "execution_count": 17,
   "metadata": {},
   "outputs": [
    {
     "ename": "TypeError",
     "evalue": "account.__init__() takes 3 positional arguments but 5 were given",
     "output_type": "error",
     "traceback": [
      "\u001b[1;31m---------------------------------------------------------------------------\u001b[0m",
      "\u001b[1;31mTypeError\u001b[0m                                 Traceback (most recent call last)",
      "Cell \u001b[1;32mIn[17], line 14\u001b[0m\n\u001b[0;32m     11\u001b[0m         \u001b[39mself\u001b[39m\u001b[39m.\u001b[39memail\u001b[39m=\u001b[39m\u001b[39mNone\u001b[39;00m\n\u001b[0;32m     12\u001b[0m         \u001b[39mself\u001b[39m\u001b[39m.\u001b[39mmob\u001b[39m=\u001b[39m\u001b[39mNone\u001b[39;00m\n\u001b[1;32m---> 14\u001b[0m a1\u001b[39m=\u001b[39maccount(\u001b[39m101\u001b[39;49m,\u001b[39m2000\u001b[39;49m,\u001b[39m\"\u001b[39;49m\u001b[39mabc@abc.com\u001b[39;49m\u001b[39m\"\u001b[39;49m,\u001b[39m9608528563\u001b[39;49m)\n\u001b[0;32m     15\u001b[0m a2\u001b[39m=\u001b[39maccount(\u001b[39m201\u001b[39m,\u001b[39m5000\u001b[39m)\n\u001b[0;32m     16\u001b[0m \u001b[39mprint\u001b[39m(a1\u001b[39m.\u001b[39macn,a1\u001b[39m.\u001b[39mbal)\n",
      "\u001b[1;31mTypeError\u001b[0m: account.__init__() takes 3 positional arguments but 5 were given"
     ]
    }
   ],
   "source": [
    "class account:\n",
    "    def __init__(self,a,b,e,m):\n",
    "        self.acn=a\n",
    "        self.bal=b\n",
    "        self.email=e\n",
    "        self.mob=m\n",
    "\n",
    "    def __init__(self,a,b):\n",
    "        self.acn=a\n",
    "        self.bal=b\n",
    "        self.email=None\n",
    "        self.mob=None\n",
    "\n",
    "a1=account(101,2000,\"abc@abc.com\",9608528563)\n",
    "a2=account(201,5000)\n",
    "print(a1.acn,a1.bal)\n",
    "print(a2.acn,a2.bal)"
   ]
  },
  {
   "cell_type": "code",
   "execution_count": 18,
   "metadata": {},
   "outputs": [
    {
     "name": "stdout",
     "output_type": "stream",
     "text": [
      "101 2000 abc@abc.com 9608528563\n",
      "201 5000 None None\n"
     ]
    }
   ],
   "source": [
    "class account:\n",
    "    def __init__(self,a,b,e=None,m=None):\n",
    "        self.acn=a\n",
    "        self.bal=b\n",
    "        self.email=e\n",
    "        self.mob=m\n",
    "\n",
    "a1=account(101,2000,\"abc@abc.com\",9608528563)\n",
    "a2=account(201,5000)\n",
    "print(a1.acn,a1.bal,a1.email,a1.mob)\n",
    "print(a2.acn,a2.bal,a2.email,a2.mob)"
   ]
  },
  {
   "cell_type": "code",
   "execution_count": 19,
   "metadata": {},
   "outputs": [
    {
     "name": "stdout",
     "output_type": "stream",
     "text": [
      "101 2000 abc@abc.com 9608528563\n",
      "201 5000 89563794298 None\n"
     ]
    }
   ],
   "source": [
    "class account:\n",
    "    def __init__(self,a,b,e=None,m=None):\n",
    "        self.acn=a\n",
    "        self.bal=b\n",
    "        self.email=e\n",
    "        self.mob=m\n",
    "\n",
    "a1=account(101,2000,\"abc@abc.com\",9608528563)\n",
    "a2=account(201,5000,89563794298)\n",
    "print(a1.acn,a1.bal,a1.email,a1.mob)\n",
    "print(a2.acn,a2.bal,a2.email,a2.mob)"
   ]
  },
  {
   "cell_type": "code",
   "execution_count": 20,
   "metadata": {},
   "outputs": [
    {
     "name": "stdout",
     "output_type": "stream",
     "text": [
      "101 2000 abc@abc.com 9608528563\n",
      "201 5000 None 89563794298\n"
     ]
    }
   ],
   "source": [
    "class account:\n",
    "    def __init__(self,a,b,e=None,m=None):\n",
    "        self.acn=a\n",
    "        self.bal=b\n",
    "        self.email=e\n",
    "        self.mob=m\n",
    "\n",
    "a1=account(101,2000,\"abc@abc.com\",9608528563)\n",
    "a2=account(201,5000,m=89563794298)\n",
    "print(a1.acn,a1.bal,a1.email,a1.mob)\n",
    "print(a2.acn,a2.bal,a2.email,a2.mob)"
   ]
  },
  {
   "cell_type": "code",
   "execution_count": 21,
   "metadata": {},
   "outputs": [
    {
     "name": "stdout",
     "output_type": "stream",
     "text": [
      "101 2000 abc@abc.com 9608528563\n",
      "201 5000 None 89563794298\n"
     ]
    }
   ],
   "source": [
    "class account:\n",
    "    def __init__(self,acn,bal,email=None,mob=None):\n",
    "        self.acn=acn\n",
    "        self.bal=bal\n",
    "        self.email=email\n",
    "        self.mob=mob\n",
    "\n",
    "a1=account(acn=101,bal=2000,email=\"abc@abc.com\",mob=9608528563)\n",
    "a2=account(acn=201,bal=5000,mob=89563794298)\n",
    "print(a1.acn,a1.bal,a1.email,a1.mob)\n",
    "print(a2.acn,a2.bal,a2.email,a2.mob)"
   ]
  },
  {
   "cell_type": "code",
   "execution_count": 2,
   "metadata": {},
   "outputs": [
    {
     "name": "stdout",
     "output_type": "stream",
     "text": [
      "this is constructor\n",
      "this is constructor\n",
      "this is constructor\n"
     ]
    }
   ],
   "source": [
    "class test:\n",
    "    def __init__(self):\n",
    "        print(\"this is constructor\")\n",
    "t=test()\n",
    "t1=test()\n",
    "t.__init__() #not suggested "
   ]
  },
  {
   "cell_type": "markdown",
   "metadata": {},
   "source": [
    "t=test()\n",
    "- first creation of object of test class(object creation is also known as object instantiation.)\n",
    "- jo object bana hai us par init method chalta hai and uska address init method me pass kar diya jata hai(it is known as object initialization).\n",
    "- object ka adress (t) me jake store ho jata hai(it is known as object referencing)."
   ]
  },
  {
   "cell_type": "code",
   "execution_count": 3,
   "metadata": {},
   "outputs": [
    {
     "name": "stdout",
     "output_type": "stream",
     "text": [
      "this is constructor\n"
     ]
    },
    {
     "data": {
      "text/plain": [
       "<__main__.test at 0x233ae355f90>"
      ]
     },
     "execution_count": 3,
     "metadata": {},
     "output_type": "execute_result"
    }
   ],
   "source": [
    "test()"
   ]
  },
  {
   "cell_type": "code",
   "execution_count": 5,
   "metadata": {},
   "outputs": [
    {
     "name": "stdout",
     "output_type": "stream",
     "text": [
      "101 2000\n",
      "201 5000\n"
     ]
    }
   ],
   "source": [
    "class account:\n",
    "    def __init__(self,a,b):\n",
    "        self.acn=a\n",
    "        self.bal=b\n",
    "    def details(self):\n",
    "        print(self.acn,self.bal)\n",
    "a1=account(101,2000)\n",
    "a2=account(201,5000)\n",
    "a1.details()\n",
    "a2.details()"
   ]
  },
  {
   "cell_type": "code",
   "execution_count": 4,
   "metadata": {},
   "outputs": [
    {
     "name": "stdout",
     "output_type": "stream",
     "text": [
      "101\n",
      "5000\n"
     ]
    }
   ],
   "source": [
    "class account:\n",
    "    def __init__(self,a,b):\n",
    "        self.acn=a\n",
    "        self.bal=b\n",
    "a1=account(101,2000)\n",
    "a2=account(201,5000)\n",
    "print(a1.acn)\n",
    "print(a2.bal)"
   ]
  },
  {
   "cell_type": "code",
   "execution_count": 5,
   "metadata": {},
   "outputs": [
    {
     "name": "stdout",
     "output_type": "stream",
     "text": [
      "101 2000\n",
      "201 5000\n",
      "101 3000\n",
      "201 5200\n",
      "101 -3000\n"
     ]
    }
   ],
   "source": [
    "class account:\n",
    "    def __init__(self,a,b):\n",
    "        self.acn=a\n",
    "        self.bal=b\n",
    "\n",
    "    def details(self):\n",
    "        print(self.acn,self.bal)\n",
    "\n",
    "    def deposit(self,amt):\n",
    "        self.bal=self.bal+amt\n",
    "\n",
    "    def withdraw(self,amt):\n",
    "        self.bal=self.bal-amt\n",
    "\n",
    "a1=account(101,2000)\n",
    "a2=account(201,5000)\n",
    "a1.details()\n",
    "a2.details()\n",
    "\n",
    "a1.deposit(1000)\n",
    "a2.deposit(200)\n",
    "\n",
    "a1.details()\n",
    "a2.details()\n",
    "\n",
    "a1.withdraw(6000)\n",
    "\n",
    "a1.details()"
   ]
  },
  {
   "cell_type": "code",
   "execution_count": 10,
   "metadata": {},
   "outputs": [
    {
     "name": "stdout",
     "output_type": "stream",
     "text": [
      "101 2000\n",
      "201 5000\n",
      "101 3000\n",
      "201 5200\n",
      "insufficient bal\n",
      "101 3000\n"
     ]
    }
   ],
   "source": [
    "class account:\n",
    "    def __init__(self,a,b):\n",
    "        self.acn=a\n",
    "        self.bal=b\n",
    "\n",
    "    def details(self):\n",
    "        print(self.acn,self.bal)\n",
    "\n",
    "    def deposit(self,amt):\n",
    "        self.bal=self.bal+amt\n",
    "\n",
    "    def withdraw(self,amt):\n",
    "        if(self.bal>amt):\n",
    "            self.bal=self.bal-amt\n",
    "        else:\n",
    "            print(\"insufficient bal\")\n",
    "\n",
    "a1=account(101,2000)\n",
    "a2=account(201,5000)\n",
    "a1.details()\n",
    "a2.details()\n",
    "\n",
    "a1.deposit(1000)\n",
    "a2.deposit(200)\n",
    "\n",
    "a1.details()\n",
    "a2.details()\n",
    "\n",
    "a1.withdraw(6000)\n",
    "\n",
    "a1.details()"
   ]
  },
  {
   "cell_type": "code",
   "execution_count": 13,
   "metadata": {},
   "outputs": [
    {
     "name": "stdout",
     "output_type": "stream",
     "text": [
      "********Emp Details**********\n",
      "emp id: 101\n",
      "emp sal: 50000\n",
      "emp dept: coding\n",
      "********Emp Details**********\n",
      "emp id: 102\n",
      "emp sal: 55000\n",
      "emp dept: testing\n",
      "********Emp Details**********\n",
      "emp id: 103\n",
      "emp sal: 45000\n",
      "emp dept: coding\n"
     ]
    }
   ],
   "source": [
    "class emp:\n",
    "    def __init__(self,eid,esal,edept):\n",
    "        self.eid=eid\n",
    "        self.esal=esal\n",
    "        self.edept=edept\n",
    "    def checkdetails(self):\n",
    "        print(\"********Emp Details**********\")\n",
    "        print(\"emp id:\",self.eid)\n",
    "        print(\"emp sal:\",self.esal)\n",
    "        print(\"emp dept:\",self.edept)\n",
    "\n",
    "e1=emp(101,50000,'coding')\n",
    "e2=emp(102,55000,'testing')\n",
    "e3=emp(103,45000,'coding')\n",
    "\n",
    "e1.checkdetails()\n",
    "e2.checkdetails()\n",
    "e3.checkdetails()"
   ]
  },
  {
   "cell_type": "code",
   "execution_count": 18,
   "metadata": {},
   "outputs": [],
   "source": [
    "class emp:\n",
    "    def __init__(self,eid,esal,edept):\n",
    "        self.eid=eid\n",
    "        self.esal=esal\n",
    "        self.edept=edept\n",
    "    def checkdetails(self):\n",
    "        print(\"********Emp Details**********\")\n",
    "        print(\"emp id:\",self.eid)\n",
    "        print(\"emp sal:\",self.esal)\n",
    "        print(\"emp dept:\",self.edept)\n",
    "\n",
    "emps=[]\n",
    "for i in range(3):\n",
    "    eid=int(input(\"enter empid:\"))\n",
    "    es=int(input(\"enter emsal:\"))\n",
    "    ed=input(\"enter emdept:\")\n",
    "    e=emp(eid,es,ed)\n",
    "    emps.append(e)"
   ]
  },
  {
   "cell_type": "code",
   "execution_count": 19,
   "metadata": {},
   "outputs": [
    {
     "name": "stdout",
     "output_type": "stream",
     "text": [
      "********Emp Details**********\n",
      "emp id: 101\n",
      "emp sal: 20000\n",
      "emp dept: hr\n",
      "********Emp Details**********\n",
      "emp id: 102\n",
      "emp sal: 12000\n",
      "emp dept: ds\n",
      "********Emp Details**********\n",
      "emp id: 103\n",
      "emp sal: 50000\n",
      "emp dept: coding\n"
     ]
    }
   ],
   "source": [
    "for e in emps:\n",
    "    e.checkdetails()"
   ]
  },
  {
   "cell_type": "code",
   "execution_count": null,
   "metadata": {},
   "outputs": [],
   "source": [
    "class emp:\n",
    "    def __init__(self,eid,esal,edept):\n",
    "        self.eid=eid\n",
    "        self.esal=esal\n",
    "        self.edept=edept\n",
    "    def checkdetails(self):\n",
    "        print(\"********Emp Details**********\")\n",
    "        print(\"emp id:\",self.eid)\n",
    "        print(\"emp sal:\",self.esal)\n",
    "        print(\"emp dept:\",self.edept)\n",
    "\n",
    "emps=[]\n",
    "for i in range(3):\n",
    "    eid=int(input(\"enter empid:\"))\n",
    "    es=int(input(\"enter emsal:\"))\n",
    "    ed=input(\"enter emdept:\")\n",
    "    e=emp(eid,es,ed)\n",
    "    emps.append(e)\n",
    "for e in emps:\n",
    "    e.checkdetails()"
   ]
  },
  {
   "cell_type": "markdown",
   "metadata": {},
   "source": [
    "## Type of data members\n",
    "- instance data members\n",
    "  - property of indivisual object.\n",
    "  - separate copy is allocated inside object\n",
    "- class data members\n",
    "  - property of class\n",
    "  - a single copy is allocated and shared to all objects."
   ]
  },
  {
   "cell_type": "code",
   "execution_count": 3,
   "metadata": {},
   "outputs": [
    {
     "name": "stdout",
     "output_type": "stream",
     "text": [
      "10\n",
      "10\n",
      "20\n"
     ]
    }
   ],
   "source": [
    "class test:\n",
    "    x=10   # x is class data member\n",
    "\n",
    "    def __init__(self):\n",
    "        self.y=20   # y is instance data member\n",
    "\n",
    "print(test.x)\n",
    "t1=test()\n",
    "print(t1.x)\n",
    "print(t1.y)"
   ]
  },
  {
   "cell_type": "code",
   "execution_count": 10,
   "metadata": {},
   "outputs": [
    {
     "name": "stdout",
     "output_type": "stream",
     "text": [
      "20\n",
      "30\n",
      "200\n",
      "30\n",
      "10\n",
      "10\n",
      "100\n",
      "100\n"
     ]
    }
   ],
   "source": [
    "class test:\n",
    "    x=10   # x is class data member\n",
    "\n",
    "    def __init__(self,y):\n",
    "        self.y=y   # y is instance data member\n",
    "\n",
    "t1=test(20)\n",
    "t2=test(30)\n",
    "\n",
    "print(t1.y)\n",
    "print(t2.y)\n",
    "\n",
    "t1.y=200\n",
    "print(t1.y)\n",
    "print(t2.y)\n",
    "\n",
    "print(t1.x)\n",
    "print(t2.x)\n",
    "\n",
    "test.x=100\n",
    "print(t1.x)\n",
    "print(t2.x)"
   ]
  },
  {
   "cell_type": "code",
   "execution_count": 13,
   "metadata": {},
   "outputs": [
    {
     "name": "stdout",
     "output_type": "stream",
     "text": [
      "100\n",
      "10\n"
     ]
    }
   ],
   "source": [
    "class test:\n",
    "    x=10   \n",
    "\n",
    "    def __init__(self):\n",
    "        self.x=100\n",
    "\n",
    "t=test()\n",
    "print(t.x)\n",
    "print(test.x)"
   ]
  },
  {
   "cell_type": "markdown",
   "metadata": {},
   "source": [
    "## Types of methods \n",
    "- instance method\n",
    "- class method\n",
    "- static method"
   ]
  },
  {
   "cell_type": "code",
   "execution_count": 17,
   "metadata": {},
   "outputs": [
    {
     "name": "stdout",
     "output_type": "stream",
     "text": [
      "this is m1\n",
      "this is m2\n",
      "this is m2\n",
      "this is m3\n",
      "this is m3\n"
     ]
    }
   ],
   "source": [
    "class test:\n",
    "    def m1(self):    # instance method\n",
    "        print(\"this is m1\")\n",
    "\n",
    "    @classmethod    #class method\n",
    "    def m2(cls):\n",
    "        print(\"this is m2\")\n",
    "    @staticmethod   #static method\n",
    "    def m3():       \n",
    "        print(\"this is m3\")\n",
    "t=test()\n",
    "t.m1()   # by interpreter---->t.m1(t)\n",
    "\n",
    "test.m2()  #by interpreter--->test.m2(test)\n",
    "t.m2()    # by interpreter---->test.m2(test)\n",
    "\n",
    "test.m3()  # by interpreter--->test.m3()\n",
    "t.m3()   # by interpreter--->test.m3()"
   ]
  },
  {
   "cell_type": "markdown",
   "metadata": {},
   "source": [
    "## Instance method\n",
    "  - logic depends on instance data members\n",
    "## Class method\n",
    "  - logic depends on class data members\n",
    "## static method\n",
    "  - logic does not depends on instance/class data members."
   ]
  },
  {
   "cell_type": "code",
   "execution_count": 18,
   "metadata": {},
   "outputs": [
    {
     "name": "stdout",
     "output_type": "stream",
     "text": [
      "12\n",
      "20\n"
     ]
    }
   ],
   "source": [
    "class calc:\n",
    "    def __init__(self,x,y):\n",
    "        self.x=x\n",
    "        self.y=y\n",
    "\n",
    "    def mul(self):\n",
    "        print(self.x*self.y)\n",
    "\n",
    "c1=calc(3,4)\n",
    "c2=calc(4,5)\n",
    "c1.mul()\n",
    "c2.mul()"
   ]
  },
  {
   "cell_type": "code",
   "execution_count": 3,
   "metadata": {},
   "outputs": [
    {
     "name": "stdout",
     "output_type": "stream",
     "text": [
      "30\n"
     ]
    }
   ],
   "source": [
    "class calc:\n",
    "    x=5\n",
    "    y=6\n",
    "\n",
    "    @classmethod\n",
    "    def mul(cls):\n",
    "        print(calc.x*calc.y)\n",
    "\n",
    "calc.mul()\n"
   ]
  },
  {
   "cell_type": "code",
   "execution_count": 4,
   "metadata": {},
   "outputs": [
    {
     "name": "stdout",
     "output_type": "stream",
     "text": [
      "30\n"
     ]
    }
   ],
   "source": [
    "class calc:\n",
    "    x=int(input(\"enter a num:\"))\n",
    "    y=6\n",
    "\n",
    "    @classmethod\n",
    "    def mul(cls):\n",
    "        print(calc.x*calc.y)\n",
    "\n",
    "calc.mul()"
   ]
  },
  {
   "cell_type": "code",
   "execution_count": 21,
   "metadata": {},
   "outputs": [
    {
     "name": "stdout",
     "output_type": "stream",
     "text": [
      "30\n"
     ]
    }
   ],
   "source": [
    "class calc:\n",
    "    x=5\n",
    "    y=6\n",
    "\n",
    "    @classmethod\n",
    "    def mul(cls):\n",
    "        print(cls.x*cls.y)\n",
    "\n",
    "calc.mul()\n"
   ]
  },
  {
   "cell_type": "code",
   "execution_count": 22,
   "metadata": {},
   "outputs": [
    {
     "name": "stdout",
     "output_type": "stream",
     "text": [
      "30\n"
     ]
    }
   ],
   "source": [
    "class calculator:\n",
    "    x=5\n",
    "    y=6\n",
    "\n",
    "    @classmethod\n",
    "    def mul(cls):\n",
    "        print(cls.x*cls.y)\n",
    "\n",
    "calculator.mul()\n"
   ]
  },
  {
   "cell_type": "markdown",
   "metadata": {},
   "source": [
    " - staticemethod tab ham use karte hai jab hamare pass koi data members nahi hota hai."
   ]
  },
  {
   "cell_type": "code",
   "execution_count": 24,
   "metadata": {},
   "outputs": [
    {
     "name": "stdout",
     "output_type": "stream",
     "text": [
      "12\n"
     ]
    }
   ],
   "source": [
    "class calc:\n",
    "    @staticmethod\n",
    "    def mul(x,y):\n",
    "        print(x*y)\n",
    "\n",
    "calc.mul(2,6)"
   ]
  },
  {
   "cell_type": "code",
   "execution_count": 25,
   "metadata": {},
   "outputs": [
    {
     "name": "stdout",
     "output_type": "stream",
     "text": [
      "200\n"
     ]
    }
   ],
   "source": [
    "class test:\n",
    "    x=10\n",
    "    y=20\n",
    "    print(x*y)\n",
    "    "
   ]
  },
  {
   "cell_type": "code",
   "execution_count": 26,
   "metadata": {},
   "outputs": [],
   "source": [
    "import datetime"
   ]
  },
  {
   "cell_type": "code",
   "execution_count": 28,
   "metadata": {},
   "outputs": [
    {
     "name": "stdout",
     "output_type": "stream",
     "text": [
      "2023-08-24 22:45:15.832551\n"
     ]
    }
   ],
   "source": [
    "print(datetime.datetime.now())"
   ]
  },
  {
   "cell_type": "markdown",
   "metadata": {},
   "source": [
    "### Nested/Inner class\n",
    " - A class is said to be nested if it is defined inside block of other class.\n",
    " - Generally we defined nested class incase if existance of a class depends on existance of other class. \n",
    " - exp\n",
    "    - existance of brain and heart depend on existance of human. so in this situation we can define human class as outer/toplevel and brain and heart classes as nested."
   ]
  },
  {
   "cell_type": "code",
   "execution_count": 1,
   "metadata": {},
   "outputs": [
    {
     "name": "stdout",
     "output_type": "stream",
     "text": [
      "this is show\n"
     ]
    }
   ],
   "source": [
    "class A:     # outer/top Level\n",
    "    def show(self):\n",
    "        print(\"this is show\")    \n",
    "\n",
    "    class B:  # nested/inner\n",
    "        def disp(self):\n",
    "            print(\"this is disp\")\n",
    "\n",
    "out=A()\n",
    "out.show()"
   ]
  },
  {
   "cell_type": "code",
   "execution_count": 5,
   "metadata": {},
   "outputs": [
    {
     "name": "stdout",
     "output_type": "stream",
     "text": [
      "this is show\n",
      "this is disp\n",
      "this is disp\n"
     ]
    }
   ],
   "source": [
    "class A:     # outer/top Level\n",
    "    def show(self):\n",
    "        print(\"this is show\")     \n",
    "\n",
    "    class B:  # nessted/inner\n",
    "        def disp(self):\n",
    "            print(\"this is disp\")\n",
    "\n",
    "out=A()\n",
    "out.show()\n",
    "# out.disp()  # error\n",
    "# b=B()  # error\n",
    "b=out.B()   # inobj=outobj.Nestedclass()\n",
    "b.disp()\n",
    "b=A.B()    # inobj=outerclass.Nestedclass()\n",
    "b.disp()"
   ]
  },
  {
   "cell_type": "code",
   "execution_count": 4,
   "metadata": {},
   "outputs": [
    {
     "name": "stdout",
     "output_type": "stream",
     "text": [
      "this is eating\n",
      "sonu 2010 <__main__.Human.Heart object at 0x000001A8F2438190>\n",
      "heart is beating\n"
     ]
    }
   ],
   "source": [
    "class Human:\n",
    "    class Heart:\n",
    "        def beat(self):\n",
    "            print(\"heart is beating\")\n",
    "    def __init__(self,name,dob):\n",
    "        self.name=name\n",
    "        self.dob=dob\n",
    "        self.heart=self.Heart()   #composite object(composition)-koi bhi object jo apne andar koi dushre object \n",
    "                                  # ko rakhta hai phir us object ke aage ham jo bhi method hai ham usko call \n",
    "                                  # kar sakte hai\n",
    "\n",
    "    def eating(self):\n",
    "        print(\"this is eating\")\n",
    "\n",
    "h1=Human(\"sonu\",2010)\n",
    "h1.eating()\n",
    "print(h1.name,h1.dob,h1.heart)\n",
    "h1.heart.beat()"
   ]
  },
  {
   "cell_type": "markdown",
   "metadata": {},
   "source": [
    "##### Data Encapsulation/Hiding\n",
    "  - it is a class design that protects data members of class from unauthorized access.\n",
    "  \n",
    "  - in short, it enables data security/safety."
   ]
  },
  {
   "cell_type": "code",
   "execution_count": 3,
   "metadata": {},
   "outputs": [
    {
     "name": "stdout",
     "output_type": "stream",
     "text": [
      "10000\n"
     ]
    }
   ],
   "source": [
    "# without encapsulation.\n",
    "class emp:\n",
    "    def __init__(self):\n",
    "        self.sal=10000\n",
    "\n",
    "e=emp()\n",
    "print(e.sal)"
   ]
  },
  {
   "cell_type": "code",
   "execution_count": 5,
   "metadata": {},
   "outputs": [
    {
     "name": "stdout",
     "output_type": "stream",
     "text": [
      "10000\n",
      "12000\n"
     ]
    }
   ],
   "source": [
    "# with encapsulation.\n",
    "class emp:\n",
    "    def __init__(self):\n",
    "        self.__sal=10000   #private data\n",
    "\n",
    "    def getsal(self):\n",
    "        return self.__sal\n",
    "    \n",
    "    def setsal(self,sal):\n",
    "        self.__sal=sal\n",
    "\n",
    "e=emp()\n",
    "# print(e.__sal)  error\n",
    "print(e.getsal())\n",
    "e.setsal(12000)\n",
    "print(e.getsal())"
   ]
  },
  {
   "cell_type": "code",
   "execution_count": 6,
   "metadata": {},
   "outputs": [
    {
     "name": "stdout",
     "output_type": "stream",
     "text": [
      "10000\n",
      "1200\n"
     ]
    }
   ],
   "source": [
    "# with encapsulation.\n",
    "class emp:\n",
    "    def __init__(self):\n",
    "        self.__sal=10000   #private data\n",
    "\n",
    "    def getsal(self):\n",
    "        return self.__sal\n",
    "    \n",
    "    def setsal(self,sal):\n",
    "        self.__sal=sal\n",
    "\n",
    "e=emp()\n",
    "# print(e.__sal)  error\n",
    "print(e.getsal())\n",
    "e.setsal(1200)\n",
    "print(e.getsal())"
   ]
  },
  {
   "cell_type": "code",
   "execution_count": 7,
   "metadata": {},
   "outputs": [
    {
     "name": "stdout",
     "output_type": "stream",
     "text": [
      "10000\n",
      "10000\n"
     ]
    }
   ],
   "source": [
    "# with encapsulation.\n",
    "class emp:\n",
    "    def __init__(self):\n",
    "        self.__sal=10000   #private data\n",
    "\n",
    "    def getsal(self):\n",
    "        return self.__sal\n",
    "    \n",
    "    def setsal(self,sal):\n",
    "        if(self.__sal>sal):\n",
    "            pass\n",
    "        else:\n",
    "            self.__sal=sal\n",
    "\n",
    "e=emp()\n",
    "# print(e.__sal)  error\n",
    "print(e.getsal())\n",
    "e.setsal(1200)\n",
    "print(e.getsal())"
   ]
  },
  {
   "cell_type": "code",
   "execution_count": 6,
   "metadata": {},
   "outputs": [
    {
     "name": "stdout",
     "output_type": "stream",
     "text": [
      "10000\n",
      "Raju\n",
      "coding\n",
      "pratima\n",
      "10000\n"
     ]
    }
   ],
   "source": [
    "# with encapsulation.\n",
    "class emp:\n",
    "    def __init__(self):\n",
    "        self.__sal=10000   #private data\n",
    "        self.__name=\"Raju\"\n",
    "        self.__dept=\"coding\"\n",
    "\n",
    "    def getsal(self):\n",
    "        return self.__sal\n",
    "    def getname(self):\n",
    "        return self.__name\n",
    "    def getdept(self):\n",
    "        return self.__dept\n",
    "    \n",
    "    def setsal(self,sal):\n",
    "        if(self.__sal>sal):\n",
    "            pass\n",
    "        else:\n",
    "            self.__sal=sal\n",
    "    def setname(self,name):\n",
    "        self.__name=name\n",
    "\n",
    "e=emp()\n",
    "# print(e.__sal)  error\n",
    "print(e.getsal())\n",
    "print(e.getname())\n",
    "print(e.getdept())\n",
    "e.setsal(1200)\n",
    "e.setname(\"pratima\")\n",
    "print(e.getname())\n",
    "print(e.getsal())"
   ]
  },
  {
   "cell_type": "code",
   "execution_count": 2,
   "metadata": {},
   "outputs": [
    {
     "ename": "NameError",
     "evalue": "name 'test' is not defined",
     "output_type": "error",
     "traceback": [
      "\u001b[1;31m---------------------------------------------------------------------------\u001b[0m",
      "\u001b[1;31mNameError\u001b[0m                                 Traceback (most recent call last)",
      "\u001b[1;32mc:\\Users\\Raju\\Desktop\\new\\WD_4PM_python\\WD_4PM_Pyton4d\\oops.ipynb Cell 82\u001b[0m line \u001b[0;36m1\n\u001b[1;32m----> <a href='vscode-notebook-cell:/c%3A/Users/Raju/Desktop/new/WD_4PM_python/WD_4PM_Pyton4d/oops.ipynb#Y144sZmlsZQ%3D%3D?line=0'>1</a>\u001b[0m \u001b[39mclass\u001b[39;49;00m \u001b[39mtest\u001b[39;49;00m:\n\u001b[0;32m      <a href='vscode-notebook-cell:/c%3A/Users/Raju/Desktop/new/WD_4PM_python/WD_4PM_Pyton4d/oops.ipynb#Y144sZmlsZQ%3D%3D?line=1'>2</a>\u001b[0m     x\u001b[39m=\u001b[39;49m\u001b[39m20\u001b[39;49m\n\u001b[0;32m      <a href='vscode-notebook-cell:/c%3A/Users/Raju/Desktop/new/WD_4PM_python/WD_4PM_Pyton4d/oops.ipynb#Y144sZmlsZQ%3D%3D?line=2'>3</a>\u001b[0m     \u001b[39mprint\u001b[39;49m(test\u001b[39m.\u001b[39;49mx)\n",
      "\u001b[1;32mc:\\Users\\Raju\\Desktop\\new\\WD_4PM_python\\WD_4PM_Pyton4d\\oops.ipynb Cell 82\u001b[0m line \u001b[0;36m3\n\u001b[0;32m      <a href='vscode-notebook-cell:/c%3A/Users/Raju/Desktop/new/WD_4PM_python/WD_4PM_Pyton4d/oops.ipynb#Y144sZmlsZQ%3D%3D?line=0'>1</a>\u001b[0m \u001b[39mclass\u001b[39;00m \u001b[39mtest\u001b[39;00m:\n\u001b[0;32m      <a href='vscode-notebook-cell:/c%3A/Users/Raju/Desktop/new/WD_4PM_python/WD_4PM_Pyton4d/oops.ipynb#Y144sZmlsZQ%3D%3D?line=1'>2</a>\u001b[0m     x\u001b[39m=\u001b[39m\u001b[39m20\u001b[39m\n\u001b[1;32m----> <a href='vscode-notebook-cell:/c%3A/Users/Raju/Desktop/new/WD_4PM_python/WD_4PM_Pyton4d/oops.ipynb#Y144sZmlsZQ%3D%3D?line=2'>3</a>\u001b[0m     \u001b[39mprint\u001b[39m(test\u001b[39m.\u001b[39mx)\n",
      "\u001b[1;31mNameError\u001b[0m: name 'test' is not defined"
     ]
    }
   ],
   "source": [
    "class test:\n",
    "    x=20\n",
    "    print(test.x)"
   ]
  },
  {
   "cell_type": "code",
   "execution_count": 1,
   "metadata": {},
   "outputs": [
    {
     "ename": "NameError",
     "evalue": "name 'test1' is not defined",
     "output_type": "error",
     "traceback": [
      "\u001b[1;31m---------------------------------------------------------------------------\u001b[0m",
      "\u001b[1;31mNameError\u001b[0m                                 Traceback (most recent call last)",
      "Cell \u001b[1;32mIn[1], line 2\u001b[0m\n\u001b[0;32m      1\u001b[0m \u001b[39m# Encapsulation with class data member\u001b[39;00m\n\u001b[1;32m----> 2\u001b[0m \u001b[39mclass\u001b[39;49;00m \u001b[39mtest1\u001b[39;49;00m:\n\u001b[0;32m      3\u001b[0m     __x\u001b[39m=\u001b[39;49m\u001b[39m10\u001b[39;49m   \u001b[39m#private\u001b[39;49;00m\n\u001b[0;32m      4\u001b[0m     \u001b[39mprint\u001b[39;49m(test1\u001b[39m.\u001b[39;49m__x)\n",
      "Cell \u001b[1;32mIn[1], line 4\u001b[0m, in \u001b[0;36mtest1\u001b[1;34m()\u001b[0m\n\u001b[0;32m      2\u001b[0m \u001b[39mclass\u001b[39;00m \u001b[39mtest1\u001b[39;00m:\n\u001b[0;32m      3\u001b[0m     __x\u001b[39m=\u001b[39m\u001b[39m10\u001b[39m   \u001b[39m#private\u001b[39;00m\n\u001b[1;32m----> 4\u001b[0m     \u001b[39mprint\u001b[39m(test1\u001b[39m.\u001b[39m__x)\n",
      "\u001b[1;31mNameError\u001b[0m: name 'test1' is not defined"
     ]
    }
   ],
   "source": [
    "# Encapsulation with class data member\n",
    "class test1:\n",
    "    __x=10   #private\n",
    "    print(test1.__x)"
   ]
  },
  {
   "cell_type": "code",
   "execution_count": 7,
   "metadata": {},
   "outputs": [
    {
     "name": "stdout",
     "output_type": "stream",
     "text": [
      "10\n"
     ]
    }
   ],
   "source": [
    "class test:\n",
    "    __x=10   #private\n",
    "\n",
    "    @classmethod\n",
    "    def getx(cls):\n",
    "        return cls.__x\n",
    "    \n",
    "#print(test.__x)  error\n",
    "print(test.getx())"
   ]
  },
  {
   "cell_type": "code",
   "execution_count": 9,
   "metadata": {},
   "outputs": [
    {
     "name": "stdout",
     "output_type": "stream",
     "text": [
      "10\n",
      "20\n"
     ]
    }
   ],
   "source": [
    "class test:\n",
    "    __x=10   #private\n",
    "\n",
    "    @classmethod\n",
    "    def getx(cls):\n",
    "        return cls.__x\n",
    "    \n",
    "    @classmethod\n",
    "    def setx(cls,x):\n",
    "        cls.__x=x\n",
    "    \n",
    "#print(test.__x)  error\n",
    "print(test.getx())\n",
    "test.setx(20)\n",
    "print(test.getx())"
   ]
  },
  {
   "cell_type": "code",
   "execution_count": 7,
   "metadata": {},
   "outputs": [
    {
     "name": "stdout",
     "output_type": "stream",
     "text": [
      "10\n",
      "20\n"
     ]
    }
   ],
   "source": [
    "class test:\n",
    "    __x=10   #private\n",
    "\n",
    "    @classmethod\n",
    "    def getx(cls):\n",
    "        return cls.__x\n",
    "    \n",
    "    @classmethod\n",
    "    def setx(cls,x):\n",
    "        cls.__x=x\n",
    "    \n",
    "#print(test.__x)  error\n",
    "t=test()\n",
    "print(t.getx())\n",
    "t.setx(20)\n",
    "print(t.getx())"
   ]
  },
  {
   "cell_type": "markdown",
   "metadata": {},
   "source": [
    "#### Garbage collection\n",
    " - it is a process that is implemented by interpreter time to time during execution of program to clean up memory of unused objects so that this memory can be utilized for other objects. "
   ]
  },
  {
   "cell_type": "code",
   "execution_count": 11,
   "metadata": {},
   "outputs": [
    {
     "name": "stdout",
     "output_type": "stream",
     "text": [
      "this is constructor\n",
      "<__main__.test object at 0x000001D58F800A90>\n",
      "this is destructor\n",
      "10\n"
     ]
    }
   ],
   "source": [
    "class test:\n",
    "    def __init__(self):\n",
    "        print(\"this is constructor\")\n",
    "\n",
    "    def __del__(self):\n",
    "        print(\"this is destructor\")    \n",
    "\n",
    "t=test()\n",
    "print(t)\n",
    "t=10\n",
    "print(t)"
   ]
  },
  {
   "cell_type": "code",
   "execution_count": 1,
   "metadata": {},
   "outputs": [
    {
     "name": "stdout",
     "output_type": "stream",
     "text": [
      "this is constructor\n",
      "<__main__.test object at 0x0000025C26EF4850>\n",
      "10\n"
     ]
    }
   ],
   "source": [
    "class test:\n",
    "    def __init__(self):\n",
    "        print(\"this is constructor\")\n",
    "\n",
    "    def __del__(self):\n",
    "        print(\"this is destructor\")    \n",
    "\n",
    "t=test()\n",
    "print(t)\n",
    "i=10\n",
    "print(i)"
   ]
  },
  {
   "cell_type": "code",
   "execution_count": 9,
   "metadata": {},
   "outputs": [
    {
     "name": "stdout",
     "output_type": "stream",
     "text": [
      "this is constructor\n",
      "this is destructor\n",
      "<__main__.test object at 0x00000292AB5B5C90>\n",
      "10\n"
     ]
    }
   ],
   "source": [
    "class test:\n",
    "    def __init__(self):\n",
    "        print(\"this is constructor\")\n",
    "\n",
    "    def __del__(self):\n",
    "        print(\"this is destructor\")    #output is not same from sir.\n",
    "\n",
    "t=test()\n",
    "print(t)\n",
    "i=10\n",
    "print(i)"
   ]
  },
  {
   "cell_type": "code",
   "execution_count": 8,
   "metadata": {},
   "outputs": [
    {
     "name": "stdout",
     "output_type": "stream",
     "text": [
      "this is constructor\n",
      "<__main__.test object at 0x00000292AB058390>\n",
      "10\n"
     ]
    }
   ],
   "source": [
    "import gc\n",
    "class test:\n",
    "    def __init__(self):\n",
    "        print(\"this is constructor\")\n",
    "\n",
    "    def __del__(self):\n",
    "        print(\"this is destructor\")    \n",
    "\n",
    "t=test()\n",
    "print(t)\n",
    "gc.collect()  \n",
    "print(i)"
   ]
  },
  {
   "cell_type": "code",
   "execution_count": 11,
   "metadata": {},
   "outputs": [
    {
     "name": "stdout",
     "output_type": "stream",
     "text": [
      "this is constructor\n",
      "this is destructor\n",
      "<__main__.test object at 0x00000292AAAC1350>\n",
      "10\n",
      "<__main__.test object at 0x00000292AAAC1350>\n"
     ]
    }
   ],
   "source": [
    "import gc\n",
    "class test:\n",
    "    def __init__(self):\n",
    "        print(\"this is constructor\")\n",
    "\n",
    "    def __del__(self):\n",
    "        print(\"this is destructor\")    \n",
    "\n",
    "t=test()\n",
    "print(t)\n",
    "gc.collect()   # output is not same from sir.\n",
    "i=10\n",
    "print(i)\n",
    "print(t)"
   ]
  },
  {
   "cell_type": "markdown",
   "metadata": {},
   "source": [
    "### Inheritance\n",
    " - It is a technique that enables reuseability of members of an existing class into a newly created class.\n",
    " - existing class is known as **Parent/Super/Base** class and newly created class is known as **Child/Sub/Derived** class.\n",
    "\n",
    "##### Types of Inheritance\n",
    "  - Single level\n",
    "    - it focus on one parent and its only child.\n",
    "  - Multilevel\n",
    "    - it focus morethan one parent at different level(like grand parent)\n",
    "  - Multiple\n",
    "    - it focus on more than one parent at same level(like Amit and Jaya as parent and Abhi as child)\n",
    "  - Hybrid\n",
    "    - it is combination of multiple and multilevel.\n",
    "  - Hierachical \n",
    "    - it focus on more than one child of same parent and same thing continue at different levels(like a family tree)"
   ]
  },
  {
   "cell_type": "code",
   "execution_count": 6,
   "metadata": {},
   "outputs": [
    {
     "name": "stdout",
     "output_type": "stream",
     "text": [
      "this is msg\n"
     ]
    },
    {
     "ename": "AttributeError",
     "evalue": "'mobile' object has no attribute 'makecall'",
     "output_type": "error",
     "traceback": [
      "\u001b[1;31m---------------------------------------------------------------------------\u001b[0m",
      "\u001b[1;31mAttributeError\u001b[0m                            Traceback (most recent call last)",
      "Cell \u001b[1;32mIn[6], line 11\u001b[0m\n\u001b[0;32m      9\u001b[0m obj\u001b[39m=\u001b[39mmobile()\n\u001b[0;32m     10\u001b[0m obj\u001b[39m.\u001b[39mmsg()\n\u001b[1;32m---> 11\u001b[0m obj\u001b[39m.\u001b[39;49mmakecall()\n",
      "\u001b[1;31mAttributeError\u001b[0m: 'mobile' object has no attribute 'makecall'"
     ]
    }
   ],
   "source": [
    "class telephone:\n",
    "    def makecall(self):\n",
    "        print(\"this is makecall\")\n",
    "\n",
    "class mobile:\n",
    "    def msg(self):\n",
    "        print(\"this is msg\")\n",
    "\n",
    "obj=mobile()\n",
    "obj.msg()\n",
    "obj.makecall()"
   ]
  },
  {
   "cell_type": "code",
   "execution_count": 7,
   "metadata": {},
   "outputs": [
    {
     "name": "stdout",
     "output_type": "stream",
     "text": [
      "this is msg\n",
      "this is makecall\n"
     ]
    }
   ],
   "source": [
    "# Single Level Inheritance\n",
    "class telephone:\n",
    "    def makecall(self):\n",
    "        print(\"this is makecall\")\n",
    "\n",
    "class mobile(telephone):\n",
    "    def msg(self):\n",
    "        print(\"this is msg\")\n",
    "\n",
    "obj=mobile()\n",
    "obj.msg()\n",
    "obj.makecall()"
   ]
  },
  {
   "cell_type": "code",
   "execution_count": 1,
   "metadata": {},
   "outputs": [],
   "source": [
    "class telephone:\n",
    "    def makecall(self):\n",
    "        print(\"this is makecall\")"
   ]
  },
  {
   "cell_type": "code",
   "execution_count": 2,
   "metadata": {},
   "outputs": [
    {
     "name": "stdout",
     "output_type": "stream",
     "text": [
      "this is msg\n",
      "this is makecall\n"
     ]
    }
   ],
   "source": [
    "class mobile(telephone):\n",
    "    def msg(self):\n",
    "        print(\"this is msg\")\n",
    "obj=mobile()\n",
    "obj.msg()\n",
    "obj.makecall()"
   ]
  },
  {
   "cell_type": "code",
   "execution_count": 3,
   "metadata": {},
   "outputs": [
    {
     "name": "stdout",
     "output_type": "stream",
     "text": [
      "this is msg\n",
      "this is downloadapp\n",
      "this is makecall\n"
     ]
    }
   ],
   "source": [
    "class smartphone(mobile):\n",
    "    def downloadapp(self):\n",
    "        print(\"this is downloadapp\")\n",
    "obj=smartphone()\n",
    "obj.msg()\n",
    "obj.downloadapp()\n",
    "obj.makecall()"
   ]
  },
  {
   "cell_type": "code",
   "execution_count": 8,
   "metadata": {},
   "outputs": [
    {
     "name": "stdout",
     "output_type": "stream",
     "text": [
      "this is makecall\n",
      "this is msg\n",
      "this is downloadapp\n"
     ]
    }
   ],
   "source": [
    "# Multilevel Inheritance\n",
    "class telephone:\n",
    "    def makecall(self):\n",
    "        print(\"this is makecall\")\n",
    "\n",
    "class mobile(telephone):\n",
    "    def msg(self):\n",
    "        print(\"this is msg\")\n",
    "\n",
    "class smartphone(mobile):\n",
    "    def downloadapp(self):\n",
    "        print(\"this is downloadapp\")\n",
    "\n",
    "obj=smartphone()\n",
    "obj.makecall()\n",
    "obj.msg()\n",
    "obj.downloadapp()"
   ]
  },
  {
   "cell_type": "code",
   "execution_count": 10,
   "metadata": {},
   "outputs": [
    {
     "name": "stdout",
     "output_type": "stream",
     "text": [
      "this is makecall\n",
      "this is picture\n",
      "this is msg\n"
     ]
    }
   ],
   "source": [
    "# Multiple Inheritance\n",
    "class telephone:\n",
    "    def makecall(self):\n",
    "        print(\"this is makecall\")\n",
    "\n",
    "class camera:\n",
    "    def picture(self):\n",
    "        print(\"this is picture\")\n",
    "\n",
    "class mobile(telephone,camera):\n",
    "    def msg(self):\n",
    "        print(\"this is msg\")\n",
    "\n",
    "obj=mobile()\n",
    "obj.makecall()\n",
    "obj.picture()\n",
    "obj.msg()"
   ]
  },
  {
   "cell_type": "code",
   "execution_count": 11,
   "metadata": {},
   "outputs": [
    {
     "name": "stdout",
     "output_type": "stream",
     "text": [
      "this is m1 in A\n"
     ]
    }
   ],
   "source": [
    "class A:\n",
    "    def m1(self):\n",
    "        print(\"this is m1 in A\")\n",
    "class B:\n",
    "    def m1(self):\n",
    "        print(\"this is m1 in B\")\n",
    "\n",
    "class C(A,B):\n",
    "    pass\n",
    "\n",
    "obj=C()\n",
    "obj.m1()   #MRO(Method Resolution Order)(jab ek method ek se jada class me aviliable hai to us condition me \n",
    "           # 1st parent ke pass jata agar method mil gaya to wah print kar deta hai nahi milne par next parent \n",
    "           # ke pass jata hai)"
   ]
  },
  {
   "cell_type": "code",
   "execution_count": 12,
   "metadata": {},
   "outputs": [
    {
     "name": "stdout",
     "output_type": "stream",
     "text": [
      "this is m1 in B\n"
     ]
    }
   ],
   "source": [
    "class A:\n",
    "    def m1(self):\n",
    "        print(\"this is m1 in A\")\n",
    "class B:\n",
    "    def m1(self):\n",
    "        print(\"this is m1 in B\")\n",
    "\n",
    "class C(B,A):\n",
    "    pass\n",
    "\n",
    "obj=C()\n",
    "obj.m1()"
   ]
  },
  {
   "cell_type": "code",
   "execution_count": 14,
   "metadata": {},
   "outputs": [
    {
     "name": "stdout",
     "output_type": "stream",
     "text": [
      "this is m1\n",
      "this is m2\n",
      "this is m3\n",
      "this is m4\n"
     ]
    }
   ],
   "source": [
    "# Hybrid Inheritance\n",
    "class A:\n",
    "    def m1(self):\n",
    "        print(\"this is m1\")\n",
    "class B(A):\n",
    "    def m2(self):\n",
    "        print(\"this is m2\")\n",
    "class D:\n",
    "    def m3(self):\n",
    "        print(\"this is m3\")\n",
    "class c(B,D):\n",
    "    def m4(self):\n",
    "        print(\"this is m4\")\n",
    "\n",
    "obj=c()\n",
    "obj.m1()\n",
    "obj.m2()\n",
    "obj.m3()\n",
    "obj.m4()"
   ]
  },
  {
   "cell_type": "code",
   "execution_count": 18,
   "metadata": {},
   "outputs": [
    {
     "name": "stdout",
     "output_type": "stream",
     "text": [
      "this is m1 in A\n",
      "this is m2\n",
      "this is m4\n"
     ]
    }
   ],
   "source": [
    "class A:\n",
    "    def m1(self):\n",
    "        print(\"this is m1 in A\")\n",
    "class B(A):\n",
    "    def m2(self):\n",
    "        print(\"this is m2\")\n",
    "class D:\n",
    "    def m1(self):\n",
    "        print(\"this is m1 in D\")\n",
    "class C(B,D):\n",
    "    def m4(self):\n",
    "        print(\"this is m4\")\n",
    "\n",
    "obj=C()\n",
    "obj.m1()\n",
    "obj.m2()\n",
    "obj.m4()"
   ]
  },
  {
   "cell_type": "code",
   "execution_count": 5,
   "metadata": {},
   "outputs": [
    {
     "name": "stdout",
     "output_type": "stream",
     "text": [
      "this is m1 in B\n",
      "this is m4\n"
     ]
    }
   ],
   "source": [
    "class A:\n",
    "    def m1(self):\n",
    "        print(\"this is m1 in A\")\n",
    "class B(A):\n",
    "    def m1(self):\n",
    "        print(\"this is m1 in B\")\n",
    "class D:\n",
    "    def m1(self):\n",
    "        print(\"this is m1 in D\")\n",
    "class C(B,D):\n",
    "    def m4(self):\n",
    "        print(\"this is m4\")\n",
    "\n",
    "obj=C()\n",
    "obj.m1()\n",
    "obj.m4()"
   ]
  },
  {
   "cell_type": "code",
   "execution_count": 21,
   "metadata": {},
   "outputs": [
    {
     "name": "stdout",
     "output_type": "stream",
     "text": [
      "this is eating\n",
      "this is study\n",
      "this is sleeping\n"
     ]
    }
   ],
   "source": [
    "# Hierarchical \n",
    "class person:\n",
    "    def eating(self):\n",
    "        print(\"this is eating\")\n",
    "    def sleeping(self):\n",
    "        print(\"this is sleeping\")\n",
    "\n",
    "class student(person):\n",
    "    def study(self):\n",
    "        print(\"this is study\")\n",
    "\n",
    "class actor(person):\n",
    "    def acting(self):\n",
    "        print(\"this is acting\")\n",
    "\n",
    "obj=student()\n",
    "obj.eating()\n",
    "obj.study()\n",
    "obj.sleeping()"
   ]
  },
  {
   "cell_type": "code",
   "execution_count": 7,
   "metadata": {},
   "outputs": [
    {
     "name": "stdout",
     "output_type": "stream",
     "text": [
      "this is eating\n",
      "this is study\n",
      "this is sleeping\n",
      "this is eating\n",
      "this is acting\n",
      "this is sleeping\n"
     ]
    }
   ],
   "source": [
    "# Hierarchical \n",
    "class person:\n",
    "    def eating(self):\n",
    "        print(\"this is eating\")\n",
    "    def sleeping(self):\n",
    "        print(\"this is sleeping\")\n",
    "\n",
    "class student(person):\n",
    "    def study(self):\n",
    "        print(\"this is study\")\n",
    "\n",
    "class actor(person):\n",
    "    def acting(self):\n",
    "        print(\"this is acting\")\n",
    "\n",
    "obj=student()\n",
    "obj.eating()\n",
    "obj.study()\n",
    "obj.sleeping()\n",
    "obj=actor()\n",
    "obj.eating()\n",
    "obj.acting()\n",
    "obj.sleeping()"
   ]
  },
  {
   "cell_type": "code",
   "execution_count": 8,
   "metadata": {},
   "outputs": [
    {
     "name": "stdout",
     "output_type": "stream",
     "text": [
      "this is eating\n",
      "this is player\n",
      "this is sleeping\n"
     ]
    }
   ],
   "source": [
    "class player(person):\n",
    "    def play(self):\n",
    "        print(\"this is player\")\n",
    "obj=player()\n",
    "obj.eating()\n",
    "obj.play()\n",
    "obj.sleeping()"
   ]
  },
  {
   "cell_type": "code",
   "execution_count": 24,
   "metadata": {},
   "outputs": [
    {
     "name": "stdout",
     "output_type": "stream",
     "text": [
      "cons in A\n"
     ]
    }
   ],
   "source": [
    "class A:\n",
    "    def __init__(self):\n",
    "        print(\"cons in A\")\n",
    "\n",
    "class B(A):\n",
    "    pass\n",
    "\n",
    "obj=B()"
   ]
  },
  {
   "cell_type": "code",
   "execution_count": 25,
   "metadata": {},
   "outputs": [
    {
     "ename": "TypeError",
     "evalue": "A.__init__() missing 1 required positional argument: 'x'",
     "output_type": "error",
     "traceback": [
      "\u001b[1;31m---------------------------------------------------------------------------\u001b[0m",
      "\u001b[1;31mTypeError\u001b[0m                                 Traceback (most recent call last)",
      "Cell \u001b[1;32mIn[25], line 8\u001b[0m\n\u001b[0;32m      5\u001b[0m \u001b[39mclass\u001b[39;00m \u001b[39mB\u001b[39;00m(A):\n\u001b[0;32m      6\u001b[0m     \u001b[39mpass\u001b[39;00m\n\u001b[1;32m----> 8\u001b[0m obj\u001b[39m=\u001b[39mB()\n",
      "\u001b[1;31mTypeError\u001b[0m: A.__init__() missing 1 required positional argument: 'x'"
     ]
    }
   ],
   "source": [
    "class A:\n",
    "    def __init__(self,x):\n",
    "        print(\"cons in A\",x)\n",
    "\n",
    "class B(A):\n",
    "    pass\n",
    "\n",
    "obj=B()"
   ]
  },
  {
   "cell_type": "code",
   "execution_count": 26,
   "metadata": {},
   "outputs": [
    {
     "name": "stdout",
     "output_type": "stream",
     "text": [
      "cons in A 10\n"
     ]
    }
   ],
   "source": [
    "class A:\n",
    "    def __init__(self,x):\n",
    "        print(\"cons in A\",x)\n",
    "\n",
    "class B(A):\n",
    "    pass\n",
    "\n",
    "obj=B(10)"
   ]
  },
  {
   "cell_type": "code",
   "execution_count": 31,
   "metadata": {},
   "outputs": [
    {
     "name": "stdout",
     "output_type": "stream",
     "text": [
      "10\n",
      "this is m1\n",
      "this is m2\n"
     ]
    }
   ],
   "source": [
    "class A:\n",
    "    x=10\n",
    "\n",
    "    @classmethod\n",
    "    def m1(cls):\n",
    "        print(\"this is m1\")\n",
    "    \n",
    "    @staticmethod\n",
    "    def m2():\n",
    "        print(\"this is m2\")\n",
    "\n",
    "class B(A):\n",
    "    pass\n",
    "\n",
    "print(B.x)\n",
    "B.m1()\n",
    "B.m2()"
   ]
  },
  {
   "cell_type": "code",
   "execution_count": 34,
   "metadata": {},
   "outputs": [],
   "source": [
    "class A:\n",
    "    pass\n",
    "\n",
    "obj=A()"
   ]
  },
  {
   "cell_type": "code",
   "execution_count": 9,
   "metadata": {},
   "outputs": [
    {
     "name": "stdout",
     "output_type": "stream",
     "text": [
      "Help on class object in module builtins:\n",
      "\n",
      "class object\n",
      " |  The base class of the class hierarchy.\n",
      " |  \n",
      " |  When called, it accepts no arguments and returns a new featureless\n",
      " |  instance that has no instance attributes and cannot be given any.\n",
      " |  \n",
      " |  Built-in subclasses:\n",
      " |      anext_awaitable\n",
      " |      ArgNotFound\n",
      " |      async_generator\n",
      " |      async_generator_asend\n",
      " |      ... and 116 other subclasses\n",
      " |  \n",
      " |  Methods defined here:\n",
      " |  \n",
      " |  __delattr__(self, name, /)\n",
      " |      Implement delattr(self, name).\n",
      " |  \n",
      " |  __dir__(self, /)\n",
      " |      Default dir() implementation.\n",
      " |  \n",
      " |  __eq__(self, value, /)\n",
      " |      Return self==value.\n",
      " |  \n",
      " |  __format__(self, format_spec, /)\n",
      " |      Default object formatter.\n",
      " |  \n",
      " |  __ge__(self, value, /)\n",
      " |      Return self>=value.\n",
      " |  \n",
      " |  __getattribute__(self, name, /)\n",
      " |      Return getattr(self, name).\n",
      " |  \n",
      " |  __getstate__(self, /)\n",
      " |      Helper for pickle.\n",
      " |  \n",
      " |  __gt__(self, value, /)\n",
      " |      Return self>value.\n",
      " |  \n",
      " |  __hash__(self, /)\n",
      " |      Return hash(self).\n",
      " |  \n",
      " |  __init__(self, /, *args, **kwargs)\n",
      " |      Initialize self.  See help(type(self)) for accurate signature.\n",
      " |  \n",
      " |  __le__(self, value, /)\n",
      " |      Return self<=value.\n",
      " |  \n",
      " |  __lt__(self, value, /)\n",
      " |      Return self<value.\n",
      " |  \n",
      " |  __ne__(self, value, /)\n",
      " |      Return self!=value.\n",
      " |  \n",
      " |  __reduce__(self, /)\n",
      " |      Helper for pickle.\n",
      " |  \n",
      " |  __reduce_ex__(self, protocol, /)\n",
      " |      Helper for pickle.\n",
      " |  \n",
      " |  __repr__(self, /)\n",
      " |      Return repr(self).\n",
      " |  \n",
      " |  __setattr__(self, name, value, /)\n",
      " |      Implement setattr(self, name, value).\n",
      " |  \n",
      " |  __sizeof__(self, /)\n",
      " |      Size of object in memory, in bytes.\n",
      " |  \n",
      " |  __str__(self, /)\n",
      " |      Return str(self).\n",
      " |  \n",
      " |  ----------------------------------------------------------------------\n",
      " |  Class methods defined here:\n",
      " |  \n",
      " |  __init_subclass__(...) from builtins.type\n",
      " |      This method is called when a class is subclassed.\n",
      " |      \n",
      " |      The default implementation does nothing. It may be\n",
      " |      overridden to extend subclasses.\n",
      " |  \n",
      " |  __subclasshook__(...) from builtins.type\n",
      " |      Abstract classes can override this to customize issubclass().\n",
      " |      \n",
      " |      This is invoked early on by abc.ABCMeta.__subclasscheck__().\n",
      " |      It should return True, False or NotImplemented.  If it returns\n",
      " |      NotImplemented, the normal algorithm is used.  Otherwise, it\n",
      " |      overrides the normal algorithm (and the outcome is cached).\n",
      " |  \n",
      " |  ----------------------------------------------------------------------\n",
      " |  Static methods defined here:\n",
      " |  \n",
      " |  __new__(*args, **kwargs) from builtins.type\n",
      " |      Create and return a new object.  See help(type) for accurate signature.\n",
      " |  \n",
      " |  ----------------------------------------------------------------------\n",
      " |  Data and other attributes defined here:\n",
      " |  \n",
      " |  __class__ = <class 'type'>\n",
      " |      type(object) -> the object's type\n",
      " |      type(name, bases, dict, **kwds) -> a new type\n",
      "\n"
     ]
    }
   ],
   "source": [
    "help(object)"
   ]
  },
  {
   "cell_type": "code",
   "execution_count": 36,
   "metadata": {},
   "outputs": [
    {
     "data": {
      "text/plain": [
       "24"
      ]
     },
     "execution_count": 36,
     "metadata": {},
     "output_type": "execute_result"
    }
   ],
   "source": [
    "len(dir(object))     #object class is created in python without parents(this is known as root class)"
   ]
  },
  {
   "cell_type": "markdown",
   "metadata": {},
   "source": [
    "### Polymorphism\n",
    "  - poly--> many\n",
    "  - morphism-->forms\n",
    "  - it is a concept that enables an entity to show multiple forms according to situations.\n",
    "  - in python, we study polymorphism in 3 ways\n",
    "      - with reference variable\n",
    "      - with method(Method Overriding)\n",
    "      - with operator(Operator Overloading)"
   ]
  },
  {
   "cell_type": "code",
   "execution_count": 2,
   "metadata": {},
   "outputs": [
    {
     "name": "stdout",
     "output_type": "stream",
     "text": [
      "<class 'int'> 10\n",
      "<class 'str'> bharat\n"
     ]
    }
   ],
   "source": [
    "# with reference variable\n",
    "x=10\n",
    "print(type(x),x)\n",
    "\n",
    "x=\"bharat\"\n",
    "print(type(x),x)"
   ]
  },
  {
   "cell_type": "code",
   "execution_count": 3,
   "metadata": {},
   "outputs": [
    {
     "name": "stdout",
     "output_type": "stream",
     "text": [
      "this is m1 in A\n"
     ]
    }
   ],
   "source": [
    "# Method Overriding\n",
    "class A:\n",
    "    def m1(self):\n",
    "        print(\"this is m1 in A\")\n",
    "\n",
    "class B(A):\n",
    "    pass\n",
    "\n",
    "obj=B()\n",
    "obj.m1()"
   ]
  },
  {
   "cell_type": "code",
   "execution_count": 4,
   "metadata": {},
   "outputs": [
    {
     "name": "stdout",
     "output_type": "stream",
     "text": [
      "this is m1 in B\n"
     ]
    }
   ],
   "source": [
    "# Method Overriding --> redefining a method of parent in child\n",
    "class A:\n",
    "    def m1(self):\n",
    "        print(\"this is m1 in A\")\n",
    "\n",
    "class B(A):\n",
    "    def m1(self):\n",
    "        print(\"this is m1 in B\")\n",
    "\n",
    "obj=B()\n",
    "obj.m1()"
   ]
  },
  {
   "cell_type": "code",
   "execution_count": 5,
   "metadata": {},
   "outputs": [
    {
     "name": "stdout",
     "output_type": "stream",
     "text": [
      "this is m1 in B\n",
      "this is m1 in A\n"
     ]
    }
   ],
   "source": [
    "# Method Overriding --> redefining a method of parent in child\n",
    "class A:\n",
    "    def m1(self):\n",
    "        print(\"this is m1 in A\")\n",
    "\n",
    "class B(A):\n",
    "    def m1(self):\n",
    "        print(\"this is m1 in B\")\n",
    "        super().m1()\n",
    "\n",
    "obj=B()\n",
    "obj.m1()"
   ]
  },
  {
   "cell_type": "code",
   "execution_count": 7,
   "metadata": {},
   "outputs": [
    {
     "name": "stdout",
     "output_type": "stream",
     "text": [
      "pizza burger any time\n",
      "daal roti rice 3 times in a day\n"
     ]
    }
   ],
   "source": [
    "class parent:\n",
    "    def eating(self):\n",
    "        print(\"daal roti rice 3 times in a day\")\n",
    "\n",
    "class child(parent):\n",
    "    def eating(self):\n",
    "        print(\"pizza burger any time\")\n",
    "        super().eating()\n",
    "\n",
    "obj=child()\n",
    "obj.eating()"
   ]
  },
  {
   "cell_type": "code",
   "execution_count": 8,
   "metadata": {},
   "outputs": [
    {
     "ename": "TypeError",
     "evalue": "unsupported operand type(s) for +: 'point' and 'point'",
     "output_type": "error",
     "traceback": [
      "\u001b[1;31m---------------------------------------------------------------------------\u001b[0m",
      "\u001b[1;31mTypeError\u001b[0m                                 Traceback (most recent call last)",
      "Cell \u001b[1;32mIn[8], line 9\u001b[0m\n\u001b[0;32m      7\u001b[0m p1\u001b[39m=\u001b[39mpoint(\u001b[39m2\u001b[39m,\u001b[39m3\u001b[39m)\n\u001b[0;32m      8\u001b[0m p2\u001b[39m=\u001b[39mpoint(\u001b[39m5\u001b[39m,\u001b[39m2\u001b[39m)\n\u001b[1;32m----> 9\u001b[0m \u001b[39mprint\u001b[39m(p1\u001b[39m+\u001b[39;49mp2)\n",
      "\u001b[1;31mTypeError\u001b[0m: unsupported operand type(s) for +: 'point' and 'point'"
     ]
    }
   ],
   "source": [
    "#Operator Overloding\n",
    "class point:\n",
    "    def __init__(self,x,y):\n",
    "        self.x=x\n",
    "        self.y=y\n",
    "\n",
    "p1=point(2,3)\n",
    "p2=point(5,2)\n",
    "print(p1+p2)"
   ]
  },
  {
   "cell_type": "code",
   "execution_count": 2,
   "metadata": {},
   "outputs": [
    {
     "name": "stdout",
     "output_type": "stream",
     "text": [
      "(7, 5)\n"
     ]
    }
   ],
   "source": [
    "#Operator Overloding\n",
    "class point:\n",
    "    def __init__(self,x,y):\n",
    "        self.x=x\n",
    "        self.y=y\n",
    "\n",
    "    def __add__(self,other):\n",
    "        return (self.x+other.x,self.y+other.y)\n",
    "    \n",
    "p1=point(2,3)  \n",
    "p2=point(5,2)\n",
    "print(p1+p2) # p1.__add__(p1+p2)"
   ]
  },
  {
   "cell_type": "code",
   "execution_count": 3,
   "metadata": {},
   "outputs": [
    {
     "name": "stdout",
     "output_type": "stream",
     "text": [
      "(7, 5)\n",
      "(10, 6)\n"
     ]
    }
   ],
   "source": [
    "#Operator Overloding-->defining meaning of an operator for custom classes, for each operator there is a magic \n",
    "#method and we need to define logic in that particular method only.\n",
    "class point:\n",
    "    def __init__(self,x,y):\n",
    "        self.x=x\n",
    "        self.y=y\n",
    "\n",
    "    def __add__(self,other):\n",
    "        return (self.x+other.x,self.y+other.y)\n",
    "    \n",
    "    def __mul__(self,other):\n",
    "        return (self.x*other.x,self.y*other.y)\n",
    "p1=point(2,3)\n",
    "p2=point(5,2)\n",
    "print(p1+p2) # p1.__add__(p1+p2)\n",
    "print(p1*p2) # p1.__mul__(p1*p2)"
   ]
  },
  {
   "cell_type": "code",
   "execution_count": 4,
   "metadata": {},
   "outputs": [
    {
     "name": "stdout",
     "output_type": "stream",
     "text": [
      "(7, 5)\n",
      "(10, 6)\n",
      "10\n",
      "10\n"
     ]
    }
   ],
   "source": [
    "#Operator Overloding-->defining meaning of an operator for custom classes, for each operator there is a magic \n",
    "#method and we need to define logic in that particular method only.\n",
    "class point:\n",
    "    def __init__(self,x,y):\n",
    "        self.x=x\n",
    "        self.y=y\n",
    "\n",
    "    def __add__(self,other):\n",
    "        return (self.x+other.x,self.y+other.y)\n",
    "    \n",
    "    def __mul__(self,other):\n",
    "        return (self.x*other.x,self.y*other.y)\n",
    "p1=point(2,3)\n",
    "p2=point(5,2)\n",
    "print(p1+p2) # p1.__add__(p1+p2)\n",
    "print(p1*p2) # p1.__mul__(p1*p2)\n",
    "\n",
    "x=10\n",
    "print(x)\n",
    "print(x.__str__())"
   ]
  },
  {
   "cell_type": "code",
   "execution_count": 5,
   "metadata": {},
   "outputs": [
    {
     "name": "stdout",
     "output_type": "stream",
     "text": [
      "<__main__.point object at 0x000001A1651B5BD0>\n"
     ]
    }
   ],
   "source": [
    "print(p1)"
   ]
  },
  {
   "cell_type": "code",
   "execution_count": 6,
   "metadata": {},
   "outputs": [
    {
     "name": "stdout",
     "output_type": "stream",
     "text": [
      "<__main__.point object at 0x000001A1651B5BD0>\n"
     ]
    }
   ],
   "source": [
    "print(p1.__str__())"
   ]
  },
  {
   "cell_type": "code",
   "execution_count": 7,
   "metadata": {},
   "outputs": [
    {
     "name": "stdout",
     "output_type": "stream",
     "text": [
      "(7, 5)\n",
      "(10, 6)\n"
     ]
    }
   ],
   "source": [
    "#Operator Overloding-->defining meaning of an operator for custom classes, for each operator there is a magic \n",
    "#method and we need to define logic in that particular method only.\n",
    "class point:\n",
    "    def __init__(self,x,y):\n",
    "        self.x=x\n",
    "        self.y=y\n",
    "\n",
    "    def __add__(self,other):\n",
    "        return (self.x+other.x,self.y+other.y)\n",
    "    \n",
    "    def __mul__(self,other):\n",
    "        return (self.x*other.x,self.y*other.y)\n",
    "    \n",
    "    def __str__(self):\n",
    "        return \"hi\"\n",
    "    \n",
    "p1=point(2,3)\n",
    "p2=point(5,2)\n",
    "print(p1+p2) # p1.__add__(p1+p2)\n",
    "print(p1*p2) # p1.__mul__(p1*p2)"
   ]
  },
  {
   "cell_type": "code",
   "execution_count": 8,
   "metadata": {},
   "outputs": [
    {
     "name": "stdout",
     "output_type": "stream",
     "text": [
      "hi\n"
     ]
    }
   ],
   "source": [
    "print(p1)"
   ]
  },
  {
   "cell_type": "code",
   "execution_count": 9,
   "metadata": {},
   "outputs": [
    {
     "name": "stdout",
     "output_type": "stream",
     "text": [
      "hi\n"
     ]
    }
   ],
   "source": [
    "print(p2)"
   ]
  },
  {
   "cell_type": "code",
   "execution_count": 10,
   "metadata": {},
   "outputs": [
    {
     "name": "stdout",
     "output_type": "stream",
     "text": [
      "hi\n"
     ]
    }
   ],
   "source": [
    "print(p1.__str__())"
   ]
  },
  {
   "cell_type": "code",
   "execution_count": 11,
   "metadata": {},
   "outputs": [
    {
     "name": "stdout",
     "output_type": "stream",
     "text": [
      "(7, 5)\n",
      "(10, 6)\n"
     ]
    }
   ],
   "source": [
    "#Operator Overloding-->defining meaning of an operator for custom classes, for each operator there is a magic \n",
    "#method and we need to define logic in that particular method only.\n",
    "class point:\n",
    "    def __init__(self,x,y):\n",
    "        self.x=x\n",
    "        self.y=y\n",
    "\n",
    "    def __add__(self,other):\n",
    "        return (self.x+other.x,self.y+other.y)\n",
    "    \n",
    "    def __mul__(self,other):\n",
    "        return (self.x*other.x,self.y*other.y)\n",
    "    \n",
    "    def __str__(self):\n",
    "        return f\"{self.x,self.y}\"\n",
    "    \n",
    "p1=point(2,3)\n",
    "p2=point(5,2)\n",
    "print(p1+p2) # p1.__add__(p1+p2)\n",
    "print(p1*p2) # p1.__mul__(p1*p2)"
   ]
  },
  {
   "cell_type": "code",
   "execution_count": 12,
   "metadata": {},
   "outputs": [
    {
     "name": "stdout",
     "output_type": "stream",
     "text": [
      "(2, 3)\n"
     ]
    }
   ],
   "source": [
    "print(p1)"
   ]
  },
  {
   "cell_type": "code",
   "execution_count": 13,
   "metadata": {},
   "outputs": [
    {
     "name": "stdout",
     "output_type": "stream",
     "text": [
      "(2, 3)\n"
     ]
    }
   ],
   "source": [
    "print(p1.__str__())"
   ]
  },
  {
   "cell_type": "code",
   "execution_count": 14,
   "metadata": {},
   "outputs": [
    {
     "name": "stdout",
     "output_type": "stream",
     "text": [
      "(5, 2)\n"
     ]
    }
   ],
   "source": [
    "print(p2)"
   ]
  },
  {
   "cell_type": "markdown",
   "metadata": {},
   "source": [
    "### _ _ str _ _():\n",
    " - whenever we print object of any python class this method gets executed by intrepreter.\n",
    " - originally, this method is defined in object class and inherited to all classes.\n",
    " - in object class, it's default logic is to return address of object but class may also override this method \n",
    "   to customize this behaviour.\n",
    " - int, float, str, list, tuple, set, dict, all these classes have already overriding this method."
   ]
  },
  {
   "cell_type": "markdown",
   "metadata": {},
   "source": [
    "### Abstraction\n",
    " - it is a process of defining **abstract class**\n",
    " - it focus on **what to do not how to do**\n",
    "#### Abstract class\n",
    " - it can not be instantiated(object creation is not allowed)\n",
    "  \n",
    "  #### concrete class                                           #### Abstract class\n",
    "  - bydefault, all python classes are concrete.                  - object creation is not allowed.\n",
    "    (object creation is allowed)                                 - we have to implement 2 rules to make a class \n",
    "                                                                   abstract:\n",
    "                                                                    > ABC as parent class\n",
    "                                                                    > atleast 1 abstract method\n",
    "  - it is a buleprint for creating similar                       - it is a buleprint for creating similar\n",
    "    objects.                                                       concrete classes.         "
   ]
  },
  {
   "cell_type": "code",
   "execution_count": 4,
   "metadata": {},
   "outputs": [
    {
     "ename": "TypeError",
     "evalue": "Can't instantiate abstract class test with abstract method m",
     "output_type": "error",
     "traceback": [
      "\u001b[1;31m---------------------------------------------------------------------------\u001b[0m",
      "\u001b[1;31mTypeError\u001b[0m                                 Traceback (most recent call last)",
      "Cell \u001b[1;32mIn[4], line 8\u001b[0m\n\u001b[0;32m      4\u001b[0m     \u001b[39m@abstractmethod\u001b[39m\n\u001b[0;32m      5\u001b[0m     \u001b[39mdef\u001b[39;00m \u001b[39mm\u001b[39m(\u001b[39mself\u001b[39m):\n\u001b[0;32m      6\u001b[0m         \u001b[39mpass\u001b[39;00m\n\u001b[1;32m----> 8\u001b[0m obj\u001b[39m=\u001b[39mtest()\n",
      "\u001b[1;31mTypeError\u001b[0m: Can't instantiate abstract class test with abstract method m"
     ]
    }
   ],
   "source": [
    "from abc import ABC,abstractmethod\n",
    "class test(ABC):\n",
    "\n",
    "    @abstractmethod\n",
    "    def m(self):\n",
    "        pass\n",
    "\n",
    "obj=test()"
   ]
  },
  {
   "cell_type": "code",
   "execution_count": 5,
   "metadata": {},
   "outputs": [],
   "source": [
    "class shape(ABC):\n",
    "    \n",
    "    @abstractmethod\n",
    "    def area(self):\n",
    "        pass\n",
    "#obj=shape()   #error"
   ]
  },
  {
   "cell_type": "code",
   "execution_count": 9,
   "metadata": {},
   "outputs": [
    {
     "name": "stdout",
     "output_type": "stream",
     "text": [
      "pi*r*r\n"
     ]
    },
    {
     "ename": "TypeError",
     "evalue": "Can't instantiate abstract class rectangle with abstract method area",
     "output_type": "error",
     "traceback": [
      "\u001b[1;31m---------------------------------------------------------------------------\u001b[0m",
      "\u001b[1;31mTypeError\u001b[0m                                 Traceback (most recent call last)",
      "Cell \u001b[1;32mIn[9], line 11\u001b[0m\n\u001b[0;32m      9\u001b[0m c\u001b[39m=\u001b[39mcircle()\n\u001b[0;32m     10\u001b[0m c\u001b[39m.\u001b[39marea()\n\u001b[1;32m---> 11\u001b[0m r\u001b[39m=\u001b[39mrectangle()\n",
      "\u001b[1;31mTypeError\u001b[0m: Can't instantiate abstract class rectangle with abstract method area"
     ]
    }
   ],
   "source": [
    "class circle(shape):\n",
    "\n",
    "    def area(self):\n",
    "        print(\"pi*r*r\")\n",
    "\n",
    "class rectangle(shape):\n",
    "    pass\n",
    "\n",
    "c=circle()\n",
    "c.area()\n",
    "r=rectangle()"
   ]
  },
  {
   "cell_type": "code",
   "execution_count": 11,
   "metadata": {},
   "outputs": [
    {
     "name": "stdout",
     "output_type": "stream",
     "text": [
      "pi*r*r\n",
      "l*b\n"
     ]
    }
   ],
   "source": [
    "class circle(shape):\n",
    "\n",
    "    def area(self):\n",
    "        print(\"pi*r*r\")\n",
    "\n",
    "class rectangle(shape):\n",
    "    \n",
    "    def area(self):\n",
    "        print(\"l*b\")\n",
    "\n",
    "c=circle()\n",
    "c.area()\n",
    "r=rectangle()\n",
    "r.area()"
   ]
  },
  {
   "cell_type": "code",
   "execution_count": 12,
   "metadata": {},
   "outputs": [
    {
     "name": "stdout",
     "output_type": "stream",
     "text": [
      "train runs on track\n"
     ]
    },
    {
     "ename": "NameError",
     "evalue": "name 'vehicle' is not defined",
     "output_type": "error",
     "traceback": [
      "\u001b[1;31m---------------------------------------------------------------------------\u001b[0m",
      "\u001b[1;31mNameError\u001b[0m                                 Traceback (most recent call last)",
      "Cell \u001b[1;32mIn[12], line 15\u001b[0m\n\u001b[0;32m     12\u001b[0m obj\u001b[39m=\u001b[39mtrain()\n\u001b[0;32m     13\u001b[0m obj\u001b[39m.\u001b[39mrun()\n\u001b[1;32m---> 15\u001b[0m \u001b[39mclass\u001b[39;00m \u001b[39mcar\u001b[39;00m(vehicle):\n\u001b[0;32m     16\u001b[0m     \u001b[39mdef\u001b[39;00m \u001b[39mrun\u001b[39m(\u001b[39mself\u001b[39m):\n\u001b[0;32m     17\u001b[0m         \u001b[39mprint\u001b[39m(\u001b[39m\"\u001b[39m\u001b[39mcar runs on road\u001b[39m\u001b[39m\"\u001b[39m)\n",
      "\u001b[1;31mNameError\u001b[0m: name 'vehicle' is not defined"
     ]
    }
   ],
   "source": [
    "class vechicle(ABC):\n",
    "\n",
    "    @abstractmethod\n",
    "    def run(self):\n",
    "        pass\n",
    "\n",
    "class train(vechicle):\n",
    "\n",
    "    def run(self):\n",
    "        print(\"train runs on track\")\n",
    "\n",
    "obj=train()\n",
    "obj.run()\n",
    "\n",
    "class car(vehicle):\n",
    "    def run(self):\n",
    "        print(\"car runs on road\")\n",
    "\n",
    "obj=car()\n",
    "obj.run()  # output not same "
   ]
  },
  {
   "cell_type": "code",
   "execution_count": 14,
   "metadata": {},
   "outputs": [
    {
     "name": "stdout",
     "output_type": "stream",
     "text": [
      "this is m1\n",
      "this is m2\n"
     ]
    }
   ],
   "source": [
    "class test(ABC):\n",
    "\n",
    "    @abstractmethod\n",
    "    def m1(self):\n",
    "        pass\n",
    "    def m2(self):\n",
    "        print(\"this is m2\")\n",
    "\n",
    "class other(test):\n",
    "    def m1(self):\n",
    "        print(\"this is m1\")\n",
    "obj=other()\n",
    "obj.m1()\n",
    "obj.m2()"
   ]
  },
  {
   "cell_type": "code",
   "execution_count": 15,
   "metadata": {},
   "outputs": [
    {
     "name": "stdout",
     "output_type": "stream",
     "text": [
      "cons of abstract class\n"
     ]
    }
   ],
   "source": [
    "class test(ABC):\n",
    "\n",
    "    @abstractmethod\n",
    "    def m1(self):\n",
    "        pass\n",
    "\n",
    "    def __init__(self):\n",
    "        print(\"cons of abstract class\")\n",
    "\n",
    "class other(test):\n",
    "    def m1(self):\n",
    "        print(\"this is m1\")\n",
    "\n",
    "obj=other()"
   ]
  },
  {
   "cell_type": "markdown",
   "metadata": {},
   "source": [
    "## oops kyu padhaya gaya./kyu laya gaya.\n",
    "-> oops "
   ]
  },
  {
   "cell_type": "code",
   "execution_count": null,
   "metadata": {},
   "outputs": [],
   "source": []
  }
 ],
 "metadata": {
  "kernelspec": {
   "display_name": "Python 3",
   "language": "python",
   "name": "python3"
  },
  "language_info": {
   "codemirror_mode": {
    "name": "ipython",
    "version": 3
   },
   "file_extension": ".py",
   "mimetype": "text/x-python",
   "name": "python",
   "nbconvert_exporter": "python",
   "pygments_lexer": "ipython3",
   "version": "3.11.3"
  },
  "orig_nbformat": 4
 },
 "nbformat": 4,
 "nbformat_minor": 2
}
