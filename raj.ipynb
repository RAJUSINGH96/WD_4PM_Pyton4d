{
 "cells": [
  {
   "cell_type": "code",
   "execution_count": null,
   "metadata": {},
   "outputs": [],
   "source": []
  },
  {
   "cell_type": "code",
   "execution_count": 3,
   "metadata": {},
   "outputs": [
    {
     "name": "stdout",
     "output_type": "stream",
     "text": [
      "{'a': 'apple', 'b': 'bol', 'c': 'cat'}\n"
     ]
    }
   ],
   "source": [
    "d={}\n",
    "for i in range(3):\n",
    "    k=input(\"enter key:\")\n",
    "    v=input(\"enter value:\")\n",
    "    d[k]=v\n",
    "print(d)"
   ]
  },
  {
   "cell_type": "code",
   "execution_count": 6,
   "metadata": {},
   "outputs": [
    {
     "name": "stdout",
     "output_type": "stream",
     "text": [
      "{1: 'a', 2: 'b', 3: 'c', 4: 'd'}\n"
     ]
    }
   ],
   "source": [
    "d={}\n",
    "roll={1,2,3,4}\n",
    "name=['a','b','c','d']\n",
    "for i,j in zip(roll,name):\n",
    "    d[i]=j\n",
    "print(d)    "
   ]
  },
  {
   "cell_type": "code",
   "execution_count": 12,
   "metadata": {},
   "outputs": [
    {
     "name": "stdout",
     "output_type": "stream",
     "text": [
      "{'a': 'android', 'b': 'ball', 'i': 'iphone'}\n"
     ]
    }
   ],
   "source": [
    "d1={'a':'apple','b':'ball'}\n",
    "d2={'a':'android','i':'iphone'}\n",
    "# d2.update(d1)\n",
    "# print(d2)\n",
    "d3={}\n",
    "d3.update(d1)\n",
    "d3.update(d2)\n",
    "\n",
    "print(d3)"
   ]
  },
  {
   "cell_type": "code",
   "execution_count": 15,
   "metadata": {},
   "outputs": [
    {
     "name": "stdout",
     "output_type": "stream",
     "text": [
      "{1: 1, 2: 4, 3: 9, 4: 16}\n"
     ]
    }
   ],
   "source": [
    "# creating dict using expression and for in a single stmt.\n",
    "d={i:i*i for i in range(1,5)}\n",
    "print(d)"
   ]
  },
  {
   "cell_type": "code",
   "execution_count": 23,
   "metadata": {},
   "outputs": [
    {
     "name": "stdout",
     "output_type": "stream",
     "text": [
      "ball\n"
     ]
    }
   ],
   "source": [
    "d={'a':'apple','b':'ball','c':'cat'}\n",
    "v=\"ball\"\n",
    "for i in d:\n",
    "    if d[i]==v:\n",
    "        print(v)"
   ]
  },
  {
   "cell_type": "code",
   "execution_count": 1,
   "metadata": {},
   "outputs": [
    {
     "name": "stdout",
     "output_type": "stream",
     "text": [
      "(14, 40)\n"
     ]
    }
   ],
   "source": [
    "import pymysql\n",
    "conobj=pymysql.connect(user=\"root\",password=\"root\",database=\"1130to1\")\n",
    "curobj=conobj.cursor()\n",
    "curobj.callproc(\"p1_addmul\",(10,4,None,None))\n",
    "curobj.execute(\"select @_p1_addmul_2,@_p1_addmul_3\")\n",
    "print(curobj.fetchone())\n",
    "conobj.close()\n",
    "# print(\"db created\")"
   ]
  },
  {
   "cell_type": "code",
   "execution_count": 2,
   "metadata": {},
   "outputs": [
    {
     "name": "stdout",
     "output_type": "stream",
     "text": [
      "8\n",
      "5\n"
     ]
    }
   ],
   "source": [
    "x=5\n",
    "def add():\n",
    "    x=3\n",
    "    x=x+5\n",
    "    print(x)\n",
    "add()\n",
    "print(x)"
   ]
  },
  {
   "cell_type": "code",
   "execution_count": 10,
   "metadata": {},
   "outputs": [
    {
     "name": "stdout",
     "output_type": "stream",
     "text": [
      "    1 \n",
      "   1 2 \n",
      "  1 2 3 \n",
      " 1 2 3 4 \n",
      "1 2 3 4 5 \n"
     ]
    }
   ],
   "source": [
    "for i in range(1,6):\n",
    "    for k in range(5,i,-1):\n",
    "        print(\" \",end=\"\")\n",
    "    for j in range(i):\n",
    "        print(j+1,end=\" \")\n",
    "    print()"
   ]
  },
  {
   "cell_type": "code",
   "execution_count": 12,
   "metadata": {},
   "outputs": [
    {
     "name": "stdout",
     "output_type": "stream",
     "text": [
      "        1 \n",
      "      1 2 \n",
      "    1 2 3 \n",
      "  1 2 3 4 \n",
      "1 2 3 4 5 \n"
     ]
    }
   ],
   "source": [
    "for i in range(1,6):\n",
    "    for k in range(5,i,-1):\n",
    "        print(\" \",end=\" \")\n",
    "    for j in range(i):\n",
    "        print(j+1,end=\" \")\n",
    "    print()"
   ]
  },
  {
   "cell_type": "code",
   "execution_count": 2,
   "metadata": {},
   "outputs": [
    {
     "name": "stdout",
     "output_type": "stream",
     "text": [
      "dk\n",
      "sonu\n",
      "monu\n",
      "noida\n",
      "bihar\n"
     ]
    }
   ],
   "source": [
    "def players():\n",
    "    print(\"dk\")\n",
    "    print(\"sonu\")\n",
    "    print(\"monu\")\n",
    "def city():\n",
    "    print(\"noida\")\n",
    "    print(\"bihar\")\n",
    "players()\n",
    "city()"
   ]
  },
  {
   "cell_type": "code",
   "execution_count": 1,
   "metadata": {},
   "outputs": [
    {
     "name": "stdout",
     "output_type": "stream",
     "text": [
      "dk\n",
      "sonu\n",
      "monu\n",
      "noida\n",
      "bihar\n"
     ]
    }
   ],
   "source": [
    "def players():\n",
    "    print(\"dk\")\n",
    "    print(\"sonu\")\n",
    "    print(\"monu\")\n",
    "def city():\n",
    "    print(\"noida\")\n",
    "    print(\"bihar\")\n",
    "players()\n",
    "city()"
   ]
  },
  {
   "cell_type": "code",
   "execution_count": 3,
   "metadata": {},
   "outputs": [
    {
     "name": "stdout",
     "output_type": "stream",
     "text": [
      "16\n"
     ]
    }
   ],
   "source": [
    "def mul():\n",
    "    a=int(input(\"enter 1st no\"))\n",
    "    b=int(input(\"enter 2nd no\"))\n",
    "    print(a*b)\n",
    "mul()"
   ]
  },
  {
   "cell_type": "code",
   "execution_count": 4,
   "metadata": {},
   "outputs": [
    {
     "name": "stdout",
     "output_type": "stream",
     "text": [
      "168\n",
      "59\n"
     ]
    }
   ],
   "source": [
    "a=int(input(\"enter 1st no\"))\n",
    "b=int(input(\"enter 2nd no\"))\n",
    "def mul():\n",
    "    print(a*b)\n",
    "def add():\n",
    "    print(a+b)\n",
    "mul()\n",
    "add()"
   ]
  },
  {
   "cell_type": "code",
   "execution_count": 5,
   "metadata": {},
   "outputs": [
    {
     "name": "stdout",
     "output_type": "stream",
     "text": [
      "12\n"
     ]
    }
   ],
   "source": [
    "def mul():\n",
    "    a=3\n",
    "    b=4\n",
    "    print(a*b)\n",
    "mul()"
   ]
  }
 ],
 "metadata": {
  "kernelspec": {
   "display_name": "Python 3",
   "language": "python",
   "name": "python3"
  },
  "language_info": {
   "codemirror_mode": {
    "name": "ipython",
    "version": 3
   },
   "file_extension": ".py",
   "mimetype": "text/x-python",
   "name": "python",
   "nbconvert_exporter": "python",
   "pygments_lexer": "ipython3",
   "version": "3.11.3"
  },
  "orig_nbformat": 4
 },
 "nbformat": 4,
 "nbformat_minor": 2
}
