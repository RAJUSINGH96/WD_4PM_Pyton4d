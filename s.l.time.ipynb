{
 "cells": [
  {
   "cell_type": "code",
   "execution_count": 1,
   "metadata": {},
   "outputs": [
    {
     "name": "stdout",
     "output_type": "stream",
     "text": [
      "hi\n",
      "bye\n"
     ]
    }
   ],
   "source": [
    "import time\n",
    "print('hi')\n",
    "time.sleep(2)\n",
    "print('bye')"
   ]
  },
  {
   "cell_type": "code",
   "execution_count": 2,
   "metadata": {},
   "outputs": [
    {
     "name": "stdout",
     "output_type": "stream",
     "text": [
      "5\n",
      "10\n",
      "15\n",
      "20\n",
      "25\n",
      "30\n",
      "35\n",
      "40\n",
      "45\n",
      "50\n"
     ]
    }
   ],
   "source": [
    "for i in range(1,11):\n",
    "    print(5*i)\n",
    "    time.sleep(1)"
   ]
  },
  {
   "cell_type": "code",
   "execution_count": 3,
   "metadata": {},
   "outputs": [
    {
     "name": "stdout",
     "output_type": "stream",
     "text": [
      "Sat Jul 22 18:08:31 2023\n"
     ]
    }
   ],
   "source": [
    "print(time.ctime())"
   ]
  },
  {
   "cell_type": "code",
   "execution_count": 4,
   "metadata": {},
   "outputs": [
    {
     "name": "stdout",
     "output_type": "stream",
     "text": [
      "     July 2023\n",
      "Mo Tu We Th Fr Sa Su\n",
      "                1  2\n",
      " 3  4  5  6  7  8  9\n",
      "10 11 12 13 14 15 16\n",
      "17 18 19 20 21 22 23\n",
      "24 25 26 27 28 29 30\n",
      "31\n",
      "\n"
     ]
    }
   ],
   "source": [
    "import calendar\n",
    "print(calendar.month(2023,7))"
   ]
  },
  {
   "cell_type": "code",
   "execution_count": 5,
   "metadata": {},
   "outputs": [
    {
     "name": "stdout",
     "output_type": "stream",
     "text": [
      "     July 2022\n",
      "Mo Tu We Th Fr Sa Su\n",
      "             1  2  3\n",
      " 4  5  6  7  8  9 10\n",
      "11 12 13 14 15 16 17\n",
      "18 19 20 21 22 23 24\n",
      "25 26 27 28 29 30 31\n",
      "\n"
     ]
    }
   ],
   "source": [
    "print(calendar.month(2022,7))"
   ]
  },
  {
   "cell_type": "code",
   "execution_count": 6,
   "metadata": {},
   "outputs": [
    {
     "name": "stdout",
     "output_type": "stream",
     "text": [
      "     July 2050\n",
      "Mo Tu We Th Fr Sa Su\n",
      "             1  2  3\n",
      " 4  5  6  7  8  9 10\n",
      "11 12 13 14 15 16 17\n",
      "18 19 20 21 22 23 24\n",
      "25 26 27 28 29 30 31\n",
      "\n"
     ]
    }
   ],
   "source": [
    "print(calendar.month(2050,7))"
   ]
  },
  {
   "cell_type": "code",
   "execution_count": 7,
   "metadata": {},
   "outputs": [
    {
     "name": "stdout",
     "output_type": "stream",
     "text": [
      "     July 2024\n",
      "Mo Tu We Th Fr Sa Su\n",
      " 1  2  3  4  5  6  7\n",
      " 8  9 10 11 12 13 14\n",
      "15 16 17 18 19 20 21\n",
      "22 23 24 25 26 27 28\n",
      "29 30 31\n",
      "\n"
     ]
    }
   ],
   "source": [
    "print(calendar.month(2024,7))"
   ]
  },
  {
   "cell_type": "code",
   "execution_count": 10,
   "metadata": {},
   "outputs": [
    {
     "name": "stdout",
     "output_type": "stream",
     "text": [
      "                                  2023\n",
      "\n",
      "      January                   February                   March\n",
      "Mo Tu We Th Fr Sa Su      Mo Tu We Th Fr Sa Su      Mo Tu We Th Fr Sa Su\n",
      "                   1             1  2  3  4  5             1  2  3  4  5\n",
      " 2  3  4  5  6  7  8       6  7  8  9 10 11 12       6  7  8  9 10 11 12\n",
      " 9 10 11 12 13 14 15      13 14 15 16 17 18 19      13 14 15 16 17 18 19\n",
      "16 17 18 19 20 21 22      20 21 22 23 24 25 26      20 21 22 23 24 25 26\n",
      "23 24 25 26 27 28 29      27 28                     27 28 29 30 31\n",
      "30 31\n",
      "\n",
      "       April                      May                       June\n",
      "Mo Tu We Th Fr Sa Su      Mo Tu We Th Fr Sa Su      Mo Tu We Th Fr Sa Su\n",
      "                1  2       1  2  3  4  5  6  7                1  2  3  4\n",
      " 3  4  5  6  7  8  9       8  9 10 11 12 13 14       5  6  7  8  9 10 11\n",
      "10 11 12 13 14 15 16      15 16 17 18 19 20 21      12 13 14 15 16 17 18\n",
      "17 18 19 20 21 22 23      22 23 24 25 26 27 28      19 20 21 22 23 24 25\n",
      "24 25 26 27 28 29 30      29 30 31                  26 27 28 29 30\n",
      "\n",
      "        July                     August                  September\n",
      "Mo Tu We Th Fr Sa Su      Mo Tu We Th Fr Sa Su      Mo Tu We Th Fr Sa Su\n",
      "                1  2          1  2  3  4  5  6                   1  2  3\n",
      " 3  4  5  6  7  8  9       7  8  9 10 11 12 13       4  5  6  7  8  9 10\n",
      "10 11 12 13 14 15 16      14 15 16 17 18 19 20      11 12 13 14 15 16 17\n",
      "17 18 19 20 21 22 23      21 22 23 24 25 26 27      18 19 20 21 22 23 24\n",
      "24 25 26 27 28 29 30      28 29 30 31               25 26 27 28 29 30\n",
      "31\n",
      "\n",
      "      October                   November                  December\n",
      "Mo Tu We Th Fr Sa Su      Mo Tu We Th Fr Sa Su      Mo Tu We Th Fr Sa Su\n",
      "                   1             1  2  3  4  5                   1  2  3\n",
      " 2  3  4  5  6  7  8       6  7  8  9 10 11 12       4  5  6  7  8  9 10\n",
      " 9 10 11 12 13 14 15      13 14 15 16 17 18 19      11 12 13 14 15 16 17\n",
      "16 17 18 19 20 21 22      20 21 22 23 24 25 26      18 19 20 21 22 23 24\n",
      "23 24 25 26 27 28 29      27 28 29 30               25 26 27 28 29 30 31\n",
      "30 31\n",
      "\n"
     ]
    }
   ],
   "source": [
    "print(calendar.calendar(2023))"
   ]
  },
  {
   "cell_type": "code",
   "execution_count": 13,
   "metadata": {},
   "outputs": [
    {
     "name": "stdout",
     "output_type": "stream",
     "text": [
      "False\n",
      "False\n",
      "True\n"
     ]
    }
   ],
   "source": [
    "print(calendar.isleap(2023))\n",
    "print(calendar.isleap(2022))\n",
    "print(calendar.isleap(2024))"
   ]
  },
  {
   "cell_type": "code",
   "execution_count": 15,
   "metadata": {},
   "outputs": [
    {
     "name": "stdout",
     "output_type": "stream",
     "text": [
      "Help on _localized_day in module calendar object:\n",
      "\n",
      "class _localized_day(builtins.object)\n",
      " |  _localized_day(format)\n",
      " |  \n",
      " |  Methods defined here:\n",
      " |  \n",
      " |  __getitem__(self, i)\n",
      " |  \n",
      " |  __init__(self, format)\n",
      " |      Initialize self.  See help(type(self)) for accurate signature.\n",
      " |  \n",
      " |  __len__(self)\n",
      " |  \n",
      " |  ----------------------------------------------------------------------\n",
      " |  Data descriptors defined here:\n",
      " |  \n",
      " |  __dict__\n",
      " |      dictionary for instance variables (if defined)\n",
      " |  \n",
      " |  __weakref__\n",
      " |      list of weak references to the object (if defined)\n",
      "\n"
     ]
    }
   ],
   "source": [
    "help(calendar.day_name)\n",
    "# calendar.day_name(24,8,2023)"
   ]
  },
  {
   "cell_type": "code",
   "execution_count": 4,
   "metadata": {},
   "outputs": [
    {
     "name": "stdout",
     "output_type": "stream",
     "text": [
      "    August 1947\n",
      "Mo Tu We Th Fr Sa Su\n",
      "             1  2  3\n",
      " 4  5  6  7  8  9 10\n",
      "11 12 13 14 15 16 17\n",
      "18 19 20 21 22 23 24\n",
      "25 26 27 28 29 30 31\n",
      "\n"
     ]
    }
   ],
   "source": [
    "import calendar\n",
    "print(calendar.month(1947,8))"
   ]
  },
  {
   "cell_type": "code",
   "execution_count": 5,
   "metadata": {},
   "outputs": [
    {
     "name": "stdout",
     "output_type": "stream",
     "text": [
      "28\n"
     ]
    }
   ],
   "source": [
    "import sys\n",
    "x=10\n",
    "print(sys.getsizeof(x))"
   ]
  },
  {
   "cell_type": "code",
   "execution_count": 6,
   "metadata": {},
   "outputs": [
    {
     "name": "stdout",
     "output_type": "stream",
     "text": [
      "36\n"
     ]
    }
   ],
   "source": [
    "x=29730129342547583628\n",
    "print(sys.getsizeof(x))"
   ]
  },
  {
   "cell_type": "code",
   "execution_count": 7,
   "metadata": {},
   "outputs": [
    {
     "name": "stdout",
     "output_type": "stream",
     "text": [
      "9223372036854775807\n"
     ]
    }
   ],
   "source": [
    "print(sys.maxsize)"
   ]
  },
  {
   "cell_type": "code",
   "execution_count": 45,
   "metadata": {},
   "outputs": [
    {
     "name": "stdout",
     "output_type": "stream",
     "text": [
      "5\n"
     ]
    }
   ],
   "source": [
    "import sys\n",
    "sys.path.append(r\"C:\\Users\\Raju\\Desktop\\new\\WD_4PM_python\\mypack\\ap1\")\n",
    "import ap1\n",
    "print(ap1.add(2,3))"
   ]
  },
  {
   "cell_type": "code",
   "execution_count": 13,
   "metadata": {},
   "outputs": [
    {
     "name": "stdout",
     "output_type": "stream",
     "text": [
      "Help on built-in function append:\n",
      "\n",
      "append(object, /) method of builtins.list instance\n",
      "    Append object to the end of the list.\n",
      "\n"
     ]
    }
   ],
   "source": [
    "help(sys.path.append)"
   ]
  },
  {
   "cell_type": "code",
   "execution_count": 33,
   "metadata": {},
   "outputs": [
    {
     "name": "stdout",
     "output_type": "stream",
     "text": [
      "2.0\n"
     ]
    }
   ],
   "source": [
    "import math\n",
    "print(math.log10(100))"
   ]
  },
  {
   "cell_type": "code",
   "execution_count": 34,
   "metadata": {},
   "outputs": [
    {
     "name": "stdout",
     "output_type": "stream",
     "text": [
      "15.0\n",
      "16.0\n",
      "1859.2345199032854\n"
     ]
    }
   ],
   "source": [
    "print(math.sqrt(225))\n",
    "print(math.sqrt(256))\n",
    "print(math.sqrt(3456753))"
   ]
  },
  {
   "cell_type": "code",
   "execution_count": 35,
   "metadata": {},
   "outputs": [
    {
     "name": "stdout",
     "output_type": "stream",
     "text": [
      "9.0\n",
      "5.0\n",
      "4.0\n"
     ]
    }
   ],
   "source": [
    "print(math.cbrt(729))\n",
    "print(math.cbrt(125))\n",
    "print(math.cbrt(64))"
   ]
  },
  {
   "cell_type": "code",
   "execution_count": 36,
   "metadata": {},
   "outputs": [
    {
     "name": "stdout",
     "output_type": "stream",
     "text": [
      "3\n",
      "2\n",
      "2\n",
      "2\n",
      "2\n",
      "2\n",
      "2\n",
      "3\n"
     ]
    }
   ],
   "source": [
    "print(math.ceil(2.6))\n",
    "print(math.floor(2.9))\n",
    "print(math.trunc(2.5))\n",
    "print(math.trunc(2.4))\n",
    "print(math.trunc(2.6))\n",
    "print(round(2.4))\n",
    "print(round(2.5))\n",
    "print(round(2.6))"
   ]
  },
  {
   "cell_type": "code",
   "execution_count": 38,
   "metadata": {},
   "outputs": [
    {
     "name": "stdout",
     "output_type": "stream",
     "text": [
      "-1\n",
      "2\n",
      "2.326\n"
     ]
    }
   ],
   "source": [
    "print(math.trunc(-1.5))\n",
    "print(round(2.3456789))\n",
    "print(round(2.3255674356979,3))"
   ]
  },
  {
   "cell_type": "code",
   "execution_count": 39,
   "metadata": {},
   "outputs": [
    {
     "name": "stdout",
     "output_type": "stream",
     "text": [
      "inf\n",
      "3.141592653589793\n",
      "120\n"
     ]
    }
   ],
   "source": [
    "print(math.inf)\n",
    "print(math.pi)\n",
    "print(math.factorial(5))"
   ]
  },
  {
   "cell_type": "code",
   "execution_count": 40,
   "metadata": {},
   "outputs": [
    {
     "name": "stdout",
     "output_type": "stream",
     "text": [
      "(1, 2)\n",
      "(1, 3)\n",
      "(2, 1)\n",
      "(2, 3)\n",
      "(3, 1)\n",
      "(3, 2)\n"
     ]
    }
   ],
   "source": [
    "import itertools\n",
    "x=[1,2,3]\n",
    "p=itertools.permutations(x,r=2)\n",
    "for i in p:\n",
    "    print(i)"
   ]
  },
  {
   "cell_type": "code",
   "execution_count": 52,
   "metadata": {},
   "outputs": [
    {
     "name": "stdout",
     "output_type": "stream",
     "text": [
      "(1, 2, 3)\n",
      "(1, 3, 2)\n",
      "(2, 1, 3)\n",
      "(2, 3, 1)\n",
      "(3, 1, 2)\n",
      "(3, 2, 1)\n"
     ]
    }
   ],
   "source": [
    "import itertools\n",
    "x=[1,2,3]\n",
    "p=itertools.permutations(x,r=3)\n",
    "for i in p:\n",
    "    print(i)"
   ]
  },
  {
   "cell_type": "code",
   "execution_count": 42,
   "metadata": {},
   "outputs": [
    {
     "name": "stdout",
     "output_type": "stream",
     "text": [
      "(1, 2)\n",
      "(1, 3)\n",
      "(2, 3)\n"
     ]
    }
   ],
   "source": [
    "x=[1,2,3]\n",
    "c=itertools.combinations(x,r=2)\n",
    "for i in c:\n",
    "    print(i)"
   ]
  },
  {
   "cell_type": "code",
   "execution_count": 43,
   "metadata": {},
   "outputs": [
    {
     "name": "stdout",
     "output_type": "stream",
     "text": [
      "(1, 1)\n",
      "(1, 2)\n",
      "(1, 3)\n",
      "(2, 1)\n",
      "(2, 2)\n",
      "(2, 3)\n",
      "(3, 1)\n",
      "(3, 2)\n",
      "(3, 3)\n"
     ]
    }
   ],
   "source": [
    "x=[1,2,3]\n",
    "pr=itertools.product(x,repeat=2)\n",
    "for i in pr:\n",
    "    print(i)"
   ]
  },
  {
   "cell_type": "code",
   "execution_count": 5,
   "metadata": {},
   "outputs": [
    {
     "name": "stdout",
     "output_type": "stream",
     "text": [
      "(1, 1)\n",
      "(1, 2)\n",
      "(1, 3)\n",
      "(1, 4)\n",
      "(2, 1)\n",
      "(2, 2)\n",
      "(2, 3)\n",
      "(2, 4)\n",
      "(3, 1)\n",
      "(3, 2)\n",
      "(3, 3)\n",
      "(3, 4)\n",
      "(4, 1)\n",
      "(4, 2)\n",
      "(4, 3)\n",
      "(4, 4)\n"
     ]
    }
   ],
   "source": [
    "import itertools\n",
    "x=[1,2,3,4]\n",
    "pr=itertools.product(x,repeat=2)\n",
    "for i in pr:\n",
    "    print(i)"
   ]
  },
  {
   "cell_type": "code",
   "execution_count": 1,
   "metadata": {},
   "outputs": [
    {
     "name": "stdout",
     "output_type": "stream",
     "text": [
      "c:\\Users\\Raju\\Desktop\\new\\WD_4PM_python\\WD_4PM_Pyton4d\n"
     ]
    }
   ],
   "source": [
    "import os\n",
    "print(os.getcwd())"
   ]
  },
  {
   "cell_type": "code",
   "execution_count": 2,
   "metadata": {},
   "outputs": [
    {
     "name": "stdout",
     "output_type": "stream",
     "text": [
      "['.git', '1.py', '3.ipynb', 'adict.ipynb', 'afunction.ipynb', 'alist.ipynb', 'anew.ipynb', 'ap1.py', 'assignments.ipynb', 'astring.ipynb', 'boolean.ipynb', 'casting.ipynb', 'comment.ipynb', 'complex.ipynb', 'conditional.ipynb', 'dictionary.ipynb', 'dict_assignments.ipynb', 'first.ipynb', 'float.ipynb', 'for_loop.ipynb', 'frozenset.ipynb', 'function_assignment.ipynb', 'input().ipynb', 'integer.ipynb', 'list.ipynb', 'list_assignments.ipynb', 'operator.ipynb', 'pattern.ipynb', 'pattern1.ipynb', 'practice(1).ipynb', 'practice.ipynb', 'README.md', 's.l.time.ipynb', 'set.ipynb', 'set1.ipynb', 'set_assignments.ipynb', 'standard library.ipynb', 'string.ipynb', 'string1.ipynb', 'string_assignments.ipynb', 'tuple.ipynb', 'unpacking.ipynb', 'variable.ipynb', 'while_loop.ipynb']\n"
     ]
    }
   ],
   "source": [
    "print(os.listdir())"
   ]
  },
  {
   "cell_type": "code",
   "execution_count": 3,
   "metadata": {},
   "outputs": [
    {
     "name": "stdout",
     "output_type": "stream",
     "text": [
      ".git\n",
      "1.py\n",
      "3.ipynb\n",
      "adict.ipynb\n",
      "afunction.ipynb\n",
      "alist.ipynb\n",
      "anew.ipynb\n",
      "ap1.py\n",
      "assignments.ipynb\n",
      "astring.ipynb\n",
      "boolean.ipynb\n",
      "casting.ipynb\n",
      "comment.ipynb\n",
      "complex.ipynb\n",
      "conditional.ipynb\n",
      "dictionary.ipynb\n",
      "dict_assignments.ipynb\n",
      "first.ipynb\n",
      "float.ipynb\n",
      "for_loop.ipynb\n",
      "frozenset.ipynb\n",
      "function_assignment.ipynb\n",
      "input().ipynb\n",
      "integer.ipynb\n",
      "list.ipynb\n",
      "list_assignments.ipynb\n",
      "operator.ipynb\n",
      "pattern.ipynb\n",
      "pattern1.ipynb\n",
      "practice(1).ipynb\n",
      "practice.ipynb\n",
      "README.md\n",
      "s.l.time.ipynb\n",
      "set.ipynb\n",
      "set1.ipynb\n",
      "set_assignments.ipynb\n",
      "standard library.ipynb\n",
      "string.ipynb\n",
      "string1.ipynb\n",
      "string_assignments.ipynb\n",
      "tuple.ipynb\n",
      "unpacking.ipynb\n",
      "variable.ipynb\n",
      "while_loop.ipynb\n"
     ]
    }
   ],
   "source": [
    "list_names=os.listdir()\n",
    "for name in list_names:\n",
    "    print(name)"
   ]
  },
  {
   "cell_type": "code",
   "execution_count": 23,
   "metadata": {},
   "outputs": [
    {
     "name": "stdout",
     "output_type": "stream",
     "text": [
      "True\n"
     ]
    }
   ],
   "source": [
    "import os\n",
    "list_names=os.path.exists(r\"C:\\Users\\Raju\\Downloads\\Ncrt.zip\")\n",
    "print(list_names)"
   ]
  },
  {
   "cell_type": "code",
   "execution_count": 53,
   "metadata": {},
   "outputs": [
    {
     "name": "stdout",
     "output_type": "stream",
     "text": [
      "Help on built-in function listdir in module nt:\n",
      "\n",
      "listdir(path=None)\n",
      "    Return a list containing the names of the files in the directory.\n",
      "    \n",
      "    path can be specified as either str, bytes, or a path-like object.  If path is bytes,\n",
      "      the filenames returned will also be bytes; in all other circumstances\n",
      "      the filenames returned will be str.\n",
      "    If path is None, uses the path='.'.\n",
      "    On some platforms, path may also be specified as an open file descriptor;\\\n",
      "      the file descriptor must refer to a directory.\n",
      "      If this functionality is unavailable, using it raises NotImplementedError.\n",
      "    \n",
      "    The list is in arbitrary order.  It does not include the special\n",
      "    entries '.' and '..' even if they are present in the directory.\n",
      "\n"
     ]
    }
   ],
   "source": [
    "help(os.listdir)"
   ]
  },
  {
   "cell_type": "code",
   "execution_count": 2,
   "metadata": {},
   "outputs": [
    {
     "name": "stdout",
     "output_type": "stream",
     "text": [
      "['3.loop_assignment.docx', '4.string_assignment.docx', '5.list_assignment.docx', '8.function_assignment.docx', 'adict.mp4', 'aif.mp4', 'assignment solution.mp4', 'B9ECED6F.ASUSPCAssistant_qmba6cd70vzyy!App', 'boolean.mp4', 'casting part1.mp4', 'casting part2.mp4', 'complex number.mp4', 'Coursera certificate.pdf', 'desktop.ini', 'dictionary part1.mp4', 'dictionary part2.mp4', 'download.png', 'for loop..mp4', 'for loop.mp4', 'for loop1.mp4', 'frozenset part1.mp4', 'frozenset part2.mp4', 'Git-2.40.1-64-bit.exe', 'GMT20230616-103016_Recording_1152x864 (1).mp4', 'GMT20230616-103016_Recording_1152x864.mp4', 'if else.mp4', 'if else1.mp4', 'if else2.mp4', 'integer and float part1.mp4', 'integer and float part2.mp4', 'k pattern..mp4', 'k pattern.mp4', 'list part 3.mp4', 'list part 4.mp4', 'list part1.mp4', 'list part2.mp4', 'Ncrt.zip', 'pattern.mp4', 'pattern1.ipynb', 'python-3.11.3-amd64 (1).exe', 'python-3.11.3-amd64.exe', 'RAJU RESUME.png', 'RAJU+KUMAR (1).docx', 'RAJU+KUMAR.docx', 'README.md', 'Resume+.pdf', 'set 1.mp4', 'set2.mp4', 'string part1.mp4', 'string part2.mp4', 'string part3.mp4', 'string part4.mp4', 'tuple part1.mp4', 'tuple part2.mp4', 'Unconfirmed 998738.crdownload', 'video1097450626.mp4', 'video1136633115.mp4', 'video1194749781.mp4', 'video1370838246.mp4', 'video1392697976.mp4', 'video1405070259.mp4', 'video1410221450.mp4', 'video1410536469.mp4', 'video1417723003.mp4', 'video1422607997.mp4', 'video1439603937.mp4', 'video1444434807.mp4', 'video1498972821.mp4', 'video1617823411.mp4', 'video1746498717.mp4', 'video1824185247.mp4', 'video1932453530.mp4', 'video1946100343.mp4', 'video1956561323.mp4', 'video1983322406.mp4', 'VSCodeUserSetup-x64-1.77.3.exe', 'what is data science certificate.pdf', 'while loop..mp4', 'while loop.mp4', 'while loop1.mp4', 'Zoom_cm_ds_mmfFU1DWdebkmg0-8WKyJxPuw-vcL7N0syGHN@Wfq22X+H+BUXHrzw_k37e9585d6c53f2b9_.exe']\n"
     ]
    }
   ],
   "source": [
    "import os\n",
    "list_names=os.listdir(r\"C:\\Users\\Raju\\Downloads\")\n",
    "print(list_names)"
   ]
  },
  {
   "cell_type": "code",
   "execution_count": 13,
   "metadata": {},
   "outputs": [
    {
     "name": "stdout",
     "output_type": "stream",
     "text": [
      "['jemh101.pdf', 'jemh102.pdf', 'jemh103.pdf', 'jemh104.pdf', 'jemh105.pdf', 'jemh106.pdf', 'jemh107.pdf', 'jemh108.pdf', 'jemh109.pdf', 'jemh110.pdf', 'jemh111.pdf', 'jemh112.pdf', 'jemh113.pdf', 'jemh114.pdf', 'jemh1a1.pdf', 'jemh1a2.pdf', 'jemh1an.pdf', 'jemh1ps.pdf']\n"
     ]
    }
   ],
   "source": [
    "list_names=os.listdir(r\"C:\\Users\\Raju\\Documents\\ncrt\")\n",
    "print(list_names)"
   ]
  },
  {
   "cell_type": "code",
   "execution_count": 16,
   "metadata": {},
   "outputs": [
    {
     "name": "stdout",
     "output_type": "stream",
     "text": [
      "jemh101.pdf\n",
      "jemh102.pdf\n",
      "jemh103.pdf\n",
      "jemh104.pdf\n",
      "jemh105.pdf\n",
      "jemh106.pdf\n",
      "jemh107.pdf\n",
      "jemh108.pdf\n",
      "jemh109.pdf\n",
      "jemh110.pdf\n",
      "jemh111.pdf\n",
      "jemh112.pdf\n",
      "jemh113.pdf\n",
      "jemh114.pdf\n",
      "jemh1a1.pdf\n",
      "jemh1a2.pdf\n",
      "jemh1an.pdf\n",
      "jemh1ps.pdf\n"
     ]
    }
   ],
   "source": [
    "list_names=os.listdir(r\"C:\\Users\\Raju\\Documents\\ncrt\")\n",
    "for i in list_names:\n",
    "    print(i)"
   ]
  },
  {
   "cell_type": "code",
   "execution_count": 14,
   "metadata": {},
   "outputs": [
    {
     "name": "stdout",
     "output_type": "stream",
     "text": [
      "None\n"
     ]
    }
   ],
   "source": [
    "list_names=os.rename(r\"C:\\Users\\Raju\\Documents\\ncrt\",r\"C:\\Users\\Raju\\Documents\\Ncrt\")\n",
    "\n",
    "print(list_names)"
   ]
  },
  {
   "cell_type": "code",
   "execution_count": 2,
   "metadata": {},
   "outputs": [
    {
     "name": "stdout",
     "output_type": "stream",
     "text": [
      "done\n"
     ]
    }
   ],
   "source": [
    "import os\n",
    "names=os.listdir(\"C:\\\\Users\\\\Raju\\\\Documents\\\\Ncrt\")\n",
    "i=1\n",
    "for name in names:\n",
    "    os.rename(f\"C:\\\\Users\\\\Raju\\\\Documents\\\\Ncrt\\\\{name}\",f\"C:\\\\Users\\\\Raju\\\\Documents\\\\Ncrt\\\\chp_{i}.pdf\")\n",
    "    i+=1\n",
    "print(\"done\")"
   ]
  },
  {
   "cell_type": "code",
   "execution_count": 11,
   "metadata": {},
   "outputs": [
    {
     "ename": "SyntaxError",
     "evalue": "(unicode error) 'unicodeescape' codec can't decode bytes in position 2-3: truncated \\UXXXXXXXX escape (2226300433.py, line 1)",
     "output_type": "error",
     "traceback": [
      "\u001b[1;36m  Cell \u001b[1;32mIn[11], line 1\u001b[1;36m\u001b[0m\n\u001b[1;33m    names=os.listdir(\"C:\\Users\\Raju\\Downloads\\Ncrt\")\u001b[0m\n\u001b[1;37m                                                   ^\u001b[0m\n\u001b[1;31mSyntaxError\u001b[0m\u001b[1;31m:\u001b[0m (unicode error) 'unicodeescape' codec can't decode bytes in position 2-3: truncated \\UXXXXXXXX escape\n"
     ]
    }
   ],
   "source": [
    "names=os.listdir(\"C:\\Users\\Raju\\Downloads\\Ncrt\")\n",
    "i=1\n",
    "for name in names:\n",
    "    os.rename(f\"C:\\Users\\Raju\\Downloads\\Ncrt\\{name}\",f\"C:\\Users\\Raju\\Downloads\\Ncrt\\chp_{i}.pdf\")\n",
    "    i+=1\n",
    "print(\"done\")"
   ]
  },
  {
   "cell_type": "code",
   "execution_count": 2,
   "metadata": {},
   "outputs": [
    {
     "name": "stdout",
     "output_type": "stream",
     "text": [
      "file deleted\n"
     ]
    }
   ],
   "source": [
    "import os\n",
    "os.remove(r\"C:\\Users\\Raju\\Documents\\r1.docx\")\n",
    "print(\"file deleted\")"
   ]
  },
  {
   "cell_type": "code",
   "execution_count": 28,
   "metadata": {},
   "outputs": [],
   "source": [
    "os.mkdir(\"shutil\")"
   ]
  },
  {
   "cell_type": "code",
   "execution_count": 30,
   "metadata": {},
   "outputs": [],
   "source": [
    "os.mkdir(r\"C:\\Users\\Raju\\Documents\\India\")"
   ]
  },
  {
   "cell_type": "code",
   "execution_count": 32,
   "metadata": {},
   "outputs": [
    {
     "name": "stdout",
     "output_type": "stream",
     "text": [
      "done\n"
     ]
    }
   ],
   "source": [
    "os.makedirs(r\"C:\\Users\\Raju\\Documents\\India\\Bihar\\sitamarhi\\Runnisaidpur\\Morsand\")\n",
    "print(\"done\")"
   ]
  },
  {
   "cell_type": "code",
   "execution_count": 33,
   "metadata": {},
   "outputs": [
    {
     "name": "stdout",
     "output_type": "stream",
     "text": [
      "None\n"
     ]
    }
   ],
   "source": [
    "print(os.mkdir(r\"C:\\Users\\Raju\\Documents\\new\"))"
   ]
  },
  {
   "cell_type": "code",
   "execution_count": 34,
   "metadata": {},
   "outputs": [
    {
     "name": "stdout",
     "output_type": "stream",
     "text": [
      "done\n"
     ]
    }
   ],
   "source": [
    "os.rmdir(r\"C:\\Users\\Raju\\Documents\\new\")\n",
    "print(\"done\")"
   ]
  },
  {
   "cell_type": "code",
   "execution_count": 36,
   "metadata": {},
   "outputs": [],
   "source": [
    "import shutil\n",
    "shutil.rmtree(r\"C:\\Users\\Raju\\Documents\\India\")"
   ]
  },
  {
   "cell_type": "code",
   "execution_count": 6,
   "metadata": {},
   "outputs": [
    {
     "data": {
      "text/plain": [
       "'C:\\\\Users\\\\Raju\\\\Documents\\\\img\\\\imgg.jpg'"
      ]
     },
     "execution_count": 6,
     "metadata": {},
     "output_type": "execute_result"
    }
   ],
   "source": [
    "import shutil\n",
    "shutil.move(r\"C:\\Users\\Raju\\Documents\\imgg.jpg\",r\"C:\\Users\\Raju\\Documents\\img\")"
   ]
  },
  {
   "cell_type": "code",
   "execution_count": 8,
   "metadata": {},
   "outputs": [
    {
     "data": {
      "text/plain": [
       "'C:\\\\Users\\\\Raju\\\\Documents\\\\img\\\\imgg1.jpg'"
      ]
     },
     "execution_count": 8,
     "metadata": {},
     "output_type": "execute_result"
    }
   ],
   "source": [
    "shutil.move(r\"C:\\Users\\Raju\\Documents\\imgg1.jpg\",r\"C:\\Users\\Raju\\Documents\\img\")"
   ]
  },
  {
   "cell_type": "code",
   "execution_count": 9,
   "metadata": {},
   "outputs": [
    {
     "data": {
      "text/plain": [
       "'C:\\\\Users\\\\Raju\\\\Documents\\\\img\\\\imgg2.jpg'"
      ]
     },
     "execution_count": 9,
     "metadata": {},
     "output_type": "execute_result"
    }
   ],
   "source": [
    "shutil.move(r\"C:\\Users\\Raju\\Documents\\imgg2.jpg\",r\"C:\\Users\\Raju\\Documents\\img\")"
   ]
  },
  {
   "cell_type": "code",
   "execution_count": 10,
   "metadata": {},
   "outputs": [
    {
     "data": {
      "text/plain": [
       "'C:\\\\Users\\\\Raju\\\\Documents\\\\img\\\\imgg3.jpg'"
      ]
     },
     "execution_count": 10,
     "metadata": {},
     "output_type": "execute_result"
    }
   ],
   "source": [
    "shutil.move(r\"C:\\Users\\Raju\\Documents\\imgg3.jpg\",r\"C:\\Users\\Raju\\Documents\\img\")"
   ]
  },
  {
   "cell_type": "code",
   "execution_count": 42,
   "metadata": {},
   "outputs": [
    {
     "name": "stdout",
     "output_type": "stream",
     "text": [
      "usage(total=510549889024, used=73614766080, free=436935122944)\n"
     ]
    }
   ],
   "source": [
    "x=shutil.disk_usage(\"c:/\")\n",
    "print(x)"
   ]
  },
  {
   "cell_type": "code",
   "execution_count": 43,
   "metadata": {},
   "outputs": [
    {
     "name": "stdout",
     "output_type": "stream",
     "text": [
      "510549889024\n",
      "73614766080\n",
      "436935122944\n"
     ]
    }
   ],
   "source": [
    "print(x[0])\n",
    "print(x[1])\n",
    "print(x[2])"
   ]
  },
  {
   "cell_type": "code",
   "execution_count": 48,
   "metadata": {},
   "outputs": [
    {
     "name": "stdout",
     "output_type": "stream",
     "text": [
      "498583876.0\n"
     ]
    }
   ],
   "source": [
    "print(x[0]/1024)"
   ]
  },
  {
   "cell_type": "code",
   "execution_count": 50,
   "metadata": {},
   "outputs": [
    {
     "name": "stdout",
     "output_type": "stream",
     "text": [
      "486898.31640625\n"
     ]
    }
   ],
   "source": [
    "print(x[0]/(1024*1024))"
   ]
  },
  {
   "cell_type": "code",
   "execution_count": 51,
   "metadata": {},
   "outputs": [
    {
     "name": "stdout",
     "output_type": "stream",
     "text": [
      "475.4866371154785\n"
     ]
    }
   ],
   "source": [
    "print(x[0]/(1024*1024*1024))"
   ]
  },
  {
   "cell_type": "code",
   "execution_count": 21,
   "metadata": {},
   "outputs": [
    {
     "name": "stdout",
     "output_type": "stream",
     "text": [
      "builtins\n",
      "builtins\n",
      "builtins\n",
      "builtins\n"
     ]
    }
   ],
   "source": [
    "print(len.__module__)\n",
    "print(min.__module__)\n",
    "print(max.__module__)\n",
    "print(sorted.__module__)"
   ]
  },
  {
   "cell_type": "code",
   "execution_count": 3,
   "metadata": {},
   "outputs": [
    {
     "name": "stdout",
     "output_type": "stream",
     "text": [
      "Python is a high-level, general-purpose programming language. Its design philosophy emphasizes code readability with the use of significant indentation via the off-side rule.Python is dynamically typed and garbage-collected.\n"
     ]
    }
   ],
   "source": [
    "import wikipedia\n",
    "print(wikipedia.summary(\"python language\",sentences=2))"
   ]
  },
  {
   "cell_type": "code",
   "execution_count": 5,
   "metadata": {},
   "outputs": [
    {
     "name": "stdout",
     "output_type": "stream",
     "text": [
      "done\n"
     ]
    }
   ],
   "source": [
    "import qrcode\n",
    "img=qrcode.make(\"7256802445\")\n",
    "img.save(r\"C:\\Users\\Raju\\Documents\\Aditya_phone_no.png\")\n",
    "print(\"done\")"
   ]
  },
  {
   "cell_type": "code",
   "execution_count": 1,
   "metadata": {},
   "outputs": [
    {
     "name": "stdout",
     "output_type": "stream",
     "text": [
      "done\n"
     ]
    }
   ],
   "source": [
    "import qrcode\n",
    "img=qrcode.make(\"Hey pratsing0 This is your contact number 9369273221\")\n",
    "img.save(r\"C:\\Users\\Raju\\Documents\\Pratima_phone_no.png\")\n",
    "print(\"done\")"
   ]
  },
  {
   "cell_type": "code",
   "execution_count": 1,
   "metadata": {},
   "outputs": [
    {
     "name": "stdout",
     "output_type": "stream",
     "text": [
      "mail sent\n"
     ]
    }
   ],
   "source": [
    "import gmail\n",
    "con=gmail.GMail(\"itsrajukumar89036@gmail.com\",\"zpqxgwfjcvlqlhvx\")\n",
    "msg=gmail.Message(to=r\"khushi025ku@gmail.com\",subject=r\"testing\",text=r\"hello\\n,this is from Raju\",attachments=[r'C:\\Users\\Raju\\Downloads\\j45.JPG'])\n",
    "con.send(msg)\n",
    "print(\"mail sent\")"
   ]
  },
  {
   "cell_type": "code",
   "execution_count": 8,
   "metadata": {},
   "outputs": [
    {
     "name": "stdout",
     "output_type": "stream",
     "text": [
      "[<Stream: itag=\"17\" mime_type=\"video/3gpp\" res=\"144p\" fps=\"8fps\" vcodec=\"mp4v.20.3\" acodec=\"mp4a.40.2\" progressive=\"True\" type=\"video\">, <Stream: itag=\"18\" mime_type=\"video/mp4\" res=\"360p\" fps=\"30fps\" vcodec=\"avc1.42001E\" acodec=\"mp4a.40.2\" progressive=\"True\" type=\"video\">, <Stream: itag=\"22\" mime_type=\"video/mp4\" res=\"720p\" fps=\"30fps\" vcodec=\"avc1.64001F\" acodec=\"mp4a.40.2\" progressive=\"True\" type=\"video\">, <Stream: itag=\"137\" mime_type=\"video/mp4\" res=\"1080p\" fps=\"30fps\" vcodec=\"avc1.640028\" progressive=\"False\" type=\"video\">, <Stream: itag=\"248\" mime_type=\"video/webm\" res=\"1080p\" fps=\"30fps\" vcodec=\"vp9\" progressive=\"False\" type=\"video\">, <Stream: itag=\"136\" mime_type=\"video/mp4\" res=\"720p\" fps=\"30fps\" vcodec=\"avc1.4d401f\" progressive=\"False\" type=\"video\">, <Stream: itag=\"247\" mime_type=\"video/webm\" res=\"720p\" fps=\"30fps\" vcodec=\"vp9\" progressive=\"False\" type=\"video\">, <Stream: itag=\"135\" mime_type=\"video/mp4\" res=\"480p\" fps=\"30fps\" vcodec=\"avc1.4d401f\" progressive=\"False\" type=\"video\">, <Stream: itag=\"244\" mime_type=\"video/webm\" res=\"480p\" fps=\"30fps\" vcodec=\"vp9\" progressive=\"False\" type=\"video\">, <Stream: itag=\"134\" mime_type=\"video/mp4\" res=\"360p\" fps=\"30fps\" vcodec=\"avc1.4d401e\" progressive=\"False\" type=\"video\">, <Stream: itag=\"243\" mime_type=\"video/webm\" res=\"360p\" fps=\"30fps\" vcodec=\"vp9\" progressive=\"False\" type=\"video\">, <Stream: itag=\"133\" mime_type=\"video/mp4\" res=\"240p\" fps=\"30fps\" vcodec=\"avc1.4d4015\" progressive=\"False\" type=\"video\">, <Stream: itag=\"242\" mime_type=\"video/webm\" res=\"240p\" fps=\"30fps\" vcodec=\"vp9\" progressive=\"False\" type=\"video\">, <Stream: itag=\"160\" mime_type=\"video/mp4\" res=\"144p\" fps=\"30fps\" vcodec=\"avc1.4d400c\" progressive=\"False\" type=\"video\">, <Stream: itag=\"278\" mime_type=\"video/webm\" res=\"144p\" fps=\"30fps\" vcodec=\"vp9\" progressive=\"False\" type=\"video\">, <Stream: itag=\"139\" mime_type=\"audio/mp4\" abr=\"48kbps\" acodec=\"mp4a.40.5\" progressive=\"False\" type=\"audio\">, <Stream: itag=\"140\" mime_type=\"audio/mp4\" abr=\"128kbps\" acodec=\"mp4a.40.2\" progressive=\"False\" type=\"audio\">, <Stream: itag=\"249\" mime_type=\"audio/webm\" abr=\"50kbps\" acodec=\"opus\" progressive=\"False\" type=\"audio\">, <Stream: itag=\"250\" mime_type=\"audio/webm\" abr=\"70kbps\" acodec=\"opus\" progressive=\"False\" type=\"audio\">, <Stream: itag=\"251\" mime_type=\"audio/webm\" abr=\"160kbps\" acodec=\"opus\" progressive=\"False\" type=\"audio\">]\n"
     ]
    }
   ],
   "source": [
    "import pytube\n",
    "con=pytube.YouTube(\"https://youtube.com/shorts/ZKVZ8vwLUiQ?feature=share\")\n",
    "stms=con.streams\n",
    "print(stms)"
   ]
  },
  {
   "cell_type": "code",
   "execution_count": 2,
   "metadata": {},
   "outputs": [
    {
     "name": "stdout",
     "output_type": "stream",
     "text": [
      "done\n"
     ]
    }
   ],
   "source": [
    "import pytube\n",
    "con=pytube.YouTube(r\"https://youtube.com/shorts/ZKVZ8vwLUiQ?feature=share\")\n",
    "stms=con.streams\n",
    "stms[1].download(r\"C:\\Users\\Raju\\Documents\")\n",
    "print(\"done\")"
   ]
  },
  {
   "cell_type": "code",
   "execution_count": 3,
   "metadata": {},
   "outputs": [
    {
     "name": "stdout",
     "output_type": "stream",
     "text": [
      "done\n"
     ]
    }
   ],
   "source": [
    "import pytube\n",
    "con=pytube.YouTube(r\"https://youtube.com/shorts/HptQmqS34-A?feature=share\")\n",
    "stms=con.streams\n",
    "stms[1].download(r\"C:\\Users\\Raju\\Documents\")\n",
    "print(\"done\")"
   ]
  },
  {
   "cell_type": "code",
   "execution_count": null,
   "metadata": {},
   "outputs": [],
   "source": []
  }
 ],
 "metadata": {
  "kernelspec": {
   "display_name": "Python 3 (ipykernel)",
   "language": "python",
   "name": "python3"
  },
  "language_info": {
   "codemirror_mode": {
    "name": "ipython",
    "version": 3
   },
   "file_extension": ".py",
   "mimetype": "text/x-python",
   "name": "python",
   "nbconvert_exporter": "python",
   "pygments_lexer": "ipython3",
   "version": "3.11.3"
  }
 },
 "nbformat": 4,
 "nbformat_minor": 4
}
