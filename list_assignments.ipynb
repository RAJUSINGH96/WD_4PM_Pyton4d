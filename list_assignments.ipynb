{
 "cells": [
  {
   "cell_type": "code",
   "execution_count": 1,
   "metadata": {},
   "outputs": [
    {
     "name": "stdout",
     "output_type": "stream",
     "text": [
      "1489\n"
     ]
    }
   ],
   "source": [
    "# 1. Write a Python program to sum all the items in a list. \n",
    "u=[200,155,234,400,500]\n",
    "print(sum(u))"
   ]
  },
  {
   "cell_type": "code",
   "execution_count": 1,
   "metadata": {},
   "outputs": [
    {
     "name": "stdout",
     "output_type": "stream",
     "text": [
      "1489\n"
     ]
    }
   ],
   "source": [
    "# 1. Write a Python program to sum all the items in a list. \n",
    "u=[200,155,234,400,500]\n",
    "s=0\n",
    "for i in u:\n",
    "    s+=i     #s=s+i\n",
    "print(s)"
   ]
  },
  {
   "cell_type": "code",
   "execution_count": 2,
   "metadata": {},
   "outputs": [
    {
     "name": "stdout",
     "output_type": "stream",
     "text": [
      "500\n"
     ]
    }
   ],
   "source": [
    "# 2. Write a Python program to get the largest number from a list.\n",
    "u=[200,155,234,400,500]\n",
    "print(max(u))"
   ]
  },
  {
   "cell_type": "code",
   "execution_count": 5,
   "metadata": {},
   "outputs": [
    {
     "name": "stdout",
     "output_type": "stream",
     "text": [
      "500\n"
     ]
    }
   ],
   "source": [
    "#  2. Write a Python program to get the largest number from a list.\n",
    "u=[200,155,234,400,500]\n",
    "sorted(u)\n",
    "print(u[-1])"
   ]
  },
  {
   "cell_type": "code",
   "execution_count": 6,
   "metadata": {},
   "outputs": [
    {
     "name": "stdout",
     "output_type": "stream",
     "text": [
      "500\n"
     ]
    }
   ],
   "source": [
    "#  2. Write a Python program to get the largest number from a list.\n",
    "u=[200,155,234,400,500]\n",
    "m=u[0]\n",
    "for i in u:     # for i in x[1:]:\n",
    "    if(i>m):\n",
    "        m=i\n",
    "print(m)"
   ]
  },
  {
   "cell_type": "code",
   "execution_count": 3,
   "metadata": {},
   "outputs": [
    {
     "name": "stdout",
     "output_type": "stream",
     "text": [
      "2\n"
     ]
    }
   ],
   "source": [
    "# 3.Write a Python program to count the number of strings where the string length is 2 or more and the first\n",
    "#  and last character are same from a given list of strings.\n",
    "q=[\"hi\",2,3,4,5,6,7,\"hi\"]\n",
    "print(q.count('hi'))"
   ]
  },
  {
   "cell_type": "code",
   "execution_count": 7,
   "metadata": {},
   "outputs": [
    {
     "name": "stdout",
     "output_type": "stream",
     "text": [
      "3\n"
     ]
    }
   ],
   "source": [
    "# 3.Write a Python program to count the number of strings where the string length is 2 or more and the first\n",
    "#  and last character are same from a given list of strings.\n",
    "# Sample List : ['abc', 'xyz', 'aba', '1221','aa','5']\n",
    "# Expected Result : 3\n",
    "x=['abc', 'xyz', 'aba', '1221','aa','5']\n",
    "count=0\n",
    "for i in x:\n",
    "    if (len(i)>=2 and i[0]==i[-1]):\n",
    "        count+=1\n",
    "print(count)"
   ]
  },
  {
   "cell_type": "code",
   "execution_count": 5,
   "metadata": {},
   "outputs": [
    {
     "name": "stdout",
     "output_type": "stream",
     "text": [
      "[10, 30, 25, 69, 78]\n"
     ]
    }
   ],
   "source": [
    "# 4. Write a Python program to remove duplicates from a list.\n",
    "d=[10,50,30,25,69,50,78,50]\n",
    "while (50 in d):\n",
    "    d.remove(50)\n",
    "print(d)"
   ]
  },
  {
   "cell_type": "code",
   "execution_count": 8,
   "metadata": {},
   "outputs": [
    {
     "name": "stdout",
     "output_type": "stream",
     "text": [
      "[10, 50, 30, 25, 69, 50, 78, 50]\n",
      "[10, 50, 30, 25, 69, 78]\n"
     ]
    }
   ],
   "source": [
    "# 4. Write a Python program to remove duplicates from a list.\n",
    "d=[10,50,30,25,69,50,78,50]\n",
    "print(d)\n",
    "y=[]\n",
    "for i in d:\n",
    "    if(i not in y):\n",
    "        y.append(i)\n",
    "print(y)"
   ]
  },
  {
   "cell_type": "code",
   "execution_count": 6,
   "metadata": {},
   "outputs": [
    {
     "name": "stdout",
     "output_type": "stream",
     "text": [
      "[]\n"
     ]
    }
   ],
   "source": [
    "# 5. Write a Python program to check a list is empty or not.\n",
    "a=list()\n",
    "print(a)"
   ]
  },
  {
   "cell_type": "code",
   "execution_count": 7,
   "metadata": {},
   "outputs": [
    {
     "name": "stdout",
     "output_type": "stream",
     "text": [
      "[]\n"
     ]
    }
   ],
   "source": [
    "x=[]\n",
    "for i in range(1):\n",
    "    print(x)"
   ]
  },
  {
   "cell_type": "code",
   "execution_count": 9,
   "metadata": {},
   "outputs": [
    {
     "name": "stdout",
     "output_type": "stream",
     "text": [
      "[10, 50, 30, 25, 69, 50, 78, 50]\n",
      "not empty\n"
     ]
    }
   ],
   "source": [
    "# 5. Write a Python program to check a list is empty or not.\n",
    "d=[10,50,30,25,69,50,78,50]\n",
    "print(d)\n",
    "if(len(d)==0):\n",
    "    print(\"empty\")\n",
    "else:\n",
    "    print(\"not empty\")"
   ]
  },
  {
   "cell_type": "code",
   "execution_count": 8,
   "metadata": {},
   "outputs": [
    {
     "name": "stdout",
     "output_type": "stream",
     "text": [
      "[50, 80, 90]\n"
     ]
    }
   ],
   "source": [
    "# 6. Write a Python program to print a specified list after removing the 0th, 4th and 5th elements.\n",
    "m=[20,50,80,90,60,55]\n",
    "for i in range(3):\n",
    "    m.remove(int(input(\"enter value:\")))\n",
    "print(m)"
   ]
  },
  {
   "cell_type": "code",
   "execution_count": 15,
   "metadata": {},
   "outputs": [
    {
     "name": "stdout",
     "output_type": "stream",
     "text": [
      "[1] [3] [5] [7] [9] "
     ]
    }
   ],
   "source": [
    "# 7. Write a Python program to print the numbers of a specified list after removing even numbers from it. \n",
    "h=[1,2,3,4,5,6,7,8,9]\n",
    "for i in h:\n",
    "    if i%2!=0:\n",
    "        print([i],end=\" \")"
   ]
  },
  {
   "cell_type": "code",
   "execution_count": 11,
   "metadata": {},
   "outputs": [
    {
     "name": "stdout",
     "output_type": "stream",
     "text": [
      "[1, 2, 3, 4, 5, 6, 7, 8, 9]\n",
      "[1, 3, 5, 7, 9]\n"
     ]
    }
   ],
   "source": [
    "# 7. Write a Python program to print the numbers of a specified list after removing even numbers from it. \n",
    "h=[1,2,3,4,5,6,7,8,9]\n",
    "y=[]\n",
    "for i in h:\n",
    "    if i%2!=0:\n",
    "        y.append(i)\n",
    "print(h)\n",
    "print(y)"
   ]
  },
  {
   "cell_type": "code",
   "execution_count": 12,
   "metadata": {},
   "outputs": [
    {
     "name": "stdout",
     "output_type": "stream",
     "text": [
      "india\n"
     ]
    }
   ],
   "source": [
    "# 8.  write a python program to convert a list of characters into a string. \n",
    "x=['i','n','d','i','a']\n",
    "s=''\n",
    "for i in x:\n",
    "    s+=i\n",
    "print(s)"
   ]
  },
  {
   "cell_type": "code",
   "execution_count": 2,
   "metadata": {},
   "outputs": [
    {
     "name": "stdout",
     "output_type": "stream",
     "text": [
      "india\n"
     ]
    }
   ],
   "source": [
    "x=['i','n','d','i','a']\n",
    "s=''\n",
    "s2=s.join(x)\n",
    "print(s2)"
   ]
  },
  {
   "cell_type": "code",
   "execution_count": 20,
   "metadata": {},
   "outputs": [
    {
     "name": "stdout",
     "output_type": "stream",
     "text": [
      "765\n"
     ]
    }
   ],
   "source": [
    "# 9. Write a Python program to find the second largest number in a list. \n",
    "x=[300,500,345,543,234,956,564,765,654]\n",
    "x.remove(max(x))\n",
    "print(max(x))"
   ]
  },
  {
   "cell_type": "code",
   "execution_count": 14,
   "metadata": {},
   "outputs": [
    {
     "name": "stdout",
     "output_type": "stream",
     "text": [
      "765\n"
     ]
    }
   ],
   "source": [
    "# 9. Write a Python program to find the second largest number in a list. \n",
    "x=[300,500,345,543,234,956,564,765,654]\n",
    "y=sorted(x)\n",
    "print(y[-2])"
   ]
  },
  {
   "cell_type": "code",
   "execution_count": 2,
   "metadata": {},
   "outputs": [
    {
     "name": "stdout",
     "output_type": "stream",
     "text": [
      "765\n"
     ]
    }
   ],
   "source": [
    "# 9. Write a Python program to find the second largest number in a list. \n",
    "x=[300,500,345,543,234,956,564,765,654]\n",
    "y=sorted(x)\n",
    "i=y.index(max(y))\n",
    "print(x[i-1])"
   ]
  },
  {
   "cell_type": "code",
   "execution_count": 19,
   "metadata": {},
   "outputs": [
    {
     "name": "stdout",
     "output_type": "stream",
     "text": [
      "8\n"
     ]
    }
   ],
   "source": [
    "# 10. Write a Python program to get unique values from a list.\n",
    "x=[4,5,6,6,7,7,8,6]\n",
    "print(x[6])"
   ]
  },
  {
   "cell_type": "code",
   "execution_count": 3,
   "metadata": {},
   "outputs": [
    {
     "name": "stdout",
     "output_type": "stream",
     "text": [
      "[4, 5, 6, 6, 7, 7, 8, 6]\n",
      "[4, 5, 6, 7, 8]\n"
     ]
    }
   ],
   "source": [
    "# 10. Write a Python program to get unique values from a list.\n",
    "x=[4,5,6,6,7,7,8,6]\n",
    "y=[]\n",
    "for i in x:\n",
    "    if(i not in y):\n",
    "        y.append(i)\n",
    "print(x)\n",
    "print(y)"
   ]
  },
  {
   "cell_type": "code",
   "execution_count": null,
   "metadata": {},
   "outputs": [],
   "source": []
  }
 ],
 "metadata": {
  "kernelspec": {
   "display_name": "Python 3",
   "language": "python",
   "name": "python3"
  },
  "language_info": {
   "codemirror_mode": {
    "name": "ipython",
    "version": 3
   },
   "file_extension": ".py",
   "mimetype": "text/x-python",
   "name": "python",
   "nbconvert_exporter": "python",
   "pygments_lexer": "ipython3",
   "version": "3.11.3"
  },
  "orig_nbformat": 4
 },
 "nbformat": 4,
 "nbformat_minor": 2
}
