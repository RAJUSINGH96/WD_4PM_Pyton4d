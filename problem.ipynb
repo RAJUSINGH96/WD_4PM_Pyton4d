{
 "cells": [
  {
   "cell_type": "code",
   "execution_count": 20,
   "metadata": {},
   "outputs": [
    {
     "name": "stdout",
     "output_type": "stream",
     "text": [
      "PythoN\n"
     ]
    }
   ],
   "source": [
    "s=\"python\"\n",
    "# print(s(s[0].upper()+s[1:-1]+s[-1].upper()))\n",
    "s[0].upper()+s[1:-1]+s[-1].upper()\n",
    "print(s[0].upper()+s[1:-1]+s[-1].upper())"
   ]
  },
  {
   "cell_type": "markdown",
   "metadata": {},
   "source": [
    "write a Python program to swap first and last element of the list.\n",
    "Input : [12, 35, 9, 56, 24]\n",
    "Output : [24, 35, 9, 56, 12]"
   ]
  },
  {
   "cell_type": "code",
   "execution_count": 31,
   "metadata": {},
   "outputs": [
    {
     "name": "stdout",
     "output_type": "stream",
     "text": [
      "[24, 35, 9, 56, 12]\n"
     ]
    }
   ],
   "source": [
    "\n",
    "def swapList(newList):\n",
    "\t\n",
    "\tnewList[0], newList[-1] = newList[-1], newList[0]\n",
    "\n",
    "\treturn newList\n",
    "newList = [12, 35, 9, 56, 24]\n",
    "print(swapList(newList))\n"
   ]
  },
  {
   "cell_type": "code",
   "execution_count": 32,
   "metadata": {},
   "outputs": [
    {
     "name": "stdout",
     "output_type": "stream",
     "text": [
      "24 [35, 9, 56] 12\n"
     ]
    }
   ],
   "source": [
    "x=[12, 35, 9, 56, 24]\n",
    "print(x[-1],x[1:4],x[0])"
   ]
  },
  {
   "cell_type": "code",
   "execution_count": 35,
   "metadata": {},
   "outputs": [
    {
     "name": "stdout",
     "output_type": "stream",
     "text": [
      "[12, 56, 24, 9, 35]\n"
     ]
    }
   ],
   "source": [
    "import random\n",
    "x=[12, 35, 9, 56, 24]\n",
    "random.shuffle(x)\n",
    "print(x)"
   ]
  },
  {
   "cell_type": "code",
   "execution_count": 37,
   "metadata": {},
   "outputs": [
    {
     "name": "stdout",
     "output_type": "stream",
     "text": [
      "5\n"
     ]
    }
   ],
   "source": [
    "# How To Find the Length of a List in Python.\n",
    "x=[12, 35, 9, 56, 24]\n",
    "y=0\n",
    "for i in x:\n",
    "    y+=1\n",
    "print(y)"
   ]
  },
  {
   "cell_type": "code",
   "execution_count": 9,
   "metadata": {},
   "outputs": [
    {
     "name": "stdout",
     "output_type": "stream",
     "text": [
      "doesn't exist\n"
     ]
    }
   ],
   "source": [
    "# Check if element exists in list in Python.\n",
    "x=[12, 35, 9, 56, 24]\n",
    "y=int(input(\"enter num:\"))\n",
    "# print(y)\n",
    "if y in x:\n",
    "    print(\"already exist\")\n",
    "else:\n",
    "    print(\"doesn't exist\")"
   ]
  },
  {
   "cell_type": "code",
   "execution_count": 11,
   "metadata": {},
   "outputs": [
    {
     "name": "stdout",
     "output_type": "stream",
     "text": [
      "[]\n"
     ]
    }
   ],
   "source": [
    "# Different ways to clear a list in Python.\n",
    "x=[12, 35, 9, 56, 24]\n",
    "x.clear()\n",
    "print(x)"
   ]
  },
  {
   "cell_type": "code",
   "execution_count": 13,
   "metadata": {},
   "outputs": [
    {
     "data": {
      "text/plain": [
       "[24, 56, 9, 35, 12]"
      ]
     },
     "execution_count": 13,
     "metadata": {},
     "output_type": "execute_result"
    }
   ],
   "source": [
    "# Reversing a List in Python\n",
    "x=[12, 35, 9, 56, 24]\n",
    "x[-1::-1]"
   ]
  },
  {
   "cell_type": "code",
   "execution_count": 20,
   "metadata": {},
   "outputs": [
    {
     "name": "stdout",
     "output_type": "stream",
     "text": [
      "palindrome\n"
     ]
    }
   ],
   "source": [
    "# Python Program to Check if a String is Palindrome or Not.\n",
    "x=\"malayalam\"\n",
    "y=x[::-1]\n",
    "if x==y:\n",
    "    print(\"palindrome\")\n",
    "else:\n",
    "    print(\"not palindrome\")"
   ]
  },
  {
   "cell_type": "code",
   "execution_count": 21,
   "metadata": {},
   "outputs": [
    {
     "name": "stdout",
     "output_type": "stream",
     "text": [
      "enter string is symmetrical or palindrome\n"
     ]
    }
   ],
   "source": [
    "# Input:amaama\n",
    "# Output:\n",
    "# The entered string is symmetrical\n",
    "# The entered string is palindrome\n",
    "x=input(\"enter name:\")\n",
    "y=x[-1::-1]\n",
    "if x==y:\n",
    "    print(\"enter string is symmetrical or palindrome\")\n",
    "else:\n",
    "    print(\"enter string is not palindrome or symmetrical\")"
   ]
  },
  {
   "cell_type": "code",
   "execution_count": 22,
   "metadata": {},
   "outputs": [
    {
     "name": "stdout",
     "output_type": "stream",
     "text": [
      "enter string is not palindrome or symmetrical\n"
     ]
    }
   ],
   "source": [
    "x=input(\"enter name:\")\n",
    "y=x[-1::-1]\n",
    "if x==y:\n",
    "    print(\"enter string is symmetrical or palindrome\")\n",
    "else:\n",
    "    print(\"enter string is not palindrome or symmetrical\")"
   ]
  },
  {
   "cell_type": "code",
   "execution_count": 3,
   "metadata": {},
   "outputs": [
    {
     "name": "stdout",
     "output_type": "stream",
     "text": [
      "10000\n",
      "coding\n",
      "Raju\n",
      "10000\n"
     ]
    }
   ],
   "source": [
    "# with encapsulation.\n",
    "class emp:\n",
    "    def __init__(self):\n",
    "        self.__sal=10000   #private data\n",
    "        self.__name=\"Raju\"\n",
    "        self.__dept=\"coding\"\n",
    "\n",
    "    def getsal(self):\n",
    "        return self.__sal\n",
    "    def getname(self):\n",
    "        return self.__name\n",
    "    def getdept(self):\n",
    "        return self.__dept\n",
    "    \n",
    "    def setsal(self,sal):\n",
    "        if(self.__sal>sal):\n",
    "            pass\n",
    "        else:\n",
    "            self.__sal=sal\n",
    "\n",
    "e=emp()\n",
    "# print(e.__sal)  error\n",
    "print(e.getsal())\n",
    "print(e.getdept())\n",
    "print(e.getname())\n",
    "e.setsal(1200)\n",
    "print(e.getsal())"
   ]
  },
  {
   "cell_type": "code",
   "execution_count": 4,
   "metadata": {},
   "outputs": [
    {
     "name": "stdout",
     "output_type": "stream",
     "text": [
      "10\n",
      "20\n"
     ]
    }
   ],
   "source": [
    "class test:\n",
    "    __x=10   #private\n",
    "\n",
    "    @classmethod\n",
    "    def getx(cls):\n",
    "        return cls.__x\n",
    "    \n",
    "    @classmethod\n",
    "    def setx(cls,x):\n",
    "        cls.__x=x\n",
    "    \n",
    "#print(test.__x)  error\n",
    "t=test()\n",
    "print(t.getx())\n",
    "t.setx(20)\n",
    "print(t.getx())"
   ]
  },
  {
   "cell_type": "code",
   "execution_count": 16,
   "metadata": {},
   "outputs": [
    {
     "name": "stdout",
     "output_type": "stream",
     "text": [
      "healthy\n"
     ]
    }
   ],
   "source": [
    "w=float(input(\"enter weight:\"))\n",
    "h=float(input(\"enter height:\"))\n",
    "Bmi=w/(h/100)**2\n",
    "if Bmi<18:\n",
    "    print(\"underheight\")\n",
    "elif Bmi>=18 and Bmi<=25:\n",
    "    print(\"healthy\")\n",
    "elif Bmi>25 and Bmi<=30:\n",
    "    print(\"overweight\")\n",
    "elif Bmi>30:\n",
    "    print(\"obersity\")\n",
    "else:\n",
    "    print(\"bye\")"
   ]
  },
  {
   "cell_type": "code",
   "execution_count": null,
   "metadata": {},
   "outputs": [],
   "source": []
  }
 ],
 "metadata": {
  "kernelspec": {
   "display_name": "Python 3",
   "language": "python",
   "name": "python3"
  },
  "language_info": {
   "codemirror_mode": {
    "name": "ipython",
    "version": 3
   },
   "file_extension": ".py",
   "mimetype": "text/x-python",
   "name": "python",
   "nbconvert_exporter": "python",
   "pygments_lexer": "ipython3",
   "version": "3.11.3"
  },
  "orig_nbformat": 4
 },
 "nbformat": 4,
 "nbformat_minor": 2
}
