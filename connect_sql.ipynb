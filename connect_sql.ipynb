{
 "cells": [
  {
   "cell_type": "code",
   "execution_count": 3,
   "metadata": {},
   "outputs": [
    {
     "name": "stdout",
     "output_type": "stream",
     "text": [
      "16 row updated\n",
      "6 row deleted\n",
      "1 row inserted\n"
     ]
    }
   ],
   "source": [
    "import pymysql\n",
    "conobj=pymysql.connect(host='localhost',user='root',passwd='root',database='1130to1',port=3306)\n",
    "curobj=conobj.cursor()\n",
    "count_up=curobj.execute('update emp set empsal=empsal+1000')\n",
    "count_del=curobj.execute('delete from emp where dept=\"hr\"')\n",
    "count_in=curobj.execute(\"insert into emp values(100,'rohit',50000,'batsman')\")\n",
    "conobj.commit()\n",
    "print(f\"{count_up} row updated\")\n",
    "print(f\"{count_del} row deleted\")\n",
    "print(f\"{count_in} row inserted\")\n",
    "conobj.close()"
   ]
  },
  {
   "cell_type": "code",
   "execution_count": 1,
   "metadata": {},
   "outputs": [
    {
     "name": "stdout",
     "output_type": "stream",
     "text": [
      "11\n"
     ]
    }
   ],
   "source": [
    "import pymysql \n",
    "conobj=pymysql.connect(user=\"root\",password=\"root\",database=\"1130to1\")\n",
    "curobj=conobj.cursor()\n",
    "count=curobj.execute(\"select * from emp\")\n",
    "print(count)\n",
    "conobj.close()"
   ]
  },
  {
   "cell_type": "code",
   "execution_count": 2,
   "metadata": {},
   "outputs": [
    {
     "name": "stdout",
     "output_type": "stream",
     "text": [
      "11\n",
      "(100, 'rohit', 55005.5, 'batsman')\n"
     ]
    }
   ],
   "source": [
    "import pymysql \n",
    "conobj=pymysql.connect(user=\"root\",password=\"root\",database=\"1130to1\")\n",
    "curobj=conobj.cursor()\n",
    "count=curobj.execute(\"select * from emp\")\n",
    "print(count)\n",
    "row=curobj.fetchone()\n",
    "print(row)\n",
    "conobj.close()"
   ]
  },
  {
   "cell_type": "code",
   "execution_count": 3,
   "metadata": {},
   "outputs": [
    {
     "name": "stdout",
     "output_type": "stream",
     "text": [
      "11\n",
      "('batsman', 55005.5)\n"
     ]
    }
   ],
   "source": [
    "import pymysql \n",
    "conobj=pymysql.connect(user=\"root\",password=\"root\",database=\"1130to1\")\n",
    "curobj=conobj.cursor()\n",
    "count=curobj.execute(\"select dept,empsal from emp\")\n",
    "print(count)\n",
    "row=curobj.fetchone()\n",
    "print(row)\n",
    "conobj.close()"
   ]
  },
  {
   "cell_type": "code",
   "execution_count": 4,
   "metadata": {},
   "outputs": [
    {
     "name": "stdout",
     "output_type": "stream",
     "text": [
      "11\n",
      "(100, 'rohit', 55005.5, 'batsman')\n",
      "(102, 'monu', 34505.1, 'operator')\n"
     ]
    }
   ],
   "source": [
    "import pymysql \n",
    "conobj=pymysql.connect(user=\"root\",password=\"root\",database=\"1130to1\")\n",
    "curobj=conobj.cursor()\n",
    "count=curobj.execute(\"select * from emp\")\n",
    "print(count)\n",
    "row=curobj.fetchone()\n",
    "print(row)\n",
    "row=curobj.fetchone()\n",
    "print(row)\n",
    "conobj.close()"
   ]
  },
  {
   "cell_type": "code",
   "execution_count": 5,
   "metadata": {},
   "outputs": [
    {
     "name": "stdout",
     "output_type": "stream",
     "text": [
      "11\n",
      "(100, 'rohit', 55005.5, 'batsman')\n",
      "(102, 'monu', 34505.1, 'operator')\n",
      "(211, 'virat kohli', 67780.1, 'account')\n"
     ]
    }
   ],
   "source": [
    "import pymysql \n",
    "conobj=pymysql.connect(user=\"root\",password=\"root\",database=\"1130to1\")\n",
    "curobj=conobj.cursor()\n",
    "count=curobj.execute(\"select * from emp\")\n",
    "print(count)\n",
    "row=curobj.fetchone()\n",
    "print(row)\n",
    "row=curobj.fetchone()\n",
    "print(row) \n",
    "curobj.scroll(5,mode=\"absolute\")\n",
    "row=curobj.fetchone() \n",
    "print(row)\n",
    "conobj.close()"
   ]
  },
  {
   "cell_type": "code",
   "execution_count": 6,
   "metadata": {},
   "outputs": [
    {
     "name": "stdout",
     "output_type": "stream",
     "text": [
      "11\n",
      "(100, 'rohit', 55005.5, 'batsman')\n",
      "(102, 'monu', 34505.1, 'operator')\n",
      "(211, 'virat kohli', 67780.1, 'account')\n",
      "(228, 'rahul', 35836.1, 'coding')\n"
     ]
    }
   ],
   "source": [
    "import pymysql \n",
    "conobj=pymysql.connect(user=\"root\",password=\"root\",database=\"1130to1\")\n",
    "curobj=conobj.cursor()\n",
    "count=curobj.execute(\"select * from emp\")\n",
    "print(count)\n",
    "row=curobj.fetchone()\n",
    "print(row)\n",
    "row=curobj.fetchone()\n",
    "print(row) \n",
    "curobj.scroll(5,mode=\"absolute\")\n",
    "row=curobj.fetchone() \n",
    "print(row)\n",
    "curobj.scroll(2,mode=\"relative\")\n",
    "row=curobj.fetchone()\n",
    "print(row)\n",
    "conobj.close()"
   ]
  },
  {
   "cell_type": "code",
   "execution_count": 7,
   "metadata": {},
   "outputs": [
    {
     "name": "stdout",
     "output_type": "stream",
     "text": [
      "11\n",
      "(100, 'rohit', 55005.5, 'batsman')\n",
      "(102, 'monu', 34505.1, 'operator')\n",
      "(211, 'virat kohli', 67780.1, 'account')\n",
      "((100, 'rohit', 55005.5, 'batsman'), (102, 'monu', 34505.1, 'operator'), (103, 'ishan', 25188.1, 'coding'))\n"
     ]
    }
   ],
   "source": [
    "import pymysql \n",
    "conobj=pymysql.connect(user=\"root\",password=\"root\",database=\"1130to1\")\n",
    "curobj=conobj.cursor()\n",
    "count=curobj.execute(\"select * from emp\")\n",
    "print(count)\n",
    "row=curobj.fetchone()\n",
    "print(row)\n",
    "row=curobj.fetchone()\n",
    "print(row) \n",
    "curobj.scroll(5,mode=\"absolute\")\n",
    "row=curobj.fetchone() \n",
    "print(row)\n",
    "curobj.scroll(0,mode=\"absolute\")\n",
    "row=curobj.fetchmany(3)\n",
    "print(row)\n",
    "conobj.close()"
   ]
  },
  {
   "cell_type": "code",
   "execution_count": 8,
   "metadata": {},
   "outputs": [
    {
     "name": "stdout",
     "output_type": "stream",
     "text": [
      "11\n",
      "(100, 'rohit', 55005.5, 'batsman')\n",
      "(102, 'monu', 34505.1, 'operator')\n",
      "((100, 'rohit', 55005.5, 'batsman'), (102, 'monu', 34505.1, 'operator'), (103, 'ishan', 25188.1, 'coding'))\n",
      "((104, 'surya', 27850.1, 'coding'), (105, 'bhola', 43822.1, 'account'), (211, 'virat kohli', 67780.1, 'account'), (224, 'bumhra', 46484.1, 'coding'), (226, 'hardik', 21195.1, 'operator'), (228, 'rahul', 35836.1, 'coding'), (600, 'cahal', 54470.1, 'account'), (601, 'chintu', 19864.1, 'coding'))\n"
     ]
    }
   ],
   "source": [
    "import pymysql \n",
    "conobj=pymysql.connect(user=\"root\",password=\"root\",database=\"1130to1\")\n",
    "curobj=conobj.cursor()\n",
    "count=curobj.execute(\"select * from emp\")\n",
    "print(count)\n",
    "row=curobj.fetchone()\n",
    "print(row)\n",
    "row=curobj.fetchone()\n",
    "print(row) \n",
    "curobj.scroll(0,mode=\"absolute\")\n",
    "row=curobj.fetchmany(3)\n",
    "print(row)\n",
    "row=curobj.fetchall()\n",
    "print(row)\n",
    "conobj.close()"
   ]
  },
  {
   "cell_type": "code",
   "execution_count": 9,
   "metadata": {},
   "outputs": [
    {
     "name": "stdout",
     "output_type": "stream",
     "text": [
      "11\n",
      "(100, 'rohit', 55005.5, 'batsman')\n",
      "(102, 'monu', 34505.1, 'operator')\n",
      "(103, 'ishan', 25188.1, 'coding')\n",
      "(104, 'surya', 27850.1, 'coding')\n",
      "(105, 'bhola', 43822.1, 'account')\n",
      "(211, 'virat kohli', 67780.1, 'account')\n",
      "(224, 'bumhra', 46484.1, 'coding')\n",
      "(226, 'hardik', 21195.1, 'operator')\n",
      "(228, 'rahul', 35836.1, 'coding')\n",
      "(600, 'cahal', 54470.1, 'account')\n",
      "(601, 'chintu', 19864.1, 'coding')\n"
     ]
    }
   ],
   "source": [
    "import pymysql \n",
    "conobj=pymysql.connect(user=\"root\",password=\"root\",database=\"1130to1\")\n",
    "curobj=conobj.cursor()\n",
    "count=curobj.execute(\"select * from emp\")\n",
    "print(count)\n",
    "\n",
    "for i in curobj:\n",
    "    print(i)\n",
    "conobj.close()"
   ]
  },
  {
   "cell_type": "code",
   "execution_count": 10,
   "metadata": {},
   "outputs": [
    {
     "name": "stdout",
     "output_type": "stream",
     "text": [
      "11\n",
      "(100, 'rohit', 55005.5, 'batsman')\n",
      "(102, 'monu', 34505.1, 'operator')\n",
      "(103, 'ishan', 25188.1, 'coding')\n",
      "(104, 'surya', 27850.1, 'coding')\n",
      "(105, 'bhola', 43822.1, 'account')\n",
      "(211, 'virat kohli', 67780.1, 'account')\n",
      "(224, 'bumhra', 46484.1, 'coding')\n",
      "(226, 'hardik', 21195.1, 'operator')\n",
      "(228, 'rahul', 35836.1, 'coding')\n",
      "(600, 'cahal', 54470.1, 'account')\n",
      "(601, 'chintu', 19864.1, 'coding')\n"
     ]
    }
   ],
   "source": [
    "import pymysql \n",
    "conobj=pymysql.connect(user=\"root\",password=\"root\",database=\"1130to1\")\n",
    "curobj=conobj.cursor()\n",
    "count=curobj.execute(\"select * from emp\")\n",
    "print(count)\n",
    "\n",
    "for row in curobj:\n",
    "    print(row)\n",
    "conobj.close()"
   ]
  },
  {
   "cell_type": "code",
   "execution_count": 23,
   "metadata": {},
   "outputs": [
    {
     "name": "stdout",
     "output_type": "stream",
     "text": [
      "total rows:11\n",
      "Empid|\t\tname|\t\tsal|\t\tdept\n",
      "----------------------------------------------------------\n",
      "100|\t\trohit|\t\t55005.5|\t\tbatsman\n",
      "102|\t\tmonu|\t\t34505.1|\t\toperator\n",
      "103|\t\tishan|\t\t25188.1|\t\tcoding\n",
      "104|\t\tsurya|\t\t27850.1|\t\tcoding\n",
      "105|\t\tbhola|\t\t43822.1|\t\taccount\n",
      "211|\t\tvirat kohli|\t\t67780.1|\t\taccount\n",
      "224|\t\tbumhra|\t\t46484.1|\t\tcoding\n",
      "226|\t\thardik|\t\t21195.1|\t\toperator\n",
      "228|\t\trahul|\t\t35836.1|\t\tcoding\n",
      "600|\t\tcahal|\t\t54470.1|\t\taccount\n",
      "601|\t\tchintu|\t\t19864.1|\t\tcoding\n"
     ]
    }
   ],
   "source": [
    "import pymysql \n",
    "conobj=pymysql.connect(user=\"root\",password=\"root\",database=\"1130to1\")\n",
    "curobj=conobj.cursor()\n",
    "count=curobj.execute(\"select * from emp\")\n",
    "print(f\"total rows:{count}\")\n",
    "print(f\"Empid|\\t\\tname|\\t\\tsal|\\t\\tdept\")\n",
    "print(\"----------------------------------------------------------\")\n",
    "for eid,name,sal,dept in curobj:\n",
    "    print(f\"{eid}|\\t\\t{name}|\\t\\t{sal}|\\t\\t{dept}\")\n",
    "conobj.close()"
   ]
  },
  {
   "cell_type": "code",
   "execution_count": 24,
   "metadata": {},
   "outputs": [
    {
     "name": "stdout",
     "output_type": "stream",
     "text": [
      "total rows:5\n",
      "Empid\t\tname\t\tsal\t\tdept\n",
      "103\t\tishan \t\t25188.1\t\tcoding\n",
      "104\t\tsurya \t\t27850.1\t\tcoding\n",
      "224\t\tbumhra \t\t46484.1\t\tcoding\n",
      "228\t\trahul \t\t35836.1\t\tcoding\n",
      "601\t\tchintu \t\t19864.1\t\tcoding\n"
     ]
    }
   ],
   "source": [
    "import pymysql \n",
    "conobj=pymysql.connect(user=\"root\",password=\"root\",database=\"1130to1\")\n",
    "curobj=conobj.cursor()\n",
    "count=curobj.execute(\"select * from emp where dept='coding'\")\n",
    "print(f\"total rows:{count}\")\n",
    "print(f\"Empid\\t\\tname\\t\\tsal\\t\\tdept\")\n",
    "\n",
    "for eid,name,sal,dept in curobj:\n",
    "    print(f\"{eid}\\t\\t{name} \\t\\t{sal}\\t\\t{dept}\")\n",
    "conobj.close()"
   ]
  },
  {
   "cell_type": "code",
   "execution_count": 2,
   "metadata": {},
   "outputs": [
    {
     "name": "stdout",
     "output_type": "stream",
     "text": [
      "total rows:0\n",
      "record not found\n"
     ]
    }
   ],
   "source": [
    "import pymysql \n",
    "conobj=pymysql.connect(user=\"root\",password=\"root\",database=\"1130to1\")\n",
    "curobj=conobj.cursor()\n",
    "count=curobj.execute(\"select * from emp where dept='hrr'\")\n",
    "print(f\"total rows:{count}\")\n",
    "if count>0:\n",
    "    print(f\"Empid\\t\\tname\\t\\tsal\\t\\tdept\")\n",
    "\n",
    "    for eid,name,sal,dept in curobj:\n",
    "        print(f\"{eid}\\t\\t{name} \\t\\t{sal}\\t\\t{dept}\")\n",
    "else:\n",
    "    print(\"record not found\")\n",
    "conobj.close()"
   ]
  },
  {
   "cell_type": "code",
   "execution_count": 1,
   "metadata": {},
   "outputs": [
    {
     "name": "stdout",
     "output_type": "stream",
     "text": [
      "valid user\n",
      "('sonu', 'bharat')\n"
     ]
    }
   ],
   "source": [
    "import pymysql \n",
    "conobj=pymysql.connect(user=\"root\",password=\"root\",database=\"1130to1\")\n",
    "curobj=conobj.cursor()\n",
    "# un=input(\"enter username:\")\n",
    "# up=input(\"enter password\")\n",
    "count=curobj.execute(\"select * from login where username='sonu' and pwd='bharat'\")\n",
    "\n",
    "if count>0:\n",
    "    print(\"valid user\")\n",
    "    print(curobj.fetchone())\n",
    "else:\n",
    "    print(\"invalid user\")\n",
    "conobj.close()"
   ]
  },
  {
   "cell_type": "code",
   "execution_count": 2,
   "metadata": {},
   "outputs": [
    {
     "name": "stdout",
     "output_type": "stream",
     "text": [
      "invalid user\n"
     ]
    }
   ],
   "source": [
    "import pymysql \n",
    "conobj=pymysql.connect(user=\"root\",password=\"root\",database=\"1130to1\")\n",
    "curobj=conobj.cursor()\n",
    "# un=input(\"enter username:\")\n",
    "# up=input(\"enter password\")\n",
    "count=curobj.execute(\"select * from login where username='sonu' and pwd='india'\")\n",
    "\n",
    "if count>0:\n",
    "    print(\"valid user\")\n",
    "    print(curobj.fetchone())\n",
    "else:\n",
    "    print(\"invalid user\")\n",
    "conobj.close()"
   ]
  },
  {
   "cell_type": "code",
   "execution_count": 3,
   "metadata": {},
   "outputs": [
    {
     "name": "stdout",
     "output_type": "stream",
     "text": [
      "invalid user\n"
     ]
    }
   ],
   "source": [
    "import pymysql \n",
    "conobj=pymysql.connect(user=\"root\",password=\"root\",database=\"1130to1\")\n",
    "curobj=conobj.cursor()\n",
    "un=input(\"enter username:\")\n",
    "up=input(\"enter password\")\n",
    "count=curobj.execute(f\"select * from login where username='{un}' and pwd='{up}'\")\n",
    "\n",
    "if count>0:\n",
    "    print(\"valid user\")\n",
    "    print(curobj.fetchone())\n",
    "else:\n",
    "    print(\"invalid user\")\n",
    "conobj.close()"
   ]
  },
  {
   "cell_type": "code",
   "execution_count": 6,
   "metadata": {},
   "outputs": [
    {
     "name": "stdout",
     "output_type": "stream",
     "text": [
      "valid user\n",
      "('sonu', 'bharat')\n"
     ]
    }
   ],
   "source": [
    "import pymysql \n",
    "conobj=pymysql.connect(user=\"root\",password=\"root\",database=\"1130to1\")\n",
    "curobj=conobj.cursor()\n",
    "un=input(\"enter username:\")\n",
    "up=input(\"enter password\")\n",
    "count=curobj.execute(f\"select * from login where username='{un}' and pwd='{up}'\")\n",
    "if count>0:\n",
    "    print(\"valid user\")\n",
    "    print(curobj.fetchone())\n",
    "else:\n",
    "    print(\"invalid user\")\n",
    "conobj.close()"
   ]
  },
  {
   "cell_type": "code",
   "execution_count": 8,
   "metadata": {},
   "outputs": [
    {
     "name": "stdout",
     "output_type": "stream",
     "text": [
      "valid user\n",
      "('sonu', 'bharat')\n"
     ]
    }
   ],
   "source": [
    "import pymysql \n",
    "conobj=pymysql.connect(user=\"root\",password=\"root\",database=\"1130to1\")\n",
    "curobj=conobj.cursor()\n",
    "un=input(\"enter username:\")\n",
    "up=input(\"enter password\")\n",
    "count=curobj.execute(f\"select * from login where username='{un}' and pwd='{up}'\")\n",
    "if count>0:\n",
    "    print(\"valid user\")\n",
    "    print(curobj.fetchone())\n",
    "else:\n",
    "    print(\"invalid user\")\n",
    "conobj.close()"
   ]
  },
  {
   "cell_type": "code",
   "execution_count": 9,
   "metadata": {},
   "outputs": [
    {
     "name": "stdout",
     "output_type": "stream",
     "text": [
      "valid user\n",
      "('sonu', 'bharat')\n"
     ]
    }
   ],
   "source": [
    "import pymysql \n",
    "conobj=pymysql.connect(user=\"root\",password=\"root\",database=\"1130to1\")\n",
    "curobj=conobj.cursor()\n",
    "un=input(\"enter username:\")\n",
    "up=input(\"enter password\")\n",
    "count=curobj.execute(f\"select * from login where username=%s and pwd=%s\",(un,up))\n",
    "if count>0:\n",
    "    print(\"valid user\")\n",
    "    print(curobj.fetchone())\n",
    "else:\n",
    "    print(\"invalid user\")\n",
    "conobj.close()"
   ]
  },
  {
   "cell_type": "code",
   "execution_count": 10,
   "metadata": {},
   "outputs": [
    {
     "name": "stdout",
     "output_type": "stream",
     "text": [
      "invalid user\n"
     ]
    }
   ],
   "source": [
    "import pymysql \n",
    "conobj=pymysql.connect(user=\"root\",password=\"root\",database=\"1130to1\")\n",
    "curobj=conobj.cursor()\n",
    "un=input(\"enter username:\")\n",
    "up=input(\"enter password\")\n",
    "count=curobj.execute(f\"select * from login where username=%s and pwd=%s\",(un,up))\n",
    "if count>0:\n",
    "    print(\"valid user\")\n",
    "    print(curobj.fetchone())\n",
    "else:\n",
    "    print(\"invalid user\")\n",
    "conobj.close()"
   ]
  },
  {
   "cell_type": "code",
   "execution_count": 18,
   "metadata": {},
   "outputs": [
    {
     "name": "stdout",
     "output_type": "stream",
     "text": [
      "image inserted\n"
     ]
    }
   ],
   "source": [
    "import pymysql \n",
    "conobj=pymysql.connect(user=\"root\",password=\"root\",database=\"1130to1\")\n",
    "curobj=conobj.cursor()\n",
    "file=open(r\"C:\\Users\\Raju\\Downloads\\indian flag.jpeg\",\"rb\")\n",
    "img=file.read()\n",
    "file.close()\n",
    "curobj.execute(\"insert into pic1 values(%s,%s)\",('img1',img))\n",
    "conobj.commit()\n",
    "conobj.close()\n",
    "print(\"image inserted\")"
   ]
  },
  {
   "cell_type": "code",
   "execution_count": 19,
   "metadata": {},
   "outputs": [
    {
     "name": "stdout",
     "output_type": "stream",
     "text": [
      "('img1', b'\\xff\\xd8\\xff\\xe0\\x00\\x10JFIF\\x00\\x01\\x01\\x01\\x00\\x00\\x00\\x00\\x00\\x00\\xff\\xe1\\x00.Exif\\x00\\x00MM\\x00*\\x00\\x00\\x00\\x08\\x00\\x02@\\x00\\x00\\x03\\x00\\x00\\x00\\x01\\x00m\\x00\\x00@\\x01\\x00\\x01\\x00\\x00\\x00\\x01\\x00\\x00\\x00\\x00\\x00\\x00\\x00\\x00\\xff\\xdb\\x00C\\x00\\n\\x07\\x07\\t\\x07\\x06\\n\\t\\x08\\t\\x0b\\x0b\\n\\x0c\\x0f\\x19\\x10\\x0f\\x0e\\x0e\\x0f\\x1e\\x16\\x17\\x12\\x19$ &%# #\"(-90(*6+\"#2D26;=@@@&0FKE>J9?@=\\xff\\xdb\\x00C\\x01\\x0b\\x0b\\x0b\\x0f\\r\\x0f\\x1d\\x10\\x10\\x1d=)#)==================================================\\xff\\xc0\\x00\\x11\\x08\\x01\\x07\\x01\\xda\\x03\\x01\"\\x00\\x02\\x11\\x01\\x03\\x11\\x01\\xff\\xc4\\x00\\x1f\\x00\\x00\\x01\\x05\\x01\\x01\\x01\\x01\\x01\\x01\\x00\\x00\\x00\\x00\\x00\\x00\\x00\\x00\\x01\\x02\\x03\\x04\\x05\\x06\\x07\\x08\\t\\n\\x0b\\xff\\xc4\\x00\\xb5\\x10\\x00\\x02\\x01\\x03\\x03\\x02\\x04\\x03\\x05\\x05\\x04\\x04\\x00\\x00\\x01}\\x01\\x02\\x03\\x00\\x04\\x11\\x05\\x12!1A\\x06\\x13Qa\\x07\"q\\x142\\x81\\x91\\xa1\\x08#B\\xb1\\xc1\\x15R\\xd1\\xf0$3br\\x82\\t\\n\\x16\\x17\\x18\\x19\\x1a%&\\'()*456789:CDEFGHIJSTUVWXYZcdefghijstuvwxyz\\x83\\x84\\x85\\x86\\x87\\x88\\x89\\x8a\\x92\\x93\\x94\\x95\\x96\\x97\\x98\\x99\\x9a\\xa2\\xa3\\xa4\\xa5\\xa6\\xa7\\xa8\\xa9\\xaa\\xb2\\xb3\\xb4\\xb5\\xb6\\xb7\\xb8\\xb9\\xba\\xc2\\xc3\\xc4\\xc5\\xc6\\xc7\\xc8\\xc9\\xca\\xd2\\xd3\\xd4\\xd5\\xd6\\xd7\\xd8\\xd9\\xda\\xe1\\xe2\\xe3\\xe4\\xe5\\xe6\\xe7\\xe8\\xe9\\xea\\xf1\\xf2\\xf3\\xf4\\xf5\\xf6\\xf7\\xf8\\xf9\\xfa\\xff\\xc4\\x00\\x1f\\x01\\x00\\x03\\x01\\x01\\x01\\x01\\x01\\x01\\x01\\x01\\x01\\x00\\x00\\x00\\x00\\x00\\x00\\x01\\x02\\x03\\x04\\x05\\x06\\x07\\x08\\t\\n\\x0b\\xff\\xc4\\x00\\xb5\\x11\\x00\\x02\\x01\\x02\\x04\\x04\\x03\\x04\\x07\\x05\\x04\\x04\\x00\\x01\\x02w\\x00\\x01\\x02\\x03\\x11\\x04\\x05!1\\x06\\x12AQ\\x07aq\\x13\"2\\x81\\x08\\x14B\\x91\\xa1\\xb1\\xc1\\t#3R\\xf0\\x15br\\xd1\\n\\x16$4\\xe1%\\xf1\\x17\\x18\\x19\\x1a&\\'()*56789:CDEFGHIJSTUVWXYZcdefghijstuvwxyz\\x82\\x83\\x84\\x85\\x86\\x87\\x88\\x89\\x8a\\x92\\x93\\x94\\x95\\x96\\x97\\x98\\x99\\x9a\\xa2\\xa3\\xa4\\xa5\\xa6\\xa7\\xa8\\xa9\\xaa\\xb2\\xb3\\xb4\\xb5\\xb6\\xb7\\xb8\\xb9\\xba\\xc2\\xc3\\xc4\\xc5\\xc6\\xc7\\xc8\\xc9\\xca\\xd2\\xd3\\xd4\\xd5\\xd6\\xd7\\xd8\\xd9\\xda\\xe2\\xe3\\xe4\\xe5\\xe6\\xe7\\xe8\\xe9\\xea\\xf2\\xf3\\xf4\\xf5\\xf6\\xf7\\xf8\\xf9\\xfa\\xff\\xda\\x00\\x0c\\x03\\x01\\x00\\x02\\x11\\x03\\x11\\x00?\\x00\\xe9\\xb2sK\\x93GzJ\\xf8\\x13\\xeaGd\\xd2d\\xd2\\xd3i\\x08Ni9\\xa7Rb\\x99Ha\\xcd!\\xcd;\\x14\\x98\\xa0\\xa4\\xc6\\x1c\\xd3I4\\xf2)\\xa4P2\"M4\\x93R\\x91Q\\x91T\\x80a&\\x9aI\\xa7\\x91L4\\xc4\\x194o4\\x94\\x94\\xec!\\xe1\\xcdH\\x1c\\xfa\\xd4\\x00\\xd3\\x81\\xa4\\xd0\\\\\\xb4\\x8cj@\\xc6\\xaa\\xa1\\xa9\\x90\\xd44=\\xc9\\xc3\\x1a\\x90\\x13P\\x03R\\x03H\\x99\"`M.MF\\r8\\x1ad4I\\x93FM74PM\\x87\\xe4\\xd1\\x93IE1X9\\xa4\\xe6\\x96\\x8a`4\\xe6\\x9asO\\xc5!\\x14\\xc6\\x99\\x11\\x06\\xa2pj\\xc1\\x14\\xd2\\xb5I\\x96\\x99M\\xd0\\xd4\\x0e\\x86\\xaf\\xb4u\\x0b\\xc7V\\x98\\x9a3\\x9d\\r@\\xe8kE\\xe3\\xaa\\xef\\x15k\\x19\\x10\\xd1\\x9e\\xe0\\xd4%\\r_x\\xea\\x07\\x8e\\xb5\\x8c\\x8c\\xda)\\x90i9\\xab\\x05*2\\x95i\\x93a\\xa0\\x9a\\x91\\t\\xa6b\\x9c(`X\\x8d\\xcdY\\x8eC\\xc75M*h\\xcdf\\xd1i\\x9a1\\xc8x\\xe6\\xadG!\\xac\\xd8\\xde\\xadF\\xf5\\x8c\\x91\\xaae\\xf5j\\x90\\x13U\\xa3z\\x94\\x1a\\xc5\\xa2\\x9a\\xb9.M!\\xcd\\x14T4I\\x11\\xcd0\\xe6\\xa5\"\\xa3\"\\xa6\\xc6\\x89\\x8c\\xe6\\x97\\x9aZJ\\n\\x17\\x9a7b\\xae\\xdah\\xf7w\\x98)\\x19D?\\xc4\\xfc\\n\\xdb\\xb5\\xf0\\xd5\\xbcXk\\x862\\xb7\\xa7E\\xae\\xda\\x19}z\\xdb+.\\xec\\xe4\\xab\\x8b\\xa5OF\\xee\\xfc\\x8ej(e\\x9d\\xb6C\\x1b;z(\\xe9W\\x7f\\xb1u\\x0f\\xf9\\xe0\\x7f\\xef\\xa1]|PG\\x02\\x85\\x89\\x15Tt\\x00T\\x9c\\xd7\\xadO%\\x85\\xbd\\xf9jpO2\\x9b~\\xea8\\nu\\'zZ\\xf9\\xd3\\xd6\\n)h\\xa4!)1N\\xa2\\x90\\xeeG\\x8aB*LRb\\x81\\xa6DE!\\x15!\\x14\\xd2()22)\\x84T\\xa4SH\\xa6Q\\x01\\x14\\xc2*R)\\x84U dF\\x99R\\x11M5H\\x91\\xb4\\xe0i\\x94S\\x1105\"=@\\rH\\x86\\xa5\\xa1\\xa6YCR\\x03U\\xd0\\xd4\\xa0\\xd41\\xeeL\\r<\\x1a\\x88\\x1ap4\\x88h\\x94\\x1a\\\\\\xd3\\x01\\xa5\\xcd\\x04\\xb4I\\x9a)\\x99\\xa5\\xcd2l>\\x8anh\\xcd\\x01a\\xd4Rf\\x96\\xaa\\xe2\\x13\\x14\\x84S\\xa8\\xa2\\xe1r2)\\x85*b)\\xa4SL\\xa4\\xca\\xaf\\x1d@\\xf1\\xd5\\xf2\\x95\\x13\\xa5h\\x99Z39\\xe3\\xaa\\xef\\x1di<u\\x03\\xc7Z)\\x12\\xd1\\x9a\\xf1\\xd4e*\\xf3\\xc7Q<u\\xaa\\x91\\x9bE2\\x94\\x98\\xab\\x06:f\\xca\\xbb\\x93a\\x80S\\xd6\\x8cR\\x81I\\x8c\\x9d\\rY\\x8d\\xea\\xa2T\\xd1\\x9a\\x86\\x8aL\\xbf\\x1b\\xd4\\xeaj\\x94f\\xadFk\\x06\\x8d\\x13\\'\\x074\\xee\\x95\\x185v\\xd7L\\xba\\xbc\\xc1\\x8e\"\\x14\\xff\\x00\\x13p)F\\x94\\xaa;E7\\xe8L\\xe7\\x18+\\xc9\\xd8\\xa8O\\xad\\t\\x14\\x930HQ\\x9d\\x8fe\\x15\\xd1\\xda\\xf8v5\\xc3\\\\\\xb9s\\xfd\\xd5\\xe0V\\xb4\\x16\\xf1[\\xa6\\xd8\\xa3T\\x1e\\x80W\\xa5C(\\xa9=j;/\\xc4\\xe2\\xa9\\x98F:A\\\\\\xe6\\xad|7q6\\x1a\\xe5\\x84+\\xe895\\xb5i\\xa3\\xdaY\\xe0\\xa4A\\x9c\\x7f\\x1b\\xf2\\x7f\\xfa\\xdf\\x85_\\xa3\\xb75\\xec\\xd0\\xc0P\\xa1\\xf0\\xab\\xbe\\xec\\xf3\\xea\\xe2\\xaa\\xd5\\xdd\\xe8-\\x14Q]\\x878QE\\x14\\x01\\xc1w\\xa5\\xa4=ik\\xe0\\xcf\\xa8\\nZJZB\\n(\\xa2\\x90\\tF)h\\xa0.7\\x14\\xc2*LRb\\x90\\xd3\"\"\\x9aELEFE\\x05\\xa6DEDEX\"\\x98E4QX\\x8aa\\xa9\\x9cTn*\\xd3%\\x90\\x9aJy\\xa8\\xea\\x848\\x1a\\x90\\x1a\\x86\\x9e\\r\\r\\x01a\\rL\\x86\\xab!\\xa9P\\xd44Z,\\x03N\\x06\\xa3\\x06\\x9e*\\x04\\xd0\\xf0i\\xd9\\xa8\\xf3Fh&\\xc4\\x99\\xa5\\xcdE\\x9a3@X\\x97}.j\\x1d\\xf4o\\xa0V\\'\\x06\\x9c\\r@\\x1e\\x9e\\r2\\\\IA\\xa5\\xa6\\x03N\\x06\\x8b\\x92\\xd0\\xeaLR\\xd1T\\x99#\\x08\\xa6\\x91R\\xe2\\x9aE4\\xcaL\\xae\\xe9Q<uh\\x8a\\x8c\\xadRe\\xa7r\\x8b\\xc7Q<uy\\xd2\\xa2x\\xebH\\xc8M\\x14\\x0cu\\x19\\x8e\\xae\\xbcu\\x19\\x8e\\xb4R!\\xa2\\xa1JM\\x959\\x8e\\x9aR\\xae\\xe2\\xb0\\xc0*D\\xabv\\xbaE\\xd5\\xd6\\n\\xc7\\xb1\\x0f\\xf1?\\x15\\xb1k\\xe1\\xf8\"\\xc1\\x9d\\x9aV\\xf4\\xe8+\\xa6\\x96\\x0e\\xb5]\\x95\\x97vs\\xd4\\xc4\\xd3\\xa7\\xbb\\xbb\\xf21\\xad\\xe2\\x92g\\x0b\\n3\\xb7\\xa2\\x8c\\xd6\\xfd\\x8f\\x87\\xa7\\x93\\x06\\xe2E\\x89\\x7f\\xba>cZ\\xb6\\xf1\\xa4H\\x164T_E\\x15r#^\\x8d,\\xae\\x9a\\xd6\\xa3\\xbf\\xe4q\\xd4\\xc7\\xcd\\xe9\\x05a\\xb6z=\\xa5\\xae\\nF\\x1d\\x87\\xf1?&\\xb4qQ\\xc6jJ\\xf4!J\\x10V\\x8aH\\xe2\\x94\\xe5\\'y;\\xb0\\xa2\\x8a+BB\\x8a)\\t\\xa0\\x05\\xa4$\\nc\\xc9\\x8a\\x81\\xe5\\xa0\\t\\xcc\\x94\\xfd\\xc2\\xa9y\\x99\\xa9\\xf3@\\x1cI\\xebKHz\\xd1_\\x06}8\\xb4QE\\x00-\\x14\\x94P\\x02\\xd2\\xd2R\\xd2\\x10\\x94R\\xd1H\\x06\\x91M\"\\x9fHE\\x05&BE4\\x8a\\x98\\x8a\\x8c\\x8aE\\xa6B\\xe2\\xa0qV\\x88\\xa8\\x1cU&2\\xbb\\x8a\\x88\\xd5\\x87\\x15\\x03\\xd6\\x88\\x966\\x94\\x1am(\\xaa\\x11:\\x1a\\x95\\rWCS\\xa5f\\xcaD\\xe2\\x9e\\rF\\xb4\\xfa\\x86P\\xec\\xd2f\\x92\\x90\\x9a\\x00\\\\\\xd2f\\x9aM74\\xec\\x04\\x99\\xa5\\xcdE\\x9ap4X\\tA\\xa7\\x03Q\\x03N\\x06\\x90\\x9a\\xb984\\xf0j\\xb84\\xf0i\\x10\\xe2X\\x06\\x9c\\rD\\r<\\x1afm\\x0e\\xa2\\x934\\xb5I\\x924\\x8ai\\x15%4\\x8aw)2\\x12*2\\x95`\\x8a\\x92\\x0b\\x0b\\x8b\\xb3\\xfb\\x98\\x99\\x87\\xa9\\xe0~u\\xa4!)\\xbbE]\\xf9\\x03\\xa9\\x18\\xab\\xc9\\xd9\\x19\\xef\\x1d0[\\xb4\\xae\\x124gc\\xd1Tf\\xba\\xab_\\r(\\xc3]\\xb9c\\xfd\\xd4\\xe0~u\\xad\\r\\x946\\xc9\\xb2\\x08\\x965\\xf6\\x1dk\\xd5\\xa1\\x95\\xd5\\x96\\xb5\\x1d\\x97\\xe2qU\\xc7\\xc2:A]\\xfe\\x07\\x1fm\\xe1\\xbb\\x89p\\xd7\\x0c!_\\xee\\xf5o\\xfe\\xb5j[\\xe9\\x16\\xb6x)\\x10g\\x1f\\xc4\\xfc\\x9a\\xdax\\xea\\'\\x8e\\xbd\\x8a8:4\\xb6W}\\xd9\\xe7\\xd4\\xc4\\xd4\\xa9\\xbb\\xb2\\xec\\x8a{(\\tS\\x98\\xe9\\xbbk\\xa8\\xe7\\x11\\x05X\\x8e\\xa2\\x02\\xa6J\\x00\\xb3\\x19\\xa9\\xaa\\x18\\xeaa@\\x05\\x14Ph\\x01\\t\\xc5D\\xefK#\\xf5\\xaa\\xb2I@\\x0b$\\x95\\x01|\\xd3\\x1d\\xf3K\\x1a\\x12h\\x02h\\xc1&\\xaey~\\xd4\\xd8b\\xc0\\x04\\xd4\\xf4\\x01\\xc1\\x1e\\xb4R\\x9e\\xb4\\x95\\xf0g\\xd3\\x85\\x14Sh\\x18\\xeaZe\\x14\\x00\\xfaZnih\\x10\\xea)\\xb4\\xb4\\x85ai)h\\xa4\\x03H\\xa6\\x91O\\xa4\"\\x82\\x93 \"\\xa3qS\\x91Q\\xb8\\xa1\\x16\\x99Q\\xc5@\\xe2\\xad\\xc8*\\xbc\\x82\\xad0esH\\r9\\xe9\\x95\\xa2$\\x95\\rN\\x95Y\\rX\\x8c\\xd4\\xb48\\x96V\\x9fQ%J+6XSM:\\x90\\xd2\\x02:)\\xf8\\xa4\\xc5P\\r\\xa5\\xa7\\x00I\\xc0\\x19>\\x82\\xac&\\x9bw6\\x0cv\\xd2\\x90{\\xed\\xc7\\xf3\\xaa\\x8d9\\xcd\\xda)\\xb2%8\\xc7\\xe2v*\\xd2\\xe6\\xb4G\\x87\\xf5\\x16\\xff\\x00\\x96\\x01\\x7f\\xdeqK\\xff\\x00\\x08\\xde\\xa1\\xfd\\xc8\\xbf\\xef\\xb1[,%w\\xb4\\x19\\x9b\\xc4\\xd1_i}\\xe6xjxz\\xbb\\xff\\x00\\x08\\xee\\xa0?\\x82/\\xfb\\xecR\\x8f\\x0fj?\\xf3\\xc9?\\xef\\xb1C\\xc1W\\xfeF\\x1fY\\xa2\\xfe\\xd2*\\x83R\\x03V\\xd3\\xc3\\xfa\\x81\\xeb\\x1a\\x0f\\xab\\xd5\\x88\\xfc7xq\\xbd\\xe2_\\xc4\\x9a\\x16\\x07\\x10\\xf6\\x8b2\\x96&\\x8a\\xfbH\\xce\\x0c)\\xfb\\xabn/\\r(\\xc7\\x9b;\\x1fe\\\\U\\xe8t{8@\\xfd\\xd6\\xf2;\\xb9\\xcduS\\xcak\\xcb}\\x0ei\\xe3i-\\xb59\\xa8\\xe2y\\x8e\"Fs\\xfe\\xc8\\xad\\x084+\\x89pee\\x8d}:\\x9a\\xe8U\\x15\\x14\\x05P\\xa0v\\x02\\x96\\xbd*9=8\\xff\\x00\\x11\\xdc\\xe4\\x9e:o\\xe1V3\\xed\\xf4kX\\x08%|\\xc6\\x1d\\xdf\\x9f\\xd2\\xb4\\x00\\n0\\x00\\x03\\xda\\x8eik\\xd3\\xa7F\\x9d5h+\\x1c\\x92\\x9c\\xa4\\xef\\'p\\xa2\\x8a+RF\\x94\\xcdF\\xf1\\xd4\\xd4b\\x80)\\xbct\\xc2\\x95p\\xa5FR\\x80+l\\xa7\\xa0\\xa7\\x14\\xa0\\n\\x00\\x96:\\x98TKO\\xcd\\x00:\\x99#\\xe2\\x87|\\n\\xad,\\x9dh\\x01\\xb2\\xc9\\xd6\\xaa\\xbb\\xe6\\x96G\\xcd5\\x01&\\x80\\x04BM^\\xb7\\x87\\xa14\\x96\\xf6\\xfd\\t\\xab\\x80\\x000(\\x00\\xe9E\\x14P\\x07\\x08z\\xd2R\\x9e\\xb4\\x95\\xf0g\\xd3\\xa1)\\xb4\\xea(\\x18\\xda(\\xa2\\x98\\xc2\\x974\\xda(\\x0b\\x0f\\xcd-G\\x9avi\\n\\xc3\\xba\\xd1I\\x9a\\xbdi\\xa4\\\\\\xdea\\x82lO\\xef?\\x7f\\xc2\\xb4\\xa7Fu]\\xa0\\x9b3\\x9c\\xe3\\x05y;\\x15)c\\x86I\\x8e\\xd8\\x91\\x9c\\xfa(\\xcdtv\\xda\\r\\xbc82\\xfe\\xf5\\xbf\\xda\\xe9\\xf9V\\x9aF\\x91\\xa8\\x08\\xaa\\xa0v\\x03\\x15\\xeaQ\\xc9\\xa7-j\\xbbz\\x1c\\x153\\x08\\xad \\xaer\\xb1h7\\xb2\\xe0\\x94X\\xc1\\xfe\\xf1\\xff\\x00\\n\\xb2\\xbe\\x16s\\xfe\\xb2\\xe5G\\xfb\\xab]\\x1f4\\xb5\\xe8C(\\xc3\\xc7t\\xdf\\xa9\\xcc\\xf1\\xf5\\x9e\\xce\\xc7:|#\\x19\\x1c\\xdd?\\xe0\\xa2\\xaa\\xcd\\xe1$\\xe7m\\xdb~(\\ru\\x95\\x0c\\xa9[\\x7fga\\xbf\\x94\\x9f\\xae\\xd7\\xfec\\x88\\xb8\\xf0\\xb5\\xcag\\xcb\\x9e\\'\\xf6 \\xade\\xdci\\x17\\xd6\\xf9\\xddn\\xcc\\x07t\\xf9\\xbf\\x95w\\xb2\\xa7Z\\xa6\\xe3\\x06\\xb2\\x9eUE\\xfc7F\\x91\\xcc*\\xad\\xec\\xce\\x0f\\x948`A\\xf4#\\x15b3]\\x83\\xc5\\x14\\xdcM\\x1a\\xb8\\xff\\x00hf\\x9a4M>^\\xb6\\xe1O\\xfb\\x04\\x8a\\xe2\\xa9\\x93\\xcf\\xecI?S\\xa6\\x19\\x8c>\\xd2k\\xd0\\xe6c\\xa9\\x85t\\xc3\\xc3\\xbar!w2\"\\x01\\x92\\xc6N\\x07\\xe7\\\\\\xde\\xa9\\xe2\\xaf\\x06\\xe8\\xc4\\xa2\\xcd%\\xfc\\xcb\\xc7\\x97l\\xc5\\xc6\\x7f\\xde\\xc8_\\xd6\\xb1\\x8eK\\x89\\x9b\\xb2\\xb1\\xab\\xcc\\xe8\\xa5\\xad\\xc4\\xa9\\xa1\\xb2\\xb9\\x9cf(]\\x94w\\xdb\\x81\\xf9\\x9e+\\x8e\\xd4>(\\xdc\\xb6WG\\xd3-,W\\xb4\\x92\\x0f6O\\xe8\\x07\\xeb\\\\\\xf9\\xd4u\\xef\\x16\\xea1YK}=\\xd4\\xd3\\xb6\\x12\\'\\x97b\\x13\\xd7\\xa7\\x00t\\xafB\\x8f\\r\\xcbz\\xb2I\\x1c\\xb53u\\xb4\"z5\\xcd\\xfe\\x8f\\xa71\\x1a\\x96\\xb3g\\x13\\x0e\\xb1\\xc4\\xdes\\x8f\\xc1s\\x8a\\xcf\\x7f\\x88\\x1e\\x17\\xb4\\xff\\x00Si\\xa8_8\\xee\\xca#_\\xe7\\xfd+\\x97\\xd3>\\x1f\\xea\\x1a\\x84\\xfa\\x8d\\x82\\xcd\\x04\\x1a\\xa5\\x89\\x19\\xb4\\x93#\\xccS\\x8f\\x9c7L\\x7f\\x9e+s\\xc3\\x7f\\n5F\\xd5\\xa1\\x93^\\x86\\x08\\xecc;\\xa4\\x8b\\xcd\\xdc\\xd2\\xfb|\\xbd9\\xc79\\x15\\xeaR\\xca\\xb04\\x15\\xda\\xbb8\\xa7\\x8e\\xc4T\\xebe\\xe4\\\\O\\x8cv\\x96\\xfcZ\\xf8wj\\xff\\x00\\xd7p\\xbf\\xc9jx\\xbe6[\\x92<\\xfd\\x12e\\x1d\\xcaN\\x1b\\xf9\\x81T\\xe1\\xf0\\xb6\\x8f\\x0f\\xc4\\x9dO\\xc3\\xf7\\x16\\xca\\xb6\\xb7\\xb6\\xbb\\xad\\x08\\xfb\\xd0\\xb63\\xf2\\x13\\xd0\\xf0\\xdf\\x95Y\\xb7\\xf8*\\x12\\xfdZ\\xe3W\\xf3-\\x03\\x02Q`\\xda\\xec=3\\x9c\\x0c\\xfa\\xd7j\\x86\\x1e*\\xdc\\xb6\\xd3C\\x95\\xca\\xa3w\\xbd\\xcd\\xbb\\x1f\\x8b~\\x1b\\xbb!g{\\x9b6=\\xe6\\x8b ~+\\x9a\\xea\\xacuK\\x1dZ\\x1f;O\\xbc\\x82\\xe91\\x92b\\x906>\\xb8\\xe9\\xf8\\xd7\\x96O\\xe0\\xad#V\\xf8\\x8f}\\xa2X#ZZ\\xda\\xd9\\xf9\\x8d\\xe598\\x97\\x8cu\\xcf\\x1f0\\xe3\\xda\\xb8\\xab\\xad\\x1f\\\\\\xf0\\xe6\\xa9\\xe5\\xbd\\xb5\\xe5\\xad\\xda6\\x16H\\x03\\r\\xde\\xea\\xc3\\xa84{\\x1as\\xf8]\\x9e\\xfa\\x87;[\\xa3\\xe8\\xf3@z\\xf2\\x1d3\\xe2n\\xb7\\xe1\\xfb\\x91c\\xe2\\xab\\x19\\xa6P\\x06Y\\xe3\\xf2\\xe7Q\\xeb\\xe8\\xe3\\xf2\\xfa\\xd7\\xa5\\xe8\\xda\\xf6\\x9f\\xaf\\xd9\\xfd\\xa7K\\xbaY\\xe3\\x1fyG\\x0c\\x87\\xd1\\x94\\xf2\\ra:R\\x8e\\xafn\\xe5\\xa9\\'\\xb1\\xb0\\xb2T\\xa0\\xe6\\xa9\\x07\\xa9\\xe3\\x92\\xb3(\\x9a\\x8a\\x01\\xcd\\x14\\x00QE\\x14\\x00QE\\x14\\x00QE\\x14\\x00QE\\x14\\x00R\\x11KE\\x00DR\\x93\\x156)\\xa4P\\x04}(/A\\xa8_4\\x00\\x92IU\\x9d\\xc9\\xa9\\\\\\x13H\"$\\xd0\\x04!\\t5r\\xde\\xdf\\xb9\\xa7\\xc5m\\x8eMY\\x00\\x0e\\x05\\x00\\x00\\x000(\\xa2\\x8c\\xe2\\x80\\n)\\x01\\xcd-\\x00p\\xa7\\xad%8\\xf5\\xa4\\xaf\\x83>\\x99\\r\\xa2\\x96\\x92\\x81\\x89M\\xa7\\xd3)\\x8d1:\\xd2R\\xd4\\xd6\\xd63\\xde\\xbe\\xd8\\x10\\xb6\\x0e\\t<\\x01\\xf8\\xd5F\\x12\\x9bJ*\\xed\\x84\\xa7\\x18\\xab\\xc9\\xd9\\x10U\\xdb-.\\xe6\\xf7\\x05\\x17l\\x7f\\xdfn\\x9f\\x87\\xadm\\xd8xz\\x1b|=\\xc6%q\\xd8\\xfd\\xd1\\xf8w\\xfck\\\\q\\xc0\\xe9^\\xd6\\x1b(n\\xd2\\xac\\xfeH\\xf3+\\xe6\\x1d)\\xfd\\xe6}\\x8e\\x8bog\\x86\\xc7\\x99 \\xfe&\\x1f\\xc8v\\xad*3E{t\\xe9B\\x92\\xe5\\x82\\xb1\\xe6Nr\\x9b\\xbc\\x9d\\xd8QE\\x15\\xa1!E\\x14P\\x01H\\xc3\"\\x96\\x8a\\x00\\xa32u\\xaa2\\x8e\\xb5\\xa92u\\xac\\xf9\\x93\\xad\\x00T\\xe8k\\x9d\\xf1g\\x8f-|,\\x82\\xde4\\x17:\\x8b.V\\x1c\\xe1Pz\\xb9\\xf7\\xf4\\x1c\\x9faZ\\xfa\\xd6\\xa2\\x9aF\\x93w\\x7f \\x05m\\xe2.\\x14\\xf7=\\x87\\xe2p+\\xe7\\xdb\\x8b\\x9b\\x8dF\\xf6K\\x89\\xd9\\xa6\\xb8\\xb8r\\xcc@\\xc9f?\\xe7\\x18\\xae\\x8a\\x14\\x94\\xdd\\xde\\xc8\\x89\\xca\\xda#WZ\\xf1N\\xad\\xe2\\x19s\\xa9^\\xbc\\x91\\xe7\\xe5\\x85\\x0e\\xd8\\xd7\\xe8\\xa3\\xfa\\xe4\\xd5)m\\xe5\\xb4\\xb9\\xf2.\\xa1\\x96\\x19\\x01\\x00\\xc4\\xe8U\\xf9\\xf6=\\xcdu\\xfe\\x07\\xf0\\xa6\\xa0u\\xf8>\\xd7\\xa4\\xc1}\\xa4\\xddD\\xcb$\\xe4\\x87\\x8ba\\x1fy\\\\t`p1\\xc1\\xea8\\xae\\xea\\xeb\\xed\\xfe\\x07t\\x9a\\xea\\x07\\xd6t(\\xbe\\xe4\\xc5C\\\\\\xd8\\x8e\\xd9\\'\\xef\\xa8\\xf5\\xe0\\x8fZ\\xe9u\\x94=\\xd8\\xa35\\x16\\xf5g={\\xe0\\xbbO\\x08\\xb8\\xbe\\xbc\\xb0}SB\\xb8\\x8dVvu\\xc5\\xc5\\x99?\\xc7\\xc7o\\xa7N\\x9f^\\xc7\\xc2\\x9e\\x0f\\xf0\\xc5\\x9f\\x95\\xaa\\xe8\\xa8.\\x8b\\x0c\\xc5;\\xcad\\xdb\\x9fOC\\xfa\\x8a\\xda\\xd2\\xb5\\xcd+\\xc4ve\\xec.\\xa1\\xba\\x8d\\x97\\xe7N\\xe0\\x1e\\xcc\\xa7\\x91\\xf8\\xd7\\x99x\\x96\\xcbR\\xf8i\\xae\\x0b\\xed\\x02fM.\\xf1\\xbf\\xd4\\xbf\\xcd\\x1a\\xbf]\\x84}2A\\xe0\\xe3#<W:r\\xa9\\xee\\xb7f[J:\\xa5\\xa1\\xd0|L\\xb4\\xb8\\xd3^\\xcb\\xc5:Syw\\x96N#\\x94\\x81\\xc3\\xc6\\xdd7z\\x80N>\\x8d]\\x0f\\x84\\xfc_e\\xe2\\xbb\\x01$\\x04Gu\\x18\\x1e}\\xb9<\\xa1\\xf5\\x1e\\xaa}\\x7f\\xadrK\\xe3\\xfb\\x1f\\x18\\xe8wZ-\\xd5\\xb4\\x96\\xda\\x8d\\xe4-\\x14+\\xf7\\xa3\\x92L|\\xa07o\\x98\\x0e\\xb8\\xfa\\xd7\\x9a\\x7f\\xc4\\xd3\\xc3z\\xa0lOa\\xa8A\\xc8\\x04a\\x87\\xf8\\x83\\xf8\\x83W\\x1a.q\\xe5\\x96\\x8d~D\\xb9\\xd9\\xddl\\xce\\xbf\\xe2~\\xa1%\\x87\\xc4Kk\\xbbF\\x0bqk\\x04N\\x0f\\xfbA\\x98\\xf3\\xecG\\x1fC^\\x8d\\x1f\\x8d4\\xe9<\\x1e|C\\xbc\\x08V?\\x9a,\\xfc\\xc2N\\x9e_\\xd7<~\\xbd+\\xce|\\x7f\\xe1\\xe9n,-<U\\r\\xc3\\xdc\\xc7y\\x14F\\xe7#\\xee1P\\x01\\x1e\\x8azc\\xb14\\xfd+\\xc2\\xb6\\xf7\\xdf\\t/o\\x8e\\xef\\xb5\\t\\x1e\\xe9\\x08r\\x00\\xf2\\xfe\\\\c\\xa7*\\x0f\\xe7NQ\\x8c\\xa9\\xc5\\xb7\\xb3\\xb0&\\xd3v\\x1b\\xf0\\xb7T\\x92\\xeb\\xe2\\x05\\xe4\\xf7m\\x99\\xef\\xe0\\x91\\x89\\xec[r\\xb6? \\x7f*\\xf5\\x0f\\x11\\xf8\\x96\\xc3\\xc3\\x1ak]\\xdf\\xc9\\x82x\\x8e ~y[\\xd0\\x0f\\xeb\\xd0W\\x94\\xfc-\\xf0\\xec\\xfa\\x96\\xb4ua;[\\xc1`xe\\x1f}\\xc8?/=\\x809?Q\\xf5\\xaeN\\xfe\\xefR\\xf1\\x16\\xacd\\xb8\\x92k\\xfb\\xc9\\x18\\xacaF\\xe2G\\xa2\\xa8\\xe8=\\x85T\\xe8\\xa9\\xd4z\\xe8\\x92\\xb8\\x94\\x9a\\x8f\\xa9\\xe9^\\x1b\\xd0_\\xc7:~\\xab\\xaf\\xeb\\x88\\x8d>\\xa0\\xad\\r\\x92\\xb8\\xdc\\x96\\xe88\\x0c\\x07\\xb3w\\xf6\\'\\xbdy\\xef\\xf6O\\x89\\xbc%\\xac\\xa9\\x86\\xd6\\xf6\\xde\\xf1\\x0e\\x16H\\x10\\xba\\xc8=\\x88\\xe1\\x81\\xf4?\\x95z\\xbd\\x87\\x8c4\\x0f\\x08\\xf8j\\xc3M\\xbd\\xba\"\\xee\\xda\\xdd\\x12[h\\x90\\xbb\\xa3\\xe0\\x16\\x07\\x1c\\x03\\x92z\\x91X\\xbf\\xf0\\x9f\\xeb\\x9e1\\xd4N\\x97\\xe1KE\\xb3F\\x19\\x92\\xeeo\\x99\\xa3N\\xed\\x81\\xc2\\xfe\\xa4\\x9e\\x95\\x11\\x94\\xd3zi\\xe6U\\x96\\x9a\\xeah\\xf87\\xe2=\\xb7\\x88\\nX\\xea!m5>\\x80tI\\x8f\\xfb9\\xe8\\x7f\\xd9?\\x86k\\xb7G\\xc5x\\xcf\\xc4\\x1f\\x04E\\xe1\\xcd&\\xce\\xfa\\xd9\\xee\\xae\\xa6iX]\\xdd\\xc8\\xd9\\xcb\\x1eA\\xc0\\xe9\\x93\\x9es\\xf5\\xc9\\xad\\x8f\\x00|G7M\\x16\\x91\\xae\\xcc<\\xe3\\x85\\xb7\\xbas\\x8f3\\xd1_\\xdf\\xd1\\xbb\\xf4<\\xd6s\\xa4\\x9a\\xe6\\x86\\xc3Ri\\xd9\\x9e\\xad\\x1c\\x9509\\xaa(\\xe4\\x1a\\xb3\\x1c\\x95\\xcehKE\\x14P\\x01E\\x14P\\x01E\\x14P\\x01E\\x14P\\x01E\\x14P\\x01E\\x14P\\x03Jf\\xa31\\x13SQ@\\x10\\x8bz\\x91c\\tN\\xa2\\x80\\n(\\xe9U\\xa6\\xbaT\\xc8S\\xcd\\x00N\\xf2*u\\xebU\\xfc\\xd3!\\xaa\\xdecJj\\xe5\\xbcX\\xe4\\xd0\\x04\\xa80)\\xd4Q@\\x1c1\\xebE\\'zZ\\xf8\\x13\\xe9\\x84\\xa2\\x96\\xa7\\xb7\\xb0\\xb8\\xbb#\\xca\\x89\\x8a\\xff\\x00x\\xf0+HBU\\x1d\\xa2\\xaf\\xe8D\\xa7\\x18\\xab\\xb7b\\xadI\\x05\\xac\\xd7M\\xb2\\x18\\xd9\\xcf|v\\xfckv\\xd3\\xc3\\xd1\\xa7\\xcdt\\xe5\\xcf\\xf7G\\x03\\xff\\x00\\xafZ\\xf1\\xc2\\x90\\xa6\\xd8\\xd0\"\\x8e\\xc0W\\xaf\\x87\\xca\\'?z\\xab\\xb2\\xecqU\\xc7\\xc6:A]\\x98\\xb6~\\x1bT\\xc3\\xdd\\xb6\\xf3\\xfd\\xc5<~>\\xb5\\xb7\\x1ci\\x12\\x04E\\n\\xa3\\xa0\\x02\\x9fE{tp\\xd4\\xe8\\xabA\\x1euJ\\xb3\\xa8\\xef&\\x14\\xdau4\\xd7A\\x90\\x99\\xa5\\xddL&\\x9b\\x9a\\x00\\x98\\x1c\\xd2\\xd4A\\xea@s@\\x0bE\\x14P\\x01E\\x14P\\x03$\\x19\\x15Bd\\xebZG\\x91T\\xee\\x13\\xad\\x00y\\xf7\\xc5)Z/\\x05\\xcc\\xa3\\x8f6x\\xd0\\xfd3\\x9f\\xe9^K\\xa3ZjW\\x17\\xeb&\\x8c\\x8e\\xd7\\x96\\xf8\\x99\\x04Do\\x18=T\\x7f\\x11\\x1e\\x835\\xeb\\xff\\x00\\x14\\xad\\xcc\\x9e\\t\\xb8`?\\xd5M\\x1b\\x9f\\xfb\\xeb\\x1f\\xd6\\xbc\\xa7\\xc3\\x1a\\x85\\xa5\\x96\\xa8\\x91\\xea6\\xeb-\\xa5\\xc3*;\\x82VHNxta\\xca\\x90On\\xa2\\xbbhiM\\xd8\\xca{\\xa3\\xd8,t\\xadO\\xec\\x10j\\xfaPM;V\\x9e1%\\xdd\\x8c\\x83\\x16\\xf3\\xbf}\\xca>\\xe3\\x1e\\xbb\\x97\\x1dy\\xcdY\\xd3\\xfe#i\\xad;i\\xfe \\x86M\\x1e\\xfd~Y!\\xba\\x19\\x8c\\xfb\\x87\\xe8A\\xf58\\xfcj\\xb4\\x97\\x9e!\\xf0\\xb8,\\xd0\\xbe\\xbd\\xa6\\xa7WL-\\xdcC\\xdc\\x0e$\\x03\\xd4`\\xfa\\xd5\\x1dO\\xc4\\x9e\\x07\\xf1\\xb6\\x9e \\xd4n\\x8d\\xa4\\xea1\\x1c\\x93\\xa1I\">\\xcd\\xd0\\x8fbqX\\xa5\\xcd\\xba\\xba\\xf2)\\xbbldx\\xd7\\xc1i\\xa7\\x96\\xf1\\x0f\\x84\\xe6\\xff\\x00F\\x07t\\xcbj\\xff\\x00\\xea\\xbf\\xdbB\\xbf\\xc3\\xea;u\\xe9\\xd3\\x06\\xd7\\xc6\\xb7\\x97\\xf1&\\x9b\\xe29\\xe4\\xbf\\xd2\\xa4`%\\x1bG\\x9c\\x98\\xe8\\xca\\xc3\\x9c\\x83\\x83\\xcer2*\\xb7\\xfc#\\x1a\\xb5\\xbd\\xfc\\xc9\\xa0\\xca\\xda\\x94Q\\xe0\\x8b\\x9d:M\\xc0\\x83\\xd3p\\x07 \\xfb\\x1c\\xfe\"\\xba\\x04\\xf1\\x0e\\x9fp\\x82\\xd3\\xc7^\\x1eh\\xe6\\x03h\\xbe\\x8e\\x03\\x14\\x9fV\\x03\\x1f\\x98\\xcf\\xd2\\xba\\x92\\xb4Rz\\xfeh\\xcb\\xafo\\xc8]K\\xe1\\xbc\\xbfeM[\\xc2W\\xff\\x00\\xda\\x16\\xdcI\\x1a\\x86\\x02U\\xc79R8$zp}\\x89\\xad\\xcbK\\x8b\\x0f\\x89z#i\\xba\\xa2\\xad\\xaf\\x88,\\xd4\\x80\\xc5v\\xb6G\\xf1\\x01\\xe8\\x7f\\x89{~F\\xa9i\\xfaD\\x9aG\\x9b\\xa9\\xf8\\x13\\xc4v\\xf7V\\xca\\x0b\\xcdgr\\xe0eG\\xafN\\x83\\xb9\\x00\\xfb\\xd73\\xe2\\x7f\\x18\\xb6\\xbf\\x7fk}mb\\x9au\\xdc+\\xf3\\\\B\\xe7\\xccs\\xd0\\xfc\\xc3\\x1c\\x0f\\xc4\\xfb\\xf6\\xa9JSvOn\\xbd\\xbdGt\\x8e\\xaf@\\xd5\\xad,\\xfc-\\xaaxS\\xc5s\\xc7g-\\xa8hW\\xcc<27 \\xae:\\xe0\\xf3\\xc7b+;\\xc3\\xde1\\xd3t\\xff\\x00\\x87W\\xba=\\xd4\\xcc/\\x19\\'H\\x94FHm\\xc0\\xe3\\x9e\\x83$\\x9e\\xb5\\x87\\x07\\x84\\xe4KT\\xbe\\xf1\\x0e\\xa1\\x1e\\x97o7\\xcc\\x9ep2O/\\xb8\\x8cs\\xcf\\xa9\\xa0\\xc7\\xe0\\xd8\\xfeV\\x9f^\\x98\\xf42*D\\x83\\xf2<\\xd5rA\\xdfw\\xe9\\xb5\\xc5\\xcc\\xd1\\xd0\\xe9\\x9e&\\xd3\\xb4O\\x85\\xadc\\xa7\\xdd,\\x9a\\xb5\\xce\\xe4h\\x97;\\x95\\xe48\\xcfn\\x8b\\x81\\x91\\xdc\\n\\xd7\\xd2\\xect\\xff\\x00\\x85\\xde\\x16mORT\\x93V\\xb8\\\\*g\\x9c\\xf6\\x8d}\\x00\\xea\\xcd\\xff\\x00\\xd6\\x15\\xc2\\r\\x03J\\xd4\\xce\\xdd\\x0fX\\rp~\\xed\\xad\\xfc~C\\xb7\\xb2\\xbev\\x93\\xecqU\\xec\\xb5\\x19\\xf4=~\\x06\\xd6\\xac^\\xf4\\xd8\\xfc\\x82\\xd2\\xed\\x8f\\xee\\xfb\\x8d\\xb9\\xe9\\x8e\\xbd\\xc7\\xf3\\xa1\\xd3N\\xfc\\xaf\\xcd\\xae\\xa0\\xa5m\\xcd\\r7\\xc0\\xfe\"\\xf1\\x8d\\xcc\\xba\\x94\\xa8\\xb6\\xf1\\xdc\\xb9\\x95\\xae.2\\xa1\\xb3\\xcf\\xca\\xbdH\\xfc\\x87\\xbdoh\\x1e*\\xf0\\xf7\\xc3\\xe8\\'\\xd2\\x87\\x9f\\xa8\\xdd\\x19\\x0b\\\\]Z\\xaa\\xf9n{(%\\xb9\\n8\\xf4\\xcej\\xf4\\x90\\xeb^:\\xd2\\xd2\\xf7S\\xd7l\\xf4\\x9d\\x16\\\\\\xe2\\x0bw\\xe4\\x81\\xd9\\xd8\\x91\\xcf\\xb18\\xf6\\xac\\x1b\\xfd\\x1b\\xe1\\xee\\x93\\x03+\\xea\\xfa\\x85\\xf4\\xeb\\xc6-YO\\xeb\\xb7o\\xebR\\xe5\\xcd\\xee\\xcb\\xeeC\\xb5\\xb5_\\x89\\xb9\\'\\xc5\\xab=H\\x9b;O\\x0f^\\xde\\xbc\\xa3o\\x92J\\xb6\\xf1\\xdf*\\x01\\xc8\\xaeo\\xc4\\x1e\\x0f\\xd45\\x0bG\\xbf\\x83\\xc36\\x9a\\x0c\\x10#I&\\xfb\\xc1\\xf3\\x0e\\xbc\\xafc\\xf9zU\\xdf\\n|B\\xd0\\xbc5i\\xf6h\\xb4+\\x88\\xb2~{\\x84\\x91d\\x92O\\xf7\\xb2\\x07\\xe48\\xf4\\xae\\x96_\\x88\\xfe\\x10\\xd6\\xac\\xa6\\xb3\\xbe\\xb8\\x9a8\\xa7B\\x8e\\x93B\\xc3 \\xfb\\x8c\\xfeu\\x9bR\\xa6\\xfd\\xd8\\xe8RjKVf|6\\xf1\\xd9\\xd4R=\\x1bU\\x977j1m3\\x9f\\xf5\\xaa?\\x84\\xff\\x00\\xb4\\x07\\xe6=\\xeb\\xd2\\xa3\\x92\\xbe{\\xd74=;K\\xcd\\xf6\\x87\\xe2+K\\xc8\\xa3p\\xd1\\xa0}\\x97\\t\\xcf\\x07\\x1d\\xf0q\\xc8\\xc1\\xef\\x8a\\xf5\\x7f\\x02x\\xb9|Q\\xa4\\xfe\\xfc\\xa8\\xd4-\\x80[\\x85\\x1cn\\xf4q\\xec\\x7fCQZ\\x9a\\xf8\\xe3\\xb0\\xe0\\xde\\xcc\\xed\\xa3\\x92\\xa5\\xaa1\\xc9Vc\\x92\\xb9\\xcd\\th\\xa0\\x1c\\xd1@\\x05\\x14Q@\\x05\\x14Q@\\x05\\x14Q@\\x05\\x14Q@\\x05\\x14PH\\x1c\\x93@\\x052IV1\\xc9\\xaa\\xf3\\xde\\x84\\xc8Z\\xce\\x96\\xe1\\xa4=h\\x02\\xd5\\xc5\\xf19\\x03\\xa5VM\\xd2\\x1aH\\xa1gj\\xd2\\x82\\xd8\\x0c\\x13@\\tmo\\x8c\\x13V\\xc7\\x14\\x01\\x8a(\\x00\\xa2\\x8a(\\x03\\x88\\x8a\\tg|C\\x13\\xbf\\xd0t\\xad+o\\x0f\\xdcI\\x833,C\\xd0rk\\xa4\\n\\x07AEx\\xf4rzQ\\xd6m\\xb3\\xbax\\xfa\\x8f\\xe1\\xd0\\xcf\\xb6\\xd1\\xadm\\xf0J\\xf9\\x8c;\\xbf?\\xa5h\\x0c\\x01\\x81\\xd0Q\\xcd-zt\\xe9S\\xa6\\xad\\x05c\\x8eS\\x94\\x9d\\xe4\\xee\\x14QEjHQE\\x14\\x00R\\x1aZC@\\x11=DMJ\\xf5\\x03\\xd0\\x02\\x87\\xa9Q\\xea\\xb6i\\xc8\\xf4\\x01t\\x1c\\xd2\\xd41\\xbdM@\\x05\\x14Q@\\x05C2\\xf5\\xa9\\xa9\\x92\\x8c\\x8a\\x00\\xe6<S\\xa6\\x9dO\\xc3z\\x95\\x98\\x19i``\\xbf\\xef\\x0eG\\xea\\x05xo\\x84\\xae\\x16\\x1dn=\\xef\\xa7\\xc6\\x1dp\\r\\xfc[\\xe2,9\\x00\\x9e\\xaaI\\x1fxt\\xfaW\\xd1R\\x8c\\x1c\\xfa\\x1a\\xf9\\xdf\\xc6z?\\xf6\\x1f\\x8a\\xaf\\xadB\\xe2&o:.:\\xa3s\\xfar?\\n\\xea\\xc3\\xbb\\xa7\\x17\\xd4\\xcezY\\x9e\\xb6|jtr\\x07\\x88\\xf4\\xcb\\xab\\x0c\\x9e.b\\x1e|\\r\\xf4a\\xc8\\xfcEdx\\x86?\\x01x\\xa67\\xb8]b\\xd6\\xca\\xf9\\x87\\xfa\\xf4\\x05K\\x1f\\xf6\\xd4\\x8f\\x9b\\xeb\\xc1\\xf7\\xad\\xbf\\x02\\xc7p\\x9e\\x12\\xb4\\xb6\\xbf\\x9e\\xde\\xe5\\xd5J\\x8f.A 1\\xff\\x00\\x08>\\xa4\\x0e1\\xf8T:\\xdf\\xc3-\\x07SG\\x9a!\\xfd\\x971\\xe4\\xc9\\x11\\x023\\xf5C\\xc7\\xe5\\x8a\\x98\\xb8\\xc6[\\xb5\\xe86\\x9bG\\x03\\xa1\\xf8K\\\\\\x92\\xe9\\xee|9\\xa9\\xd9L\\xf0\\xb1Q5\\xad\\xde\\xd6#\\xddz\\xe0\\xfa\\x1f\\xd6\\xbb\\x8bmC\\xe2\\r\\x94>V\\xa7\\xa1\\xda\\xea\\x91t?:\\x06?\\x91\\xc1\\xff\\x00\\xbek\\x85\\xb7\\xf0lQ\\xebOh\\xbe)\\xd1\\xe2h\\xc0+2\\xceA>\\xde\\x80\\x8fL\\xf7\\xae\\xca\\xd7\\xc3\\xf3\\xd9\\xc2\\xbeo\\xc4\\x86D\\x03\\xa2\\xcc\\x08\\xff\\x00\\xc7\\x9c\\xd6\\xd5\\x1a{\\xbb\\xfc\\x99\\x9aM\\x1c\\xe7\\x8e.-\\xde\\xda\\x00\\xde\\x14m\\x12\\xf6W$\\xcaB\\x80\\xea\\x07 m\\xe0\\xf2GQU|\\x15eo\\x18\\xd4\\xb5\\xfb\\xe8\\x96h4\\x98\\x84\\x91\\xc4z<\\xa7\\xeeg\\xe8G\\xe6G\\xa5O\\xe3cb\\xd6\\xf6\\xbeO\\x8a\\xa6\\xd6\\xaec\\x90\\xa9I\\x08!\\x14\\x8eJ\\x901\\xd4\\x01\\xd4\\xd3|\\x114\\x17\\xb6\\xba\\xb7\\x87n%\\x10\\x9dR!\\xf6y\\x18\\xe0\\tW\\x90?\\x1e?,V\\xabJZ\\x0b\\xed\\x1c\\xe6\\xa1\\xa8]j\\xf7\\xd2\\xde\\xdfL\\xd3\\\\Jr\\xccz\\x0f@=\\x00\\xe9\\x8a\\xadS]\\xd9\\\\i\\xf7\\x92\\xda^B\\xd0\\xdcDv\\xba0\\xe9\\xfe \\xfa\\xf7\\xa8kuki\\xb1\\x9b\\xf3\\x10\\x80z\\xd7H$>\"\\xf0\\x8d\\xd3\\xdd\\x12\\xf7\\xfa0F\\x8ec\\xf7\\xa4\\xb7c\\x82\\x8c{\\xed8 \\x9e\\xc7\\x15\\xce\\x1cw\\xae\\x9f\\xc9>\\x1c\\xf0u\\xd4wcf\\xa3\\xac\\x84T\\x84\\xf0\\xd1@\\xa7;\\x98v,x\\x00\\xf6\\xa9\\xa9\\xd2\\xdb\\xdcq\\xeaP\\xf0\\x9ai\\xd2\\xea\\xc6\\x1dWI\\xb9\\xd5\\x11\\x90\\x98\\xa0\\xb7$\\xb0a\\xc98\\x04dc?\\x95u\\xf77>\\x1c\\xb1C\\xbb\\xe1\\xe6\\xa4\\x14w\\x96\\xdc\\xff\\x00<\\x9a\\xe3\\xfc(\\x96\\xff\\x00\\xdb\\xb1\\xbd\\xd6\\xae\\xdaB\\xaa\\xb6\\xdb\\xa4\\xe0\\x87<\\x01\\x9e\\x9c\\x82z\\xe3\\x81^\\x92l|i\\x1c&m\\x0b\\xc4\\xf6Z\\xb4#\\xa0\\x964\\xc9\\xfcFG\\xea+\\x9e\\xb3J_\\xf0\\xe8\\xd2\\x1b\\x1ew\\xa9k\\xbe\\x1b\\x96\\xf6\\'\\xb7\\xf0\\x92\\xc2#l\\xc9\\x1b\\xdd\\xba\\xef\\x1e\\x9bGJ\\xee|?\\xe3\\xbf\\x05\\xf9k\\x17\\xf6|:D\\x98\\xe8\\xf6\\xeaW\\xfe\\xfb\\x03\\xf9\\xe2\\xb9o\\x14x\\x93\\xc4A\\x1a\\xcb\\xc4\\xba5\\x80w\\x18Y&\\xb4\\xe7\\xea\\x8e\\x0e3\\xf4\\xa9\\xfc5\\xab\\xf8\\x16uK}oC\\x8a\\xcel`\\xce]\\xe4\\x8d\\xbe\\xb99_\\xd4{\\xd2\\x9cS\\x8d\\xec\\xfeN\\xe0\\x9d\\x9e\\xe7\\xa0\\xeb\\x80k\\x1e\\x19\\xbb>\\x1am>\\xea\\xec\\xa6b!c\\x90\\x1fQ\\xe8\\t\\x19\\x1c\\xf7\\xaf\\x12\\xd15;\\xdf\\x08x\\x8a+\\x96\\x86X\\xa4\\x85\\xb6\\xcf\\x03\\xa9R\\xc8~\\xf2\\x90\\x7f?\\xa8\\x15\\xec\\xd1\\xf8\\x03\\xc2\\x97q-\\xde\\x9bn#V\\x19Y\\xec\\xae\\x9d\\x7f\"\\x1a\\xbc\\xd7\\xe2/\\xd9-\\xf5\\x03\\xa6\\x8dOU\\xbb\\xb9\\xb2 *\\xde*\\xba\\xa8a\\x92\\x04\\x9fx\\xf1\\x8e\\xa0\\x8fz\\xce\\x8bWq\\xe8\\xca\\x9a{\\x9e\\xcdgy\\x15\\xed\\xac76\\xce\\x1e\\x19\\x90<l;\\x83\\xcd[\\x8eJ\\xf3O\\x84z\\xdb\\\\\\xe9\\x97:D\\xcd\\x97\\xb4>dY?\\xf2\\xcd\\x8f#\\xf0o\\xe7^\\x88\\x1e\\xb9\\xeaC\\x92M\\x1aE\\xdd\\\\\\xd0\\x8eJ\\x94\\x10j\\x84rU\\x98\\xe4\\xa8\\x19=\\x14\\x81\\x81\\xa5\\xa0\\x02\\x8a(\\xa0\\x02\\x8a(\\xa0\\x02\\x8a)\\x18\\xe0P\\x02H\\xe1\\x05P\\xb8\\xb8c\\x9c\\x1a\\x96\\\\\\x9a\\x8b\\xc9$\\xd0\\x05B\\x19\\xcdM\\r\\xa98\\xe2\\xad\\xc5l;\\xd5\\xa5@\\xbd(\\x028\\xa0T\\xedR\\xd1E\\x00\\x14QE\\x00\\x14QE\\x003\\xcd\\x19\"\\x94H\\xa6\\xb2\\xfe\\xd1\\xc9\\xe6\\xa5K\\x8a\\x00\\xd1\\xc8\\xa2\\xaa$\\xd5a$\\x06\\x80\\x1fE\\x14P\\x01E\\x14P\\x01E\\x14P\\x04R\\n\\xad%Z\\x90UY(\\x02\\x12h\\x0fMsM\\xcd\\x00[\\x8d\\xea\\xda\\x1c\\x8a\\xcf\\x8d\\xea\\xecM@\\x12\\xd1E\\x14\\x00PFE\\x14P\\x05)\\x93\\xady\\xbf\\xc5\\x9d\\x00\\xde\\xe8\\xf1\\xea\\xb0.e\\xb2;d\\xc0\\xeb\\x11\\xff\\x00\\x03\\xcf\\xd0\\x9a\\xf4\\xd9\\x97\\xadg\\\\\\xc2\\x93\\xc7$S\"\\xbcR)VS\\xc8`x#\\xf1\\x15p\\x93\\x83M\\t\\xab\\xab\\x1e\\x11\\xe1{\\xaf\\r\\xc9\\xe5X\\xeb\\x962@\\xec\\xd8\\x1a\\x85\\xbc\\xec\\x84d\\xf1\\xbc\\x0e0:d~#\\xbdwW\\x7f\\x08m/\\x016\\xba\\xcd\\xe2dd,\\xe0J\\xbf\\xd3\\x8a\\xf3\\xbf\\x14xx\\xf8o\\xc42Y\\\\y\\x86\\xcd\\x98<N\\xbdZ\"{g\\xb8\\xe4}Ez\\x95\\xaf\\x8f\\x14\\xd8C\\x0f\\x87t\\x1d_RX\\xe3\\t\\x1b\\xb4[\\x10\\x801\\xcbs\\x9e\\x95\\xd5S\\x99ZP{\\x99\\xabj\\x99\\xc9j\\x7f\\t\\xb5m2\\xd6K\\x85\\xbd\\xd3\\xe6\\xb7\\x8dw3;\\x98\\xb6\\x8f|\\x8c~\\xb56\\x91\\xe1\\x9f\\x04\\xd9\\xc0\\x97\\x1a\\xd7\\x88\\xe1\\xba\\x90\\x8d\\xc6+bUG\\xb7\\x03q\\xfd>\\x956\\xb7\\xa6|@\\xf1\\x93\\x05\\xbb\\xd3\\xcd\\xbd\\xa09[q\"F\\x83\\xd39l\\xb1\\xfa\\xfeB\\xa8\\x7f\\xc2\\xb7\\xd4t\\xb8\\xbe\\xdd\\xe2\\x19`\\xb4\\xd3!\\xc3\\\\4ro\\x93o\\xa2\\x809$\\xe0~5jW\\x8d\\xa5=|\\x89j\\xcfDt0k\\x9aE\\xda\\xcb\\xa5x+\\xc2\\xa9v\\xf2!I&\\x9e=\\xa8\\xaax\\xf9\\x89\\xf9\\xb1\\xf5\"\\xb9\\x0f\\x12\\xf8R\\xeb\\xc2\\xf7\\x16\\xd0\\\\\\\\\\xdb\\xcf,\\xcb\\xb8,\\x0cw\\xa1\\xef\\xc7\\\\z7|WK{\\xf1&\\xc3G\\xd3\\x06\\x9d\\xe0\\xed<[\\xc6\\x07\\xfc|L\\xb8\\xfcB\\xf5c\\xee\\xdf\\x91\\xad\\x8f\\x0ch\\xf1xcI\\x9f\\xc5\\x9e(\\x91\\xe4\\xd4eM\\xe3\\xcd;\\x9d\\x01\\xe8\\x06\\x7f\\x8d\\xb8\\x1e\\xd9\\xc7\\x1c\\xd2R\\x95=m\\xbfG\\xbb\\x06\\x94\\x8e\\x1e?\\x17\\xb5\\xed\\xbcv\\xde \\xb1\\x83V\\x8a1\\xb5%v1\\xce\\x83\\xdaA\\xd7\\xf1\\xa6\\x19\\xbc(\\xff\\x007\\xd8\\xb5\\xb8\\xcf\\xf7\\x16\\xe2&_\\xcc\\x8c\\xd7]\\xe1M\\x06\\xc7\\xc5\\x16\\xda\\xbf\\x88\\xfcEj\\x86)\\xa4c\\x12+\\x14\\x11\\xaa\\x8eH\\xc6:p3\\xecOz\\xca\\xf0\\x87\\x854\\xef\\x10\\xf8wY\\xd4&\\x8eQ$\\x0c\\xe2\\xd8,\\x84\\x05\\xc2n\\x19\\xf5\\xc6GZ\\xbex+\\xee\\xad\\xbd\\xb6\\x15\\x9b\\xb1\\x8c\\x9e \\xb1\\xd3Hm\\x13G\\x8a\\t\\xc7\\xdd\\xb9\\xbb\\x93\\xcf\\x91}\\xd4\\x10\\x15O\\xbe\\rS\\x8a\\xce\\xefU\\xd4\\xa0\\x9bQ\\xb8hV\\xf6]\\xbfm\\xbb\\r\\xb0\\x9f\\xf7\\xbb\\xe3\\xf2\\xfa\\n\\xec\\xfc\\t\\xe1\\xcd+\\xc4\\xde\\x0c\\xd4\"{X\\xbf\\xb4\\x94\\xb4bs\\xf7\\x97#(}\\xb9\\xc8\\xe3\\xd2\\xb4|!\\xa8\\xda\\xf8\\xc3\\xc3\\xd2\\xf8__\\x03\\xed\\x96\\xcb\\xb1\\t\\xe1\\x8a\\xaf\\x01\\x87\\xfbK\\xd0\\xfbz\\xf3I\\xd4Q\\xbf*\\xdb~\\xfe\\xa0\\xa2\\xf4\\xbb\\xdcAgs\\xe0\\r>[k\\xdd*\\xdfX\\xd0%m\\xf2\\\\G\\x18\\xf3W=\\xddO\\x07\\xeb\\xc0\\xf7\\x15I|9\\xe1\\xcf\\x10f\\xef\\xc1\\x9a\\xcbiw\\xe4d[\\xf9\\x852}1\\xf7\\x87\\xd4d{U{\\x0f\\x15\\xea\\xbe\\x00\\xd4\\xe5\\xd0\\xb5\\xa4k\\xeb\\x18\\x8e\\x17?x!\\xe8T\\x9e\\xa0\\x8f\\xe1=9\\x19\\x18\\xac\\xef\\x11\\xe8\\xbaV\\xb70\\xd4<\\x1b\\xba\\xe1\\x9b\\xe7\\xb8\\xb0\\x8e2\\x1e\\x1f\\xf6\\x82\\xfag\\x8c\\x0c\\xe0\\x91\\x8e*\\x12w\\xbb{\\xf5\\xe9\\xf3\\x1bj\\xda}\\xc5\\rk]\\xf1F\\x97#\\xe9:\\xed\\xc1\\x94+\\x061]\\xc6\\x92\\xab\\x80x \\x91\\xc88\\xea\\x0f\\xa8\\xae\\xa3\\xc3:\\x87\\x81\\xfcH\\x12\\xd7S\\xd1\\xacl/\\x8f\\x00\\x01\\xb29\\x0f\\xfb,:\\x13\\xe8y\\xf75\\xcex[\\xc5rxv\\xfd\\xad5\\xabg\\xba\\xb0\\x90\\xe2Xn\\x13s\\xc4\\x7f\\xbc\\xa1\\xbfU\\xef\\xf5\\xafO\\x97\\xc1^\\x11\\xf1-\\x92][\\xd8\\xdb\\x98\\xe6\\x1b\\x96kS\\xe5\\xe7\\xfe\\xf9\\xe3\\xf0\"\\x8a\\xadGF\\xad\\xe6\\x82)\\xbdW\\xe2D\\xbf\\r\\xb4\\xfd>S6\\x83\\x7f\\xa8\\xe92\\x93\\x9f\\xdcO\\xb9\\x0f\\xd5[9\\x15\\xc9x\\xe2\\xc7\\xcd\\x86\\xe2=b}\\x1fQ\\xbe\\xb6\\x84\\xec\\xb8\\x82qmt\\x80\\x0c\\x8d\\xf1\\x9c\\x87\\x1d\\xf6\\x8c\\x1fA]u\\xb7\\x87|A\\xe1\\x95\\xc6\\x87\\xaa\\rF\\xcdzYj\\'\\x0c\\x07\\xa2H:}\\x08\\xc5y\\x97\\xc4\\x1b\\x0bs\\xa8K\\xa9\\x98.\\xb4\\xfb\\xe9\\xe4\\x1eu\\x8d\\xcc}[\\x1c\\xbcr\\x0f\\x95\\x97\\x8f\\xcc\\xfe\\x15\\x9d+\\xb9n\\\\\\xb4[\\x15>\\x1a]5\\xaf\\x8elT\\x1f\\x96\\xe0<,=r\\xb9\\xfe`W\\xb9\\x11^\\x1d\\xf0\\xde\\xcd\\xae\\xfcy\\xa7m\\x19\\x10\\x96\\x99\\x8f\\xa0U?\\xd4\\x81\\xf8\\xd7\\xba\\xbaQ\\x8a\\xb7:\\xf4\\n{\\x0c\\x07\\x152IP\\x91@5\\xcah^\\x8eJ\\x9d[5A\\x1e\\xa7I(\\x02\\xd5\\x14\\xc5j}\\x00\\x14QE\\x00\\x14\\x84f\\x96\\x8a\\x00g\\x94)\\xc1@\\xa5\\xa2\\x80\\n(\\xa2\\x80\\n*)\\xee\"\\xb6\\x88\\xc94\\x88\\x88:\\xb3\\x1c\\x01\\\\\\xce\\xa3\\xe3\\x8bxr\\x96\\x11\\x19\\xdb\\xfb\\xe7\\x84\\xff\\x00\\x13Y\\xce\\xac)\\xab\\xc9\\x99\\xce\\xb4)\\xab\\xc9\\x9dWA\\xda\\xb25\\x0f\\x13\\xe9\\xbavU\\xe7\\x12H?\\x82/\\x98\\xff\\x00\\x80\\xfck\\x84\\xd45\\xddCS\\xc8\\xb8\\xb8a\\x19\\xff\\x00\\x96i\\xf2\\xaf\\xe9\\xd7\\xf1\\xcdf\\xe2\\xb8*f\\x1d \\xbeg\\x9fS0\\xe9\\x05\\xf3:k\\xff\\x00\\x1e]\\xcb\\x95\\xb1\\x81 _\\xef?\\xcc\\xdf\\x97O\\xe7Y\\xbf\\xf0\\x95\\xeb_\\xf3\\xfc\\x7f\\xef\\x85\\xff\\x00\\n\\xc84b\\xb8\\xa5\\x88\\xab\\'{\\xb3\\x8eX\\x9a\\xb2w\\xe6g\\xa3s\\x93S&h\\xf2\\xf95\"%}\\x01\\xf4\\x04\\x91\\x93Vc&\\xa1D\\xa9\\xa3\\x14\\x01iO\\x14\\xb4\\xd4\\xa7P\\x01E\\x14P\\x01E\\x14P\\x03^\\xaaKV\\xdf\\xee\\xd5Yh\\x02\\xa4\\x95\\x1ei\\xf2TD\\xd0\\x04\\xd1\\x9a\\xb9\\t\\xe9Y\\xf1\\x9ej\\xec\\'\\xa5\\x00^\\x1d(\\xa4^\\x94\\xb4\\x00QE\\x14\\x00\\xc9FEQ\\x95:\\xd6\\x83\\x0c\\x8a\\xa7(\\xeb@\\x1c\\x97\\x8c\\xfc,\\x9e(\\xd1\\xcc+\\xb5oa\\xcb\\xdb\\xc8x\\xc3\\x7ft\\xfb\\x1e\\x9f\\\\\\x1a\\xf2}#\\xc5\\xfe \\xf0\\xab\\x1b\\x1by\\xccq\\xc1!\\xdfk2\\x06\\x01\\xbb\\x8fQ\\xd3\\xb1\\x1e\\xb5\\xefn+\\x85\\xf8\\x81\\xe0_\\xed\\xc8\\xdbS\\xd2\\xe3\\x1f\\xda1\\xaf\\xef#\\x1c}\\xa1G\\xfe\\xcc?Q\\xc7\\xa5tQ\\xa8\\xbe\\tlD\\xd3\\xddnu\\xde\\x17\\xf1\\x1c> \\xf0\\xec:\\xb6\\xd1n\\x847\\x9a\\x1d\\xb0#e\\xe1\\xb9\\xf4\\xef\\x9a\\xf3O\\x1cx\\xae\\xe3\\xc6\\xba\\xa4zF\\x83\\x0c\\xd7\\x16p\\xb6@\\x89I3\\xbf\\xf7\\xb1\\xd9G8\\xcf\\xd7\\xd2\\xb9\\xed\\'XmA,\\xf4\\r{U\\xb8\\xb2\\xd1ab\\x19c\\x8c\\x0e\\xf9\\xc3\\xe3\\x9e\\xbcd\\xe7\\x1e\\x9d\\xeb\\xd7\\xfc\\x1b\\xab\\xf8G`\\xd3\\xbc74\\t \\x191\\x95+$\\x98\\xef\\x96\\x19o\\xd7\\xf0\\xab\\xe5T\\x9b\\x95\\xaf\\xdb\\xb17\\xe7V\\xb9\\xc7\\xf8w\\xe1]\\xfcSC\\xa8\\xebsCo\\x14\\x0e&6\\xc0y\\x8c\\xc1y\\xc3\\x1e\\x80\\x1cv\\xcdr\\xfe\\'\\xf1\\x8e\\xa1\\xe2\\xc9\\xd1\\xee\\xb6\\xc5m\\x19\\xccV\\xf1\\x9f\\x95}\\xcf\\xa9\\xf7\\xfc\\xb1^\\xc9\\xe3\\xed\\\\h\\xde\\x0f\\xbe\\x9bp\\x12J\\x9eD^\\xec\\xfc\\x7f,\\x9f\\xc2\\xb8\\x1f\\x87\\xbf\\x0e\\xc6\\xa7\\x1cZ\\xb6\\xb5\\x19\\x16g\\xe6\\x82\\xdc\\xff\\x00\\xcb_Fo\\xf6}\\x07~\\xbd:\\xdd:\\xb7N\\xa4\\xfal\\'\\x1dyP\\xed_\\xc4\\xd6\\x9ao\\xc3\\x1d7F\\xb0\\x98=\\xd5\\xdd\\xba\\xf9\\xc1O\\xfa\\xb4<\\xbe}\\t9\\x18\\xf4$\\xd5\\xaf\\x86Z\\x8c6\\xfe\\x11\\xd7\\xd6W\\x0b\\xe4fV\\xc9\\xc7\\xcac\\xc7\\xf3R*\\x87\\xc5\\xed:;Mv\\xc6\\xe6\\x18\\xc2$\\xf6\\xfb\\x08^\\x07\\xc8\\x7f\\xc1\\x80\\xfc+[\\xe1\\xff\\x00\\x82-\\xee\\xfc-ws\\xa9!\\'T\\x8c\\xc6\\x83\\xa6\\xc8\\xf3\\xc3}r\\x01\\xfc\\x05\\x0f\\x93\\xd9]\\xf5`\\xaf\\xcdn\\xc73\\xf0\\xdb\\xc4\\x91\\xf8\\x7f]\\xf2\\xef$\\x11\\xda^ \\x8d\\xd8\\x9c\\x04a\\xf7X\\xfbrF}\\xea\\x97\\x8a\\xa5:w\\x8f5\\t\\xf4\\xf9\\x8cn\\x97>drG\\xc6\\xd6 1\\xc7\\xb6I\\xfa\\xd5\\t4Y\\xad|J\\xba5\\xd0\\xfd\\xe8\\xbaX\\x1b\\x8e\\xa0\\xb0\\x00\\xfd\\x08 \\xfe5\\xec\\x9e1\\xf05\\xaf\\x89,\\xb7\\xc0\\xa9o\\xa8B\\xb8\\x8aP8`:+z\\x8f\\xe5W9\\xc2\\x13R\\xee\\x89I\\xb5n\\xc7\\x16\\xd6w\\xff\\x00\\x14t\\x95\\xbd\\x8f\\xec\\xd0\\xeaZq0\\xba\\xf2\\x04\\xea@`s\\xfc\\'9\\xe3\\x91\\xc9\\xe4W7\\xa6\\xdc\\xea>\\x05\\xf1D\\x13\\xdeZ\\xcb\\x0c\\x91\\x1cI\\x13\\x0f\\xf5\\x91\\x9e\\x0e\\x0fC\\xeb\\x91\\x9e@\\xae\\x9f\\xe1]\\xe4\\xbaG\\x8ao\\xb4{\\xd40\\xcb:s\\x1bv\\x91;~*I\\xfc+\\xd3u\\x9d\\x0e\\xc3_\\xb26\\xba\\x95\\xba\\xcd\\x19\\xe5I\\xfb\\xc8}A\\xeck9U\\xf6rp\\xb5\\xe2R\\x8f2\\xbfR\\x0b\\x9d;F\\xf1^\\x99\\x14\\xd7\\x16\\xd0^[\\xcc\\x81\\xa3\\x90\\x8ep}\\x1b\\xa8\\xaeb?\\x07\\xea\\xfe\\x0f\\xb8{\\xaf\\t]}\\xa6\\xd5\\xce\\xe94\\xdb\\xa6\\xe1\\xff\\x00\\xdd~\\xc7\\xdc\\xe3\\xdc\\x9a\\xaf\\xa7}\\xb7\\xe1\\x9d\\xf7\\xd9o\\xdd\\xee<9r\\xff\\x00\\xbb\\xb9\\xc6M\\xab\\x9f\\xef\\x0e\\xc0\\xfbq\\xdcs\\x91Y\\xbf\\x13<O\\xad\\xd9k\\x16\\xf0X]\\xbd\\xb5\\x84\\x90,\\x91In\\xc3\\xf7\\xc4\\xf5;\\xbd\\x07\\x1c\\x0f\\xaf5\\x94#\\'.X\\xbd\\x19M\\xab]\\xadI\\xbcq\\xaf\\x0f\\x13xi\\xe3\\xb4\\xb9\\x93M\\xbd\\xb1\\x7f2\\xf3O\\xb8o*F\\\\c\\x8f\\xef\\x00pF:\\xfdq^Yqwss\\x1cIqq4\\xb1\\xc2\\x08\\x8dd\\x90\\xb0@y8\\xcf@kCX\\xd7\\xf5\\x1dt[\\xff\\x00j\\\\\\xf9\\xe6\\xddJ\\xa3\\x14\\x01\\xbf\\x12:\\x9f\\xadu\\xfe\\x00\\xf8u&\\xa9$Z\\xa6\\xb3\\x11K\\x15\\xc3E\\x03\\x8ef\\xf7#\\xb2\\xff\\x00?\\xa7^\\xa8\\xa5B\\x17\\x91\\x93\\xbc\\xde\\x86\\xf7\\xc2o\\n\\xbe\\x99\\xa5\\xcb\\xac]\\xc6V\\xe2\\xf5B\\xc4\\xa4r\\xb1u\\x07\\xea\\xc7\\x9f\\xa0\\x15\\xde\\xbaU\\xa0\\xa1T\\x00\\x00\\x03\\xb55\\x96\\xbc\\xf9\\xcd\\xcd\\xb6\\xce\\x84\\xac\\xac\\x8a.\\x95\\x19\\x15m\\xd2\\xa1)R2!S#\\xd4X\\xa5\\x06\\x80-#\\xd4\\xea\\xd5M\\x1e\\xa4I(\\x02\\xdd\\x15\\x1a\\xc9O\\x04\\x1a\\x00Z(\\xa4\\xc8\\x1dM\\x00\\x03>\\xd4VE\\xff\\x00\\x89\\xf4\\xbd8\\x15\\x92\\xe5d\\x90\\x7f\\x04_1\\xfd:~8\\xae_P\\xf1\\xd5\\xd5\\xc6R\\xc2!n\\x9f\\xdfo\\x99\\x8f\\xe1\\xd0~\\xb5\\xcfS\\x13N\\x9e\\xefS\\x9e\\xa6&\\x9d=\\xde\\xa7mw\\xa8[XDd\\xba\\x9d\"_Rq\\x9f\\xa7\\xadr\\xba\\x9f\\x8e\\x89\\xcczl^\\xdel\\x83\\xf9\\x0f\\xf1\\xfc\\xab\\x91\\x9a\\xe6[\\xa9<\\xd9\\xe5y_\\xfb\\xccri\\xb5\\xc1W\\x1d9i\\r\\x11\\xe7\\xd5\\xc7NZCE\\xf8\\x96.\\xefno\\xa4\\xf3.\\xa6y\\x1b\\xb6\\xe3\\xc0\\xfa\\x0e\\xd5\\x05%-p\\xcaNN\\xec\\xe2\\x94\\x9c\\x9d\\xd8Sii)\\x124\\xd2\\xe2\\x83E\\x0c\\x19\\xea\\x04ri\\xc2\\x98O&\\x9c\\r}1\\xf4\\xe4\\xebR\\xa5@\\x86\\xa6J\\x00\\xb0\\x94\\xeajS\\xa8\\x00\\xa2\\x8a(\\x00\\xa2\\x8a(\\x01\\x1b\\xa5T\\x97\\xbd[n\\x95R^\\xf4\\x01NJ\\xaej\\xc4\\xb5\\\\\\xd0\\x03\\xd6\\xaeBzU\\x14\\xab\\x90\\xf6\\xa0\\r\\x18\\xcf\\xcbN\\xa6E\\xd2\\x9f@\\x05\\x14Q@\\x01\\xa8%\\x1djz\\x8eA@\\x14d\\x15\\x15X\\x90T&\\x808\\xbf\\x19\\xfc;\\x87\\xc4;\\xef\\xf4\\xcd\\x96\\xfa\\x9e2\\xc0\\xf0\\x93\\xfd}\\x1b\\xfd\\xae\\xfd\\xeb\\xc9|\\xab\\xcd\\x0bX\\x8dn\\xa2\\x9a\\xd6\\xea\\xd6Ur\\xa7\\xe5u\\xc1\\xcf\\x1f_^E}\\x1e\\x86\\xa9k~\\x1a\\xd2\\xfcKj \\xd4\\xed\\x84\\x84\\x0c$\\xaav\\xc9\\x1f\\xd1\\xbf\\xa7#\\xda\\xba)WqV\\x96\\xa8\\xceP\\xbe\\xabs\\x87:\\xd5\\x8f\\xc4\\x8f\\x16\\xdaGu\"\\xda\\xe8\\xda|^{Cp\\xe1\\x1ay;\\x8e\\xbc\\x81\\xd3\\xe8\\x0f\\xadwV\\x1e4\\xf0\\xe5\\xfd\\xd2\\xd9\\xd9j\\x96\\xcf);Q\\x01#>\\xc3<\\x1f\\xc2\\xbc\\xb7_\\xf8K\\xabi\\xcc\\xd2\\xe9L\\xba\\x95\\xb8\\xe4/\\x0b*\\xfe\\x07\\x86\\xfc?*\\xe2\\xae-\\xe7\\xb2\\x98\\xc3u\\x14\\xb6\\xf3)\\xe5dR\\x8c?:\\xdb\\xd8\\xd3\\xa9\\xf0\\xcbBy\\xa5\\x1d\\xd1\\xeb\\x7f\\x16m\\x0e\\xa3\\xa8\\xf8r\\xc9>\\xfd\\xc4\\xcf\\x10\\xc7\\xa3\\x14\\x19\\xafF\\xb7\\x82;[h\\xe0\\x89B\\xc7\\x1a\\x84P;\\x000+\\xc1\\xe5\\xf1\\xf5\\xc5\\xfe\\xb5\\xa3j\\x1a\\x95\\xaa\\xc8t\\xb0p\\xb1\\xb9\\x1ei\\xf59\\xce\\x0f\\x00\\xd3u\\x9f\\x1f\\xeb\\x9a\\xa6\\xa7%\\xcd\\xbd\\xfd\\xcd\\xa4\\x1b\\xbfu\\x04Rm\\x08\\xbe\\xf8\\xfb\\xc7\\xdc\\xd4\\xba\\x13\\x92Q\\xec\\ni6\\xce\\xcb\\xe2\\x16\\x98\\xb6\\x9e6\\xf0\\xfe\\xae\\xa0\\x05\\x9a\\xe28\\xa5?\\xed+\\x02\\xa7\\xf2$~\\x15\\xe8\\x97\\x97\\xd6\\xda}\\xb9\\x9e\\xf6\\xe2+x\\x87W\\x91\\x82\\x81\\xf9\\xd7\\x89\\xea\\x9e<}s\\xc2\\xd6\\xfav\\xa7\\x1c\\xaf\\x7f\\x04\\xeb*\\xdd P\\x0e\\xde\\x84\\x8f\\\\\\x128\\xfa\\xd5O\\x19x\\xc6O\\x17Oj\\xc6\\xdd\\xad\\xe3\\xb7R\\x04fM\\xc1\\x98\\xff\\x00\\x17N\\x0f\\x18\\xefG\\xb0\\x94\\xd2O\\xa0\\xf9\\xd2\\xbbGo\\xe3H-u\\x18\\xe1\\xf1g\\x86\\xae`\\xb8\\xbb\\xd3YZc\\x0b\\x06\\xdc\\x83\\xfb\\xd8\\xee9\\xeb\\xfc$\\xd4\\x9e2\\xf1\\xb4\\x8d\\xe0\\xdb\\x1b\\xed\\n\\xf1!\\x92\\xf1\\xc0|02\\xc60r\\x00=\\xc3\\x0cf\\xbc\\xa2\\xd7P\\xb9\\xd3\\xfc\\xd3is%\\xbf\\x9c\\x9e\\\\\\x9b\\x1bn\\xf5\\xf4>\\xd5wJ\\xf0\\xce\\xaf\\xac\\xb8\\xfe\\xcf\\xd3\\xa6\\x95O\\x1ea]\\xa9\\xff\\x00}\\x1e+_`\\x95\\x9c\\x9e\\x88\\x8ev\\xefe\\xb9j\\xdf\\xc6\\x9a\\xe4V\\xd76\\xf3^\\xb5\\xe47\\x08Q\\xe3\\xbb\\x1eh\\x19\\xee3\\xdf\\xf4\\xf6\\xac\\xcb[-C]\\xbfX-!\\x9a\\xee\\xe1\\x80\\x01T}\\xd1\\xdb\\xd9@\\xfc\\x00\\xafF\\xd1>\\x0f\\xf2\\xb2\\xeb\\xb7\\x99\\x1f\\xf3\\xc2\\xd8\\xe0~,\\x7f\\xa0\\x1fZ\\xf4M3H\\xb1\\xd1\\xadE\\xbe\\x9dm\\x15\\xbcC\\xa8A\\xd7\\xeaz\\x93\\xeejg\\x88\\xa7\\x0b\\xf2!\\xa87\\xf1\\x1cG\\x84\\xbe\\x16\\xdb\\xe9\\xcf\\x1d\\xee\\xb8R\\xea\\xe8\\x10\\xcb\\x00\\xe6(\\xcfl\\xff\\x00x\\xfe\\x9e\\xc7\\xadz-d\\xdfx\\x93K\\xd3\\xf2\\'\\xbcB\\xe3\\xf8\\x10\\xeeo\\xc8W?{\\xf1\\x1a%\\xc8\\xb2\\xb3y=\\x1aV\\xda?.\\x7f\\xa5y\\xb5\\xb1P\\xbd\\xe7 u\\xa9S\\xdd\\x9d\\xae)\\x0e+\\xcb\\xae\\xfcs\\xac\\xdcd$\\xb1\\xc0\\x0fh\\xd3?\\xa9\\xcdb\\xddj\\xfa\\x85\\xde|\\xfb\\xeb\\x99\\x07\\xa1\\x90\\xe3\\xf2\\xae9c\\xe0\\xb6W0\\x96>\\x0bes\\xd8\\xa7\\xb9\\xb7\\x87>l\\xf1G\\xfe\\xfb\\x81\\xfc\\xeb>msJ\\x8f;\\xf5+A\\xff\\x00mA\\xaf\\x1d|\\x1eO\\'\\xd4\\xf3Q\\x1cT<{{#\\'\\x8fodz\\xe3\\xf8\\x97E\\x1du;_\\xc1\\xf3P\\x9f\\x15h\\xa3\\xfebp~\\x04\\x9f\\xe9^JM0\\x9a_^\\x9fd\\x1f^\\x9fdz\\xd9\\xf1\\x86\\x88\\x9f\\xf3\\x11\\x88\\xfd\\x03\\x1f\\xe9Q\\xbf\\x8e\\xb48\\xff\\x00\\xe5\\xed\\x9b\\xfd\\xd8\\x98\\xff\\x00J\\xf2R\\xf4o\\xa1\\xe3\\'\\xd1 \\xfa\\xe4\\xdfDz\\x9b\\xfcG\\xd2#\\xfb\\x89w!\\xf6\\x8c\\x0f\\xe6j\\xb4\\x9f\\x13\\xe2\\x1f\\xf1\\xef\\xa6\\xc8\\xc7\\xb1\\x92P?\\x90\\xaf4\\xf3)\\xe2J\\x89b\\xaa\\xbd\\x9d\\x88x\\xba\\xafgc\\xb8\\xb9\\xf8\\x8f\\xabM\\xc41\\xdb\\xdb\\x8fP\\xa5\\x8f\\xeb\\xfe\\x15\\x8du\\xad\\xea\\x1a\\x87\\xfc}\\xdeM*\\x9f\\xe1\\xdd\\x85\\xfc\\x87\\x15\\x86%\\xa9\\x12Z\\xe7\\x9dZ\\x92\\xdd\\xb3\\x9eujKv\\xcd\\x14qR\\t*\\x82KR\\xa4\\x95\\x8d\\x8c,]\\x0fO\\x0fU\\x04\\x94\\xf1%+\\x05\\x8bY\\xa35\\x00\\x92\\x97\\xcc\\xa4\"l\\xd1\\x9a\\x87\\xcc\\xa4\\xf3(\\x02RisPo\\xa7\\xef\\xa1\\x89\\x9e\\xa4O&\\x94\\x1a\\x88\\x9eM(5\\xf4\\xc7\\xd3\\x96\\x10\\xd5\\x88\\xcdTCVc=(\\x02\\xdct\\xfa\\x8e:\\x92\\x80\\n(\\xa2\\x80\\n(\\xa2\\x80\\x11\\xbaUI{\\xd5\\xa7\\xfb\\xb5R^\\xf4\\x01NJ\\x80\\xd5\\x89*\\x03@\\x02U\\xc8;UT\\x15n.\\xd4\\x01z.\\x95%G\\x17J\\x92\\x80\\n(\\xa2\\x80\\nk\\x8c\\x8au\\x06\\x80*H*\\xb3\\x8a\\xbb \\xaa\\xce(\\x02!S!\\xa8M<\\x1a\\x00\\xb7\\x1b\\xd3/4\\xfb=J\\x1f.\\xf6\\xd6\\x1b\\x88\\xf1\\xf7e\\x8c0\\xfdi\\x88\\xf5:=\\x17\\xb6\\xc0r\\xd7\\xbf\\x0b|1vI[\\'\\xb6c\\xde\\tY\\x7fN\\x95\\x957\\xc1\\x9d!\\x9b0\\xea\\x17\\xf1\\x8fBQ\\xbf\\xf6Z\\xf40\\xd9\\xa8./m\\xad\\x17u\\xc5\\xc4Q\\x0fWp\\xbf\\xce\\xadV\\x9c~\\xd1\\x0e1\\xdd\\x9c\\x02|\\x18\\xd3\\x01\\xf9\\xb5K\\xd2=\\x82\\x0f\\xe9W\\xad\\xbe\\x11\\xf8z\\x12\\x0c\\xa6\\xf2r;<\\xd8\\x07\\xfe\\xf9\\x02\\xb5\\xee\\xfcq\\xa3Z\\xe4-\\xc3N\\xc3\\xb4(O\\xeb\\xd2\\xb0/>\"\\xdcI\\x95\\xb1\\xb4H\\xc7f\\x94\\xee?\\x90\\xff\\x00\\xeb\\xd6U1\\xea;\\xcc\\xc2u\\xe8\\xc3vt\\xd6\\x1e\\x0f\\xd04\\xb2\\x1a\\xd3J\\xb5G\\x1f\\xc6\\xe9\\xbd\\xbf6\\xc9\\xa7\\xea\\x1e\\'\\xd2\\xb4\\xdc\\xac\\xb7(\\xce?\\xe5\\x9c\\x7f1\\xfd:~5\\xe6\\xb7\\xda\\xf6\\xa3\\xa8\\xe7\\xedW\\x92\\xb2\\x1f\\xe0\\x07j\\xfeB\\xa8\\x0c\\n\\xf3\\xeaf\\r\\xfc?{9\\xa7\\x8f\\xb6\\x90Gi\\x7f\\xf1\\nF\\xca\\xe9\\xf6\\xa1\\x07\\xf7\\xe69?\\xf7\\xc8\\xff\\x00\\x1a\\xe6\\xefu\\xcdGQ\\xcf\\xdan\\xe5e?\\xc0\\x0e\\xd5\\xfc\\x85g\\xe6\\x8c\\xd7\\x14\\xf1\\x15\\'\\xbb8\\xe7\\x88\\xa9?\\x89\\x87\\x02\\x90\\x9aBi\\x84\\xd6F M0\\x9a\\t\\xa8\\xc9\\xa6\\x90\\xd2\\x11\\xcdB\\xe6\\x9eMFj\\x92)!\\x86\\xa251\\x14\\xdd\\xb5H\\xa4Bi0jm\\x94l\\xa7q\\xdc\\x83\\x06\\x97\\x9a\\x93e&\\xcaw\\x1d\\xc6\\x82i\\xc1\\xcd&(\\xc5!\\x13$\\x95*IU3N\\x0fI\\xa14^\\x12\\xd3\\xc4\\xb5DIK\\xe6\\xfb\\xd4\\xf2\\x93\\xca_\\x12\\x8fZ_8z\\xd5\\x0f?\\xde\\x97\\xcd4\\xb9C\\x94\\xbb\\xe7\\xd2\\x89sT\\xc3\\x93S\\xc7\\x9a\\x1a\\xb0\\x9a\\xb1d=I\\x9a\\x80qN\\xdfPK=P\\x9eM(4\\xc7<\\x9a\\x01\\xaf\\xa5>\\x94\\xb3\\x19\\xabQ\\x9a\\xa7\\x19\\xabQ\\x1a\\x00\\xbb\\x1dKP\\xc5SP\\x01E\\x14P\\x01E\\x14P\\x03_\\xee\\xd5Ij\\xdb\\xfd\\xda\\xab%\\x00T\\x92\\xa1\"\\xacH*\"(\\x01\\x10U\\x98\\xaa\\x04\\x15b!@\\x17\"\\xa9j\\x0f1!\\x88\\xbc\\x8c\\x11\\x00\\xc9,p\\x05sz\\x9f\\x8f,mKGd\\xa6\\xeeA\\xc6T\\xe1\\x07\\xe3\\xdf\\xf0\\xa8\\x9dH\\xc1^L\\x89\\xd4\\x8c\\x15\\xe4\\xecu]\\xba\\xd5;\\xbdR\\xca\\xc4f\\xee\\xea\\x18\\xbd\\x99\\xb9\\xfc\\xab\\xcd\\xef\\xfcY\\xaa\\xea\\x19\\x06\\xe0\\xc3\\x19\\xfe\\x08~_\\xd7\\xadc\\x9c\\x92X\\x92X\\xf5$\\xe75\\xc3S\\x1e\\x96\\x90W8jf\\ti\\x05s\\xd1.\\xfc}\\xa5\\xc1\\x95\\x81g\\x9c\\x8e\\x9bW\\x00\\xfe\\'\\x15\\x8fs\\xf1\\x1e~~\\xcfa\\x1a\\x8fY\\x1f?\\xa0\\x15\\xc8\\x9a\\x8d\\xc5sK\\x19U\\xf9\\x1c\\xd2\\xc6U~GC7\\xc4-e\\xbe\\xeaZ\\xa7\\xd22\\x7f\\x99\\xaa\\x8d\\xe3\\xbdp\\xff\\x00\\xcbh\\x07\\xd2\\x11X\\x8e*\\x17\\x15\\x1fX\\xa8\\xfa\\xb2>\\xb1Q\\xfd\\xa6n\\x7f\\xc2w\\xad\\xff\\x00\\xcfX\\x0f\\xd6\\x11J<}\\xad\\x0f\\xe2\\xb6?\\xf6\\xc6\\xb9\\xe2)\\x86\\xab\\xdb\\xd4\\xee\\xc6\\xab\\xd4\\xee\\xce\\x9b\\xfe\\x13\\xfdo\\xb3\\xdb\\x8f\\xa4\"\\xa3\\x7f\\x1b\\xeb\\xb2\\x7f\\xcb\\xe8O\\xf7#Q\\xfd+\\x9d\\xa5\\x06\\x93\\xadQ\\xf5bu\\xaa>\\xac\\xd6\\x9b_\\xd5.\\x81\\x13j7,\\x0fP$#\\xf9U2\\xe5\\xce\\xe6%\\x9b\\xd4\\x9c\\xd4\\x00\\xd3\\xc1\\xac\\x9b\\x93\\xdd\\xdc\\xcd\\xcaOwr`i\\xd9\\xa8A\\xa7\\x03Sb,K\\x9a3L\\xcd\\x19\\xa5`\\xb0\\xfc\\xd1\\x9afi\\t\\xa2\\xc1a\\xc4\\xd3I\\xa6\\x93M&\\xaa\\xc3\\xb0\\xa4\\xd3\\t\\xa0\\xd2S(i\\xa6\\xe2\\x9dF(\\x01\\xb8\\xa3\\x14\\xfcQ\\x8a.\\x036Rl\\xa91F(\\xb8\\xaeG\\xb2\\x9aR\\xa5\\xc5&(\\xb8\\xeeDR\\x9aR\\xa7\\xd9M\\xd9N\\xe3\\xb9\\\\\\x8an\\rY\\xf2\\xe8\\xf2\\xa9\\xdc9\\x8a\\xdc\\xd1\\x83V|\\x8ap\\x86\\x8ed>dV\\njT\\x8c\\xd4\\xe2\\x1a\\x94F\\x05\\'\"\\\\\\x88\\xa3\\x8a\\xa7\\x00\\n8\\x14\\xc7\\x90\\n\\x8dY\\x1a\\xb1d\\x90\\x01Qy\\xde\\xf5Zk\\x8e\\xbc\\xd5o\\xb4{\\xd5\\xc6\\x1a\\x1aF\\x17G\\xb6\\xb9\\xe4\\xd0\\r5\\xcf&\\x80k\\xe8\\x0f\\xa0,Fj\\xdcF\\xa9Fj\\xdcF\\x804\"\\xedS\\x8a\\xab\\x15Z\\x1d(\\x00\\xa2\\x8a(\\x00\\xa2\\x8a(\\x01\\x1b\\xa5V\\x90u\\xabF\\xa1\\x90P\\x057\\x15\\x11\\x15a\\xc5dk:\\xfd\\x86\\x8a\\x87\\xed2\\xee\\x9b\\x19XS\\x97?\\xe0=\\xcd)IE]\\xbb\"e%\\x15v\\xec\\x8d\\x00?\\xc6\\xb0uo\\x1bYi\\xbb\\xa2\\xb3\\xc5\\xdd\\xc0\\xeb\\xb4\\xfc\\x8b\\xf5n\\xff\\x00A\\xf9\\xd7\\x1d\\xacx\\xa6\\xff\\x00X\\xcc{\\xbe\\xcfjzC\\x19\\xeb\\xfe\\xf1\\xef\\xfc\\xbd\\xab!\\x05y\\xf5\\xb1\\x8fh}\\xe7\\x05lc\\xda\\x1fy\\xa7\\xa9k\\x97\\xda\\xc3\\xe6\\xf2vd\\x07+\\x12\\xfc\\xa8\\xbf\\x87\\xf59\\xaa\\xc9P\\xadL\\x95\\xe7\\xcaNN\\xed\\xdd\\x9e|\\xa4\\xe4\\xee\\xdd\\xd9 \\xa5\\xa4\\x14\\xfa\\x831\\x86\\x98EHi\\xa4R\\x11\\x03\\x8a\\x89\\xc5Y\"\\xa2\"\\x9a)\\x15\\xc8\\xa8\\xc8\\xa9\\xdcS\\x08\\xaaE&CE8\\x8an)\\x8cPi\\xc0\\xd3)h\\x02Pi\\xc0\\xd49\\xa7f\\x81X\\x974\\xb9\\xa8\\xf3K\\x9aV\\x0b\\x0f\\xcd&i\\xb9\\xa4\\xa6\\x03\\xb3M\\xa2\\x8a\\x06\\x14\\x94\\xb4P\\x01F(\\xa7P\\x02b\\x8cR\\xe2\\x97\\x14\\x08n)qN\\xc5\\x18\\xa4!\\x98\\xa3\\x14\\xfcQ\\x8aW\\x01\\x98\\xa3e:\\x96\\x8b\\x88n\\xcaP\\x82\\x96\\x974\\x00\\x9b\\x05.\\x05\\x19\\xa6\\x97\\xa2\\xc1a\\xdc\\nip*#%D\\xf2SQ)\"I%\\xaa\\xb2\\xcd\\xefL\\x92_z\\xa74\\xddkX\\xc2\\xe6\\xb1\\x85\\xc4\\xb9\\xb8\\xeb\\xcdR\\xfbO\\xbdE<\\xa5\\xdbh\\xeai\\xbfg\\x15\\xd9\\x1ai-N\\xb8\\xc1$}\\n\\xe7\\x93@5^=F\\xce\\xe8\\x9f\\xb3\\xddA/\\xb2H\\rL2:\\xd7\\xa0\\x9az\\xa3\\xd1M=Qb3W\"5F3W\"4\\xc6hDzU\\xa5\\xe9T\\xe2=*\\xe2\\xf4\\xa0\\x05\\xa2\\x8a(\\x00\\xa2\\xa2\\x96x\\xa0\\x8c\\xbc\\xd2$h:\\xb30\\x02\\xb0o\\xfco\\xa5\\xd9\\x82\"v\\xb9q\\xda!\\x91\\xf9\\xf4\\xfc\\xaa\\'R0W\\x93\"u#\\x05y3\\xa2=+3U\\xd6\\xec4\\x98\\xb7^\\xdc\"\\x1cd \\xe5\\x9b\\xe8\\x05p\\xba\\xaf\\x8eu;\\xdc\\xa5\\xb6\\xdbH\\xcf\\xf79o\\xcc\\xff\\x00LW3+\\xb4\\xb2\\x17\\x95\\x99\\xdd\\x8eK1\\xc9?\\x8dq\\xd4\\xc7Ei\\x05s\\x8a\\xa6:+H+\\x9d\\x1e\\xb5\\xe3\\xcb\\xbb\\xcd\\xd1i\\xc8m\"<y\\x9dd?\\xd1\\x7f\\x0c\\x9fz\\xe4\\xdc\\xb3\\xbb3\\x16fc\\x92\\xc4\\xe4\\x9ay\\x14\\x98\\xae\\x19\\xd5\\x94\\xdd\\xe4\\xeep\\xce\\xac\\xa6\\xef\\'q\\xb4\\xe1I\\x8ap\\x15\\x99\\x03\\xc5J\\x95\\x10\\xa9R\\x93\\x13$\\x14\\xe1L\\x14\\xe1R@\\xeai\\x14\\xea)\\x08\\x8c\\x8a\\x8c\\x8a\\x98\\x8aa\\x14\\x01\\\\\\x8aaJ\\xb0EFE4\\xcaL\\xaeE0\\x8a\\xb0R\\xa3)Ur\\x93!\\xc5\\x14\\xfcRb\\x98\\xc6\\xd2\\xd2\\xe2\\x8cP\\x01N\\xa4\\xc5;\\x14\\x00QE.(\\x10\\x94S\\xa8\\xa0ch\\xa7b\\x96\\x80\\x13\\x14\\xb8\\xa5\\xc5.(\\x10\\x98\\xa5\\xc5.)qRH\\x98\\xa3\\x14\\xea)\\x00\\xdaJZC@\\tI\\x9a\\r0\\x9a`;4\\x9b\\xe9\\x84\\xd3K\\xd3\\xb1V\\x1c^\\x98^\\x9a^\\xa3w\\xaaH\\xa4\\x87<\\x95^I(w\\xaa\\xd2IZ\\xc6&\\x91\\x88\\xd9e\\xaa\\x173`\\x1a\\x92iz\\xd5\\x1ee\\x93\\xd8WM8-\\xd9\\xd5N\\tj\\xc9-\\xa3,w\\x1e\\xa6\\xafyt\\xcbx\\xf1\\x8a\\xb7\\xb2\\x94\\xe7\\xa93\\x9e\\xa5\\xc7M\\x8eG\\x19S\\x8c\\x8a\\xb5m\\xaa\\xdf\\xd9\\xe3\\xec\\xf7\\xb3\\xa0\\x1d\\x83\\x9c~F\\x8a+\\x99I\\xa6s)4\\xcdko\\x1aj\\xf0c|\\x90\\xcc?\\xdb\\x8f\\x9f\\xd2\\xb5\\xad\\xbe!\\xdc\\xae<\\xcb\\x08\\x1b\\xddd+E\\x15\\x7fX\\xa8\\xba\\x97\\xf5\\x8a\\x8bfiC\\xf1-G\\xde\\xd3\\x0f\\xe17\\xff\\x00Z\\xa7\\xff\\x00\\x85\\x9aY\\x7fw\\xa6\\x0c\\xff\\x00\\xb5?\\xff\\x00cE\\x15\\x0f\\x19[\\xb9/\\x19[\\xb9\\x0c\\xbf\\x10\\xb5\\x17$Ekm\\x1f\\xa6\\xe2X\\xff\\x00J\\xcf\\xb8\\xf1n\\xb5r0\\xd7\\x860{D\\xa1\\x7f^\\xb4QQ,EW\\xf6\\x8c\\xe5\\x89\\xaa\\xfe\\xd1\\x97<\\xb3\\\\9k\\x89^V\\xf5v,\\x7fZ\\x88\\x83E\\x15\\x8d\\xdb\\xdc\\xc9\\xc9\\xbd\\xc6\\x954\\xc2\\xb4QM\\x02#\"\\x9b\\xb2\\x8a*\\x8bA\\xb2\\x94\\n(\\xa61\\xc0T\\x80QE&K$\\x00\\xd3\\x804QR\\xc9c\\xb0i\\xdbM\\x14T\\x88M\\x86\\x98P\\xfbQE\\x02\\x18R\\x98V\\x8a(\\x19\\x19ZiJ(\\xaaE\\x0c+M)E\\x14\\xc6\\x84\\xdbF\\xda(\\xa6\\x02\\xed\\xa3m\\x14P\\x02\\xec\\xa5\\xc5\\x14P \\xc5\\x18\\xa2\\x8a\\x001K\\x8a(\\xa0b\\x81N\\x0bE\\x14\\x84\\xc5\\xdbN\\xdah\\xa2\\x90\\x84\\xc5\\x18\\xa2\\x8a\\x00i\\x06\\x98A\\xa2\\x8a\\x00a\\x06\\xa39\\xa2\\x8a\\xa4R\\x18sL9\\xa2\\x8a\\xa4R\\x1asP\\xb94QT\\x8a\\x89\\x0c\\x84\\xd5II\\xe6\\x8a+x\\x1b\\xc0\\xa11&\\x9fo\\x18\\xe2\\x8a+\\xa1\\xect=\\x8d\\x08\\x97\\xa5_\\x16,@9^}\\xe8\\xa2\\xb9\\xf7g=\\xae\\x7f\\xff\\xd9')\n"
     ]
    }
   ],
   "source": [
    "import pymysql \n",
    "conobj=pymysql.connect(user=\"root\",password=\"root\",database=\"1130to1\")\n",
    "curobj=conobj.cursor()\n",
    "curobj.execute(\"select * from pic1\")\n",
    "row=curobj.fetchone()\n",
    "print(row)\n",
    "conobj.close()"
   ]
  },
  {
   "cell_type": "code",
   "execution_count": 20,
   "metadata": {},
   "outputs": [
    {
     "name": "stdout",
     "output_type": "stream",
     "text": [
      "image fetched and saved\n"
     ]
    }
   ],
   "source": [
    "import pymysql \n",
    "conobj=pymysql.connect(user=\"root\",password=\"root\",database=\"1130to1\")\n",
    "curobj=conobj.cursor()\n",
    "curobj.execute(\"select * from pic1\")\n",
    "row=curobj.fetchone()\n",
    "file=open(\"d:\\indian flag.jpeg\",\"wb\")\n",
    "file.write(row[1])\n",
    "file.close()\n",
    "conobj.close()\n",
    "print(\"image fetched and saved\")"
   ]
  },
  {
   "cell_type": "code",
   "execution_count": 1,
   "metadata": {},
   "outputs": [
    {
     "name": "stdout",
     "output_type": "stream",
     "text": [
      "table created\n"
     ]
    }
   ],
   "source": [
    "import pymysql \n",
    "conobj=pymysql.connect(user=\"root\",password=\"root\",database=\"1130to1\")\n",
    "curobj=conobj.cursor()\n",
    "curobj.execute(\"create table py_t1(c1 int primary key,c2 varchar(10))\")\n",
    "# conobj.commit()\n",
    "conobj.close()\n",
    "print(\"table created\")"
   ]
  },
  {
   "cell_type": "code",
   "execution_count": 3,
   "metadata": {},
   "outputs": [
    {
     "name": "stdout",
     "output_type": "stream",
     "text": [
      "((100, 'rohit', 55005.5, 'batsman'), (101, 'zampa', 25000.0, 'bowling'), (102, 'monu', 34505.1, 'operator'), (103, 'ishan', 25188.1, 'coding'), (104, 'surya', 27850.1, 'coding'), (105, 'bhola', 43822.1, 'account'), (106, 'maxwell', 30000.0, 'batting'), (107, 'stark', 25000.0, 'bowling'), (108, 'smith', 30000.0, 'batting'), (109, 'pant', 50000.0, 'batting'), (110, 'radha', 20000.0, 'cleaning'), (111, 'shyam', 30000.0, 'hr'), (211, 'virat kohli', 67780.1, 'account'), (224, 'bumhra', 46484.1, 'coding'), (226, 'hardik', 21195.1, 'operator'), (228, 'rahul', 35836.1, 'coding'), (600, 'cahal', 54470.1, 'account'), (601, 'chintu', 19864.1, 'coding'))\n"
     ]
    }
   ],
   "source": [
    "import pymysql\n",
    "conobj=pymysql.connect(user=\"root\",password=\"root\")\n",
    "curobj=conobj.cursor()\n",
    "curobj.execute(\"select * from 1130to1.emp\")\n",
    "print(curobj.fetchall())\n",
    "conobj.close()"
   ]
  },
  {
   "cell_type": "code",
   "execution_count": 4,
   "metadata": {},
   "outputs": [
    {
     "name": "stdout",
     "output_type": "stream",
     "text": [
      "((100, 'rohit', 55005.5, 'batsman'), (101, 'zampa', 25000.0, 'bowling'), (102, 'monu', 34505.1, 'operator'), (103, 'ishan', 25188.1, 'coding'), (104, 'surya', 27850.1, 'coding'), (105, 'bhola', 43822.1, 'account'), (106, 'maxwell', 30000.0, 'batting'), (107, 'stark', 25000.0, 'bowling'), (108, 'smith', 30000.0, 'batting'), (109, 'pant', 50000.0, 'batting'), (110, 'radha', 20000.0, 'cleaning'), (111, 'shyam', 30000.0, 'hr'), (211, 'virat kohli', 67780.1, 'account'), (224, 'bumhra', 46484.1, 'coding'), (226, 'hardik', 21195.1, 'operator'), (228, 'rahul', 35836.1, 'coding'), (600, 'cahal', 54470.1, 'account'), (601, 'chintu', 19864.1, 'coding'))\n"
     ]
    },
    {
     "ename": "ProgrammingError",
     "evalue": "(1146, \"Table '11to1.emp' doesn't exist\")",
     "output_type": "error",
     "traceback": [
      "\u001b[1;31m---------------------------------------------------------------------------\u001b[0m",
      "\u001b[1;31mProgrammingError\u001b[0m                          Traceback (most recent call last)",
      "\u001b[1;32mc:\\Users\\Raju\\Desktop\\new\\WD_4PM_python\\WD_4PM_Pyton4d\\connect_sql.ipynb Cell 27\u001b[0m line \u001b[0;36m6\n\u001b[0;32m      <a href='vscode-notebook-cell:/c%3A/Users/Raju/Desktop/new/WD_4PM_python/WD_4PM_Pyton4d/connect_sql.ipynb#X35sZmlsZQ%3D%3D?line=3'>4</a>\u001b[0m curobj\u001b[39m.\u001b[39mexecute(\u001b[39m\"\u001b[39m\u001b[39mselect * from 1130to1.emp\u001b[39m\u001b[39m\"\u001b[39m)\n\u001b[0;32m      <a href='vscode-notebook-cell:/c%3A/Users/Raju/Desktop/new/WD_4PM_python/WD_4PM_Pyton4d/connect_sql.ipynb#X35sZmlsZQ%3D%3D?line=4'>5</a>\u001b[0m \u001b[39mprint\u001b[39m(curobj\u001b[39m.\u001b[39mfetchall())\n\u001b[1;32m----> <a href='vscode-notebook-cell:/c%3A/Users/Raju/Desktop/new/WD_4PM_python/WD_4PM_Pyton4d/connect_sql.ipynb#X35sZmlsZQ%3D%3D?line=5'>6</a>\u001b[0m curobj\u001b[39m.\u001b[39;49mexecute(\u001b[39m\"\u001b[39;49m\u001b[39mselect * from 11to1.emp\u001b[39;49m\u001b[39m\"\u001b[39;49m)\n\u001b[0;32m      <a href='vscode-notebook-cell:/c%3A/Users/Raju/Desktop/new/WD_4PM_python/WD_4PM_Pyton4d/connect_sql.ipynb#X35sZmlsZQ%3D%3D?line=6'>7</a>\u001b[0m \u001b[39mprint\u001b[39m(curobj\u001b[39m.\u001b[39mfetchall())\n\u001b[0;32m      <a href='vscode-notebook-cell:/c%3A/Users/Raju/Desktop/new/WD_4PM_python/WD_4PM_Pyton4d/connect_sql.ipynb#X35sZmlsZQ%3D%3D?line=7'>8</a>\u001b[0m conobj\u001b[39m.\u001b[39mclose()\n",
      "File \u001b[1;32mc:\\Users\\Raju\\AppData\\Local\\Programs\\Python\\Python311\\Lib\\site-packages\\pymysql\\cursors.py:153\u001b[0m, in \u001b[0;36mCursor.execute\u001b[1;34m(self, query, args)\u001b[0m\n\u001b[0;32m    149\u001b[0m     \u001b[39mpass\u001b[39;00m\n\u001b[0;32m    151\u001b[0m query \u001b[39m=\u001b[39m \u001b[39mself\u001b[39m\u001b[39m.\u001b[39mmogrify(query, args)\n\u001b[1;32m--> 153\u001b[0m result \u001b[39m=\u001b[39m \u001b[39mself\u001b[39;49m\u001b[39m.\u001b[39;49m_query(query)\n\u001b[0;32m    154\u001b[0m \u001b[39mself\u001b[39m\u001b[39m.\u001b[39m_executed \u001b[39m=\u001b[39m query\n\u001b[0;32m    155\u001b[0m \u001b[39mreturn\u001b[39;00m result\n",
      "File \u001b[1;32mc:\\Users\\Raju\\AppData\\Local\\Programs\\Python\\Python311\\Lib\\site-packages\\pymysql\\cursors.py:322\u001b[0m, in \u001b[0;36mCursor._query\u001b[1;34m(self, q)\u001b[0m\n\u001b[0;32m    320\u001b[0m conn \u001b[39m=\u001b[39m \u001b[39mself\u001b[39m\u001b[39m.\u001b[39m_get_db()\n\u001b[0;32m    321\u001b[0m \u001b[39mself\u001b[39m\u001b[39m.\u001b[39m_clear_result()\n\u001b[1;32m--> 322\u001b[0m conn\u001b[39m.\u001b[39;49mquery(q)\n\u001b[0;32m    323\u001b[0m \u001b[39mself\u001b[39m\u001b[39m.\u001b[39m_do_get_result()\n\u001b[0;32m    324\u001b[0m \u001b[39mreturn\u001b[39;00m \u001b[39mself\u001b[39m\u001b[39m.\u001b[39mrowcount\n",
      "File \u001b[1;32mc:\\Users\\Raju\\AppData\\Local\\Programs\\Python\\Python311\\Lib\\site-packages\\pymysql\\connections.py:558\u001b[0m, in \u001b[0;36mConnection.query\u001b[1;34m(self, sql, unbuffered)\u001b[0m\n\u001b[0;32m    556\u001b[0m     sql \u001b[39m=\u001b[39m sql\u001b[39m.\u001b[39mencode(\u001b[39mself\u001b[39m\u001b[39m.\u001b[39mencoding, \u001b[39m\"\u001b[39m\u001b[39msurrogateescape\u001b[39m\u001b[39m\"\u001b[39m)\n\u001b[0;32m    557\u001b[0m \u001b[39mself\u001b[39m\u001b[39m.\u001b[39m_execute_command(COMMAND\u001b[39m.\u001b[39mCOM_QUERY, sql)\n\u001b[1;32m--> 558\u001b[0m \u001b[39mself\u001b[39m\u001b[39m.\u001b[39m_affected_rows \u001b[39m=\u001b[39m \u001b[39mself\u001b[39;49m\u001b[39m.\u001b[39;49m_read_query_result(unbuffered\u001b[39m=\u001b[39;49munbuffered)\n\u001b[0;32m    559\u001b[0m \u001b[39mreturn\u001b[39;00m \u001b[39mself\u001b[39m\u001b[39m.\u001b[39m_affected_rows\n",
      "File \u001b[1;32mc:\\Users\\Raju\\AppData\\Local\\Programs\\Python\\Python311\\Lib\\site-packages\\pymysql\\connections.py:822\u001b[0m, in \u001b[0;36mConnection._read_query_result\u001b[1;34m(self, unbuffered)\u001b[0m\n\u001b[0;32m    820\u001b[0m \u001b[39melse\u001b[39;00m:\n\u001b[0;32m    821\u001b[0m     result \u001b[39m=\u001b[39m MySQLResult(\u001b[39mself\u001b[39m)\n\u001b[1;32m--> 822\u001b[0m     result\u001b[39m.\u001b[39;49mread()\n\u001b[0;32m    823\u001b[0m \u001b[39mself\u001b[39m\u001b[39m.\u001b[39m_result \u001b[39m=\u001b[39m result\n\u001b[0;32m    824\u001b[0m \u001b[39mif\u001b[39;00m result\u001b[39m.\u001b[39mserver_status \u001b[39mis\u001b[39;00m \u001b[39mnot\u001b[39;00m \u001b[39mNone\u001b[39;00m:\n",
      "File \u001b[1;32mc:\\Users\\Raju\\AppData\\Local\\Programs\\Python\\Python311\\Lib\\site-packages\\pymysql\\connections.py:1200\u001b[0m, in \u001b[0;36mMySQLResult.read\u001b[1;34m(self)\u001b[0m\n\u001b[0;32m   1198\u001b[0m \u001b[39mdef\u001b[39;00m \u001b[39mread\u001b[39m(\u001b[39mself\u001b[39m):\n\u001b[0;32m   1199\u001b[0m     \u001b[39mtry\u001b[39;00m:\n\u001b[1;32m-> 1200\u001b[0m         first_packet \u001b[39m=\u001b[39m \u001b[39mself\u001b[39;49m\u001b[39m.\u001b[39;49mconnection\u001b[39m.\u001b[39;49m_read_packet()\n\u001b[0;32m   1202\u001b[0m         \u001b[39mif\u001b[39;00m first_packet\u001b[39m.\u001b[39mis_ok_packet():\n\u001b[0;32m   1203\u001b[0m             \u001b[39mself\u001b[39m\u001b[39m.\u001b[39m_read_ok_packet(first_packet)\n",
      "File \u001b[1;32mc:\\Users\\Raju\\AppData\\Local\\Programs\\Python\\Python311\\Lib\\site-packages\\pymysql\\connections.py:772\u001b[0m, in \u001b[0;36mConnection._read_packet\u001b[1;34m(self, packet_type)\u001b[0m\n\u001b[0;32m    770\u001b[0m     \u001b[39mif\u001b[39;00m \u001b[39mself\u001b[39m\u001b[39m.\u001b[39m_result \u001b[39mis\u001b[39;00m \u001b[39mnot\u001b[39;00m \u001b[39mNone\u001b[39;00m \u001b[39mand\u001b[39;00m \u001b[39mself\u001b[39m\u001b[39m.\u001b[39m_result\u001b[39m.\u001b[39munbuffered_active \u001b[39mis\u001b[39;00m \u001b[39mTrue\u001b[39;00m:\n\u001b[0;32m    771\u001b[0m         \u001b[39mself\u001b[39m\u001b[39m.\u001b[39m_result\u001b[39m.\u001b[39munbuffered_active \u001b[39m=\u001b[39m \u001b[39mFalse\u001b[39;00m\n\u001b[1;32m--> 772\u001b[0m     packet\u001b[39m.\u001b[39;49mraise_for_error()\n\u001b[0;32m    773\u001b[0m \u001b[39mreturn\u001b[39;00m packet\n",
      "File \u001b[1;32mc:\\Users\\Raju\\AppData\\Local\\Programs\\Python\\Python311\\Lib\\site-packages\\pymysql\\protocol.py:221\u001b[0m, in \u001b[0;36mMysqlPacket.raise_for_error\u001b[1;34m(self)\u001b[0m\n\u001b[0;32m    219\u001b[0m \u001b[39mif\u001b[39;00m DEBUG:\n\u001b[0;32m    220\u001b[0m     \u001b[39mprint\u001b[39m(\u001b[39m\"\u001b[39m\u001b[39merrno =\u001b[39m\u001b[39m\"\u001b[39m, errno)\n\u001b[1;32m--> 221\u001b[0m err\u001b[39m.\u001b[39;49mraise_mysql_exception(\u001b[39mself\u001b[39;49m\u001b[39m.\u001b[39;49m_data)\n",
      "File \u001b[1;32mc:\\Users\\Raju\\AppData\\Local\\Programs\\Python\\Python311\\Lib\\site-packages\\pymysql\\err.py:143\u001b[0m, in \u001b[0;36mraise_mysql_exception\u001b[1;34m(data)\u001b[0m\n\u001b[0;32m    141\u001b[0m \u001b[39mif\u001b[39;00m errorclass \u001b[39mis\u001b[39;00m \u001b[39mNone\u001b[39;00m:\n\u001b[0;32m    142\u001b[0m     errorclass \u001b[39m=\u001b[39m InternalError \u001b[39mif\u001b[39;00m errno \u001b[39m<\u001b[39m \u001b[39m1000\u001b[39m \u001b[39melse\u001b[39;00m OperationalError\n\u001b[1;32m--> 143\u001b[0m \u001b[39mraise\u001b[39;00m errorclass(errno, errval)\n",
      "\u001b[1;31mProgrammingError\u001b[0m: (1146, \"Table '11to1.emp' doesn't exist\")"
     ]
    }
   ],
   "source": [
    "import pymysql\n",
    "conobj=pymysql.connect(user=\"root\",password=\"root\")\n",
    "curobj=conobj.cursor()\n",
    "curobj.execute(\"select * from 1130to1.emp\")\n",
    "print(curobj.fetchall())\n",
    "# curobj.execute(\"select * from 11to1.\")\n",
    "# print(curobj.fetchall())\n",
    "conobj.close()"
   ]
  },
  {
   "cell_type": "code",
   "execution_count": 5,
   "metadata": {},
   "outputs": [
    {
     "name": "stdout",
     "output_type": "stream",
     "text": [
      "db created\n"
     ]
    }
   ],
   "source": [
    "import pymysql\n",
    "conobj=pymysql.connect(user=\"root\",password=\"root\")\n",
    "curobj=conobj.cursor()\n",
    "curobj.execute(\"create database pya_db1\")\n",
    "conobj.close()\n",
    "print(\"db created\")"
   ]
  },
  {
   "cell_type": "code",
   "execution_count": 6,
   "metadata": {},
   "outputs": [
    {
     "name": "stdout",
     "output_type": "stream",
     "text": [
      "('pass',)\n"
     ]
    }
   ],
   "source": [
    "import pymysql\n",
    "conobj=pymysql.connect(user=\"root\",password=\"root\",database=\"1130to1\")\n",
    "curobj=conobj.cursor()\n",
    "curobj.execute(\"select f6_pass(75)\")\n",
    "print(curobj.fetchone())\n",
    "conobj.close()\n",
    "# print(\"db created\")"
   ]
  },
  {
   "cell_type": "code",
   "execution_count": 8,
   "metadata": {},
   "outputs": [
    {
     "ename": "ProgrammingError",
     "evalue": "(1064, \"You have an error in your SQL syntax; check the manual that corresponds to your MySQL server version for the right syntax to use near '()' at line 1\")",
     "output_type": "error",
     "traceback": [
      "\u001b[1;31m---------------------------------------------------------------------------\u001b[0m",
      "\u001b[1;31mProgrammingError\u001b[0m                          Traceback (most recent call last)",
      "\u001b[1;32mc:\\Users\\Raju\\Desktop\\new\\WD_4PM_python\\WD_4PM_Pyton4d\\connect_sql.ipynb Cell 30\u001b[0m line \u001b[0;36m4\n\u001b[0;32m      <a href='vscode-notebook-cell:/c%3A/Users/Raju/Desktop/new/WD_4PM_python/WD_4PM_Pyton4d/connect_sql.ipynb#X41sZmlsZQ%3D%3D?line=1'>2</a>\u001b[0m conobj\u001b[39m=\u001b[39mpymysql\u001b[39m.\u001b[39mconnect(user\u001b[39m=\u001b[39m\u001b[39m\"\u001b[39m\u001b[39mroot\u001b[39m\u001b[39m\"\u001b[39m,password\u001b[39m=\u001b[39m\u001b[39m\"\u001b[39m\u001b[39mroot\u001b[39m\u001b[39m\"\u001b[39m,database\u001b[39m=\u001b[39m\u001b[39m\"\u001b[39m\u001b[39m1130to1\u001b[39m\u001b[39m\"\u001b[39m)\n\u001b[0;32m      <a href='vscode-notebook-cell:/c%3A/Users/Raju/Desktop/new/WD_4PM_python/WD_4PM_Pyton4d/connect_sql.ipynb#X41sZmlsZQ%3D%3D?line=2'>3</a>\u001b[0m curobj\u001b[39m=\u001b[39mconobj\u001b[39m.\u001b[39mcursor()\n\u001b[1;32m----> <a href='vscode-notebook-cell:/c%3A/Users/Raju/Desktop/new/WD_4PM_python/WD_4PM_Pyton4d/connect_sql.ipynb#X41sZmlsZQ%3D%3D?line=3'>4</a>\u001b[0m curobj\u001b[39m.\u001b[39;49mcallproc(\u001b[39m\"\u001b[39;49m\u001b[39mp1_namesal(101)\u001b[39;49m\u001b[39m\"\u001b[39;49m)\n\u001b[0;32m      <a href='vscode-notebook-cell:/c%3A/Users/Raju/Desktop/new/WD_4PM_python/WD_4PM_Pyton4d/connect_sql.ipynb#X41sZmlsZQ%3D%3D?line=4'>5</a>\u001b[0m curobj\u001b[39m.\u001b[39mexecute(\u001b[39m\"\u001b[39m\u001b[39mselect @p1_namesal_0,@p1_namesal_1\u001b[39m\u001b[39m\"\u001b[39m)\n\u001b[0;32m      <a href='vscode-notebook-cell:/c%3A/Users/Raju/Desktop/new/WD_4PM_python/WD_4PM_Pyton4d/connect_sql.ipynb#X41sZmlsZQ%3D%3D?line=5'>6</a>\u001b[0m \u001b[39mprint\u001b[39m(curobj\u001b[39m.\u001b[39mfetchone())\n",
      "File \u001b[1;32mc:\\Users\\Raju\\AppData\\Local\\Programs\\Python\\Python311\\Lib\\site-packages\\pymysql\\cursors.py:269\u001b[0m, in \u001b[0;36mCursor.callproc\u001b[1;34m(self, procname, args)\u001b[0m\n\u001b[0;32m    263\u001b[0m     \u001b[39mself\u001b[39m\u001b[39m.\u001b[39mnextset()\n\u001b[0;32m    265\u001b[0m q \u001b[39m=\u001b[39m \u001b[39m\"\u001b[39m\u001b[39mCALL \u001b[39m\u001b[39m{}\u001b[39;00m\u001b[39m(\u001b[39m\u001b[39m{}\u001b[39;00m\u001b[39m)\u001b[39m\u001b[39m\"\u001b[39m\u001b[39m.\u001b[39mformat(\n\u001b[0;32m    266\u001b[0m     procname,\n\u001b[0;32m    267\u001b[0m     \u001b[39m\"\u001b[39m\u001b[39m,\u001b[39m\u001b[39m\"\u001b[39m\u001b[39m.\u001b[39mjoin([\u001b[39m\"\u001b[39m\u001b[39m@_\u001b[39m\u001b[39m%s\u001b[39;00m\u001b[39m_\u001b[39m\u001b[39m%d\u001b[39;00m\u001b[39m\"\u001b[39m \u001b[39m%\u001b[39m (procname, i) \u001b[39mfor\u001b[39;00m i \u001b[39min\u001b[39;00m \u001b[39mrange\u001b[39m(\u001b[39mlen\u001b[39m(args))]),\n\u001b[0;32m    268\u001b[0m )\n\u001b[1;32m--> 269\u001b[0m \u001b[39mself\u001b[39;49m\u001b[39m.\u001b[39;49m_query(q)\n\u001b[0;32m    270\u001b[0m \u001b[39mself\u001b[39m\u001b[39m.\u001b[39m_executed \u001b[39m=\u001b[39m q\n\u001b[0;32m    271\u001b[0m \u001b[39mreturn\u001b[39;00m args\n",
      "File \u001b[1;32mc:\\Users\\Raju\\AppData\\Local\\Programs\\Python\\Python311\\Lib\\site-packages\\pymysql\\cursors.py:322\u001b[0m, in \u001b[0;36mCursor._query\u001b[1;34m(self, q)\u001b[0m\n\u001b[0;32m    320\u001b[0m conn \u001b[39m=\u001b[39m \u001b[39mself\u001b[39m\u001b[39m.\u001b[39m_get_db()\n\u001b[0;32m    321\u001b[0m \u001b[39mself\u001b[39m\u001b[39m.\u001b[39m_clear_result()\n\u001b[1;32m--> 322\u001b[0m conn\u001b[39m.\u001b[39;49mquery(q)\n\u001b[0;32m    323\u001b[0m \u001b[39mself\u001b[39m\u001b[39m.\u001b[39m_do_get_result()\n\u001b[0;32m    324\u001b[0m \u001b[39mreturn\u001b[39;00m \u001b[39mself\u001b[39m\u001b[39m.\u001b[39mrowcount\n",
      "File \u001b[1;32mc:\\Users\\Raju\\AppData\\Local\\Programs\\Python\\Python311\\Lib\\site-packages\\pymysql\\connections.py:558\u001b[0m, in \u001b[0;36mConnection.query\u001b[1;34m(self, sql, unbuffered)\u001b[0m\n\u001b[0;32m    556\u001b[0m     sql \u001b[39m=\u001b[39m sql\u001b[39m.\u001b[39mencode(\u001b[39mself\u001b[39m\u001b[39m.\u001b[39mencoding, \u001b[39m\"\u001b[39m\u001b[39msurrogateescape\u001b[39m\u001b[39m\"\u001b[39m)\n\u001b[0;32m    557\u001b[0m \u001b[39mself\u001b[39m\u001b[39m.\u001b[39m_execute_command(COMMAND\u001b[39m.\u001b[39mCOM_QUERY, sql)\n\u001b[1;32m--> 558\u001b[0m \u001b[39mself\u001b[39m\u001b[39m.\u001b[39m_affected_rows \u001b[39m=\u001b[39m \u001b[39mself\u001b[39;49m\u001b[39m.\u001b[39;49m_read_query_result(unbuffered\u001b[39m=\u001b[39;49munbuffered)\n\u001b[0;32m    559\u001b[0m \u001b[39mreturn\u001b[39;00m \u001b[39mself\u001b[39m\u001b[39m.\u001b[39m_affected_rows\n",
      "File \u001b[1;32mc:\\Users\\Raju\\AppData\\Local\\Programs\\Python\\Python311\\Lib\\site-packages\\pymysql\\connections.py:822\u001b[0m, in \u001b[0;36mConnection._read_query_result\u001b[1;34m(self, unbuffered)\u001b[0m\n\u001b[0;32m    820\u001b[0m \u001b[39melse\u001b[39;00m:\n\u001b[0;32m    821\u001b[0m     result \u001b[39m=\u001b[39m MySQLResult(\u001b[39mself\u001b[39m)\n\u001b[1;32m--> 822\u001b[0m     result\u001b[39m.\u001b[39;49mread()\n\u001b[0;32m    823\u001b[0m \u001b[39mself\u001b[39m\u001b[39m.\u001b[39m_result \u001b[39m=\u001b[39m result\n\u001b[0;32m    824\u001b[0m \u001b[39mif\u001b[39;00m result\u001b[39m.\u001b[39mserver_status \u001b[39mis\u001b[39;00m \u001b[39mnot\u001b[39;00m \u001b[39mNone\u001b[39;00m:\n",
      "File \u001b[1;32mc:\\Users\\Raju\\AppData\\Local\\Programs\\Python\\Python311\\Lib\\site-packages\\pymysql\\connections.py:1200\u001b[0m, in \u001b[0;36mMySQLResult.read\u001b[1;34m(self)\u001b[0m\n\u001b[0;32m   1198\u001b[0m \u001b[39mdef\u001b[39;00m \u001b[39mread\u001b[39m(\u001b[39mself\u001b[39m):\n\u001b[0;32m   1199\u001b[0m     \u001b[39mtry\u001b[39;00m:\n\u001b[1;32m-> 1200\u001b[0m         first_packet \u001b[39m=\u001b[39m \u001b[39mself\u001b[39;49m\u001b[39m.\u001b[39;49mconnection\u001b[39m.\u001b[39;49m_read_packet()\n\u001b[0;32m   1202\u001b[0m         \u001b[39mif\u001b[39;00m first_packet\u001b[39m.\u001b[39mis_ok_packet():\n\u001b[0;32m   1203\u001b[0m             \u001b[39mself\u001b[39m\u001b[39m.\u001b[39m_read_ok_packet(first_packet)\n",
      "File \u001b[1;32mc:\\Users\\Raju\\AppData\\Local\\Programs\\Python\\Python311\\Lib\\site-packages\\pymysql\\connections.py:772\u001b[0m, in \u001b[0;36mConnection._read_packet\u001b[1;34m(self, packet_type)\u001b[0m\n\u001b[0;32m    770\u001b[0m     \u001b[39mif\u001b[39;00m \u001b[39mself\u001b[39m\u001b[39m.\u001b[39m_result \u001b[39mis\u001b[39;00m \u001b[39mnot\u001b[39;00m \u001b[39mNone\u001b[39;00m \u001b[39mand\u001b[39;00m \u001b[39mself\u001b[39m\u001b[39m.\u001b[39m_result\u001b[39m.\u001b[39munbuffered_active \u001b[39mis\u001b[39;00m \u001b[39mTrue\u001b[39;00m:\n\u001b[0;32m    771\u001b[0m         \u001b[39mself\u001b[39m\u001b[39m.\u001b[39m_result\u001b[39m.\u001b[39munbuffered_active \u001b[39m=\u001b[39m \u001b[39mFalse\u001b[39;00m\n\u001b[1;32m--> 772\u001b[0m     packet\u001b[39m.\u001b[39;49mraise_for_error()\n\u001b[0;32m    773\u001b[0m \u001b[39mreturn\u001b[39;00m packet\n",
      "File \u001b[1;32mc:\\Users\\Raju\\AppData\\Local\\Programs\\Python\\Python311\\Lib\\site-packages\\pymysql\\protocol.py:221\u001b[0m, in \u001b[0;36mMysqlPacket.raise_for_error\u001b[1;34m(self)\u001b[0m\n\u001b[0;32m    219\u001b[0m \u001b[39mif\u001b[39;00m DEBUG:\n\u001b[0;32m    220\u001b[0m     \u001b[39mprint\u001b[39m(\u001b[39m\"\u001b[39m\u001b[39merrno =\u001b[39m\u001b[39m\"\u001b[39m, errno)\n\u001b[1;32m--> 221\u001b[0m err\u001b[39m.\u001b[39;49mraise_mysql_exception(\u001b[39mself\u001b[39;49m\u001b[39m.\u001b[39;49m_data)\n",
      "File \u001b[1;32mc:\\Users\\Raju\\AppData\\Local\\Programs\\Python\\Python311\\Lib\\site-packages\\pymysql\\err.py:143\u001b[0m, in \u001b[0;36mraise_mysql_exception\u001b[1;34m(data)\u001b[0m\n\u001b[0;32m    141\u001b[0m \u001b[39mif\u001b[39;00m errorclass \u001b[39mis\u001b[39;00m \u001b[39mNone\u001b[39;00m:\n\u001b[0;32m    142\u001b[0m     errorclass \u001b[39m=\u001b[39m InternalError \u001b[39mif\u001b[39;00m errno \u001b[39m<\u001b[39m \u001b[39m1000\u001b[39m \u001b[39melse\u001b[39;00m OperationalError\n\u001b[1;32m--> 143\u001b[0m \u001b[39mraise\u001b[39;00m errorclass(errno, errval)\n",
      "\u001b[1;31mProgrammingError\u001b[0m: (1064, \"You have an error in your SQL syntax; check the manual that corresponds to your MySQL server version for the right syntax to use near '()' at line 1\")"
     ]
    }
   ],
   "source": [
    "import pymysql\n",
    "conobj=pymysql.connect(user=\"root\",password=\"root\",database=\"1130to1\")\n",
    "curobj=conobj.cursor()\n",
    "curobj.callproc(\"p1_namesal(101)\")\n",
    "curobj.execute(\"select @p1_namesal_0,@p1_namesal_1\")\n",
    "print(curobj.fetchone())\n",
    "conobj.close()\n",
    "# print(\"db created\")"
   ]
  },
  {
   "cell_type": "code",
   "execution_count": 9,
   "metadata": {},
   "outputs": [
    {
     "name": "stdout",
     "output_type": "stream",
     "text": [
      "(None, None)\n"
     ]
    }
   ],
   "source": [
    "import pymysql\n",
    "conobj=pymysql.connect(user=\"root\",password=\"root\",database=\"1130to1\")\n",
    "curobj=conobj.cursor()\n",
    "curobj.callproc(\"p1_namesal\",(101,None,None))\n",
    "curobj.execute(\"select @p1_namesal_0,@p1_namesal_1\")\n",
    "print(curobj.fetchone())\n",
    "conobj.close()\n",
    "# print(\"db created\")"
   ]
  },
  {
   "cell_type": "code",
   "execution_count": 10,
   "metadata": {},
   "outputs": [
    {
     "name": "stdout",
     "output_type": "stream",
     "text": [
      "(101, 'zampa')\n"
     ]
    }
   ],
   "source": [
    "import pymysql\n",
    "conobj=pymysql.connect(user=\"root\",password=\"root\",database=\"1130to1\")\n",
    "curobj=conobj.cursor()\n",
    "curobj.callproc(\"p1_namesal\",(101,None,None))\n",
    "curobj.execute(\"select @_p1_namesal_0,@_p1_namesal_1\")\n",
    "print(curobj.fetchone())\n",
    "conobj.close()\n",
    "# print(\"db created\")"
   ]
  },
  {
   "cell_type": "code",
   "execution_count": 11,
   "metadata": {},
   "outputs": [
    {
     "name": "stdout",
     "output_type": "stream",
     "text": [
      "(102, 'monu')\n"
     ]
    }
   ],
   "source": [
    "import pymysql\n",
    "conobj=pymysql.connect(user=\"root\",password=\"root\",database=\"1130to1\")\n",
    "curobj=conobj.cursor()\n",
    "curobj.callproc(\"p1_namesal\",(102,None,None))\n",
    "curobj.execute(\"select @_p1_namesal_0,@_p1_namesal_1\")\n",
    "print(curobj.fetchone())\n",
    "conobj.close()\n",
    "# print(\"db created\")"
   ]
  },
  {
   "cell_type": "code",
   "execution_count": 14,
   "metadata": {},
   "outputs": [
    {
     "name": "stdout",
     "output_type": "stream",
     "text": [
      "(103, 'ishan')\n"
     ]
    }
   ],
   "source": [
    "import pymysql\n",
    "conobj=pymysql.connect(user=\"root\",password=\"root\",database=\"1130to1\")\n",
    "curobj=conobj.cursor()\n",
    "curobj.callproc(\"p1_namesal\",(103,None,None))\n",
    "curobj.execute(\"select @_p1_namesal_0,@_p1_namesal_1\")\n",
    "print(curobj.fetchone())\n",
    "conobj.close()\n",
    "# print(\"db created\")"
   ]
  },
  {
   "cell_type": "code",
   "execution_count": 15,
   "metadata": {},
   "outputs": [
    {
     "name": "stdout",
     "output_type": "stream",
     "text": [
      "(14, 40)\n"
     ]
    }
   ],
   "source": [
    "import pymysql\n",
    "conobj=pymysql.connect(user=\"root\",password=\"root\",database=\"1130to1\")\n",
    "curobj=conobj.cursor()\n",
    "curobj.callproc(\"p1_addmul\",(10,4,None,None))\n",
    "curobj.execute(\"select @_p1_addmul_2,@_p1_addmul_3\")\n",
    "print(curobj.fetchone())\n",
    "conobj.close()\n",
    "# print(\"db created\")"
   ]
  },
  {
   "cell_type": "code",
   "execution_count": null,
   "metadata": {},
   "outputs": [],
   "source": [
    "import pymysql\n",
    "conobj=pymysql.connect(user=\"root\",password=\"root\",database=\"1130to1\")\n",
    "curobj=conobj.cursor()\n",
    "curobj.callproc(\"p1_namesal\",(103,None,None))\n",
    "curobj.execute(\"select @_p1_namesal_0,@_p1_namesal_1\")\n",
    "print(curobj.fetchone())\n",
    "conobj.close()\n",
    "# print(\"db created\")"
   ]
  },
  {
   "cell_type": "code",
   "execution_count": 2,
   "metadata": {},
   "outputs": [],
   "source": [
    "from tkinter import *"
   ]
  },
  {
   "cell_type": "code",
   "execution_count": 5,
   "metadata": {},
   "outputs": [],
   "source": [
    "# from tkinter import *\n",
    "import pymysql\n",
    "from tkinter import messagebox\n",
    "\n",
    "win=Tk()\n",
    "win.state(\"zoomed\")\n",
    "win.configure(bg=\"yellow\")\n",
    "\n",
    "def fetch():\n",
    "    eid=e1.get()\n",
    "    conobj=pymysql.connect(user=\"root\",password=\"root\",database=\"1130to1\")\n",
    "    curobj=conobj.cursor()\n",
    "    curobj.execute(\"select * from emp where empid=%s\",(eid,))\n",
    "    row=curobj.fetchone()\n",
    "    lbl_res=Label(win,text=\"\",font=('arial',20,'bold'),bg='yellow')\n",
    "    if row==None:\n",
    "        lbl_res.configure(text=\"Empid does not exist\",fg=\"red\")\n",
    "    else:\n",
    "        lbl_res.configure(text=row,fg=\"green\") \n",
    "    lbl_res.place(x=300,y=400)\n",
    "    conobj.close()\n",
    "\n",
    "def delete():\n",
    "    eid=e1.get()\n",
    "    conobj=pymysql.connect(user=\"root\",password=\"root\",database=\"1130to1\")\n",
    "    curobj=conobj.cursor()\n",
    "    count=curobj.execute(\"delete from emp where empid=%s\",(eid,))\n",
    "    if count==0:\n",
    "        messagebox.showerror(\"delete\",\"empid does not exist\")\n",
    "    else:\n",
    "        messagebox.showinfo(\"delete\",\"record deleted\")\n",
    "    conobj.commit()\n",
    "    conobj.close()\n",
    "\n",
    "l1=Label(win,text=\"empid\",font=(\"arial\",20),bg='yellow')\n",
    "l1.place(x=200,y=200)\n",
    "\n",
    "e1=Entry(win,font=('arial',20),bd=5)\n",
    "e1.place(x=350,y=200)\n",
    "\n",
    "b1=Button(win,text=\"fetch data\",bd=5,font=('arial',20),command=fetch)\n",
    "b1.place(x=500,y=250)\n",
    "\n",
    "b2=Button(win,text=\"delete record\",bd=5,font=('arial',20),command=delete)\n",
    "b2.place(x=500,y=350)\n",
    "\n",
    "win.mainloop()"
   ]
  },
  {
   "cell_type": "code",
   "execution_count": 22,
   "metadata": {},
   "outputs": [],
   "source": [
    "import pymysql\n",
    "from tkinter import messagebox\n",
    "    \n",
    "win=Tk()\n",
    "win.state(\"zoomed\")\n",
    "win.configure(bg=\"yellow\")\n",
    "\n",
    "def fetch():\n",
    "    eid=e1.get()\n",
    "    conobj=pymysql.connect(user=\"root\",password=\"root\",database=\"1130to1\")\n",
    "    curobj=conobj.cursor()\n",
    "    curobj.execute(\"select * from emp where empid=%s\",(eid,))\n",
    "    row=curobj.fetchone()\n",
    "    lbl_res=Label(win,text=\"\",font=('arial',20,'bold'),bg=\"yellow\")\n",
    "    if row==None:\n",
    "        lbl_res.configure(text=\"Empid does not exist\",fg=\"red\")\n",
    "    else:\n",
    "        lbl_res.configure(text=row,fg=\"green\")\n",
    "    lbl_res.place(x=300,y=400)\n",
    "    conobj.close()\n",
    "    \n",
    "def delete():\n",
    "    eid=e1.get()\n",
    "    conobj=pymysql.connect(user=\"root\",password=\"root\",database=\"1130to1\")\n",
    "    curobj=conobj.cursor()\n",
    "    count=curobj.execute(\"delete from emp where empid=%s\",(eid,))\n",
    "    if count==0:\n",
    "        messagebox.showerror(\"Delete\",\"empid does not exist\")\n",
    "    else:\n",
    "        messagebox.showinfo(\"Delete\",\"record deleted\")\n",
    "    conobj.commit()\n",
    "    conobj.close()\n",
    "    \n",
    "l1=Label(win,text=\"empid\",font=('arial',20),bg='yellow')\n",
    "l1.place(x=200,y=200)\n",
    "\n",
    "e1=Entry(win,font=('arial',20),bd=5)\n",
    "e1.place(x=350,y=200)\n",
    "\n",
    "b1=Button(win,text=\"fetch data\",bd=5,font=('arial',20),command=fetch)\n",
    "b1.place(x=500,y=250)\n",
    "\n",
    "b2=Button(win,text=\"delete record\",bd=5,font=('arial',20),command=delete)\n",
    "b2.place(x=500,y=350)\n",
    "\n",
    "win.mainloop()"
   ]
  },
  {
   "cell_type": "markdown",
   "metadata": {},
   "source": [
    "#### sqlite\n",
    "-> it is light weight database that manages tables in the form of files.\n",
    "-> it is based on zero cofiguration.\n",
    "-> it supports most of the concepts of rdbms.\n",
    "-> it was actually created for mobile device(android and ios) but now a days it is also supported in desktop devices(computer/laptop).\n",
    "-> python has inbuild support for sqlite database.\n",
    "-> the main advantage of sqlite is, it is easily portable to any device."
   ]
  },
  {
   "cell_type": "code",
   "execution_count": 1,
   "metadata": {},
   "outputs": [
    {
     "name": "stdout",
     "output_type": "stream",
     "text": [
      "Table created\n"
     ]
    }
   ],
   "source": [
    "import sqlite3\n",
    "conobj=sqlite3.connect(database=\"d:/1130to1.sqlite\")\n",
    "curobj=conobj.cursor()\n",
    "curobj.execute(\"create table emp(empid int primary key,empsal float,empname text)\")\n",
    "conobj.close()\n",
    "print(\"Table created\")"
   ]
  },
  {
   "cell_type": "code",
   "execution_count": 2,
   "metadata": {},
   "outputs": [
    {
     "name": "stdout",
     "output_type": "stream",
     "text": [
      "Table created\n"
     ]
    }
   ],
   "source": [
    "import sqlite3\n",
    "conobj=sqlite3.connect(database=\"1130to1.sqlite\")\n",
    "curobj=conobj.cursor()\n",
    "curobj.execute(\"create table emp(empid int primary key,empsal float,empname text)\")\n",
    "conobj.close()\n",
    "print(\"Table created\")"
   ]
  },
  {
   "cell_type": "code",
   "execution_count": 14,
   "metadata": {},
   "outputs": [
    {
     "name": "stdout",
     "output_type": "stream",
     "text": [
      "1 row inserted\n"
     ]
    }
   ],
   "source": [
    "import sqlite3\n",
    "conobj=sqlite3.connect(database=\"1130to1.sqlite\")\n",
    "curobj=conobj.cursor()\n",
    "eid=int(input(\"enter empid:\"))\n",
    "esal=float(input(\"enter empsal\"))\n",
    "ename=input(\"enter empname:\")\n",
    "curobj.execute(\"insert into emp values(?,?,?)\",(eid,esal,ename))\n",
    "print(curobj.rowcount,\"row inserted\")\n",
    "conobj.commit()\n",
    "conobj.close()\n",
    "# print(\"Table created\")"
   ]
  },
  {
   "cell_type": "code",
   "execution_count": 15,
   "metadata": {},
   "outputs": [
    {
     "name": "stdout",
     "output_type": "stream",
     "text": [
      "[(101, 324452.0, 'gwsfb')]\n"
     ]
    }
   ],
   "source": [
    "import sqlite3\n",
    "conobj=sqlite3.connect(database=\"1130to1.sqlite\")\n",
    "curobj=conobj.cursor()\n",
    "curobj.execute(\"select * from emp\")\n",
    "print(curobj.fetchall())\n",
    "conobj.commit()\n",
    "conobj.close()\n"
   ]
  },
  {
   "cell_type": "code",
   "execution_count": 3,
   "metadata": {},
   "outputs": [
    {
     "name": "stdout",
     "output_type": "stream",
     "text": [
      "[(101, 45000.0, 'sonu'), (102, 30000.0, 'monu'), (205, 70000.0, 'virat')]\n"
     ]
    }
   ],
   "source": [
    "import sqlite3\n",
    "conobj=sqlite3.connect(database=r\"C:\\Users\\Raju\\Downloads\\1130to1.sqlite\")\n",
    "curobj=conobj.cursor()\n",
    "curobj.execute(\"select * from emp\")\n",
    "print(curobj.fetchall())\n",
    "conobj.close()"
   ]
  },
  {
   "cell_type": "code",
   "execution_count": null,
   "metadata": {},
   "outputs": [],
   "source": [
    "import sqlite3\n",
    "from tkinter import *\n",
    "from tkinter import messagebox\n",
    "    \n",
    "win=Tk()\n",
    "win.state(\"zoomed\")\n",
    "win.configure(bg=\"yellow\")\n",
    "\n",
    "def fetch():\n",
    "    eid=e1.get()\n",
    "    conobj=sqlite3.connect(database=\"1130to1.sqlite\")\n",
    "    curobj=conobj.cursor()\n",
    "    curobj.execute(\"select * from emp where empid=?\",(eid,))\n",
    "    row=curobj.fetchone()\n",
    "    lbl_res=Label(win,text=\"\",font=('arial',20,'bold'),bg=\"yellow\")\n",
    "    if row==None:\n",
    "        lbl_res.configure(text=\"Empid does not exist\",fg=\"red\")\n",
    "    else:\n",
    "        lbl_res.configure(text=row,fg=\"green\")\n",
    "    lbl_res.place(x=300,y=400)\n",
    "    conobj.close()\n",
    "    \n",
    "l1=Label(win,text=\"empid\",font=('arial',20),bg='yellow')\n",
    "l1.place(x=200,y=200)\n",
    "\n",
    "e1=Entry(win,font=('arial',20),bd=5)\n",
    "e1.place(x=350,y=200)\n",
    "\n",
    "b1=Button(win,text=\"fetch data\",bd=5,font=('arial',20),command=fetch)\n",
    "b1.place(x=500,y=250)\n",
    "\n",
    "win.mainloop()"
   ]
  }
 ],
 "metadata": {
  "kernelspec": {
   "display_name": "Python 3",
   "language": "python",
   "name": "python3"
  },
  "language_info": {
   "codemirror_mode": {
    "name": "ipython",
    "version": 3
   },
   "file_extension": ".py",
   "mimetype": "text/x-python",
   "name": "python",
   "nbconvert_exporter": "python",
   "pygments_lexer": "ipython3",
   "version": "3.11.3"
  }
 },
 "nbformat": 4,
 "nbformat_minor": 2
}
