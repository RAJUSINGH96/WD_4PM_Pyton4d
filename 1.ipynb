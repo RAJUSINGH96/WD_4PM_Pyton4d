{
 "cells": [
  {
   "cell_type": "code",
   "execution_count": 1,
   "metadata": {},
   "outputs": [
    {
     "name": "stdout",
     "output_type": "stream",
     "text": [
      "\n",
      "Phone Numbers Location\n",
      "\n",
      "India\n",
      "India\n",
      "India\n"
     ]
    }
   ],
   "source": [
    "import phonenumbers\n",
    "from phonenumbers import geocoder\n",
    "phone_number1=phonenumbers.parse(\"+919369273221\")\n",
    "phone_number2=phonenumbers.parse(\"+917607063627\")\n",
    "phone_number3=phonenumbers.parse(\"+919608528563\")\n",
    "\n",
    "print(\"\\nPhone Numbers Location\\n\")\n",
    "print(geocoder.description_for_number(phone_number1,\"en\"));\n",
    "print(geocoder.description_for_number(phone_number2,\"en\"));\n",
    "print(geocoder.description_for_number(phone_number3,\"en\"));"
   ]
  },
  {
   "cell_type": "code",
   "execution_count": 4,
   "metadata": {},
   "outputs": [
    {
     "name": "stdout",
     "output_type": "stream",
     "text": [
      "India\n",
      "Reliance Jio\n"
     ]
    },
    {
     "ename": "IndexError",
     "evalue": "list index out of range",
     "output_type": "error",
     "traceback": [
      "\u001b[1;31m---------------------------------------------------------------------------\u001b[0m",
      "\u001b[1;31mIndexError\u001b[0m                                Traceback (most recent call last)",
      "\u001b[1;32mc:\\Users\\Raju\\Desktop\\new\\WD_4PM_python\\WD_4PM_Pyton4d\\1.ipynb Cell 2\u001b[0m line \u001b[0;36m2\n\u001b[0;32m     <a href='vscode-notebook-cell:/c%3A/Users/Raju/Desktop/new/WD_4PM_python/WD_4PM_Pyton4d/1.ipynb#W1sZmlsZQ%3D%3D?line=18'>19</a>\u001b[0m Query \u001b[39m=\u001b[39m \u001b[39mstr\u001b[39m(phone_number3)\n\u001b[0;32m     <a href='vscode-notebook-cell:/c%3A/Users/Raju/Desktop/new/WD_4PM_python/WD_4PM_Pyton4d/1.ipynb#W1sZmlsZQ%3D%3D?line=19'>20</a>\u001b[0m results \u001b[39m=\u001b[39m geocoder\u001b[39m.\u001b[39mgeocode(Query)\n\u001b[1;32m---> <a href='vscode-notebook-cell:/c%3A/Users/Raju/Desktop/new/WD_4PM_python/WD_4PM_Pyton4d/1.ipynb#W1sZmlsZQ%3D%3D?line=21'>22</a>\u001b[0m lat \u001b[39m=\u001b[39m results[\u001b[39m1\u001b[39;49m][\u001b[39m'\u001b[39m\u001b[39mgeometry\u001b[39m\u001b[39m'\u001b[39m][\u001b[39m'\u001b[39m\u001b[39mlat\u001b[39m\u001b[39m'\u001b[39m]\n\u001b[0;32m     <a href='vscode-notebook-cell:/c%3A/Users/Raju/Desktop/new/WD_4PM_python/WD_4PM_Pyton4d/1.ipynb#W1sZmlsZQ%3D%3D?line=22'>23</a>\u001b[0m lng \u001b[39m=\u001b[39m results[\u001b[39m0\u001b[39m][\u001b[39m'\u001b[39m\u001b[39mgeometry\u001b[39m\u001b[39m'\u001b[39m][\u001b[39m'\u001b[39m\u001b[39mlng\u001b[39m\u001b[39m'\u001b[39m]\n\u001b[0;32m     <a href='vscode-notebook-cell:/c%3A/Users/Raju/Desktop/new/WD_4PM_python/WD_4PM_Pyton4d/1.ipynb#W1sZmlsZQ%3D%3D?line=23'>24</a>\u001b[0m \u001b[39mprint\u001b[39m(lat,lng)\n",
      "\u001b[1;31mIndexError\u001b[0m: list index out of range"
     ]
    }
   ],
   "source": [
    "import phonenumbers\n",
    "from phonenumbers import geocoder\n",
    "import folium\n",
    "\n",
    "key=\"6d6f969fd9024ac8afde957f0c86a5ba\"\n",
    "\n",
    "# phone_number1=phonenumbers.parse(\"+919369273221\")\n",
    "# phone_number2=phonenumbers.parse(\"+917607063627\")\n",
    "phone_number3=phonenumbers.parse(\"+919608528563\")\n",
    "print(geocoder.description_for_number(phone_number3,\"en\"));\n",
    "\n",
    "from phonenumbers import carrier\n",
    "service_provider=phonenumbers.parse(\"+919608528563\")\n",
    "print(carrier.name_for_number(service_provider,\"en\"))\n",
    "\n",
    "from opencage.geocoder import OpenCageGeocode\n",
    "geocoder=OpenCageGeocode(key)\n",
    "\n",
    "Query = str(phone_number3)\n",
    "results = geocoder.geocode(Query)\n",
    "\n",
    "lat = results[0]['geometry']['lat']\n",
    "lng = results[0]['geometry']['lng']\n",
    "print(lat,lng)"
   ]
  },
  {
   "cell_type": "code",
   "execution_count": 5,
   "metadata": {},
   "outputs": [
    {
     "name": "stdout",
     "output_type": "stream",
     "text": [
      "India\n",
      "Reliance Jio\n",
      "22.3511148 78.6677428\n"
     ]
    }
   ],
   "source": [
    "import phonenumbers\n",
    "from phonenumbers import geocoder \n",
    "# from test import number\n",
    "import folium\n",
    "\n",
    "Key = \"6d6f969fd9024ac8afde957f0c86a5ba\"\n",
    "\n",
    "# number = input(\"Enter phone number with country code:\")\n",
    "check_number = phonenumbers.parse(\"+919608528563\")\n",
    "number_location = geocoder.description_for_number(check_number, \"en\")\n",
    "print(number_location)\n",
    "\n",
    "\n",
    "from phonenumbers import carrier \n",
    "service_provider = phonenumbers.parse(\"+919608528563\")\n",
    "print(carrier.name_for_number(service_provider, \"en\"))\n",
    "\n",
    "from opencage.geocoder import OpenCageGeocode\n",
    "geocoder = OpenCageGeocode(Key)\n",
    "\n",
    "query = str(number_location)\n",
    "results = geocoder.geocode(query)\n",
    "\n",
    "lat = results[0]['geometry']['lat']\n",
    "lng = results[0]['geometry']['lng']\n",
    "print(lat,lng)\n",
    "\n",
    "map_location = folium.Map(location = [lat,lng], zoom_start=9)\n",
    "folium.Marker([lat,lng], popup=number_location).add_to(map_location)\n",
    "map_location.save(\"mylocation.html\")"
   ]
  }
 ],
 "metadata": {
  "kernelspec": {
   "display_name": "Python 3",
   "language": "python",
   "name": "python3"
  },
  "language_info": {
   "codemirror_mode": {
    "name": "ipython",
    "version": 3
   },
   "file_extension": ".py",
   "mimetype": "text/x-python",
   "name": "python",
   "nbconvert_exporter": "python",
   "pygments_lexer": "ipython3",
   "version": "3.11.3"
  }
 },
 "nbformat": 4,
 "nbformat_minor": 2
}
