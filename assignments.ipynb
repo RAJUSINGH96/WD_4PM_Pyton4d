{
 "cells": [
  {
   "cell_type": "code",
   "execution_count": 3,
   "metadata": {},
   "outputs": [
    {
     "name": "stdout",
     "output_type": "stream",
     "text": [
      "odd 1 even 2 odd 3 even 4 odd 5 even 6 odd 7 even 8 odd 9 even 10 odd 11 even 12 odd 13 even 14 odd 15 even 16 odd 17 even 18 odd 19 even 20 odd 21 even 22 odd 23 even 24 odd 25 even 26 odd 27 even 28 odd 29 even 30 odd 31 even 32 odd 33 even 34 odd 35 even 36 odd 37 even 38 odd 39 even 40 odd 41 even 42 odd 43 even 44 odd 45 even 46 odd 47 even 48 odd 49 even 50 odd 51 even 52 odd 53 even 54 odd 55 even 56 odd 57 even 58 odd 59 even 60 odd 61 even 62 odd 63 even 64 odd 65 even 66 odd 67 even 68 odd 69 even 70 odd 71 even 72 odd 73 even 74 odd 75 even 76 odd 77 even 78 odd 79 even 80 odd 81 even 82 odd 83 even 84 odd 85 even 86 odd 87 even 88 odd 89 even 90 odd 91 even 92 odd 93 even 94 odd 95 even 96 odd 97 even 98 odd 99 "
     ]
    }
   ],
   "source": [
    "# 1. wap to print all even and odd numbers between 1 and 100.\n",
    "for i in range(1,100):\n",
    "    if i%2==0:\n",
    "        print(\"even\",i,end=\" \")\n",
    "    if i%2!=0:\n",
    "        print(\"odd\",i,end=\" \")"
   ]
  },
  {
   "cell_type": "code",
   "execution_count": 4,
   "metadata": {},
   "outputs": [
    {
     "name": "stdout",
     "output_type": "stream",
     "text": [
      "even 100 odd 99 even 98 odd 97 even 96 odd 95 even 94 odd 93 even 92 odd 91 even 90 odd 89 even 88 odd 87 even 86 odd 85 even 84 odd 83 even 82 odd 81 even 80 odd 79 even 78 odd 77 even 76 odd 75 even 74 odd 73 even 72 odd 71 even 70 odd 69 even 68 odd 67 even 66 odd 65 even 64 odd 63 even 62 odd 61 even 60 odd 59 even 58 odd 57 even 56 odd 55 even 54 odd 53 even 52 odd 51 even 50 odd 49 even 48 odd 47 even 46 odd 45 even 44 odd 43 even 42 odd 41 even 40 odd 39 even 38 odd 37 even 36 odd 35 even 34 odd 33 even 32 odd 31 even 30 odd 29 even 28 odd 27 even 26 odd 25 even 24 odd 23 even 22 odd 21 even 20 odd 19 even 18 odd 17 even 16 odd 15 even 14 odd 13 even 12 odd 11 even 10 odd 9 even 8 odd 7 even 6 odd 5 even 4 odd 3 even 2 "
     ]
    }
   ],
   "source": [
    "# 2. wap to print all even and odd numbers between 100 and 1.\n",
    "for i in range(100,1,-1):\n",
    "    if i%2==0:\n",
    "        print(\"even\",i,end=\" \")\n",
    "    if i%2!=0:\n",
    "        print(\"odd\",i,end=\" \")"
   ]
  },
  {
   "cell_type": "code",
   "execution_count": 6,
   "metadata": {},
   "outputs": [
    {
     "name": "stdout",
     "output_type": "stream",
     "text": [
      "5050\n"
     ]
    }
   ],
   "source": [
    "# 3. wap to print sum of numbers from 1 and 100.\n",
    "def recuesum(n):\n",
    "    if n<=1:\n",
    "        return n\n",
    "    return n +recuesum(n-1)\n",
    "n=100\n",
    "print(recuesum(n))"
   ]
  },
  {
   "cell_type": "code",
   "execution_count": 20,
   "metadata": {},
   "outputs": [
    {
     "name": "stdout",
     "output_type": "stream",
     "text": [
      "5050\n"
     ]
    }
   ],
   "source": [
    "# 3. wap to print sum of numbers from 1 and 100.\n",
    "c=0\n",
    "for i in range(1,101):\n",
    "    c+=i\n",
    "print(c)"
   ]
  },
  {
   "cell_type": "code",
   "execution_count": 31,
   "metadata": {},
   "outputs": [
    {
     "name": "stdout",
     "output_type": "stream",
     "text": [
      "385 "
     ]
    }
   ],
   "source": [
    "# 4. wap to print sum of the following series 1**2+2**2+3**2+......+10**2.\n",
    "c=0\n",
    "for i in range(1,11):\n",
    "    c+=i**2\n",
    "print(c,end=\" \")"
   ]
  },
  {
   "cell_type": "code",
   "execution_count": 39,
   "metadata": {},
   "outputs": [
    {
     "name": "stdout",
     "output_type": "stream",
     "text": [
      "385 "
     ]
    }
   ],
   "source": [
    "# 4. wap to print sum of the following series 1**2+2**2+3**2+......+10**2.\n",
    "c=0\n",
    "for i in range(1,11):\n",
    "    sqr=i*i\n",
    "    c=c+sqr\n",
    "print(c,end=\" \")"
   ]
  },
  {
   "cell_type": "code",
   "execution_count": 38,
   "metadata": {},
   "outputs": [
    {
     "name": "stdout",
     "output_type": "stream",
     "text": [
      "3628800\n"
     ]
    }
   ],
   "source": [
    "# 5. wap to print calculate the factorial of number entered through keyboard.\n",
    "s=int(input(\"enter number:\"))\n",
    "x=1\n",
    "for i in range(1,s+1):\n",
    "    x*=i\n",
    "print(x)"
   ]
  },
  {
   "cell_type": "code",
   "execution_count": 40,
   "metadata": {},
   "outputs": [
    {
     "name": "stdout",
     "output_type": "stream",
     "text": [
      "120\n"
     ]
    }
   ],
   "source": [
    "# 5. wap to print calculate the factorial of number entered through keyboard.\n",
    "s=int(input(\"enter number:\"))\n",
    "x=1\n",
    "for i in range(1,s+1):\n",
    "    x*=i\n",
    "print(x)"
   ]
  },
  {
   "cell_type": "code",
   "execution_count": 1,
   "metadata": {},
   "outputs": [
    {
     "name": "stdout",
     "output_type": "stream",
     "text": [
      "385\n"
     ]
    }
   ],
   "source": [
    "x=0\n",
    "for i in range(1,11):\n",
    "    x+=i**2\n",
    "print(x)"
   ]
  },
  {
   "cell_type": "code",
   "execution_count": 4,
   "metadata": {},
   "outputs": [
    {
     "name": "stdout",
     "output_type": "stream",
     "text": [
      "prime\n"
     ]
    }
   ],
   "source": [
    "x=int(input(\"enter number:\"))\n",
    "s=2\n",
    "while(s<x):\n",
    "    if(x%s==0):\n",
    "        print(\"not prime\")\n",
    "        break\n",
    "    s+=1\n",
    "else:\n",
    "    print(\"prime\")"
   ]
  },
  {
   "cell_type": "code",
   "execution_count": 1,
   "metadata": {},
   "outputs": [],
   "source": [
    "# 4. wap to print sum of the following series 1**2+2**2+3**2+......+10**2.\n",
    "# 5. wap to print calculate the factorial of number entered through keyboard.\n",
    "# 6. wap to check prime number entered through keyboard. \n",
    "# 7. write a python program that prints all the numbers from 0 to 6 except 3 and 6.\n",
    "# (note:use 'continue' statement.)\n",
    "# 8. write a python program to get the fibonacci series between 0 to 50.\n",
    "#  note:the fibonacci sequence is the seriesof numbers:\n",
    "#  (0,1,1,2,3,5,8,13,21,....)\n",
    "#   every next number is found by adding up the two numbers before it.\n",
    "# 9. calculate the cube of all numbers from 1 to a given number.\n",
    "# 10.write a program to count the total number of digits in a number.\n",
    "#  for example, the number is 75869,so the output should be 5. "
   ]
  },
  {
   "cell_type": "code",
   "execution_count": 9,
   "metadata": {},
   "outputs": [
    {
     "name": "stdout",
     "output_type": "stream",
     "text": [
      "prime\n"
     ]
    }
   ],
   "source": [
    "# 6. wap to check prime number entered through keyboard. \n",
    "u=int(input(\"enter a number:\"))\n",
    "s=2\n",
    "while(s<u):\n",
    "    if(u%s==0):\n",
    "        print(\"not prime\")\n",
    "        break\n",
    "    s+=1\n",
    "else:\n",
    "    print(\"prime\")"
   ]
  },
  {
   "cell_type": "code",
   "execution_count": 6,
   "metadata": {},
   "outputs": [
    {
     "name": "stdout",
     "output_type": "stream",
     "text": [
      "0\n",
      "1\n",
      "2\n",
      "4\n",
      "5\n"
     ]
    }
   ],
   "source": [
    "#  7. write a python program that prints all the numbers from 0 to 6 except 3 and 6.\n",
    "for i in range(0,6):\n",
    "    if i<=2:\n",
    "        print(i)\n",
    "    elif 3<i<6:\n",
    "        print(i)    "
   ]
  },
  {
   "cell_type": "code",
   "execution_count": 41,
   "metadata": {},
   "outputs": [
    {
     "name": "stdout",
     "output_type": "stream",
     "text": [
      "0\n",
      "1\n",
      "2\n",
      "4\n",
      "5\n"
     ]
    }
   ],
   "source": [
    "for i in range(0,7):\n",
    "    if (i==3 or i==6):\n",
    "        continue\n",
    "    print(i)"
   ]
  },
  {
   "cell_type": "code",
   "execution_count": 12,
   "metadata": {},
   "outputs": [
    {
     "name": "stdout",
     "output_type": "stream",
     "text": [
      "0\n",
      "1\n",
      "2\n",
      "4\n",
      "5\n"
     ]
    }
   ],
   "source": [
    "i=0\n",
    "while i<6:\n",
    "    if i==3:\n",
    "        i+=1\n",
    "        continue\n",
    "    print(i)\n",
    "    i+=1"
   ]
  },
  {
   "cell_type": "code",
   "execution_count": 11,
   "metadata": {},
   "outputs": [
    {
     "name": "stdout",
     "output_type": "stream",
     "text": [
      "0 1 1 2 3 5 8 13 21 34 "
     ]
    }
   ],
   "source": [
    "# 8. write a python program to get the fibonacci series between 0 to 50.\n",
    "#  note:the fibonacci sequence is the series of numbers:\n",
    "#  (0,1,1,2,3,5,8,13,21,....)\n",
    "#   every next number is found by adding up the two numbers before it.\n",
    "a=0\n",
    "b=1\n",
    "print(a,b,end=\" \")\n",
    "while(True):\n",
    "   c=a+b\n",
    "   if(c>50):\n",
    "      break\n",
    "   print(c,end=\" \")\n",
    "   a=b\n",
    "   b=c"
   ]
  },
  {
   "cell_type": "code",
   "execution_count": 13,
   "metadata": {},
   "outputs": [
    {
     "name": "stdout",
     "output_type": "stream",
     "text": [
      "1 8 27 64 125 216 "
     ]
    }
   ],
   "source": [
    "# 9. calculate the cube of all numbers from 1 to a given number.\n",
    "u=int(input(\"enter a number:\"))\n",
    "for i in range(1,u+1):\n",
    "    print(i**3,end=\" \")"
   ]
  },
  {
   "cell_type": "code",
   "execution_count": 42,
   "metadata": {},
   "outputs": [
    {
     "name": "stdout",
     "output_type": "stream",
     "text": [
      "cube of 1 =1\n",
      "cube of 2 =8\n",
      "cube of 3 =27\n",
      "cube of 4 =64\n",
      "cube of 5 =125\n",
      "cube of 6 =216\n"
     ]
    }
   ],
   "source": [
    "# 9. calculate the cube of all numbers from 1 to a given number.\n",
    "u=int(input(\"enter a number:\"))\n",
    "for i in range(1,u+1):\n",
    "    print(f\"cube of {i} ={i**3}\")"
   ]
  },
  {
   "cell_type": "code",
   "execution_count": 14,
   "metadata": {},
   "outputs": [
    {
     "name": "stdout",
     "output_type": "stream",
     "text": [
      "14\n"
     ]
    }
   ],
   "source": [
    "# 10.write a program to count the total number of digits in a number.\n",
    "#  for example, the number is 75869,so the output should be 5. \n",
    "num=(input(\"enter your phone number:\"))\n",
    "print(len(num))"
   ]
  },
  {
   "cell_type": "code",
   "execution_count": 16,
   "metadata": {},
   "outputs": [
    {
     "name": "stdout",
     "output_type": "stream",
     "text": [
      "6\n"
     ]
    }
   ],
   "source": [
    "x=input(\"enter your phone number:\")\n",
    "c=0\n",
    "for i in x:\n",
    "    c+=1\n",
    "print(c)"
   ]
  },
  {
   "cell_type": "code",
   "execution_count": 18,
   "metadata": {},
   "outputs": [
    {
     "name": "stdout",
     "output_type": "stream",
     "text": [
      "10\n"
     ]
    }
   ],
   "source": [
    "x=input(\"enter your phone number:\")\n",
    "c=0\n",
    "for i in x:\n",
    "    c+=1\n",
    "print(c)"
   ]
  },
  {
   "cell_type": "code",
   "execution_count": null,
   "metadata": {},
   "outputs": [],
   "source": []
  }
 ],
 "metadata": {
  "kernelspec": {
   "display_name": "Python 3",
   "language": "python",
   "name": "python3"
  },
  "language_info": {
   "codemirror_mode": {
    "name": "ipython",
    "version": 3
   },
   "file_extension": ".py",
   "mimetype": "text/x-python",
   "name": "python",
   "nbconvert_exporter": "python",
   "pygments_lexer": "ipython3",
   "version": "3.11.3"
  },
  "orig_nbformat": 4
 },
 "nbformat": 4,
 "nbformat_minor": 2
}
