{
 "cells": [
  {
   "cell_type": "code",
   "execution_count": 1,
   "metadata": {},
   "outputs": [
    {
     "name": "stdout",
     "output_type": "stream",
     "text": [
      "[10, 2.5, 10, 'hi', [30, 50]]\n",
      "10\n",
      "10\n",
      "30\n"
     ]
    }
   ],
   "source": [
    "x=[10,2.5,10,\"hi\",[30,50]]\n",
    "print(x)\n",
    "print(x[0])\n",
    "print(x[-3])\n",
    "print(x[-1][0])"
   ]
  },
  {
   "cell_type": "code",
   "execution_count": 2,
   "metadata": {},
   "outputs": [
    {
     "name": "stdout",
     "output_type": "stream",
     "text": [
      "10\n",
      "2.5\n",
      "10\n",
      "hi\n",
      "[30, 50]\n"
     ]
    }
   ],
   "source": [
    "x=[10,2.5,10,\"hi\",[30,50]]\n",
    "for i in x:\n",
    "    print(i)"
   ]
  },
  {
   "cell_type": "code",
   "execution_count": 3,
   "metadata": {},
   "outputs": [
    {
     "name": "stdout",
     "output_type": "stream",
     "text": [
      "4000\n",
      "9000\n",
      "5\n",
      "29000\n",
      "5800.0\n",
      "True\n",
      "[4000, 5000, 5000, 6000, 9000]\n",
      "[9000, 6000, 5000, 5000, 4000]\n"
     ]
    }
   ],
   "source": [
    "s=[4000,5000,9000,6000,5000]\n",
    "print(min(s))\n",
    "print(max(s))\n",
    "print(len(s))\n",
    "print(sum(s))\n",
    "print(sum(s)/len(s))\n",
    "print(5000 in s)\n",
    "print(sorted(s))\n",
    "print(sorted(s,reverse=True))"
   ]
  },
  {
   "cell_type": "code",
   "execution_count": 5,
   "metadata": {},
   "outputs": [
    {
     "name": "stdout",
     "output_type": "stream",
     "text": [
      "[10, 20]\n",
      "[10, 20, 5]\n",
      "[50, 10, 20, 5]\n",
      "[100, 10, 20, 5]\n"
     ]
    }
   ],
   "source": [
    "x=[10,20]\n",
    "print(x)\n",
    "x.append(5)\n",
    "print(x)\n",
    "x.insert(0,50)\n",
    "print(x)\n",
    "x[0]=100\n",
    "print(x)"
   ]
  },
  {
   "cell_type": "code",
   "execution_count": 8,
   "metadata": {},
   "outputs": [
    {
     "name": "stdout",
     "output_type": "stream",
     "text": [
      "[10, 20, 10, 30]\n",
      "[10, 20, 10, 30]\n",
      "[10, 20, 10, 30, [10, 30]]\n"
     ]
    }
   ],
   "source": [
    "x=[10,20]\n",
    "y=[10,30]\n",
    "z=x+y\n",
    "print(z)\n",
    "x.extend(y)\n",
    "print(x)\n",
    "x.append(y)\n",
    "print(x)"
   ]
  },
  {
   "cell_type": "code",
   "execution_count": 12,
   "metadata": {},
   "outputs": [
    {
     "name": "stdout",
     "output_type": "stream",
     "text": [
      "[10, 20, 30, 40, 50, 60]\n",
      "[20, 30, 40, 50, 60]\n",
      "[30, 40, 50, 60]\n",
      "20\n",
      "[30, 40, 60]\n",
      "[]\n"
     ]
    }
   ],
   "source": [
    "x=[10,20,30,40,50,60]\n",
    "print(x)\n",
    "del x[0]\n",
    "print(x)\n",
    "v=x.pop(0)\n",
    "print(x)\n",
    "print(v)\n",
    "x.remove(50)\n",
    "print(x)\n",
    "x.clear()\n",
    "print(x)"
   ]
  },
  {
   "cell_type": "code",
   "execution_count": 13,
   "metadata": {},
   "outputs": [
    {
     "name": "stdout",
     "output_type": "stream",
     "text": [
      "[10, 20, 30, 20, 40, 20, 96, 20, 10, 60]\n",
      "[10, 30, 40, 96, 10, 60]\n"
     ]
    }
   ],
   "source": [
    "x=[10,20,30,20,40,20,96,20,10,60]\n",
    "print(x)\n",
    "x.remove(20)\n",
    "x.remove(20)\n",
    "x.remove(20)\n",
    "x.remove(20)\n",
    "print(x)"
   ]
  },
  {
   "cell_type": "code",
   "execution_count": 14,
   "metadata": {},
   "outputs": [
    {
     "name": "stdout",
     "output_type": "stream",
     "text": [
      "[10, 20, 30, 20, 40, 20, 96, 20, 10, 60]\n",
      "[10, 30, 40, 96, 10, 60]\n"
     ]
    }
   ],
   "source": [
    "x=[10,20,30,20,40,20,96,20,10,60]\n",
    "print(x)\n",
    "while (20 in x):\n",
    "    x.remove(20)\n",
    "print(x)"
   ]
  },
  {
   "cell_type": "code",
   "execution_count": 15,
   "metadata": {},
   "outputs": [
    {
     "name": "stdout",
     "output_type": "stream",
     "text": [
      "[5, 65, 8765]\n"
     ]
    }
   ],
   "source": [
    "x=[]\n",
    "v=int(input(\"enter value:\"))\n",
    "x.append(v)\n",
    "v=int(input(\"enter value:\"))\n",
    "x.append(v)\n",
    "v=int(input(\"enter value:\"))\n",
    "x.append(v)\n",
    "print(x)"
   ]
  },
  {
   "cell_type": "code",
   "execution_count": 16,
   "metadata": {},
   "outputs": [
    {
     "name": "stdout",
     "output_type": "stream",
     "text": [
      "[5, 65, 8765]\n"
     ]
    }
   ],
   "source": [
    "x=[]\n",
    "for i in range(3):\n",
    "    v=int(input(\"enter value:\"))\n",
    "    x.append(v)\n",
    "print(x)"
   ]
  },
  {
   "cell_type": "code",
   "execution_count": 17,
   "metadata": {},
   "outputs": [
    {
     "name": "stdout",
     "output_type": "stream",
     "text": [
      "[]\n",
      "[1, 2, 3, 4, 5, 6, 7, 8, 9]\n"
     ]
    }
   ],
   "source": [
    "x=list()\n",
    "print(x)\n",
    "x=list(range(1,10))\n",
    "print(x)"
   ]
  },
  {
   "cell_type": "code",
   "execution_count": 18,
   "metadata": {},
   "outputs": [
    {
     "name": "stdout",
     "output_type": "stream",
     "text": [
      "['I', 'n', 'd', 'i', 'a']\n",
      "['I', 'n', 'd', 'i', 'a', 'z']\n"
     ]
    }
   ],
   "source": [
    "x=list(\"India\")\n",
    "print(x)\n",
    "y=list(x)\n",
    "y.append(\"z\")\n",
    "print(y)"
   ]
  },
  {
   "cell_type": "code",
   "execution_count": 19,
   "metadata": {},
   "outputs": [
    {
     "name": "stdout",
     "output_type": "stream",
     "text": [
      "[1, 4, 9, 16]\n"
     ]
    }
   ],
   "source": [
    "x=[i*i for i in range(1,5)]\n",
    "print(x)"
   ]
  },
  {
   "cell_type": "code",
   "execution_count": 20,
   "metadata": {},
   "outputs": [
    {
     "name": "stdout",
     "output_type": "stream",
     "text": [
      "[1, 4, 9, 16]\n"
     ]
    }
   ],
   "source": [
    "x=[]\n",
    "for i in range(1,5):\n",
    "    x.append(i*i)\n",
    "print(x)"
   ]
  },
  {
   "cell_type": "code",
   "execution_count": 21,
   "metadata": {},
   "outputs": [
    {
     "name": "stdout",
     "output_type": "stream",
     "text": [
      "[4, 9, 16, 25]\n"
     ]
    }
   ],
   "source": [
    "x=[i**2 for i in range(2,6)]\n",
    "print(x)"
   ]
  },
  {
   "cell_type": "code",
   "execution_count": 22,
   "metadata": {},
   "outputs": [
    {
     "name": "stdout",
     "output_type": "stream",
     "text": [
      "[4, 9, 16, 25]\n"
     ]
    }
   ],
   "source": [
    "x=[]\n",
    "for i in range(2,6):\n",
    "    x.append(i**2)\n",
    "print(x)"
   ]
  },
  {
   "cell_type": "code",
   "execution_count": 23,
   "metadata": {},
   "outputs": [
    {
     "name": "stdout",
     "output_type": "stream",
     "text": [
      "[8, 9, 0, 4]\n"
     ]
    }
   ],
   "source": [
    "x=[int(input(\"enter value:\")) for i in range(2,6)]\n",
    "print(x)"
   ]
  },
  {
   "cell_type": "code",
   "execution_count": 1,
   "metadata": {},
   "outputs": [
    {
     "name": "stdout",
     "output_type": "stream",
     "text": [
      "[8, 9, 0, 3]\n"
     ]
    }
   ],
   "source": [
    "x=[]\n",
    "for i in range(2,6):\n",
    "    v=int(input(\"enter value:\"))\n",
    "    x.append(v)\n",
    "print(x)"
   ]
  },
  {
   "cell_type": "code",
   "execution_count": 2,
   "metadata": {},
   "outputs": [
    {
     "name": "stdout",
     "output_type": "stream",
     "text": [
      "[2, 3, 4, 6, 6, 9, 8, 12]\n"
     ]
    }
   ],
   "source": [
    "x=[i*j for i in range(1,5) for j in range(2,4)]\n",
    "print(x)"
   ]
  },
  {
   "cell_type": "code",
   "execution_count": 3,
   "metadata": {},
   "outputs": [
    {
     "name": "stdout",
     "output_type": "stream",
     "text": [
      "[2, 3, 4, 6, 6, 9, 8, 12]\n"
     ]
    }
   ],
   "source": [
    "x=[]\n",
    "for i in range(1,5):\n",
    "    for j in range(2,4):\n",
    "        x.append(i*j)\n",
    "print(x)"
   ]
  },
  {
   "cell_type": "code",
   "execution_count": 5,
   "metadata": {},
   "outputs": [
    {
     "name": "stdout",
     "output_type": "stream",
     "text": [
      "[[2, 3, 4], [4, 6, 8], [6, 9, 12], [8, 12, 16]]\n"
     ]
    }
   ],
   "source": [
    "x=[[i*j for i in range(2,5)] for j in range(1,5)]\n",
    "print(x)"
   ]
  },
  {
   "cell_type": "code",
   "execution_count": null,
   "metadata": {},
   "outputs": [],
   "source": []
  }
 ],
 "metadata": {
  "kernelspec": {
   "display_name": "Python 3",
   "language": "python",
   "name": "python3"
  },
  "language_info": {
   "codemirror_mode": {
    "name": "ipython",
    "version": 3
   },
   "file_extension": ".py",
   "mimetype": "text/x-python",
   "name": "python",
   "nbconvert_exporter": "python",
   "pygments_lexer": "ipython3",
   "version": "3.11.3"
  },
  "orig_nbformat": 4
 },
 "nbformat": 4,
 "nbformat_minor": 2
}
