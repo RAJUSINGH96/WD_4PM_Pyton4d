{
 "cells": [
  {
   "cell_type": "code",
   "execution_count": 1,
   "metadata": {},
   "outputs": [
    {
     "name": "stdout",
     "output_type": "stream",
     "text": [
      "2\n"
     ]
    }
   ],
   "source": [
    "import pymysql\n",
    "conobj=pymysql.connect(host=\"localhost\",user=\"root\",password=\"root\",database=\"1130to1\",port=3306)\n",
    "curobj=conobj.cursor()\n",
    "count=curobj.execute('insert into emp values(107,\"stark\",25000,\"bowling\"),(108,\"smith\",30000,\"batting\")')\n",
    "print(count)\n",
    "conobj.commit()\n",
    "conobj.close()"
   ]
  },
  {
   "cell_type": "code",
   "execution_count": 2,
   "metadata": {},
   "outputs": [
    {
     "name": "stdout",
     "output_type": "stream",
     "text": [
      "row inserted\n"
     ]
    }
   ],
   "source": [
    "import pymysql\n",
    "conobj=pymysql.connect(host=\"localhost\",user=\"root\",password=\"root\",database=\"1130to1\",port=3306)\n",
    "curobj=conobj.cursor()\n",
    "count=curobj.execute('insert into emp values(109,\"pant\",50000,\"batting\")')\n",
    "print(\"row inserted\")\n",
    "conobj.commit()\n",
    "conobj.close()"
   ]
  },
  {
   "cell_type": "code",
   "execution_count": 3,
   "metadata": {},
   "outputs": [
    {
     "name": "stdout",
     "output_type": "stream",
     "text": [
      "somthing went wrong,kindly check your code\n"
     ]
    }
   ],
   "source": [
    "import pymysql\n",
    "try:\n",
    "    conobj=pymysql.connect(host=\"localhost\",user=\"root\",password=\"root\",database=\"1130to1\",port=3306)\n",
    "    curobj=conobj.cursor()\n",
    "    count=curobj.execute('insert into emp values(109,\"pant\",50000,\"batting\")')\n",
    "    print(\"row inserted\")\n",
    "except:\n",
    "    print(\"somthing went wrong,kindly check your code\")\n",
    "finally:    \n",
    "    conobj.commit()\n",
    "    conobj.close()"
   ]
  },
  {
   "cell_type": "code",
   "execution_count": 4,
   "metadata": {},
   "outputs": [
    {
     "name": "stdout",
     "output_type": "stream",
     "text": [
      "somthing went wrong,kindly check your code (1062, \"Duplicate entry '109' for key 'emp.PRIMARY'\")\n"
     ]
    }
   ],
   "source": [
    "import pymysql\n",
    "try:\n",
    "    conobj=pymysql.connect(host=\"localhost\",user=\"root\",password=\"root\",database=\"1130to1\",port=3306)\n",
    "    curobj=conobj.cursor()\n",
    "    count=curobj.execute('insert into emp values(109,\"pant\",50000,\"batting\")')\n",
    "    print(\"row inserted\")\n",
    "except Exception as e:\n",
    "    print(\"somthing went wrong,kindly check your code\",e)\n",
    "finally:    \n",
    "    conobj.commit()\n",
    "    conobj.close()"
   ]
  },
  {
   "cell_type": "code",
   "execution_count": 6,
   "metadata": {},
   "outputs": [
    {
     "name": "stdout",
     "output_type": "stream",
     "text": [
      "row inserted\n"
     ]
    }
   ],
   "source": [
    "import pymysql\n",
    "try:\n",
    "    conobj=pymysql.connect(user=\"root\",password=\"root\",database=\"1130to1\")\n",
    "    curobj=conobj.cursor()\n",
    "    eid=int(input(\"enter empid:\"))\n",
    "    en=input(\"enter name:\")\n",
    "    esal=float(input(\"enter empsal:\"))\n",
    "    ed=input(\"enter dept:\")\n",
    "    curobj.execute(f\"insert into emp values({eid},'{en}',{esal},'{ed}')\")\n",
    "    print(\"row inserted\")\n",
    "except Exception as e:\n",
    "    print(\"somthing went wrong\",e)\n",
    "finally:\n",
    "    conobj.commit()\n",
    "    conobj.close()"
   ]
  },
  {
   "cell_type": "code",
   "execution_count": 7,
   "metadata": {},
   "outputs": [
    {
     "name": "stdout",
     "output_type": "stream",
     "text": [
      "row inserted\n"
     ]
    }
   ],
   "source": [
    "import pymysql\n",
    "try:\n",
    "    conobj=pymysql.connect(user=\"root\",password=\"root\",database=\"1130to1\")\n",
    "    curobj=conobj.cursor()\n",
    "    eid=int(input(\"enter empid:\"))\n",
    "    en=input(\"enter name:\")\n",
    "    esal=float(input(\"enter empsal:\"))\n",
    "    ed=input(\"enter dept:\")\n",
    "    curobj.execute(\"insert into emp values(%s,%s,%s,%s)\",(eid,en,esal,ed))\n",
    "    print(\"row inserted\")\n",
    "except Exception as e:\n",
    "    print(\"somthing went wrong\",e)\n",
    "finally:\n",
    "    conobj.commit()\n",
    "    conobj.close()"
   ]
  },
  {
   "cell_type": "code",
   "execution_count": 8,
   "metadata": {},
   "outputs": [
    {
     "name": "stdout",
     "output_type": "stream",
     "text": [
      "somting went wrong (1062, \"Duplicate entry '109' for key 'emp.PRIMARY'\")\n"
     ]
    }
   ],
   "source": [
    "import pymysql\n",
    "try:\n",
    "    conobj=pymysql.connect(user=\"root\",password=\"root\",database=\"1130to1\")\n",
    "    curobj=conobj.cursor()\n",
    "    eid=int(input(\"enter id:\"))\n",
    "    en=input(\"enter name:\")\n",
    "    esal=float(input(\"enter empsal:\"))\n",
    "    ed=input(\"enter dept:\")\n",
    "    curobj.execute(\"insert into emp values(%s,%s,%s,%s)\",(eid,en,esal,ed))\n",
    "    print(\"row inserted\")\n",
    "except Exception as e:\n",
    "    print(\"somting went wrong\",e)\n",
    "finally:\n",
    "    conobj.commit()\n",
    "    conobj.close()"
   ]
  },
  {
   "cell_type": "code",
   "execution_count": 9,
   "metadata": {},
   "outputs": [
    {
     "name": "stdout",
     "output_type": "stream",
     "text": [
      "somthing went wrong (1062, \"Duplicate entry '106' for key 'emp.PRIMARY'\")\n"
     ]
    }
   ],
   "source": [
    "import pymysql\n",
    "try:\n",
    "    conobj=pymysql.connect(user=\"root\",password=\"root\",database=\"1130to1\")\n",
    "    curobj=conobj.cursor()\n",
    "    curobj.execute('insert into emp values(106,\"nasm\",12834,\"kjdfn\")')\n",
    "    print(\"row inserted\")\n",
    "except Exception as e:\n",
    "    print(\"somthing went wrong\",e)\n",
    "finally:\n",
    "    conobj.commit()\n",
    "    conobj.close()"
   ]
  },
  {
   "cell_type": "code",
   "execution_count": 10,
   "metadata": {},
   "outputs": [
    {
     "name": "stdout",
     "output_type": "stream",
     "text": [
      "something went wrong (1062, \"Duplicate entry '101' for key 'emp.PRIMARY'\")\n"
     ]
    }
   ],
   "source": [
    "import pymysql\n",
    "try:\n",
    "    conobj=pymysql.connect(user=\"root\",password=\"root\",database=\"1130to1\")\n",
    "    curobj=conobj.cursor()\n",
    "    curobj.execute('insert into emp values(101,\"dfncv\",832784,\"dkfn\")')\n",
    "    print(\"row inserted\")\n",
    "except Exception as e:\n",
    "    print(\"something went wrong\",e) \n",
    "finally:\n",
    "    conobj.commit()\n",
    "    conobj.close()   "
   ]
  },
  {
   "cell_type": "code",
   "execution_count": 11,
   "metadata": {},
   "outputs": [
    {
     "name": "stdout",
     "output_type": "stream",
     "text": [
      "18\n"
     ]
    }
   ],
   "source": [
    "import pymysql\n",
    "conobj=pymysql.connect(user=\"root\",password=\"root\",database=\"1130to1\")\n",
    "curobj=conobj.cursor()\n",
    "count=curobj.execute(\"select * from emp\")\n",
    "print(count)\n",
    "conobj.close()"
   ]
  },
  {
   "cell_type": "code",
   "execution_count": 12,
   "metadata": {},
   "outputs": [
    {
     "name": "stdout",
     "output_type": "stream",
     "text": [
      "total rows:18\n",
      "(100, 'rohit', 55005.5, 'batsman')\n"
     ]
    }
   ],
   "source": [
    "import pymysql\n",
    "conobj=pymysql.connect(user=\"root\",password=\"root\",database=\"1130to1\")\n",
    "curobj=conobj.cursor()\n",
    "count=curobj.execute(\"select * from emp\")\n",
    "print(f\"total rows:{count}\")\n",
    "row=curobj.fetchone()\n",
    "print(row)\n",
    "conobj.close()"
   ]
  },
  {
   "cell_type": "code",
   "execution_count": 13,
   "metadata": {},
   "outputs": [
    {
     "name": "stdout",
     "output_type": "stream",
     "text": [
      "total rows:18\n",
      "(100, 'rohit', 55005.5, 'batsman')\n",
      "(101, 'zampa', 25000.0, 'bowling')\n",
      "(102, 'monu', 34505.1, 'operator')\n"
     ]
    }
   ],
   "source": [
    "import pymysql\n",
    "conobj=pymysql.connect(user=\"root\",password=\"root\",database=\"1130to1\")\n",
    "curobj=conobj.cursor()\n",
    "count=curobj.execute(\"select * from emp\")\n",
    "print(f\"total rows:{count}\")\n",
    "row=curobj.fetchone()\n",
    "print(row)\n",
    "row=curobj.fetchone()\n",
    "print(row)\n",
    "row=curobj.fetchone()\n",
    "print(row)\n",
    "conobj.close()"
   ]
  },
  {
   "cell_type": "code",
   "execution_count": 14,
   "metadata": {},
   "outputs": [
    {
     "name": "stdout",
     "output_type": "stream",
     "text": [
      "total rows:18\n",
      "(100, 'rohit', 55005.5, 'batsman')\n"
     ]
    }
   ],
   "source": [
    "import pymysql\n",
    "conobj=pymysql.connect(user=\"root\",password=\"root\",database=\"1130to1\")\n",
    "curobj=conobj.cursor()\n",
    "count=curobj.execute(\"select * from emp\")\n",
    "print(f\"total rows:{count}\")\n",
    "row=curobj.fetchone()\n",
    "print(row)\n",
    "conobj.close()"
   ]
  },
  {
   "cell_type": "code",
   "execution_count": 16,
   "metadata": {},
   "outputs": [
    {
     "name": "stdout",
     "output_type": "stream",
     "text": [
      "total rows:18\n",
      "(100, 'rohit', 55005.5, 'batsman')\n",
      "(106, 'maxwell', 30000.0, 'batting')\n"
     ]
    }
   ],
   "source": [
    "import pymysql\n",
    "conobj=pymysql.connect(user=\"root\",password=\"root\",database=\"1130to1\")\n",
    "curobj=conobj.cursor()\n",
    "count=curobj.execute(\"select * from emp\")\n",
    "print(f\"total rows:{count}\")\n",
    "row=curobj.fetchone()\n",
    "print(row)\n",
    "curobj.scroll(5)\n",
    "row=curobj.fetchone()\n",
    "print(row)\n",
    "conobj.close()\n"
   ]
  },
  {
   "cell_type": "code",
   "execution_count": 17,
   "metadata": {},
   "outputs": [
    {
     "name": "stdout",
     "output_type": "stream",
     "text": [
      "total rows:18\n",
      "(100, 'rohit', 55005.5, 'batsman')\n",
      "((106, 'maxwell', 30000.0, 'batting'), (107, 'stark', 25000.0, 'bowling'), (108, 'smith', 30000.0, 'batting'))\n"
     ]
    }
   ],
   "source": [
    "import pymysql\n",
    "conobj=pymysql.connect(user=\"root\",password=\"root\",database=\"1130to1\")\n",
    "curobj=conobj.cursor()\n",
    "count=curobj.execute(\"select * from emp\")\n",
    "print(f\"total rows:{count}\")\n",
    "row=curobj.fetchone()\n",
    "print(row)\n",
    "curobj.scroll(5)\n",
    "row=curobj.fetchmany(3)\n",
    "print(row)\n",
    "conobj.close()"
   ]
  },
  {
   "cell_type": "code",
   "execution_count": 19,
   "metadata": {},
   "outputs": [
    {
     "name": "stdout",
     "output_type": "stream",
     "text": [
      "total rows:18\n",
      "(100, 'rohit', 55005.5, 'batsman')\n",
      "((106, 'maxwell', 30000.0, 'batting'), (107, 'stark', 25000.0, 'bowling'), (108, 'smith', 30000.0, 'batting'))\n",
      "((109, 'pant', 50000.0, 'batting'), (110, 'radha', 20000.0, 'cleaning'), (111, 'shyam', 30000.0, 'hr'), (211, 'virat kohli', 67780.1, 'account'), (224, 'bumhra', 46484.1, 'coding'), (226, 'hardik', 21195.1, 'operator'), (228, 'rahul', 35836.1, 'coding'), (600, 'cahal', 54470.1, 'account'), (601, 'chintu', 19864.1, 'coding'))\n"
     ]
    }
   ],
   "source": [
    "import pymysql\n",
    "conobj=pymysql.connect(user=\"root\",password=\"root\",database=\"1130to1\")\n",
    "curobj=conobj.cursor()\n",
    "count=curobj.execute(\"select * from emp\")\n",
    "print(f\"total rows:{count}\")\n",
    "row=curobj.fetchone()\n",
    "print(row)\n",
    "curobj.scroll(5)\n",
    "row=curobj.fetchmany(3)\n",
    "print(row)\n",
    "row=curobj.fetchall()\n",
    "print(row)\n",
    "conobj.close()"
   ]
  },
  {
   "cell_type": "code",
   "execution_count": 21,
   "metadata": {},
   "outputs": [
    {
     "name": "stdout",
     "output_type": "stream",
     "text": [
      "total rows:18\n",
      "(100, 'rohit', 55005.5, 'batsman')\n",
      "((105, 'bhola', 43822.1, 'account'), (106, 'maxwell', 30000.0, 'batting'), (107, 'stark', 25000.0, 'bowling'))\n"
     ]
    }
   ],
   "source": [
    "import pymysql\n",
    "conobj=pymysql.connect(user=\"root\",password=\"root\",database=\"1130to1\")\n",
    "curobj=conobj.cursor()\n",
    "count=curobj.execute(\"select * from emp\")\n",
    "print(f\"total rows:{count}\")\n",
    "row=curobj.fetchone()\n",
    "print(row)\n",
    "curobj.scroll(5,mode=\"absolute\")\n",
    "row=curobj.fetchmany(3)\n",
    "print(row)\n",
    "conobj.close()"
   ]
  },
  {
   "cell_type": "code",
   "execution_count": 22,
   "metadata": {},
   "outputs": [
    {
     "name": "stdout",
     "output_type": "stream",
     "text": [
      "total rows:18\n",
      "(100, 'rohit', 55005.5, 'batsman')\n",
      "((106, 'maxwell', 30000.0, 'batting'), (107, 'stark', 25000.0, 'bowling'), (108, 'smith', 30000.0, 'batting'))\n"
     ]
    }
   ],
   "source": [
    "import pymysql\n",
    "conobj=pymysql.connect(user=\"root\",password=\"root\",database=\"1130to1\")\n",
    "curobj=conobj.cursor()\n",
    "count=curobj.execute(\"select * from emp\")\n",
    "print(f\"total rows:{count}\")\n",
    "row=curobj.fetchone()\n",
    "print(row)\n",
    "curobj.scroll(5,mode=\"relative\")\n",
    "row=curobj.fetchmany(3)\n",
    "print(row)\n",
    "conobj.close()"
   ]
  },
  {
   "cell_type": "code",
   "execution_count": 23,
   "metadata": {},
   "outputs": [
    {
     "name": "stdout",
     "output_type": "stream",
     "text": [
      "total rows:18\n",
      "(100, 'rohit', 55005.5, 'batsman')\n",
      "((100, 'rohit', 55005.5, 'batsman'), (101, 'zampa', 25000.0, 'bowling'), (102, 'monu', 34505.1, 'operator'))\n"
     ]
    }
   ],
   "source": [
    "import pymysql\n",
    "conobj=pymysql.connect(user=\"root\",password=\"root\",database=\"1130to1\")\n",
    "curobj=conobj.cursor()\n",
    "count=curobj.execute(\"select * from emp\")\n",
    "print(f\"total rows:{count}\")\n",
    "row=curobj.fetchone()\n",
    "print(row)\n",
    "curobj.scroll(-1,mode=\"relative\")\n",
    "row=curobj.fetchmany(3)\n",
    "print(row)\n",
    "conobj.close()"
   ]
  },
  {
   "cell_type": "code",
   "execution_count": 24,
   "metadata": {},
   "outputs": [
    {
     "name": "stdout",
     "output_type": "stream",
     "text": [
      "total rows:18\n",
      "(100, 'rohit', 55005.5, 'batsman')\n",
      "[(100, 'rohit', 55005.5, 'batsman'), (101, 'zampa', 25000.0, 'bowling'), (102, 'monu', 34505.1, 'operator')]\n"
     ]
    }
   ],
   "source": [
    "import pymysql\n",
    "conobj=pymysql.connect(user=\"root\",password=\"root\",database=\"1130to1\")\n",
    "curobj=conobj.cursor()\n",
    "count=curobj.execute(\"select * from emp\")\n",
    "print(f\"total rows:{count}\")\n",
    "row=curobj.fetchone()\n",
    "print(row)\n",
    "curobj.scroll(-1,mode=\"relative\")\n",
    "row=curobj.fetchmany(3)\n",
    "print(list(row))\n",
    "conobj.close()"
   ]
  },
  {
   "cell_type": "code",
   "execution_count": 1,
   "metadata": {},
   "outputs": [],
   "source": [
    "import pymysql\n",
    "conobj=pymysql.connect(user=\"root\",password=\"root\",database=\"1130to1\")\n",
    "curobj=conobj.cursor()\n",
    "curobj.execute(\"create table t1(empid int,empname varchar(10),empsal float)\")\n",
    "conobj.close()"
   ]
  },
  {
   "cell_type": "code",
   "execution_count": 4,
   "metadata": {},
   "outputs": [
    {
     "name": "stdout",
     "output_type": "stream",
     "text": [
      "row inserted\n"
     ]
    }
   ],
   "source": [
    "import pymysql\n",
    "conobj=pymysql.connect(user=\"root\",password=\"root\",database=\"1130to1\")\n",
    "curobj=conobj.cursor()\n",
    "curobj.execute(\"insert into t1 values(101,'raj',635473)\")\n",
    "print(\"row inserted\")\n",
    "conobj.commit()\n",
    "conobj.close()"
   ]
  },
  {
   "cell_type": "code",
   "execution_count": 5,
   "metadata": {},
   "outputs": [
    {
     "name": "stdout",
     "output_type": "stream",
     "text": [
      "row deteted\n"
     ]
    }
   ],
   "source": [
    "import pymysql\n",
    "conobj=pymysql.connect(user=\"root\",password=\"root\",database=\"1130to1\")\n",
    "curobj=conobj.cursor()\n",
    "curobj.execute(\"delete from t1 where empname='raj'\")\n",
    "print(\"row deteted\")\n",
    "conobj.commit()\n",
    "conobj.close()"
   ]
  },
  {
   "cell_type": "code",
   "execution_count": 6,
   "metadata": {},
   "outputs": [
    {
     "name": "stdout",
     "output_type": "stream",
     "text": [
      "table deteted\n"
     ]
    }
   ],
   "source": [
    "import pymysql\n",
    "conobj=pymysql.connect(user=\"root\",password=\"root\",database=\"1130to1\")\n",
    "curobj=conobj.cursor()\n",
    "curobj.execute(\"drop table t2\")\n",
    "print(\"table deteted\")\n",
    "conobj.close()"
   ]
  },
  {
   "cell_type": "code",
   "execution_count": 8,
   "metadata": {},
   "outputs": [
    {
     "name": "stdout",
     "output_type": "stream",
     "text": [
      "(100, 'rohit', 55005.5, 'batsman')\n",
      "(102, 'monu', 34505.1, 'operator')\n",
      "(103, 'ishan', 25188.1, 'coding')\n",
      "(104, 'surya', 27850.1, 'coding')\n",
      "(105, 'bhola', 43822.1, 'account')\n",
      "(106, 'maxwell', 30000.0, 'batting')\n",
      "(108, 'smith', 30000.0, 'batting')\n",
      "(109, 'pant', 50000.0, 'batting')\n",
      "(111, 'shyam', 30000.0, 'hr')\n",
      "(211, 'virat kohli', 67780.1, 'account')\n",
      "(224, 'bumhra', 46484.1, 'coding')\n",
      "(228, 'rahul', 35836.1, 'coding')\n",
      "(600, 'cahal', 54470.1, 'account')\n"
     ]
    }
   ],
   "source": [
    "import pymysql\n",
    "conobj=pymysql.connect(user=\"root\",password=\"root\",database=\"1130to1\")\n",
    "curobj=conobj.cursor()\n",
    "curobj.execute(\"select * from emp where empsal>25000\")\n",
    "for i in curobj:\n",
    "    print(i)\n",
    "conobj.close()"
   ]
  },
  {
   "cell_type": "code",
   "execution_count": 10,
   "metadata": {},
   "outputs": [
    {
     "name": "stdout",
     "output_type": "stream",
     "text": [
      "empid\tempname\tempsal\tdept\n",
      "100\trohit\t55005.5\tbatsman\n",
      "102\tmonu\t34505.1\toperator\n",
      "103\tishan\t25188.1\tcoding\n",
      "104\tsurya\t27850.1\tcoding\n",
      "105\tbhola\t43822.1\taccount\n",
      "106\tmaxwell\t30000.0\tbatting\n",
      "108\tsmith\t30000.0\tbatting\n",
      "109\tpant\t50000.0\tbatting\n",
      "111\tshyam\t30000.0\thr\n",
      "211\tvirat kohli\t67780.1\taccount\n",
      "224\tbumhra\t46484.1\tcoding\n",
      "228\trahul\t35836.1\tcoding\n",
      "600\tcahal\t54470.1\taccount\n"
     ]
    }
   ],
   "source": [
    "import pymysql\n",
    "conobj=pymysql.connect(user=\"root\",password=\"root\",database=\"1130to1\")\n",
    "curobj=conobj.cursor()\n",
    "curobj.execute(\"select * from emp where empsal>25000\")\n",
    "print(f\"empid\\tempname\\tempsal\\tdept\")\n",
    "for eid,en,es,ed in curobj:\n",
    "    print(f\"{eid}\\t{en}\\t{es}\\t{ed}\")\n",
    "conobj.close()"
   ]
  },
  {
   "cell_type": "code",
   "execution_count": 12,
   "metadata": {},
   "outputs": [
    {
     "name": "stdout",
     "output_type": "stream",
     "text": [
      "empid\tempname\tempsal\tdept\n",
      "100\trohit\t55005.5\tbatsman\n",
      "102\tmonu\t34505.1\toperator\n",
      "103\tishan\t25188.1\tcoding\n",
      "104\tsurya\t27850.1\tcoding\n",
      "105\tbhola\t43822.1\taccount\n",
      "106\tmaxwell\t30000.0\tbatting\n",
      "108\tsmith\t30000.0\tbatting\n",
      "109\tpant\t50000.0\tbatting\n",
      "111\tshyam\t30000.0\thr\n",
      "211\tvirat kohli\t67780.1\taccount\n",
      "224\tbumhra\t46484.1\tcoding\n",
      "228\trahul\t35836.1\tcoding\n",
      "600\tcahal\t54470.1\taccount\n"
     ]
    }
   ],
   "source": [
    "import pymysql\n",
    "conobj=pymysql.connect(user=\"root\",password=\"root\",database=\"1130to1\")\n",
    "curobj=conobj.cursor()\n",
    "curobj.execute(\"select * from emp where empsal>25000\")\n",
    "print(f\"empid\\tempname\\tempsal\\tdept\")\n",
    "for eid,en,es,ed in curobj:\n",
    "    print(f\"{eid}\\t{en}\\t{es}\\t{ed}\")\n",
    "conobj.close()"
   ]
  }
 ],
 "metadata": {
  "kernelspec": {
   "display_name": "Python 3",
   "language": "python",
   "name": "python3"
  },
  "language_info": {
   "codemirror_mode": {
    "name": "ipython",
    "version": 3
   },
   "file_extension": ".py",
   "mimetype": "text/x-python",
   "name": "python",
   "nbconvert_exporter": "python",
   "pygments_lexer": "ipython3",
   "version": "3.11.3"
  }
 },
 "nbformat": 4,
 "nbformat_minor": 2
}
