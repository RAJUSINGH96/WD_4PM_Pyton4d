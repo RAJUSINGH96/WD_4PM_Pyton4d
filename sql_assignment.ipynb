{
 "cells": [
  {
   "cell_type": "markdown",
   "metadata": {},
   "source": [
    "### 1. Write a SQL statement to display all the information of all salesmen.   \n",
    "ans. create table salesman(id int primary key,name varchar(20),city varchar(20),commission float);\n",
    "--> insert into salesman values(5001,\"james hoog\",\"new york\",0.15),(5002,\"kalu\",\"paris\",0.13),(5005,\"lalu\",\"london\",0.11),(5006,\"chintu\",\"paris\",0.14),(5007,\"chotu\",\"rome\",0.13),(5003,\"harsh\",\"san jose\",0.12);"
   ]
  },
  {
   "cell_type": "markdown",
   "metadata": {},
   "source": [
    "### 2. Write a SQL statement to display specific columns like name and commission for all the salesmen.   \n",
    "ans. select name,commission from salesman;"
   ]
  },
  {
   "cell_type": "markdown",
   "metadata": {},
   "source": [
    "### 3. Write a query to display the records in ascending order of commission. \n",
    "ans.  select commission from salesman order by commission;"
   ]
  },
  {
   "cell_type": "markdown",
   "metadata": {},
   "source": [
    "### 4. Write a SQL statement to display names and city of salesman, who belongs to the city of Paris.\n",
    "ans.  select * from salesman where city=\"paris\";"
   ]
  },
  {
   "cell_type": "markdown",
   "metadata": {},
   "source": [
    "### 5. Write a SQL statement to display all the information for those customers with a grade of 200. \n",
    "ans.  select * from customer where grade=200;  "
   ]
  },
  {
   "cell_type": "markdown",
   "metadata": {},
   "source": [
    "### 6. Write a SQL query to find all the products with a price between Rs.200 and Rs.600. \n",
    "ans.  select * from item where price between 200 and 600;"
   ]
  },
  {
   "cell_type": "markdown",
   "metadata": {},
   "source": [
    "### 7. Write a SQL query to calculate the average price of all products.\n",
    "ans.  select round(avg(price),2) from item;"
   ]
  },
  {
   "cell_type": "markdown",
   "metadata": {},
   "source": [
    "### 8. Write a SQL query to display the name and price of all the items with a price is equal or more than Rs.250.\n",
    "ans. select name,price from item having price>=250;"
   ]
  },
  {
   "cell_type": "markdown",
   "metadata": {},
   "source": [
    "### 9. Write a SQL query to find the name and price of the cheapest item(s).\n",
    "ans.  select name,price from item having price=(select min(price) from item);"
   ]
  },
  {
   "cell_type": "markdown",
   "metadata": {},
   "source": [
    "### 11. Write a query in SQL to display all the data of employees that work in the department 57.   \n",
    "ans. select * from emp where dept=\"57\"$ "
   ]
  },
  {
   "cell_type": "markdown",
   "metadata": {},
   "source": [
    "##### 1. Write a SQL statement to prepare a list with salesman name, customer name and their cities for the salesmen and customer who belongs to the same city.  \n",
    "ans.  select salesman.city as city,salesman.id,salesman.name,salesman.commission,\n",
    "    -> customer.id,customer.cust_name,customer.grade from salesman inner join customer\n",
    "    -> on salesman.city=customer.city$ "
   ]
  },
  {
   "cell_type": "markdown",
   "metadata": {},
   "source": [
    "##### 2. Write a SQL statement to make a list with order no, purchase amount, customer name and their cities for those orders which order amount between 500 and 2000.\n",
    "ans.  select orders.ord_no,orders.purch_amt,customer.cust_name,customer.city from orders inner join customer on orders.customer_id=customer.id where purch_amt between 500 and 2500$"
   ]
  },
  {
   "cell_type": "markdown",
   "metadata": {},
   "source": [
    "##### 3. Write a SQL statement to know which salesmen are working for which customer.\n",
    "ans.  select customer.id,customer.cust_name,customer.city,customer.grade,customer.salesman_id as id,salesman.id,salesman.name,salesman.city,salesman.commission from customer inner join salesman on customer.salesman_id=salesman.id$"
   ]
  },
  {
   "cell_type": "markdown",
   "metadata": {},
   "source": [
    "##### 4. Write a SQL statement to find the list of customers who appointed a salesman for their jobs who gets a commission from the company is more than 12%.\n",
    "ans.  select * from salesman where commission>=0.12$"
   ]
  },
  {
   "cell_type": "markdown",
   "metadata": {},
   "source": [
    "##### 5. Write a SQL statement to find the list of customers who appointed a salesman for their jobs who does not live in the same city where their customer lives, and gets a commission is above 12%.\n",
    "ans. select customer.id,customer.cust_name,customer.city,customer.grade,customer.salesman_id as id,salesman.id,salesman.name,salesman.city,salesman.commission from customer inner join salesman on customer.salesman_id<>salesman.id and commission>=0.12$"
   ]
  },
  {
   "cell_type": "markdown",
   "metadata": {},
   "source": [
    "##### 6.Write a SQL statement to make a list in ascending order for the customer who works either through a salesman or by own.\n",
    "ans.  select * from customer order by grade asc$"
   ]
  },
  {
   "cell_type": "markdown",
   "metadata": {},
   "source": [
    "##### 7. Write a SQL statement to make a list in ascending order for the salesmen who works either for one or more customer or not yet join under any of the customers.\n",
    "ans. "
   ]
  },
  {
   "cell_type": "markdown",
   "metadata": {},
   "source": []
  }
 ],
 "metadata": {
  "language_info": {
   "name": "python"
  },
  "orig_nbformat": 4
 },
 "nbformat": 4,
 "nbformat_minor": 2
}
