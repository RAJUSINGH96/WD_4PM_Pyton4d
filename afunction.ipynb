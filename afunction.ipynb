{
 "cells": [
  {
   "cell_type": "code",
   "execution_count": 1,
   "metadata": {},
   "outputs": [
    {
     "name": "stdout",
     "output_type": "stream",
     "text": [
      "hello\n",
      "bye\n"
     ]
    }
   ],
   "source": [
    "print('hello')\n",
    "def fruits():\n",
    "    print('apple')\n",
    "    print('mango')\n",
    "def color():\n",
    "    print('black')\n",
    "    print('white')\n",
    "print('bye')"
   ]
  },
  {
   "cell_type": "code",
   "execution_count": 3,
   "metadata": {},
   "outputs": [
    {
     "name": "stdout",
     "output_type": "stream",
     "text": [
      "hello\n",
      "bye\n",
      "black\n",
      "white\n",
      "apple\n",
      "mango\n"
     ]
    }
   ],
   "source": [
    "print('hello')\n",
    "def fruits():\n",
    "    print('apple')\n",
    "    print('mango')\n",
    "def color():\n",
    "    print('black')\n",
    "    print('white')\n",
    "print('bye')\n",
    "color()\n",
    "fruits()"
   ]
  },
  {
   "cell_type": "code",
   "execution_count": 4,
   "metadata": {},
   "outputs": [
    {
     "name": "stdout",
     "output_type": "stream",
     "text": [
      "hello\n",
      "0\n",
      "1\n",
      "2\n",
      "3\n",
      "4\n",
      "virat\n",
      "black\n",
      "white\n",
      "apple\n",
      "mango\n",
      "bye\n",
      "black\n",
      "white\n"
     ]
    }
   ],
   "source": [
    "print('hello')\n",
    "for i in range(5):\n",
    "    print(i)\n",
    "if 5>7:\n",
    "    print('sachin')\n",
    "else:\n",
    "    print('virat')\n",
    "def fruits():\n",
    "    print('apple')\n",
    "    print('mango')\n",
    "def color():\n",
    "    print('black')\n",
    "    print('white')\n",
    "color()\n",
    "fruits()\n",
    "print('bye')\n",
    "color()"
   ]
  },
  {
   "cell_type": "code",
   "execution_count": 6,
   "metadata": {},
   "outputs": [],
   "source": [
    "def fruits():\n",
    "    print('apple')\n",
    "    print('mango')\n",
    "def color():\n",
    "    print('black')\n",
    "    print('white')"
   ]
  },
  {
   "cell_type": "code",
   "execution_count": 7,
   "metadata": {},
   "outputs": [
    {
     "name": "stdout",
     "output_type": "stream",
     "text": [
      "banana\n",
      "orange\n"
     ]
    }
   ],
   "source": [
    "def fruits():\n",
    "    print('apple')\n",
    "    print('mango')\n",
    "def fruits():\n",
    "    print('banana')\n",
    "    print('orange')\n",
    "fruits()"
   ]
  },
  {
   "cell_type": "code",
   "execution_count": 8,
   "metadata": {},
   "outputs": [
    {
     "name": "stdout",
     "output_type": "stream",
     "text": [
      "20\n"
     ]
    }
   ],
   "source": [
    "def mul():\n",
    "    a=4\n",
    "    b=5\n",
    "    print(a*b)\n",
    "mul()"
   ]
  },
  {
   "cell_type": "code",
   "execution_count": 9,
   "metadata": {},
   "outputs": [
    {
     "name": "stdout",
     "output_type": "stream",
     "text": [
      "9\n"
     ]
    }
   ],
   "source": [
    "def add():\n",
    "    a=4\n",
    "    b=5\n",
    "    print(a+b)\n",
    "add()"
   ]
  },
  {
   "cell_type": "code",
   "execution_count": 10,
   "metadata": {},
   "outputs": [
    {
     "name": "stdout",
     "output_type": "stream",
     "text": [
      "20\n",
      "9\n"
     ]
    }
   ],
   "source": [
    "def mul():\n",
    "    a=4\n",
    "    b=5\n",
    "    print(a*b)\n",
    "mul()\n",
    "def add():\n",
    "    a=4\n",
    "    b=5\n",
    "    print(a+b)\n",
    "add()"
   ]
  },
  {
   "cell_type": "code",
   "execution_count": 11,
   "metadata": {},
   "outputs": [
    {
     "name": "stdout",
     "output_type": "stream",
     "text": [
      "20\n",
      "9\n"
     ]
    }
   ],
   "source": [
    "a=4\n",
    "b=5\n",
    "def mul():\n",
    "    print(a*b)\n",
    "mul()\n",
    "def add():\n",
    "    print(a+b)\n",
    "add()"
   ]
  },
  {
   "cell_type": "code",
   "execution_count": 12,
   "metadata": {},
   "outputs": [
    {
     "name": "stdout",
     "output_type": "stream",
     "text": [
      "42\n",
      "9\n"
     ]
    }
   ],
   "source": [
    "a=4\n",
    "b=5\n",
    "def mul():\n",
    "    a=6\n",
    "    b=7\n",
    "    print(a*b)\n",
    "mul()\n",
    "def add():\n",
    "    print(a+b)\n",
    "add()"
   ]
  },
  {
   "cell_type": "code",
   "execution_count": 13,
   "metadata": {},
   "outputs": [
    {
     "name": "stdout",
     "output_type": "stream",
     "text": [
      "42\n",
      "13\n"
     ]
    }
   ],
   "source": [
    "a=4\n",
    "b=5\n",
    "def mul():\n",
    "    global a,b\n",
    "    a=6\n",
    "    b=7\n",
    "    print(a*b)\n",
    "mul()\n",
    "def add():\n",
    "    print(a+b)\n",
    "add()"
   ]
  },
  {
   "cell_type": "code",
   "execution_count": 14,
   "metadata": {},
   "outputs": [
    {
     "name": "stdout",
     "output_type": "stream",
     "text": [
      "20\n",
      "42\n",
      "24\n"
     ]
    }
   ],
   "source": [
    "def mul():\n",
    "    a=int(input('enter 1st num:'))\n",
    "    b=int(input('enter 2nd num:'))\n",
    "    print(a*b)\n",
    "mul()\n",
    "mul()\n",
    "mul()"
   ]
  },
  {
   "cell_type": "code",
   "execution_count": 15,
   "metadata": {},
   "outputs": [
    {
     "name": "stdout",
     "output_type": "stream",
     "text": [
      "20\n",
      "12\n",
      "15\n"
     ]
    }
   ],
   "source": [
    "def mul(a,b):\n",
    "    print(a*b)\n",
    "mul(4,5)\n",
    "mul(2,6)\n",
    "x=3\n",
    "y=5\n",
    "mul(x,y)"
   ]
  },
  {
   "cell_type": "code",
   "execution_count": 16,
   "metadata": {},
   "outputs": [
    {
     "name": "stdout",
     "output_type": "stream",
     "text": [
      "975.0\n"
     ]
    }
   ],
   "source": [
    "def si(p,r,t):\n",
    "    print(p*r*t/100)\n",
    "si(5000,6.5,3)"
   ]
  },
  {
   "cell_type": "code",
   "execution_count": 17,
   "metadata": {},
   "outputs": [
    {
     "name": "stdout",
     "output_type": "stream",
     "text": [
      "3250.0\n"
     ]
    }
   ],
   "source": [
    "def si(p,r,t):\n",
    "    print(p*r*t/100)\n",
    "si(10000,6.5,5)"
   ]
  },
  {
   "cell_type": "code",
   "execution_count": 18,
   "metadata": {},
   "outputs": [
    {
     "name": "stdout",
     "output_type": "stream",
     "text": [
      "even\n"
     ]
    }
   ],
   "source": [
    "def check(num):\n",
    "    if(num%2==0):\n",
    "        print('even')\n",
    "    else:\n",
    "        print('odd')\n",
    "check(12)"
   ]
  },
  {
   "cell_type": "code",
   "execution_count": 19,
   "metadata": {},
   "outputs": [
    {
     "name": "stdout",
     "output_type": "stream",
     "text": [
      "5.6\n",
      "5\n",
      "5.5\n",
      "india\n",
      "[1, 2, 3, 4]\n"
     ]
    }
   ],
   "source": [
    "def add(a,b):\n",
    "    print(a+b)\n",
    "add(2.5,3.1)\n",
    "add(2,3)\n",
    "add(2,3.5)\n",
    "add('in','dia')\n",
    "add([1,2],[3,4])"
   ]
  },
  {
   "cell_type": "code",
   "execution_count": 1,
   "metadata": {},
   "outputs": [
    {
     "name": "stdout",
     "output_type": "stream",
     "text": [
      "10\n"
     ]
    }
   ],
   "source": [
    "x:float=10\n",
    "print(x)"
   ]
  },
  {
   "cell_type": "code",
   "execution_count": 2,
   "metadata": {},
   "outputs": [
    {
     "name": "stdout",
     "output_type": "stream",
     "text": [
      "10.5\n"
     ]
    }
   ],
   "source": [
    "x:float=10.5\n",
    "print(x)"
   ]
  },
  {
   "cell_type": "code",
   "execution_count": 3,
   "metadata": {},
   "outputs": [
    {
     "name": "stdout",
     "output_type": "stream",
     "text": [
      "A-52.sector-16, Noida \n"
     ]
    }
   ],
   "source": [
    "adr:str='A-52.sector-16, Noida '\n",
    "print(adr)"
   ]
  },
  {
   "cell_type": "code",
   "execution_count": 4,
   "metadata": {},
   "outputs": [
    {
     "name": "stdout",
     "output_type": "stream",
     "text": [
      "5\n"
     ]
    }
   ],
   "source": [
    "# Local scope \n",
    "def add(a,b):     # a and b are local scope variables\n",
    "    print(a+b)\n",
    "add(2,3)"
   ]
  },
  {
   "cell_type": "code",
   "execution_count": 5,
   "metadata": {},
   "outputs": [
    {
     "name": "stdout",
     "output_type": "stream",
     "text": [
      "5\n"
     ]
    }
   ],
   "source": [
    "def add(a,b):   # a,b,c belong to local scope, can not use outside the function.\n",
    "    c=a+b\n",
    "    print(c)\n",
    "add(2,3) "
   ]
  },
  {
   "cell_type": "code",
   "execution_count": 8,
   "metadata": {},
   "outputs": [
    {
     "name": "stdout",
     "output_type": "stream",
     "text": [
      "[1, 4, 9, 16]\n"
     ]
    }
   ],
   "source": [
    "# context scope--> It is only use in comprehension.\n",
    "x=[i*i for i in range(1,5)]\n",
    "print(x)"
   ]
  },
  {
   "cell_type": "code",
   "execution_count": 9,
   "metadata": {},
   "outputs": [
    {
     "name": "stdout",
     "output_type": "stream",
     "text": [
      "10\n",
      "hi\n",
      "hi\n",
      "hi\n",
      "hi\n",
      "4\n"
     ]
    }
   ],
   "source": [
    "# Global scope\n",
    "z=10\n",
    "print(z)\n",
    "for k in range(1,5):\n",
    "    print('hi')\n",
    "print(k)"
   ]
  },
  {
   "cell_type": "code",
   "execution_count": 10,
   "metadata": {},
   "outputs": [
    {
     "name": "stdout",
     "output_type": "stream",
     "text": [
      "India\n"
     ]
    }
   ],
   "source": [
    "if (5>4):\n",
    "    s='India'\n",
    "print(s)"
   ]
  },
  {
   "cell_type": "code",
   "execution_count": 12,
   "metadata": {},
   "outputs": [
    {
     "name": "stdout",
     "output_type": "stream",
     "text": [
      "60\n"
     ]
    }
   ],
   "source": [
    "def add(a,b):\n",
    "    print(a+b)\n",
    "def add(a,b,c):\n",
    "    print(a+b+c)\n",
    "add(10,20,30)#if two and more function is same then update the latest function.\n",
    "#add(10,20) # error, because latest def use in both case."
   ]
  },
  {
   "cell_type": "code",
   "execution_count": 13,
   "metadata": {},
   "outputs": [
    {
     "name": "stdout",
     "output_type": "stream",
     "text": [
      "10 20\n",
      "10 20\n",
      "10 20\n",
      "10 20\n"
     ]
    }
   ],
   "source": [
    "def show(a,b):\n",
    "    print(a,b)\n",
    "show(10,20)\n",
    "show(a=10,b=20)\n",
    "show(b=20,a=10)\n",
    "#show(a=10,b=20,a=30) # error keyword argument does not repeated.\n",
    "#show(a=10,c=20)  # error c does not exist.\n",
    "show(10,b=20)\n",
    "#show(a=10,20)   #keyword argument ke baad kable keyword argument he aaega.\n",
    "#show(10,a=10) # error, multiple values of a."
   ]
  },
  {
   "cell_type": "code",
   "execution_count": 14,
   "metadata": {},
   "outputs": [
    {
     "name": "stdout",
     "output_type": "stream",
     "text": [
      "10 20\n",
      "10 2\n",
      "1 2\n"
     ]
    }
   ],
   "source": [
    "def show (a=1, b=2):\n",
    "    print(a,b)\n",
    "show(10,20)\n",
    "show(10)\n",
    "show()"
   ]
  },
  {
   "cell_type": "code",
   "execution_count": 15,
   "metadata": {},
   "outputs": [
    {
     "name": "stdout",
     "output_type": "stream",
     "text": [
      "[10]\n",
      "[10, 20]\n"
     ]
    }
   ],
   "source": [
    "def show(a,b=[]):\n",
    "    b.append(a)\n",
    "    print(b)\n",
    "show(10)\n",
    "show(20)"
   ]
  },
  {
   "cell_type": "code",
   "execution_count": 1,
   "metadata": {},
   "outputs": [
    {
     "name": "stdout",
     "output_type": "stream",
     "text": [
      "10 20\n"
     ]
    }
   ],
   "source": [
    "def show(a,b,/):   # a,b position only.\n",
    "    print(a,b)\n",
    "show(10,20)"
   ]
  },
  {
   "cell_type": "code",
   "execution_count": 3,
   "metadata": {},
   "outputs": [
    {
     "name": "stdout",
     "output_type": "stream",
     "text": [
      "10 20\n"
     ]
    }
   ],
   "source": [
    "def show(*,a,b):   # a,b keyword only\n",
    "    print(a,b)\n",
    "# show(10,20) # error\n",
    "show(a=10,b=20)"
   ]
  },
  {
   "cell_type": "code",
   "execution_count": 4,
   "metadata": {},
   "outputs": [
    {
     "name": "stdout",
     "output_type": "stream",
     "text": [
      "1 2 3 4 5 6\n"
     ]
    }
   ],
   "source": [
    "def show(a,b,/,c,d,*,e,f):  # position or keyword\n",
    "    print(a,b,c,d,e,f)\n",
    "show(1,2,3,d=4,e=5,f=6)\n",
    "# show(1,2,c=3,4,e=5,f=6)   # error"
   ]
  },
  {
   "cell_type": "code",
   "execution_count": 5,
   "metadata": {},
   "outputs": [
    {
     "name": "stdout",
     "output_type": "stream",
     "text": [
      "(10, 20)\n",
      "(10, 20, 30)\n",
      "()\n"
     ]
    }
   ],
   "source": [
    "def show(*a): #variable length(0-n) positional argument as a tuple.\n",
    "    print(a)\n",
    "show(10,20)\n",
    "show(10,20,30)\n",
    "show()"
   ]
  },
  {
   "cell_type": "code",
   "execution_count": 6,
   "metadata": {},
   "outputs": [
    {
     "name": "stdout",
     "output_type": "stream",
     "text": [
      "30\n"
     ]
    }
   ],
   "source": [
    "def add(a,b):\n",
    "    print(a+b)\n",
    "add(10,20)\n",
    "# add(10,20,30) # error"
   ]
  },
  {
   "cell_type": "code",
   "execution_count": 7,
   "metadata": {},
   "outputs": [
    {
     "name": "stdout",
     "output_type": "stream",
     "text": [
      "60\n"
     ]
    }
   ],
   "source": [
    "def add(a,b):\n",
    "    print(a+b)\n",
    "def add(a,b,c):\n",
    "    print(a+b+c)\n",
    "# add(10,20) # error\n",
    "add(10,20,30)"
   ]
  },
  {
   "cell_type": "code",
   "execution_count": 9,
   "metadata": {},
   "outputs": [
    {
     "name": "stdout",
     "output_type": "stream",
     "text": [
      "30\n",
      "100\n",
      "280\n"
     ]
    }
   ],
   "source": [
    "def add(*a):\n",
    "    print(sum(a))\n",
    "add(10,20)\n",
    "add(10,20,30,40)\n",
    "add(10,20,30,40,50,60,70)"
   ]
  },
  {
   "cell_type": "code",
   "execution_count": 10,
   "metadata": {},
   "outputs": [
    {
     "name": "stdout",
     "output_type": "stream",
     "text": [
      "10 20\n",
      "10 90\n",
      "10 200\n",
      "10 0\n"
     ]
    }
   ],
   "source": [
    "def add(a,*b):\n",
    "    print(a,sum(b))\n",
    "add(10,20)\n",
    "add(10,20,30,40)\n",
    "add(10,20,30,40,50,60)\n",
    "add(10)"
   ]
  },
  {
   "cell_type": "code",
   "execution_count": 11,
   "metadata": {},
   "outputs": [
    {
     "name": "stdout",
     "output_type": "stream",
     "text": [
      "10 20\n",
      "30 30\n",
      "150 60\n",
      "0 10\n"
     ]
    }
   ],
   "source": [
    "def add(*a,b):\n",
    "    print(sum(a),b)\n",
    "add(10,b=20)\n",
    "add(10,20,b=30)\n",
    "add(10,20,30,40,50,b=60)\n",
    "add(b=10)"
   ]
  },
  {
   "cell_type": "code",
   "execution_count": 12,
   "metadata": {},
   "outputs": [],
   "source": [
    "# def add(*a,*b):  error\n",
    "#    print(a,b)\n",
    "#add(10,20,30,40,50)"
   ]
  },
  {
   "cell_type": "code",
   "execution_count": 13,
   "metadata": {},
   "outputs": [
    {
     "name": "stdout",
     "output_type": "stream",
     "text": [
      "{'i': 10, 'j': 20}\n",
      "{'roll': 101, 'name': 'monu', 'age': 20}\n",
      "{}\n"
     ]
    }
   ],
   "source": [
    "def show(**a):\n",
    "    print(a)\n",
    "show(i=10,j=20)\n",
    "show(roll=101,name='monu',age=20)\n",
    "show()"
   ]
  },
  {
   "cell_type": "code",
   "execution_count": 14,
   "metadata": {},
   "outputs": [
    {
     "name": "stdout",
     "output_type": "stream",
     "text": [
      "12\n",
      "20\n",
      "18\n"
     ]
    }
   ],
   "source": [
    "def mul(a,b):  # variable length keyword only.\n",
    "    c=a*b\n",
    "    return c\n",
    "r=mul(3,4)\n",
    "print(r)\n",
    "print(mul(4,5))\n",
    "x=mul(2,3)+mul(3,4)\n",
    "print(x)"
   ]
  },
  {
   "cell_type": "code",
   "execution_count": 18,
   "metadata": {},
   "outputs": [
    {
     "name": "stdout",
     "output_type": "stream",
     "text": [
      "None\n"
     ]
    }
   ],
   "source": [
    "def mul(a,b):\n",
    "    c=a*b\n",
    "    return # return c is must give otherwise output is none.\n",
    "print(mul(4,5))"
   ]
  },
  {
   "cell_type": "code",
   "execution_count": 20,
   "metadata": {},
   "outputs": [
    {
     "name": "stdout",
     "output_type": "stream",
     "text": [
      "12\n"
     ]
    }
   ],
   "source": [
    "def arithmetic(a,b):\n",
    "    c=a+b\n",
    "    d=a*b\n",
    "    e=a/b\n",
    "    return c\n",
    "    return d\n",
    "    return e\n",
    "print(arithmetic(10,2))"
   ]
  },
  {
   "cell_type": "code",
   "execution_count": 21,
   "metadata": {},
   "outputs": [
    {
     "name": "stdout",
     "output_type": "stream",
     "text": [
      "(12, 20, 5.0)\n"
     ]
    }
   ],
   "source": [
    "def arithmetic(a,b):\n",
    "    c=a+b\n",
    "    d=a*b\n",
    "    e=a/b\n",
    "    return c,d,e  # by default return a tuple.\n",
    "print(arithmetic(10,2))"
   ]
  },
  {
   "cell_type": "code",
   "execution_count": 22,
   "metadata": {},
   "outputs": [
    {
     "name": "stdout",
     "output_type": "stream",
     "text": [
      "[12, 20, 5.0]\n"
     ]
    }
   ],
   "source": [
    "def arithmetic(a,b):\n",
    "    c=a+b\n",
    "    d=a*b\n",
    "    e=a/b\n",
    "    return [c,d,e]\n",
    "print(arithmetic(10,2))"
   ]
  },
  {
   "cell_type": "code",
   "execution_count": 23,
   "metadata": {},
   "outputs": [
    {
     "name": "stdout",
     "output_type": "stream",
     "text": [
      "{'add': 12, 'mul': 20, 'div': 5.0}\n"
     ]
    }
   ],
   "source": [
    "def arithmetic(a,b):\n",
    "    c=a+b\n",
    "    d=a*b\n",
    "    e=a/b\n",
    "    return {'add':c,'mul':d,'div':e}\n",
    "print(arithmetic(10,2))"
   ]
  },
  {
   "cell_type": "code",
   "execution_count": 24,
   "metadata": {},
   "outputs": [
    {
     "name": "stdout",
     "output_type": "stream",
     "text": [
      "400\n"
     ]
    }
   ],
   "source": [
    "def fun1(a):\n",
    "    return a**2\n",
    "def fun2():\n",
    "    return 20\n",
    "x=fun1(fun2())\n",
    "print(x)"
   ]
  },
  {
   "cell_type": "code",
   "execution_count": 25,
   "metadata": {},
   "outputs": [
    {
     "name": "stdout",
     "output_type": "stream",
     "text": [
      "10\n",
      "7\n",
      "12\n"
     ]
    }
   ],
   "source": [
    "# import syntex1.\n",
    "import ap1\n",
    "print(ap1.x)\n",
    "print(ap1.add(3,4))\n",
    "print(ap1.mul(3,4))"
   ]
  },
  {
   "cell_type": "code",
   "execution_count": 26,
   "metadata": {},
   "outputs": [
    {
     "name": "stdout",
     "output_type": "stream",
     "text": [
      "5\n",
      "6\n"
     ]
    }
   ],
   "source": [
    "# import syntex2.\n",
    "import ap1 as m  # m is alias.\n",
    "print(m.add(2,3))\n",
    "print(m.mul(2,3))"
   ]
  },
  {
   "cell_type": "code",
   "execution_count": 27,
   "metadata": {},
   "outputs": [
    {
     "name": "stdout",
     "output_type": "stream",
     "text": [
      "10\n"
     ]
    }
   ],
   "source": [
    "from ap1 import x\n",
    "print(x)"
   ]
  },
  {
   "cell_type": "code",
   "execution_count": 28,
   "metadata": {},
   "outputs": [
    {
     "name": "stdout",
     "output_type": "stream",
     "text": [
      "10\n",
      "6\n"
     ]
    }
   ],
   "source": [
    "from ap1 import x\n",
    "from ap1 import mul\n",
    "print(x)\n",
    "print(mul(2,3))"
   ]
  },
  {
   "cell_type": "code",
   "execution_count": 29,
   "metadata": {},
   "outputs": [
    {
     "name": "stdout",
     "output_type": "stream",
     "text": [
      "10\n",
      "6\n"
     ]
    }
   ],
   "source": [
    "from ap1 import x,mul\n",
    "print(x)\n",
    "print(mul(2,3))"
   ]
  },
  {
   "cell_type": "code",
   "execution_count": 30,
   "metadata": {},
   "outputs": [
    {
     "name": "stdout",
     "output_type": "stream",
     "text": [
      "10\n",
      "6\n",
      "5\n"
     ]
    }
   ],
   "source": [
    "from ap1 import x,mul\n",
    "from ap1 import add\n",
    "print(x)\n",
    "print(mul(2,3))\n",
    "print(add(2,3))"
   ]
  },
  {
   "cell_type": "code",
   "execution_count": 31,
   "metadata": {},
   "outputs": [
    {
     "name": "stdout",
     "output_type": "stream",
     "text": [
      "10\n",
      "6\n",
      "5\n"
     ]
    }
   ],
   "source": [
    "from ap1 import x,mul,add\n",
    "print(x)\n",
    "print(mul(2,3))\n",
    "print(add(2,3))"
   ]
  },
  {
   "cell_type": "code",
   "execution_count": 32,
   "metadata": {},
   "outputs": [
    {
     "name": "stdout",
     "output_type": "stream",
     "text": [
      "10\n",
      "6\n",
      "5\n"
     ]
    }
   ],
   "source": [
    "from ap1 import *\n",
    "print(x)\n",
    "print(mul(2,3))\n",
    "print(add(2,3))"
   ]
  },
  {
   "cell_type": "code",
   "execution_count": 33,
   "metadata": {},
   "outputs": [
    {
     "name": "stdout",
     "output_type": "stream",
     "text": [
      "10\n",
      "6\n",
      "5\n"
     ]
    }
   ],
   "source": [
    "import ap1\n",
    "print(ap1.x)\n",
    "print(ap1.mul(2,3))\n",
    "print(ap1.add(2,3))"
   ]
  },
  {
   "cell_type": "code",
   "execution_count": 34,
   "metadata": {},
   "outputs": [
    {
     "name": "stdout",
     "output_type": "stream",
     "text": [
      "24\n"
     ]
    }
   ],
   "source": [
    "from ap1 import mul \n",
    "def mul(a,b,c):\n",
    "    return a*b*c\n",
    "print(mul(2,3,4))"
   ]
  },
  {
   "cell_type": "code",
   "execution_count": 35,
   "metadata": {},
   "outputs": [
    {
     "name": "stdout",
     "output_type": "stream",
     "text": [
      "6\n",
      "24\n"
     ]
    }
   ],
   "source": [
    "from ap1 import mul \n",
    "print(mul(2,3))\n",
    "def mul(a,b,c):\n",
    "    return a*b*c\n",
    "print(mul(2,3,4))"
   ]
  },
  {
   "cell_type": "code",
   "execution_count": 37,
   "metadata": {},
   "outputs": [
    {
     "name": "stdout",
     "output_type": "stream",
     "text": [
      "8\n",
      "24\n"
     ]
    }
   ],
   "source": [
    "# when we need to run both mul function together.\n",
    "import ap1\n",
    "def mul(a,b,c):\n",
    "    return a*b*c\n",
    "print(ap1.mul(2,4))\n",
    "print(mul(2,3,4))"
   ]
  },
  {
   "cell_type": "code",
   "execution_count": 38,
   "metadata": {},
   "outputs": [
    {
     "name": "stdout",
     "output_type": "stream",
     "text": [
      "Help on function mul in module ap1:\n",
      "\n",
      "mul(a, b)\n",
      "\n"
     ]
    }
   ],
   "source": [
    "import ap1 \n",
    "help(ap1.mul)"
   ]
  },
  {
   "cell_type": "code",
   "execution_count": 41,
   "metadata": {},
   "outputs": [
    {
     "name": "stdout",
     "output_type": "stream",
     "text": [
      "Help on module ap1:\n",
      "\n",
      "NAME\n",
      "    ap1\n",
      "\n",
      "FUNCTIONS\n",
      "    add(a, b)\n",
      "    \n",
      "    arithmetic(a, b)\n",
      "    \n",
      "    mul(a, b)\n",
      "    \n",
      "    product(a, b, c)\n",
      "\n",
      "DATA\n",
      "    x = 10\n",
      "\n",
      "FILE\n",
      "    c:\\users\\raju\\desktop\\new\\wd_4pm_python\\wd_4pm_pyton4d\\ap1.py\n",
      "\n",
      "\n"
     ]
    }
   ],
   "source": [
    "import ap1\n",
    "help(ap1)"
   ]
  },
  {
   "cell_type": "code",
   "execution_count": 1,
   "metadata": {},
   "outputs": [
    {
     "name": "stdout",
     "output_type": "stream",
     "text": [
      "5\n"
     ]
    }
   ],
   "source": [
    "def show():\n",
    "    import ap1\n",
    "    print(ap1.add(2,3))\n",
    "show()\n",
    "# print(ap1.mul(3,4)) error because import used in local variable.\n",
    "# right way to use import is global variable."
   ]
  },
  {
   "cell_type": "code",
   "execution_count": 3,
   "metadata": {},
   "outputs": [],
   "source": [
    "# def show():           error.\n",
    "#     import(ap1.add(2,3))\n",
    "# show()"
   ]
  },
  {
   "cell_type": "code",
   "execution_count": 4,
   "metadata": {},
   "outputs": [
    {
     "name": "stdout",
     "output_type": "stream",
     "text": [
      "9\n"
     ]
    }
   ],
   "source": [
    "# how to give function name as a alias. \n",
    "from ap1 import add as a\n",
    "print(a(4,5))"
   ]
  },
  {
   "cell_type": "code",
   "execution_count": 5,
   "metadata": {},
   "outputs": [
    {
     "name": "stdout",
     "output_type": "stream",
     "text": [
      "7\n"
     ]
    }
   ],
   "source": [
    "import mypack.ap1\n",
    "print(mypack.ap1.add(2,5))"
   ]
  },
  {
   "cell_type": "code",
   "execution_count": 6,
   "metadata": {},
   "outputs": [
    {
     "name": "stdout",
     "output_type": "stream",
     "text": [
      "7\n"
     ]
    }
   ],
   "source": [
    "import mypack.ap1 as m\n",
    "print(m.add(2,5))"
   ]
  },
  {
   "cell_type": "code",
   "execution_count": 7,
   "metadata": {},
   "outputs": [
    {
     "name": "stdout",
     "output_type": "stream",
     "text": [
      "7\n"
     ]
    }
   ],
   "source": [
    "from mypack import ap1\n",
    "print(ap1.add(2,5))"
   ]
  },
  {
   "cell_type": "code",
   "execution_count": 8,
   "metadata": {},
   "outputs": [
    {
     "name": "stdout",
     "output_type": "stream",
     "text": [
      "9\n"
     ]
    }
   ],
   "source": [
    "from mypack import ap1 as m2\n",
    "print(m2.add(4,5))"
   ]
  },
  {
   "cell_type": "code",
   "execution_count": 9,
   "metadata": {},
   "outputs": [
    {
     "name": "stdout",
     "output_type": "stream",
     "text": [
      "7\n"
     ]
    }
   ],
   "source": [
    "from mypack.ap1 import add\n",
    "print(add(2,5))"
   ]
  },
  {
   "cell_type": "code",
   "execution_count": null,
   "metadata": {},
   "outputs": [],
   "source": []
  }
 ],
 "metadata": {
  "kernelspec": {
   "display_name": "Python 3",
   "language": "python",
   "name": "python3"
  },
  "language_info": {
   "codemirror_mode": {
    "name": "ipython",
    "version": 3
   },
   "file_extension": ".py",
   "mimetype": "text/x-python",
   "name": "python",
   "nbconvert_exporter": "python",
   "pygments_lexer": "ipython3",
   "version": "3.11.3"
  },
  "orig_nbformat": 4
 },
 "nbformat": 4,
 "nbformat_minor": 2
}
