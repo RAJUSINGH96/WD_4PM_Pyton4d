{
 "cells": [
  {
   "cell_type": "code",
   "execution_count": 1,
   "metadata": {},
   "outputs": [
    {
     "data": {
      "text/plain": [
       "'1.24.3'"
      ]
     },
     "execution_count": 1,
     "metadata": {},
     "output_type": "execute_result"
    }
   ],
   "source": [
    "# Q1. Import numpy as `np` and print the version number.\n",
    "import numpy as np\n",
    "np.version.version"
   ]
  },
  {
   "cell_type": "code",
   "execution_count": 2,
   "metadata": {},
   "outputs": [
    {
     "name": "stdout",
     "output_type": "stream",
     "text": [
      "[1 2 3 4 5 6 7 8 9]\n"
     ]
    }
   ],
   "source": [
    "# Q2. Create a 1D array of numbers from 0 to 9.\n",
    "a=np.arange(1,10,1)\n",
    "print(a)"
   ]
  },
  {
   "cell_type": "code",
   "execution_count": 3,
   "metadata": {},
   "outputs": [
    {
     "data": {
      "text/plain": [
       "array([1, 3, 5, 7, 9])"
      ]
     },
     "execution_count": 3,
     "metadata": {},
     "output_type": "execute_result"
    }
   ],
   "source": [
    "# Q3. Extract all odd numbers from numpy array.\n",
    "a=np.arange(1,10,1)\n",
    "a[a%2!=0]"
   ]
  },
  {
   "cell_type": "code",
   "execution_count": 4,
   "metadata": {},
   "outputs": [
    {
     "name": "stdout",
     "output_type": "stream",
     "text": [
      "[-1  2 -1  4 -1  6 -1  8 -1]\n"
     ]
    }
   ],
   "source": [
    "# Q4. Replace all odd numbers in array with -1.\n",
    "a=np.arange(1,10,1)\n",
    "a[a%2!=0]=-1\n",
    "print(a)"
   ]
  },
  {
   "cell_type": "code",
   "execution_count": 5,
   "metadata": {},
   "outputs": [
    {
     "name": "stdout",
     "output_type": "stream",
     "text": [
      "[1 2 3 4 5 6 7 8]\n"
     ]
    },
    {
     "data": {
      "text/plain": [
       "array([[1, 2, 3, 4],\n",
       "       [5, 6, 7, 8]])"
      ]
     },
     "execution_count": 5,
     "metadata": {},
     "output_type": "execute_result"
    }
   ],
   "source": [
    "# Q5. Convert a 1D array to a 2D array with 2 rows.\n",
    "a=np.arange(1,9,1)\n",
    "print(a)\n",
    "np.reshape(a,(2,4))"
   ]
  },
  {
   "cell_type": "code",
   "execution_count": 7,
   "metadata": {},
   "outputs": [
    {
     "name": "stdout",
     "output_type": "stream",
     "text": [
      "[[3 3 2 4]\n",
      " [4 4 4 4]\n",
      " [2 4 3 3]]\n",
      "[[1 2 2 3]\n",
      " [2 2 3 3]\n",
      " [2 3 3 2]]\n",
      "[[3 3 2 4 1 2 2 3]\n",
      " [4 4 4 4 2 2 3 3]\n",
      " [2 4 3 3 2 3 3 2]]\n"
     ]
    }
   ],
   "source": [
    "# Q6. Stack the arrays a and b horizontally.\n",
    "a=np.random.randint(1,5,(3,4))\n",
    "b=np.random.randint(1,5,(3,4))\n",
    "print(a)\n",
    "print(b)\n",
    "c=np.concatenate([a,b],axis=1)\n",
    "print(c)"
   ]
  },
  {
   "cell_type": "code",
   "execution_count": 19,
   "metadata": {},
   "outputs": [
    {
     "name": "stdout",
     "output_type": "stream",
     "text": [
      "[[2 1 4 3]\n",
      " [1 3 3 3]\n",
      " [1 2 3 1]]\n",
      "[[2 2 3 1]\n",
      " [3 4 4 4]\n",
      " [3 3 1 2]]\n",
      "[[2 1 4 3 2 2 3 1]\n",
      " [1 3 3 3 3 4 4 4]\n",
      " [1 2 3 1 3 3 1 2]]\n"
     ]
    }
   ],
   "source": [
    "# Q6. Stack the arrays a and b horizontally.\n",
    "a=np.random.randint(1,5,(3,4))\n",
    "b=np.random.randint(1,5,(3,4))\n",
    "print(a)\n",
    "print(b)\n",
    "c=np.hstack((a,b))\n",
    "print(c)"
   ]
  },
  {
   "cell_type": "code",
   "execution_count": 18,
   "metadata": {},
   "outputs": [
    {
     "name": "stdout",
     "output_type": "stream",
     "text": [
      "[[4 3 3 1]\n",
      " [1 1 3 2]\n",
      " [2 4 3 3]]\n",
      "[[1 1 1 1]\n",
      " [4 2 4 2]\n",
      " [4 1 2 4]]\n",
      "[1 2 4]\n"
     ]
    }
   ],
   "source": [
    "# Q7. Get the common items between a and b.\n",
    "a=np.random.randint(1,5,(3,4))\n",
    "print(a)\n",
    "b=np.random.randint(1,5,(3,4))\n",
    "print(b)\n",
    "c=np.intersect1d(a,b)\n",
    "print(c)"
   ]
  },
  {
   "cell_type": "code",
   "execution_count": 15,
   "metadata": {},
   "outputs": [
    {
     "name": "stdout",
     "output_type": "stream",
     "text": [
      "[3 4 2 3 1 3]\n",
      "[1 1 2 3 2 3]\n"
     ]
    },
    {
     "data": {
      "text/plain": [
       "array([4])"
      ]
     },
     "execution_count": 15,
     "metadata": {},
     "output_type": "execute_result"
    }
   ],
   "source": [
    "# Q8. From array a remove all items present in array b.\n",
    "a=np.random.randint(1,5,6)\n",
    "print(a)\n",
    "b=np.random.randint(1,5,6)\n",
    "print(b)\n",
    "np.setdiff1d(a,b)"
   ]
  },
  {
   "cell_type": "code",
   "execution_count": 17,
   "metadata": {},
   "outputs": [
    {
     "name": "stdout",
     "output_type": "stream",
     "text": [
      "[1 2 3 4 5]\n",
      "[4 5 6 4 8]\n"
     ]
    },
    {
     "data": {
      "text/plain": [
       "(array([3], dtype=int64),)"
      ]
     },
     "execution_count": 17,
     "metadata": {},
     "output_type": "execute_result"
    }
   ],
   "source": [
    "# Q9. Get the positions where elements of a and b match.\n",
    "a=np.array([1,2,3,4,5])\n",
    "b=np.array([4,5,6,4,8])\n",
    "print(a)\n",
    "print(b)\n",
    "np.where(a==b)"
   ]
  },
  {
   "cell_type": "code",
   "execution_count": 20,
   "metadata": {},
   "outputs": [
    {
     "name": "stdout",
     "output_type": "stream",
     "text": [
      "[8 4 3 9 8 2 4 9]\n"
     ]
    },
    {
     "data": {
      "text/plain": [
       "(array([0, 3, 4, 7], dtype=int64),)"
      ]
     },
     "execution_count": 20,
     "metadata": {},
     "output_type": "execute_result"
    }
   ],
   "source": [
    "# Q10. Get all items between 5 and 10 from a.\n",
    "a=np.random.randint(1,10,8)\n",
    "print(a)\n",
    "np.where((a>=5) & (a<10))"
   ]
  },
  {
   "cell_type": "code",
   "execution_count": null,
   "metadata": {},
   "outputs": [],
   "source": []
  }
 ],
 "metadata": {
  "kernelspec": {
   "display_name": "Python 3",
   "language": "python",
   "name": "python3"
  },
  "language_info": {
   "codemirror_mode": {
    "name": "ipython",
    "version": 3
   },
   "file_extension": ".py",
   "mimetype": "text/x-python",
   "name": "python",
   "nbconvert_exporter": "python",
   "pygments_lexer": "ipython3",
   "version": "3.11.3"
  }
 },
 "nbformat": 4,
 "nbformat_minor": 2
}
