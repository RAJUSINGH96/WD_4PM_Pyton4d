{
 "cells": [
  {
   "cell_type": "markdown",
   "metadata": {},
   "source": [
    "#### User interface\n",
    " - CUI(character user interface)\n",
    " - GUI(Graphical user interface)\n",
    "    - desktop based\n",
    "      - tkinter\n",
    "      - wxpython\n",
    "      - pyqt\n",
    "      - kivy\n",
    "      - etc.\n",
    "    - web based\n",
    "      - html\n",
    "      - css\n",
    "      - js\n",
    "      - bootstrap\n",
    "      - react\n",
    "      - etc.\n",
    "    - mobile based \n",
    "      - react\n",
    "      - kivy"
   ]
  },
  {
   "cell_type": "markdown",
   "metadata": {},
   "source": [
    "### tkinter\n",
    " - it is a **standard python library** to create desktop based GUI application.\n",
    " - this library provides set of graphical components(a.k.a widgets)\n",
    " - **each widget is represented by an object** "
   ]
  },
  {
   "cell_type": "code",
   "execution_count": 2,
   "metadata": {},
   "outputs": [],
   "source": [
    "from tkinter import *"
   ]
  },
  {
   "cell_type": "code",
   "execution_count": 3,
   "metadata": {},
   "outputs": [],
   "source": [
    "win=Tk()   # create a window\n",
    "win.mainloop()  # make the win visible"
   ]
  },
  {
   "cell_type": "code",
   "execution_count": 4,
   "metadata": {},
   "outputs": [],
   "source": [
    "win=Tk()  # create a window\n",
    "win.geometry(\"600x400\")  #initial size(wxh)\n",
    "win.mainloop()    #make the win visible"
   ]
  },
  {
   "cell_type": "code",
   "execution_count": 5,
   "metadata": {},
   "outputs": [],
   "source": [
    "win=Tk()  # create a window\n",
    "win.geometry(\"600x400\")  #initial size(wxh)\n",
    "win.resizable(width=False,height=False)\n",
    "win.mainloop()    #make the win visible"
   ]
  },
  {
   "cell_type": "code",
   "execution_count": 7,
   "metadata": {},
   "outputs": [],
   "source": [
    "win=Tk()  # create a window\n",
    "win.state(\"zoomed\")  #fullscreen(platform dependent)\n",
    "win.resizable(width=False,height=False)\n",
    "win.configure(bg=\"red\")\n",
    "win.mainloop()    #make the win visible"
   ]
  },
  {
   "cell_type": "code",
   "execution_count": 11,
   "metadata": {},
   "outputs": [],
   "source": [
    "win=Tk()  # create a window\n",
    "win.state(\"zoomed\")  #fullscreen(platform dependent)\n",
    "win.resizable(width=False,height=False)\n",
    "win.configure(bg=\"#5fff00\")\n",
    "win.mainloop()    #make the win visible"
   ]
  },
  {
   "cell_type": "code",
   "execution_count": 10,
   "metadata": {},
   "outputs": [],
   "source": [
    "win=Tk()  # create a window\n",
    "win.state(\"zoomed\")  #fullscreen(platform dependent)\n",
    "win.resizable(width=False,height=False)\n",
    "win.configure(bg=\"#5ffaa0\")\n",
    "win.mainloop()    #make the win visible"
   ]
  },
  {
   "cell_type": "markdown",
   "metadata": {},
   "source": [
    "### Layout Managers\n",
    " - responsible to arrange/position componenets to container.\n",
    " - three types of layout\n",
    "    - place\n",
    "    - pack\n",
    "    - grid"
   ]
  },
  {
   "cell_type": "code",
   "execution_count": 2,
   "metadata": {},
   "outputs": [],
   "source": [
    "from tkinter import *"
   ]
  },
  {
   "cell_type": "code",
   "execution_count": 3,
   "metadata": {},
   "outputs": [],
   "source": [
    "win=Tk()\n",
    "win.geometry(\"600x400\")\n",
    "win.configure(bg=\"yellow\")\n",
    "\n",
    "b1=Button(win,text=\"submit\")\n",
    "b2=Button(win,text=\"ok\")\n",
    "\n",
    "#absolute\n",
    "b1.place(x=100,y=200)\n",
    "b2.place(x=400,y=200)\n",
    "\n",
    "win.mainloop()"
   ]
  },
  {
   "cell_type": "code",
   "execution_count": 5,
   "metadata": {},
   "outputs": [],
   "source": [
    "win=Tk()\n",
    "win.geometry(\"600x400\")\n",
    "win.configure(bg=\"blue\")\n",
    "\n",
    "b1=Button(win,text=\"submit\")\n",
    "b2=Button(win,text=\"ok\")\n",
    "\n",
    "#relative\n",
    "b1.place(relx=0.3,rely=0.3)\n",
    "b2.place(relx=0.7,rely=0.3)\n",
    "\n",
    "win.mainloop()"
   ]
  },
  {
   "cell_type": "code",
   "execution_count": 4,
   "metadata": {},
   "outputs": [],
   "source": [
    "win=Tk()\n",
    "win.geometry(\"600x400\")\n",
    "win.configure(bg=\"yellow\")\n",
    "\n",
    "b1=Button(win,text=\"submit\",width=10)\n",
    "b2=Button(win,text=\"ok\",width=10)\n",
    "\n",
    "#relative\n",
    "b1.place(relx=0.3,rely=0.3)\n",
    "b2.place(relx=0.7,rely=0.3)\n",
    "\n",
    "win.mainloop()"
   ]
  },
  {
   "cell_type": "code",
   "execution_count": 6,
   "metadata": {},
   "outputs": [],
   "source": [
    "win=Tk()\n",
    "win.geometry(\"600x400\")\n",
    "win.configure(bg=\"yellow\")\n",
    "\n",
    "b1=Button(win,text=\"submit\",width=10,font=(\"arial\",20,\"bold\"))\n",
    "b2=Button(win,text=\"ok\",width=10,font=(\"arial\",20,\"bold\"))\n",
    "\n",
    "#relative\n",
    "b1.place(relx=0.2,rely=0.3)\n",
    "b2.place(relx=0.6,rely=0.3)\n",
    "\n",
    "win.mainloop()"
   ]
  },
  {
   "cell_type": "code",
   "execution_count": 7,
   "metadata": {},
   "outputs": [],
   "source": [
    "win=Tk()\n",
    "win.geometry(\"600x400\")\n",
    "win.configure(bg=\"yellow\")\n",
    "\n",
    "b1=Button(win,text=\"submit\",width=10,font=(\"arial\",20,\"bold\"),bd=5)\n",
    "b2=Button(win,text=\"ok\",width=10,bd=5,font=(\"arial\",20,\"bold\"))\n",
    "\n",
    "#relative\n",
    "b1.place(relx=0.2,rely=0.3)\n",
    "b2.place(relx=0.6,rely=0.3)\n",
    "\n",
    "win.mainloop()"
   ]
  },
  {
   "cell_type": "code",
   "execution_count": 8,
   "metadata": {},
   "outputs": [],
   "source": [
    "win=Tk()\n",
    "win.geometry(\"600x400\")\n",
    "win.configure(bg=\"yellow\")\n",
    "\n",
    "b1=Button(win,text=\"submit\",width=10,font=(\"arial\",20,\"bold\"),bd=5,fg='blue',bg='black')\n",
    "b2=Button(win,text=\"ok\",width=10,font=(\"arial\",20,\"bold\"),bd=5,fg='blue',bg='red')\n",
    "\n",
    "#relative\n",
    "b1.place(relx=0.2,rely=0.3)\n",
    "b2.place(relx=0.6,rely=0.3)\n",
    "\n",
    "win.mainloop()"
   ]
  },
  {
   "cell_type": "markdown",
   "metadata": {},
   "source": [
    "### Pack\n",
    "  - top= w,c,e\n",
    "  - bottom=w,c,e\n",
    "  - left= n,c,s\n",
    "  - right=n,c,s"
   ]
  },
  {
   "cell_type": "code",
   "execution_count": 19,
   "metadata": {},
   "outputs": [],
   "source": [
    "# win=Tk()\n",
    "# win.geometry(\"600x400\")\n",
    "# win.configure(bg=\"red\")\n",
    "# b1=Button(win,text=\"ok\",width=10,bg=\"black\",fg=\"blue\",bd=5,font=('arial',20,'bold'))\n",
    "# b2=Button(win,text=\"ok\",width=10,bg=\"black\",fg=\"blue\",bd=5,font=('arial',20,'bold'))\n",
    "# b3=Button(win,text=\"ok\",width=10,bg=\"black\",fg=\"blue\",bd=5,font=('arial',20,'bold'))\n",
    "# b1.pack(side=\"bottom\",anchor=\"w\")\n",
    "# b2.pack(side=\"bottom\",anchor=\"c\")\n",
    "# b3.pack(side=\"bottom\",anchor=\"e\")\n",
    "# win.mainloop()\n"
   ]
  },
  {
   "cell_type": "code",
   "execution_count": 9,
   "metadata": {},
   "outputs": [],
   "source": [
    "win=Tk()\n",
    "win.geometry(\"600x400\")\n",
    "win.configure(bg=\"yellow\")\n",
    "\n",
    "b1=Button(win,text=\"submit\",width=10,font=(\"arial\",20,\"bold\"),bd=5,fg='blue',bg='black')\n",
    "b2=Button(win,text=\"ok\",width=10,font=(\"arial\",20,\"bold\"),bd=5,fg='blue',bg='red')\n",
    "\n",
    "#pack\n",
    "b1.pack(side=\"bottom\",anchor=\"w\")\n",
    "b2.pack(side=\"bottom\",anchor=\"w\")\n",
    "\n",
    "win.mainloop()"
   ]
  },
  {
   "cell_type": "code",
   "execution_count": 10,
   "metadata": {},
   "outputs": [],
   "source": [
    "win=Tk()\n",
    "win.geometry(\"600x400\")\n",
    "win.configure(bg=\"yellow\")\n",
    "\n",
    "b1=Button(win,text=\"submit\",width=10,font=(\"arial\",20,\"bold\"),bd=5,fg='blue',bg='black')\n",
    "b2=Button(win,text=\"ok\",width=10,font=(\"arial\",20,\"bold\"),bd=5,fg='blue',bg='red')\n",
    "\n",
    "#pack\n",
    "b1.pack(side=\"top\",anchor=\"w\")\n",
    "b2.pack(side=\"top\",anchor=\"w\")\n",
    "\n",
    "win.mainloop()"
   ]
  },
  {
   "cell_type": "code",
   "execution_count": 11,
   "metadata": {},
   "outputs": [],
   "source": [
    "win=Tk()\n",
    "win.geometry(\"600x400\")\n",
    "win.configure(bg=\"yellow\")\n",
    "\n",
    "b1=Button(win,text=\"submit\",width=10,font=(\"arial\",20,\"bold\"),bd=5,fg='blue',bg='black')\n",
    "b2=Button(win,text=\"ok\",width=10,font=(\"arial\",20,\"bold\"),bd=5,fg='blue',bg='red')\n",
    "\n",
    "#pack\n",
    "b1.pack(side=\"top\",anchor=\"w\",padx=20)\n",
    "b2.pack(side=\"top\",anchor=\"w\",pady=20)\n",
    "\n",
    "win.mainloop()"
   ]
  },
  {
   "cell_type": "code",
   "execution_count": 20,
   "metadata": {},
   "outputs": [],
   "source": [
    "win=Tk()\n",
    "win.geometry(\"600x400\")\n",
    "win.configure(bg=\"yellow\")\n",
    "\n",
    "b1=Button(win,text=\"submit\",width=10,font=(\"arial\",20,\"bold\"),bd=5,fg='blue',bg='black')\n",
    "b2=Button(win,text=\"ok\",width=10,font=(\"arial\",20,\"bold\"),bd=5,fg='blue',bg='red')\n",
    "\n",
    "#pack\n",
    "b1.pack(side=\"top\",anchor=\"w\")\n",
    "b2.pack(side=\"top\",anchor=\"w\",pady=20)\n",
    "\n",
    "win.mainloop()"
   ]
  },
  {
   "cell_type": "code",
   "execution_count": 3,
   "metadata": {},
   "outputs": [],
   "source": [
    "win=Tk()\n",
    "win.geometry(\"600x400\")\n",
    "win.configure(bg=\"yellow\")\n",
    "\n",
    "b1=Button(win,text=\"submit\",width=10,font=(\"arial\",20,\"bold\"),bd=5,fg='blue',bg='black')\n",
    "b2=Button(win,text=\"ok\",width=10,font=(\"arial\",20,\"bold\"),bd=5,fg='blue',bg='red')\n",
    "\n",
    "#pack\n",
    "b1.pack()\n",
    "b2.pack()\n",
    "\n",
    "win.mainloop()"
   ]
  },
  {
   "cell_type": "code",
   "execution_count": 20,
   "metadata": {},
   "outputs": [],
   "source": [
    "win=Tk()\n",
    "win.geometry(\"600x400\")\n",
    "win.configure(bg=\"yellow\")\n",
    "\n",
    "b1=Button(win,text=\"submit-1\",width=10,font=(\"arial\",20,\"bold\"),bd=5)\n",
    "b2=Button(win,text=\"submit-2\",width=10,font=(\"arial\",20,\"bold\"),bd=5)\n",
    "b3=Button(win,text=\"submit-3\",width=10,font=(\"arial\",20,\"bold\"),bd=5)\n",
    "b4=Button(win,text=\"submit-4\",width=10,font=(\"arial\",20,\"bold\"),bd=5)\n",
    "\n",
    "b1.grid(row=0,column=0)\n",
    "b2.grid(row=0,column=1)\n",
    "b3.grid(row=1,column=0)\n",
    "b4.grid(row=1,column=1)\n",
    "\n",
    "win.mainloop()"
   ]
  },
  {
   "cell_type": "code",
   "execution_count": null,
   "metadata": {},
   "outputs": [],
   "source": [
    "win=Tk()\n",
    "win.geometry(\"600x400\")\n",
    "win.configure(bg=\"yellow\")\n",
    "\n",
    "b1=Button(win,text=\"submit-1\",width=10,font=(\"arial\",20,\"bold\"),bd=5)\n",
    "b2=Button(win,text=\"submit-2\",width=10,font=(\"arial\",20,\"bold\"),bd=5)\n",
    "b3=Button(win,text=\"submit-3\",width=10,font=(\"arial\",20,\"bold\"),bd=5)\n",
    "b4=Button(win,text=\"submit-4\",width=10,font=(\"arial\",20,\"bold\"),bd=5)\n",
    "\n",
    "b1.grid(row=0,column=0)\n",
    "b2.grid(row=0,column=1)\n",
    "b3.grid(row=1,column=0)\n",
    "b4.grid(row=1,column=1)\n",
    "\n",
    "win.mainloop()"
   ]
  },
  {
   "cell_type": "code",
   "execution_count": 21,
   "metadata": {},
   "outputs": [],
   "source": [
    "win=Tk()\n",
    "win.geometry(\"600x400\")\n",
    "win.configure(bg=\"yellow\")\n",
    "\n",
    "frm=Frame(win)\n",
    "frm.place(x=100,y=200)\n",
    "\n",
    "b1=Button(win,text=\"submit-1\",width=10,font=(\"arial\",20,\"bold\"),bd=5)\n",
    "b2=Button(win,text=\"submit-2\",width=10,font=(\"arial\",20,\"bold\"),bd=5)\n",
    "b3=Button(win,text=\"submit-3\",width=10,font=(\"arial\",20,\"bold\"),bd=5)\n",
    "b4=Button(win,text=\"submit-4\",width=10,font=(\"arial\",20,\"bold\"),bd=5)\n",
    "\n",
    "b1.grid(row=0,column=0)\n",
    "b2.grid(row=0,column=1)\n",
    "b3.grid(row=1,column=0)\n",
    "b4.grid(row=1,column=1)\n",
    "\n",
    "win.mainloop()"
   ]
  },
  {
   "cell_type": "code",
   "execution_count": 22,
   "metadata": {},
   "outputs": [],
   "source": [
    "win=Tk()\n",
    "win.geometry(\"600x400\")\n",
    "win.configure(bg=\"yellow\")\n",
    "\n",
    "frm=Frame(win)\n",
    "frm.place(x=100,y=200)\n",
    "\n",
    "b1=Button(frm,text=\"submit-1\",width=10,font=(\"arial\",20,\"bold\"),bd=5)\n",
    "b2=Button(frm,text=\"submit-2\",width=10,font=(\"arial\",20,\"bold\"),bd=5)\n",
    "b3=Button(frm,text=\"submit-3\",width=10,font=(\"arial\",20,\"bold\"),bd=5)\n",
    "b4=Button(frm,text=\"submit-4\",width=10,font=(\"arial\",20,\"bold\"),bd=5)\n",
    "\n",
    "b1.grid(row=0,column=0)\n",
    "b2.grid(row=0,column=1)\n",
    "b3.grid(row=1,column=0)\n",
    "b4.grid(row=1,column=1)\n",
    "\n",
    "win.mainloop()"
   ]
  },
  {
   "cell_type": "code",
   "execution_count": 27,
   "metadata": {},
   "outputs": [],
   "source": [
    "win=Tk()\n",
    "win.geometry(\"600x400\")\n",
    "win.configure(bg=\"yellow\")\n",
    "\n",
    "frm=Frame(win)\n",
    "frm.place(x=100,y=100)\n",
    "\n",
    "b1=Button(frm,text=\"submit-1\",width=10,font=(\"arial\",20,\"bold\"),bd=5)\n",
    "b2=Button(frm,text=\"submit-2\",width=10,font=(\"arial\",20,\"bold\"),bd=5)\n",
    "b3=Button(frm,text=\"submit-3\",width=10,font=(\"arial\",20,\"bold\"),bd=5)\n",
    "b4=Button(frm,text=\"submit-4\",width=10,font=(\"arial\",20,\"bold\"),bd=5)\n",
    "\n",
    "b1.grid(row=0,column=0)\n",
    "b2.grid(row=0,column=1)\n",
    "b3.grid(row=1,column=0)\n",
    "b4.grid(row=1,column=1)\n",
    "\n",
    "win.mainloop()"
   ]
  },
  {
   "cell_type": "code",
   "execution_count": 28,
   "metadata": {},
   "outputs": [],
   "source": [
    "win=Tk()\n",
    "win.geometry(\"600x400\")\n",
    "win.configure(bg=\"yellow\")\n",
    "\n",
    "frm=Frame(win)\n",
    "frm.place(x=100,y=100,width=300)\n",
    "\n",
    "b1=Button(frm,text=\"submit-1\",width=10,font=(\"arial\",20,\"bold\"),bd=5)\n",
    "b2=Button(frm,text=\"submit-2\",width=10,font=(\"arial\",20,\"bold\"),bd=5)\n",
    "b3=Button(frm,text=\"submit-3\",width=10,font=(\"arial\",20,\"bold\"),bd=5)\n",
    "b4=Button(frm,text=\"submit-4\",width=10,font=(\"arial\",20,\"bold\"),bd=5)\n",
    "\n",
    "b1.grid(row=0,column=0)\n",
    "b2.grid(row=0,column=1)\n",
    "b3.grid(row=1,column=0)\n",
    "b4.grid(row=1,column=1)\n",
    "\n",
    "win.mainloop()"
   ]
  },
  {
   "cell_type": "code",
   "execution_count": 29,
   "metadata": {},
   "outputs": [],
   "source": [
    "win=Tk()\n",
    "win.geometry(\"600x400\")\n",
    "win.configure(bg=\"yellow\")\n",
    "\n",
    "frm=Frame(win)\n",
    "frm.place(x=100,y=100,width=500)\n",
    "\n",
    "b1=Button(frm,text=\"submit-1\",width=10,font=(\"arial\",20,\"bold\"),bd=5)\n",
    "b2=Button(frm,text=\"submit-2\",width=10,font=(\"arial\",20,\"bold\"),bd=5)\n",
    "b3=Button(frm,text=\"submit-3\",width=10,font=(\"arial\",20,\"bold\"),bd=5)\n",
    "b4=Button(frm,text=\"submit-4\",width=10,font=(\"arial\",20,\"bold\"),bd=5)\n",
    "\n",
    "b1.grid(row=0,column=0)\n",
    "b2.grid(row=0,column=1)\n",
    "b3.grid(row=1,column=0)\n",
    "b4.grid(row=1,column=1)\n",
    "\n",
    "win.mainloop()"
   ]
  },
  {
   "cell_type": "code",
   "execution_count": 31,
   "metadata": {},
   "outputs": [],
   "source": [
    "win=Tk()\n",
    "win.geometry(\"600x400\")\n",
    "win.configure(bg=\"yellow\")\n",
    "\n",
    "frm=Frame(win)\n",
    "frm.place(x=50,y=100,width=500,height=200)\n",
    "\n",
    "b1=Button(frm,text=\"submit-1\",width=10,font=(\"arial\",20,\"bold\"),bd=5)\n",
    "b2=Button(frm,text=\"submit-2\",width=10,font=(\"arial\",20,\"bold\"),bd=5)\n",
    "b3=Button(frm,text=\"submit-3\",width=10,font=(\"arial\",20,\"bold\"),bd=5)\n",
    "b4=Button(frm,text=\"submit-4\",width=10,font=(\"arial\",20,\"bold\"),bd=5)\n",
    "\n",
    "b1.grid(row=0,column=0)\n",
    "b2.grid(row=0,column=1)\n",
    "b3.grid(row=1,column=0)\n",
    "b4.grid(row=1,column=1)\n",
    "\n",
    "win.mainloop()"
   ]
  },
  {
   "cell_type": "code",
   "execution_count": 32,
   "metadata": {},
   "outputs": [],
   "source": [
    "win=Tk()\n",
    "win.geometry(\"600x400\")\n",
    "win.configure(bg=\"yellow\")\n",
    "\n",
    "frm=Frame(win)\n",
    "frm.configure(bg=\"pink\")\n",
    "frm.place(x=50,y=100,width=500,height=200)\n",
    "\n",
    "b1=Button(frm,text=\"submit-1\",width=10,font=(\"arial\",20,\"bold\"),bd=5)\n",
    "b2=Button(frm,text=\"submit-2\",width=10,font=(\"arial\",20,\"bold\"),bd=5)\n",
    "b3=Button(frm,text=\"submit-3\",width=10,font=(\"arial\",20,\"bold\"),bd=5)\n",
    "b4=Button(frm,text=\"submit-4\",width=10,font=(\"arial\",20,\"bold\"),bd=5)\n",
    "\n",
    "b1.grid(row=0,column=0)\n",
    "b2.grid(row=0,column=1)\n",
    "b3.grid(row=1,column=0)\n",
    "b4.grid(row=1,column=1)\n",
    "\n",
    "win.mainloop()"
   ]
  },
  {
   "cell_type": "code",
   "execution_count": 33,
   "metadata": {},
   "outputs": [],
   "source": [
    "win=Tk()\n",
    "win.geometry(\"600x400\")\n",
    "win.configure(bg=\"yellow\")\n",
    "\n",
    "l1=Label(win,text=\"This is Bharat\",font=('',40,'bold','underline'))\n",
    "l1.pack()\n",
    "\n",
    "win.mainloop()"
   ]
  },
  {
   "cell_type": "code",
   "execution_count": 34,
   "metadata": {},
   "outputs": [],
   "source": [
    "win=Tk()\n",
    "win.geometry(\"600x400\")\n",
    "win.configure(bg=\"yellow\")\n",
    "\n",
    "l1=Label(win,text=\"This is Bharat\",font=('',40,'bold','underline'),bg='yellow')\n",
    "l1.pack()\n",
    "\n",
    "win.mainloop()"
   ]
  },
  {
   "cell_type": "code",
   "execution_count": 40,
   "metadata": {},
   "outputs": [],
   "source": [
    "from PIL import Image,ImageTk\n",
    "\n",
    "win=Tk()\n",
    "win.geometry(\"600x400\")\n",
    "\n",
    "img=Image.open(r\"C:\\Users\\Raju\\Downloads\\indian flag.JPEG\")\n",
    "img=img.resize((600,400))\n",
    "imgtk=ImageTk.PhotoImage(img,master=win)\n",
    "\n",
    "l2=Label(win,image=imgtk)\n",
    "l2.place(x=0,y=0)\n",
    "\n",
    "l1=Label(win,text=\"This is Bharat\",font=('',40,'bold','underline'),bg='orange')\n",
    "l1.pack()\n",
    "\n",
    "win.mainloop()"
   ]
  },
  {
   "cell_type": "code",
   "execution_count": 43,
   "metadata": {},
   "outputs": [],
   "source": [
    "from PIL import Image,ImageTk\n",
    "\n",
    "win=Tk()\n",
    "win.geometry(\"600x400\")\n",
    "win.configure(bg=\"yellow\")\n",
    "\n",
    "l1=Label(win,text=\"Mini Calculator\",font=('',40,'bold','underline'),bg='yellow')\n",
    "l1.pack()\n",
    "\n",
    "l2=Label(win,text=\"1st num:\",font=('',20,'bold'),bg='yellow',fg='blue')\n",
    "l2.place(x=100,y=100)\n",
    "\n",
    "l3=Label(win,text=\"2st num:\",font=('',20,'bold'),bg='yellow',fg='blue')\n",
    "l3.place(x=100,y=200)\n",
    "\n",
    "e2=Entry(win,font=('',20,'bold'),bd=5)\n",
    "e2.place(x=250,y=100)\n",
    "\n",
    "e3=Entry(win,font=('',20,'bold'),bd=5)\n",
    "e3.place(x=250,y=170)\n",
    "\n",
    "b1=Button(win,text=\"add\",font=('',20,'bold'),bd=5)\n",
    "b2=Button(win,text=\"mul\",font=('',20,'bold'),bd=5)\n",
    "\n",
    "b1.place(x=250,y=270)\n",
    "b2.place(x=350,y=270)\n",
    "\n",
    "win.mainloop()"
   ]
  },
  {
   "cell_type": "code",
   "execution_count": 46,
   "metadata": {},
   "outputs": [
    {
     "name": "stdout",
     "output_type": "stream",
     "text": [
      "10.0\n"
     ]
    }
   ],
   "source": [
    "from PIL import Image,ImageTk\n",
    "\n",
    "win=Tk()\n",
    "win.geometry(\"600x400\")\n",
    "win.configure(bg=\"yellow\")\n",
    "\n",
    "def addclick():\n",
    "    a=float(e2.get())\n",
    "    b=float(e3.get())\n",
    "    print(a+b)\n",
    "\n",
    "l1=Label(win,text=\"Mini Calculator\",font=('',40,'bold','underline'),bg='yellow')\n",
    "l1.pack()\n",
    "\n",
    "l2=Label(win,text=\"1st num:\",font=('',20,'bold'),bg='yellow',fg='blue')\n",
    "l2.place(x=100,y=100)\n",
    "\n",
    "l3=Label(win,text=\"2st num:\",font=('',20,'bold'),bg='yellow',fg='blue')\n",
    "l3.place(x=100,y=200)\n",
    "\n",
    "e2=Entry(win,font=('',20,'bold'),bd=5)\n",
    "e2.place(x=250,y=100)\n",
    "\n",
    "e3=Entry(win,font=('',20,'bold'),bd=5)\n",
    "e3.place(x=250,y=170)\n",
    "\n",
    "b1=Button(win,command=addclick,text=\"add\",font=('',20,'bold'),bd=5)\n",
    "b2=Button(win,text=\"mul\",font=('',20,'bold'),bd=5)\n",
    "\n",
    "b1.place(x=250,y=270)\n",
    "b2.place(x=350,y=270)\n",
    "\n",
    "win.mainloop()"
   ]
  },
  {
   "cell_type": "code",
   "execution_count": 47,
   "metadata": {},
   "outputs": [],
   "source": [
    "from PIL import Image,ImageTk\n",
    "\n",
    "win=Tk()\n",
    "win.geometry(\"600x400\")\n",
    "win.configure(bg=\"yellow\")\n",
    "\n",
    "def addclick():\n",
    "    a=float(e2.get())\n",
    "    b=float(e3.get())\n",
    "    l4=Label(win,text=f\"Result={a+b}\",font=('',20,'bold'),bg='yellow',fg='green')\n",
    "    l4.place(x=200,y=350)\n",
    "\n",
    "l1=Label(win,text=\"Mini Calculator\",font=('',40,'bold','underline'),bg='yellow')\n",
    "l1.pack()\n",
    "\n",
    "l2=Label(win,text=\"1st num:\",font=('',20,'bold'),bg='yellow',fg='blue')\n",
    "l2.place(x=100,y=100)\n",
    "\n",
    "l3=Label(win,text=\"2st num:\",font=('',20,'bold'),bg='yellow',fg='blue')\n",
    "l3.place(x=100,y=200)\n",
    "\n",
    "e2=Entry(win,font=('',20,'bold'),bd=5)\n",
    "e2.place(x=250,y=100)\n",
    "\n",
    "e3=Entry(win,font=('',20,'bold'),bd=5)\n",
    "e3.place(x=250,y=170)\n",
    "\n",
    "b1=Button(win,command=addclick,text=\"add\",font=('',20,'bold'),bd=5)\n",
    "b2=Button(win,text=\"mul\",font=('',20,'bold'),bd=5)\n",
    "\n",
    "b1.place(x=250,y=270)\n",
    "b2.place(x=350,y=270)\n",
    "\n",
    "win.mainloop()"
   ]
  },
  {
   "cell_type": "code",
   "execution_count": 49,
   "metadata": {},
   "outputs": [],
   "source": [
    "from PIL import Image,ImageTk\n",
    "\n",
    "win=Tk()\n",
    "win.geometry(\"600x400\")\n",
    "win.configure(bg=\"yellow\")\n",
    "\n",
    "def addclick():\n",
    "    a=float(e2.get())\n",
    "    b=float(e3.get())\n",
    "    l4=Label(win,text=f\"Result={a+b}\",font=('',20,'bold'),bg='yellow',fg='green')\n",
    "    l4.place(x=200,y=350)\n",
    "\n",
    "def mulclick():\n",
    "    a=float(e2.get())\n",
    "    b=float(e3.get())\n",
    "    l4=Label(win,text=f\"Result={a*b}\",font=('',20,'bold'),bg='yellow',fg='green')\n",
    "    l4.place(x=200,y=350)\n",
    "\n",
    "\n",
    "l1=Label(win,text=\"Mini Calculator\",font=('',40,'bold','underline'),bg='yellow')\n",
    "l1.pack()\n",
    "\n",
    "l2=Label(win,text=\"1st num:\",font=('',20,'bold'),bg='yellow',fg='blue')\n",
    "l2.place(x=100,y=100)\n",
    "\n",
    "l3=Label(win,text=\"2st num:\",font=('',20,'bold'),bg='yellow',fg='blue')\n",
    "l3.place(x=100,y=200)\n",
    "\n",
    "e2=Entry(win,font=('',20,'bold'),bd=5)\n",
    "e2.place(x=250,y=100)\n",
    "\n",
    "e3=Entry(win,font=('',20,'bold'),bd=5)\n",
    "e3.place(x=250,y=170)\n",
    "\n",
    "b1=Button(win,command=addclick,text=\"add\",font=('',20,'bold'),bd=5)\n",
    "b2=Button(win,command=mulclick,text=\"mul\",font=('',20,'bold'),bd=5)\n",
    "\n",
    "b1.place(x=250,y=270)\n",
    "b2.place(x=350,y=270)\n",
    "\n",
    "win.mainloop()"
   ]
  },
  {
   "cell_type": "code",
   "execution_count": 51,
   "metadata": {},
   "outputs": [],
   "source": [
    "from tkinter import messagebox\n",
    "\n",
    "win=Tk()\n",
    "win.geometry(\"600x400\")\n",
    "win.configure(bg=\"yellow\")\n",
    "\n",
    "def addclick():\n",
    "    a=float(e2.get())\n",
    "    b=float(e3.get())\n",
    "    messagebox.showinfo(\"Result\",a+b)\n",
    "    e2.delete(0,\"end\")\n",
    "    e3.delete(0,\"end\")\n",
    "    e2.focus()\n",
    "\n",
    "def mulclick():\n",
    "    a=float(e2.get())\n",
    "    b=float(e3.get())\n",
    "    messagebox.showinfo(\"Result\",a*b)\n",
    "    e2.delete(0,\"end\")\n",
    "    e3.delete(0,\"end\")\n",
    "    e2.focus()\n",
    "\n",
    "l1=Label(win,text=\"Mini Calculator\",font=('',40,'bold','underline'),bg='yellow')\n",
    "l1.pack()\n",
    "\n",
    "l2=Label(win,text=\"1st num:\",font=('',20,'bold'),bg='yellow',fg='blue')\n",
    "l2.place(x=100,y=100)\n",
    "\n",
    "l3=Label(win,text=\"2st num:\",font=('',20,'bold'),bg='yellow',fg='blue')\n",
    "l3.place(x=100,y=200)\n",
    "\n",
    "e2=Entry(win,font=('',20,'bold'),bd=5)\n",
    "e2.place(x=250,y=100)\n",
    "\n",
    "e3=Entry(win,font=('',20,'bold'),bd=5)\n",
    "e3.place(x=250,y=170)\n",
    "\n",
    "b1=Button(win,command=addclick,text=\"add\",font=('',20,'bold'),bd=5)\n",
    "b2=Button(win,command=mulclick,text=\"mul\",font=('',20,'bold'),bd=5)\n",
    "\n",
    "b1.place(x=250,y=270)\n",
    "b2.place(x=350,y=270)\n",
    "\n",
    "win.mainloop()"
   ]
  },
  {
   "cell_type": "code",
   "execution_count": 53,
   "metadata": {},
   "outputs": [],
   "source": [
    "from tkinter import messagebox\n",
    "\n",
    "win=Tk()\n",
    "win.geometry(\"600x400\")\n",
    "win.configure(bg=\"yellow\")\n",
    "\n",
    "def click():\n",
    "    a=eval(e2.get())\n",
    "    messagebox.showinfo(\"Result\",a)\n",
    "    e2.delete(0,\"end\")\n",
    "    e2.focus()\n",
    "\n",
    "l1=Label(win,text=\"Mini Calculator\",font=('',40,'bold','underline'),bg='yellow')\n",
    "l1.pack()\n",
    "\n",
    "l2=Label(win,text=\"expression:\",font=('',20,'bold'),bg='yellow',fg='blue')\n",
    "l2.place(x=100,y=100)\n",
    "\n",
    "e2=Entry(win,font=('',20,'bold'),bd=5)\n",
    "e2.place(x=100,y=130)\n",
    "\n",
    "b1=Button(win,command=click,text=\"result\",font=('',20,'bold'),bd=5)\n",
    "b1.place(x=250,y=200)\n",
    "\n",
    "win.mainloop()"
   ]
  },
  {
   "cell_type": "code",
   "execution_count": 54,
   "metadata": {},
   "outputs": [
    {
     "data": {
      "text/plain": [
       "11.0"
      ]
     },
     "execution_count": 54,
     "metadata": {},
     "output_type": "execute_result"
    }
   ],
   "source": [
    "eval(\"4+1*(40/5)-1\")"
   ]
  },
  {
   "cell_type": "code",
   "execution_count": 3,
   "metadata": {},
   "outputs": [
    {
     "name": "stderr",
     "output_type": "stream",
     "text": [
      "Exception in Tkinter callback\n",
      "Traceback (most recent call last):\n",
      "  File \"c:\\Users\\Raju\\AppData\\Local\\Programs\\Python\\Python311\\Lib\\tkinter\\__init__.py\", line 1948, in __call__\n",
      "    return self.func(*args)\n",
      "           ^^^^^^^^^^^^^^^^\n",
      "  File \"C:\\Users\\Raju\\AppData\\Local\\Temp\\ipykernel_19300\\552131327.py\", line 9, in click\n",
      "    a=eval(e2.get())\n",
      "      ^^^^^^^^^^^^^^\n",
      "  File \"<string>\", line 1, in <module>\n",
      "TypeError: unsupported operand type(s) for +: 'int' and 'set'\n",
      "Exception in Tkinter callback\n",
      "Traceback (most recent call last):\n",
      "  File \"c:\\Users\\Raju\\AppData\\Local\\Programs\\Python\\Python311\\Lib\\tkinter\\__init__.py\", line 1948, in __call__\n",
      "    return self.func(*args)\n",
      "           ^^^^^^^^^^^^^^^^\n",
      "  File \"C:\\Users\\Raju\\AppData\\Local\\Temp\\ipykernel_19300\\552131327.py\", line 9, in click\n",
      "    a=eval(e2.get())\n",
      "      ^^^^^^^^^^^^^^\n",
      "  File \"<string>\", line 1, in <module>\n",
      "TypeError: unsupported operand type(s) for +: 'int' and 'set'\n",
      "Exception in Tkinter callback\n",
      "Traceback (most recent call last):\n",
      "  File \"c:\\Users\\Raju\\AppData\\Local\\Programs\\Python\\Python311\\Lib\\tkinter\\__init__.py\", line 1948, in __call__\n",
      "    return self.func(*args)\n",
      "           ^^^^^^^^^^^^^^^^\n",
      "  File \"C:\\Users\\Raju\\AppData\\Local\\Temp\\ipykernel_19300\\552131327.py\", line 9, in click\n",
      "    a=eval(e2.get())\n",
      "      ^^^^^^^^^^^^^^\n",
      "  File \"<string>\", line 1, in <module>\n",
      "TypeError: unsupported operand type(s) for +: 'int' and 'set'\n"
     ]
    }
   ],
   "source": [
    "from tkinter import messagebox\n",
    "\n",
    "win=Tk()\n",
    "win.geometry(\"600x400\")\n",
    "win.title(\"abc\")\n",
    "win.configure(bg=\"yellow\")\n",
    "\n",
    "def click():\n",
    "    a=eval(e2.get())\n",
    "    messagebox.showinfo(\"Result\",a)\n",
    "    e2.delete(0,\"end\")\n",
    "    e2.focus()\n",
    "\n",
    "l1=Label(win,text=\"Mini Calculator\",font=('',40,'bold','underline'),bg='yellow')\n",
    "l1.pack()\n",
    "\n",
    "l2=Label(win,text=\"expression:\",font=('',20,'bold'),bg='yellow',fg='blue')\n",
    "l2.place(x=100,y=100)\n",
    "\n",
    "e2=Entry(win,font=('',20,'bold'),bd=5)\n",
    "e2.place(x=100,y=130)\n",
    "\n",
    "b1=Button(win,command=click,text=\"result\",font=('',20,'bold'),bd=5)\n",
    "b1.place(x=250,y=200)\n",
    "\n",
    "win.mainloop()"
   ]
  },
  {
   "cell_type": "code",
   "execution_count": null,
   "metadata": {},
   "outputs": [],
   "source": []
  }
 ],
 "metadata": {
  "kernelspec": {
   "display_name": "Python 3",
   "language": "python",
   "name": "python3"
  },
  "language_info": {
   "codemirror_mode": {
    "name": "ipython",
    "version": 3
   },
   "file_extension": ".py",
   "mimetype": "text/x-python",
   "name": "python",
   "nbconvert_exporter": "python",
   "pygments_lexer": "ipython3",
   "version": "3.11.3"
  },
  "orig_nbformat": 4
 },
 "nbformat": 4,
 "nbformat_minor": 2
}
