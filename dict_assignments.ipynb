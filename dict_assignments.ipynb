{
 "cells": [
  {
   "cell_type": "code",
   "execution_count": 8,
   "metadata": {},
   "outputs": [
    {
     "name": "stdout",
     "output_type": "stream",
     "text": [
      "{1: 'e', 2: 'f', 3: 'b', 4: 'd', 5: 'a', 9: 'c'}\n"
     ]
    }
   ],
   "source": [
    "# 1. Write a Python script to sort (ascending and descending) a dictionary by key.\n",
    "x={5:'a',9:'c',2:'f',4:'d',3:'b',1:'e'}\n",
    "print(dict(sorted(x.items())))"
   ]
  },
  {
   "cell_type": "code",
   "execution_count": 9,
   "metadata": {},
   "outputs": [
    {
     "name": "stdout",
     "output_type": "stream",
     "text": [
      "{9: 'c', 5: 'a', 4: 'd', 3: 'b', 2: 'f', 1: 'e'}\n"
     ]
    }
   ],
   "source": [
    "x={5:'a',9:'c',2:'f',4:'d',3:'b',1:'e'}\n",
    "print(dict(sorted(x.items(),reverse=True)))"
   ]
  },
  {
   "cell_type": "code",
   "execution_count": 2,
   "metadata": {},
   "outputs": [
    {
     "name": "stdout",
     "output_type": "stream",
     "text": [
      "[1, 2, 3, 4, 5, 9]\n"
     ]
    }
   ],
   "source": [
    "x={5:'a',9:'c',2:'f',4:'d',3:'b',1:'e'}\n",
    "print(sorted(x.keys()))"
   ]
  },
  {
   "cell_type": "code",
   "execution_count": 3,
   "metadata": {},
   "outputs": [
    {
     "name": "stdout",
     "output_type": "stream",
     "text": [
      "['a', 'b', 'c', 'd', 'e', 'f']\n"
     ]
    }
   ],
   "source": [
    "x={5:'a',9:'c',2:'f',4:'d',3:'b',1:'e'}\n",
    "print(sorted(x.values()))"
   ]
  },
  {
   "cell_type": "code",
   "execution_count": 1,
   "metadata": {},
   "outputs": [
    {
     "name": "stdout",
     "output_type": "stream",
     "text": [
      "1\n",
      "5\n",
      "10\n",
      "20\n",
      "[1, 5, 10, 20]\n"
     ]
    }
   ],
   "source": [
    "# 1. Write a Python script to sort (ascending and descending) a dictionary by key.\n",
    "d={10:'raju',5:'monu',20:'chintu',1:'pintu'}\n",
    "keys=sorted(d.keys())\n",
    "for k in keys:\n",
    "    print(k)\n",
    "print(keys)"
   ]
  },
  {
   "cell_type": "code",
   "execution_count": 3,
   "metadata": {},
   "outputs": [
    {
     "name": "stdout",
     "output_type": "stream",
     "text": [
      "pintu\n",
      "monu\n",
      "raju\n",
      "chintu\n"
     ]
    }
   ],
   "source": [
    "# 1. Write a Python script to sort (ascending and descending) a dictionary by key.\n",
    "d={10:'raju',5:'monu',20:'chintu',1:'pintu'}\n",
    "keys=sorted(d.keys())\n",
    "for k in keys:\n",
    "    print(d[k])"
   ]
  },
  {
   "cell_type": "code",
   "execution_count": 7,
   "metadata": {},
   "outputs": [
    {
     "name": "stdout",
     "output_type": "stream",
     "text": [
      "{1: 'pintu', 5: 'monu', 10: 'raju', 20: 'chintu'}\n"
     ]
    }
   ],
   "source": [
    "# 1. Write a Python script to sort (ascending and descending) a dictionary by key.\n",
    "d={10:'raju',5:'monu',20:'chintu',1:'pintu'}\n",
    "d1={}\n",
    "keys=sorted(d.keys())\n",
    "for k in keys:\n",
    "    d1[k]=d[k]\n",
    "print(d1)"
   ]
  },
  {
   "cell_type": "code",
   "execution_count": 8,
   "metadata": {},
   "outputs": [
    {
     "name": "stdout",
     "output_type": "stream",
     "text": [
      "{20: 'chintu', 10: 'raju', 5: 'monu', 1: 'pintu'}\n"
     ]
    }
   ],
   "source": [
    "# 1. Write a Python script to sort (ascending and descending) a dictionary by key.\n",
    "d={10:'raju',5:'monu',20:'chintu',1:'pintu'}\n",
    "d1={}\n",
    "keys=sorted(d.keys(),reverse=True)\n",
    "for k in keys:\n",
    "    d1[k]=d[k]\n",
    "print(d1)"
   ]
  },
  {
   "cell_type": "code",
   "execution_count": 6,
   "metadata": {},
   "outputs": [
    {
     "name": "stdout",
     "output_type": "stream",
     "text": [
      "{0: 10, 1: 20, 2: 30}\n"
     ]
    }
   ],
   "source": [
    "# 2. Write a Python script to add an item to a dictionary\n",
    "# Sample Dictionary : {0: 10, 1: 20}\n",
    "# Expected Result : {0: 10, 1: 20, 2:30}\n",
    "x={0:10,1:20}\n",
    "x1={2:30}\n",
    "x.update(x1)\n",
    "print(x)"
   ]
  },
  {
   "cell_type": "code",
   "execution_count": 9,
   "metadata": {},
   "outputs": [
    {
     "name": "stdout",
     "output_type": "stream",
     "text": [
      "{0: 10, 1: 20}\n",
      "{0: 10, 1: 20, 2: 30}\n"
     ]
    }
   ],
   "source": [
    "# 2. Write a Python script to add an item to a dictionary\n",
    "# Sample Dictionary : {0: 10, 1: 20}\n",
    "# Expected Result : {0: 10, 1: 20, 2:30}\n",
    "d={0: 10, 1: 20}\n",
    "print(d)\n",
    "d[2]=30\n",
    "print(d)"
   ]
  },
  {
   "cell_type": "code",
   "execution_count": 7,
   "metadata": {},
   "outputs": [
    {
     "name": "stdout",
     "output_type": "stream",
     "text": [
      "{1: 10, 2: 20, 3: 30, 4: 40, 5: 50, 6: 60}\n"
     ]
    }
   ],
   "source": [
    "# 3. Write a Python script to concatenate following dictionaries to create a new one.\n",
    "# dic1={1:10, 2:20}\n",
    "# dic2={3:30, 4:40}\n",
    "# dic3={5:50,6:60}\n",
    "# Expected Result : {1: 10, 2: 20, 3: 30, 4: 40, 5: 50, 6: 60}\n",
    "d1={1:10,2:20}\n",
    "d2={3:30,4:40}\n",
    "d3={5:50,6:60}\n",
    "d2.update(d3)\n",
    "d1.update(d2)\n",
    "print(d1)"
   ]
  },
  {
   "cell_type": "code",
   "execution_count": 14,
   "metadata": {},
   "outputs": [
    {
     "name": "stdout",
     "output_type": "stream",
     "text": [
      "True\n"
     ]
    }
   ],
   "source": [
    "# 4. Write a Python script to check if a given key already exists in a dictionary.\n",
    "x={1:10,2:20,3:30,4:40}\n",
    "print(2 in x)"
   ]
  },
  {
   "cell_type": "code",
   "execution_count": 10,
   "metadata": {},
   "outputs": [
    {
     "name": "stdout",
     "output_type": "stream",
     "text": [
      "already exists\n"
     ]
    }
   ],
   "source": [
    "# 4. Write a Python script to check if a given key already exists in a dictionary.\n",
    "x={1:10,2:20,3:30,4:40}\n",
    "if(1 in x):\n",
    "    print('already exists')"
   ]
  },
  {
   "cell_type": "code",
   "execution_count": 11,
   "metadata": {},
   "outputs": [
    {
     "name": "stdout",
     "output_type": "stream",
     "text": [
      "(1, 10)\n",
      "(2, 20)\n",
      "(3, 30)\n",
      "(4, 40)\n"
     ]
    }
   ],
   "source": [
    "# 5. Write a Python program to iterate over dictionaries using for loops.\n",
    "x={1:10,2:20,3:30,4:40}\n",
    "for i in x.items():\n",
    "    print(i)"
   ]
  },
  {
   "cell_type": "code",
   "execution_count": 11,
   "metadata": {},
   "outputs": [
    {
     "name": "stdout",
     "output_type": "stream",
     "text": [
      "1 10\n",
      "2 20\n",
      "3 30\n",
      "4 40\n"
     ]
    }
   ],
   "source": [
    "# 5. Write a Python program to iterate over dictionaries using for loops.\n",
    "x={1:10,2:20,3:30,4:40}\n",
    "for i,j in x.items():\n",
    "    print(i,j)"
   ]
  },
  {
   "cell_type": "code",
   "execution_count": 13,
   "metadata": {},
   "outputs": [
    {
     "name": "stdout",
     "output_type": "stream",
     "text": [
      "1 10\n",
      "3 30\n",
      "2 20\n",
      "4 40\n"
     ]
    }
   ],
   "source": [
    "# 5. Write a Python program to iterate over dictionaries using for loops.\n",
    "x={1:10,2:20}\n",
    "y={3:30,4:40}\n",
    "for i,j in zip(x,y):\n",
    "    print(i,x[i])\n",
    "    print(j,y[j])"
   ]
  },
  {
   "cell_type": "code",
   "execution_count": 5,
   "metadata": {},
   "outputs": [
    {
     "name": "stdout",
     "output_type": "stream",
     "text": [
      "{1: 1, 2: 4, 3: 9, 4: 16, 5: 25}\n"
     ]
    }
   ],
   "source": [
    "# 6. Write a Python script to generate and print a dictionary that contains a\n",
    "# number (between 1 and n) in the form (x, x*x).\n",
    "# Sample Dictionary ( n = 5) :\n",
    "# Expected Output : {1: 1, 2: 4, 3: 9, 4: 16, 5: 25}\n",
    "x={}\n",
    "for i in range(1,6):\n",
    "    x.update({i:i*i})\n",
    "print(x)"
   ]
  },
  {
   "cell_type": "code",
   "execution_count": 1,
   "metadata": {},
   "outputs": [
    {
     "name": "stdout",
     "output_type": "stream",
     "text": [
      "{1: 1, 2: 4, 3: 9, 4: 16, 5: 25}\n"
     ]
    }
   ],
   "source": [
    "# 6. Write a Python script to generate and print a dictionary that contains a\n",
    "# number (between 1 and n) in the form (x, x*x).\n",
    "# Sample Dictionary ( n = 5) :\n",
    "# Expected Output : {1: 1, 2: 4, 3: 9, 4: 16, 5: 25}\n",
    "n=int(input(\"enter size of dic:\"))\n",
    "d={x:x*x for x in range(1,n+1)}\n",
    "print(d)"
   ]
  },
  {
   "cell_type": "code",
   "execution_count": 6,
   "metadata": {},
   "outputs": [
    {
     "name": "stdout",
     "output_type": "stream",
     "text": [
      "{1: 'a', 3: 'e', 4: 't', 5: 'y'}\n"
     ]
    }
   ],
   "source": [
    "# 7. Write a Python program to remove a key from a dictionary.\n",
    "x={1:'a',2:'d',3:'e',4:'t',5:'y'} # keys and values will be never deleted. everytime delate a item of dictionary.\n",
    "del x[2]\n",
    "print(x)"
   ]
  },
  {
   "cell_type": "code",
   "execution_count": 10,
   "metadata": {},
   "outputs": [
    {
     "name": "stdout",
     "output_type": "stream",
     "text": [
      "{1: 'a', 2: 's', 3: 'd', 4: 'f', 5: 'g'}\n"
     ]
    }
   ],
   "source": [
    "# 8. Write a Python program to map two lists into a dictionary.\n",
    "r=[1,2,3,4,5]\n",
    "n=['a','s','d','f','g']\n",
    "d={}\n",
    "for i,j in zip(r,n):\n",
    "    d[i]=j\n",
    "print(d)"
   ]
  },
  {
   "cell_type": "code",
   "execution_count": 2,
   "metadata": {},
   "outputs": [
    {
     "name": "stdout",
     "output_type": "stream",
     "text": [
      "{1: 'a', 2: 'b', 3: 'a', 4: 'c', 5: 'b'}\n",
      "{1: 'a', 2: 'b', 4: 'c'}\n"
     ]
    }
   ],
   "source": [
    "# 9.write a python program to remove duplicates(based on values) from dictionary.\n",
    "d={1:'a',2:'b',3:'a',4:'c',5:'b'}\n",
    "print(d)\n",
    "d1={}\n",
    "for k,v in d.items():\n",
    "    if v not in d1.values():\n",
    "        d1[k]=v\n",
    "print(d1)"
   ]
  },
  {
   "cell_type": "code",
   "execution_count": 5,
   "metadata": {},
   "outputs": [
    {
     "name": "stdout",
     "output_type": "stream",
     "text": [
      "empty\n"
     ]
    }
   ],
   "source": [
    "# 10. Write a Python program to check a dictionary is empty or not.\n",
    "x={}\n",
    "if(len(x)==0):\n",
    "    print('empty')\n",
    "else:\n",
    "    print('not empty')"
   ]
  },
  {
   "cell_type": "code",
   "execution_count": 3,
   "metadata": {},
   "outputs": [
    {
     "name": "stdout",
     "output_type": "stream",
     "text": [
      "not empty\n"
     ]
    }
   ],
   "source": [
    "# 10. Write a Python program to check a dictionary is empty or not.\n",
    "d={1:'a',2:'b',3:'a',4:'c',5:'b'}\n",
    "if (len(d)==0):\n",
    "    print('empty dict')\n",
    "else:\n",
    "    print('not empty')"
   ]
  },
  {
   "cell_type": "code",
   "execution_count": 5,
   "metadata": {},
   "outputs": [
    {
     "name": "stdout",
     "output_type": "stream",
     "text": [
      "{1: 'a', 2: 'b', 3: 'a', 4: 'c', 5: 'b'}\n",
      "[1, 3]\n"
     ]
    }
   ],
   "source": [
    "# how to get key from dictionary through value.\n",
    "d={1:'a',2:'b',3:'a',4:'c',5:'b'}\n",
    "print(d)\n",
    "keys=[]\n",
    "for k,v in d.items():\n",
    "    if(v=='a'):\n",
    "        keys.append(k)\n",
    "print(keys)"
   ]
  },
  {
   "cell_type": "code",
   "execution_count": 7,
   "metadata": {},
   "outputs": [
    {
     "name": "stdout",
     "output_type": "stream",
     "text": [
      "{1: 'a', 2: 'b', 3: 'a', 4: 'c', 5: 'b'}\n",
      "[1, 3]\n"
     ]
    }
   ],
   "source": [
    "# how to get key from dictionary.\n",
    "d={1:'a',2:'b',3:'a',4:'c',5:'b'}\n",
    "print(d)\n",
    "x=input(\"enter value:\")\n",
    "keys=[]\n",
    "for k,v in d.items():\n",
    "    if(v==x):\n",
    "        keys.append(k)\n",
    "print(keys)"
   ]
  },
  {
   "cell_type": "code",
   "execution_count": 9,
   "metadata": {},
   "outputs": [
    {
     "name": "stdout",
     "output_type": "stream",
     "text": [
      "5 b\n"
     ]
    }
   ],
   "source": [
    "# How to get last item from dict.\n",
    "d={1:'a',2:'b',3:'a',4:'c',5:'b'}\n",
    "k=list(d.keys())[-1]\n",
    "print(k,d[k])"
   ]
  },
  {
   "cell_type": "code",
   "execution_count": 11,
   "metadata": {},
   "outputs": [
    {
     "name": "stdout",
     "output_type": "stream",
     "text": [
      "{'a': 300, 'b': 400, 'c': 300, 'd': 400}\n"
     ]
    }
   ],
   "source": [
    "# 11. Write a Python program to combine two dictionary adding values for common keys.\n",
    "x={'a':100,'b':200,'c':300}\n",
    "y={'d':400,'b':200,'a':200}\n",
    "z={}\n",
    "for k in x.keys():\n",
    "    if k in y.keys():\n",
    "        z[k]=x[k]+y[k]\n",
    "    else:\n",
    "        z[k]=x[k]\n",
    "for k in y.keys():\n",
    "    if k not in z.keys():\n",
    "        z[k]=y[k]\n",
    "print(z)"
   ]
  },
  {
   "cell_type": "code",
   "execution_count": 12,
   "metadata": {},
   "outputs": [
    {
     "name": "stdout",
     "output_type": "stream",
     "text": [
      "keys\tvalues\n",
      "a\t100\n",
      "b\t200\n",
      "c\t300\n"
     ]
    }
   ],
   "source": [
    "# 12. write a python program to print a dictionary in tabler form.\n",
    "d={'a':100,'b':200,'c':300}\n",
    "print('keys','values',sep='\\t')\n",
    "for k,v in d.items():\n",
    "    print(k,v,sep='\\t')"
   ]
  },
  {
   "cell_type": "code",
   "execution_count": 3,
   "metadata": {},
   "outputs": [
    {
     "name": "stdout",
     "output_type": "stream",
     "text": [
      "[55, 45.5, 41.3, 35, 24]\n",
      "{'item1': 45.5, 'item3': 41.3, 'item4': 55}\n"
     ]
    }
   ],
   "source": [
    "# 13. Write a Python program to get the top three items in a shop.\n",
    "# Sample data: {item1: 45.50, item2:35,item3: 41.30,item4:55, item5: 24}\n",
    "# Expected Output:\n",
    "# item4 55\n",
    "# item1 45.5\n",
    "# item3 41.3\n",
    "d={'item1': 45.50, 'item2':35,'item3': 41.30,'item4':55, 'item5': 24}\n",
    "v=sorted(d.values(),reverse=True)\n",
    "print(v)\n",
    "top3=v[:3]\n",
    "d1={}\n",
    "for i in top3:\n",
    "    for x,y in d.items():\n",
    "        if (y in top3):\n",
    "            d1[x]=y\n",
    "print(d1)"
   ]
  },
  {
   "cell_type": "code",
   "execution_count": 4,
   "metadata": {},
   "outputs": [
    {
     "name": "stdout",
     "output_type": "stream",
     "text": [
      "[55, 45.5, 41.3, 35, 24]\n",
      "{'item4': 55, 'item1': 45.5, 'item3': 41.3}\n"
     ]
    }
   ],
   "source": [
    "# 13. Write a Python program to get the top three items in a shop.\n",
    "# Sample data: {item1: 45.50, item2:35,item3: 41.30,item4:55, item5: 24}\n",
    "# Expected Output:\n",
    "# item4 55\n",
    "# item1 45.5\n",
    "# item3 41.3\n",
    "d={'item1': 45.50, 'item2':35,'item3': 41.30,'item4':55, 'item5': 24}\n",
    "v=sorted(d.values(),reverse=True)\n",
    "print(v)\n",
    "top3=v[:3]\n",
    "d1={}\n",
    "for i in top3:\n",
    "    for x,y in d.items():\n",
    "        if (i==y):\n",
    "            d1[x]=y\n",
    "print(d1)"
   ]
  },
  {
   "cell_type": "code",
   "execution_count": 5,
   "metadata": {},
   "outputs": [
    {
     "name": "stdout",
     "output_type": "stream",
     "text": [
      "{'key2': 1, 'key4': 2}\n"
     ]
    }
   ],
   "source": [
    "# 14. Write a Python program to match key values in two dictionaries.\n",
    "# Sample dictionary: d1={key1: 1, key2: 3, key3: 2}, d2={key1: 1, key2: 2}\n",
    "# Expected output: key1: 1 is present in both x and y.\n",
    "d1={'key1': 1, 'key3': 2, 'key2': 1, 'key4': 2}\n",
    "d2={'key1': 2, 'key2': 1, 'key3': 1, 'key4': 2}\n",
    "d3={}\n",
    "for k in d1.keys():\n",
    "    if(k in d2.keys()):\n",
    "        if(d1[k]==d2[k]):\n",
    "            d3[k]=d1[k]\n",
    "print(d3)"
   ]
  },
  {
   "cell_type": "code",
   "execution_count": 6,
   "metadata": {},
   "outputs": [
    {
     "name": "stdout",
     "output_type": "stream",
     "text": [
      "{'key2': 1, 'key4': 2}\n"
     ]
    }
   ],
   "source": [
    "# 14. Write a Python program to match key values in two dictionaries.\n",
    "# Sample dictionary: d1={key1: 1, key3: 2, key2: 1, key4:2}, d2={key1: 2, key2: 1, key3: 1, key4:2}\n",
    "# Expected output: key2: 1, key4: 2 is present in both x and y.\n",
    "d1={'key1': 1, 'key3': 2, 'key2': 1, 'key4': 2}\n",
    "d2={'key1': 2, 'key2': 1, 'key3': 1, 'key4': 2}\n",
    "d3={}\n",
    "for k in d1.keys():\n",
    "    if(k in d2.keys() and d1[k]==d2[k]):\n",
    "        d3[k]=d1[k]\n",
    "print(d3)"
   ]
  },
  {
   "cell_type": "code",
   "execution_count": 9,
   "metadata": {},
   "outputs": [
    {
     "name": "stdout",
     "output_type": "stream",
     "text": [
      "n a b c  \n",
      "a 2 2 2  \n",
      "g 1 1 3  \n",
      "c d p j  \n",
      "o a y a  \n",
      "u t t v  \n",
      "r a h a  \n"
     ]
    }
   ],
   "source": [
    "h={'name':['a','b','c'],'age':['21','21','23'],'course':['data science','python','java']}\n",
    "for i,j in h.items():\n",
    "    for k in zip(*([i] + (j))):\n",
    "        print(*k,\" \")"
   ]
  },
  {
   "cell_type": "code",
   "execution_count": 6,
   "metadata": {},
   "outputs": [
    {
     "name": "stdout",
     "output_type": "stream",
     "text": [
      "name\tage\tcourse\n",
      "a\t21\tdata science\n",
      "b\t21\tpython\n",
      "c\t23\tjava\n"
     ]
    }
   ],
   "source": [
    "h={'name':['a','b','c'],'age':['21','21','23'],'course':['data science','python','java']}\n",
    "for each_row in zip(*([i] + (j)for i, j in h.items())):\n",
    "    print(*each_row,sep=\"\\t\")"
   ]
  },
  {
   "cell_type": "code",
   "execution_count": 7,
   "metadata": {},
   "outputs": [
    {
     "name": "stdout",
     "output_type": "stream",
     "text": [
      "name\t['a', 'b', 'c']\n",
      "age\t['21', '21', '23']\n",
      "course\t['data science', 'python', 'java']\n"
     ]
    }
   ],
   "source": [
    "h={'name':['a','b','c'],'age':['21','21','23'],'course':['data science','python','java']}\n",
    "# excepted output is:-\n",
    "# NAME  AGE  COURSE  \n",
    "#  a     21   Data Structures  \n",
    "#  b     20   Machine Learning  \n",
    "#  c     21    Java\n",
    "for k,v in h.items():\n",
    "    print(k,v,sep='\\t')"
   ]
  },
  {
   "cell_type": "code",
   "execution_count": null,
   "metadata": {},
   "outputs": [],
   "source": []
  }
 ],
 "metadata": {
  "kernelspec": {
   "display_name": "Python 3",
   "language": "python",
   "name": "python3"
  },
  "language_info": {
   "codemirror_mode": {
    "name": "ipython",
    "version": 3
   },
   "file_extension": ".py",
   "mimetype": "text/x-python",
   "name": "python",
   "nbconvert_exporter": "python",
   "pygments_lexer": "ipython3",
   "version": "3.11.3"
  },
  "orig_nbformat": 4
 },
 "nbformat": 4,
 "nbformat_minor": 2
}
