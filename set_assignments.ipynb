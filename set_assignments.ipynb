{
 "cells": [
  {
   "cell_type": "code",
   "execution_count": 3,
   "metadata": {},
   "outputs": [
    {
     "name": "stdout",
     "output_type": "stream",
     "text": [
      "{'3', '4', '1', '2'}\n"
     ]
    }
   ],
   "source": [
    "# 1. Write a Python program to create a set.\n",
    "x=set(\"1234\")\n",
    "print(x)"
   ]
  },
  {
   "cell_type": "code",
   "execution_count": 4,
   "metadata": {},
   "outputs": [
    {
     "name": "stdout",
     "output_type": "stream",
     "text": [
      "3\n",
      "4\n",
      "1\n",
      "2\n"
     ]
    }
   ],
   "source": [
    "# 2. Write a Python program to iteration over sets.\n",
    "x=set(\"1234\")\n",
    "for i in x:\n",
    "    print(i)"
   ]
  },
  {
   "cell_type": "code",
   "execution_count": 6,
   "metadata": {},
   "outputs": [
    {
     "name": "stdout",
     "output_type": "stream",
     "text": [
      "{1, 2, 3, 4, 5, 6, 7}\n"
     ]
    }
   ],
   "source": [
    "# 3. Write a Python program to add member(s) in a set.\n",
    "x={1,2,3,4,5,6}\n",
    "x1=x.add(7)\n",
    "print(x)"
   ]
  },
  {
   "cell_type": "code",
   "execution_count": 7,
   "metadata": {},
   "outputs": [
    {
     "name": "stdout",
     "output_type": "stream",
     "text": [
      "{1, 2, 3, 4, 6}\n"
     ]
    }
   ],
   "source": [
    "# 4. Write a Python program to remove item(s) from set.\n",
    "x={1,2,3,4,5,6}\n",
    "x1=x.remove(5)\n",
    "print(x)"
   ]
  },
  {
   "cell_type": "code",
   "execution_count": 9,
   "metadata": {},
   "outputs": [
    {
     "name": "stdout",
     "output_type": "stream",
     "text": [
      "{1, 2, 3, 4, 6} "
     ]
    }
   ],
   "source": [
    "# 5. Write a Python program to remove an item from a set if it is present in the set.\n",
    "x={1,2,3,4,5,6}\n",
    "if (5 in x):\n",
    "    x.remove(5)\n",
    "print(x,end=\" \")"
   ]
  },
  {
   "cell_type": "code",
   "execution_count": 10,
   "metadata": {},
   "outputs": [
    {
     "name": "stdout",
     "output_type": "stream",
     "text": [
      "{30}\n"
     ]
    }
   ],
   "source": [
    "# 6. Write a Python program to create an intersection of sets.\n",
    "x={10,20,30}\n",
    "x1={30,40,50}\n",
    "print(x&x1)"
   ]
  },
  {
   "cell_type": "code",
   "execution_count": 11,
   "metadata": {},
   "outputs": [
    {
     "name": "stdout",
     "output_type": "stream",
     "text": [
      "{50, 20, 40, 10, 30}\n"
     ]
    }
   ],
   "source": [
    "# 7. Write a Python program to create a union of sets.\n",
    "x={10,20,30}\n",
    "x1={30,40,50}\n",
    "print(x|x1)"
   ]
  },
  {
   "cell_type": "code",
   "execution_count": 12,
   "metadata": {},
   "outputs": [
    {
     "name": "stdout",
     "output_type": "stream",
     "text": [
      "{10, 20}\n"
     ]
    }
   ],
   "source": [
    "# 8. Write a Python program to create set difference.\n",
    "x={10,20,30}\n",
    "x1={30,40,50}\n",
    "print(x-x1)"
   ]
  },
  {
   "cell_type": "code",
   "execution_count": 13,
   "metadata": {},
   "outputs": [
    {
     "name": "stdout",
     "output_type": "stream",
     "text": [
      "{40, 50}\n"
     ]
    }
   ],
   "source": [
    "# 8. Write a Python program to create set difference.\n",
    "x={10,20,30}\n",
    "x1={30,40,50}\n",
    "print(x1-x)"
   ]
  },
  {
   "cell_type": "code",
   "execution_count": 14,
   "metadata": {},
   "outputs": [
    {
     "name": "stdout",
     "output_type": "stream",
     "text": [
      "{40, 10, 50, 20}\n"
     ]
    }
   ],
   "source": [
    "# 9. Write a Python program to create a symmetric difference.\n",
    "x={10,20,30}\n",
    "x1={30,40,50}\n",
    "print(x.symmetric_difference(x1))"
   ]
  },
  {
   "cell_type": "code",
   "execution_count": 16,
   "metadata": {},
   "outputs": [
    {
     "name": "stdout",
     "output_type": "stream",
     "text": [
      "{10, 20, 30} 2197048498368\n",
      "{10, 20, 30} 2197048497024\n"
     ]
    }
   ],
   "source": [
    "# 10. Write a Python program to create a shallow copy of sets.\n",
    "x={10,20,30}\n",
    "print(x,id(x))\n",
    "y=x.copy()\n",
    "print(y,id(y))"
   ]
  },
  {
   "cell_type": "code",
   "execution_count": 17,
   "metadata": {},
   "outputs": [
    {
     "name": "stdout",
     "output_type": "stream",
     "text": [
      "set()\n"
     ]
    }
   ],
   "source": [
    "# 11. Write a Python program to clear a set.\n",
    "x={10,20,30}\n",
    "x1=x.clear()\n",
    "print(x)"
   ]
  },
  {
   "cell_type": "code",
   "execution_count": 18,
   "metadata": {},
   "outputs": [
    {
     "name": "stdout",
     "output_type": "stream",
     "text": [
      "frozenset({1, 2, 3, 4, 5, 6})\n"
     ]
    }
   ],
   "source": [
    "# 12. Write a Python program to use of frozenset.\n",
    "s={1,2,3,4,5,6}\n",
    "f=frozenset(s)\n",
    "print(f)"
   ]
  },
  {
   "cell_type": "code",
   "execution_count": 20,
   "metadata": {},
   "outputs": [
    {
     "name": "stdout",
     "output_type": "stream",
     "text": [
      "6\n",
      "1\n"
     ]
    }
   ],
   "source": [
    "# 13. Write a Python program to find maximum and the minimum value in a set.\n",
    "s={1,2,3,4,5,6}\n",
    "s1=max(s)\n",
    "s2=min(s)\n",
    "print(s1)\n",
    "print(s2)"
   ]
  },
  {
   "cell_type": "code",
   "execution_count": 6,
   "metadata": {},
   "outputs": [
    {
     "name": "stdout",
     "output_type": "stream",
     "text": [
      "9\n",
      "1\n"
     ]
    }
   ],
   "source": [
    "# 13. write a python program to find maximum and minimum value in a set.\n",
    "s={1,2,3,4,5,6,7,9}\n",
    "m=2\n",
    "for i in s:\n",
    "    if (i>m):\n",
    "        m=i\n",
    "print(m)\n",
    "for i in s:\n",
    "    if(i<m):\n",
    "        m=i\n",
    "print(m)"
   ]
  },
  {
   "cell_type": "code",
   "execution_count": 21,
   "metadata": {},
   "outputs": [
    {
     "name": "stdout",
     "output_type": "stream",
     "text": [
      "8\n"
     ]
    }
   ],
   "source": [
    "# 14. Write a Python program to find the length of a set.\n",
    "x={1,2,3,4,5,6,7,8}\n",
    "c=0\n",
    "for i in x:\n",
    "    c+=1\n",
    "print(c)"
   ]
  },
  {
   "cell_type": "code",
   "execution_count": null,
   "metadata": {},
   "outputs": [],
   "source": []
  }
 ],
 "metadata": {
  "kernelspec": {
   "display_name": "Python 3",
   "language": "python",
   "name": "python3"
  },
  "language_info": {
   "codemirror_mode": {
    "name": "ipython",
    "version": 3
   },
   "file_extension": ".py",
   "mimetype": "text/x-python",
   "name": "python",
   "nbconvert_exporter": "python",
   "pygments_lexer": "ipython3",
   "version": "3.11.3"
  },
  "orig_nbformat": 4
 },
 "nbformat": 4,
 "nbformat_minor": 2
}
