{
 "cells": [
  {
   "cell_type": "markdown",
   "metadata": {},
   "source": [
    "#### Multithreading\n",
    " - it is a technique to achieve multitasking in python.\n",
    " - it improves efficiency of application by reducing waiting time of independent jobs.\n",
    " - **each thread represents an independent excution in program.**\n",
    " - in coding **A thread is an object of Thread class**"
   ]
  },
  {
   "cell_type": "code",
   "execution_count": 1,
   "metadata": {},
   "outputs": [
    {
     "name": "stdout",
     "output_type": "stream",
     "text": [
      "even\n"
     ]
    }
   ],
   "source": [
    "def checkeven():\n",
    "    num=int(input(\"enter num:\"))\n",
    "    if(num%2==0):\n",
    "        print(\"even\")\n",
    "    else:\n",
    "        print(\"odd\")\n",
    "\n",
    "def filerename():\n",
    "    import os\n",
    "    os.rename(\"d:/aa.txt\",\"d:/AA.txt\")\n",
    "\n",
    "checkeven()\n",
    "filerename()"
   ]
  },
  {
   "cell_type": "code",
   "execution_count": 1,
   "metadata": {},
   "outputs": [
    {
     "ename": "ValueError",
     "evalue": "invalid literal for int() with base 10: 'sonu'",
     "output_type": "error",
     "traceback": [
      "\u001b[1;31m---------------------------------------------------------------------------\u001b[0m",
      "\u001b[1;31mValueError\u001b[0m                                Traceback (most recent call last)",
      "Cell \u001b[1;32mIn[1], line 12\u001b[0m\n\u001b[0;32m      9\u001b[0m     \u001b[39mimport\u001b[39;00m \u001b[39mos\u001b[39;00m\n\u001b[0;32m     10\u001b[0m     os\u001b[39m.\u001b[39mrename(\u001b[39m\"\u001b[39m\u001b[39md:/aa.txt\u001b[39m\u001b[39m\"\u001b[39m,\u001b[39m\"\u001b[39m\u001b[39md:/AA.txt\u001b[39m\u001b[39m\"\u001b[39m)\n\u001b[1;32m---> 12\u001b[0m checkeven()\n\u001b[0;32m     13\u001b[0m filerename()\n",
      "Cell \u001b[1;32mIn[1], line 2\u001b[0m, in \u001b[0;36mcheckeven\u001b[1;34m()\u001b[0m\n\u001b[0;32m      1\u001b[0m \u001b[39mdef\u001b[39;00m \u001b[39mcheckeven\u001b[39m():\n\u001b[1;32m----> 2\u001b[0m     num\u001b[39m=\u001b[39m\u001b[39mint\u001b[39;49m(\u001b[39minput\u001b[39;49m(\u001b[39m\"\u001b[39;49m\u001b[39menter num:\u001b[39;49m\u001b[39m\"\u001b[39;49m))\n\u001b[0;32m      3\u001b[0m     \u001b[39mif\u001b[39;00m(num\u001b[39m%\u001b[39m\u001b[39m2\u001b[39m\u001b[39m==\u001b[39m\u001b[39m0\u001b[39m):\n\u001b[0;32m      4\u001b[0m         \u001b[39mprint\u001b[39m(\u001b[39m\"\u001b[39m\u001b[39meven\u001b[39m\u001b[39m\"\u001b[39m)\n",
      "\u001b[1;31mValueError\u001b[0m: invalid literal for int() with base 10: 'sonu'"
     ]
    }
   ],
   "source": [
    "def checkeven():\n",
    "    num=int(input(\"enter num:\"))\n",
    "    if(num%2==0):\n",
    "        print(\"even\")\n",
    "    else:\n",
    "        print(\"odd\")\n",
    "\n",
    "def filerename():\n",
    "    import os\n",
    "    os.rename(\"d:/aa.txt\",\"d:/AA.txt\")\n",
    "\n",
    "checkeven()\n",
    "filerename()"
   ]
  },
  {
   "cell_type": "code",
   "execution_count": 2,
   "metadata": {},
   "outputs": [
    {
     "name": "stdout",
     "output_type": "stream",
     "text": [
      "even\n"
     ]
    }
   ],
   "source": [
    "from threading import Thread\n",
    "def checkeven():\n",
    "    num=int(input(\"enter num:\"))\n",
    "    if(num%2==0):\n",
    "        print(\"even\")\n",
    "    else:\n",
    "        print(\"odd\")\n",
    "\n",
    "def filerename():\n",
    "    import os\n",
    "    os.rename(\"d:/AA.txt\",\"d:/aa.txt\")\n",
    "\n",
    "t1=Thread(target=checkeven,name=\"thread-1\")\n",
    "t2=Thread(target=filerename,name=\"thread-2\")\n",
    "\n",
    "t1.start()\n",
    "t2.start()"
   ]
  },
  {
   "cell_type": "markdown",
   "metadata": {},
   "source": [
    "### Real life application based on Threading.\n",
    " - uploding and downloding of files.\n",
    " - searching wifi\n",
    " - each tab in browser \n",
    " - animation \n",
    " - each user of application\n",
    " - etc."
   ]
  },
  {
   "cell_type": "code",
   "execution_count": 3,
   "metadata": {},
   "outputs": [
    {
     "name": "stdout",
     "output_type": "stream",
     "text": [
      "hello\n",
      "MainThread\n",
      "bye\n"
     ]
    }
   ],
   "source": [
    "from threading import current_thread\n",
    "print(\"hello\")\n",
    "t=current_thread()\n",
    "print(t.name)\n",
    "print(\"bye\")"
   ]
  },
  {
   "cell_type": "code",
   "execution_count": 6,
   "metadata": {},
   "outputs": [
    {
     "name": "stdout",
     "output_type": "stream",
     "text": [
      "odd\n"
     ]
    }
   ],
   "source": [
    "def checkeven():\n",
    "    num=int(input(\"enter num:\"))\n",
    "    if(num%2==0):\n",
    "        print(\"even\")\n",
    "    else:\n",
    "        print(\"odd\")\n",
    "\n",
    "def filerename():\n",
    "    import os\n",
    "    os.rename(\"d:/aa.txt\",\"d:/AA.txt\")\n",
    "\n",
    "t1=Thread(target=checkeven,name=\"thread-1\")\n",
    "t2=Thread(target=filerename,name=\"thread-2\")\n",
    "\n",
    "t1.start()\n",
    "t2.start()"
   ]
  },
  {
   "cell_type": "code",
   "execution_count": 7,
   "metadata": {},
   "outputs": [
    {
     "name": "stdout",
     "output_type": "stream",
     "text": [
      "even\n"
     ]
    }
   ],
   "source": [
    "def checkeven():\n",
    "    num=int(input(\"enter num:\"))\n",
    "    if(num%2==0):\n",
    "        print(\"even\")\n",
    "    else:\n",
    "        print(\"odd\")\n",
    "\n",
    "def filerename():\n",
    "    import os\n",
    "    os.rename(\"d:/aa.txt\",\"d:/AA.txt\")\n",
    "\n",
    "t1=Thread(target=checkeven,name=\"thread-1\")\n",
    "t2=Thread(target=filerename,name=\"thread-2\")\n",
    "\n",
    "t1.start()\n",
    "# t1.start()  -->one thread start once  # error\n",
    "t2.start()"
   ]
  },
  {
   "cell_type": "markdown",
   "metadata": {},
   "source": [
    "### Thread States/Life cycle\n",
    " - New\n",
    " - Runnable\n",
    " - Running\n",
    " - Blocked\n",
    " - End"
   ]
  },
  {
   "cell_type": "markdown",
   "metadata": {},
   "source": [
    "t=Thread()\n",
    "     t.start()                run               suspend\n",
    "New-------------->Runnable------------>Running-----------> Blocked\n",
    "                          <-------------\n",
    "                            pre-emption\n",
    "                           <----------------------------------\n",
    "                                     resumed         \n",
    "                                                completed or \n",
    "                                             ---------------------->End\n",
    "                                                   execption"
   ]
  },
  {
   "cell_type": "markdown",
   "metadata": {},
   "source": [
    "#### Thread synchronization.\n",
    " - it is a technique that ensures access of resource(like function) by multiple threads one by one.\n",
    " - we use lock object to implement Thread synchronization."
   ]
  },
  {
   "cell_type": "code",
   "execution_count": 2,
   "metadata": {},
   "outputs": [
    {
     "name": "stdout",
     "output_type": "stream",
     "text": [
      "Bal:Bal: -500\n",
      " 0\n"
     ]
    }
   ],
   "source": [
    "from threading import Thread\n",
    "import time\n",
    "\n",
    "amt=500\n",
    "def withdraw():\n",
    "    global amt\n",
    "    if (amt>=500):\n",
    "        time.sleep(2)\n",
    "        amt=amt-500\n",
    "        print(\"Bal:\",amt)\n",
    "    else:\n",
    "        print(\"insufficient bal\")\n",
    "\n",
    "t1=Thread(target=withdraw)\n",
    "t2=Thread(target=withdraw)\n",
    "t1.start()\n",
    "t2.start()"
   ]
  },
  {
   "cell_type": "code",
   "execution_count": 3,
   "metadata": {},
   "outputs": [
    {
     "name": "stdout",
     "output_type": "stream",
     "text": [
      "Bal: 0\n",
      "insufficient bal\n"
     ]
    }
   ],
   "source": [
    "from threading import Thread,Lock\n",
    "import time\n",
    "\n",
    "lock=Lock()\n",
    "amt=500\n",
    "def withdraw():\n",
    "    lock.acquire()\n",
    "    global amt\n",
    "    if (amt>=500):\n",
    "        time.sleep(2)\n",
    "        amt=amt-500\n",
    "        print(\"Bal:\",amt)\n",
    "    else:\n",
    "        print(\"insufficient bal\")\n",
    "    lock.release()\n",
    "\n",
    "t1=Thread(target=withdraw)\n",
    "t2=Thread(target=withdraw)\n",
    "t1.start()\n",
    "t2.start()"
   ]
  },
  {
   "cell_type": "code",
   "execution_count": 6,
   "metadata": {},
   "outputs": [
    {
     "name": "stdout",
     "output_type": "stream",
     "text": [
      "train has arrived on platform\n",
      "train has arrived on platform\n"
     ]
    },
    {
     "name": "stdout",
     "output_type": "stream",
     "text": [
      "train has left the platform\n",
      "train has left the platform\n"
     ]
    }
   ],
   "source": [
    "def platform():\n",
    "    print(\"train has arrived on platform\")\n",
    "    time.sleep(2)\n",
    "    print(\"train has left the platform\")\n",
    "\n",
    "t1=Thread(target=platform)\n",
    "t2=Thread(target=platform)\n",
    "t1.start()\n",
    "t2.start()"
   ]
  },
  {
   "cell_type": "code",
   "execution_count": 7,
   "metadata": {},
   "outputs": [
    {
     "name": "stdout",
     "output_type": "stream",
     "text": [
      "train has arrived on platform\n"
     ]
    },
    {
     "name": "stdout",
     "output_type": "stream",
     "text": [
      "train has left the platform\n",
      "train has arrived on platform\n",
      "train has left the platform\n"
     ]
    }
   ],
   "source": [
    "lock=Lock()\n",
    "def platform():\n",
    "    lock.acquire()\n",
    "    print(\"train has arrived on platform\")\n",
    "    time.sleep(2)\n",
    "    print(\"train has left the platform\")\n",
    "    lock.release()\n",
    "\n",
    "t1=Thread(target=platform)\n",
    "t2=Thread(target=platform)\n",
    "\n",
    "t1.start()\n",
    "t2.start()"
   ]
  },
  {
   "cell_type": "code",
   "execution_count": 8,
   "metadata": {},
   "outputs": [
    {
     "name": "stdout",
     "output_type": "stream",
     "text": [
      "train has arrived on platform\n"
     ]
    },
    {
     "name": "stdout",
     "output_type": "stream",
     "text": [
      "train has left the platform\n"
     ]
    }
   ],
   "source": [
    "# Deadlock-->is a situation where a thread is waiting infinitly for a lock. \n",
    "lock=Lock()\n",
    "def platform():\n",
    "    lock.acquire()\n",
    "    print(\"train has arrived on platform\")\n",
    "    time.sleep(2)\n",
    "    print(\"train has left the platform\")\n",
    "\n",
    "t1=Thread(target=platform)\n",
    "t2=Thread(target=platform)\n",
    "\n",
    "t1.start()\n",
    "t2.start()"
   ]
  },
  {
   "cell_type": "code",
   "execution_count": 9,
   "metadata": {},
   "outputs": [
    {
     "name": "stdout",
     "output_type": "stream",
     "text": [
      "train has arrived on platform\n"
     ]
    },
    {
     "name": "stdout",
     "output_type": "stream",
     "text": [
      "train has left the platform\n",
      "train has arrived on platform\n",
      "train has left the platform\n"
     ]
    }
   ],
   "source": [
    "lock=Lock()\n",
    "def platform():\n",
    "    lock.acquire()\n",
    "    print(\"train has arrived on platform\")\n",
    "    time.sleep(2)\n",
    "    print(\"train has left the platform\")\n",
    "    lock.release()\n",
    "\n",
    "t1=Thread(target=platform)\n",
    "t2=Thread(target=platform)\n",
    "\n",
    "t1.start()\n",
    "t2.start()"
   ]
  },
  {
   "cell_type": "code",
   "execution_count": 10,
   "metadata": {},
   "outputs": [
    {
     "name": "stdout",
     "output_type": "stream",
     "text": [
      "this is show\n"
     ]
    }
   ],
   "source": [
    "class test:\n",
    "    def show(self):\n",
    "        print(\"this is show\")\n",
    "\n",
    "obj=test()\n",
    "t=Thread(target=obj.show)\n",
    "t.start()"
   ]
  },
  {
   "cell_type": "code",
   "execution_count": 12,
   "metadata": {},
   "outputs": [
    {
     "name": "stdout",
     "output_type": "stream",
     "text": [
      "hello\n"
     ]
    }
   ],
   "source": [
    "class test(Thread):\n",
    "    def run(self):\n",
    "        print(\"hello\")\n",
    "        \n",
    "obj=test()\n",
    "obj.start()"
   ]
  },
  {
   "cell_type": "code",
   "execution_count": null,
   "metadata": {},
   "outputs": [],
   "source": []
  }
 ],
 "metadata": {
  "kernelspec": {
   "display_name": "Python 3",
   "language": "python",
   "name": "python3"
  },
  "language_info": {
   "codemirror_mode": {
    "name": "ipython",
    "version": 3
   },
   "file_extension": ".py",
   "mimetype": "text/x-python",
   "name": "python",
   "nbconvert_exporter": "python",
   "pygments_lexer": "ipython3",
   "version": "3.11.3"
  },
  "orig_nbformat": 4
 },
 "nbformat": 4,
 "nbformat_minor": 2
}
