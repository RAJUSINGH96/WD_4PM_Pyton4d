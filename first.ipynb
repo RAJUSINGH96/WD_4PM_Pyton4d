{
 "cells": [
  {
   "cell_type": "code",
   "execution_count": 18,
   "metadata": {},
   "outputs": [
    {
     "name": "stdout",
     "output_type": "stream",
     "text": [
      "hello world\n"
     ]
    }
   ],
   "source": [
    "print(\"hello world\")"
   ]
  },
  {
   "cell_type": "code",
   "execution_count": 19,
   "metadata": {},
   "outputs": [
    {
     "name": "stdout",
     "output_type": "stream",
     "text": [
      "it is Raju\n"
     ]
    }
   ],
   "source": [
    "print(\"it is Raju\")"
   ]
  },
  {
   "cell_type": "code",
   "execution_count": 20,
   "metadata": {},
   "outputs": [
    {
     "name": "stdout",
     "output_type": "stream",
     "text": [
      "apple banana pine apple\n"
     ]
    }
   ],
   "source": [
    "print(\"apple\",\"banana\",\"pine apple\")"
   ]
  },
  {
   "cell_type": "code",
   "execution_count": 21,
   "metadata": {},
   "outputs": [
    {
     "name": "stdout",
     "output_type": "stream",
     "text": [
      "apple 100 banana 100 pine apple\n"
     ]
    }
   ],
   "source": [
    "print(\"apple\",\"banana\",\"pine apple\",sep=\" 100 \")"
   ]
  },
  {
   "cell_type": "code",
   "execution_count": 22,
   "metadata": {},
   "outputs": [
    {
     "name": "stdout",
     "output_type": "stream",
     "text": [
      "apple india banana india pine apple\n"
     ]
    }
   ],
   "source": [
    "print(\"apple\",\"banana\",\"pine apple\",sep=\" india \")"
   ]
  },
  {
   "cell_type": "code",
   "execution_count": 23,
   "metadata": {},
   "outputs": [
    {
     "name": "stdout",
     "output_type": "stream",
     "text": [
      "apple india banana india pine apple\n"
     ]
    }
   ],
   "source": [
    "print(\"apple\",\"banana\",\"pine apple\",sep=\" india \",end=\"\\n\")"
   ]
  },
  {
   "cell_type": "code",
   "execution_count": 24,
   "metadata": {},
   "outputs": [
    {
     "name": "stdout",
     "output_type": "stream",
     "text": [
      "apple india banana india pine apple100"
     ]
    }
   ],
   "source": [
    "print(\"apple\",\"banana\",\"pine apple\",sep=\" india \",end=\"100\")"
   ]
  },
  {
   "cell_type": "code",
   "execution_count": 25,
   "metadata": {},
   "outputs": [
    {
     "data": {
      "text/plain": [
       "'2004'"
      ]
     },
     "execution_count": 25,
     "metadata": {},
     "output_type": "execute_result"
    }
   ],
   "source": [
    "input(\"kindly enter your 4 digit pin\")"
   ]
  },
  {
   "cell_type": "code",
   "execution_count": 26,
   "metadata": {},
   "outputs": [
    {
     "name": "stdout",
     "output_type": "stream",
     "text": [
      "apple india banana india pine apple $$$ apple mango banana\n"
     ]
    }
   ],
   "source": [
    "print(\"apple\",\"banana\",\"pine apple\",sep=\" india \",end=\" $$$ \")\n",
    "print(\"apple\",\"mango\",\"banana\",sep=\" \")"
   ]
  },
  {
   "cell_type": "code",
   "execution_count": 27,
   "metadata": {},
   "outputs": [
    {
     "name": "stdout",
     "output_type": "stream",
     "text": [
      "apple india banana india pine apple \n",
      "apple india mango india banana\n"
     ]
    }
   ],
   "source": [
    "print(\"apple\",\"banana\",\"pine apple\",sep=\" india \",end=\" \\n\")\n",
    "print(\"apple\",\"mango\",\"banana\",sep=\" india \")"
   ]
  },
  {
   "cell_type": "code",
   "execution_count": 28,
   "metadata": {},
   "outputs": [
    {
     "name": "stdout",
     "output_type": "stream",
     "text": [
      "this is  \n",
      " krishna\n"
     ]
    }
   ],
   "source": [
    "print(\"this is  \\n krishna\")"
   ]
  },
  {
   "cell_type": "code",
   "execution_count": 29,
   "metadata": {},
   "outputs": [
    {
     "name": "stdout",
     "output_type": "stream",
     "text": [
      "\n"
     ]
    }
   ],
   "source": [
    "#India apple \n",
    "#india banana\n",
    "#india pineapple india"
   ]
  },
  {
   "cell_type": "code",
   "execution_count": 36,
   "metadata": {},
   "outputs": [
    {
     "name": "stdout",
     "output_type": "stream",
     "text": [
      "India apple\n",
      "India banana\n",
      "India pineapple india "
     ]
    }
   ],
   "source": [
    "print(\"India apple\",\"banana\",\"pineapple\",sep=\"\\nIndia \",end=\" india \")"
   ]
  },
  {
   "cell_type": "code",
   "execution_count": null,
   "metadata": {},
   "outputs": [],
   "source": []
  }
 ],
 "metadata": {
  "kernelspec": {
   "display_name": "Python 3",
   "language": "python",
   "name": "python3"
  },
  "language_info": {
   "codemirror_mode": {
    "name": "ipython",
    "version": 3
   },
   "file_extension": ".py",
   "mimetype": "text/x-python",
   "name": "python",
   "nbconvert_exporter": "python",
   "pygments_lexer": "ipython3",
   "version": "3.11.3"
  },
  "orig_nbformat": 4
 },
 "nbformat": 4,
 "nbformat_minor": 2
}
