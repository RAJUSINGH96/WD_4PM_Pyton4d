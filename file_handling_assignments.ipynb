{
 "cells": [
  {
   "cell_type": "code",
   "execution_count": null,
   "metadata": {},
   "outputs": [],
   "source": [
    "#(\"d:/abc.txt\") file contains data.\n",
    "# india\n",
    "# bharat\n",
    "# python\n",
    "# byepython/npython/npython/npython\n",
    "# python\n",
    "# python"
   ]
  },
  {
   "cell_type": "code",
   "execution_count": 1,
   "metadata": {},
   "outputs": [
    {
     "name": "stdout",
     "output_type": "stream",
     "text": [
      "india\n",
      "bharat\n",
      "python\n",
      "bye\n",
      "done\n"
     ]
    }
   ],
   "source": [
    "# 1. Write a Python program to read an entire text file.  \n",
    "with open(r\"d:/abc.txt\",\"r\") as file:\n",
    "    text=file.read()\n",
    "    print(text)\n",
    "print(\"done\")"
   ]
  },
  {
   "cell_type": "code",
   "execution_count": 13,
   "metadata": {},
   "outputs": [
    {
     "name": "stdout",
     "output_type": "stream",
     "text": [
      "['india\\n', 'bharat\\n', 'python\\n']bye\n"
     ]
    }
   ],
   "source": [
    "# 2. Write a Python program to read first n lines of a file.  \n",
    "with open(\"d:/abc.txt\",\"r\") as file:\n",
    "    text=file.readlines()\n",
    "    print(text[0:3],end=\"\")\n",
    "print(\"bye\")"
   ]
  },
  {
   "cell_type": "code",
   "execution_count": 10,
   "metadata": {},
   "outputs": [
    {
     "name": "stdout",
     "output_type": "stream",
     "text": [
      "hello\n",
      "india\n",
      "bharat\n",
      "python\n",
      "byepython/npython/npython/npython\n",
      "python\n",
      "python\n",
      "\n"
     ]
    }
   ],
   "source": [
    "# 3. Write a Python program to append text to a file and display the text.\n",
    "with open(\"d:/abc.txt\",\"a\") as file:\n",
    "    file.write(\"python\\n\")\n",
    "print(\"hello\")\n",
    "with open(\"d:/abc.txt\",\"r\") as file:\n",
    "    text=file.read()\n",
    "    print(text)"
   ]
  },
  {
   "cell_type": "code",
   "execution_count": 14,
   "metadata": {},
   "outputs": [
    {
     "name": "stdout",
     "output_type": "stream",
     "text": [
      "['byepython/npython/npython/npython\\n', 'python\\n', 'python\\n']\n"
     ]
    }
   ],
   "source": [
    "# 4. Write a Python program to read last n lines of a file.  \n",
    "with open(\"d:/abc.txt\",\"r\") as file:\n",
    "    text=file.readlines()\n",
    "    print(text[3::])"
   ]
  },
  {
   "cell_type": "code",
   "execution_count": 12,
   "metadata": {},
   "outputs": [
    {
     "name": "stdout",
     "output_type": "stream",
     "text": [
      "['india\\n', 'bharat\\n', 'python\\n', 'byepython/npython/npython/npython\\n', 'python\\n', 'python\\n']\n",
      "done\n"
     ]
    }
   ],
   "source": [
    "# 5. Write a Python program to read a file line by line and store it into a list.  \n",
    "with open(\"d:/abc.txt\",\"r\") as file:\n",
    "    text=file.readlines()\n",
    "    print(text)\n",
    "print(\"done\")"
   ]
  },
  {
   "cell_type": "code",
   "execution_count": 15,
   "metadata": {},
   "outputs": [
    {
     "name": "stdout",
     "output_type": "stream",
     "text": [
      "['india\\n', 'bharat\\n', 'python\\n', 'byepython/npython/npython/npython\\n', 'python\\n', 'python\\n']\n",
      "done\n"
     ]
    }
   ],
   "source": [
    "# 6. Write a Python program to read a file line by line store it into a variable.  \n",
    "with open(\"d:/abc.txt\",\"r\") as file:\n",
    "    text=file.readlines()\n",
    "    print(text)\n",
    "print(\"done\")"
   ]
  },
  {
   "cell_type": "code",
   "execution_count": 16,
   "metadata": {},
   "outputs": [
    {
     "name": "stdout",
     "output_type": "stream",
     "text": [
      "['india\\n', 'bharat\\n', 'python\\n', 'byepython/npython/npython/npython\\n', 'python\\n', 'python\\n']\n",
      "bye\n"
     ]
    }
   ],
   "source": [
    "# 7. Write a Python program to read a file line by line store it into a list.  \n",
    "with open(\"d:/abc.txt\",\"r\") as file:\n",
    "    text=file.readlines()\n",
    "    print(text)\n",
    "print(\"bye\")"
   ]
  },
  {
   "cell_type": "code",
   "execution_count": 9,
   "metadata": {},
   "outputs": [
    {
     "name": "stdout",
     "output_type": "stream",
     "text": [
      "byepython/npython/npython/npython\n"
     ]
    }
   ],
   "source": [
    "# 8. Write a python program to find the longest words of a file.  \n",
    "with open(\"d:/abc.txt\",\"r\") as file:\n",
    "    text=file.read()\n",
    "    files=text.split()\n",
    "    max_len=len(max(files,key=len))\n",
    "    for word in files:\n",
    "        if len(word)==max_len:\n",
    "            print(word)"
   ]
  },
  {
   "cell_type": "code",
   "execution_count": 11,
   "metadata": {},
   "outputs": [
    {
     "name": "stdout",
     "output_type": "stream",
     "text": [
      "6\n"
     ]
    }
   ],
   "source": [
    "# 9. Write a Python program to count the number of lines in a text file.  \n",
    "with open(\"d:/abc.txt\",\"r\") as files: \n",
    "    text=files.readlines()\n",
    "    c=0 \n",
    "    for word in text:\n",
    "        c+=1\n",
    "    print(c)"
   ]
  },
  {
   "cell_type": "code",
   "execution_count": 14,
   "metadata": {},
   "outputs": [
    {
     "name": "stdout",
     "output_type": "stream",
     "text": [
      "6\n"
     ]
    }
   ],
   "source": [
    "with open(\"d:/abc.txt\",\"r\") as files: \n",
    "    text=files.readlines()\n",
    "    print(len(text))"
   ]
  },
  {
   "cell_type": "code",
   "execution_count": 13,
   "metadata": {},
   "outputs": [
    {
     "name": "stdout",
     "output_type": "stream",
     "text": [
      "68\n"
     ]
    }
   ],
   "source": [
    "# 10. Write a Python program to count the frequency of words in a file.  \n",
    "with open(\"d:/abc.txt\",\"r\") as files: \n",
    "    text=files.read()\n",
    "    c=0 \n",
    "    for word in text:\n",
    "        c+=1\n",
    "    print(c)"
   ]
  },
  {
   "cell_type": "code",
   "execution_count": 17,
   "metadata": {},
   "outputs": [
    {
     "name": "stdout",
     "output_type": "stream",
     "text": [
      "74\n"
     ]
    }
   ],
   "source": [
    "# 11. Write a Python program to get the file size of a plain file.  \n",
    "import os\n",
    "print(os.path.getsize(\"d:/abc.txt\"))"
   ]
  },
  {
   "cell_type": "code",
   "execution_count": 18,
   "metadata": {},
   "outputs": [
    {
     "name": "stdout",
     "output_type": "stream",
     "text": [
      "india\n",
      "bharat\n",
      "python\n",
      "byepython/npython/npython/npython\n",
      "python\n",
      "python\n",
      "\n"
     ]
    }
   ],
   "source": [
    "# 12. Write a Python program to write a list to a file.  \n",
    "with open(\"d:/abc.txt\",\"r\") as file:\n",
    "    text=file.read()\n",
    "    print(text)"
   ]
  },
  {
   "cell_type": "code",
   "execution_count": 22,
   "metadata": {},
   "outputs": [],
   "source": [
    "# 13. Write a Python program to copy the contents of a file to another  file .  \n",
    "with open(\"d:/abc.txt\",\"r\") as file , open(\"d:/abcd.txt\",\"a\") as files:\n",
    "    for line in file:\n",
    "        files.write(line)"
   ]
  },
  {
   "cell_type": "code",
   "execution_count": 3,
   "metadata": {},
   "outputs": [],
   "source": [
    "# 14. Write a Python program to combine each line from first file with the corresponding line in second file.  \n",
    "f1=open(\"d:/file1.txt\",\"r\")\n",
    "f2=open(\"d:/file2.txt\",\"r\")\n",
    "f3=open(\"d:/file3.txt\",\"w\")\n",
    "line1=f1.readlines()\n",
    "line2=f2.readlines()\n",
    "for i in range(len(line1)):\n",
    "    merge=line1[i]+line2[i]\n",
    "    f3.write(merge)\n",
    "f1.close()\n",
    "f2.close()\n",
    "f3.close()"
   ]
  },
  {
   "cell_type": "code",
   "execution_count": 4,
   "metadata": {},
   "outputs": [
    {
     "name": "stdout",
     "output_type": "stream",
     "text": [
      "file1 line6\n"
     ]
    }
   ],
   "source": [
    "# 15. Write a Python program to read a random line from a file.  \n",
    "f1=open(\"d:/file1.txt\",\"r\")\n",
    "text=f1.readlines()\n",
    "import random\n",
    "print(random.choice(text))"
   ]
  },
  {
   "cell_type": "code",
   "execution_count": 3,
   "metadata": {},
   "outputs": [
    {
     "name": "stdout",
     "output_type": "stream",
     "text": [
      "False\n",
      "True\n"
     ]
    }
   ],
   "source": [
    "# 16. Write a Python program to assess(check) if a file is closed or not.\n",
    "file=open(\"d:/file1.txt\")\n",
    "print(file.closed)\n",
    "file.close()\n",
    "print(file.closed)"
   ]
  },
  {
   "cell_type": "code",
   "execution_count": 4,
   "metadata": {},
   "outputs": [],
   "source": [
    "# 17. Write a Python program to remove newline characters from a file.\n",
    "file=open(\"d:/file1.txt\")\n",
    "text=file.read().replace(\"\\n\",\"\")\n",
    "file.close()\n",
    "file=open(\"d:/file1.txt\",\"w\")\n",
    "file.write(text)\n",
    "file.close()"
   ]
  },
  {
   "cell_type": "code",
   "execution_count": 7,
   "metadata": {},
   "outputs": [
    {
     "name": "stdout",
     "output_type": "stream",
     "text": [
      "file1 line1file1 line2file1 line3file1 line4file1 line5file1 line6\n",
      "['file1', 'line1file1', 'line2file1', 'line3file1', 'line4file1', 'line5file1', 'line6']\n"
     ]
    }
   ],
   "source": [
    "# 18. Write a Python program that takes a text file as input and returns the number of\n",
    "# words of a given text file.\n",
    "# - Note: Some words can be separated by a comma with no space.\n",
    "file=open(\"d:/file1.txt\")\n",
    "text=file.read()\n",
    "print(text)\n",
    "file.close()\n",
    "print(text.split()) #\\t,\\n,space"
   ]
  },
  {
   "cell_type": "code",
   "execution_count": 6,
   "metadata": {},
   "outputs": [
    {
     "ename": "FileNotFoundError",
     "evalue": "[Errno 2] No such file or directory: 'd:/aa.txt,abc.txt,bcd.txt,file2.txt'",
     "output_type": "error",
     "traceback": [
      "\u001b[1;31m---------------------------------------------------------------------------\u001b[0m",
      "\u001b[1;31mFileNotFoundError\u001b[0m                         Traceback (most recent call last)",
      "Cell \u001b[1;32mIn[6], line 4\u001b[0m\n\u001b[0;32m      2\u001b[0m x\u001b[39m=\u001b[39m[]\n\u001b[0;32m      3\u001b[0m \u001b[39mfor\u001b[39;00m i \u001b[39min\u001b[39;00m [\u001b[39m\"\u001b[39m\u001b[39md:/aa.txt,abc.txt,bcd.txt,file2.txt\u001b[39m\u001b[39m\"\u001b[39m]:\n\u001b[1;32m----> 4\u001b[0m  file\u001b[39m=\u001b[39m\u001b[39mopen\u001b[39;49m(i)\n\u001b[0;32m      5\u001b[0m  text\u001b[39m=\u001b[39mfile\u001b[39m.\u001b[39mread()\n\u001b[0;32m      6\u001b[0m  x\u001b[39m.\u001b[39mextend(\u001b[39mlist\u001b[39m(text))\n",
      "File \u001b[1;32mc:\\Users\\Raju\\AppData\\Local\\Programs\\Python\\Python311\\Lib\\site-packages\\IPython\\core\\interactiveshell.py:284\u001b[0m, in \u001b[0;36m_modified_open\u001b[1;34m(file, *args, **kwargs)\u001b[0m\n\u001b[0;32m    277\u001b[0m \u001b[39mif\u001b[39;00m file \u001b[39min\u001b[39;00m {\u001b[39m0\u001b[39m, \u001b[39m1\u001b[39m, \u001b[39m2\u001b[39m}:\n\u001b[0;32m    278\u001b[0m     \u001b[39mraise\u001b[39;00m \u001b[39mValueError\u001b[39;00m(\n\u001b[0;32m    279\u001b[0m         \u001b[39mf\u001b[39m\u001b[39m\"\u001b[39m\u001b[39mIPython won\u001b[39m\u001b[39m'\u001b[39m\u001b[39mt let you open fd=\u001b[39m\u001b[39m{\u001b[39;00mfile\u001b[39m}\u001b[39;00m\u001b[39m by default \u001b[39m\u001b[39m\"\u001b[39m\n\u001b[0;32m    280\u001b[0m         \u001b[39m\"\u001b[39m\u001b[39mas it is likely to crash IPython. If you know what you are doing, \u001b[39m\u001b[39m\"\u001b[39m\n\u001b[0;32m    281\u001b[0m         \u001b[39m\"\u001b[39m\u001b[39myou can use builtins\u001b[39m\u001b[39m'\u001b[39m\u001b[39m open.\u001b[39m\u001b[39m\"\u001b[39m\n\u001b[0;32m    282\u001b[0m     )\n\u001b[1;32m--> 284\u001b[0m \u001b[39mreturn\u001b[39;00m io_open(file, \u001b[39m*\u001b[39;49margs, \u001b[39m*\u001b[39;49m\u001b[39m*\u001b[39;49mkwargs)\n",
      "\u001b[1;31mFileNotFoundError\u001b[0m: [Errno 2] No such file or directory: 'd:/aa.txt,abc.txt,bcd.txt,file2.txt'"
     ]
    }
   ],
   "source": [
    "# 19. Write a Python program to extract characters from various text files and puts them into a list.\n",
    "x=[]\n",
    "for i in [\"d:/aa.txt,abc.txt,bcd.txt,file2.txt\"]:\n",
    " file=open(i)\n",
    " text=file.read()\n",
    " x.extend(list(text))\n",
    " file.close()\n",
    "print(x)"
   ]
  },
  {
   "cell_type": "code",
   "execution_count": null,
   "metadata": {},
   "outputs": [],
   "source": [
    "x=[]\n",
    "for i in ['A.txt','B.txt','C.txt','D.txt']:\n",
    " file=open(i)\n",
    " text=file.read()\n",
    " x.extend(list(text))\n",
    " file.close()\n",
    "print(x)"
   ]
  },
  {
   "cell_type": "code",
   "execution_count": 27,
   "metadata": {},
   "outputs": [],
   "source": [
    "# 20. write a python program to generate 26 text files named a.txt, b.txt, and so on up to z.txt.\n",
    "import string,os\n",
    "os.makedirs(\"letters\")\n",
    "for letter in string.ascii_uppercase:\n",
    "    with open(\"d:/letters/letter.txt\",\"w\") as file:\n",
    "        file.writelines(letter)"
   ]
  },
  {
   "cell_type": "code",
   "execution_count": 3,
   "metadata": {},
   "outputs": [],
   "source": [
    "for i in range(65,92):\n",
    "    file=open(f\"{chr(i)}.txt\",\"w\")\n",
    "    file.close()"
   ]
  },
  {
   "cell_type": "code",
   "execution_count": 19,
   "metadata": {},
   "outputs": [],
   "source": [
    "import string, os\n",
    "if not os.path.exists(\"letters\"):\n",
    "   os.makedirs(\"letters\")\n",
    "for letter in string.ascii_uppercase:\n",
    "   with open(letter + \".txt\", \"w\") as f:\n",
    "       f.writelines(letter)"
   ]
  },
  {
   "cell_type": "code",
   "execution_count": 2,
   "metadata": {},
   "outputs": [],
   "source": [
    "# 21.Write a Python program to create a file where all letters of English alphabet are\n",
    "# listed by specified number of letters on each line.\n",
    "file=open(\"d:/letters.txt\",\"w\")\n",
    "for i,j in zip(range(1,27),range(97,124)):\n",
    "    file.write(str(i)+\"\\t\"+f\"{chr(j)}\")\n",
    "    file.write(\"\\n\")\n",
    "file.close()"
   ]
  },
  {
   "cell_type": "code",
   "execution_count": 6,
   "metadata": {},
   "outputs": [
    {
     "ename": "TypeError",
     "evalue": "'str' object cannot be interpreted as an integer",
     "output_type": "error",
     "traceback": [
      "\u001b[1;31m---------------------------------------------------------------------------\u001b[0m",
      "\u001b[1;31mTypeError\u001b[0m                                 Traceback (most recent call last)",
      "Cell \u001b[1;32mIn[6], line 4\u001b[0m\n\u001b[0;32m      2\u001b[0m file\u001b[39m=\u001b[39m\u001b[39mopen\u001b[39m(\u001b[39m\"\u001b[39m\u001b[39md:/letter.txt\u001b[39m\u001b[39m\"\u001b[39m,\u001b[39m\"\u001b[39m\u001b[39mw\u001b[39m\u001b[39m\"\u001b[39m)\n\u001b[0;32m      3\u001b[0m \u001b[39mfor\u001b[39;00m i,j \u001b[39min\u001b[39;00m \u001b[39mzip\u001b[39m(\u001b[39mrange\u001b[39m(\u001b[39m1\u001b[39m,\u001b[39m27\u001b[39m),string\u001b[39m.\u001b[39mascii_lowercase):\n\u001b[1;32m----> 4\u001b[0m  file\u001b[39m.\u001b[39mwrite(\u001b[39mstr\u001b[39m(i)\u001b[39m+\u001b[39m\u001b[39m\"\u001b[39m\u001b[39m\\t\u001b[39;00m\u001b[39m\"\u001b[39m\u001b[39m+\u001b[39m\u001b[39mf\u001b[39m\u001b[39m\"\u001b[39m\u001b[39m{\u001b[39;00m\u001b[39mchr\u001b[39;49m(j)\u001b[39m}\u001b[39;00m\u001b[39m\"\u001b[39m)\n\u001b[0;32m      5\u001b[0m  file\u001b[39m.\u001b[39mwrite(\u001b[39m\"\u001b[39m\u001b[39m\\n\u001b[39;00m\u001b[39m\"\u001b[39m)\n\u001b[0;32m      6\u001b[0m file\u001b[39m.\u001b[39mclose()\n",
      "\u001b[1;31mTypeError\u001b[0m: 'str' object cannot be interpreted as an integer"
     ]
    }
   ],
   "source": [
    "import string\n",
    "file=open(\"d:/letter.txt\",\"w\")\n",
    "for i,j in zip(range(1,27),string.ascii_lowercase()):\n",
    " file.write(str(i)+\"\\t\"+f\"{chr(j)}\")\n",
    " file.write(\"\\n\")\n",
    "file.close()"
   ]
  },
  {
   "cell_type": "code",
   "execution_count": null,
   "metadata": {},
   "outputs": [],
   "source": []
  }
 ],
 "metadata": {
  "kernelspec": {
   "display_name": "Python 3",
   "language": "python",
   "name": "python3"
  },
  "language_info": {
   "codemirror_mode": {
    "name": "ipython",
    "version": 3
   },
   "file_extension": ".py",
   "mimetype": "text/x-python",
   "name": "python",
   "nbconvert_exporter": "python",
   "pygments_lexer": "ipython3",
   "version": "3.11.3"
  },
  "orig_nbformat": 4
 },
 "nbformat": 4,
 "nbformat_minor": 2
}
