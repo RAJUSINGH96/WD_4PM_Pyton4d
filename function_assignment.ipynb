{
 "cells": [
  {
   "cell_type": "code",
   "execution_count": 2,
   "metadata": {},
   "outputs": [
    {
     "name": "stdout",
     "output_type": "stream",
     "text": [
      "odd\n",
      "even\n"
     ]
    }
   ],
   "source": [
    "# 1. Write the function to find that entered number even or odd.\n",
    "def show(x):\n",
    "    if (x%2==0):\n",
    "        print('even')\n",
    "    else:\n",
    "        print('odd')\n",
    "show(5)\n",
    "show(4)"
   ]
  },
  {
   "cell_type": "code",
   "execution_count": 24,
   "metadata": {},
   "outputs": [
    {
     "name": "stdout",
     "output_type": "stream",
     "text": [
      "5432\n",
      "[4, 3, 2, 1]\n",
      "(5, 4, 3, 2, 1)\n"
     ]
    }
   ],
   "source": [
    "# 2.Write the function to print the entered number in reverse order.\n",
    "def raju(r):\n",
    "    if type(r) != str:\n",
    "        str(r)\n",
    "    print(r[::-1])\n",
    "raju('2345')\n",
    "raju([1,2,3,4])\n",
    "raju((1,2,3,4,5))"
   ]
  },
  {
   "cell_type": "code",
   "execution_count": 8,
   "metadata": {},
   "outputs": [
    {
     "name": "stdout",
     "output_type": "stream",
     "text": [
      "prime\n",
      "not prime\n"
     ]
    }
   ],
   "source": [
    "# 3. Write the function to find out whether entered number is prime or not.\n",
    "def show(x):\n",
    "    y=2\n",
    "    while(y<x):\n",
    "        if(x%y==0):\n",
    "            print(\"not prime\")\n",
    "            break\n",
    "        y+=1\n",
    "    else:\n",
    "        print(\"prime\")\n",
    "show(3)\n",
    "show(111)"
   ]
  },
  {
   "cell_type": "code",
   "execution_count": 10,
   "metadata": {},
   "outputs": [
    {
     "name": "stdout",
     "output_type": "stream",
     "text": [
      "120\n",
      "720\n"
     ]
    }
   ],
   "source": [
    "# 4. Write the function to calculate the factorial of a entered number.\n",
    "def show(y):\n",
    "    x=1\n",
    "    for i in range(1,y+1):\n",
    "        x*=i\n",
    "    print(x)\n",
    "show(5)\n",
    "show(6)"
   ]
  },
  {
   "cell_type": "code",
   "execution_count": 19,
   "metadata": {},
   "outputs": [
    {
     "name": "stdout",
     "output_type": "stream",
     "text": [
      "0 1 1 2 3 5 8 13 21 34 0 1 1 2 3 5 8 13 21 34 55 89 0 1 1 2 3 5 8 13 21 34 55 89 144 "
     ]
    }
   ],
   "source": [
    "# 5. Write the function to print the Fibonacci series. The number of terms for Fibonacci\n",
    "# series will be entered through keyboard.\n",
    "def show(x):\n",
    "    a=0\n",
    "    b=1\n",
    "    print(a,b,end=\" \")\n",
    "    while(True):\n",
    "        c=a+b\n",
    "        if(c>x):\n",
    "            break\n",
    "        print(c,end=\" \")\n",
    "        a=b\n",
    "        b=c\n",
    "show(50)\n",
    "show(100)\n",
    "show(200)"
   ]
  },
  {
   "cell_type": "code",
   "execution_count": 21,
   "metadata": {},
   "outputs": [
    {
     "name": "stdout",
     "output_type": "stream",
     "text": [
      "0 1 1 2 3 5 8 13 21 34 55 89 0 1 1 2 3 5 8 13 21 34 55 89 144 "
     ]
    }
   ],
   "source": [
    "def show(x):\n",
    "    a=0\n",
    "    b=1\n",
    "    print(a,b,end=\" \")\n",
    "    while(True):\n",
    "        c=a+b\n",
    "        if(c>x):\n",
    "            break\n",
    "        print(c,end=\" \")\n",
    "        a=b\n",
    "        b=c\n",
    "show(100)\n",
    "show(200)"
   ]
  },
  {
   "cell_type": "code",
   "execution_count": 22,
   "metadata": {},
   "outputs": [
    {
     "name": "stdout",
     "output_type": "stream",
     "text": [
      "234 is not an Armstrong number\n",
      "153 is an Armstrong number\n"
     ]
    }
   ],
   "source": [
    "# 6. Write the function to find entered number through keyboard is whether Armstrong or not.\n",
    "def show(x):\n",
    "    y = 0\n",
    "    z=x\n",
    "    while z > 0:\n",
    "        digit = z % 10\n",
    "        y += digit ** 3\n",
    "        z //=10\n",
    "    if x == y:\n",
    "        print(x,\"is an Armstrong number\")\n",
    "    else:\n",
    "        print(x,\"is not an Armstrong number\")\n",
    "show(234)\n",
    "show(153)"
   ]
  },
  {
   "cell_type": "code",
   "execution_count": 3,
   "metadata": {},
   "outputs": [
    {
     "name": "stdout",
     "output_type": "stream",
     "text": [
      "palindrom\n",
      "palindrom\n"
     ]
    }
   ],
   "source": [
    "# 7.Write a function to find entered number through keyboard is whether palindrome or not.\n",
    "def show(s):\n",
    "    rs=s[::-1]\n",
    "    if(s==rs):\n",
    "        print(\"palindrom\")\n",
    "    else:\n",
    "        print(\"not palindrom\")\n",
    "show('malayalam')\n",
    "show('343')"
   ]
  },
  {
   "cell_type": "code",
   "execution_count": 4,
   "metadata": {},
   "outputs": [
    {
     "name": "stdout",
     "output_type": "stream",
     "text": [
      "positive\n",
      "negative\n"
     ]
    }
   ],
   "source": [
    "# 8.Write a function that takes a number entered through keyboard and find whether it is positive \n",
    "#  or negative.\n",
    "def show(x):\n",
    "    if (x>=0):\n",
    "        print('positive')\n",
    "    else:\n",
    "        print('negative')\n",
    "show(2)\n",
    "show(-2)"
   ]
  },
  {
   "cell_type": "code",
   "execution_count": 23,
   "metadata": {},
   "outputs": [
    {
     "name": "stdout",
     "output_type": "stream",
     "text": [
      "234 is not an Armstrong number\n",
      "153 is an Armstrong number\n"
     ]
    }
   ],
   "source": [
    "# 9.Write a function that takes a number entered through keyboard and find whether it \n",
    "# is Armstrong number or not.\n",
    "def show(x):\n",
    "    y = 0\n",
    "    z=x\n",
    "    while z > 0:\n",
    "        digit = z % 10\n",
    "        y += digit ** 3\n",
    "        z //=10\n",
    "    if x == y:\n",
    "        print(x,\"is an Armstrong number\")\n",
    "    else:\n",
    "        print(x,\"is not an Armstrong number\")\n",
    "show(234)\n",
    "show(153)"
   ]
  },
  {
   "cell_type": "code",
   "execution_count": 6,
   "metadata": {},
   "outputs": [
    {
     "name": "stdout",
     "output_type": "stream",
     "text": [
      "5 greater\n",
      "7 greater\n",
      "10 greater\n"
     ]
    }
   ],
   "source": [
    "# 10.\tWrite a function that takes two numbers entered through keyboard and return greatest of them.\n",
    "def show(x,y):\n",
    "    if(x>y):\n",
    "        print(x,'greater')\n",
    "    elif (y>x):\n",
    "        print(y,'greater')\n",
    "show(4,5)\n",
    "show(7,3)\n",
    "show(8,10)"
   ]
  },
  {
   "cell_type": "code",
   "execution_count": 12,
   "metadata": {},
   "outputs": [
    {
     "name": "stdout",
     "output_type": "stream",
     "text": [
      "21\n",
      "22\n"
     ]
    }
   ],
   "source": [
    "# 11.\tWrite a function that takes numbers entered through keyboard and return the sum of \n",
    "# digits of entered numbers.\n",
    "def show(x):\n",
    "    y=0\n",
    "    for i in x:\n",
    "        y+=i\n",
    "    print(y)\n",
    "show([3,3,4,5,6])\n",
    "show((4,5,6,7))"
   ]
  },
  {
   "cell_type": "code",
   "execution_count": 14,
   "metadata": {},
   "outputs": [
    {
     "name": "stdout",
     "output_type": "stream",
     "text": [
      "81\n",
      "128\n",
      "625\n"
     ]
    }
   ],
   "source": [
    "# 12.write a function that take two numbers a and b, entered through keyword and reture the value of a**b.\n",
    "def show(a,b):\n",
    "    print(a**b)\n",
    "show(3,4)\n",
    "show(2,7)\n",
    "show(5,4)"
   ]
  },
  {
   "cell_type": "code",
   "execution_count": null,
   "metadata": {},
   "outputs": [],
   "source": []
  }
 ],
 "metadata": {
  "kernelspec": {
   "display_name": "Python 3",
   "language": "python",
   "name": "python3"
  },
  "language_info": {
   "codemirror_mode": {
    "name": "ipython",
    "version": 3
   },
   "file_extension": ".py",
   "mimetype": "text/x-python",
   "name": "python",
   "nbconvert_exporter": "python",
   "pygments_lexer": "ipython3",
   "version": "3.11.3"
  },
  "orig_nbformat": 4
 },
 "nbformat": 4,
 "nbformat_minor": 2
}
