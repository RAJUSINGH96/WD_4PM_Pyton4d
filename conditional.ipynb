{
 "cells": [
  {
   "cell_type": "code",
   "execution_count": 1,
   "metadata": {},
   "outputs": [],
   "source": [
    "# if condition:\n",
    "#       statement(s)\n",
    "# else:\n",
    "#       statement(s)"
   ]
  },
  {
   "cell_type": "code",
   "execution_count": 2,
   "metadata": {},
   "outputs": [
    {
     "name": "stdout",
     "output_type": "stream",
     "text": [
      "Going to hell\n"
     ]
    }
   ],
   "source": [
    "user=input(\"Enter your destinstion: \")\n",
    "if user==\"A\":\n",
    "    print(\"Going to Bali\")\n",
    "else:\n",
    "    print(\"Going to hell\")    "
   ]
  },
  {
   "cell_type": "code",
   "execution_count": 3,
   "metadata": {},
   "outputs": [
    {
     "name": "stdout",
     "output_type": "stream",
     "text": [
      "Going to hell\n"
     ]
    }
   ],
   "source": [
    "user=input(\"Enter your destinstion: \")\n",
    "if user==\"A\":\n",
    "    print(\"Going to Bali\")\n",
    "else:\n",
    "    print(\"Going to hell\")   "
   ]
  },
  {
   "cell_type": "code",
   "execution_count": 4,
   "metadata": {},
   "outputs": [
    {
     "name": "stdout",
     "output_type": "stream",
     "text": [
      "Going to hell\n"
     ]
    }
   ],
   "source": [
    "user=input(\"Enter your destinstion: \")\n",
    "if user==\"A\":\n",
    "    print(\"Going to Bali\")\n",
    "else:\n",
    "    print(\"Going to hell\")   "
   ]
  },
  {
   "cell_type": "code",
   "execution_count": 5,
   "metadata": {},
   "outputs": [
    {
     "data": {
      "text/plain": [
       "'gterfvyuk'"
      ]
     },
     "execution_count": 5,
     "metadata": {},
     "output_type": "execute_result"
    }
   ],
   "source": [
    "user"
   ]
  },
  {
   "cell_type": "code",
   "execution_count": 9,
   "metadata": {},
   "outputs": [
    {
     "name": "stdout",
     "output_type": "stream",
     "text": [
      "Going to Bali\n"
     ]
    }
   ],
   "source": [
    "user=input(\"Enter your destinstion: \")\n",
    "if user==\"A\":\n",
    "    print(\"Going to Bali\")\n"
   ]
  },
  {
   "cell_type": "code",
   "execution_count": 10,
   "metadata": {},
   "outputs": [],
   "source": [
    "user=input(\"Enter your destinstion: \")\n",
    "if user==\"A\":\n",
    "    print(\"Going to Bali\")"
   ]
  },
  {
   "cell_type": "code",
   "execution_count": 11,
   "metadata": {},
   "outputs": [
    {
     "data": {
      "text/plain": [
       "'dfghnbgn'"
      ]
     },
     "execution_count": 11,
     "metadata": {},
     "output_type": "execute_result"
    }
   ],
   "source": [
    "user"
   ]
  },
  {
   "cell_type": "code",
   "execution_count": 12,
   "metadata": {},
   "outputs": [
    {
     "name": "stdout",
     "output_type": "stream",
     "text": [
      "I will run\n"
     ]
    }
   ],
   "source": [
    "user=input(\"Enter your destinstion: \")\n",
    "if user==\"A\":\n",
    "    print(\"Going to Bali\")\n",
    "else:\n",
    "    print(\"I will run\")"
   ]
  },
  {
   "cell_type": "code",
   "execution_count": 13,
   "metadata": {},
   "outputs": [
    {
     "name": "stdout",
     "output_type": "stream",
     "text": [
      "Going to Bali\n",
      "we will have fun\n"
     ]
    }
   ],
   "source": [
    "user=input(\"Enter your destinstion: \")\n",
    "if user==\"A\":\n",
    "    print(\"Going to Bali\")\n",
    "    print(\"we will have fun\")\n",
    "else:\n",
    "    print(\"I will run\")"
   ]
  },
  {
   "cell_type": "code",
   "execution_count": 14,
   "metadata": {},
   "outputs": [
    {
     "ename": "IndentationError",
     "evalue": "unexpected indent (3339964759.py, line 4)",
     "output_type": "error",
     "traceback": [
      "\u001b[1;36m  Cell \u001b[1;32mIn[14], line 4\u001b[1;36m\u001b[0m\n\u001b[1;33m    print(\"we will have fun\")\u001b[0m\n\u001b[1;37m    ^\u001b[0m\n\u001b[1;31mIndentationError\u001b[0m\u001b[1;31m:\u001b[0m unexpected indent\n"
     ]
    }
   ],
   "source": [
    "user=input(\"Enter your destinstion: \")\n",
    "if user==\"A\":\n",
    "    print(\"Going to Bali\")\n",
    "          print(\"we will have fun\")\n",
    "else:\n",
    "    print(\"I will run\")"
   ]
  },
  {
   "cell_type": "code",
   "execution_count": 15,
   "metadata": {},
   "outputs": [
    {
     "name": "stdout",
     "output_type": "stream",
     "text": [
      "I will run\n"
     ]
    }
   ],
   "source": [
    "user=input(\"Enter your destinstion: \")\n",
    "if user==\"A\":\n",
    "     print(\"Going to Bali\")     # python works on what. ans is indentation.\n",
    "     print(\"we will have fun\")  # indentation is space before print.\n",
    "else:\n",
    "    print(\"I will run\")"
   ]
  },
  {
   "cell_type": "code",
   "execution_count": 16,
   "metadata": {},
   "outputs": [
    {
     "data": {
      "text/plain": [
       "'nvmbcnd'"
      ]
     },
     "execution_count": 16,
     "metadata": {},
     "output_type": "execute_result"
    }
   ],
   "source": [
    "user"
   ]
  },
  {
   "cell_type": "code",
   "execution_count": 17,
   "metadata": {},
   "outputs": [],
   "source": [
    "# java works on what. ans is curly bracket({})"
   ]
  },
  {
   "cell_type": "code",
   "execution_count": 1,
   "metadata": {},
   "outputs": [],
   "source": [
    "# if elif else\n",
    "\n",
    "# nested if else.\n",
    "\n",
    "# nested if elif else.\n",
    "\n",
    "# ternary operator using if else."
   ]
  },
  {
   "cell_type": "code",
   "execution_count": 2,
   "metadata": {},
   "outputs": [],
   "source": [
    "# if condition:\n",
    "#    statement(s)\n",
    "# else:\n",
    "#     statement(s)"
   ]
  },
  {
   "cell_type": "code",
   "execution_count": 4,
   "metadata": {},
   "outputs": [
    {
     "name": "stdout",
     "output_type": "stream",
     "text": [
      "Go to school\n"
     ]
    }
   ],
   "source": [
    "# if elif else.\n",
    "age=int(input(\"enter your age\"))\n",
    "if age<18:\n",
    "    print(\"Go to school\")\n",
    "elif age>=18 and age<=60:\n",
    "    print(\"cast your vote\")\n",
    "elif age>60 and age<=120:\n",
    "    print(\"take rest\")\n",
    "else:\n",
    "    print(\"kindly insert a valid age\")"
   ]
  },
  {
   "cell_type": "code",
   "execution_count": 5,
   "metadata": {},
   "outputs": [
    {
     "name": "stdout",
     "output_type": "stream",
     "text": [
      "cast your vote\n"
     ]
    }
   ],
   "source": [
    "# if elif else.\n",
    "age=int(input(\"enter your age\"))\n",
    "if age<18:\n",
    "    print(\"Go to school\")\n",
    "elif age>=18 and age<=60:\n",
    "    print(\"cast your vote\")\n",
    "elif age>60 and age<=120:\n",
    "    print(\"take rest\")\n",
    "else:\n",
    "    print(\"kindly insert a valid age\")"
   ]
  },
  {
   "cell_type": "code",
   "execution_count": 7,
   "metadata": {},
   "outputs": [
    {
     "name": "stdout",
     "output_type": "stream",
     "text": [
      "take rest\n"
     ]
    }
   ],
   "source": [
    "# if elif else.\n",
    "age=int(input(\"enter your age\"))\n",
    "if age<18:\n",
    "    print(\"Go to school\")\n",
    "elif age>=18 and age<=60:\n",
    "    print(\"cast your vote\")\n",
    "elif age>60 and age<=120:\n",
    "    print(\"take rest\")\n",
    "else:\n",
    "    print(\"kindly insert a valid age\")"
   ]
  },
  {
   "cell_type": "code",
   "execution_count": 8,
   "metadata": {},
   "outputs": [
    {
     "name": "stdout",
     "output_type": "stream",
     "text": [
      "kindly insert a valid age\n"
     ]
    }
   ],
   "source": [
    "# if elif else.\n",
    "age=int(input(\"enter your age\"))\n",
    "if age<18:\n",
    "    print(\"Go to school\")\n",
    "elif age>=18 and age<=60:\n",
    "    print(\"cast your vote\")\n",
    "elif age>60 and age<=120:\n",
    "    print(\"take rest\")\n",
    "else:\n",
    "    print(\"kindly insert a valid age\")"
   ]
  },
  {
   "cell_type": "code",
   "execution_count": 10,
   "metadata": {},
   "outputs": [
    {
     "data": {
      "text/plain": [
       "130"
      ]
     },
     "execution_count": 10,
     "metadata": {},
     "output_type": "execute_result"
    }
   ],
   "source": [
    "age"
   ]
  },
  {
   "cell_type": "code",
   "execution_count": 11,
   "metadata": {},
   "outputs": [
    {
     "name": "stdout",
     "output_type": "stream",
     "text": [
      "Go to school\n"
     ]
    }
   ],
   "source": [
    "# if elif else.\n",
    "age=int(input(\"enter your age\"))\n",
    "if age<18:\n",
    "    print(\"Go to school\")\n",
    "elif age>=18 and age<=60:\n",
    "    print(\"cast your vote\")\n",
    "elif age>60 and age<=120:\n",
    "    print(\"take rest\")\n",
    "else:\n",
    "    print(\"kindly insert a valid age\")"
   ]
  },
  {
   "cell_type": "code",
   "execution_count": 12,
   "metadata": {},
   "outputs": [
    {
     "name": "stdout",
     "output_type": "stream",
     "text": [
      "kindly insert a valid age\n"
     ]
    }
   ],
   "source": [
    "# if elif else.\n",
    "age=int(input(\"enter your age\"))\n",
    "if age<18 and age>0:\n",
    "    print(\"Go to school\")\n",
    "elif age>=18 and age<=60:\n",
    "    print(\"cast your vote\")\n",
    "elif age>60 and age<=120:\n",
    "    print(\"take rest\")\n",
    "else:\n",
    "    print(\"kindly insert a valid age\")"
   ]
  },
  {
   "cell_type": "code",
   "execution_count": 13,
   "metadata": {},
   "outputs": [
    {
     "name": "stdout",
     "output_type": "stream",
     "text": [
      "Go to school\n",
      "I will give you bike heavy duty\n"
     ]
    }
   ],
   "source": [
    "# nested if elif else.\n",
    "age=int(input(\"enter your age\"))\n",
    "if age<18 and age>0:\n",
    "    print(\"Go to school\")\n",
    "    if age>0 and age<=5:\n",
    "        print(\"i will give you chocolate\")\n",
    "    elif age>5 and age<=10:\n",
    "        print(\"I will give a toy car\")\n",
    "    elif age>10 and age<18:\n",
    "        print(\"I will give you bike heavy duty\")\n",
    "elif age>=18 and age<=60:\n",
    "    print(\"cast your vote\")\n",
    "elif age>60 and age<=120:\n",
    "    print(\"take rest\")\n",
    "else:\n",
    "    print(\"kindly insert a valid age\")"
   ]
  },
  {
   "cell_type": "code",
   "execution_count": 14,
   "metadata": {},
   "outputs": [
    {
     "name": "stdout",
     "output_type": "stream",
     "text": [
      "Go to school\n",
      "i will give you chocolate\n",
      "I will give you kitkat\n"
     ]
    }
   ],
   "source": [
    "# nested if elif else.\n",
    "age=int(input(\"enter your age\"))\n",
    "if age<18 and age>0:\n",
    "    print(\"Go to school\")\n",
    "    if age>0 and age<=5:\n",
    "        print(\"i will give you chocolate\")\n",
    "        if age==1:\n",
    "            print(\"I will give you munch\")\n",
    "        elif age>=2 and age<=3:\n",
    "            print(\"I will give you kitkat\")\n",
    "        elif age>3 and age<=5:\n",
    "            print(\"I will give you dairy milk\")\n",
    "    elif age>5 and age<=10:\n",
    "        print(\"I will give a toy car\")\n",
    "    elif age>10 and age<18:\n",
    "        print(\"I will give you bike heavy duty\")\n",
    "elif age>=18 and age<=60:\n",
    "    print(\"cast your vote\")\n",
    "elif age>60 and age<=120:\n",
    "    print(\"take rest\")\n",
    "else:\n",
    "    print(\"kindly insert a valid age\")"
   ]
  },
  {
   "cell_type": "code",
   "execution_count": 15,
   "metadata": {},
   "outputs": [
    {
     "name": "stdout",
     "output_type": "stream",
     "text": [
      "kindly insert a valid age\n"
     ]
    }
   ],
   "source": [
    "# nested if elif else.\n",
    "age=int(input(\"enter your age\"))\n",
    "if age<18 and age>0:\n",
    "    print(\"Go to school\")\n",
    "    if age>0 and age<=5:\n",
    "        print(\"i will give you chocolate\")\n",
    "        if age==1:\n",
    "            print(\"I will give you munch\")\n",
    "        elif age>=2 and age<=3:\n",
    "            print(\"I will give you kitkat\")\n",
    "        elif age>3 and age<=5:\n",
    "            print(\"I will give you dairy milk\")\n",
    "    elif age>5 and age<=10:\n",
    "        print(\"I will give a toy car\")\n",
    "    elif age>10 and age<18:\n",
    "        print(\"I will give you bike heavy duty\")\n",
    "elif age>=18 and age<=60:\n",
    "    print(\"cast your vote\")\n",
    "elif age>60 and age<=120:\n",
    "    print(\"take rest\")\n",
    "else:\n",
    "    print(\"kindly insert a valid age\")"
   ]
  },
  {
   "cell_type": "code",
   "execution_count": 16,
   "metadata": {},
   "outputs": [],
   "source": [
    "# nested if else."
   ]
  },
  {
   "cell_type": "code",
   "execution_count": 17,
   "metadata": {},
   "outputs": [
    {
     "name": "stdout",
     "output_type": "stream",
     "text": [
      "you should go for education\n"
     ]
    }
   ],
   "source": [
    "age=int(input(\"Inter you age\"))\n",
    "if age>=3 and age<25:\n",
    "    print(\"you should go for education\")\n",
    "else:\n",
    "    print(\"you should go to work\")"
   ]
  },
  {
   "cell_type": "code",
   "execution_count": 18,
   "metadata": {},
   "outputs": [
    {
     "name": "stdout",
     "output_type": "stream",
     "text": [
      "you should go to work\n"
     ]
    }
   ],
   "source": [
    "age=int(input(\"Inter you age\"))\n",
    "if age>=3 and age<25:\n",
    "    print(\"you should go for education\")\n",
    "else:\n",
    "    print(\"you should go to work\")"
   ]
  },
  {
   "cell_type": "code",
   "execution_count": 19,
   "metadata": {},
   "outputs": [
    {
     "name": "stdout",
     "output_type": "stream",
     "text": [
      "you should go for education\n",
      "go to college\n"
     ]
    }
   ],
   "source": [
    "age=int(input(\"Inter you age\"))\n",
    "if age>=3 and age<25:\n",
    "    print(\"you should go for education\")\n",
    "    if age>=3 and age<=15:\n",
    "        print(\"you should go to school\")\n",
    "    else:\n",
    "        if age>15 and age<=17:\n",
    "            print(\"go to senior secondary school\")\n",
    "        else:\n",
    "            print(\"go to college\")\n",
    "else:\n",
    "    print(\"you should go to work\")"
   ]
  },
  {
   "cell_type": "code",
   "execution_count": 1,
   "metadata": {},
   "outputs": [],
   "source": [
    "# ternary operator"
   ]
  },
  {
   "cell_type": "code",
   "execution_count": 2,
   "metadata": {},
   "outputs": [
    {
     "name": "stdout",
     "output_type": "stream",
     "text": [
      "hello\n"
     ]
    }
   ],
   "source": [
    "if 2>1:\n",
    "    print(\"hello\")\n",
    "else:\n",
    "    print(\"bye\")"
   ]
  },
  {
   "cell_type": "code",
   "execution_count": 3,
   "metadata": {},
   "outputs": [
    {
     "name": "stdout",
     "output_type": "stream",
     "text": [
      "hello\n"
     ]
    }
   ],
   "source": [
    "print(\"hello\") if 2>1 else print(\"bye\")"
   ]
  },
  {
   "cell_type": "code",
   "execution_count": 4,
   "metadata": {},
   "outputs": [
    {
     "name": "stdout",
     "output_type": "stream",
     "text": [
      "you should go for education\n"
     ]
    }
   ],
   "source": [
    "age=int(input(\"Inter you age\"))\n",
    "if age>=3 and age<25:\n",
    "    print(\"you should go for education\")\n",
    "else:\n",
    "    print(\"you should go to work\")"
   ]
  },
  {
   "cell_type": "code",
   "execution_count": 5,
   "metadata": {},
   "outputs": [
    {
     "ename": "SyntaxError",
     "evalue": "invalid syntax (1914427958.py, line 1)",
     "output_type": "error",
     "traceback": [
      "\u001b[1;36m  Cell \u001b[1;32mIn[5], line 1\u001b[1;36m\u001b[0m\n\u001b[1;33m    print(\"you should go for education\") if age>=3 and age<25 else print(\"you should go to work\") age=int(input(\"Inter you age\"))\u001b[0m\n\u001b[1;37m                                                                                                  ^\u001b[0m\n\u001b[1;31mSyntaxError\u001b[0m\u001b[1;31m:\u001b[0m invalid syntax\n"
     ]
    }
   ],
   "source": [
    "print(\"you should go for education\") if age>=3 and age<25 else print(\"you should go to work\") age=int(input(\"Inter you age\"))"
   ]
  },
  {
   "cell_type": "code",
   "execution_count": 6,
   "metadata": {},
   "outputs": [
    {
     "name": "stdout",
     "output_type": "stream",
     "text": [
      "hello\n"
     ]
    }
   ],
   "source": [
    "if 2==2:\n",
    "    if 2>1:\n",
    "        print(\"hello\")\n",
    "    else:\n",
    "        print(\"bye\")\n",
    "else:\n",
    "     print(\"nothing\")"
   ]
  },
  {
   "cell_type": "code",
   "execution_count": 7,
   "metadata": {},
   "outputs": [
    {
     "name": "stdout",
     "output_type": "stream",
     "text": [
      "hello\n"
     ]
    }
   ],
   "source": [
    "print(\"hello\") if 2>1 else print(\"bye\") if 2==2 else print(\"nothing\")"
   ]
  },
  {
   "cell_type": "code",
   "execution_count": 8,
   "metadata": {},
   "outputs": [
    {
     "name": "stdout",
     "output_type": "stream",
     "text": [
      "bye\n"
     ]
    }
   ],
   "source": [
    "if 2==2:\n",
    "   if 2<1:\n",
    "       print(\"hello\")\n",
    "   else:\n",
    "       print(\"bye\")\n",
    "else:\n",
    "    print(\"nothing\")"
   ]
  },
  {
   "cell_type": "code",
   "execution_count": 9,
   "metadata": {},
   "outputs": [
    {
     "name": "stdout",
     "output_type": "stream",
     "text": [
      "bye\n"
     ]
    }
   ],
   "source": [
    "print(\"hello\") if 2<1 else print(\"bye\") if 2==2 else print(\"nothing\")"
   ]
  },
  {
   "cell_type": "code",
   "execution_count": 10,
   "metadata": {},
   "outputs": [
    {
     "name": "stdout",
     "output_type": "stream",
     "text": [
      "nothing\n"
     ]
    }
   ],
   "source": [
    "if 2!=2:\n",
    "   if 2>1:\n",
    "       print(\"hello\")\n",
    "   else:\n",
    "       print(\"bye\")\n",
    "else:\n",
    "    print(\"nothing\")"
   ]
  },
  {
   "cell_type": "code",
   "execution_count": 13,
   "metadata": {},
   "outputs": [
    {
     "name": "stdout",
     "output_type": "stream",
     "text": [
      "nothing\n"
     ]
    }
   ],
   "source": [
    "(print(\"hello\") if 2>1 else print(\"bye\")) if 2!=2 else print(\"nothing\")"
   ]
  },
  {
   "cell_type": "code",
   "execution_count": 14,
   "metadata": {},
   "outputs": [
    {
     "name": "stdout",
     "output_type": "stream",
     "text": [
      "hello\n"
     ]
    }
   ],
   "source": [
    "if 10<11:\n",
    "    if 2==2:\n",
    "        if 2>1:\n",
    "            print(\"hello\")\n",
    "        else:\n",
    "            print(\"bye\")\n",
    "    else:\n",
    "        print(\"nothing\")\n",
    "else:\n",
    "    print(\"10 is greater\")"
   ]
  },
  {
   "cell_type": "code",
   "execution_count": 15,
   "metadata": {},
   "outputs": [
    {
     "name": "stdout",
     "output_type": "stream",
     "text": [
      "hello\n"
     ]
    }
   ],
   "source": [
    "(print(\"hello\") if 2>1 else print(\"bye\")) if 2==2 else print(\"nothing\") if 10<11 else print(\"10 is greater\")"
   ]
  },
  {
   "cell_type": "code",
   "execution_count": 16,
   "metadata": {},
   "outputs": [
    {
     "name": "stdout",
     "output_type": "stream",
     "text": [
      "10 is greater\n"
     ]
    }
   ],
   "source": [
    "if 10>11:\n",
    "    if 2==2:\n",
    "        if 2>1:\n",
    "            print(\"hello\")\n",
    "        else:\n",
    "            print(\"bye\")\n",
    "    else:\n",
    "        print(\"nothing\")\n",
    "else:\n",
    "    print(\"10 is greater\")"
   ]
  },
  {
   "cell_type": "code",
   "execution_count": 18,
   "metadata": {},
   "outputs": [
    {
     "name": "stdout",
     "output_type": "stream",
     "text": [
      "10 is greater\n"
     ]
    }
   ],
   "source": [
    "((print(\"hello\") if 2>1 else print(\"bye\")) if 2==2 else print(\"nothing\")) if 10>11 else print(\"10 is greater\")"
   ]
  },
  {
   "cell_type": "code",
   "execution_count": 1,
   "metadata": {},
   "outputs": [
    {
     "name": "stdout",
     "output_type": "stream",
     "text": [
      "2000\n"
     ]
    }
   ],
   "source": [
    "# write a program to calculate the electricity bill (accept number of unit from user) according to the following\n",
    "# criteria:\n",
    "#     unit                          price\n",
    "# first 100 units              no charge\n",
    "# next 100 units               rs 5 per unit \n",
    "# after 200 units              rs 10 per unit.\n",
    "# (for example if input unit is 350 than total bill amount is rs 2000).\n",
    "amt=0\n",
    "bill=int(input(\"enter a electri bill\"))\n",
    "if (bill>0 and bill==100):\n",
    "     amt=0\n",
    "     print(amt)\n",
    "if (bill>100 and bill==200):\n",
    "     amt=(bill-100)*5\n",
    "     print(amt)\n",
    "if (bill>200):\n",
    "     amt=100*5+(bill-200)*10\n",
    "     print(amt)"
   ]
  }
 ],
 "metadata": {
  "kernelspec": {
   "display_name": "Python 3",
   "language": "python",
   "name": "python3"
  },
  "language_info": {
   "codemirror_mode": {
    "name": "ipython",
    "version": 3
   },
   "file_extension": ".py",
   "mimetype": "text/x-python",
   "name": "python",
   "nbconvert_exporter": "python",
   "pygments_lexer": "ipython3",
   "version": "3.11.3"
  },
  "orig_nbformat": 4
 },
 "nbformat": 4,
 "nbformat_minor": 2
}
