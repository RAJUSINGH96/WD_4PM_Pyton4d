{
 "cells": [
  {
   "cell_type": "code",
   "execution_count": 1,
   "metadata": {},
   "outputs": [],
   "source": [
    "import re"
   ]
  },
  {
   "cell_type": "code",
   "execution_count": 2,
   "metadata": {},
   "outputs": [
    {
     "name": "stdout",
     "output_type": "stream",
     "text": [
      "match\n"
     ]
    }
   ],
   "source": [
    "# 1. Write a Python program to check that a string contains only a certain set of characters \n",
    "# (in this case a-z, A-Z and 0-9). \n",
    "num=input(\"enter value:\")\n",
    "text=re.findall(\"[a-zA-Z0-9]\",num)\n",
    "if (text==None):\n",
    "    print(\"not match\")\n",
    "else:\n",
    "    print(\"match\")"
   ]
  },
  {
   "cell_type": "code",
   "execution_count": 3,
   "metadata": {},
   "outputs": [
    {
     "data": {
      "text/plain": [
       "'jdfjvndserdkmcfdjfdjeicnsj1282n3b45h5bdsj344u4'"
      ]
     },
     "execution_count": 3,
     "metadata": {},
     "output_type": "execute_result"
    }
   ],
   "source": [
    "num"
   ]
  },
  {
   "cell_type": "code",
   "execution_count": 4,
   "metadata": {},
   "outputs": [
    {
     "name": "stdout",
     "output_type": "stream",
     "text": [
      "[' b']\n"
     ]
    }
   ],
   "source": [
    "# 2. Write a Python program that matches a string that has an a followed by zero or more b's. \n",
    "text=\"\"\"python was first released in 1991 by Guido VAN Rossum.\n",
    "i study python in funny manner.\n",
    "bye \n",
    "i10.\n",
    "\"\"\"\n",
    "list_match=re.findall(\".b\",text)\n",
    "print(list_match)"
   ]
  },
  {
   "cell_type": "code",
   "execution_count": 7,
   "metadata": {},
   "outputs": [
    {
     "name": "stdout",
     "output_type": "stream",
     "text": [
      "['kbbbb', 'xb', 'sbbb', 'sbb']\n"
     ]
    }
   ],
   "source": [
    "# 3. Write a Python program that matches a string that has an a followed by one or more b's. \n",
    "text=\"\"\"kcdjkdm sjkdc skbbbbsc jksjsn\n",
    "sjkdjk\n",
    "xisjcjks\n",
    "bxjsxbdsbbbsbb.\n",
    "\"\"\"\n",
    "list_match=re.findall(\"[a-z][b]+\",text)\n",
    "print(list_match)"
   ]
  },
  {
   "cell_type": "code",
   "execution_count": 9,
   "metadata": {},
   "outputs": [
    {
     "name": "stdout",
     "output_type": "stream",
     "text": [
      "['k', 'c', 'd', 'j', 'k', 'd', 'm', 's', 'j', 'k', 'd', 'c', 's', 'kb', 'bb', 'b', 's', 'c', 'j', 'k', 's', 'j', 's', 'n', 's', 'j', 'k', 'd', 'j', 'k', 'x', 'i', 's', 'j', 'c', 'j', 'k', 's', 'b', 'x', 'j', 's', 'xb', 'd', 'sb', 'bb', 'sb', 'b']\n"
     ]
    }
   ],
   "source": [
    "# 4. Write a Python program that matches a string that has an a followed by zero or one 'b'. \n",
    "text=\"\"\"kcdjkdm sjkdc skbbbbsc jksjsn\n",
    "sjkdjk\n",
    "xisjcjks\n",
    "bxjsxbdsbbbsbb.\n",
    "\"\"\"\n",
    "list_match=re.findall(\"[a-z][b]?\",text)\n",
    "print(list_match)"
   ]
  },
  {
   "cell_type": "code",
   "execution_count": 10,
   "metadata": {},
   "outputs": [
    {
     "name": "stdout",
     "output_type": "stream",
     "text": [
      "['kbbb', 'sbbb']\n"
     ]
    }
   ],
   "source": [
    "# 5. Write a Python program that matches a string that has an a followed by three 'b'. \n",
    "text=\"\"\"kcdjkdm sjkdc skbbbbsc jksjsn\n",
    "sjkdjk\n",
    "xisjcjks\n",
    "bxjsxbdsbbbsbb.\n",
    "\"\"\"\n",
    "list_match=re.findall(\"[a-z][b]{3}\",text)\n",
    "print(list_match)"
   ]
  },
  {
   "cell_type": "code",
   "execution_count": 12,
   "metadata": {},
   "outputs": [
    {
     "name": "stdout",
     "output_type": "stream",
     "text": [
      "['kbbb', 'sbbb', 'sbb']\n"
     ]
    }
   ],
   "source": [
    "# 6. Write a Python program that matches a string that has an a followed by two to three 'b'. \n",
    "text=\"\"\"kcdjkdm sjkdc skbbbbsc jksjsn\n",
    "sjkdjk\n",
    "xisjcjks\n",
    "bxjsxbdsbbbsbb.\n",
    "\"\"\"\n",
    "list_match=re.findall(\"[a-z][b]{2,3}\",text)\n",
    "print(list_match)"
   ]
  },
  {
   "cell_type": "code",
   "execution_count": null,
   "metadata": {},
   "outputs": [],
   "source": [
    "# 7. Write a Python program to find sequences of lowercase letters joined with an underscore. "
   ]
  },
  {
   "cell_type": "code",
   "execution_count": 13,
   "metadata": {},
   "outputs": [
    {
     "name": "stdout",
     "output_type": "stream",
     "text": [
      "['Kcdjkdm', 'Skbbbbsc', 'Jsn', 'Ejkdjk', 'Xisjcjks', 'Bxjsxbdsbbbsbb']\n"
     ]
    }
   ],
   "source": [
    "# 8. Write a Python program to find the sequences of one upper case letter followed by lower case letters. \n",
    "text=\"\"\"Kcdjkdm sjkdc Skbbbbsc jksJsn\n",
    "Ejkdjk\n",
    "Xisjcjks\n",
    "Bxjsxbdsbbbsbb.\n",
    "\"\"\"\n",
    "list_match=re.findall(\"[A-Z][a-z]+\",text)\n",
    "print(list_match)"
   ]
  },
  {
   "cell_type": "code",
   "execution_count": 23,
   "metadata": {},
   "outputs": [
    {
     "name": "stdout",
     "output_type": "stream",
     "text": [
      "['adjkdm sjkdc Skbbbb', 'ajcjksb', 'axjsxbdsbbbsbb']\n"
     ]
    }
   ],
   "source": [
    "# 9. Write a Python program that matches a string that has an 'a' followed by anything, ending in 'b'. \n",
    "text=\"\"\"Kcadjkdm sjkdc Skbbbbsc jkasJsn\n",
    "Ejakdjk\n",
    "Xisajcjksb\n",
    "Baxjsxbdsbbbsbb.\n",
    "\"\"\"\n",
    "list_match=re.findall(\"a.+b\",text)\n",
    "print(list_match)"
   ]
  },
  {
   "cell_type": "code",
   "execution_count": 20,
   "metadata": {},
   "outputs": [
    {
     "name": "stdout",
     "output_type": "stream",
     "text": [
      "None\n"
     ]
    }
   ],
   "source": [
    "# 10. Write a Python program that matches a word at the beginning of a string. \n",
    "text=\"\"\"Kcadjkdm sjkdc aSakbbbbsc jksJsn\n",
    "Exjsxbdsbbbsbb.\n",
    "\"\"\"\n",
    "list_match=re.match(\"a.\",text)\n",
    "print(list_match)"
   ]
  },
  {
   "cell_type": "code",
   "execution_count": 2,
   "metadata": {},
   "outputs": [],
   "source": [
    "import re"
   ]
  },
  {
   "cell_type": "code",
   "execution_count": 3,
   "metadata": {},
   "outputs": [
    {
     "name": "stdout",
     "output_type": "stream",
     "text": [
      "<re.Match object; span=(92, 96), match='i10.'>\n"
     ]
    }
   ],
   "source": [
    "# 11. Write a Python program that matches a word at the end of string, with optional punctuation. \n",
    "text=\"\"\"python was first released in 1991 by Guido VAN Rossum.\n",
    "i study python in funny manner.\n",
    "bye \n",
    "i10.\n",
    "\"\"\"\n",
    "list_match=re.search(\"\\w+\\S*$\",text)\n",
    "print(list_match)"
   ]
  },
  {
   "cell_type": "code",
   "execution_count": 25,
   "metadata": {},
   "outputs": [
    {
     "name": "stdout",
     "output_type": "stream",
     "text": [
      "['cdjkzdm', 'sjkzdc', 'kbzbbbsc', 'isjcjzks']\n"
     ]
    }
   ],
   "source": [
    "# 12. Write a Python program that matches a word containing 'z'. \n",
    "text=\"\"\"Kcdjkzdm sjkzdc Skbzbbbsc jksJsn\n",
    "Ejkdjk\n",
    "Xisjcjzks\n",
    "Bxjsxbdsbbbsbb.\n",
    "\"\"\"\n",
    "list_match=re.findall(\"[a-z]*z[a-z]*\",text)\n",
    "print(list_match)"
   ]
  },
  {
   "cell_type": "code",
   "execution_count": 5,
   "metadata": {},
   "outputs": [
    {
     "name": "stdout",
     "output_type": "stream",
     "text": [
      "['cdjkzdm', 'sjkzdc', 'kbzbbbsc', 'jks', 'sn', 'jkdjk', 'isjcjzks', 'xjsxbdsbbbsbb']\n"
     ]
    }
   ],
   "source": [
    "# 13. Write a Python program that matches a word containing 'z', not at the start or end of the word. \n",
    "text=\"\"\"Kcdjkzdm sjkzdc Skbzbbbsc zjksJsn\n",
    "Ejkdjk\n",
    "Xisjcjzks\n",
    "Bxjsxbdsbbbsbbz.\n",
    "\"\"\"\n",
    "list_match=re.findall(\"[a-y]+z*[a-y]+\",text)\n",
    "print(list_match)"
   ]
  },
  {
   "cell_type": "code",
   "execution_count": 29,
   "metadata": {},
   "outputs": [
    {
     "name": "stdout",
     "output_type": "stream",
     "text": [
      "['Kcdjkzdm', 'sjkzdc', 'Skbzbbbsc', 'jksJsn', 'Ejkdjk', 'Xisjcjzks', 'Bxjsxbdsbbbsbb']\n"
     ]
    }
   ],
   "source": [
    "# 14. Write a Python program to match a string that contains only upper \n",
    "# and lowercase letters, numbers, and underscores. \n",
    "text=\"\"\"Kcdjkzdm sjkzdc Skbzbbbsc jksJsn\n",
    "Ejkdjk\n",
    "Xisjcjzks\n",
    "Bxjsxbdsbbbsbb.\n",
    "\"\"\"\n",
    "list_match=re.findall(\"[a-zA-Z0-9_]+\",text)\n",
    "print(list_match)"
   ]
  },
  {
   "cell_type": "code",
   "execution_count": 33,
   "metadata": {},
   "outputs": [
    {
     "name": "stdout",
     "output_type": "stream",
     "text": [
      "<re.Match object; span=(0, 2), match='Kc'>\n"
     ]
    }
   ],
   "source": [
    "# 15. Write a Python program where a string will start with a specific number.\n",
    "text=\"\"\"Kcdjkzdm sjkzdc Skbzbbbsc jksJsn\n",
    "Ejkdjk\n",
    "Xisjcjzks\n",
    "Bxjsxbdsbbbsbb.\n",
    "\"\"\"\n",
    "list_match=re.match(\"K.\",text)\n",
    "print(list_match)"
   ]
  },
  {
   "cell_type": "code",
   "execution_count": 6,
   "metadata": {},
   "outputs": [
    {
     "data": {
      "text/plain": [
       "'245:24:32e:9424:2da:255:a74c:c725'"
      ]
     },
     "execution_count": 6,
     "metadata": {},
     "output_type": "execute_result"
    }
   ],
   "source": [
    "# 16. Write a Python program to remove leading zeros from an IP address. \n",
    "text=\"02405:204:302e:9424:20da:2505:a74c:c725\"\n",
    "text.replace(\"0\",\"\")"
   ]
  },
  {
   "cell_type": "code",
   "execution_count": 34,
   "metadata": {},
   "outputs": [
    {
     "name": "stdout",
     "output_type": "stream",
     "text": [
      "valid\n"
     ]
    }
   ],
   "source": [
    "# 17. Write a Python program to check for a number at the end of a string. \n",
    "num=input(\"enter str:\")\n",
    "match=re.fullmatch(\"\\w*\\d\",num)\n",
    "# match=re.match(\"\\w\\d$\",num)\n",
    "if (match==None):\n",
    "    print(\"invalid\")\n",
    "else:\n",
    "    print(\"valid\")"
   ]
  },
  {
   "cell_type": "code",
   "execution_count": 35,
   "metadata": {},
   "outputs": [
    {
     "data": {
      "text/plain": [
       "'bxcchgxdhxbu2536237632jdcnm4'"
      ]
     },
     "execution_count": 35,
     "metadata": {},
     "output_type": "execute_result"
    }
   ],
   "source": [
    "num"
   ]
  },
  {
   "cell_type": "code",
   "execution_count": 7,
   "metadata": {},
   "outputs": [
    {
     "name": "stdout",
     "output_type": "stream",
     "text": [
      "<re.Match object; span=(0, 3), match='024'>\n"
     ]
    }
   ],
   "source": [
    "# 18. Write a Python program to search the numbers (0-9) of length between 1 to 3 in a given string. \n",
    "# \"Exercises number 1, 12, 13, and 345 are important\"\n",
    "num=[1,12,13,14,134,2345,345,904390,123,2903]\n",
    "print(re.search(\"[0-9]{1,3}\",text))"
   ]
  },
  {
   "cell_type": "code",
   "execution_count": 4,
   "metadata": {},
   "outputs": [
    {
     "name": "stdout",
     "output_type": "stream",
     "text": [
      "['The', 'quick', 'brown', 'fox', 'jumps', 'over', 'the', 'lazy', 'dog.']\n",
      "The\n",
      "quick\n",
      "brown\n",
      "fox\n",
      "jumps\n",
      "over\n",
      "the\n",
      "lazy\n",
      "dog.\n"
     ]
    }
   ],
   "source": [
    "# 19. Write a Python program to search some literals strings in a string. \n",
    "# Sample text : 'The quick brown fox jumps over the lazy dog.'\n",
    "# Searched words : 'fox', 'dog', 'horse'\n",
    "text='The quick brown fox jumps over the lazy dog.'\n",
    "t=text.split()\n",
    "print(t)\n",
    "for i in t:\n",
    "    print(i)"
   ]
  },
  {
   "cell_type": "code",
   "execution_count": null,
   "metadata": {},
   "outputs": [],
   "source": [
    "# 20. Write a Python program to search a literals string in a string and also find the location within the \n",
    "# original string where the pattern occurs. \n",
    "# Sample text : 'The quick brown fox jumps over the lazy dog.'\n",
    "# Searched words : 'fox'\n"
   ]
  },
  {
   "cell_type": "code",
   "execution_count": null,
   "metadata": {},
   "outputs": [],
   "source": [
    "# 21. Write a Python program to find the substrings within a string. \n",
    "# Sample text :\n",
    "# 'Python exercises, PHP exercises, C# exercises'\n",
    "# Pattern :\n",
    "# 'exercises'\n",
    "# Note: There are two instances of exercises in the input string."
   ]
  },
  {
   "cell_type": "code",
   "execution_count": null,
   "metadata": {},
   "outputs": [],
   "source": [
    "# 22. Write a Python program to find the occurrence and position of the substrings within a string. \n"
   ]
  },
  {
   "cell_type": "code",
   "execution_count": null,
   "metadata": {},
   "outputs": [],
   "source": [
    "# 23. Write a Python program to replace whitespaces with an underscore and vice versa. "
   ]
  },
  {
   "cell_type": "code",
   "execution_count": null,
   "metadata": {},
   "outputs": [],
   "source": [
    "# 24. Write a Python program to extract year, month and date from anurl. "
   ]
  },
  {
   "cell_type": "code",
   "execution_count": null,
   "metadata": {},
   "outputs": [],
   "source": [
    "# 25. Write a Python program to convert a date of yyyy-mm-dd format to dd-mm-yyyy format. "
   ]
  },
  {
   "cell_type": "code",
   "execution_count": 2,
   "metadata": {},
   "outputs": [],
   "source": [
    "import re"
   ]
  },
  {
   "cell_type": "code",
   "execution_count": 3,
   "metadata": {},
   "outputs": [
    {
     "name": "stdout",
     "output_type": "stream",
     "text": [
      "['python', 'python']\n"
     ]
    }
   ],
   "source": [
    "# 26. Write a Python program to match if two words from a list of words starting with letter 'P'. \n",
    "text=\"\"\"python was first released in 1991 by Guido VAN Rossum.\n",
    "i study python in funny manner.\n",
    "bye \n",
    "i10.\n",
    "\"\"\"\n",
    "list_match=re.findall(\"p[a-z]+\",text)\n",
    "print(list_match)"
   ]
  },
  {
   "cell_type": "code",
   "execution_count": 5,
   "metadata": {},
   "outputs": [
    {
     "name": "stdout",
     "output_type": "stream",
     "text": [
      "\n",
      "5\n",
      "9\n",
      "10\n"
     ]
    }
   ],
   "source": [
    "# 27. Write a Python program to separate and print the numbers of a given string. \n",
    "text=\"five 5 nine 9 ten 10\"\n",
    "result=re.split(\"\\D+\",text)\n",
    "for r in result:\n",
    "    print(r)"
   ]
  },
  {
   "cell_type": "code",
   "execution_count": 6,
   "metadata": {},
   "outputs": [
    {
     "name": "stdout",
     "output_type": "stream",
     "text": [
      "['as', 'areleased', 'estudy', 'afunny', 'anner', 'ebye']\n"
     ]
    }
   ],
   "source": [
    "# 28. Write a Python program to find all words starting with 'a' or 'e' in a given string. \n",
    "text=\"\"\"python was first areleased in 1991 by Guido VAN Rossum.\n",
    "i estudy python in afunny manner.\n",
    "ebye \n",
    "i10.\n",
    "\"\"\"\n",
    "list_match=re.findall(\"[ae][a-z]+\",text)\n",
    "print(list_match)"
   ]
  },
  {
   "cell_type": "code",
   "execution_count": null,
   "metadata": {},
   "outputs": [],
   "source": [
    "import re\n",
    "# Input.\n",
    "text = \"The following example creates an ArrayList with a capacity of 50 elements. Four elements are then added to the ArrayList and the ArrayList is trimmed accordingly.\"\n",
    "\n",
    "for m in re.finditer(\"\\d+\", text):\n",
    "    print(m.group(0))\n",
    "    print(\"Index position:\", m.start())\n",
    "\t"
   ]
  },
  {
   "cell_type": "code",
   "execution_count": 20,
   "metadata": {},
   "outputs": [
    {
     "name": "stdout",
     "output_type": "stream",
     "text": [
      "1991\n",
      "Index position: 30\n",
      "10\n",
      "Index position: 97\n"
     ]
    }
   ],
   "source": [
    "# 29. Write a Python program to separate and print the numbers and their position of a given string. \n",
    "text=\"\"\"python was first areleased in 1991 by Guido VAN Rossum.\n",
    "i estudy python in afunny manner.\n",
    "ebye \n",
    "i10.\n",
    "\"\"\"\n",
    "list_match=re.finditer(\"\\d+\",text)\n",
    "for i in re.finditer(\"\\d+\",text):\n",
    "    print(i.group(0))\n",
    "    print(\"Index position:\", i.start())"
   ]
  },
  {
   "cell_type": "code",
   "execution_count": 17,
   "metadata": {},
   "outputs": [
    {
     "name": "stdout",
     "output_type": "stream",
     "text": [
      "Rd.\n"
     ]
    }
   ],
   "source": [
    "# 30. Write a Python program to abbreviate 'Road' as 'Rd.' in a given string. \n",
    "text=\"Road\"\n",
    "print(re.sub(\"Road\",\"Rd.\",text))"
   ]
  },
  {
   "cell_type": "code",
   "execution_count": 2,
   "metadata": {},
   "outputs": [],
   "source": [
    "import re"
   ]
  },
  {
   "cell_type": "code",
   "execution_count": 6,
   "metadata": {},
   "outputs": [
    {
     "name": "stdout",
     "output_type": "stream",
     "text": [
      "python:was:first:areleased:in:1991:by:Guido:VAN:Rossum:i:estudy:python:in:afunny:manner:ebye::i10:\n"
     ]
    }
   ],
   "source": [
    "# 31. Write a Python program to replace all occurrences of space, comma, or dot with a colon. \n",
    "text=\"\"\"python was first areleased in 1991 by Guido VAN Rossum.\n",
    "i estudy python in afunny manner.\n",
    "ebye. \n",
    "i10.\n",
    "\"\"\"\n",
    "list_match=re.sub(\"\\s\",\":\",text)\n",
    "list_match=re.sub(\"[.]\",\"\",list_match)\n",
    "print(list_match)"
   ]
  },
  {
   "cell_type": "code",
   "execution_count": 2,
   "metadata": {},
   "outputs": [],
   "source": [
    "import re"
   ]
  },
  {
   "cell_type": "code",
   "execution_count": 3,
   "metadata": {},
   "outputs": [
    {
     "name": "stdout",
     "output_type": "stream",
     "text": [
      "python:was:first areleased in 1991 by Guido VAN Rossum.\n",
      "i estudy python in afunny manner.\n",
      "ebye. \n",
      "i10.\n",
      "\n"
     ]
    }
   ],
   "source": [
    "# 32. Write a Python program to replace maximum 2 occurrences of space, comma, or dot with a colon.\n",
    "text=\"\"\"python was first areleased in 1991 by Guido VAN Rossum.\n",
    "i estudy python in afunny manner.\n",
    "ebye. \n",
    "i10.\n",
    "\"\"\"\n",
    "print(re.sub(\"[ ,.]\", \":\", text, 2))"
   ]
  },
  {
   "cell_type": "code",
   "execution_count": 10,
   "metadata": {},
   "outputs": [
    {
     "name": "stdout",
     "output_type": "stream",
     "text": [
      "['python', 'first', 'areleased', 'Guido', 'Rossum', 'estudy', 'python', 'afunny', 'manner']\n"
     ]
    }
   ],
   "source": [
    "# 33. Write a Python program to find all five characters long word in a string. \n",
    "text=\"\"\"python was first areleased in 1991 by Guido VAN Rossum.\n",
    "i estudy python in afunny manner.\n",
    "ebye. \n",
    "i10.\n",
    "\"\"\"\n",
    "print(re.findall(\"[a-z]{5,10}\",text,re.I))"
   ]
  },
  {
   "cell_type": "code",
   "execution_count": 11,
   "metadata": {},
   "outputs": [
    {
     "name": "stdout",
     "output_type": "stream",
     "text": [
      "['python', 'was', 'first', 'areleased', 'Guido', 'VAN', 'Rossum', 'estudy', 'python', 'afunny', 'manner', 'ebye']\n"
     ]
    }
   ],
   "source": [
    "# 34. Write a Python program to find all three, four, five characters long words in a string. \n",
    "text=\"\"\"python was first areleased in 1991 by Guido VAN Rossum.\n",
    "i estudy python in afunny manner.\n",
    "ebye. \n",
    "i10.\n",
    "\"\"\"\n",
    "print(re.findall(\"[a-z]{3,10}\",text,re.I))"
   ]
  },
  {
   "cell_type": "code",
   "execution_count": 12,
   "metadata": {},
   "outputs": [
    {
     "name": "stdout",
     "output_type": "stream",
     "text": [
      "['python', 'first', 'areleased', 'Guido', 'Rossum', 'estudy', 'python', 'afunny', 'manner', 'ebye']\n"
     ]
    }
   ],
   "source": [
    "# 35. Write a Python program to find all words which are at least 4 characters long in a string. \n",
    "text=\"\"\"python was first areleased in 1991 by Guido VAN Rossum.\n",
    "i estudy python in afunny manner.\n",
    "ebye. \n",
    "i10.\n",
    "\"\"\"\n",
    "print(re.findall(\"[a-z]{4,10}\",text,re.I))"
   ]
  },
  {
   "cell_type": "code",
   "execution_count": 13,
   "metadata": {},
   "outputs": [
    {
     "name": "stdout",
     "output_type": "stream",
     "text": [
      "python_exercises\n"
     ]
    }
   ],
   "source": [
    "# 36. Write a python program to convert camel case string to snake case string.\n",
    "def camel_to_snake(text):\n",
    "        import re\n",
    "        str1 = re.sub('(.)([A-Z][a-z]+)', r'\\1_\\2', text)\n",
    "        return re.sub('([a-z0-9])([A-Z])', r'\\1_\\2', str1).lower()\n",
    "print(camel_to_snake('PythonExercises'))"
   ]
  },
  {
   "cell_type": "code",
   "execution_count": 14,
   "metadata": {},
   "outputs": [
    {
     "name": "stdout",
     "output_type": "stream",
     "text": [
      "PythonExercises\n"
     ]
    }
   ],
   "source": [
    "# 37. Write a python program to convert snake case string to camel case string. \n",
    "def snake_to_camel(word):\n",
    "        import re\n",
    "        return ''.join(x.capitalize() or '_' for x in word.split('_'))\n",
    "\n",
    "print(snake_to_camel('python_exercises'))\n"
   ]
  },
  {
   "cell_type": "code",
   "execution_count": null,
   "metadata": {},
   "outputs": [],
   "source": [
    "# 38. Write a Python program to extract values between quotation marks of a string.\n"
   ]
  },
  {
   "cell_type": "code",
   "execution_count": 15,
   "metadata": {},
   "outputs": [
    {
     "name": "stdout",
     "output_type": "stream",
     "text": [
      "pythonwasfirstareleasedin1991byGuidoVANRossum.\n",
      "iestudypythoninafunnymanner.\n",
      "ebye.\n",
      "i10.\n",
      "\n"
     ]
    }
   ],
   "source": [
    "# 39. Write a Python program to remove multiple spaces in a string. \n",
    "text=\"\"\"python was first areleased in 1991 by Guido VAN Rossum.\n",
    "i estudy python in afunny manner.\n",
    "ebye. \n",
    "i10.\n",
    "\"\"\"\n",
    "print(re.sub(\" \",\"\",text))"
   ]
  },
  {
   "cell_type": "code",
   "execution_count": 16,
   "metadata": {},
   "outputs": [
    {
     "name": "stdout",
     "output_type": "stream",
     "text": [
      "pythonwasfirstareleasedin1991byGuidoVANRossum.iestudypythoninafunnymanner.ebye.i10.\n"
     ]
    }
   ],
   "source": [
    "# 40. Write a Python program to remove all whitespaces from a string. \n",
    "text=\"\"\"python was first areleased in 1991 by Guido VAN Rossum.\n",
    "i estudy python in afunny manner.\n",
    "ebye. \n",
    "i10.\n",
    "\"\"\"\n",
    "print(re.sub(\"\\s+\",\"\",text))"
   ]
  },
  {
   "cell_type": "code",
   "execution_count": 24,
   "metadata": {},
   "outputs": [
    {
     "name": "stdout",
     "output_type": "stream",
     "text": [
      "pythonwasfirstareleasedinscd1991byGuidoVANRossumiestudypythoninafunnymannerebyei10\n"
     ]
    }
   ],
   "source": [
    "# 41. Write a Python program to remove everything except alphanumeric characters from a string. \n",
    "text=\"\"\"python was first areleased in scd1991 by Guido VAN Rossum.\n",
    "i estudy python in afunny manner.\n",
    "ebye. \n",
    "i10.\n",
    "\"\"\"\n",
    "print(re.sub(\"[\\W]+\",\"\",text))"
   ]
  },
  {
   "cell_type": "code",
   "execution_count": null,
   "metadata": {},
   "outputs": [],
   "source": [
    "# 42. Write a Python program to find urls in a string. \n"
   ]
  },
  {
   "cell_type": "code",
   "execution_count": 28,
   "metadata": {},
   "outputs": [
    {
     "name": "stdout",
     "output_type": "stream",
     "text": [
      "['Guido', 'V', 'A', 'N', 'Rossum']\n"
     ]
    }
   ],
   "source": [
    "# 43. Write a Python program to split a string at uppercase letters. \n",
    "text=\"\"\"python was first areleased in scd1991 by Guido VAN Rossum.\n",
    "i estudy python in afunny manner.\n",
    "ebye. \n",
    "i10.\n",
    "\"\"\"\n",
    "list_match=re.findall(\"[A-Z][a-z]*\",text)\n",
    "print(list_match)"
   ]
  },
  {
   "cell_type": "code",
   "execution_count": null,
   "metadata": {},
   "outputs": [],
   "source": [
    "# 44. Write a Python program to do a case-insensitive string replacement."
   ]
  }
 ],
 "metadata": {
  "kernelspec": {
   "display_name": "Python 3",
   "language": "python",
   "name": "python3"
  },
  "language_info": {
   "codemirror_mode": {
    "name": "ipython",
    "version": 3
   },
   "file_extension": ".py",
   "mimetype": "text/x-python",
   "name": "python",
   "nbconvert_exporter": "python",
   "pygments_lexer": "ipython3",
   "version": "3.11.3"
  },
  "orig_nbformat": 4
 },
 "nbformat": 4,
 "nbformat_minor": 2
}
