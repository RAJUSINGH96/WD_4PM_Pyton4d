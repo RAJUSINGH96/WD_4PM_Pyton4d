{
 "cells": [
  {
   "cell_type": "code",
   "execution_count": 1,
   "metadata": {},
   "outputs": [
    {
     "name": "stdout",
     "output_type": "stream",
     "text": [
      "[10, 20, 30, 40]\n",
      "10\n",
      "20\n",
      "30\n",
      "40\n"
     ]
    }
   ],
   "source": [
    "x=[10,20,30,40]\n",
    "print(x)\n",
    "a,b,c,d=x\n",
    "print(a)\n",
    "print(b)\n",
    "print(c)\n",
    "print(d)"
   ]
  },
  {
   "cell_type": "code",
   "execution_count": 3,
   "metadata": {},
   "outputs": [
    {
     "name": "stdout",
     "output_type": "stream",
     "text": [
      "{1: 'Ram', 2: 'monu', 3: 'Raju'}\n",
      "(1, 'Ram')\n",
      "(2, 'monu')\n",
      "(3, 'Raju')\n"
     ]
    }
   ],
   "source": [
    "x={1:'Ram',2:'monu',3:'Raju'}\n",
    "print(x)\n",
    "a,b,c=x.items()\n",
    "print(a)\n",
    "print(b)\n",
    "print(c)"
   ]
  },
  {
   "cell_type": "code",
   "execution_count": 4,
   "metadata": {},
   "outputs": [
    {
     "name": "stdout",
     "output_type": "stream",
     "text": [
      "10\n",
      "20\n",
      "[30, 40]\n"
     ]
    }
   ],
   "source": [
    "x=[10,20,30,40]\n",
    "a,b,*c=x\n",
    "print(a)\n",
    "print(b)\n",
    "print(c)"
   ]
  },
  {
   "cell_type": "code",
   "execution_count": 5,
   "metadata": {},
   "outputs": [
    {
     "name": "stdout",
     "output_type": "stream",
     "text": [
      "[10, 20]\n",
      "30\n",
      "40\n"
     ]
    }
   ],
   "source": [
    "x=[10,20,30,40]\n",
    "*a,b,c=x\n",
    "print(a)\n",
    "print(b)\n",
    "print(c)"
   ]
  },
  {
   "cell_type": "code",
   "execution_count": 6,
   "metadata": {},
   "outputs": [
    {
     "name": "stdout",
     "output_type": "stream",
     "text": [
      "10\n",
      "[20, 30]\n",
      "40\n"
     ]
    }
   ],
   "source": [
    "x=[10,20,30,40]\n",
    "a,*b,c=x\n",
    "print(a)\n",
    "print(b)\n",
    "print(c)"
   ]
  },
  {
   "cell_type": "code",
   "execution_count": 7,
   "metadata": {},
   "outputs": [
    {
     "name": "stdout",
     "output_type": "stream",
     "text": [
      "10\n",
      "20\n",
      "30\n",
      "40\n"
     ]
    }
   ],
   "source": [
    "x,y,z,a=[10,20,30,40]\n",
    "print(x)\n",
    "print(y)\n",
    "print(z)\n",
    "print(a)"
   ]
  },
  {
   "cell_type": "code",
   "execution_count": 8,
   "metadata": {},
   "outputs": [
    {
     "name": "stdout",
     "output_type": "stream",
     "text": [
      "(1, 10, 200)\n",
      "(2, 20, 100)\n",
      "(3, 30, 300)\n"
     ]
    }
   ],
   "source": [
    "# parallel iteration.\n",
    "x=[1,2,3]\n",
    "y=(10,20,30)\n",
    "z={100,200,300}\n",
    "for i in zip(x,y,z):\n",
    "    print(i)"
   ]
  },
  {
   "cell_type": "code",
   "execution_count": 9,
   "metadata": {},
   "outputs": [
    {
     "name": "stdout",
     "output_type": "stream",
     "text": [
      "1 10 200\n",
      "2 20 100\n",
      "3 30 300\n"
     ]
    }
   ],
   "source": [
    "x=[1,2,3]\n",
    "y=(10,20,30)\n",
    "z={100,200,300}\n",
    "for i,j,k in zip(x,y,z):\n",
    "    print(i,j,k)"
   ]
  },
  {
   "cell_type": "code",
   "execution_count": 10,
   "metadata": {},
   "outputs": [
    {
     "name": "stdout",
     "output_type": "stream",
     "text": [
      "1 10 400\n",
      "2 20 100\n",
      "3 30 500\n"
     ]
    }
   ],
   "source": [
    "x=[1,2,3]         # in this condition zip iterate small length container.\n",
    "y=(10,20,30,40)\n",
    "z={100,200,300,400,500}\n",
    "for i,j,k in zip(x,y,z):\n",
    "    print(i,j,k)"
   ]
  },
  {
   "cell_type": "code",
   "execution_count": 11,
   "metadata": {},
   "outputs": [
    {
     "name": "stdout",
     "output_type": "stream",
     "text": [
      "name is:sonu\n",
      "roll is:1\n",
      "marks is:45\n",
      "name is:Monu\n",
      "roll is:2\n",
      "marks is:67\n",
      "name is:Chintu\n",
      "roll is:3\n",
      "marks is:87\n",
      "name is:pintu\n",
      "roll is:4\n",
      "marks is:58\n"
     ]
    }
   ],
   "source": [
    "Roll=[1,2,3,4]\n",
    "Name=['sonu','Monu','Chintu','pintu']\n",
    "marks=(45,67,87,58)\n",
    "for r,n,m in zip(Roll,Name,marks):\n",
    "    print(f'name is:{n}')\n",
    "    print(f'roll is:{r}')\n",
    "    print(f'marks is:{m}')"
   ]
  },
  {
   "cell_type": "code",
   "execution_count": 12,
   "metadata": {},
   "outputs": [
    {
     "name": "stdout",
     "output_type": "stream",
     "text": [
      "sonu 1 45\n",
      "Monu 2 67\n",
      "Chintu 3 87\n",
      "pintu 4 58\n"
     ]
    }
   ],
   "source": [
    "Roll=[1,2,3,4]\n",
    "Name=['sonu','Monu','Chintu','pintu']\n",
    "marks=(45,67,87,58)\n",
    "for r,n,m in zip(Name,Roll,marks):\n",
    "    print(r,n,m)"
   ]
  },
  {
   "cell_type": "code",
   "execution_count": 13,
   "metadata": {},
   "outputs": [
    {
     "name": "stdout",
     "output_type": "stream",
     "text": [
      "(1, 'x', 6, 5, 9)\n",
      "(2, 'b', 7, 2, 9)\n",
      "(3, 'a', 4, 6, 6)\n",
      "(4, 'c', 8, 5, 8)\n",
      "(5, 'd', 9, 7, 4)\n"
     ]
    }
   ],
   "source": [
    "r=[1,2,3,4,5]\n",
    "n=['x','b','a','c','d']\n",
    "p=[6,7,4,8,9]\n",
    "c=[5,2,6,5,7]\n",
    "m=[9,9,6,8,4]\n",
    "for tup in zip(r,n,p,c,m):\n",
    "    print(tup)"
   ]
  },
  {
   "cell_type": "code",
   "execution_count": 16,
   "metadata": {},
   "outputs": [
    {
     "name": "stdout",
     "output_type": "stream",
     "text": [
      "name is:x\n",
      "roll is:1\n",
      "Avg is:6.67\n",
      "name is:b\n",
      "roll is:2\n",
      "Avg is:6.0\n",
      "name is:a\n",
      "roll is:3\n",
      "Avg is:5.33\n",
      "name is:c\n",
      "roll is:4\n",
      "Avg is:7.0\n",
      "name is:d\n",
      "roll is:5\n",
      "Avg is:6.67\n"
     ]
    }
   ],
   "source": [
    "r=[1,2,3,4,5]\n",
    "n=['x','b','a','c','d']\n",
    "p=[6,7,4,8,9]\n",
    "c=[5,2,6,5,7]\n",
    "m=[9,9,6,8,4]\n",
    "for tup in zip(r,n,p,c,m):\n",
    "    print(f'name is:{tup[1]}')\n",
    "    print(f'roll is:{tup[0]}')\n",
    "    avg=round((tup[2]+tup[3]+tup[4])/3,2)\n",
    "    print(f'Avg is:{avg}')"
   ]
  },
  {
   "cell_type": "code",
   "execution_count": null,
   "metadata": {},
   "outputs": [],
   "source": []
  }
 ],
 "metadata": {
  "kernelspec": {
   "display_name": "Python 3",
   "language": "python",
   "name": "python3"
  },
  "language_info": {
   "codemirror_mode": {
    "name": "ipython",
    "version": 3
   },
   "file_extension": ".py",
   "mimetype": "text/x-python",
   "name": "python",
   "nbconvert_exporter": "python",
   "pygments_lexer": "ipython3",
   "version": "3.11.3"
  },
  "orig_nbformat": 4
 },
 "nbformat": 4,
 "nbformat_minor": 2
}
