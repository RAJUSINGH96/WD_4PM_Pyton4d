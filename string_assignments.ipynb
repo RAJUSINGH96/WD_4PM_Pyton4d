{
 "cells": [
  {
   "cell_type": "code",
   "execution_count": 2,
   "metadata": {},
   "outputs": [
    {
     "name": "stdout",
     "output_type": "stream",
     "text": [
      "10\n"
     ]
    }
   ],
   "source": [
    "# 1. write a  python program to calculate the length of a string without using len().\n",
    "user = str(input(\"enter you phone number:\"))\n",
    "count = 0\n",
    "for i in user:\n",
    "    count+=1\n",
    "print(count)"
   ]
  },
  {
   "cell_type": "code",
   "execution_count": 13,
   "metadata": {},
   "outputs": [
    {
     "name": "stdout",
     "output_type": "stream",
     "text": [
      "nythop\n"
     ]
    }
   ],
   "source": [
    "# 2. write a python program to change a given string to a new string where the first and last charecters \n",
    "# have been exchanged.\n",
    "x=\"python\"\n",
    "print(x[-1]+x[1:5]+x[0])"
   ]
  },
  {
   "cell_type": "code",
   "execution_count": 13,
   "metadata": {},
   "outputs": [
    {
     "name": "stdout",
     "output_type": "stream",
     "text": [
      "pto\n"
     ]
    }
   ],
   "source": [
    "# 3. write a python program to remove the characters which have odd index values of a given string.\n",
    "x=\"python\"\n",
    "print(x[0:6:2])"
   ]
  },
  {
   "cell_type": "code",
   "execution_count": 15,
   "metadata": {},
   "outputs": [
    {
     "name": "stdout",
     "output_type": "stream",
     "text": [
      "4\n"
     ]
    }
   ],
   "source": [
    "# 4. write a python program to count the occurrence of words in a given string.\n",
    "x=(1,2,3,1,1,5,2,3,3,3,5)\n",
    "print(x.count(3))"
   ]
  },
  {
   "cell_type": "code",
   "execution_count": 3,
   "metadata": {},
   "outputs": [
    {
     "name": "stdout",
     "output_type": "stream",
     "text": [
      "india 3\n",
      "is 3\n",
      "bharat 1\n"
     ]
    }
   ],
   "source": [
    "# 4. write a python program to count the occurrence of words in a given string.\n",
    "s=\"india is india is india is bharat\"\n",
    "a=s.split()\n",
    "unique_words=[]\n",
    "for x in a:\n",
    "    if(x in unique_words):\n",
    "        pass\n",
    "    else:\n",
    "        unique_words.append(x)\n",
    "for x in unique_words:\n",
    "    print(x,a.count(x))"
   ]
  },
  {
   "cell_type": "code",
   "execution_count": 2,
   "metadata": {},
   "outputs": [
    {
     "name": "stdout",
     "output_type": "stream",
     "text": [
      "india 3\n",
      "is 3\n",
      "bharat 1\n"
     ]
    }
   ],
   "source": [
    "s=\"india is india is india is bharat\"\n",
    "a=s.split()\n",
    "unique_words=[]\n",
    "for x in a:\n",
    "    if(x not in unique_words):\n",
    "        unique_words.append(x)\n",
    "for x in unique_words:\n",
    "    print(x,a.count(x))"
   ]
  },
  {
   "cell_type": "code",
   "execution_count": 1,
   "metadata": {},
   "outputs": [
    {
     "name": "stdout",
     "output_type": "stream",
     "text": [
      "['india', 'is', 'india', 'is', 'india', 'is', 'bharat']\n"
     ]
    }
   ],
   "source": [
    "s=\"india is india is india is bharat\"\n",
    "a=s.split()\n",
    "print(a)"
   ]
  },
  {
   "cell_type": "code",
   "execution_count": 25,
   "metadata": {},
   "outputs": [
    {
     "name": "stdout",
     "output_type": "stream",
     "text": [
      "PYTHON\n",
      "python\n"
     ]
    }
   ],
   "source": [
    "#5.write a python program that takes input from the user and displays that input back in upper and lower case.\n",
    "user=str(input(\"enter your name:\"))\n",
    "print(user.upper())\n",
    "print(user.lower())"
   ]
  },
  {
   "cell_type": "code",
   "execution_count": 26,
   "metadata": {},
   "outputs": [
    {
     "data": {
      "text/plain": [
       "'pythoN'"
      ]
     },
     "execution_count": 26,
     "metadata": {},
     "output_type": "execute_result"
    }
   ],
   "source": [
    "user"
   ]
  },
  {
   "cell_type": "code",
   "execution_count": 27,
   "metadata": {},
   "outputs": [
    {
     "name": "stdout",
     "output_type": "stream",
     "text": [
      "p\n",
      "o\n",
      "n\n"
     ]
    }
   ],
   "source": [
    "# 6. write a python program to get a char in a string just before specified substring.\n",
    "s=\"python\"\n",
    "print(s[0])\n",
    "print(s[4])\n",
    "print(s[-1])"
   ]
  },
  {
   "cell_type": "code",
   "execution_count": 4,
   "metadata": {},
   "outputs": [
    {
     "name": "stdout",
     "output_type": "stream",
     "text": [
      "n\n"
     ]
    }
   ],
   "source": [
    "# 6. write a python program to get a char in a string just before specified substring.\n",
    "s=\"india is a country\"\n",
    "substring=\"try\"\n",
    "i=s.index(substring)-1\n",
    "print(s[i])"
   ]
  },
  {
   "cell_type": "code",
   "execution_count": 35,
   "metadata": {},
   "outputs": [
    {
     "name": "stdout",
     "output_type": "stream",
     "text": [
      "PYthon\n"
     ]
    }
   ],
   "source": [
    "#7.write a python program to convert a given string to all uppercase if it contains at least\n",
    "#  2 uppercase characters in the first 4 characters.\n",
    "s=\"python\"\n",
    "s1=s[0:2].upper()\n",
    "print(s1+s[2:6])"
   ]
  },
  {
   "cell_type": "code",
   "execution_count": null,
   "metadata": {},
   "outputs": [],
   "source": []
  },
  {
   "cell_type": "code",
   "execution_count": 4,
   "metadata": {},
   "outputs": [
    {
     "name": "stdout",
     "output_type": "stream",
     "text": [
      "PYTHON IS A FUNNY LANGUAGE\n"
     ]
    }
   ],
   "source": [
    "s=\"PytHon is a funny language\"\n",
    "print(s.upper())"
   ]
  },
  {
   "cell_type": "code",
   "execution_count": 5,
   "metadata": {},
   "outputs": [
    {
     "name": "stdout",
     "output_type": "stream",
     "text": [
      "INDIA IS A COUNTRY\n"
     ]
    }
   ],
   "source": [
    "#7.write a python program to convert a given string to all uppercase if it contains at least\n",
    "#  2 uppercase characters in the first 4 characters.\n",
    "s=\"InDia is a country\"\n",
    "count=0\n",
    "for x in s[0:4]:\n",
    "    if(x.isupper()):\n",
    "        count+=1\n",
    "if(count>=2):\n",
    "    print(s.upper())\n",
    "else:\n",
    "    print(\"given condition is not satisfied\")"
   ]
  },
  {
   "cell_type": "code",
   "execution_count": 6,
   "metadata": {},
   "outputs": [
    {
     "name": "stdout",
     "output_type": "stream",
     "text": [
      "hnopty"
     ]
    }
   ],
   "source": [
    "# 8. Write a Python program to sort a string lexicographically(ascending).   \n",
    "s=\"python\"\n",
    "lst=[s[i] for i in range(0,len(s))]\n",
    "lst.sort()\n",
    "for i in lst:\n",
    "    print(i,end=\"\")"
   ]
  },
  {
   "cell_type": "code",
   "execution_count": 6,
   "metadata": {},
   "outputs": [
    {
     "name": "stdout",
     "output_type": "stream",
     "text": [
      "python\n",
      "hnopty\n"
     ]
    }
   ],
   "source": [
    "# 8. Write a Python program to sort a string lexicographically(ascending).  \n",
    "s=\"python\"\n",
    "print(s)\n",
    "chars_list=sorted(s)\n",
    "s2=\"\"\n",
    "for x in chars_list:\n",
    "    s2=s2+x\n",
    "print(s2)"
   ]
  },
  {
   "cell_type": "code",
   "execution_count": 7,
   "metadata": {},
   "outputs": [
    {
     "name": "stdout",
     "output_type": "stream",
     "text": [
      " python is a funny language.\n",
      "it was first released in 1991.\n",
      "we study python.\n",
      " python is a funny language.it was first released in 1991.we study python.\n"
     ]
    }
   ],
   "source": [
    "# 9. write a python program to remove all newlines in a string.\n",
    "s=\"\"\" python is a funny language.\n",
    "it was first released in 1991.\n",
    "we study python.\"\"\"\n",
    "print(s)\n",
    "s2=s.replace(\"\\n\",\"\")\n",
    "print(s2)"
   ]
  },
  {
   "cell_type": "code",
   "execution_count": 39,
   "metadata": {},
   "outputs": [
    {
     "name": "stdout",
     "output_type": "stream",
     "text": [
      "True\n"
     ]
    }
   ],
   "source": [
    "# 10. Write a Python program to check whether a string starts with specified characters.\n",
    "s=\"919608528563\"\n",
    "print(s.startswith(\"91\"))"
   ]
  },
  {
   "cell_type": "code",
   "execution_count": 8,
   "metadata": {},
   "outputs": [
    {
     "name": "stdout",
     "output_type": "stream",
     "text": [
      "invalid\n"
     ]
    }
   ],
   "source": [
    "# 10. Write a Python program to check whether a string starts with specified characters.\n",
    "s=\"python is a funny language.\"\n",
    "if(s.startswith('i')):\n",
    "    print(\"valid\")\n",
    "else:\n",
    "    print(\"invalid\")"
   ]
  },
  {
   "cell_type": "code",
   "execution_count": 40,
   "metadata": {},
   "outputs": [
    {
     "name": "stdout",
     "output_type": "stream",
     "text": [
      "nohtyp\n"
     ]
    }
   ],
   "source": [
    "# 11. Write a Python program to reverse a string.  \n",
    "s=\"python\"\n",
    "print(s[-1::-1])"
   ]
  },
  {
   "cell_type": "code",
   "execution_count": 2,
   "metadata": {},
   "outputs": [
    {
     "name": "stdout",
     "output_type": "stream",
     "text": [
      "h 0\n",
      "e 1\n",
      "l 2\n",
      "l 3\n",
      "o 4\n"
     ]
    }
   ],
   "source": [
    "# 12. Write a Python program to print the index of each character in a string. \n",
    "s=\"hello\"\n",
    "p=\"01234\"\n",
    "for i,j in zip(s,p):\n",
    "    print(i,j)"
   ]
  },
  {
   "cell_type": "code",
   "execution_count": 9,
   "metadata": {},
   "outputs": [
    {
     "name": "stdout",
     "output_type": "stream",
     "text": [
      "p 0\n",
      "y 1\n",
      "t 2\n",
      "h 3\n",
      "o 4\n",
      "n 5\n",
      "  6\n",
      "i 7\n",
      "s 8\n",
      "  9\n",
      "a 10\n",
      "  11\n",
      "f 12\n",
      "u 13\n",
      "n 14\n",
      "n 15\n",
      "y 16\n",
      "  17\n",
      "l 18\n",
      "a 19\n",
      "n 20\n",
      "g 21\n",
      "u 22\n",
      "a 23\n",
      "g 24\n",
      "e 25\n",
      ". 26\n"
     ]
    }
   ],
   "source": [
    "# 12. Write a Python program to print the index of each character in a string. \n",
    "s=\"python is a funny language.\"\n",
    "index=0\n",
    "for x in s:\n",
    "    print(x,index)\n",
    "    index+=1"
   ]
  },
  {
   "cell_type": "code",
   "execution_count": 48,
   "metadata": {},
   "outputs": [
    {
     "name": "stdout",
     "output_type": "stream",
     "text": [
      "True\n"
     ]
    }
   ],
   "source": [
    "# 13. Write a Python program to check if a string contains all vowels of the alphabet.  \n",
    "s=\"hello\"\n",
    "print(s.isalpha())"
   ]
  },
  {
   "cell_type": "code",
   "execution_count": 10,
   "metadata": {},
   "outputs": [
    {
     "name": "stdout",
     "output_type": "stream",
     "text": [
      "string contains all vowels of the alphabet\n"
     ]
    }
   ],
   "source": [
    "# 13. Write a Python program to check if a string contains all vowels of the alphabet.  \n",
    "s=\"python is a funny language.\"\n",
    "vowels=[]\n",
    "for x in s:\n",
    "    if(x in \"aeiou\" and x not in vowels):\n",
    "        vowels.append(x)\n",
    "if(len(vowels)==5):\n",
    "    print(\"string contains all vowels of the alphabet\")\n",
    "else:\n",
    "    print(\"string does not contain all vowels of the alphabet\")"
   ]
  },
  {
   "cell_type": "code",
   "execution_count": 11,
   "metadata": {},
   "outputs": [
    {
     "name": "stdout",
     "output_type": "stream",
     "text": [
      "o i a u e ['o', 'i', 'a', 'u', 'e']\n",
      "['a', 'e', 'i', 'o', 'u']\n"
     ]
    }
   ],
   "source": [
    "s=\"python is a funny language.\"\n",
    "vowels=[]\n",
    "for x in s:\n",
    "    if(x in \"aeiou\" and x not in vowels):\n",
    "        vowels.append(x)\n",
    "        print(x,end=\" \")\n",
    "print(vowels)\n",
    "print(sorted(vowels))"
   ]
  },
  {
   "cell_type": "code",
   "execution_count": 49,
   "metadata": {},
   "outputs": [
    {
     "name": "stdout",
     "output_type": "stream",
     "text": [
      "helLO\n"
     ]
    }
   ],
   "source": [
    "# 14. Write a Python program to lowercase first n characters in a string.  \n",
    "s=\"HELLO\"\n",
    "s1=s[0:3].lower()\n",
    "print(s1+s[3:])"
   ]
  },
  {
   "cell_type": "code",
   "execution_count": 15,
   "metadata": {},
   "outputs": [
    {
     "name": "stdout",
     "output_type": "stream",
     "text": [
      "pythON is a funny language.\n"
     ]
    }
   ],
   "source": [
    "# 14. Write a Python program to lowercase first n characters in a string.  \n",
    "s=\"PYTHON is a funny language.\"\n",
    "n=4\n",
    "s2=s[0:n]\n",
    "print(s2.lower()+s[n:])"
   ]
  },
  {
   "cell_type": "code",
   "execution_count": 15,
   "metadata": {},
   "outputs": [
    {
     "name": "stdout",
     "output_type": "stream",
     "text": [
      "32,054.23\n"
     ]
    }
   ],
   "source": [
    "# 15. Write a Python program to swap comma and dot in a string.  \n",
    "# Sample string: \"32.054,23\"\n",
    "# Expected Output: \"32,054.23\"\n",
    "s=\"32.054,23\"\n",
    "print(s[0:2]+\",\"+s[3:6]+\".\"+s[7:9])"
   ]
  },
  {
   "cell_type": "code",
   "execution_count": 16,
   "metadata": {},
   "outputs": [
    {
     "name": "stdout",
     "output_type": "stream",
     "text": [
      "32.054,23\n",
      "32,054.23\n"
     ]
    }
   ],
   "source": [
    "# 15. Write a Python program to swap comma and dot in a string.  \n",
    "# Sample string: \"32.054,23\"\n",
    "# Expected Output: \"32,054.23\"\n",
    "s=\"32.054,23\"\n",
    "print(s)\n",
    "s=s.replace('.','$')\n",
    "s=s.replace(',','.')\n",
    "s=s.replace('$',',')\n",
    "print(s)"
   ]
  },
  {
   "cell_type": "code",
   "execution_count": 12,
   "metadata": {},
   "outputs": [
    {
     "name": "stdout",
     "output_type": "stream",
     "text": [
      "32,054.23\n"
     ]
    }
   ],
   "source": [
    "s=\"32.054,23\"\n",
    "print(((s.replace('.','@')).replace(',','.')).replace('@',','))"
   ]
  },
  {
   "cell_type": "code",
   "execution_count": 17,
   "metadata": {},
   "outputs": [
    {
     "name": "stdout",
     "output_type": "stream",
     "text": [
      "python is a funny language\n",
      "o 1\n",
      "i 1\n",
      "a 3\n",
      "u 2\n",
      "e 1\n"
     ]
    }
   ],
   "source": [
    "# 16.write a python program to count and display the vowels of a given text.\n",
    "s='python is a funny language'\n",
    "print(s)\n",
    "vowels=[]\n",
    "for x in s:\n",
    "    if(x in \"aeiou\" and x not in vowels):\n",
    "        vowels.append(x)\n",
    "for x in vowels:\n",
    "    print(x,s.count(x))"
   ]
  },
  {
   "cell_type": "code",
   "execution_count": 18,
   "metadata": {},
   "outputs": [
    {
     "name": "stdout",
     "output_type": "stream",
     "text": [
      "python is a funny language\n",
      "python is a funny\n",
      "language\n"
     ]
    }
   ],
   "source": [
    "# 17.write a python program to split a string on the last occurrence of the space.\n",
    "s=\"python is a funny language\"\n",
    "print(s)\n",
    "i=s.rindex(\" \")\n",
    "s1=s[0:i]\n",
    "s2=s[i+1:]\n",
    "print(s1)\n",
    "print(s2)"
   ]
  },
  {
   "cell_type": "code",
   "execution_count": 3,
   "metadata": {},
   "outputs": [
    {
     "name": "stdout",
     "output_type": "stream",
     "text": [
      "hello world\n"
     ]
    }
   ],
   "source": [
    "# 18.Write a Python program to remove spaces from a given string. \n",
    "s=\"  hello world  \"\n",
    "print(s.strip())"
   ]
  },
  {
   "cell_type": "code",
   "execution_count": 19,
   "metadata": {},
   "outputs": [
    {
     "name": "stdout",
     "output_type": "stream",
     "text": [
      "python is a funny language\n",
      "pythonisafunnylanguage\n"
     ]
    }
   ],
   "source": [
    "# 18.Write a Python program to remove spaces from a given string. \n",
    "s=\"python is a funny language\"\n",
    "print(s)\n",
    "s2=s.replace(\" \",\"\")\n",
    "print(s2)"
   ]
  },
  {
   "cell_type": "code",
   "execution_count": 4,
   "metadata": {},
   "outputs": [
    {
     "name": "stdout",
     "output_type": "stream",
     "text": [
      "hello world  \n"
     ]
    }
   ],
   "source": [
    "# 19. Write a Python program to move spaces to the front of a given string.\n",
    "s=\"  hello world  \"\n",
    "print(s.lstrip())"
   ]
  },
  {
   "cell_type": "code",
   "execution_count": 20,
   "metadata": {},
   "outputs": [
    {
     "name": "stdout",
     "output_type": "stream",
     "text": [
      "python is a funny language\n",
      "    pythonisafunnylanguage\n"
     ]
    }
   ],
   "source": [
    "# 19. Write a Python program to move spaces to the front of a given string.\n",
    "print(s)\n",
    "count=s.count(\" \")\n",
    "s=s.replace(\" \",\"\")\n",
    "print(\" \"*count+s)"
   ]
  },
  {
   "cell_type": "code",
   "execution_count": 9,
   "metadata": {},
   "outputs": [
    {
     "name": "stdout",
     "output_type": "stream",
     "text": [
      "PythoN\n"
     ]
    }
   ],
   "source": [
    "# 20. Write a Python program to capitalize first and last letters of a given string.  \n",
    "x=\"python\"\n",
    "print(x[0].upper()+x[1:5]+x[-1].upper())"
   ]
  },
  {
   "cell_type": "code",
   "execution_count": 21,
   "metadata": {},
   "outputs": [
    {
     "name": "stdout",
     "output_type": "stream",
     "text": [
      "python is a funny language\n",
      "python isafulge\n"
     ]
    }
   ],
   "source": [
    "# 21.write a python program to remove duplicate characters of a given string.\n",
    "s=\"python is a funny language\"\n",
    "print(s)\n",
    "s2=\"\"\n",
    "for x in s:\n",
    "    if(x not in s2):\n",
    "        s2=s2+x\n",
    "print(s2)"
   ]
  },
  {
   "cell_type": "code",
   "execution_count": 12,
   "metadata": {},
   "outputs": [
    {
     "name": "stdout",
     "output_type": "stream",
     "text": [
      "o is not present in the entered string\n"
     ]
    }
   ],
   "source": [
    "# 22.WAP to find number of occurrences of character ‘o’ in the string entered through keyboard.\n",
    "# If the character ‘o’ is not present in the string then show a message “o is not present \n",
    "# in the entered string”.\n",
    "g=input(\"enter a alphabet:\")\n",
    "if (g==\"o\"):\n",
    "    print(\"o is present in the entered string\")\n",
    "else:\n",
    "    print(\"o is not present in the entered string\")"
   ]
  },
  {
   "cell_type": "code",
   "execution_count": 22,
   "metadata": {},
   "outputs": [
    {
     "name": "stdout",
     "output_type": "stream",
     "text": [
      "o\n",
      "i\n",
      "a\n",
      "u\n",
      "a\n",
      "u\n",
      "a\n",
      "e\n"
     ]
    }
   ],
   "source": [
    "# write a python program which read the string and print only vowels characters of entered string on\n",
    "# computer screen.\n",
    "s=\"python is a funny language\"\n",
    "for x in s:\n",
    "    if(x in \"aeiou\"):\n",
    "        print(x)"
   ]
  },
  {
   "cell_type": "code",
   "execution_count": 6,
   "metadata": {},
   "outputs": [
    {
     "name": "stdout",
     "output_type": "stream",
     "text": [
      "palindrom\n"
     ]
    }
   ],
   "source": [
    "# 24. write a python program that reads a string from keyboard and determine whether the string is \n",
    "# palindrome or not.\n",
    "s=input(\"enter string:\")\n",
    "rs=s[::-1]\n",
    "if(s==rs):\n",
    "    print(\"palindrom\")\n",
    "else:\n",
    "    print(\"not palindrom\")"
   ]
  },
  {
   "cell_type": "code",
   "execution_count": 7,
   "metadata": {},
   "outputs": [
    {
     "data": {
      "text/plain": [
       "'malayalam'"
      ]
     },
     "execution_count": 7,
     "metadata": {},
     "output_type": "execute_result"
    }
   ],
   "source": [
    "s"
   ]
  },
  {
   "cell_type": "code",
   "execution_count": 25,
   "metadata": {},
   "outputs": [
    {
     "name": "stdout",
     "output_type": "stream",
     "text": [
      "palindrom\n"
     ]
    }
   ],
   "source": [
    "s=input(\"enter string:\")\n",
    "rs=s[::-1]\n",
    "if(s==rs):\n",
    "    print(\"palindrom\")\n",
    "else:\n",
    "    print(\"not palindrom\")"
   ]
  },
  {
   "cell_type": "code",
   "execution_count": 26,
   "metadata": {},
   "outputs": [
    {
     "name": "stdout",
     "output_type": "stream",
     "text": [
      "not palindrom\n"
     ]
    }
   ],
   "source": [
    "s=input(\"enter string:\")\n",
    "rs=s[::-1]\n",
    "if(s==rs):\n",
    "    print(\"palindrom\")\n",
    "else:\n",
    "    print(\"not palindrom\")"
   ]
  }
 ],
 "metadata": {
  "kernelspec": {
   "display_name": "Python 3",
   "language": "python",
   "name": "python3"
  },
  "language_info": {
   "codemirror_mode": {
    "name": "ipython",
    "version": 3
   },
   "file_extension": ".py",
   "mimetype": "text/x-python",
   "name": "python",
   "nbconvert_exporter": "python",
   "pygments_lexer": "ipython3",
   "version": "3.11.3"
  },
  "orig_nbformat": 4
 },
 "nbformat": 4,
 "nbformat_minor": 2
}
