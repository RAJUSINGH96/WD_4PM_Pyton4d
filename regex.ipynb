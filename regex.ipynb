{
 "cells": [
  {
   "cell_type": "markdown",
   "metadata": {},
   "source": [
    "**Regex(regular expression)**\n",
    "-it is a technique that matches pattern in a string.\n",
    "-finding mob/emailfrom a file\n",
    "-validation \n",
    "-compiler/interpreter\n",
    "-in python,we have **re standard module** to implement regex. "
   ]
  },
  {
   "cell_type": "code",
   "execution_count": 5,
   "metadata": {},
   "outputs": [],
   "source": [
    "import re"
   ]
  },
  {
   "cell_type": "code",
   "execution_count": 19,
   "metadata": {},
   "outputs": [],
   "source": [
    "text=\"\"\"python was first released in 1991 by Guido VAN Rossum.\n",
    "i study python in funny manner.\n",
    "bye \n",
    "i10.\n",
    "\"\"\""
   ]
  },
  {
   "cell_type": "code",
   "execution_count": 7,
   "metadata": {},
   "outputs": [
    {
     "name": "stdout",
     "output_type": "stream",
     "text": [
      "['ir', 'in', 'id', 'i ', 'in', 'i1']\n"
     ]
    }
   ],
   "source": [
    "list_matches=re.findall(\"i.\",text)  #(.) it means any characters.\n",
    "print(list_matches)"
   ]
  },
  {
   "cell_type": "code",
   "execution_count": 8,
   "metadata": {},
   "outputs": [
    {
     "name": "stdout",
     "output_type": "stream",
     "text": [
      "['ir', 'in', 'id', 'in']\n"
     ]
    }
   ],
   "source": [
    "list_matches=re.findall(\"i[abcdefghijklmnopqrstuvwxyz]\",text)  #[] it means range/set of characters.\n",
    "print(list_matches)"
   ]
  },
  {
   "cell_type": "code",
   "execution_count": 9,
   "metadata": {},
   "outputs": [
    {
     "name": "stdout",
     "output_type": "stream",
     "text": [
      "['ir', 'in', 'id', 'in']\n"
     ]
    }
   ],
   "source": [
    "list_matches=re.findall(\"i[a-z]\",text)  #[a-z] it means range/set of characters.\n",
    "print(list_matches)"
   ]
  },
  {
   "cell_type": "code",
   "execution_count": 10,
   "metadata": {},
   "outputs": [
    {
     "name": "stdout",
     "output_type": "stream",
     "text": [
      "[]\n"
     ]
    }
   ],
   "source": [
    "list_matches=re.findall(\"i[aeiou]\",text) \n",
    "print(list_matches)"
   ]
  },
  {
   "cell_type": "code",
   "execution_count": 11,
   "metadata": {},
   "outputs": [
    {
     "name": "stdout",
     "output_type": "stream",
     "text": [
      "['ir', 'in', 'id', 'i ', 'in', 'i1']\n"
     ]
    }
   ],
   "source": [
    "list_matches=re.findall(\"i[^aeiou]\",text)# [^...] except given charecters.\n",
    "print(list_matches)"
   ]
  },
  {
   "cell_type": "code",
   "execution_count": 12,
   "metadata": {},
   "outputs": [
    {
     "name": "stdout",
     "output_type": "stream",
     "text": [
      "['1', '9', '9', '1', '1', '0']\n"
     ]
    }
   ],
   "source": [
    "list_matches=re.findall(\"[0-9]\",text) \n",
    "print(list_matches)"
   ]
  },
  {
   "cell_type": "code",
   "execution_count": 21,
   "metadata": {},
   "outputs": [
    {
     "name": "stdout",
     "output_type": "stream",
     "text": [
      "['19', '91', '10']\n",
      "['1991']\n",
      "['1991']\n",
      "['pytho', 'first', 'relea', 'ossum', 'study', 'pytho', 'funny', 'manne']\n",
      "[]\n",
      "['python', 'first', 'release', 'ossum', 'study', 'python', 'funny', 'manner']\n"
     ]
    }
   ],
   "source": [
    "list_matches=re.findall(\"[0-9][0-9]\",text) \n",
    "print(list_matches)\n",
    "\n",
    "list_matches=re.findall(\"[0-9][0-9][0-9][0-9]\",text) \n",
    "print(list_matches)\n",
    "\n",
    "list_matches=re.findall(\"[0-9]{4}\",text) \n",
    "print(list_matches)\n",
    "\n",
    "list_matches=re.findall(\"[a-z]{5}\",text) \n",
    "print(list_matches)\n",
    "\n",
    "list_matches=re.findall(\"[A-Z]{5}\",text) \n",
    "print(list_matches)\n",
    "\n",
    "list_matches=re.findall(\"[a-z]{5,7}\",text) # {min,max}-->repeat.\n",
    "print(list_matches)"
   ]
  },
  {
   "cell_type": "code",
   "execution_count": 32,
   "metadata": {},
   "outputs": [
    {
     "name": "stdout",
     "output_type": "stream",
     "text": [
      "97\n",
      "['Guido', 'Rossum']\n",
      "['hon', 'was', 'fir', 'rel', 'eas', 'uid', 'sum', 'tud', 'hon', 'fun', 'man', 'ner']\n",
      "['python', 'first', 'released', 'Guido', 'Rossum', 'study', 'python', 'funny', 'manner']\n",
      "['hon', 'was', 'fir', 'rel', 'eas', 'Gui', 'VAN', 'Ros', 'sum', 'tud', 'hon', 'fun', 'man', 'ner']\n",
      "['hon', 'was', 'fir', 'rel', 'eas', 'Gui', 'Ros', 'sum', 'tud', 'hon', 'fun', 'man', 'ner']\n",
      "['python', 'was', 'first', 'released', 'in', 'by', 'Guido', 'Rossum', 'study', 'python', 'in', 'funny', 'manner', 'bye']\n",
      "['Guido', 'Rossum']\n",
      "['Guido', 'V', 'A', 'N', 'Rossum']\n"
     ]
    }
   ],
   "source": [
    "text=\"\"\"python was first released in 1991 by Guido VAN Rossum.\n",
    "i study python in funny manner.\n",
    "bye \n",
    "i10.\n",
    "\"\"\"\n",
    "print(len(text))\n",
    "\n",
    "list_matches=re.findall(\"[A-Z][a-z]{3,7}\",text) \n",
    "print(list_matches)\n",
    "\n",
    "list_matches=re.findall(\"[a-z][aeiou][a-z]\",text) \n",
    "print(list_matches)\n",
    "\n",
    "list_matches=re.findall(\"[A-Z][a-z]{3,7}\",text,re.I) # (re.I) ignore case\n",
    "print(list_matches)\n",
    "\n",
    "list_matches=re.findall(\"[a-z][aeiou][a-z]\",text,re.I) \n",
    "print(list_matches)\n",
    "\n",
    "list_matches=re.findall(\"[a-zA-Z][aeiou][a-z]\",text) \n",
    "print(list_matches)\n",
    "\n",
    "list_matches=re.findall(\"[a-zA-Z][a-z]+\",text) # +--->1 or more occurence.\n",
    "print(list_matches)\n",
    "\n",
    "list_matches=re.findall(\"[A-Z][a-z]+\",text) \n",
    "print(list_matches)\n",
    "\n",
    "list_matches=re.findall(\"[A-Z][a-z]*\",text) #*-->0 or more occurence.\n",
    "print(list_matches)"
   ]
  },
  {
   "cell_type": "code",
   "execution_count": 38,
   "metadata": {},
   "outputs": [
    {
     "name": "stdout",
     "output_type": "stream",
     "text": [
      "['1', '9', '9', '1', '1', '0']\n",
      "['1', '9', '9', '1', '1', '0']\n",
      "['1991']\n",
      "['p', 'y', 't', 'h', 'o', 'n', ' ', 'w', 'a', 's', ' ', 'f', 'i', 'r', 's', 't', ' ', 'r', 'e', 'l', 'e', 'a', 's', 'e', 'd', ' ', 'i', 'n', ' ', ' ', 'b', 'y', ' ', 'G', 'u', 'i', 'd', 'o', ' ', 'V', 'A', 'N', ' ', 'R', 'o', 's', 's', 'u', 'm', '.', '\\n', 'i', ' ', 's', 't', 'u', 'd', 'y', ' ', 'p', 'y', 't', 'h', 'o', 'n', ' ', 'i', 'n', ' ', 'f', 'u', 'n', 'n', 'y', ' ', 'm', 'a', 'n', 'n', 'e', 'r', '.', '\\n', 'b', 'y', 'e', ' ', '\\n', 'i', '.', '\\n']\n",
      "[' ', ' ', ' ', ' ', ' ', ' ', ' ', ' ', ' ', '\\n', ' ', ' ', ' ', ' ', ' ', '\\n', ' ', '\\n', '\\n']\n",
      "['p', 'y', 't', 'h', 'o', 'n', 'w', 'a', 's', 'f', 'i', 'r', 's', 't', 'r', 'e', 'l', 'e', 'a', 's', 'e', 'd', 'i', 'n', '1', '9', '9', '1', 'b', 'y', 'G', 'u', 'i', 'd', 'o', 'V', 'A', 'N', 'R', 'o', 's', 's', 'u', 'm', '.', 'i', 's', 't', 'u', 'd', 'y', 'p', 'y', 't', 'h', 'o', 'n', 'i', 'n', 'f', 'u', 'n', 'n', 'y', 'm', 'a', 'n', 'n', 'e', 'r', '.', 'b', 'y', 'e', 'i', '1', '0', '.']\n",
      "['p', 'y', 't', 'h', 'o', 'n', 'w', 'a', 's', 'f', 'i', 'r', 's', 't', 'r', 'e', 'l', 'e', 'a', 's', 'e', 'd', 'i', 'n', '1', '9', '9', '1', 'b', 'y', 'G', 'u', 'i', 'd', 'o', 'V', 'A', 'N', 'R', 'o', 's', 's', 'u', 'm', 'i', 's', 't', 'u', 'd', 'y', 'p', 'y', 't', 'h', 'o', 'n', 'i', 'n', 'f', 'u', 'n', 'n', 'y', 'm', 'a', 'n', 'n', 'e', 'r', 'b', 'y', 'e', 'i', '1', '0']\n"
     ]
    }
   ],
   "source": [
    "text=\"\"\"python was first released in 1991 by Guido VAN Rossum.\n",
    "i study python in funny manner.\n",
    "bye \n",
    "i10.\n",
    "\"\"\"\n",
    "# meta chars in regex. \n",
    "\n",
    "list_matches=re.findall(\"[0-9]\",text) \n",
    "print(list_matches)\n",
    "\n",
    "list_matches=re.findall(\"\\d\",text) # \\d is same as [0-9]\n",
    "print(list_matches)\n",
    "\n",
    "list_matches=re.findall(\"\\d{4}\",text) \n",
    "print(list_matches)\n",
    "\n",
    "list_matches=re.findall(\"\\D\",text) #[^0-9] except o to 9\n",
    "print(list_matches)\n",
    "\n",
    "list_matches=re.findall(\"\\s\",text) #[ \\t\\n] match space,slace(t),slace(n)\n",
    "print(list_matches)\n",
    "\n",
    "list_matches=re.findall(\"\\S\",text) #[^ \\t\\n] except this chars.\n",
    "print(list_matches)\n",
    "\n",
    "list_matches=re.findall(\"\\w\",text) # word chars[a-zA-Z0-9_] \n",
    "print(list_matches)\n",
    "\n",
    "list_matches=re.findall(\"\\W\",text) # except word chars[^a-zA-Z0-9_]\n",
    "print(list_matches)\n"
   ]
  },
  {
   "cell_type": "code",
   "execution_count": 39,
   "metadata": {},
   "outputs": [
    {
     "name": "stdout",
     "output_type": "stream",
     "text": [
      "42\n"
     ]
    }
   ],
   "source": [
    "file=open(\"D:/data.txt\")\n",
    "text=file.read()\n",
    "file.close()\n",
    "list_matches=re.findall(\"[6-9][0-9]{9}\",text)\n",
    "print(len(list_matches))\n",
    "file=open(\"d:/mob.txt\",\"w\")\n",
    "for mob in list_matches:\n",
    "    file.write(mob)\n",
    "    file.write(\"\\n\")\n",
    "file.close()"
   ]
  },
  {
   "cell_type": "code",
   "execution_count": 40,
   "metadata": {},
   "outputs": [
    {
     "name": "stdout",
     "output_type": "stream",
     "text": [
      "42\n"
     ]
    }
   ],
   "source": [
    "file=open(\"D:/data.txt\")\n",
    "text=file.read()\n",
    "file.close()\n",
    "list_matches=re.findall(\"[a-z0-9_.$]+@[a-z]+[.][a-z]+\",text,re.I)\n",
    "print(len(list_matches))\n",
    "file=open(\"d:/email.txt\",\"w\")\n",
    "for email in list_matches:\n",
    "    file.write(email)\n",
    "    file.write(\"\\n\")\n",
    "file.close()"
   ]
  },
  {
   "cell_type": "code",
   "execution_count": 1,
   "metadata": {},
   "outputs": [],
   "source": [
    "text=\"\"\"python was first released in 1991 by Guido VAN Rossum.\n",
    "i study python in funny manner.\n",
    "bye.\n",
    "i10\n",
    "\"\"\""
   ]
  },
  {
   "cell_type": "code",
   "execution_count": 39,
   "metadata": {},
   "outputs": [
    {
     "name": "stdout",
     "output_type": "stream",
     "text": [
      "<re.Match object; span=(0, 2), match='py'>\n"
     ]
    }
   ],
   "source": [
    "mat=re.match(\"p.\",text)\n",
    "print(mat)"
   ]
  },
  {
   "cell_type": "code",
   "execution_count": 41,
   "metadata": {},
   "outputs": [
    {
     "name": "stdout",
     "output_type": "stream",
     "text": [
      "['python', 'python']\n"
     ]
    }
   ],
   "source": [
    "mat=re.findall(\"p[a-z]+\",text)\n",
    "print(mat)"
   ]
  },
  {
   "cell_type": "code",
   "execution_count": 2,
   "metadata": {},
   "outputs": [
    {
     "name": "stdout",
     "output_type": "stream",
     "text": [
      "ir 12 14 (12, 14)\n",
      "in 26 28 (26, 28)\n",
      "id 39 41 (39, 41)\n",
      "i  55 57 (55, 57)\n",
      "in 70 72 (70, 72)\n",
      "i1 92 94 (92, 94)\n"
     ]
    }
   ],
   "source": [
    "import re\n",
    "itr=re.finditer(\"i.\",text)\n",
    "for match in itr:\n",
    "    print(match.group(),match.start(),match.end(),match.span())"
   ]
  },
  {
   "cell_type": "markdown",
   "metadata": {},
   "source": [
    "**findall()**                                     **finditer()**\n",
    "-each match is represented by str type.          -each match is represented by match type.\n",
    "-returns a list of all matches.                  -returns an  iterator of all matches.\n",
    "-position for a match is not possible.           -we can also get positions(start,end) for a match."
   ]
  },
  {
   "cell_type": "code",
   "execution_count": 4,
   "metadata": {},
   "outputs": [
    {
     "name": "stdout",
     "output_type": "stream",
     "text": [
      "<re.Match object; span=(12, 14), match='ir'>\n",
      "None\n"
     ]
    }
   ],
   "source": [
    "# search returns first match only as match type, none if match not found.\n",
    "match=re.search(\"i.\",text)\n",
    "print(match)\n",
    "match=re.search(\"I.\",text)\n",
    "print(match)"
   ]
  },
  {
   "cell_type": "code",
   "execution_count": 5,
   "metadata": {},
   "outputs": [
    {
     "name": "stdout",
     "output_type": "stream",
     "text": [
      "None\n"
     ]
    }
   ],
   "source": [
    "# match returns first that must occur at 0 position, none if match not found.\n",
    "match=re.match(\"i.\",text)\n",
    "print(match)"
   ]
  },
  {
   "cell_type": "code",
   "execution_count": 6,
   "metadata": {},
   "outputs": [
    {
     "name": "stdout",
     "output_type": "stream",
     "text": [
      "<re.Match object; span=(0, 10), match='9608528563'>\n"
     ]
    }
   ],
   "source": [
    "mob=input(\"enter mob:\")\n",
    "match=re.search(\"[6-9]\\d{9}\",mob)\n",
    "print(match)"
   ]
  },
  {
   "cell_type": "code",
   "execution_count": 7,
   "metadata": {},
   "outputs": [
    {
     "name": "stdout",
     "output_type": "stream",
     "text": [
      "None\n"
     ]
    }
   ],
   "source": [
    "mob=input(\"enter mob:\")\n",
    "match=re.search(\"[6-9]\\d{9}\",mob)\n",
    "print(match)"
   ]
  },
  {
   "cell_type": "code",
   "execution_count": 8,
   "metadata": {},
   "outputs": [
    {
     "name": "stdout",
     "output_type": "stream",
     "text": [
      "invalid\n"
     ]
    }
   ],
   "source": [
    "mob=input(\"enter mob:\")\n",
    "match=re.search(\"[6-9]\\d{9}\",mob)\n",
    "if (match==None):\n",
    "    print(\"invalid\")\n",
    "else:\n",
    "    print(\"valid\")"
   ]
  },
  {
   "cell_type": "code",
   "execution_count": 9,
   "metadata": {},
   "outputs": [
    {
     "data": {
      "text/plain": [
       "'2345678901'"
      ]
     },
     "execution_count": 9,
     "metadata": {},
     "output_type": "execute_result"
    }
   ],
   "source": [
    "mob"
   ]
  },
  {
   "cell_type": "code",
   "execution_count": 10,
   "metadata": {},
   "outputs": [
    {
     "name": "stdout",
     "output_type": "stream",
     "text": [
      "valid\n"
     ]
    }
   ],
   "source": [
    "mob=input(\"enter mob:\")\n",
    "match=re.search(\"[6-9]\\d{9}\",mob)\n",
    "if (match==None):\n",
    "    print(\"invalid\")\n",
    "else:\n",
    "    print(\"valid\")"
   ]
  },
  {
   "cell_type": "code",
   "execution_count": 11,
   "metadata": {},
   "outputs": [
    {
     "data": {
      "text/plain": [
       "'123456789034567890asmdfnsdnv'"
      ]
     },
     "execution_count": 11,
     "metadata": {},
     "output_type": "execute_result"
    }
   ],
   "source": [
    "mob"
   ]
  },
  {
   "cell_type": "code",
   "execution_count": 12,
   "metadata": {},
   "outputs": [
    {
     "name": "stdout",
     "output_type": "stream",
     "text": [
      "valid\n"
     ]
    }
   ],
   "source": [
    "mob=input(\"enter mob:\")\n",
    "match=re.match(\"[6-9]\\d{9}\",mob)\n",
    "if (match==None):\n",
    "    print(\"invalid\")\n",
    "else:\n",
    "    print(\"valid\")"
   ]
  },
  {
   "cell_type": "code",
   "execution_count": 13,
   "metadata": {},
   "outputs": [
    {
     "data": {
      "text/plain": [
       "'6789590857659493mvcfdnjfgjgf'"
      ]
     },
     "execution_count": 13,
     "metadata": {},
     "output_type": "execute_result"
    }
   ],
   "source": [
    "mob"
   ]
  },
  {
   "cell_type": "code",
   "execution_count": 14,
   "metadata": {},
   "outputs": [
    {
     "name": "stdout",
     "output_type": "stream",
     "text": [
      "invalid\n"
     ]
    }
   ],
   "source": [
    "mob=input(\"enter mob:\")\n",
    "match=re.fullmatch(\"[6-9]\\d{9}\",mob)\n",
    "if (match==None):\n",
    "    print(\"invalid\")\n",
    "else:\n",
    "    print(\"valid\")"
   ]
  },
  {
   "cell_type": "code",
   "execution_count": 15,
   "metadata": {},
   "outputs": [
    {
     "data": {
      "text/plain": [
       "'879685948394583jdfvnsmmcv'"
      ]
     },
     "execution_count": 15,
     "metadata": {},
     "output_type": "execute_result"
    }
   ],
   "source": [
    "mob"
   ]
  },
  {
   "cell_type": "code",
   "execution_count": 16,
   "metadata": {},
   "outputs": [
    {
     "name": "stdout",
     "output_type": "stream",
     "text": [
      "valid\n"
     ]
    }
   ],
   "source": [
    "mob=input(\"enter mob:\")\n",
    "match=re.fullmatch(\"[6-9]\\d{9}\",mob)\n",
    "if (match==None):\n",
    "    print(\"invalid\")\n",
    "else:\n",
    "    print(\"valid\")"
   ]
  },
  {
   "cell_type": "code",
   "execution_count": 17,
   "metadata": {},
   "outputs": [
    {
     "data": {
      "text/plain": [
       "'9608528563'"
      ]
     },
     "execution_count": 17,
     "metadata": {},
     "output_type": "execute_result"
    }
   ],
   "source": [
    "mob"
   ]
  },
  {
   "cell_type": "code",
   "execution_count": 18,
   "metadata": {},
   "outputs": [
    {
     "data": {
      "text/plain": [
       "'123_45$A55% 7Z'"
      ]
     },
     "execution_count": 18,
     "metadata": {},
     "output_type": "execute_result"
    }
   ],
   "source": [
    "# Text cleaning\n",
    "s=\"abc123_45$A55% 7Z\"\n",
    "s.replace(\"abc\",\"\")"
   ]
  },
  {
   "cell_type": "code",
   "execution_count": 19,
   "metadata": {},
   "outputs": [
    {
     "data": {
      "text/plain": [
       "'abc123_45$A55% 7Z'"
      ]
     },
     "execution_count": 19,
     "metadata": {},
     "output_type": "execute_result"
    }
   ],
   "source": [
    "s=\"abc123_45$A55% 7Z\"\n",
    "s.replace(\"abcd\",\"\")"
   ]
  },
  {
   "cell_type": "code",
   "execution_count": 22,
   "metadata": {},
   "outputs": [
    {
     "name": "stdout",
     "output_type": "stream",
     "text": [
      "12345557\n",
      "abcAZ\n",
      "('abcAZ', 12)\n"
     ]
    }
   ],
   "source": [
    "s=\"abc123_45$A55% 7Z\"\n",
    "s2=re.sub(\"[^0-9]\",\"\",s)\n",
    "print(s2)\n",
    "\n",
    "s3=re.sub(\"[^a-zA-Z]\",\"\",s)\n",
    "print(s3)\n",
    "\n",
    "s3=re.subn(\"[^a-zA-Z]\",\"\",s)\n",
    "print(s3)"
   ]
  },
  {
   "cell_type": "code",
   "execution_count": 25,
   "metadata": {},
   "outputs": [
    {
     "name": "stdout",
     "output_type": "stream",
     "text": [
      "sonu\n",
      "monu\n"
     ]
    }
   ],
   "source": [
    "s1=\"son u_\"\n",
    "s2=\"_m on@u\"\n",
    "print(re.sub(\"[^a-zA-Z]\",\"\",s1))\n",
    "print(re.sub(\"[^a-zA-Z]\",\"\",s2))"
   ]
  },
  {
   "cell_type": "code",
   "execution_count": 26,
   "metadata": {},
   "outputs": [
    {
     "name": "stdout",
     "output_type": "stream",
     "text": [
      "sonu\n",
      "monu\n"
     ]
    }
   ],
   "source": [
    "s1=\"son u_\"\n",
    "s2=\"_m on@u\"\n",
    "re_c=re.compile(\"[^a-zA-Z]\")\n",
    "print(re_c.sub(\"\",s1))\n",
    "print(re_c.sub(\"\",s2))"
   ]
  },
  {
   "cell_type": "code",
   "execution_count": 27,
   "metadata": {},
   "outputs": [
    {
     "name": "stdout",
     "output_type": "stream",
     "text": [
      "['.', '.']\n",
      "['.', '.']\n",
      "[']', '[']\n"
     ]
    }
   ],
   "source": [
    "s=\"a.b.c]e[fa\"\n",
    "print(re.findall(\"[.]\",s))\n",
    "print(re.findall(\"\\.\",s))\n",
    "print(re.findall(\"[\\[\\]]\",s))"
   ]
  },
  {
   "cell_type": "markdown",
   "metadata": {},
   "source": [
    "**symbols**                                            **functions**\n",
    "-.: any char                                         -findall\n",
    "-[]:renge char                                       -finditer\n",
    "-{}:repeatation char                                 -match\n",
    "-{a,b}:min and max                                   -search\n",
    "-+:one or more occurance                             -sub\n",
    "-*:zerro or more occurance                           -subn\n",
    "-?:zero or one occurance                             -fullmatch\n",
    "-^:except char                                       -compile\n",
    "-\\d:[0-9]\n",
    "-\\D:[0-9] except this char\n",
    "-\\w:[a-zA-Z0-9_]\n",
    "-\\W:[^a-zA-Z0-9_]\n",
    "-\\s:[ \\t\\n]\n",
    "-\\S:[^ \\t\\n]\n",
    "-$:it is come with any expession then it meaning is end(\"\\d$\")"
   ]
  },
  {
   "cell_type": "code",
   "execution_count": 28,
   "metadata": {},
   "outputs": [
    {
     "name": "stdout",
     "output_type": "stream",
     "text": [
      "invalid\n"
     ]
    }
   ],
   "source": [
    "# write a python program to check for a number at the end of a string. \n",
    "num=input(\"enter str:\")\n",
    "match=re.fullmatch(\"\\w*\\d\",num)\n",
    "# match=re.match(\"\\w\\d$\",num)\n",
    "if (match==None):\n",
    "    print(\"invalid\")\n",
    "else:\n",
    "    print(\"valid\")"
   ]
  },
  {
   "cell_type": "code",
   "execution_count": 29,
   "metadata": {},
   "outputs": [
    {
     "data": {
      "text/plain": [
       "'adbaubuscxiauwu2377#^#&@^she22'"
      ]
     },
     "execution_count": 29,
     "metadata": {},
     "output_type": "execute_result"
    }
   ],
   "source": [
    "num"
   ]
  },
  {
   "cell_type": "code",
   "execution_count": 30,
   "metadata": {},
   "outputs": [
    {
     "name": "stdout",
     "output_type": "stream",
     "text": [
      "valid\n"
     ]
    }
   ],
   "source": [
    "num=input(\"enter str:\")\n",
    "match=re.fullmatch(\"\\w*\\d\",num)\n",
    "# match=re.match(\"\\w\\d$\",num)\n",
    "if (match==None):\n",
    "    print(\"invalid\")\n",
    "else:\n",
    "    print(\"valid\")"
   ]
  },
  {
   "cell_type": "code",
   "execution_count": 31,
   "metadata": {},
   "outputs": [
    {
     "data": {
      "text/plain": [
       "'jshcdnfcrsjcs_8'"
      ]
     },
     "execution_count": 31,
     "metadata": {},
     "output_type": "execute_result"
    }
   ],
   "source": [
    "num"
   ]
  },
  {
   "cell_type": "code",
   "execution_count": 32,
   "metadata": {},
   "outputs": [
    {
     "name": "stdout",
     "output_type": "stream",
     "text": [
      "invalid\n"
     ]
    }
   ],
   "source": [
    "num=input(\"enter str:\")\n",
    "match=re.fullmatch(\"\\w*\\d\",num)\n",
    "# match=re.match(\"\\w\\d$\",num)\n",
    "if (match==None):\n",
    "    print(\"invalid\")\n",
    "else:\n",
    "    print(\"valid\")"
   ]
  },
  {
   "cell_type": "code",
   "execution_count": 33,
   "metadata": {},
   "outputs": [
    {
     "data": {
      "text/plain": [
       "'ncvkscn2342#4-8'"
      ]
     },
     "execution_count": 33,
     "metadata": {},
     "output_type": "execute_result"
    }
   ],
   "source": [
    "num"
   ]
  },
  {
   "cell_type": "code",
   "execution_count": 34,
   "metadata": {},
   "outputs": [
    {
     "name": "stdout",
     "output_type": "stream",
     "text": [
      "valid\n"
     ]
    }
   ],
   "source": [
    "num=input(\"enter str:\")\n",
    "match=re.fullmatch(\"\\w*\\d\",num)\n",
    "# match=re.match(\"\\w\\d$\",num)\n",
    "if (match==None):\n",
    "    print(\"invalid\")\n",
    "else:\n",
    "    print(\"valid\")"
   ]
  },
  {
   "cell_type": "code",
   "execution_count": 35,
   "metadata": {},
   "outputs": [
    {
     "data": {
      "text/plain": [
       "'ncbsnchj2339nshdx8'"
      ]
     },
     "execution_count": 35,
     "metadata": {},
     "output_type": "execute_result"
    }
   ],
   "source": [
    "num"
   ]
  },
  {
   "cell_type": "code",
   "execution_count": 38,
   "metadata": {},
   "outputs": [
    {
     "name": "stdout",
     "output_type": "stream",
     "text": [
      "valid\n"
     ]
    }
   ],
   "source": [
    "num=input(\"enter str:\")\n",
    "# match=re.fullmatch(\"\\w*\\d\",num)\n",
    "match=re.match(\"\\w*\\d$\",num)\n",
    "if (match==None):\n",
    "    print(\"invalid\")\n",
    "else:\n",
    "    print(\"valid\")"
   ]
  },
  {
   "cell_type": "code",
   "execution_count": 37,
   "metadata": {},
   "outputs": [
    {
     "data": {
      "text/plain": [
       "'nmvsjfvgcjsci19292384mmnx9'"
      ]
     },
     "execution_count": 37,
     "metadata": {},
     "output_type": "execute_result"
    }
   ],
   "source": [
    "num"
   ]
  },
  {
   "cell_type": "code",
   "execution_count": null,
   "metadata": {},
   "outputs": [],
   "source": []
  }
 ],
 "metadata": {
  "kernelspec": {
   "display_name": "Python 3",
   "language": "python",
   "name": "python3"
  },
  "language_info": {
   "codemirror_mode": {
    "name": "ipython",
    "version": 3
   },
   "file_extension": ".py",
   "mimetype": "text/x-python",
   "name": "python",
   "nbconvert_exporter": "python",
   "pygments_lexer": "ipython3",
   "version": "3.11.3"
  },
  "orig_nbformat": 4
 },
 "nbformat": 4,
 "nbformat_minor": 2
}
