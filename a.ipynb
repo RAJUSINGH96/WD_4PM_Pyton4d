{
 "cells": [
  {
   "cell_type": "code",
   "execution_count": 6,
   "metadata": {},
   "outputs": [
    {
     "name": "stdout",
     "output_type": "stream",
     "text": [
      "int is a sortest num  in list:1\n",
      "bye\n"
     ]
    }
   ],
   "source": [
    "x=[1,2,3,4,5]\n",
    "a=x[0]\n",
    "for i in x:\n",
    "    if i==a:\n",
    "        print(f\"int is a sortest num  in list:{i}\")\n",
    "else:\n",
    "    print(\"bye\")"
   ]
  },
  {
   "cell_type": "code",
   "execution_count": 5,
   "metadata": {},
   "outputs": [
    {
     "name": "stdout",
     "output_type": "stream",
     "text": [
      "(1, 19)\n",
      "(1, 1)\n",
      "(-2, 7)\n"
     ]
    }
   ],
   "source": [
    "def minmax1 (x):\n",
    "    # this function fails if the list length is 0 \n",
    "    minimum = maximum = x[0]\n",
    "    for i in x[1:]:\n",
    "        if i < minimum: \n",
    "            minimum = i \n",
    "        else: \n",
    "            if i > maximum: maximum = i\n",
    "    return (minimum,maximum)\n",
    "\n",
    "print(minmax1([9,8,7,6,5,4,3,2,1,11,12,13,14,15,16,17,18,19]))\n",
    "print(minmax1([1]))\n",
    "print(minmax1([2, 0, 2, 7, 5, -1, -2]))   "
   ]
  },
  {
   "cell_type": "code",
   "execution_count": 2,
   "metadata": {},
   "outputs": [
    {
     "ename": "Terminator",
     "evalue": "",
     "output_type": "error",
     "traceback": [
      "\u001b[1;31m---------------------------------------------------------------------------\u001b[0m",
      "\u001b[1;31mTerminator\u001b[0m                                Traceback (most recent call last)",
      "\u001b[1;32mc:\\Users\\Raju\\Desktop\\new\\WD_4PM_python\\WD_4PM_Pyton4d\\a.ipynb Cell 3\u001b[0m line \u001b[0;36m7\n\u001b[0;32m      <a href='vscode-notebook-cell:/c%3A/Users/Raju/Desktop/new/WD_4PM_python/WD_4PM_Pyton4d/a.ipynb#W2sZmlsZQ%3D%3D?line=4'>5</a>\u001b[0m b\u001b[39m=\u001b[39m\u001b[39m200\u001b[39m\n\u001b[0;32m      <a href='vscode-notebook-cell:/c%3A/Users/Raju/Desktop/new/WD_4PM_python/WD_4PM_Pyton4d/a.ipynb#W2sZmlsZQ%3D%3D?line=5'>6</a>\u001b[0m \u001b[39mwhile\u001b[39;00m b\u001b[39m>\u001b[39m\u001b[39m0\u001b[39m:\n\u001b[1;32m----> <a href='vscode-notebook-cell:/c%3A/Users/Raju/Desktop/new/WD_4PM_python/WD_4PM_Pyton4d/a.ipynb#W2sZmlsZQ%3D%3D?line=6'>7</a>\u001b[0m     left(b)\n\u001b[0;32m      <a href='vscode-notebook-cell:/c%3A/Users/Raju/Desktop/new/WD_4PM_python/WD_4PM_Pyton4d/a.ipynb#W2sZmlsZQ%3D%3D?line=7'>8</a>\u001b[0m     forward(b\u001b[39m*\u001b[39m\u001b[39m3\u001b[39m)\n\u001b[0;32m      <a href='vscode-notebook-cell:/c%3A/Users/Raju/Desktop/new/WD_4PM_python/WD_4PM_Pyton4d/a.ipynb#W2sZmlsZQ%3D%3D?line=8'>9</a>\u001b[0m     b\u001b[39m=\u001b[39mb\u001b[39m-\u001b[39m\u001b[39m1\u001b[39m\n",
      "File \u001b[1;32m<string>:8\u001b[0m, in \u001b[0;36mleft\u001b[1;34m(angle)\u001b[0m\n",
      "File \u001b[1;32mc:\\Users\\Raju\\AppData\\Local\\Programs\\Python\\Python311\\Lib\\turtle.py:1700\u001b[0m, in \u001b[0;36mTNavigator.left\u001b[1;34m(self, angle)\u001b[0m\n\u001b[0;32m   1681\u001b[0m \u001b[39mdef\u001b[39;00m \u001b[39mleft\u001b[39m(\u001b[39mself\u001b[39m, angle):\n\u001b[0;32m   1682\u001b[0m \u001b[39m    \u001b[39m\u001b[39m\"\"\"Turn turtle left by angle units.\u001b[39;00m\n\u001b[0;32m   1683\u001b[0m \n\u001b[0;32m   1684\u001b[0m \u001b[39m    Aliases: left | lt\u001b[39;00m\n\u001b[1;32m   (...)\u001b[0m\n\u001b[0;32m   1698\u001b[0m \u001b[39m    67.0\u001b[39;00m\n\u001b[0;32m   1699\u001b[0m \u001b[39m    \"\"\"\u001b[39;00m\n\u001b[1;32m-> 1700\u001b[0m     \u001b[39mself\u001b[39;49m\u001b[39m.\u001b[39;49m_rotate(angle)\n",
      "File \u001b[1;32mc:\\Users\\Raju\\AppData\\Local\\Programs\\Python\\Python311\\Lib\\turtle.py:3295\u001b[0m, in \u001b[0;36mRawTurtle._rotate\u001b[1;34m(self, angle)\u001b[0m\n\u001b[0;32m   3293\u001b[0m         \u001b[39mself\u001b[39m\u001b[39m.\u001b[39m_update()\n\u001b[0;32m   3294\u001b[0m \u001b[39mself\u001b[39m\u001b[39m.\u001b[39m_orient \u001b[39m=\u001b[39m neworient\n\u001b[1;32m-> 3295\u001b[0m \u001b[39mself\u001b[39;49m\u001b[39m.\u001b[39;49m_update()\n",
      "File \u001b[1;32mc:\\Users\\Raju\\AppData\\Local\\Programs\\Python\\Python311\\Lib\\turtle.py:2661\u001b[0m, in \u001b[0;36mRawTurtle._update\u001b[1;34m(self)\u001b[0m\n\u001b[0;32m   2659\u001b[0m     \u001b[39mreturn\u001b[39;00m\n\u001b[0;32m   2660\u001b[0m \u001b[39melif\u001b[39;00m screen\u001b[39m.\u001b[39m_tracing \u001b[39m==\u001b[39m \u001b[39m1\u001b[39m:\n\u001b[1;32m-> 2661\u001b[0m     \u001b[39mself\u001b[39;49m\u001b[39m.\u001b[39;49m_update_data()\n\u001b[0;32m   2662\u001b[0m     \u001b[39mself\u001b[39m\u001b[39m.\u001b[39m_drawturtle()\n\u001b[0;32m   2663\u001b[0m     screen\u001b[39m.\u001b[39m_update()                  \u001b[39m# TurtleScreenBase\u001b[39;00m\n",
      "File \u001b[1;32mc:\\Users\\Raju\\AppData\\Local\\Programs\\Python\\Python311\\Lib\\turtle.py:2647\u001b[0m, in \u001b[0;36mRawTurtle._update_data\u001b[1;34m(self)\u001b[0m\n\u001b[0;32m   2646\u001b[0m \u001b[39mdef\u001b[39;00m \u001b[39m_update_data\u001b[39m(\u001b[39mself\u001b[39m):\n\u001b[1;32m-> 2647\u001b[0m     \u001b[39mself\u001b[39;49m\u001b[39m.\u001b[39;49mscreen\u001b[39m.\u001b[39;49m_incrementudc()\n\u001b[0;32m   2648\u001b[0m     \u001b[39mif\u001b[39;00m \u001b[39mself\u001b[39m\u001b[39m.\u001b[39mscreen\u001b[39m.\u001b[39m_updatecounter \u001b[39m!=\u001b[39m \u001b[39m0\u001b[39m:\n\u001b[0;32m   2649\u001b[0m         \u001b[39mreturn\u001b[39;00m\n",
      "File \u001b[1;32mc:\\Users\\Raju\\AppData\\Local\\Programs\\Python\\Python311\\Lib\\turtle.py:1293\u001b[0m, in \u001b[0;36mTurtleScreen._incrementudc\u001b[1;34m(self)\u001b[0m\n\u001b[0;32m   1291\u001b[0m \u001b[39mif\u001b[39;00m \u001b[39mnot\u001b[39;00m TurtleScreen\u001b[39m.\u001b[39m_RUNNING:\n\u001b[0;32m   1292\u001b[0m     TurtleScreen\u001b[39m.\u001b[39m_RUNNING \u001b[39m=\u001b[39m \u001b[39mTrue\u001b[39;00m\n\u001b[1;32m-> 1293\u001b[0m     \u001b[39mraise\u001b[39;00m Terminator\n\u001b[0;32m   1294\u001b[0m \u001b[39mif\u001b[39;00m \u001b[39mself\u001b[39m\u001b[39m.\u001b[39m_tracing \u001b[39m>\u001b[39m \u001b[39m0\u001b[39m:\n\u001b[0;32m   1295\u001b[0m     \u001b[39mself\u001b[39m\u001b[39m.\u001b[39m_updatecounter \u001b[39m+\u001b[39m\u001b[39m=\u001b[39m \u001b[39m1\u001b[39m\n",
      "\u001b[1;31mTerminator\u001b[0m: "
     ]
    }
   ],
   "source": [
    "from turtle import *\n",
    "speed(10)\n",
    "color('cyan')\n",
    "bgcolor('black')\n",
    "b=200\n",
    "while b>0:\n",
    "    left(b)\n",
    "    forward(b*3)\n",
    "    b=b-1\n",
    "    "
   ]
  },
  {
   "cell_type": "code",
   "execution_count": 7,
   "metadata": {},
   "outputs": [
    {
     "ename": "Terminator",
     "evalue": "",
     "output_type": "error",
     "traceback": [
      "\u001b[1;31m---------------------------------------------------------------------------\u001b[0m",
      "\u001b[1;31mTerminator\u001b[0m                                Traceback (most recent call last)",
      "\u001b[1;32mc:\\Users\\Raju\\Desktop\\new\\WD_4PM_python\\WD_4PM_Pyton4d\\a.ipynb Cell 3\u001b[0m line \u001b[0;36m1\n\u001b[0;32m     <a href='vscode-notebook-cell:/c%3A/Users/Raju/Desktop/new/WD_4PM_python/WD_4PM_Pyton4d/a.ipynb#W0sZmlsZQ%3D%3D?line=12'>13</a>\u001b[0m     goto(hearta(i)\u001b[39m*\u001b[39m\u001b[39m20\u001b[39m,heartb(i)\u001b[39m*\u001b[39m\u001b[39m20\u001b[39m)\n\u001b[0;32m     <a href='vscode-notebook-cell:/c%3A/Users/Raju/Desktop/new/WD_4PM_python/WD_4PM_Pyton4d/a.ipynb#W0sZmlsZQ%3D%3D?line=13'>14</a>\u001b[0m     \u001b[39mfor\u001b[39;00m j \u001b[39min\u001b[39;00m \u001b[39mrange\u001b[39m(\u001b[39m5\u001b[39m):\n\u001b[1;32m---> <a href='vscode-notebook-cell:/c%3A/Users/Raju/Desktop/new/WD_4PM_python/WD_4PM_Pyton4d/a.ipynb#W0sZmlsZQ%3D%3D?line=14'>15</a>\u001b[0m         color(\u001b[39m\"\u001b[39;49m\u001b[39m#f73487\u001b[39;49m\u001b[39m\"\u001b[39;49m)\n\u001b[0;32m     <a href='vscode-notebook-cell:/c%3A/Users/Raju/Desktop/new/WD_4PM_python/WD_4PM_Pyton4d/a.ipynb#W0sZmlsZQ%3D%3D?line=15'>16</a>\u001b[0m     goto(\u001b[39m0\u001b[39m,\u001b[39m0\u001b[39m)\n\u001b[0;32m     <a href='vscode-notebook-cell:/c%3A/Users/Raju/Desktop/new/WD_4PM_python/WD_4PM_Pyton4d/a.ipynb#W0sZmlsZQ%3D%3D?line=16'>17</a>\u001b[0m done()\n",
      "File \u001b[1;32m<string>:5\u001b[0m, in \u001b[0;36mcolor\u001b[1;34m(*args)\u001b[0m\n",
      "\u001b[1;31mTerminator\u001b[0m: "
     ]
    }
   ],
   "source": [
    "import math\n",
    "from turtle import *\n",
    "def hearta(k):\n",
    "    return 15*math.sin(k)**3\n",
    "def heartb(k):\n",
    "    return 12*math.cos(k)-5*\\\n",
    "            math.cos(2*k)-2*\\\n",
    "            math.cos(3*k)-\\\n",
    "            math.cos(4*k)\n",
    "speed(1000)\n",
    "bgcolor(\"black\")\n",
    "for i in range(6000):\n",
    "    goto(hearta(i)*20,heartb(i)*20)\n",
    "    for j in range(5):\n",
    "        color(\"#f73487\")\n",
    "    goto(0,0)\n",
    "done()"
   ]
  },
  {
   "cell_type": "code",
   "execution_count": 1,
   "metadata": {},
   "outputs": [
    {
     "name": "stdout",
     "output_type": "stream",
     "text": [
      "    1\n",
      "   12\n",
      "  123\n",
      " 1234\n",
      "12345\n"
     ]
    }
   ],
   "source": [
    "#     1\n",
    "#    12\n",
    "#   123\n",
    "#  1234\n",
    "# 12345\n",
    "for i in range(1,6):\n",
    "    for j in range(i,5):\n",
    "        print(\" \",end=\"\")\n",
    "    for k in range(i):\n",
    "        print(k+1,end=\"\")\n",
    "    print()"
   ]
  },
  {
   "cell_type": "code",
   "execution_count": 1,
   "metadata": {},
   "outputs": [
    {
     "ename": "ModuleNotFoundError",
     "evalue": "No module named 'pyautogui'",
     "output_type": "error",
     "traceback": [
      "\u001b[1;31m---------------------------------------------------------------------------\u001b[0m",
      "\u001b[1;31mModuleNotFoundError\u001b[0m                       Traceback (most recent call last)",
      "\u001b[1;32mc:\\Users\\Raju\\Desktop\\new\\WD_4PM_python\\WD_4PM_Pyton4d\\a.ipynb Cell 6\u001b[0m line \u001b[0;36m2\n\u001b[0;32m      <a href='vscode-notebook-cell:/c%3A/Users/Raju/Desktop/new/WD_4PM_python/WD_4PM_Pyton4d/a.ipynb#X43sZmlsZQ%3D%3D?line=0'>1</a>\u001b[0m \u001b[39mimport\u001b[39;00m \u001b[39mrandom\u001b[39;00m\n\u001b[1;32m----> <a href='vscode-notebook-cell:/c%3A/Users/Raju/Desktop/new/WD_4PM_python/WD_4PM_Pyton4d/a.ipynb#X43sZmlsZQ%3D%3D?line=1'>2</a>\u001b[0m \u001b[39mimport\u001b[39;00m \u001b[39mpyautogui\u001b[39;00m \u001b[39mas\u001b[39;00m \u001b[39mpg\u001b[39;00m\n\u001b[0;32m      <a href='vscode-notebook-cell:/c%3A/Users/Raju/Desktop/new/WD_4PM_python/WD_4PM_Pyton4d/a.ipynb#X43sZmlsZQ%3D%3D?line=2'>3</a>\u001b[0m \u001b[39mimport\u001b[39;00m \u001b[39mtime\u001b[39;00m\n\u001b[0;32m      <a href='vscode-notebook-cell:/c%3A/Users/Raju/Desktop/new/WD_4PM_python/WD_4PM_Pyton4d/a.ipynb#X43sZmlsZQ%3D%3D?line=3'>4</a>\u001b[0m animal\u001b[39m=\u001b[39m(\u001b[39m'\u001b[39m\u001b[39mmonkey\u001b[39m\u001b[39m'\u001b[39m,\u001b[39m'\u001b[39m\u001b[39mdonkey\u001b[39m\u001b[39m'\u001b[39m,\u001b[39m'\u001b[39m\u001b[39mdog\u001b[39m\u001b[39m'\u001b[39m)\n",
      "\u001b[1;31mModuleNotFoundError\u001b[0m: No module named 'pyautogui'"
     ]
    }
   ],
   "source": [
    "import random\n",
    "import pyautogui as pg\n",
    "import time\n",
    "animal=('monkey','donkey','dog')\n",
    "time.sleep(8)\n",
    "for i in range(100):\n",
    "    a=random.choice(animal)\n",
    "    pg.write(\"you are a\"+a)\n",
    "    pg.press(\"enter\")\n",
    "    "
   ]
  },
  {
   "cell_type": "code",
   "execution_count": 2,
   "metadata": {},
   "outputs": [
    {
     "name": "stdout",
     "output_type": "stream",
     "text": [
      " *** \n",
      "*   *\n",
      "*   *\n",
      "*****\n",
      "*   *\n",
      "*   *\n",
      "*   *\n"
     ]
    }
   ],
   "source": [
    "for row in range(7):\n",
    "    for col in range(5):\n",
    "        if ((col==0 or col==4) and row!=0) or ((row==0 or row==3) and (col>0 and col<4)):\n",
    "            print(\"*\",end=\"\")\n",
    "        else:\n",
    "            print(end=\" \")\n",
    "    print()"
   ]
  },
  {
   "cell_type": "code",
   "execution_count": 1,
   "metadata": {},
   "outputs": [
    {
     "name": "stdout",
     "output_type": "stream",
     "text": [
      "*****\n",
      "*   *\n",
      "*   *\n",
      "*****\n",
      "*   *\n",
      "*   *\n",
      "*   *\n"
     ]
    }
   ],
   "source": [
    "for row in range(7):\n",
    "    for col in range(5):\n",
    "        if (col==0 or col==4) or ((row==0 or row==3) and (col>0 and col<4)):\n",
    "            print(\"*\",end=\"\")\n",
    "        else:\n",
    "            print(end=\" \")\n",
    "    print()"
   ]
  },
  {
   "cell_type": "markdown",
   "metadata": {},
   "source": [
    "* * * * * \n",
    "*         *\n",
    "*        *\n",
    "* * * * * \n",
    "*         *\n",
    "*        *\n",
    "* * * * *"
   ]
  },
  {
   "cell_type": "code",
   "execution_count": 6,
   "metadata": {},
   "outputs": [
    {
     "name": "stdout",
     "output_type": "stream",
     "text": [
      "*****\n",
      "*   *\n",
      "*   *\n",
      "*****\n",
      "*   *\n",
      "*   *\n",
      "*****\n"
     ]
    }
   ],
   "source": [
    "for row in range(7):\n",
    "    for col in range(5):\n",
    "        if (col==0 or col==4) or ((row==0 or row==3) or row==6 and (col>0 and col<4)):\n",
    "            print(\"*\",end=\"\")\n",
    "        else:\n",
    "            print(end=\" \")\n",
    "    print()"
   ]
  },
  {
   "cell_type": "code",
   "execution_count": 9,
   "metadata": {},
   "outputs": [
    {
     "name": "stdout",
     "output_type": "stream",
     "text": [
      "**** \n",
      "*   *\n",
      "*   *\n",
      "**** \n",
      "*   *\n",
      "*   *\n",
      "**** \n"
     ]
    }
   ],
   "source": [
    "for row in range(7):\n",
    "    for col in range(5):\n",
    "        if (col==0) or (col==4 and (row!=0 and row!=3 and row!=6)) or ((row==0 or row==3 or row==6) and (col>0 and col<4)):\n",
    "            print(\"*\",end=\"\")\n",
    "        else:\n",
    "            print(end=\" \")\n",
    "    print()"
   ]
  },
  {
   "cell_type": "code",
   "execution_count": 18,
   "metadata": {},
   "outputs": [
    {
     "name": "stdout",
     "output_type": "stream",
     "text": [
      "* * * * * * * \n",
      "* \n",
      "* \n",
      "* \n",
      "* \n",
      "* \n",
      "* * * * * * * \n"
     ]
    }
   ],
   "source": [
    "for row in range(7):\n",
    "    for col in range(7):\n",
    "        if (col==0) or ((row==0 or row==6) and (col>0)):\n",
    "            print(\"*\",end=\" \")\n",
    "    print()"
   ]
  },
  {
   "cell_type": "code",
   "execution_count": 19,
   "metadata": {},
   "outputs": [
    {
     "name": "stdout",
     "output_type": "stream",
     "text": [
      "*******\n",
      "*\n",
      "*\n",
      "*\n",
      "*\n",
      "*\n",
      "*******\n"
     ]
    }
   ],
   "source": [
    "for row in range(7):\n",
    "    for col in range(7):\n",
    "        if (col==0) or ((row==0 or row==6) and (col>0)):\n",
    "            print(\"*\",end=\"\")\n",
    "    print()"
   ]
  },
  {
   "cell_type": "code",
   "execution_count": 28,
   "metadata": {},
   "outputs": [
    {
     "name": "stdout",
     "output_type": "stream",
     "text": [
      " * * * * \n",
      "*     \n",
      "*     \n",
      "*     \n",
      "*     \n",
      "*     \n",
      " * * * * \n"
     ]
    }
   ],
   "source": [
    "for row in range(7):\n",
    "    for col in range(5):\n",
    "        if (col==0 and (row!=0 and row!=6)) or ((row==0 or row==6) and (col>0)):\n",
    "            print(\"*\",end=\" \")\n",
    "        else:\n",
    "            print(end=\" \")\n",
    "    print()"
   ]
  },
  {
   "cell_type": "code",
   "execution_count": 1,
   "metadata": {},
   "outputs": [
    {
     "name": "stdout",
     "output_type": "stream",
     "text": [
      "*    * **** \n",
      "**   **    *\n",
      "* *  **    *\n",
      "*  * **    *\n",
      "*   ***    *\n",
      "*    * **** \n"
     ]
    }
   ],
   "source": [
    "print_N=[[\" \" for i in range(6)] for j in range(6)]\n",
    "print_o=[[\" \" for i in range(6)] for j in range(6)]\n",
    "for row in range(6):\n",
    "    for col in range(6):\n",
    "        if (col==0 or col==5 or row==col):\n",
    "            print_N[row][col]=\"*\"\n",
    "for row in range(6):\n",
    "    for col in range(6):\n",
    "        if ((row==0 or row==5) and (col!=0 and col!=5)) or (col==0 or col==5) and (row!=0 and row!=5):\n",
    "            print_o[row][col]=\"*\"     \n",
    "\n",
    "for i in range(6):\n",
    "    for j in range(6):\n",
    "        print(print_N[i][j],end=\"\")\n",
    "    for j in range(6):\n",
    "        print(print_o[i][j],end=\"\")\n",
    "    print()     "
   ]
  },
  {
   "cell_type": "code",
   "execution_count": 2,
   "metadata": {},
   "outputs": [
    {
     "name": "stdout",
     "output_type": "stream",
     "text": [
      "*         *     * * * *   \n",
      "* *       *   *         * \n",
      "*   *     *   *         * \n",
      "*     *   *   *         * \n",
      "*       * *   *         * \n",
      "*         *     * * * *   \n"
     ]
    }
   ],
   "source": [
    "print_N=[[\" \" for i in range(6)] for j in range(6)]\n",
    "print_o=[[\" \" for i in range(6)] for j in range(6)]\n",
    "for row in range(6):\n",
    "    for col in range(6):\n",
    "        if (col==0 or col==5 or row==col):\n",
    "            print_N[row][col]=\"*\"\n",
    "for row in range(6):\n",
    "    for col in range(6):\n",
    "        if ((row==0 or row==5) and (col!=0 and col!=5)) or (col==0 or col==5) and (row!=0 and row!=5):\n",
    "            print_o[row][col]=\"*\"     \n",
    "\n",
    "for i in range(6):\n",
    "    for j in range(6):\n",
    "        print(print_N[i][j],end=\" \")\n",
    "    print(end=\"  \")\n",
    "    for j in range(6):\n",
    "        print(print_o[i][j],end=\" \")\n",
    "    print()     "
   ]
  },
  {
   "cell_type": "code",
   "execution_count": 18,
   "metadata": {},
   "outputs": [
    {
     "name": "stdout",
     "output_type": "stream",
     "text": [
      "* * * *     * * * * *  * * * * *   *       *   \n",
      "*       *   *       *      *       *       *   \n",
      "*       *   *       *      *       *       *   \n",
      "* * * *     * * * * *      *       *       *   \n",
      "*       *   *       *      *       *       *   \n",
      "*       *   *       *  * * *         * * *     \n"
     ]
    }
   ],
   "source": [
    "print_R=[[\" \" for i in range(5)] for j in range(6)]\n",
    "print_A=[[\" \" for i in range(5)] for j in range(6)]\n",
    "print_J=[[\" \" for i in range(5)] for j in range(6)]\n",
    "print_U=[[\" \" for i in range(5)] for j in range(6)]\n",
    "for row in range(6):\n",
    "    for col in range(5):\n",
    "        if col==0 or (col==4 and (row!=0 and row!=3)) or ((row==0 or row==3 ) and (col>0 and col<4)):\n",
    "            print_R[row][col]=\"*\"\n",
    "for row in range(6):\n",
    "    for col in range(5):\n",
    "        if (col==0 or col==4) or ((row==0 or row==3) and (col>0 and col<4)):\n",
    "            print_A[row][col]=\"*\"   \n",
    "for row in range(6):\n",
    "    for col in range(5):\n",
    "        if col==2 or (row==0 and col!=2) or (row==5 and col<2 ):\n",
    "            print_J[row][col]=\"*\"\n",
    "for row in range(6):\n",
    "    for col in range(5):\n",
    "        if ((col==0 or col==4) and row!=5) or (row==5 and (col>0 and col<4)):\n",
    "            print_U[row][col]=\"*\"\n",
    "for i in range(6):\n",
    "    for j in range(5):\n",
    "        print(print_R[i][j],end=\" \")\n",
    "    print(end=\"  \")\n",
    "    for j in range(5):\n",
    "        print(print_A[i][j],end=\" \")\n",
    "    print(end=\" \")\n",
    "    for j in range(5):\n",
    "        print(print_J[i][j],end=\" \")\n",
    "    print(end=\"  \")\n",
    "    for j in range(5):\n",
    "        print(print_U[i][j],end=\" \")\n",
    "    print(end=\"  \")\n",
    "    print()     "
   ]
  },
  {
   "cell_type": "code",
   "execution_count": 30,
   "metadata": {},
   "outputs": [
    {
     "name": "stdout",
     "output_type": "stream",
     "text": [
      "*       *   * * * * *  * * * *     * * * *     * * * * *   * * * * *   * * * * *   *       *   * * * * *   \n",
      "*       *       *      *       *   *       *   *       *       *           *       * *     *   *       *   \n",
      "*       *       *      *       *   *       *   *       *       *           *       *   * * *   *       *   \n",
      "* * * * *       *      * * * *     * * * *     * * * * *       *           *       *       *   * * * * *   \n",
      "*       *       *      *           *       *   *       *       *           *       *       *   *       *   \n",
      "*       *       *      *           *       *   *       *       *           *       *       *   *       *   \n"
     ]
    }
   ],
   "source": [
    "print_H=[[\" \" for i in range(5)] for j in range(6)]\n",
    "print_I=[[\" \" for i in range(5)] for j in range(6)]\n",
    "print_P=[[\" \" for i in range(5)] for j in range(6)]\n",
    "print_R=[[\" \" for i in range(5)] for j in range(6)]\n",
    "print_A=[[\" \" for i in range(5)] for j in range(6)]\n",
    "print_T=[[\" \" for i in range(5)] for j in range(6)]\n",
    "print_I=[[\" \" for i in range(5)] for j in range(6)]\n",
    "print_M=[[\" \" for i in range(5)] for j in range(6)]\n",
    "print_A=[[\" \" for i in range(5)] for j in range(6)]\n",
    "\n",
    "for row in range(6):\n",
    "    for col in range(5):\n",
    "        if col==0 or col==4 or (row==3 and (col>0 and col<4)):\n",
    "            print_H[row][col]=\"*\"\n",
    "for row in range(6):\n",
    "    for col in range(5):\n",
    "        if col==2 or ((row==0 or row==6) and col!=2):\n",
    "            print_I[row][col]=\"*\"   \n",
    "for row in range(6):\n",
    "    for col in range(5):\n",
    "        if col==0 or (col==4 and (row==1 or row==2)) or ((row==0 or row==3) and (col>0 and col<4)):\n",
    "            print_P[row][col]=\"*\"\n",
    "for row in range(6):\n",
    "    for col in range(5):\n",
    "        if col==0 or (col==4 and (row!=0 and row!=3)) or ((row==0 or row==3 ) and (col>0 and col<4)):\n",
    "            print_R[row][col]=\"*\"\n",
    "for row in range(6):\n",
    "    for col in range(5):\n",
    "        if (col==0 or col==4) or ((row==0 or row==3) and (col>0 and col<4)):\n",
    "            print_A[row][col]=\"*\"   \n",
    "for row in range(6):\n",
    "    for col in range(5):\n",
    "        if col==2 or (row==0 and col!=2):\n",
    "            print_T[row][col]=\"*\"\n",
    "for row in range(6):\n",
    "    for col in range(5):\n",
    "        if col==2 or ((row==0 or row==6) and col!=2):\n",
    "            print_I[row][col]=\"*\" \n",
    "for row in range(6):\n",
    "    for col in range(5):\n",
    "        if col==0 or col==4 or ((row==col) and (col>0 and col<3)) or (row==1 and col==4) or (row==2 and col==3):\n",
    "            print_M[row][col]=\"*\"\n",
    "for row in range(6):\n",
    "    for col in range(5):\n",
    "        if (col==0 or col==4) or ((row==0 or row==3) and (col>0 and col<4)):\n",
    "            print_A[row][col]=\"*\"   \n",
    "for i in range(6):\n",
    "    for j in range(5):\n",
    "        print(print_H[i][j],end=\" \")\n",
    "    print(end=\"  \")\n",
    "    for j in range(5):\n",
    "        print(print_I[i][j],end=\" \")\n",
    "    print(end=\" \")\n",
    "    for j in range(5):\n",
    "        print(print_P[i][j],end=\" \")\n",
    "    print(end=\"  \")\n",
    "    for j in range(5):\n",
    "        print(print_R[i][j],end=\" \")\n",
    "    print(end=\"  \")\n",
    "    for j in range(5):\n",
    "        print(print_A[i][j],end=\" \")\n",
    "    print(end=\"  \")\n",
    "    for j in range(5):\n",
    "        print(print_T[i][j],end=\" \")\n",
    "    print(end=\"  \")\n",
    "    for j in range(5):\n",
    "        print(print_I[i][j],end=\" \")\n",
    "    print(end=\"  \")\n",
    "    for j in range(5):\n",
    "        print(print_M[i][j],end=\" \")\n",
    "    print(end=\"  \")\n",
    "    for j in range(5):\n",
    "        print(print_A[i][j],end=\" \")\n",
    "    print(end=\"  \")\n",
    "    print()     "
   ]
  },
  {
   "cell_type": "markdown",
   "metadata": {},
   "source": [
    "HI PRATIMA"
   ]
  },
  {
   "cell_type": "code",
   "execution_count": 19,
   "metadata": {},
   "outputs": [
    {
     "name": "stdout",
     "output_type": "stream",
     "text": [
      "*   *\n",
      "*   *\n",
      "*   *\n",
      "*****\n",
      "*   *\n",
      "*   *\n",
      "*   *\n"
     ]
    }
   ],
   "source": [
    "for row in range(7):\n",
    "    for col in range(5):\n",
    "        if col==0 or col==4 or (row==3 and (col>0 and col<4)):\n",
    "            print(\"*\",end=\"\")\n",
    "        else:\n",
    "            print(end=\" \")\n",
    "    print()"
   ]
  },
  {
   "cell_type": "code",
   "execution_count": 20,
   "metadata": {},
   "outputs": [
    {
     "name": "stdout",
     "output_type": "stream",
     "text": [
      "*****\n",
      "  *  \n",
      "  *  \n",
      "  *  \n",
      "  *  \n",
      "  *  \n",
      "*****\n"
     ]
    }
   ],
   "source": [
    "for row in range(7):\n",
    "    for col in range(5):\n",
    "        if col==2 or ((row==0 or row==6) and col!=2):\n",
    "            print(\"*\",end=\"\")\n",
    "        else:\n",
    "            print(end=\" \")\n",
    "    print()"
   ]
  },
  {
   "cell_type": "code",
   "execution_count": 22,
   "metadata": {},
   "outputs": [
    {
     "name": "stdout",
     "output_type": "stream",
     "text": [
      "**** \n",
      "*   *\n",
      "*   *\n",
      "**** \n",
      "*    \n",
      "*    \n",
      "*    \n"
     ]
    }
   ],
   "source": [
    "for row in range(7):\n",
    "    for col in range(5):\n",
    "        if col==0 or (col==4 and (row==1 or row==2)) or ((row==0 or row==3) and (col>0 and col<4)):\n",
    "            print(\"*\",end=\"\")\n",
    "        else:\n",
    "            print(end=\" \")\n",
    "    print()"
   ]
  },
  {
   "cell_type": "code",
   "execution_count": 23,
   "metadata": {},
   "outputs": [
    {
     "name": "stdout",
     "output_type": "stream",
     "text": [
      "*****\n",
      "  *  \n",
      "  *  \n",
      "  *  \n",
      "  *  \n",
      "  *  \n",
      "  *  \n"
     ]
    }
   ],
   "source": [
    "for row in range(7):\n",
    "    for col in range(5):\n",
    "        if col==2 or (row==0 and col!=2):\n",
    "            print(\"*\",end=\"\")\n",
    "        else:\n",
    "            print(end=\" \")\n",
    "    print()"
   ]
  },
  {
   "cell_type": "code",
   "execution_count": 26,
   "metadata": {},
   "outputs": [
    {
     "name": "stdout",
     "output_type": "stream",
     "text": [
      "*     *\n",
      "**   **\n",
      "* * * *\n",
      "*  *  *\n",
      "*     *\n",
      "*     *\n",
      "*     *\n"
     ]
    }
   ],
   "source": [
    "for row in range(7):\n",
    "    for col in range(7):\n",
    "        if col==0 or col==6 or ((row==col) and (col>0 and col<4)) or (row==1 and col==5) or (row==2 and col==4):\n",
    "            print(\"*\",end=\"\")\n",
    "        else:\n",
    "            print(end=\" \")\n",
    "    print()"
   ]
  },
  {
   "cell_type": "code",
   "execution_count": null,
   "metadata": {},
   "outputs": [],
   "source": []
  },
  {
   "cell_type": "code",
   "execution_count": null,
   "metadata": {},
   "outputs": [],
   "source": []
  },
  {
   "cell_type": "code",
   "execution_count": null,
   "metadata": {},
   "outputs": [],
   "source": []
  },
  {
   "cell_type": "code",
   "execution_count": 7,
   "metadata": {},
   "outputs": [],
   "source": [
    "print_u=[[\" \" for i in range(5)] for j in range(6)]\n",
    "for row in range(6):\n",
    "    for col in range(5):\n",
    "        if ((col==0 or col==4) and row!=5) or (row==5 and (col!=0 and col!=4)):\n",
    "            print_u[row][col]=\"*\""
   ]
  },
  {
   "cell_type": "code",
   "execution_count": 12,
   "metadata": {},
   "outputs": [
    {
     "name": "stdout",
     "output_type": "stream",
     "text": [
      "*   *\n",
      "*   *\n",
      "*   *\n",
      "*   *\n",
      "*   *\n",
      "*   *\n",
      " *** \n"
     ]
    }
   ],
   "source": [
    "for row in range(7):\n",
    "    for col in range(5):\n",
    "        if ((col==0 or col==4) and row!=6) or (row==6 and (col>0 and col<4)):\n",
    "            print(\"*\",end=\"\")\n",
    "        else:\n",
    "            print(end=\" \")\n",
    "    print()"
   ]
  },
  {
   "cell_type": "code",
   "execution_count": 13,
   "metadata": {},
   "outputs": [
    {
     "name": "stdout",
     "output_type": "stream",
     "text": [
      "*****\n",
      "  *  \n",
      "  *  \n",
      "  *  \n",
      "  *  \n",
      "  *  \n",
      "***  \n"
     ]
    }
   ],
   "source": [
    "for row in range(7):\n",
    "    for col in range(5):\n",
    "        if col==2 or (row==0 and col!=2) or (row==6 and col<2 ):\n",
    "            print(\"*\",end=\"\")\n",
    "        else:\n",
    "            print(end=\" \")\n",
    "    print()"
   ]
  },
  {
   "cell_type": "code",
   "execution_count": 16,
   "metadata": {},
   "outputs": [
    {
     "name": "stdout",
     "output_type": "stream",
     "text": [
      "**** \n",
      "*   *\n",
      "*   *\n",
      "**** \n",
      "*   *\n",
      "*   *\n",
      "*   *\n"
     ]
    }
   ],
   "source": [
    "for row in range(7):\n",
    "    for col in range(5):\n",
    "        if col==0 or (col==4 and (row!=0 and row!=3)) or ((row==0 or row==3 ) and (col>0 and col<4)):\n",
    "            print(\"*\",end=\"\")\n",
    "        else:\n",
    "            print(end=\" \")\n",
    "    print()"
   ]
  },
  {
   "cell_type": "code",
   "execution_count": null,
   "metadata": {},
   "outputs": [],
   "source": []
  }
 ],
 "metadata": {
  "kernelspec": {
   "display_name": "Python 3",
   "language": "python",
   "name": "python3"
  },
  "language_info": {
   "codemirror_mode": {
    "name": "ipython",
    "version": 3
   },
   "file_extension": ".py",
   "mimetype": "text/x-python",
   "name": "python",
   "nbconvert_exporter": "python",
   "pygments_lexer": "ipython3",
   "version": "3.11.3"
  },
  "orig_nbformat": 4
 },
 "nbformat": 4,
 "nbformat_minor": 2
}
